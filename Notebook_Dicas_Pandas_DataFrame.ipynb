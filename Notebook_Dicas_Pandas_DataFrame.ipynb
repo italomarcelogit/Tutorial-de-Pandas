{
  "nbformat": 4,
  "nbformat_minor": 0,
  "metadata": {
    "colab": {
      "name": "Notebook - Dicas  - Pandas DataFrame",
      "provenance": [],
      "collapsed_sections": [
        "IHGKyjkC6LGF",
        "UH664vzvIy4d",
        "EczJ05_cSHkA"
      ],
      "toc_visible": true,
      "authorship_tag": "ABX9TyMAL9kIG03fIabuvXTnMnoJ",
      "include_colab_link": true
    },
    "kernelspec": {
      "name": "python3",
      "display_name": "Python 3"
    },
    "language_info": {
      "name": "python"
    }
  },
  "cells": [
    {
      "cell_type": "markdown",
      "metadata": {
        "id": "view-in-github",
        "colab_type": "text"
      },
      "source": [
        "<a href=\"https://colab.research.google.com/github/italomarcelogit/python-dicas-pandas/blob/main/Notebook_Dicas_Pandas_DataFrame.ipynb\" target=\"_parent\"><img src=\"https://colab.research.google.com/assets/colab-badge.svg\" alt=\"Open In Colab\"/></a>"
      ]
    },
    {
      "cell_type": "markdown",
      "metadata": {
        "id": "IHGKyjkC6LGF"
      },
      "source": [
        "# **Dicas sobre como utilizar DataFrames no Pandas**\n",
        "DataFrame é uma estrutura parecida com uma matriz, sendo que suas colunas ou linhas podem receber seus nomes e conter dados com tipos diferentes.\n",
        "Fazendo uma analogia bem simples, imagine uma planilha onde cada linha equivale a um registro e cada coluna, seus atributos. Mas acredite, um DataFrame pode ser muito mais do que somente um ***Tidy Data*** ou matriz de dados.\n",
        "\n",
        "O objetivo deste file é somente compartilhar com vocês, comandos muito úteis e populares no dia a dia de uma analista de dados.\n",
        "\n",
        "Aqui você encontrará tudo sobre o Pandas http://pandas.pydata.org**, não somente sobre DataFrame mas Series e outros ricos recursos que o Pandas pode nos proporcionar."
      ]
    },
    {
      "cell_type": "markdown",
      "metadata": {
        "id": "oLOxplBX698P"
      },
      "source": [
        "# **Criar um dataframe**\n",
        "\n",
        "Podemos criar um dataframe de várias maneiras, de acordo com a necessidade e criativade do desenvolvedor. De forma simples, vamos construí-lo manualmente conforme os exemplos abaixo:"
      ]
    },
    {
      "cell_type": "code",
      "metadata": {
        "id": "aUVT0SAA53n0"
      },
      "source": [
        "# importando a lib do Pandas\n",
        "import pandas as pd"
      ],
      "execution_count": 1,
      "outputs": []
    },
    {
      "cell_type": "markdown",
      "metadata": {
        "id": "f9hvZq0mSzYG"
      },
      "source": [
        "**Manualmente**"
      ]
    },
    {
      "cell_type": "code",
      "metadata": {
        "colab": {
          "base_uri": "https://localhost:8080/",
          "height": 204
        },
        "id": "l2Oge4ey7-hb",
        "outputId": "26b2dc85-e077-49fa-e89e-88a7c2d086cf"
      },
      "source": [
        "# diretamente\n",
        "df = pd.DataFrame(\n",
        "    {\n",
        "     \"Coluna 1\": [1, 2, 3, 4, 5], \n",
        "     \"Coluna 2\": ['A', 'B', 'C','D', 'E']\n",
        "    }\n",
        ")\n",
        "df"
      ],
      "execution_count": 2,
      "outputs": [
        {
          "output_type": "execute_result",
          "data": {
            "text/html": [
              "<div>\n",
              "<style scoped>\n",
              "    .dataframe tbody tr th:only-of-type {\n",
              "        vertical-align: middle;\n",
              "    }\n",
              "\n",
              "    .dataframe tbody tr th {\n",
              "        vertical-align: top;\n",
              "    }\n",
              "\n",
              "    .dataframe thead th {\n",
              "        text-align: right;\n",
              "    }\n",
              "</style>\n",
              "<table border=\"1\" class=\"dataframe\">\n",
              "  <thead>\n",
              "    <tr style=\"text-align: right;\">\n",
              "      <th></th>\n",
              "      <th>Coluna 1</th>\n",
              "      <th>Coluna 2</th>\n",
              "    </tr>\n",
              "  </thead>\n",
              "  <tbody>\n",
              "    <tr>\n",
              "      <th>0</th>\n",
              "      <td>1</td>\n",
              "      <td>A</td>\n",
              "    </tr>\n",
              "    <tr>\n",
              "      <th>1</th>\n",
              "      <td>2</td>\n",
              "      <td>B</td>\n",
              "    </tr>\n",
              "    <tr>\n",
              "      <th>2</th>\n",
              "      <td>3</td>\n",
              "      <td>C</td>\n",
              "    </tr>\n",
              "    <tr>\n",
              "      <th>3</th>\n",
              "      <td>4</td>\n",
              "      <td>D</td>\n",
              "    </tr>\n",
              "    <tr>\n",
              "      <th>4</th>\n",
              "      <td>5</td>\n",
              "      <td>E</td>\n",
              "    </tr>\n",
              "  </tbody>\n",
              "</table>\n",
              "</div>"
            ],
            "text/plain": [
              "   Coluna 1 Coluna 2\n",
              "0         1        A\n",
              "1         2        B\n",
              "2         3        C\n",
              "3         4        D\n",
              "4         5        E"
            ]
          },
          "metadata": {
            "tags": []
          },
          "execution_count": 2
        }
      ]
    },
    {
      "cell_type": "code",
      "metadata": {
        "colab": {
          "base_uri": "https://localhost:8080/",
          "height": 204
        },
        "id": "LVH5geY18FND",
        "outputId": "34cd61e7-7a24-42ac-b118-7c284d9d5083"
      },
      "source": [
        "# primeiro foi criado um dicionario\n",
        "# depois na criação do dataframe, foi passado o dicionário como parâmetro\n",
        "dicionario = {\n",
        "     \"Coluna 1\": [1, 2, 3, 4, 5], \n",
        "     \"Coluna 2\": ['A', 'B', 'C','D', 'E']   \n",
        "}\n",
        "df = pd.DataFrame(dicionario)\n",
        "df"
      ],
      "execution_count": 3,
      "outputs": [
        {
          "output_type": "execute_result",
          "data": {
            "text/html": [
              "<div>\n",
              "<style scoped>\n",
              "    .dataframe tbody tr th:only-of-type {\n",
              "        vertical-align: middle;\n",
              "    }\n",
              "\n",
              "    .dataframe tbody tr th {\n",
              "        vertical-align: top;\n",
              "    }\n",
              "\n",
              "    .dataframe thead th {\n",
              "        text-align: right;\n",
              "    }\n",
              "</style>\n",
              "<table border=\"1\" class=\"dataframe\">\n",
              "  <thead>\n",
              "    <tr style=\"text-align: right;\">\n",
              "      <th></th>\n",
              "      <th>Coluna 1</th>\n",
              "      <th>Coluna 2</th>\n",
              "    </tr>\n",
              "  </thead>\n",
              "  <tbody>\n",
              "    <tr>\n",
              "      <th>0</th>\n",
              "      <td>1</td>\n",
              "      <td>A</td>\n",
              "    </tr>\n",
              "    <tr>\n",
              "      <th>1</th>\n",
              "      <td>2</td>\n",
              "      <td>B</td>\n",
              "    </tr>\n",
              "    <tr>\n",
              "      <th>2</th>\n",
              "      <td>3</td>\n",
              "      <td>C</td>\n",
              "    </tr>\n",
              "    <tr>\n",
              "      <th>3</th>\n",
              "      <td>4</td>\n",
              "      <td>D</td>\n",
              "    </tr>\n",
              "    <tr>\n",
              "      <th>4</th>\n",
              "      <td>5</td>\n",
              "      <td>E</td>\n",
              "    </tr>\n",
              "  </tbody>\n",
              "</table>\n",
              "</div>"
            ],
            "text/plain": [
              "   Coluna 1 Coluna 2\n",
              "0         1        A\n",
              "1         2        B\n",
              "2         3        C\n",
              "3         4        D\n",
              "4         5        E"
            ]
          },
          "metadata": {
            "tags": []
          },
          "execution_count": 3
        }
      ]
    },
    {
      "cell_type": "code",
      "metadata": {
        "colab": {
          "base_uri": "https://localhost:8080/",
          "height": 204
        },
        "id": "ITvcYZbw8_GC",
        "outputId": "e1303179-be40-4889-a5bd-8fb6db03420f"
      },
      "source": [
        "# e uma outra maneira é criar o dataframe vazio\n",
        "# e ir adicionando colunas e seus valores\n",
        "df = pd.DataFrame()\n",
        "df['Coluna 1'] = range(1, 6) # array de 1 a 5\n",
        "df['Coluna 2'] = list('ABCDE') # array de A a E\n",
        "df"
      ],
      "execution_count": 4,
      "outputs": [
        {
          "output_type": "execute_result",
          "data": {
            "text/html": [
              "<div>\n",
              "<style scoped>\n",
              "    .dataframe tbody tr th:only-of-type {\n",
              "        vertical-align: middle;\n",
              "    }\n",
              "\n",
              "    .dataframe tbody tr th {\n",
              "        vertical-align: top;\n",
              "    }\n",
              "\n",
              "    .dataframe thead th {\n",
              "        text-align: right;\n",
              "    }\n",
              "</style>\n",
              "<table border=\"1\" class=\"dataframe\">\n",
              "  <thead>\n",
              "    <tr style=\"text-align: right;\">\n",
              "      <th></th>\n",
              "      <th>Coluna 1</th>\n",
              "      <th>Coluna 2</th>\n",
              "    </tr>\n",
              "  </thead>\n",
              "  <tbody>\n",
              "    <tr>\n",
              "      <th>0</th>\n",
              "      <td>1</td>\n",
              "      <td>A</td>\n",
              "    </tr>\n",
              "    <tr>\n",
              "      <th>1</th>\n",
              "      <td>2</td>\n",
              "      <td>B</td>\n",
              "    </tr>\n",
              "    <tr>\n",
              "      <th>2</th>\n",
              "      <td>3</td>\n",
              "      <td>C</td>\n",
              "    </tr>\n",
              "    <tr>\n",
              "      <th>3</th>\n",
              "      <td>4</td>\n",
              "      <td>D</td>\n",
              "    </tr>\n",
              "    <tr>\n",
              "      <th>4</th>\n",
              "      <td>5</td>\n",
              "      <td>E</td>\n",
              "    </tr>\n",
              "  </tbody>\n",
              "</table>\n",
              "</div>"
            ],
            "text/plain": [
              "   Coluna 1 Coluna 2\n",
              "0         1        A\n",
              "1         2        B\n",
              "2         3        C\n",
              "3         4        D\n",
              "4         5        E"
            ]
          },
          "metadata": {
            "tags": []
          },
          "execution_count": 4
        }
      ]
    },
    {
      "cell_type": "markdown",
      "metadata": {
        "id": "hiGXfQdITARy"
      },
      "source": [
        "**Inserir uma nova linha no dataframe**"
      ]
    },
    {
      "cell_type": "code",
      "metadata": {
        "colab": {
          "base_uri": "https://localhost:8080/",
          "height": 235
        },
        "id": "WcBivgEFS-ew",
        "outputId": "056043ce-851d-48b3-849c-a65bf61e8b1f"
      },
      "source": [
        "df = df.append({'Coluna 1': 6, 'Coluna 2': \"f\"}, ignore_index=True)\n",
        "df"
      ],
      "execution_count": 5,
      "outputs": [
        {
          "output_type": "execute_result",
          "data": {
            "text/html": [
              "<div>\n",
              "<style scoped>\n",
              "    .dataframe tbody tr th:only-of-type {\n",
              "        vertical-align: middle;\n",
              "    }\n",
              "\n",
              "    .dataframe tbody tr th {\n",
              "        vertical-align: top;\n",
              "    }\n",
              "\n",
              "    .dataframe thead th {\n",
              "        text-align: right;\n",
              "    }\n",
              "</style>\n",
              "<table border=\"1\" class=\"dataframe\">\n",
              "  <thead>\n",
              "    <tr style=\"text-align: right;\">\n",
              "      <th></th>\n",
              "      <th>Coluna 1</th>\n",
              "      <th>Coluna 2</th>\n",
              "    </tr>\n",
              "  </thead>\n",
              "  <tbody>\n",
              "    <tr>\n",
              "      <th>0</th>\n",
              "      <td>1</td>\n",
              "      <td>A</td>\n",
              "    </tr>\n",
              "    <tr>\n",
              "      <th>1</th>\n",
              "      <td>2</td>\n",
              "      <td>B</td>\n",
              "    </tr>\n",
              "    <tr>\n",
              "      <th>2</th>\n",
              "      <td>3</td>\n",
              "      <td>C</td>\n",
              "    </tr>\n",
              "    <tr>\n",
              "      <th>3</th>\n",
              "      <td>4</td>\n",
              "      <td>D</td>\n",
              "    </tr>\n",
              "    <tr>\n",
              "      <th>4</th>\n",
              "      <td>5</td>\n",
              "      <td>E</td>\n",
              "    </tr>\n",
              "    <tr>\n",
              "      <th>5</th>\n",
              "      <td>6</td>\n",
              "      <td>f</td>\n",
              "    </tr>\n",
              "  </tbody>\n",
              "</table>\n",
              "</div>"
            ],
            "text/plain": [
              "   Coluna 1 Coluna 2\n",
              "0         1        A\n",
              "1         2        B\n",
              "2         3        C\n",
              "3         4        D\n",
              "4         5        E\n",
              "5         6        f"
            ]
          },
          "metadata": {
            "tags": []
          },
          "execution_count": 5
        }
      ]
    },
    {
      "cell_type": "markdown",
      "metadata": {
        "id": "EWp2idTiUPbI"
      },
      "source": [
        "**Alterar uma linha**"
      ]
    },
    {
      "cell_type": "code",
      "metadata": {
        "colab": {
          "base_uri": "https://localhost:8080/",
          "height": 235
        },
        "id": "UTxCvlUHUOgg",
        "outputId": "521874d2-8f5f-4b60-98b9-71994ae7e9b0"
      },
      "source": [
        "# vamos alterar o valor da linha 5 e Coluna 2, de f para F\n",
        "df.loc[5, 'Coluna 2'] = 'F'\n",
        "df"
      ],
      "execution_count": 6,
      "outputs": [
        {
          "output_type": "execute_result",
          "data": {
            "text/html": [
              "<div>\n",
              "<style scoped>\n",
              "    .dataframe tbody tr th:only-of-type {\n",
              "        vertical-align: middle;\n",
              "    }\n",
              "\n",
              "    .dataframe tbody tr th {\n",
              "        vertical-align: top;\n",
              "    }\n",
              "\n",
              "    .dataframe thead th {\n",
              "        text-align: right;\n",
              "    }\n",
              "</style>\n",
              "<table border=\"1\" class=\"dataframe\">\n",
              "  <thead>\n",
              "    <tr style=\"text-align: right;\">\n",
              "      <th></th>\n",
              "      <th>Coluna 1</th>\n",
              "      <th>Coluna 2</th>\n",
              "    </tr>\n",
              "  </thead>\n",
              "  <tbody>\n",
              "    <tr>\n",
              "      <th>0</th>\n",
              "      <td>1</td>\n",
              "      <td>A</td>\n",
              "    </tr>\n",
              "    <tr>\n",
              "      <th>1</th>\n",
              "      <td>2</td>\n",
              "      <td>B</td>\n",
              "    </tr>\n",
              "    <tr>\n",
              "      <th>2</th>\n",
              "      <td>3</td>\n",
              "      <td>C</td>\n",
              "    </tr>\n",
              "    <tr>\n",
              "      <th>3</th>\n",
              "      <td>4</td>\n",
              "      <td>D</td>\n",
              "    </tr>\n",
              "    <tr>\n",
              "      <th>4</th>\n",
              "      <td>5</td>\n",
              "      <td>E</td>\n",
              "    </tr>\n",
              "    <tr>\n",
              "      <th>5</th>\n",
              "      <td>6</td>\n",
              "      <td>F</td>\n",
              "    </tr>\n",
              "  </tbody>\n",
              "</table>\n",
              "</div>"
            ],
            "text/plain": [
              "   Coluna 1 Coluna 2\n",
              "0         1        A\n",
              "1         2        B\n",
              "2         3        C\n",
              "3         4        D\n",
              "4         5        E\n",
              "5         6        F"
            ]
          },
          "metadata": {
            "tags": []
          },
          "execution_count": 6
        }
      ]
    },
    {
      "cell_type": "markdown",
      "metadata": {
        "id": "flrH6uTNXXoW"
      },
      "source": [
        "**Excluir linha ou coluna**"
      ]
    },
    {
      "cell_type": "code",
      "metadata": {
        "colab": {
          "base_uri": "https://localhost:8080/",
          "height": 235
        },
        "id": "KMHGr1f2UwuT",
        "outputId": "1f4d36fc-7e83-49de-a098-bcc74d8c5a13"
      },
      "source": [
        "# exibindo o dataframe\n",
        "df "
      ],
      "execution_count": 7,
      "outputs": [
        {
          "output_type": "execute_result",
          "data": {
            "text/html": [
              "<div>\n",
              "<style scoped>\n",
              "    .dataframe tbody tr th:only-of-type {\n",
              "        vertical-align: middle;\n",
              "    }\n",
              "\n",
              "    .dataframe tbody tr th {\n",
              "        vertical-align: top;\n",
              "    }\n",
              "\n",
              "    .dataframe thead th {\n",
              "        text-align: right;\n",
              "    }\n",
              "</style>\n",
              "<table border=\"1\" class=\"dataframe\">\n",
              "  <thead>\n",
              "    <tr style=\"text-align: right;\">\n",
              "      <th></th>\n",
              "      <th>Coluna 1</th>\n",
              "      <th>Coluna 2</th>\n",
              "    </tr>\n",
              "  </thead>\n",
              "  <tbody>\n",
              "    <tr>\n",
              "      <th>0</th>\n",
              "      <td>1</td>\n",
              "      <td>A</td>\n",
              "    </tr>\n",
              "    <tr>\n",
              "      <th>1</th>\n",
              "      <td>2</td>\n",
              "      <td>B</td>\n",
              "    </tr>\n",
              "    <tr>\n",
              "      <th>2</th>\n",
              "      <td>3</td>\n",
              "      <td>C</td>\n",
              "    </tr>\n",
              "    <tr>\n",
              "      <th>3</th>\n",
              "      <td>4</td>\n",
              "      <td>D</td>\n",
              "    </tr>\n",
              "    <tr>\n",
              "      <th>4</th>\n",
              "      <td>5</td>\n",
              "      <td>E</td>\n",
              "    </tr>\n",
              "    <tr>\n",
              "      <th>5</th>\n",
              "      <td>6</td>\n",
              "      <td>F</td>\n",
              "    </tr>\n",
              "  </tbody>\n",
              "</table>\n",
              "</div>"
            ],
            "text/plain": [
              "   Coluna 1 Coluna 2\n",
              "0         1        A\n",
              "1         2        B\n",
              "2         3        C\n",
              "3         4        D\n",
              "4         5        E\n",
              "5         6        F"
            ]
          },
          "metadata": {
            "tags": []
          },
          "execution_count": 7
        }
      ]
    },
    {
      "cell_type": "code",
      "metadata": {
        "colab": {
          "base_uri": "https://localhost:8080/",
          "height": 204
        },
        "id": "fOdEzmlgXfvt",
        "outputId": "ad7863f6-1339-46dc-8acb-2b32d16e76c6"
      },
      "source": [
        "# excluir a linha com índice 4 [5, E]\n",
        "df = df.drop(df.index[4])\n",
        "df"
      ],
      "execution_count": 8,
      "outputs": [
        {
          "output_type": "execute_result",
          "data": {
            "text/html": [
              "<div>\n",
              "<style scoped>\n",
              "    .dataframe tbody tr th:only-of-type {\n",
              "        vertical-align: middle;\n",
              "    }\n",
              "\n",
              "    .dataframe tbody tr th {\n",
              "        vertical-align: top;\n",
              "    }\n",
              "\n",
              "    .dataframe thead th {\n",
              "        text-align: right;\n",
              "    }\n",
              "</style>\n",
              "<table border=\"1\" class=\"dataframe\">\n",
              "  <thead>\n",
              "    <tr style=\"text-align: right;\">\n",
              "      <th></th>\n",
              "      <th>Coluna 1</th>\n",
              "      <th>Coluna 2</th>\n",
              "    </tr>\n",
              "  </thead>\n",
              "  <tbody>\n",
              "    <tr>\n",
              "      <th>0</th>\n",
              "      <td>1</td>\n",
              "      <td>A</td>\n",
              "    </tr>\n",
              "    <tr>\n",
              "      <th>1</th>\n",
              "      <td>2</td>\n",
              "      <td>B</td>\n",
              "    </tr>\n",
              "    <tr>\n",
              "      <th>2</th>\n",
              "      <td>3</td>\n",
              "      <td>C</td>\n",
              "    </tr>\n",
              "    <tr>\n",
              "      <th>3</th>\n",
              "      <td>4</td>\n",
              "      <td>D</td>\n",
              "    </tr>\n",
              "    <tr>\n",
              "      <th>5</th>\n",
              "      <td>6</td>\n",
              "      <td>F</td>\n",
              "    </tr>\n",
              "  </tbody>\n",
              "</table>\n",
              "</div>"
            ],
            "text/plain": [
              "   Coluna 1 Coluna 2\n",
              "0         1        A\n",
              "1         2        B\n",
              "2         3        C\n",
              "3         4        D\n",
              "5         6        F"
            ]
          },
          "metadata": {
            "tags": []
          },
          "execution_count": 8
        }
      ]
    },
    {
      "cell_type": "code",
      "metadata": {
        "colab": {
          "base_uri": "https://localhost:8080/",
          "height": 204
        },
        "id": "qB-D0iwOYF0q",
        "outputId": "dc7ca041-08a7-4595-92f4-30ad5033e228"
      },
      "source": [
        "# excluir coluna\n",
        "df = df.drop(columns=\"Coluna 2\")\n",
        "df"
      ],
      "execution_count": 9,
      "outputs": [
        {
          "output_type": "execute_result",
          "data": {
            "text/html": [
              "<div>\n",
              "<style scoped>\n",
              "    .dataframe tbody tr th:only-of-type {\n",
              "        vertical-align: middle;\n",
              "    }\n",
              "\n",
              "    .dataframe tbody tr th {\n",
              "        vertical-align: top;\n",
              "    }\n",
              "\n",
              "    .dataframe thead th {\n",
              "        text-align: right;\n",
              "    }\n",
              "</style>\n",
              "<table border=\"1\" class=\"dataframe\">\n",
              "  <thead>\n",
              "    <tr style=\"text-align: right;\">\n",
              "      <th></th>\n",
              "      <th>Coluna 1</th>\n",
              "    </tr>\n",
              "  </thead>\n",
              "  <tbody>\n",
              "    <tr>\n",
              "      <th>0</th>\n",
              "      <td>1</td>\n",
              "    </tr>\n",
              "    <tr>\n",
              "      <th>1</th>\n",
              "      <td>2</td>\n",
              "    </tr>\n",
              "    <tr>\n",
              "      <th>2</th>\n",
              "      <td>3</td>\n",
              "    </tr>\n",
              "    <tr>\n",
              "      <th>3</th>\n",
              "      <td>4</td>\n",
              "    </tr>\n",
              "    <tr>\n",
              "      <th>5</th>\n",
              "      <td>6</td>\n",
              "    </tr>\n",
              "  </tbody>\n",
              "</table>\n",
              "</div>"
            ],
            "text/plain": [
              "   Coluna 1\n",
              "0         1\n",
              "1         2\n",
              "2         3\n",
              "3         4\n",
              "5         6"
            ]
          },
          "metadata": {
            "tags": []
          },
          "execution_count": 9
        }
      ]
    },
    {
      "cell_type": "markdown",
      "metadata": {
        "id": "qiEJrOQUYRw8"
      },
      "source": [
        "**Excluir definitivamente o dataframe**"
      ]
    },
    {
      "cell_type": "code",
      "metadata": {
        "id": "30dTiyRCYWwG"
      },
      "source": [
        "del(df)"
      ],
      "execution_count": 10,
      "outputs": []
    },
    {
      "cell_type": "markdown",
      "metadata": {
        "id": "uus2fzKnS3-5"
      },
      "source": [
        "**Através de uma fonte de dados**"
      ]
    },
    {
      "cell_type": "markdown",
      "metadata": {
        "id": "plZdqtp89n2L"
      },
      "source": [
        "Agora podemos também criá-lo a partir de uma fonte de dados. Existem diversas fontes podendo ser SQL Server, MongoDB a até mesmo um simples log file (txt), arquivo CSV, JSON, excel, etc. Então, vamos fazer criar nosso dataframe através de um csv e para isso, o Pandas nos oferece uma rica lista funções para diversas tarefas que poderíamos executar e uma delas é read_csv(args). Não vou detalhar a função, somente exemplificá-la, mas lembre-se que é possível fazer várias configurações para executar as diversas funções existentes no pandas.\n",
        "Vamos ao fácil trabalho."
      ]
    },
    {
      "cell_type": "code",
      "metadata": {
        "colab": {
          "base_uri": "https://localhost:8080/",
          "height": 824
        },
        "id": "g3RCt90Z9m4i",
        "outputId": "124b5ea5-9699-4855-f5d3-b62d577730f1"
      },
      "source": [
        "arquivo = 'https://raw.githubusercontent.com/italomarcelogit/python-dicas-pandas/main/datasets/mini-dataset.csv'\n",
        "df = pd.read_csv(arquivo)\n",
        "df"
      ],
      "execution_count": 11,
      "outputs": [
        {
          "output_type": "execute_result",
          "data": {
            "text/html": [
              "<div>\n",
              "<style scoped>\n",
              "    .dataframe tbody tr th:only-of-type {\n",
              "        vertical-align: middle;\n",
              "    }\n",
              "\n",
              "    .dataframe tbody tr th {\n",
              "        vertical-align: top;\n",
              "    }\n",
              "\n",
              "    .dataframe thead th {\n",
              "        text-align: right;\n",
              "    }\n",
              "</style>\n",
              "<table border=\"1\" class=\"dataframe\">\n",
              "  <thead>\n",
              "    <tr style=\"text-align: right;\">\n",
              "      <th></th>\n",
              "      <th>nome</th>\n",
              "      <th>sexo</th>\n",
              "      <th>setor</th>\n",
              "      <th>idade</th>\n",
              "      <th>funcao</th>\n",
              "      <th>salario</th>\n",
              "    </tr>\n",
              "  </thead>\n",
              "  <tbody>\n",
              "    <tr>\n",
              "      <th>0</th>\n",
              "      <td>ANTONIO</td>\n",
              "      <td>M</td>\n",
              "      <td>administrativo</td>\n",
              "      <td>26</td>\n",
              "      <td>Diretor</td>\n",
              "      <td>15000</td>\n",
              "    </tr>\n",
              "    <tr>\n",
              "      <th>1</th>\n",
              "      <td>GUSTAVO</td>\n",
              "      <td>M</td>\n",
              "      <td>administrativo</td>\n",
              "      <td>29</td>\n",
              "      <td>assistente</td>\n",
              "      <td>3000</td>\n",
              "    </tr>\n",
              "    <tr>\n",
              "      <th>2</th>\n",
              "      <td>NORMA</td>\n",
              "      <td>F</td>\n",
              "      <td>administrativo</td>\n",
              "      <td>49</td>\n",
              "      <td>assistente</td>\n",
              "      <td>3000</td>\n",
              "    </tr>\n",
              "    <tr>\n",
              "      <th>3</th>\n",
              "      <td>QUITERIA</td>\n",
              "      <td>F</td>\n",
              "      <td>artes</td>\n",
              "      <td>39</td>\n",
              "      <td>assistente</td>\n",
              "      <td>6000</td>\n",
              "    </tr>\n",
              "    <tr>\n",
              "      <th>4</th>\n",
              "      <td>RENATA</td>\n",
              "      <td>F</td>\n",
              "      <td>artes</td>\n",
              "      <td>39</td>\n",
              "      <td>assistente</td>\n",
              "      <td>5000</td>\n",
              "    </tr>\n",
              "    <tr>\n",
              "      <th>5</th>\n",
              "      <td>SANDRO</td>\n",
              "      <td>M</td>\n",
              "      <td>artes</td>\n",
              "      <td>48</td>\n",
              "      <td>NaN</td>\n",
              "      <td>4000</td>\n",
              "    </tr>\n",
              "    <tr>\n",
              "      <th>6</th>\n",
              "      <td>VANESSA</td>\n",
              "      <td>F</td>\n",
              "      <td>artes</td>\n",
              "      <td>29</td>\n",
              "      <td>assistente</td>\n",
              "      <td>4000</td>\n",
              "    </tr>\n",
              "    <tr>\n",
              "      <th>7</th>\n",
              "      <td>MARCOS</td>\n",
              "      <td>M</td>\n",
              "      <td>comercial</td>\n",
              "      <td>49</td>\n",
              "      <td>executivo de contas</td>\n",
              "      <td>3000</td>\n",
              "    </tr>\n",
              "    <tr>\n",
              "      <th>8</th>\n",
              "      <td>CARLA</td>\n",
              "      <td>F</td>\n",
              "      <td>comercial</td>\n",
              "      <td>22</td>\n",
              "      <td>Gerente</td>\n",
              "      <td>7000</td>\n",
              "    </tr>\n",
              "    <tr>\n",
              "      <th>9</th>\n",
              "      <td>DANIELA</td>\n",
              "      <td>F</td>\n",
              "      <td>comercial</td>\n",
              "      <td>50</td>\n",
              "      <td>executivo de contas</td>\n",
              "      <td>3000</td>\n",
              "    </tr>\n",
              "    <tr>\n",
              "      <th>10</th>\n",
              "      <td>EDUARDO</td>\n",
              "      <td>M</td>\n",
              "      <td>comercial</td>\n",
              "      <td>34</td>\n",
              "      <td>executivo de contas</td>\n",
              "      <td>3000</td>\n",
              "    </tr>\n",
              "    <tr>\n",
              "      <th>11</th>\n",
              "      <td>PETRO</td>\n",
              "      <td>M</td>\n",
              "      <td>contabilidade</td>\n",
              "      <td>18</td>\n",
              "      <td>assistente</td>\n",
              "      <td>3000</td>\n",
              "    </tr>\n",
              "    <tr>\n",
              "      <th>12</th>\n",
              "      <td>OTAVIO</td>\n",
              "      <td>M</td>\n",
              "      <td>contabilidade</td>\n",
              "      <td>47</td>\n",
              "      <td>assistente</td>\n",
              "      <td>3000</td>\n",
              "    </tr>\n",
              "    <tr>\n",
              "      <th>13</th>\n",
              "      <td>BEATRIZ</td>\n",
              "      <td>F</td>\n",
              "      <td>financeiro</td>\n",
              "      <td>33</td>\n",
              "      <td>assistente</td>\n",
              "      <td>2500</td>\n",
              "    </tr>\n",
              "    <tr>\n",
              "      <th>14</th>\n",
              "      <td>TEODORO</td>\n",
              "      <td>M</td>\n",
              "      <td>financeiro</td>\n",
              "      <td>38</td>\n",
              "      <td>assistente</td>\n",
              "      <td>2500</td>\n",
              "    </tr>\n",
              "    <tr>\n",
              "      <th>15</th>\n",
              "      <td>ZURIEL</td>\n",
              "      <td>M</td>\n",
              "      <td>financeiro</td>\n",
              "      <td>20</td>\n",
              "      <td>NaN</td>\n",
              "      <td>3000</td>\n",
              "    </tr>\n",
              "    <tr>\n",
              "      <th>16</th>\n",
              "      <td>FABIA</td>\n",
              "      <td>F</td>\n",
              "      <td>marketing</td>\n",
              "      <td>49</td>\n",
              "      <td>assistente</td>\n",
              "      <td>2500</td>\n",
              "    </tr>\n",
              "    <tr>\n",
              "      <th>17</th>\n",
              "      <td>UBALDO</td>\n",
              "      <td>M</td>\n",
              "      <td>marketing</td>\n",
              "      <td>47</td>\n",
              "      <td>assistente</td>\n",
              "      <td>2500</td>\n",
              "    </tr>\n",
              "    <tr>\n",
              "      <th>18</th>\n",
              "      <td>XAVIER</td>\n",
              "      <td>M</td>\n",
              "      <td>marketing</td>\n",
              "      <td>28</td>\n",
              "      <td>Coordenador</td>\n",
              "      <td>3500</td>\n",
              "    </tr>\n",
              "    <tr>\n",
              "      <th>19</th>\n",
              "      <td>YOLANDA</td>\n",
              "      <td>F</td>\n",
              "      <td>marketing</td>\n",
              "      <td>27</td>\n",
              "      <td>assistente</td>\n",
              "      <td>2500</td>\n",
              "    </tr>\n",
              "    <tr>\n",
              "      <th>20</th>\n",
              "      <td>HELOISA</td>\n",
              "      <td>F</td>\n",
              "      <td>tecnologia</td>\n",
              "      <td>43</td>\n",
              "      <td>Gerente</td>\n",
              "      <td>10000</td>\n",
              "    </tr>\n",
              "    <tr>\n",
              "      <th>21</th>\n",
              "      <td>ISABELLE</td>\n",
              "      <td>F</td>\n",
              "      <td>tecnologia</td>\n",
              "      <td>28</td>\n",
              "      <td>Coordenador</td>\n",
              "      <td>7500</td>\n",
              "    </tr>\n",
              "    <tr>\n",
              "      <th>22</th>\n",
              "      <td>JOANA</td>\n",
              "      <td>F</td>\n",
              "      <td>tecnologia</td>\n",
              "      <td>29</td>\n",
              "      <td>Engenheiro de Software</td>\n",
              "      <td>5000</td>\n",
              "    </tr>\n",
              "    <tr>\n",
              "      <th>23</th>\n",
              "      <td>KLAYTON</td>\n",
              "      <td>M</td>\n",
              "      <td>tecnologia</td>\n",
              "      <td>33</td>\n",
              "      <td>NaN</td>\n",
              "      <td>5000</td>\n",
              "    </tr>\n",
              "    <tr>\n",
              "      <th>24</th>\n",
              "      <td>LAURO</td>\n",
              "      <td>M</td>\n",
              "      <td>tecnologia</td>\n",
              "      <td>26</td>\n",
              "      <td>Engenheiro de Software</td>\n",
              "      <td>5000</td>\n",
              "    </tr>\n",
              "  </tbody>\n",
              "</table>\n",
              "</div>"
            ],
            "text/plain": [
              "        nome sexo           setor  idade                  funcao  salario\n",
              "0    ANTONIO    M  administrativo     26                 Diretor    15000\n",
              "1    GUSTAVO    M  administrativo     29              assistente     3000\n",
              "2      NORMA    F  administrativo     49              assistente     3000\n",
              "3   QUITERIA    F           artes     39              assistente     6000\n",
              "4     RENATA    F           artes     39              assistente     5000\n",
              "5     SANDRO    M           artes     48                     NaN     4000\n",
              "6    VANESSA    F           artes     29              assistente     4000\n",
              "7     MARCOS    M       comercial     49     executivo de contas     3000\n",
              "8      CARLA    F       comercial     22                Gerente      7000\n",
              "9    DANIELA    F       comercial     50     executivo de contas     3000\n",
              "10   EDUARDO    M       comercial     34     executivo de contas     3000\n",
              "11     PETRO    M   contabilidade     18              assistente     3000\n",
              "12    OTAVIO    M   contabilidade     47              assistente     3000\n",
              "13   BEATRIZ    F      financeiro     33              assistente     2500\n",
              "14   TEODORO    M      financeiro     38              assistente     2500\n",
              "15    ZURIEL    M      financeiro     20                     NaN     3000\n",
              "16     FABIA    F       marketing     49              assistente     2500\n",
              "17    UBALDO    M       marketing     47              assistente     2500\n",
              "18    XAVIER    M       marketing     28             Coordenador     3500\n",
              "19   YOLANDA    F       marketing     27              assistente     2500\n",
              "20   HELOISA    F      tecnologia     43                Gerente     10000\n",
              "21  ISABELLE    F      tecnologia     28             Coordenador     7500\n",
              "22     JOANA    F      tecnologia     29  Engenheiro de Software     5000\n",
              "23   KLAYTON    M      tecnologia     33                     NaN     5000\n",
              "24     LAURO    M      tecnologia     26  Engenheiro de Software     5000"
            ]
          },
          "metadata": {
            "tags": []
          },
          "execution_count": 11
        }
      ]
    },
    {
      "cell_type": "markdown",
      "metadata": {
        "id": "0LG46E5S_ovQ"
      },
      "source": [
        "# **Explorar a estrutura do DataFrame com Pandas**\n",
        "\n",
        "O nosso dataframe acima é um exemplo simples, possui poucas linhas e colunas mas imagine você analisando um log de autenticação de sua base de clientes que contém bilhões de linhas e até centenas de colunas?\n",
        "\n",
        "Então vamos olhar para o nosso simples dataframe e vamos descobrir o que podemos fazer com as funções úteis que o Pandas nos oferece para conhecermos melhor como está estruturado o nosso dado (dataframe)."
      ]
    },
    {
      "cell_type": "code",
      "metadata": {
        "colab": {
          "base_uri": "https://localhost:8080/"
        },
        "id": "FmNh7Q07AbTP",
        "outputId": "743607f2-b8d7-4994-9e5c-3ea8170a9b66"
      },
      "source": [
        "# quantidade de linhas e colunas de um dataframe\n",
        "df.shape\n",
        "\n",
        "# como resultado iremos ver que nosso df tem 25 linhas e 6 colunas"
      ],
      "execution_count": 12,
      "outputs": [
        {
          "output_type": "execute_result",
          "data": {
            "text/plain": [
              "(25, 6)"
            ]
          },
          "metadata": {
            "tags": []
          },
          "execution_count": 12
        }
      ]
    },
    {
      "cell_type": "code",
      "metadata": {
        "colab": {
          "base_uri": "https://localhost:8080/"
        },
        "id": "AOiK3nEbAkcg",
        "outputId": "3e119150-7095-434a-adca-379014e63c14"
      },
      "source": [
        "# quais são as colunas?\n",
        "df.columns"
      ],
      "execution_count": 13,
      "outputs": [
        {
          "output_type": "execute_result",
          "data": {
            "text/plain": [
              "Index(['nome', 'sexo', 'setor', 'idade', 'funcao', 'salario'], dtype='object')"
            ]
          },
          "metadata": {
            "tags": []
          },
          "execution_count": 13
        }
      ]
    },
    {
      "cell_type": "code",
      "metadata": {
        "colab": {
          "base_uri": "https://localhost:8080/"
        },
        "id": "Gu0Xxj_YA-sj",
        "outputId": "b54ccf02-2c6e-4e49-e447-93841c6beb99"
      },
      "source": [
        "# ou retornando somente o vetor (array) com os nomes das colunas\n",
        "df.columns.to_list()"
      ],
      "execution_count": 14,
      "outputs": [
        {
          "output_type": "execute_result",
          "data": {
            "text/plain": [
              "['nome', 'sexo', 'setor', 'idade', 'funcao', 'salario']"
            ]
          },
          "metadata": {
            "tags": []
          },
          "execution_count": 14
        }
      ]
    },
    {
      "cell_type": "code",
      "metadata": {
        "colab": {
          "base_uri": "https://localhost:8080/"
        },
        "id": "kysM1LJkBIR2",
        "outputId": "4dfb5677-b64c-48a2-e7af-c9f9eb9d76ab"
      },
      "source": [
        "# mas o que realmente fazemos é logo retornar mais informações sobre o dataframe\n",
        "# para isso, utilizamos a função info()\n",
        "df.info()\n",
        "# com ela eu sei quantas linhas, colunas e seus tipos (inteiro, datetime, object)\n",
        "#, se tem valores nulos, e outras informações"
      ],
      "execution_count": 15,
      "outputs": [
        {
          "output_type": "stream",
          "text": [
            "<class 'pandas.core.frame.DataFrame'>\n",
            "RangeIndex: 25 entries, 0 to 24\n",
            "Data columns (total 6 columns):\n",
            " #   Column   Non-Null Count  Dtype \n",
            "---  ------   --------------  ----- \n",
            " 0   nome     25 non-null     object\n",
            " 1   sexo     25 non-null     object\n",
            " 2   setor    25 non-null     object\n",
            " 3   idade    25 non-null     int64 \n",
            " 4   funcao   22 non-null     object\n",
            " 5   salario  25 non-null     int64 \n",
            "dtypes: int64(2), object(4)\n",
            "memory usage: 1.3+ KB\n"
          ],
          "name": "stdout"
        }
      ]
    },
    {
      "cell_type": "markdown",
      "metadata": {
        "id": "X3vLvHSLB7Ld"
      },
      "source": [
        "# **Explorar o dataframe através dos índices e colunas**\n",
        "\n",
        "Como disse anteriormente, na maioria das vezes, os dataframes possuem um grande volume de dados e manipular um volume grande não é interessante no momento que estamos analisando os dados contidos nele, seus tipos, seus erros, etc.\n",
        "\n",
        "Então para conhecermos um pouco sobre os dados, utilizaremos algunas funções de manipulaçao do Pandas bastante populares."
      ]
    },
    {
      "cell_type": "code",
      "metadata": {
        "colab": {
          "base_uri": "https://localhost:8080/",
          "height": 142
        },
        "id": "9lnBLksVB6b1",
        "outputId": "9ac924fb-7280-4144-8912-202bb4b56836"
      },
      "source": [
        "# para visualizar as primeiras linhas (rows) do dataframe, utilizamos a função\n",
        "# .head() que, como padrão, retornará as primeiras 5 linhas. Mas podemos mudar isso\n",
        "df.head(3)"
      ],
      "execution_count": 16,
      "outputs": [
        {
          "output_type": "execute_result",
          "data": {
            "text/html": [
              "<div>\n",
              "<style scoped>\n",
              "    .dataframe tbody tr th:only-of-type {\n",
              "        vertical-align: middle;\n",
              "    }\n",
              "\n",
              "    .dataframe tbody tr th {\n",
              "        vertical-align: top;\n",
              "    }\n",
              "\n",
              "    .dataframe thead th {\n",
              "        text-align: right;\n",
              "    }\n",
              "</style>\n",
              "<table border=\"1\" class=\"dataframe\">\n",
              "  <thead>\n",
              "    <tr style=\"text-align: right;\">\n",
              "      <th></th>\n",
              "      <th>nome</th>\n",
              "      <th>sexo</th>\n",
              "      <th>setor</th>\n",
              "      <th>idade</th>\n",
              "      <th>funcao</th>\n",
              "      <th>salario</th>\n",
              "    </tr>\n",
              "  </thead>\n",
              "  <tbody>\n",
              "    <tr>\n",
              "      <th>0</th>\n",
              "      <td>ANTONIO</td>\n",
              "      <td>M</td>\n",
              "      <td>administrativo</td>\n",
              "      <td>26</td>\n",
              "      <td>Diretor</td>\n",
              "      <td>15000</td>\n",
              "    </tr>\n",
              "    <tr>\n",
              "      <th>1</th>\n",
              "      <td>GUSTAVO</td>\n",
              "      <td>M</td>\n",
              "      <td>administrativo</td>\n",
              "      <td>29</td>\n",
              "      <td>assistente</td>\n",
              "      <td>3000</td>\n",
              "    </tr>\n",
              "    <tr>\n",
              "      <th>2</th>\n",
              "      <td>NORMA</td>\n",
              "      <td>F</td>\n",
              "      <td>administrativo</td>\n",
              "      <td>49</td>\n",
              "      <td>assistente</td>\n",
              "      <td>3000</td>\n",
              "    </tr>\n",
              "  </tbody>\n",
              "</table>\n",
              "</div>"
            ],
            "text/plain": [
              "      nome sexo           setor  idade      funcao  salario\n",
              "0  ANTONIO    M  administrativo     26     Diretor    15000\n",
              "1  GUSTAVO    M  administrativo     29  assistente     3000\n",
              "2    NORMA    F  administrativo     49  assistente     3000"
            ]
          },
          "metadata": {
            "tags": []
          },
          "execution_count": 16
        }
      ]
    },
    {
      "cell_type": "code",
      "metadata": {
        "colab": {
          "base_uri": "https://localhost:8080/",
          "height": 204
        },
        "id": "tAme_DKtCtGp",
        "outputId": "7d13e47f-486c-45f9-a14b-1ef4b91d5483"
      },
      "source": [
        "# ou visualizar somente as últimas 5 linhas. Para isso, usamos a função .tail()\n",
        "df.tail() # neste caso, utilizamos o padrão"
      ],
      "execution_count": 17,
      "outputs": [
        {
          "output_type": "execute_result",
          "data": {
            "text/html": [
              "<div>\n",
              "<style scoped>\n",
              "    .dataframe tbody tr th:only-of-type {\n",
              "        vertical-align: middle;\n",
              "    }\n",
              "\n",
              "    .dataframe tbody tr th {\n",
              "        vertical-align: top;\n",
              "    }\n",
              "\n",
              "    .dataframe thead th {\n",
              "        text-align: right;\n",
              "    }\n",
              "</style>\n",
              "<table border=\"1\" class=\"dataframe\">\n",
              "  <thead>\n",
              "    <tr style=\"text-align: right;\">\n",
              "      <th></th>\n",
              "      <th>nome</th>\n",
              "      <th>sexo</th>\n",
              "      <th>setor</th>\n",
              "      <th>idade</th>\n",
              "      <th>funcao</th>\n",
              "      <th>salario</th>\n",
              "    </tr>\n",
              "  </thead>\n",
              "  <tbody>\n",
              "    <tr>\n",
              "      <th>20</th>\n",
              "      <td>HELOISA</td>\n",
              "      <td>F</td>\n",
              "      <td>tecnologia</td>\n",
              "      <td>43</td>\n",
              "      <td>Gerente</td>\n",
              "      <td>10000</td>\n",
              "    </tr>\n",
              "    <tr>\n",
              "      <th>21</th>\n",
              "      <td>ISABELLE</td>\n",
              "      <td>F</td>\n",
              "      <td>tecnologia</td>\n",
              "      <td>28</td>\n",
              "      <td>Coordenador</td>\n",
              "      <td>7500</td>\n",
              "    </tr>\n",
              "    <tr>\n",
              "      <th>22</th>\n",
              "      <td>JOANA</td>\n",
              "      <td>F</td>\n",
              "      <td>tecnologia</td>\n",
              "      <td>29</td>\n",
              "      <td>Engenheiro de Software</td>\n",
              "      <td>5000</td>\n",
              "    </tr>\n",
              "    <tr>\n",
              "      <th>23</th>\n",
              "      <td>KLAYTON</td>\n",
              "      <td>M</td>\n",
              "      <td>tecnologia</td>\n",
              "      <td>33</td>\n",
              "      <td>NaN</td>\n",
              "      <td>5000</td>\n",
              "    </tr>\n",
              "    <tr>\n",
              "      <th>24</th>\n",
              "      <td>LAURO</td>\n",
              "      <td>M</td>\n",
              "      <td>tecnologia</td>\n",
              "      <td>26</td>\n",
              "      <td>Engenheiro de Software</td>\n",
              "      <td>5000</td>\n",
              "    </tr>\n",
              "  </tbody>\n",
              "</table>\n",
              "</div>"
            ],
            "text/plain": [
              "        nome sexo       setor  idade                  funcao  salario\n",
              "20   HELOISA    F  tecnologia     43                Gerente     10000\n",
              "21  ISABELLE    F  tecnologia     28             Coordenador     7500\n",
              "22     JOANA    F  tecnologia     29  Engenheiro de Software     5000\n",
              "23   KLAYTON    M  tecnologia     33                     NaN     5000\n",
              "24     LAURO    M  tecnologia     26  Engenheiro de Software     5000"
            ]
          },
          "metadata": {
            "tags": []
          },
          "execution_count": 17
        }
      ]
    },
    {
      "cell_type": "code",
      "metadata": {
        "colab": {
          "base_uri": "https://localhost:8080/",
          "height": 111
        },
        "id": "BtkmV-KsDCna",
        "outputId": "2867c343-3243-47b8-91bb-692beffe504a"
      },
      "source": [
        "# mas em alguns momentos queremos trazer informações linhas de exemplos, mas de \n",
        "# posições aleatórias. Para isso utilizaremos a função .sample() mas essa, por\n",
        "# padrão, ela retorna somente 1 linha mas também é possível passar a quantidade \n",
        "# desejada\n",
        "df.sample(2)"
      ],
      "execution_count": 18,
      "outputs": [
        {
          "output_type": "execute_result",
          "data": {
            "text/html": [
              "<div>\n",
              "<style scoped>\n",
              "    .dataframe tbody tr th:only-of-type {\n",
              "        vertical-align: middle;\n",
              "    }\n",
              "\n",
              "    .dataframe tbody tr th {\n",
              "        vertical-align: top;\n",
              "    }\n",
              "\n",
              "    .dataframe thead th {\n",
              "        text-align: right;\n",
              "    }\n",
              "</style>\n",
              "<table border=\"1\" class=\"dataframe\">\n",
              "  <thead>\n",
              "    <tr style=\"text-align: right;\">\n",
              "      <th></th>\n",
              "      <th>nome</th>\n",
              "      <th>sexo</th>\n",
              "      <th>setor</th>\n",
              "      <th>idade</th>\n",
              "      <th>funcao</th>\n",
              "      <th>salario</th>\n",
              "    </tr>\n",
              "  </thead>\n",
              "  <tbody>\n",
              "    <tr>\n",
              "      <th>24</th>\n",
              "      <td>LAURO</td>\n",
              "      <td>M</td>\n",
              "      <td>tecnologia</td>\n",
              "      <td>26</td>\n",
              "      <td>Engenheiro de Software</td>\n",
              "      <td>5000</td>\n",
              "    </tr>\n",
              "    <tr>\n",
              "      <th>15</th>\n",
              "      <td>ZURIEL</td>\n",
              "      <td>M</td>\n",
              "      <td>financeiro</td>\n",
              "      <td>20</td>\n",
              "      <td>NaN</td>\n",
              "      <td>3000</td>\n",
              "    </tr>\n",
              "  </tbody>\n",
              "</table>\n",
              "</div>"
            ],
            "text/plain": [
              "      nome sexo       setor  idade                  funcao  salario\n",
              "24   LAURO    M  tecnologia     26  Engenheiro de Software     5000\n",
              "15  ZURIEL    M  financeiro     20                     NaN     3000"
            ]
          },
          "metadata": {
            "tags": []
          },
          "execution_count": 18
        }
      ]
    },
    {
      "cell_type": "markdown",
      "metadata": {
        "id": "G_Jl8BnqDcpM"
      },
      "source": [
        "Acredito que ficou claro nos blocos acima retornados que cada linha possui a sua identificação, conhecida como índice (index). E podemos utilizá-lo para diversas situações. Darei alguns exemplos:"
      ]
    },
    {
      "cell_type": "code",
      "metadata": {
        "colab": {
          "base_uri": "https://localhost:8080/"
        },
        "id": "mis6D0BVDWg8",
        "outputId": "1ce6e405-f6df-48d4-d0f0-bdfb1518f684"
      },
      "source": [
        "# exibir o range do meu índice, inicia com o valor 0, para no 25, incrementando \n",
        "# de 1 em um\n",
        "df.index"
      ],
      "execution_count": 19,
      "outputs": [
        {
          "output_type": "execute_result",
          "data": {
            "text/plain": [
              "RangeIndex(start=0, stop=25, step=1)"
            ]
          },
          "metadata": {
            "tags": []
          },
          "execution_count": 19
        }
      ]
    },
    {
      "cell_type": "code",
      "metadata": {
        "colab": {
          "base_uri": "https://localhost:8080/"
        },
        "id": "n_9E2KpGD7QP",
        "outputId": "faa4b27c-ffe7-419b-b16d-24f191d01d03"
      },
      "source": [
        "# ou eu poderia retornar um vetor com os seus valores\n",
        "df.index.values"
      ],
      "execution_count": 20,
      "outputs": [
        {
          "output_type": "execute_result",
          "data": {
            "text/plain": [
              "array([ 0,  1,  2,  3,  4,  5,  6,  7,  8,  9, 10, 11, 12, 13, 14, 15, 16,\n",
              "       17, 18, 19, 20, 21, 22, 23, 24])"
            ]
          },
          "metadata": {
            "tags": []
          },
          "execution_count": 20
        }
      ]
    },
    {
      "cell_type": "code",
      "metadata": {
        "colab": {
          "base_uri": "https://localhost:8080/",
          "height": 824
        },
        "id": "R-LmcicxEJfc",
        "outputId": "80b64692-9416-43b4-84d9-a36801c97a73"
      },
      "source": [
        "# mas vamos utilizá-lo para exibir linhas (rows) de nosso dataframe\n",
        "df"
      ],
      "execution_count": 21,
      "outputs": [
        {
          "output_type": "execute_result",
          "data": {
            "text/html": [
              "<div>\n",
              "<style scoped>\n",
              "    .dataframe tbody tr th:only-of-type {\n",
              "        vertical-align: middle;\n",
              "    }\n",
              "\n",
              "    .dataframe tbody tr th {\n",
              "        vertical-align: top;\n",
              "    }\n",
              "\n",
              "    .dataframe thead th {\n",
              "        text-align: right;\n",
              "    }\n",
              "</style>\n",
              "<table border=\"1\" class=\"dataframe\">\n",
              "  <thead>\n",
              "    <tr style=\"text-align: right;\">\n",
              "      <th></th>\n",
              "      <th>nome</th>\n",
              "      <th>sexo</th>\n",
              "      <th>setor</th>\n",
              "      <th>idade</th>\n",
              "      <th>funcao</th>\n",
              "      <th>salario</th>\n",
              "    </tr>\n",
              "  </thead>\n",
              "  <tbody>\n",
              "    <tr>\n",
              "      <th>0</th>\n",
              "      <td>ANTONIO</td>\n",
              "      <td>M</td>\n",
              "      <td>administrativo</td>\n",
              "      <td>26</td>\n",
              "      <td>Diretor</td>\n",
              "      <td>15000</td>\n",
              "    </tr>\n",
              "    <tr>\n",
              "      <th>1</th>\n",
              "      <td>GUSTAVO</td>\n",
              "      <td>M</td>\n",
              "      <td>administrativo</td>\n",
              "      <td>29</td>\n",
              "      <td>assistente</td>\n",
              "      <td>3000</td>\n",
              "    </tr>\n",
              "    <tr>\n",
              "      <th>2</th>\n",
              "      <td>NORMA</td>\n",
              "      <td>F</td>\n",
              "      <td>administrativo</td>\n",
              "      <td>49</td>\n",
              "      <td>assistente</td>\n",
              "      <td>3000</td>\n",
              "    </tr>\n",
              "    <tr>\n",
              "      <th>3</th>\n",
              "      <td>QUITERIA</td>\n",
              "      <td>F</td>\n",
              "      <td>artes</td>\n",
              "      <td>39</td>\n",
              "      <td>assistente</td>\n",
              "      <td>6000</td>\n",
              "    </tr>\n",
              "    <tr>\n",
              "      <th>4</th>\n",
              "      <td>RENATA</td>\n",
              "      <td>F</td>\n",
              "      <td>artes</td>\n",
              "      <td>39</td>\n",
              "      <td>assistente</td>\n",
              "      <td>5000</td>\n",
              "    </tr>\n",
              "    <tr>\n",
              "      <th>5</th>\n",
              "      <td>SANDRO</td>\n",
              "      <td>M</td>\n",
              "      <td>artes</td>\n",
              "      <td>48</td>\n",
              "      <td>NaN</td>\n",
              "      <td>4000</td>\n",
              "    </tr>\n",
              "    <tr>\n",
              "      <th>6</th>\n",
              "      <td>VANESSA</td>\n",
              "      <td>F</td>\n",
              "      <td>artes</td>\n",
              "      <td>29</td>\n",
              "      <td>assistente</td>\n",
              "      <td>4000</td>\n",
              "    </tr>\n",
              "    <tr>\n",
              "      <th>7</th>\n",
              "      <td>MARCOS</td>\n",
              "      <td>M</td>\n",
              "      <td>comercial</td>\n",
              "      <td>49</td>\n",
              "      <td>executivo de contas</td>\n",
              "      <td>3000</td>\n",
              "    </tr>\n",
              "    <tr>\n",
              "      <th>8</th>\n",
              "      <td>CARLA</td>\n",
              "      <td>F</td>\n",
              "      <td>comercial</td>\n",
              "      <td>22</td>\n",
              "      <td>Gerente</td>\n",
              "      <td>7000</td>\n",
              "    </tr>\n",
              "    <tr>\n",
              "      <th>9</th>\n",
              "      <td>DANIELA</td>\n",
              "      <td>F</td>\n",
              "      <td>comercial</td>\n",
              "      <td>50</td>\n",
              "      <td>executivo de contas</td>\n",
              "      <td>3000</td>\n",
              "    </tr>\n",
              "    <tr>\n",
              "      <th>10</th>\n",
              "      <td>EDUARDO</td>\n",
              "      <td>M</td>\n",
              "      <td>comercial</td>\n",
              "      <td>34</td>\n",
              "      <td>executivo de contas</td>\n",
              "      <td>3000</td>\n",
              "    </tr>\n",
              "    <tr>\n",
              "      <th>11</th>\n",
              "      <td>PETRO</td>\n",
              "      <td>M</td>\n",
              "      <td>contabilidade</td>\n",
              "      <td>18</td>\n",
              "      <td>assistente</td>\n",
              "      <td>3000</td>\n",
              "    </tr>\n",
              "    <tr>\n",
              "      <th>12</th>\n",
              "      <td>OTAVIO</td>\n",
              "      <td>M</td>\n",
              "      <td>contabilidade</td>\n",
              "      <td>47</td>\n",
              "      <td>assistente</td>\n",
              "      <td>3000</td>\n",
              "    </tr>\n",
              "    <tr>\n",
              "      <th>13</th>\n",
              "      <td>BEATRIZ</td>\n",
              "      <td>F</td>\n",
              "      <td>financeiro</td>\n",
              "      <td>33</td>\n",
              "      <td>assistente</td>\n",
              "      <td>2500</td>\n",
              "    </tr>\n",
              "    <tr>\n",
              "      <th>14</th>\n",
              "      <td>TEODORO</td>\n",
              "      <td>M</td>\n",
              "      <td>financeiro</td>\n",
              "      <td>38</td>\n",
              "      <td>assistente</td>\n",
              "      <td>2500</td>\n",
              "    </tr>\n",
              "    <tr>\n",
              "      <th>15</th>\n",
              "      <td>ZURIEL</td>\n",
              "      <td>M</td>\n",
              "      <td>financeiro</td>\n",
              "      <td>20</td>\n",
              "      <td>NaN</td>\n",
              "      <td>3000</td>\n",
              "    </tr>\n",
              "    <tr>\n",
              "      <th>16</th>\n",
              "      <td>FABIA</td>\n",
              "      <td>F</td>\n",
              "      <td>marketing</td>\n",
              "      <td>49</td>\n",
              "      <td>assistente</td>\n",
              "      <td>2500</td>\n",
              "    </tr>\n",
              "    <tr>\n",
              "      <th>17</th>\n",
              "      <td>UBALDO</td>\n",
              "      <td>M</td>\n",
              "      <td>marketing</td>\n",
              "      <td>47</td>\n",
              "      <td>assistente</td>\n",
              "      <td>2500</td>\n",
              "    </tr>\n",
              "    <tr>\n",
              "      <th>18</th>\n",
              "      <td>XAVIER</td>\n",
              "      <td>M</td>\n",
              "      <td>marketing</td>\n",
              "      <td>28</td>\n",
              "      <td>Coordenador</td>\n",
              "      <td>3500</td>\n",
              "    </tr>\n",
              "    <tr>\n",
              "      <th>19</th>\n",
              "      <td>YOLANDA</td>\n",
              "      <td>F</td>\n",
              "      <td>marketing</td>\n",
              "      <td>27</td>\n",
              "      <td>assistente</td>\n",
              "      <td>2500</td>\n",
              "    </tr>\n",
              "    <tr>\n",
              "      <th>20</th>\n",
              "      <td>HELOISA</td>\n",
              "      <td>F</td>\n",
              "      <td>tecnologia</td>\n",
              "      <td>43</td>\n",
              "      <td>Gerente</td>\n",
              "      <td>10000</td>\n",
              "    </tr>\n",
              "    <tr>\n",
              "      <th>21</th>\n",
              "      <td>ISABELLE</td>\n",
              "      <td>F</td>\n",
              "      <td>tecnologia</td>\n",
              "      <td>28</td>\n",
              "      <td>Coordenador</td>\n",
              "      <td>7500</td>\n",
              "    </tr>\n",
              "    <tr>\n",
              "      <th>22</th>\n",
              "      <td>JOANA</td>\n",
              "      <td>F</td>\n",
              "      <td>tecnologia</td>\n",
              "      <td>29</td>\n",
              "      <td>Engenheiro de Software</td>\n",
              "      <td>5000</td>\n",
              "    </tr>\n",
              "    <tr>\n",
              "      <th>23</th>\n",
              "      <td>KLAYTON</td>\n",
              "      <td>M</td>\n",
              "      <td>tecnologia</td>\n",
              "      <td>33</td>\n",
              "      <td>NaN</td>\n",
              "      <td>5000</td>\n",
              "    </tr>\n",
              "    <tr>\n",
              "      <th>24</th>\n",
              "      <td>LAURO</td>\n",
              "      <td>M</td>\n",
              "      <td>tecnologia</td>\n",
              "      <td>26</td>\n",
              "      <td>Engenheiro de Software</td>\n",
              "      <td>5000</td>\n",
              "    </tr>\n",
              "  </tbody>\n",
              "</table>\n",
              "</div>"
            ],
            "text/plain": [
              "        nome sexo           setor  idade                  funcao  salario\n",
              "0    ANTONIO    M  administrativo     26                 Diretor    15000\n",
              "1    GUSTAVO    M  administrativo     29              assistente     3000\n",
              "2      NORMA    F  administrativo     49              assistente     3000\n",
              "3   QUITERIA    F           artes     39              assistente     6000\n",
              "4     RENATA    F           artes     39              assistente     5000\n",
              "5     SANDRO    M           artes     48                     NaN     4000\n",
              "6    VANESSA    F           artes     29              assistente     4000\n",
              "7     MARCOS    M       comercial     49     executivo de contas     3000\n",
              "8      CARLA    F       comercial     22                Gerente      7000\n",
              "9    DANIELA    F       comercial     50     executivo de contas     3000\n",
              "10   EDUARDO    M       comercial     34     executivo de contas     3000\n",
              "11     PETRO    M   contabilidade     18              assistente     3000\n",
              "12    OTAVIO    M   contabilidade     47              assistente     3000\n",
              "13   BEATRIZ    F      financeiro     33              assistente     2500\n",
              "14   TEODORO    M      financeiro     38              assistente     2500\n",
              "15    ZURIEL    M      financeiro     20                     NaN     3000\n",
              "16     FABIA    F       marketing     49              assistente     2500\n",
              "17    UBALDO    M       marketing     47              assistente     2500\n",
              "18    XAVIER    M       marketing     28             Coordenador     3500\n",
              "19   YOLANDA    F       marketing     27              assistente     2500\n",
              "20   HELOISA    F      tecnologia     43                Gerente     10000\n",
              "21  ISABELLE    F      tecnologia     28             Coordenador     7500\n",
              "22     JOANA    F      tecnologia     29  Engenheiro de Software     5000\n",
              "23   KLAYTON    M      tecnologia     33                     NaN     5000\n",
              "24     LAURO    M      tecnologia     26  Engenheiro de Software     5000"
            ]
          },
          "metadata": {
            "tags": []
          },
          "execution_count": 21
        }
      ]
    },
    {
      "cell_type": "code",
      "metadata": {
        "colab": {
          "base_uri": "https://localhost:8080/",
          "height": 142
        },
        "id": "vX0uuEgAEThi",
        "outputId": "874e018d-edc3-40f6-fe7b-8e8f3bb76a29"
      },
      "source": [
        "# retornar o bloco de registros do dataframe que vão do início 0 até a posição 2\n",
        "# utilizando a a função .iloc\n",
        "df.iloc[:3] # veja, o 3 é onde ele para mas não o exibe."
      ],
      "execution_count": 22,
      "outputs": [
        {
          "output_type": "execute_result",
          "data": {
            "text/html": [
              "<div>\n",
              "<style scoped>\n",
              "    .dataframe tbody tr th:only-of-type {\n",
              "        vertical-align: middle;\n",
              "    }\n",
              "\n",
              "    .dataframe tbody tr th {\n",
              "        vertical-align: top;\n",
              "    }\n",
              "\n",
              "    .dataframe thead th {\n",
              "        text-align: right;\n",
              "    }\n",
              "</style>\n",
              "<table border=\"1\" class=\"dataframe\">\n",
              "  <thead>\n",
              "    <tr style=\"text-align: right;\">\n",
              "      <th></th>\n",
              "      <th>nome</th>\n",
              "      <th>sexo</th>\n",
              "      <th>setor</th>\n",
              "      <th>idade</th>\n",
              "      <th>funcao</th>\n",
              "      <th>salario</th>\n",
              "    </tr>\n",
              "  </thead>\n",
              "  <tbody>\n",
              "    <tr>\n",
              "      <th>0</th>\n",
              "      <td>ANTONIO</td>\n",
              "      <td>M</td>\n",
              "      <td>administrativo</td>\n",
              "      <td>26</td>\n",
              "      <td>Diretor</td>\n",
              "      <td>15000</td>\n",
              "    </tr>\n",
              "    <tr>\n",
              "      <th>1</th>\n",
              "      <td>GUSTAVO</td>\n",
              "      <td>M</td>\n",
              "      <td>administrativo</td>\n",
              "      <td>29</td>\n",
              "      <td>assistente</td>\n",
              "      <td>3000</td>\n",
              "    </tr>\n",
              "    <tr>\n",
              "      <th>2</th>\n",
              "      <td>NORMA</td>\n",
              "      <td>F</td>\n",
              "      <td>administrativo</td>\n",
              "      <td>49</td>\n",
              "      <td>assistente</td>\n",
              "      <td>3000</td>\n",
              "    </tr>\n",
              "  </tbody>\n",
              "</table>\n",
              "</div>"
            ],
            "text/plain": [
              "      nome sexo           setor  idade      funcao  salario\n",
              "0  ANTONIO    M  administrativo     26     Diretor    15000\n",
              "1  GUSTAVO    M  administrativo     29  assistente     3000\n",
              "2    NORMA    F  administrativo     49  assistente     3000"
            ]
          },
          "metadata": {
            "tags": []
          },
          "execution_count": 22
        }
      ]
    },
    {
      "cell_type": "code",
      "metadata": {
        "colab": {
          "base_uri": "https://localhost:8080/",
          "height": 142
        },
        "id": "lLRuiulUEm0X",
        "outputId": "006071d4-7c11-4bd2-bc4a-b29e377d7ed5"
      },
      "source": [
        "# agora iremos retornar o bloco de registros da linha 22 em diante\n",
        "df.iloc[22:]"
      ],
      "execution_count": 23,
      "outputs": [
        {
          "output_type": "execute_result",
          "data": {
            "text/html": [
              "<div>\n",
              "<style scoped>\n",
              "    .dataframe tbody tr th:only-of-type {\n",
              "        vertical-align: middle;\n",
              "    }\n",
              "\n",
              "    .dataframe tbody tr th {\n",
              "        vertical-align: top;\n",
              "    }\n",
              "\n",
              "    .dataframe thead th {\n",
              "        text-align: right;\n",
              "    }\n",
              "</style>\n",
              "<table border=\"1\" class=\"dataframe\">\n",
              "  <thead>\n",
              "    <tr style=\"text-align: right;\">\n",
              "      <th></th>\n",
              "      <th>nome</th>\n",
              "      <th>sexo</th>\n",
              "      <th>setor</th>\n",
              "      <th>idade</th>\n",
              "      <th>funcao</th>\n",
              "      <th>salario</th>\n",
              "    </tr>\n",
              "  </thead>\n",
              "  <tbody>\n",
              "    <tr>\n",
              "      <th>22</th>\n",
              "      <td>JOANA</td>\n",
              "      <td>F</td>\n",
              "      <td>tecnologia</td>\n",
              "      <td>29</td>\n",
              "      <td>Engenheiro de Software</td>\n",
              "      <td>5000</td>\n",
              "    </tr>\n",
              "    <tr>\n",
              "      <th>23</th>\n",
              "      <td>KLAYTON</td>\n",
              "      <td>M</td>\n",
              "      <td>tecnologia</td>\n",
              "      <td>33</td>\n",
              "      <td>NaN</td>\n",
              "      <td>5000</td>\n",
              "    </tr>\n",
              "    <tr>\n",
              "      <th>24</th>\n",
              "      <td>LAURO</td>\n",
              "      <td>M</td>\n",
              "      <td>tecnologia</td>\n",
              "      <td>26</td>\n",
              "      <td>Engenheiro de Software</td>\n",
              "      <td>5000</td>\n",
              "    </tr>\n",
              "  </tbody>\n",
              "</table>\n",
              "</div>"
            ],
            "text/plain": [
              "       nome sexo       setor  idade                  funcao  salario\n",
              "22    JOANA    F  tecnologia     29  Engenheiro de Software     5000\n",
              "23  KLAYTON    M  tecnologia     33                     NaN     5000\n",
              "24    LAURO    M  tecnologia     26  Engenheiro de Software     5000"
            ]
          },
          "metadata": {
            "tags": []
          },
          "execution_count": 23
        }
      ]
    },
    {
      "cell_type": "code",
      "metadata": {
        "colab": {
          "base_uri": "https://localhost:8080/",
          "height": 204
        },
        "id": "v4XMfDilEw6m",
        "outputId": "e3230c33-856b-4e3b-89d5-e3a3f1b1b36e"
      },
      "source": [
        "# ou somente os registros de 5 a 9\n",
        "df.iloc[5:10]"
      ],
      "execution_count": 24,
      "outputs": [
        {
          "output_type": "execute_result",
          "data": {
            "text/html": [
              "<div>\n",
              "<style scoped>\n",
              "    .dataframe tbody tr th:only-of-type {\n",
              "        vertical-align: middle;\n",
              "    }\n",
              "\n",
              "    .dataframe tbody tr th {\n",
              "        vertical-align: top;\n",
              "    }\n",
              "\n",
              "    .dataframe thead th {\n",
              "        text-align: right;\n",
              "    }\n",
              "</style>\n",
              "<table border=\"1\" class=\"dataframe\">\n",
              "  <thead>\n",
              "    <tr style=\"text-align: right;\">\n",
              "      <th></th>\n",
              "      <th>nome</th>\n",
              "      <th>sexo</th>\n",
              "      <th>setor</th>\n",
              "      <th>idade</th>\n",
              "      <th>funcao</th>\n",
              "      <th>salario</th>\n",
              "    </tr>\n",
              "  </thead>\n",
              "  <tbody>\n",
              "    <tr>\n",
              "      <th>5</th>\n",
              "      <td>SANDRO</td>\n",
              "      <td>M</td>\n",
              "      <td>artes</td>\n",
              "      <td>48</td>\n",
              "      <td>NaN</td>\n",
              "      <td>4000</td>\n",
              "    </tr>\n",
              "    <tr>\n",
              "      <th>6</th>\n",
              "      <td>VANESSA</td>\n",
              "      <td>F</td>\n",
              "      <td>artes</td>\n",
              "      <td>29</td>\n",
              "      <td>assistente</td>\n",
              "      <td>4000</td>\n",
              "    </tr>\n",
              "    <tr>\n",
              "      <th>7</th>\n",
              "      <td>MARCOS</td>\n",
              "      <td>M</td>\n",
              "      <td>comercial</td>\n",
              "      <td>49</td>\n",
              "      <td>executivo de contas</td>\n",
              "      <td>3000</td>\n",
              "    </tr>\n",
              "    <tr>\n",
              "      <th>8</th>\n",
              "      <td>CARLA</td>\n",
              "      <td>F</td>\n",
              "      <td>comercial</td>\n",
              "      <td>22</td>\n",
              "      <td>Gerente</td>\n",
              "      <td>7000</td>\n",
              "    </tr>\n",
              "    <tr>\n",
              "      <th>9</th>\n",
              "      <td>DANIELA</td>\n",
              "      <td>F</td>\n",
              "      <td>comercial</td>\n",
              "      <td>50</td>\n",
              "      <td>executivo de contas</td>\n",
              "      <td>3000</td>\n",
              "    </tr>\n",
              "  </tbody>\n",
              "</table>\n",
              "</div>"
            ],
            "text/plain": [
              "      nome sexo      setor  idade               funcao  salario\n",
              "5   SANDRO    M      artes     48                  NaN     4000\n",
              "6  VANESSA    F      artes     29           assistente     4000\n",
              "7   MARCOS    M  comercial     49  executivo de contas     3000\n",
              "8    CARLA    F  comercial     22             Gerente      7000\n",
              "9  DANIELA    F  comercial     50  executivo de contas     3000"
            ]
          },
          "metadata": {
            "tags": []
          },
          "execution_count": 24
        }
      ]
    },
    {
      "cell_type": "markdown",
      "metadata": {
        "id": "cNYOvYA6E51e"
      },
      "source": [
        "Assim como exibimos os valores pelas linhas, podemos também fazer a exibição pelas colunas. Vamos a alguns exemplos"
      ]
    },
    {
      "cell_type": "code",
      "metadata": {
        "colab": {
          "base_uri": "https://localhost:8080/"
        },
        "id": "nb_9qw-iFEBb",
        "outputId": "3812f608-ff71-4883-a99a-a5a96a5bba17"
      },
      "source": [
        "# retornar somente a coluna nome\n",
        "df[\"nome\"]  \n",
        "# ou df.nome maaaass cuidado, é mais recomendado utilizar o primeiro formato\n",
        "# pois algumas vezes temos nome de colunas como [\"Nome Completo\"]"
      ],
      "execution_count": 25,
      "outputs": [
        {
          "output_type": "execute_result",
          "data": {
            "text/plain": [
              "0      ANTONIO\n",
              "1      GUSTAVO\n",
              "2        NORMA\n",
              "3     QUITERIA\n",
              "4       RENATA\n",
              "5       SANDRO\n",
              "6      VANESSA\n",
              "7       MARCOS\n",
              "8        CARLA\n",
              "9      DANIELA\n",
              "10     EDUARDO\n",
              "11       PETRO\n",
              "12      OTAVIO\n",
              "13     BEATRIZ\n",
              "14     TEODORO\n",
              "15      ZURIEL\n",
              "16       FABIA\n",
              "17      UBALDO\n",
              "18      XAVIER\n",
              "19     YOLANDA\n",
              "20     HELOISA\n",
              "21    ISABELLE\n",
              "22       JOANA\n",
              "23     KLAYTON\n",
              "24       LAURO\n",
              "Name: nome, dtype: object"
            ]
          },
          "metadata": {
            "tags": []
          },
          "execution_count": 25
        }
      ]
    },
    {
      "cell_type": "code",
      "metadata": {
        "colab": {
          "base_uri": "https://localhost:8080/",
          "height": 824
        },
        "id": "grJlg0vAFfjG",
        "outputId": "6043e371-8eb2-4861-a312-a17ef9e28a96"
      },
      "source": [
        "# para mais colunas, utilizamos a estrutura de vetor (array)\n",
        "colunas = [\"nome\", \"sexo\"]\n",
        "df[colunas] # ou df[[\"nome\", \"sexo\"]]"
      ],
      "execution_count": 26,
      "outputs": [
        {
          "output_type": "execute_result",
          "data": {
            "text/html": [
              "<div>\n",
              "<style scoped>\n",
              "    .dataframe tbody tr th:only-of-type {\n",
              "        vertical-align: middle;\n",
              "    }\n",
              "\n",
              "    .dataframe tbody tr th {\n",
              "        vertical-align: top;\n",
              "    }\n",
              "\n",
              "    .dataframe thead th {\n",
              "        text-align: right;\n",
              "    }\n",
              "</style>\n",
              "<table border=\"1\" class=\"dataframe\">\n",
              "  <thead>\n",
              "    <tr style=\"text-align: right;\">\n",
              "      <th></th>\n",
              "      <th>nome</th>\n",
              "      <th>sexo</th>\n",
              "    </tr>\n",
              "  </thead>\n",
              "  <tbody>\n",
              "    <tr>\n",
              "      <th>0</th>\n",
              "      <td>ANTONIO</td>\n",
              "      <td>M</td>\n",
              "    </tr>\n",
              "    <tr>\n",
              "      <th>1</th>\n",
              "      <td>GUSTAVO</td>\n",
              "      <td>M</td>\n",
              "    </tr>\n",
              "    <tr>\n",
              "      <th>2</th>\n",
              "      <td>NORMA</td>\n",
              "      <td>F</td>\n",
              "    </tr>\n",
              "    <tr>\n",
              "      <th>3</th>\n",
              "      <td>QUITERIA</td>\n",
              "      <td>F</td>\n",
              "    </tr>\n",
              "    <tr>\n",
              "      <th>4</th>\n",
              "      <td>RENATA</td>\n",
              "      <td>F</td>\n",
              "    </tr>\n",
              "    <tr>\n",
              "      <th>5</th>\n",
              "      <td>SANDRO</td>\n",
              "      <td>M</td>\n",
              "    </tr>\n",
              "    <tr>\n",
              "      <th>6</th>\n",
              "      <td>VANESSA</td>\n",
              "      <td>F</td>\n",
              "    </tr>\n",
              "    <tr>\n",
              "      <th>7</th>\n",
              "      <td>MARCOS</td>\n",
              "      <td>M</td>\n",
              "    </tr>\n",
              "    <tr>\n",
              "      <th>8</th>\n",
              "      <td>CARLA</td>\n",
              "      <td>F</td>\n",
              "    </tr>\n",
              "    <tr>\n",
              "      <th>9</th>\n",
              "      <td>DANIELA</td>\n",
              "      <td>F</td>\n",
              "    </tr>\n",
              "    <tr>\n",
              "      <th>10</th>\n",
              "      <td>EDUARDO</td>\n",
              "      <td>M</td>\n",
              "    </tr>\n",
              "    <tr>\n",
              "      <th>11</th>\n",
              "      <td>PETRO</td>\n",
              "      <td>M</td>\n",
              "    </tr>\n",
              "    <tr>\n",
              "      <th>12</th>\n",
              "      <td>OTAVIO</td>\n",
              "      <td>M</td>\n",
              "    </tr>\n",
              "    <tr>\n",
              "      <th>13</th>\n",
              "      <td>BEATRIZ</td>\n",
              "      <td>F</td>\n",
              "    </tr>\n",
              "    <tr>\n",
              "      <th>14</th>\n",
              "      <td>TEODORO</td>\n",
              "      <td>M</td>\n",
              "    </tr>\n",
              "    <tr>\n",
              "      <th>15</th>\n",
              "      <td>ZURIEL</td>\n",
              "      <td>M</td>\n",
              "    </tr>\n",
              "    <tr>\n",
              "      <th>16</th>\n",
              "      <td>FABIA</td>\n",
              "      <td>F</td>\n",
              "    </tr>\n",
              "    <tr>\n",
              "      <th>17</th>\n",
              "      <td>UBALDO</td>\n",
              "      <td>M</td>\n",
              "    </tr>\n",
              "    <tr>\n",
              "      <th>18</th>\n",
              "      <td>XAVIER</td>\n",
              "      <td>M</td>\n",
              "    </tr>\n",
              "    <tr>\n",
              "      <th>19</th>\n",
              "      <td>YOLANDA</td>\n",
              "      <td>F</td>\n",
              "    </tr>\n",
              "    <tr>\n",
              "      <th>20</th>\n",
              "      <td>HELOISA</td>\n",
              "      <td>F</td>\n",
              "    </tr>\n",
              "    <tr>\n",
              "      <th>21</th>\n",
              "      <td>ISABELLE</td>\n",
              "      <td>F</td>\n",
              "    </tr>\n",
              "    <tr>\n",
              "      <th>22</th>\n",
              "      <td>JOANA</td>\n",
              "      <td>F</td>\n",
              "    </tr>\n",
              "    <tr>\n",
              "      <th>23</th>\n",
              "      <td>KLAYTON</td>\n",
              "      <td>M</td>\n",
              "    </tr>\n",
              "    <tr>\n",
              "      <th>24</th>\n",
              "      <td>LAURO</td>\n",
              "      <td>M</td>\n",
              "    </tr>\n",
              "  </tbody>\n",
              "</table>\n",
              "</div>"
            ],
            "text/plain": [
              "        nome sexo\n",
              "0    ANTONIO    M\n",
              "1    GUSTAVO    M\n",
              "2      NORMA    F\n",
              "3   QUITERIA    F\n",
              "4     RENATA    F\n",
              "5     SANDRO    M\n",
              "6    VANESSA    F\n",
              "7     MARCOS    M\n",
              "8      CARLA    F\n",
              "9    DANIELA    F\n",
              "10   EDUARDO    M\n",
              "11     PETRO    M\n",
              "12    OTAVIO    M\n",
              "13   BEATRIZ    F\n",
              "14   TEODORO    M\n",
              "15    ZURIEL    M\n",
              "16     FABIA    F\n",
              "17    UBALDO    M\n",
              "18    XAVIER    M\n",
              "19   YOLANDA    F\n",
              "20   HELOISA    F\n",
              "21  ISABELLE    F\n",
              "22     JOANA    F\n",
              "23   KLAYTON    M\n",
              "24     LAURO    M"
            ]
          },
          "metadata": {
            "tags": []
          },
          "execution_count": 26
        }
      ]
    },
    {
      "cell_type": "markdown",
      "metadata": {
        "id": "SZgpy5biFzca"
      },
      "source": [
        "Como também já comentei, imagine um dataframe com milhões de linhas isso exigiria uma performance melhor da sua máquina ou aplicação mas como nosso dataframe é super pequeno (shape 25, 6) isso não está afetando nosso exemplo.\n",
        "\n",
        "Outra dica legal é você também utilizar o que já aprendemos anteriormente."
      ]
    },
    {
      "cell_type": "code",
      "metadata": {
        "colab": {
          "base_uri": "https://localhost:8080/",
          "height": 173
        },
        "id": "u-jDwuAgGT1R",
        "outputId": "e3abd3ec-4354-4a02-bd81-a17dfe0db6ac"
      },
      "source": [
        "# bloco com nome e sexo mas somente entre os registros de 5 a 9\n",
        "df.iloc[5:9][[\"nome\", \"sexo\"]]"
      ],
      "execution_count": 27,
      "outputs": [
        {
          "output_type": "execute_result",
          "data": {
            "text/html": [
              "<div>\n",
              "<style scoped>\n",
              "    .dataframe tbody tr th:only-of-type {\n",
              "        vertical-align: middle;\n",
              "    }\n",
              "\n",
              "    .dataframe tbody tr th {\n",
              "        vertical-align: top;\n",
              "    }\n",
              "\n",
              "    .dataframe thead th {\n",
              "        text-align: right;\n",
              "    }\n",
              "</style>\n",
              "<table border=\"1\" class=\"dataframe\">\n",
              "  <thead>\n",
              "    <tr style=\"text-align: right;\">\n",
              "      <th></th>\n",
              "      <th>nome</th>\n",
              "      <th>sexo</th>\n",
              "    </tr>\n",
              "  </thead>\n",
              "  <tbody>\n",
              "    <tr>\n",
              "      <th>5</th>\n",
              "      <td>SANDRO</td>\n",
              "      <td>M</td>\n",
              "    </tr>\n",
              "    <tr>\n",
              "      <th>6</th>\n",
              "      <td>VANESSA</td>\n",
              "      <td>F</td>\n",
              "    </tr>\n",
              "    <tr>\n",
              "      <th>7</th>\n",
              "      <td>MARCOS</td>\n",
              "      <td>M</td>\n",
              "    </tr>\n",
              "    <tr>\n",
              "      <th>8</th>\n",
              "      <td>CARLA</td>\n",
              "      <td>F</td>\n",
              "    </tr>\n",
              "  </tbody>\n",
              "</table>\n",
              "</div>"
            ],
            "text/plain": [
              "      nome sexo\n",
              "5   SANDRO    M\n",
              "6  VANESSA    F\n",
              "7   MARCOS    M\n",
              "8    CARLA    F"
            ]
          },
          "metadata": {
            "tags": []
          },
          "execution_count": 27
        }
      ]
    },
    {
      "cell_type": "markdown",
      "metadata": {
        "id": "Jupe-Q1xHFay"
      },
      "source": [
        "**Italo, posso fazer cópias de dataframe?**\n",
        "Sim pode e isso é muito comum pois algumas vezes preparamos nosso dataframe e a partir disso, podemos por executar várias tarefas e, como isso perder todo o nosso trabalho anterior. Então, antes disso fazemos uma cópia. Mas lembre-se, você fará CÓPIA, entendeu? Não? Sem problemas, eu também já perdi tempo por não me atentar a isso, então segue exemplos"
      ]
    },
    {
      "cell_type": "code",
      "metadata": {
        "colab": {
          "base_uri": "https://localhost:8080/",
          "height": 204
        },
        "id": "Ij1yY3RLHDwA",
        "outputId": "197c6f92-7c4e-45a2-b2df-a3994458cedc"
      },
      "source": [
        "colunas = [\"nome\", \"salario\"]\n",
        "df1 = df.iloc[:5][colunas]\n",
        "df1"
      ],
      "execution_count": 28,
      "outputs": [
        {
          "output_type": "execute_result",
          "data": {
            "text/html": [
              "<div>\n",
              "<style scoped>\n",
              "    .dataframe tbody tr th:only-of-type {\n",
              "        vertical-align: middle;\n",
              "    }\n",
              "\n",
              "    .dataframe tbody tr th {\n",
              "        vertical-align: top;\n",
              "    }\n",
              "\n",
              "    .dataframe thead th {\n",
              "        text-align: right;\n",
              "    }\n",
              "</style>\n",
              "<table border=\"1\" class=\"dataframe\">\n",
              "  <thead>\n",
              "    <tr style=\"text-align: right;\">\n",
              "      <th></th>\n",
              "      <th>nome</th>\n",
              "      <th>salario</th>\n",
              "    </tr>\n",
              "  </thead>\n",
              "  <tbody>\n",
              "    <tr>\n",
              "      <th>0</th>\n",
              "      <td>ANTONIO</td>\n",
              "      <td>15000</td>\n",
              "    </tr>\n",
              "    <tr>\n",
              "      <th>1</th>\n",
              "      <td>GUSTAVO</td>\n",
              "      <td>3000</td>\n",
              "    </tr>\n",
              "    <tr>\n",
              "      <th>2</th>\n",
              "      <td>NORMA</td>\n",
              "      <td>3000</td>\n",
              "    </tr>\n",
              "    <tr>\n",
              "      <th>3</th>\n",
              "      <td>QUITERIA</td>\n",
              "      <td>6000</td>\n",
              "    </tr>\n",
              "    <tr>\n",
              "      <th>4</th>\n",
              "      <td>RENATA</td>\n",
              "      <td>5000</td>\n",
              "    </tr>\n",
              "  </tbody>\n",
              "</table>\n",
              "</div>"
            ],
            "text/plain": [
              "       nome  salario\n",
              "0   ANTONIO    15000\n",
              "1   GUSTAVO     3000\n",
              "2     NORMA     3000\n",
              "3  QUITERIA     6000\n",
              "4    RENATA     5000"
            ]
          },
          "metadata": {
            "tags": []
          },
          "execution_count": 28
        }
      ]
    },
    {
      "cell_type": "code",
      "metadata": {
        "colab": {
          "base_uri": "https://localhost:8080/",
          "height": 204
        },
        "id": "u_doSvR4H-mp",
        "outputId": "2f27e3c9-109f-40cf-cdc4-a3dfbba8b82a"
      },
      "source": [
        "# vamos fazer de conta que nosso df1 é o dataframe original e queremos fazer uma \n",
        "# cópia dele\n",
        "df2 = df1\n",
        "df2"
      ],
      "execution_count": 29,
      "outputs": [
        {
          "output_type": "execute_result",
          "data": {
            "text/html": [
              "<div>\n",
              "<style scoped>\n",
              "    .dataframe tbody tr th:only-of-type {\n",
              "        vertical-align: middle;\n",
              "    }\n",
              "\n",
              "    .dataframe tbody tr th {\n",
              "        vertical-align: top;\n",
              "    }\n",
              "\n",
              "    .dataframe thead th {\n",
              "        text-align: right;\n",
              "    }\n",
              "</style>\n",
              "<table border=\"1\" class=\"dataframe\">\n",
              "  <thead>\n",
              "    <tr style=\"text-align: right;\">\n",
              "      <th></th>\n",
              "      <th>nome</th>\n",
              "      <th>salario</th>\n",
              "    </tr>\n",
              "  </thead>\n",
              "  <tbody>\n",
              "    <tr>\n",
              "      <th>0</th>\n",
              "      <td>ANTONIO</td>\n",
              "      <td>15000</td>\n",
              "    </tr>\n",
              "    <tr>\n",
              "      <th>1</th>\n",
              "      <td>GUSTAVO</td>\n",
              "      <td>3000</td>\n",
              "    </tr>\n",
              "    <tr>\n",
              "      <th>2</th>\n",
              "      <td>NORMA</td>\n",
              "      <td>3000</td>\n",
              "    </tr>\n",
              "    <tr>\n",
              "      <th>3</th>\n",
              "      <td>QUITERIA</td>\n",
              "      <td>6000</td>\n",
              "    </tr>\n",
              "    <tr>\n",
              "      <th>4</th>\n",
              "      <td>RENATA</td>\n",
              "      <td>5000</td>\n",
              "    </tr>\n",
              "  </tbody>\n",
              "</table>\n",
              "</div>"
            ],
            "text/plain": [
              "       nome  salario\n",
              "0   ANTONIO    15000\n",
              "1   GUSTAVO     3000\n",
              "2     NORMA     3000\n",
              "3  QUITERIA     6000\n",
              "4    RENATA     5000"
            ]
          },
          "metadata": {
            "tags": []
          },
          "execution_count": 29
        }
      ]
    },
    {
      "cell_type": "code",
      "metadata": {
        "colab": {
          "base_uri": "https://localhost:8080/",
          "height": 204
        },
        "id": "6ctkjCJgIUQ4",
        "outputId": "15028654-0ee8-4bf1-86cf-48e4a78f9fb3"
      },
      "source": [
        "# o df2 está igual ao df1, então vamos modificá-lo\n",
        "# vamos usar um dos primeiros exemplos para atribuir valor a uma coluna\n",
        "# então vou deixar todos os salários do df2 com o valor 1000\n",
        "df2[\"salario\"] = 1000\n",
        "df2"
      ],
      "execution_count": 30,
      "outputs": [
        {
          "output_type": "execute_result",
          "data": {
            "text/html": [
              "<div>\n",
              "<style scoped>\n",
              "    .dataframe tbody tr th:only-of-type {\n",
              "        vertical-align: middle;\n",
              "    }\n",
              "\n",
              "    .dataframe tbody tr th {\n",
              "        vertical-align: top;\n",
              "    }\n",
              "\n",
              "    .dataframe thead th {\n",
              "        text-align: right;\n",
              "    }\n",
              "</style>\n",
              "<table border=\"1\" class=\"dataframe\">\n",
              "  <thead>\n",
              "    <tr style=\"text-align: right;\">\n",
              "      <th></th>\n",
              "      <th>nome</th>\n",
              "      <th>salario</th>\n",
              "    </tr>\n",
              "  </thead>\n",
              "  <tbody>\n",
              "    <tr>\n",
              "      <th>0</th>\n",
              "      <td>ANTONIO</td>\n",
              "      <td>1000</td>\n",
              "    </tr>\n",
              "    <tr>\n",
              "      <th>1</th>\n",
              "      <td>GUSTAVO</td>\n",
              "      <td>1000</td>\n",
              "    </tr>\n",
              "    <tr>\n",
              "      <th>2</th>\n",
              "      <td>NORMA</td>\n",
              "      <td>1000</td>\n",
              "    </tr>\n",
              "    <tr>\n",
              "      <th>3</th>\n",
              "      <td>QUITERIA</td>\n",
              "      <td>1000</td>\n",
              "    </tr>\n",
              "    <tr>\n",
              "      <th>4</th>\n",
              "      <td>RENATA</td>\n",
              "      <td>1000</td>\n",
              "    </tr>\n",
              "  </tbody>\n",
              "</table>\n",
              "</div>"
            ],
            "text/plain": [
              "       nome  salario\n",
              "0   ANTONIO     1000\n",
              "1   GUSTAVO     1000\n",
              "2     NORMA     1000\n",
              "3  QUITERIA     1000\n",
              "4    RENATA     1000"
            ]
          },
          "metadata": {
            "tags": []
          },
          "execution_count": 30
        }
      ]
    },
    {
      "cell_type": "code",
      "metadata": {
        "colab": {
          "base_uri": "https://localhost:8080/",
          "height": 204
        },
        "id": "Hza0y0UlIrkn",
        "outputId": "98932d67-a7e9-403f-f9b5-c7a7c16ad173"
      },
      "source": [
        "# e vamos ver a diferença com o df1, exibindo-o novamente\n",
        "df1"
      ],
      "execution_count": 31,
      "outputs": [
        {
          "output_type": "execute_result",
          "data": {
            "text/html": [
              "<div>\n",
              "<style scoped>\n",
              "    .dataframe tbody tr th:only-of-type {\n",
              "        vertical-align: middle;\n",
              "    }\n",
              "\n",
              "    .dataframe tbody tr th {\n",
              "        vertical-align: top;\n",
              "    }\n",
              "\n",
              "    .dataframe thead th {\n",
              "        text-align: right;\n",
              "    }\n",
              "</style>\n",
              "<table border=\"1\" class=\"dataframe\">\n",
              "  <thead>\n",
              "    <tr style=\"text-align: right;\">\n",
              "      <th></th>\n",
              "      <th>nome</th>\n",
              "      <th>salario</th>\n",
              "    </tr>\n",
              "  </thead>\n",
              "  <tbody>\n",
              "    <tr>\n",
              "      <th>0</th>\n",
              "      <td>ANTONIO</td>\n",
              "      <td>1000</td>\n",
              "    </tr>\n",
              "    <tr>\n",
              "      <th>1</th>\n",
              "      <td>GUSTAVO</td>\n",
              "      <td>1000</td>\n",
              "    </tr>\n",
              "    <tr>\n",
              "      <th>2</th>\n",
              "      <td>NORMA</td>\n",
              "      <td>1000</td>\n",
              "    </tr>\n",
              "    <tr>\n",
              "      <th>3</th>\n",
              "      <td>QUITERIA</td>\n",
              "      <td>1000</td>\n",
              "    </tr>\n",
              "    <tr>\n",
              "      <th>4</th>\n",
              "      <td>RENATA</td>\n",
              "      <td>1000</td>\n",
              "    </tr>\n",
              "  </tbody>\n",
              "</table>\n",
              "</div>"
            ],
            "text/plain": [
              "       nome  salario\n",
              "0   ANTONIO     1000\n",
              "1   GUSTAVO     1000\n",
              "2     NORMA     1000\n",
              "3  QUITERIA     1000\n",
              "4    RENATA     1000"
            ]
          },
          "metadata": {
            "tags": []
          },
          "execution_count": 31
        }
      ]
    },
    {
      "cell_type": "markdown",
      "metadata": {
        "id": "0p3R6Bs3Jhou"
      },
      "source": [
        "Viram o problema?\n",
        "Nós alteramos o salário do df2 e acabou alterando também o salário do df1 e isso acontece pq quando utilizamos o = criamos apenas um ponteiro de referencia entre o df2 e o df1. Para não ter mais esse problema, o pandas oferece o **.copy**"
      ]
    },
    {
      "cell_type": "code",
      "metadata": {
        "colab": {
          "base_uri": "https://localhost:8080/",
          "height": 204
        },
        "id": "mc0y2FRCI5g_",
        "outputId": "4e03dd73-2d65-4de7-d801-26a846144b3e"
      },
      "source": [
        "# resumidamente, vamos a solução\n",
        "# parte 1\n",
        "colunas = [\"nome\", \"salario\"]\n",
        "df1 = df.iloc[:5][colunas].copy()\n",
        "# parte 2 - .copy é a solução\n",
        "df2 = df1.copy()\n",
        "# parte 3, alterando os valores do salario\n",
        "df2['salario'] = 1000\n",
        "df2"
      ],
      "execution_count": 32,
      "outputs": [
        {
          "output_type": "execute_result",
          "data": {
            "text/html": [
              "<div>\n",
              "<style scoped>\n",
              "    .dataframe tbody tr th:only-of-type {\n",
              "        vertical-align: middle;\n",
              "    }\n",
              "\n",
              "    .dataframe tbody tr th {\n",
              "        vertical-align: top;\n",
              "    }\n",
              "\n",
              "    .dataframe thead th {\n",
              "        text-align: right;\n",
              "    }\n",
              "</style>\n",
              "<table border=\"1\" class=\"dataframe\">\n",
              "  <thead>\n",
              "    <tr style=\"text-align: right;\">\n",
              "      <th></th>\n",
              "      <th>nome</th>\n",
              "      <th>salario</th>\n",
              "    </tr>\n",
              "  </thead>\n",
              "  <tbody>\n",
              "    <tr>\n",
              "      <th>0</th>\n",
              "      <td>ANTONIO</td>\n",
              "      <td>1000</td>\n",
              "    </tr>\n",
              "    <tr>\n",
              "      <th>1</th>\n",
              "      <td>GUSTAVO</td>\n",
              "      <td>1000</td>\n",
              "    </tr>\n",
              "    <tr>\n",
              "      <th>2</th>\n",
              "      <td>NORMA</td>\n",
              "      <td>1000</td>\n",
              "    </tr>\n",
              "    <tr>\n",
              "      <th>3</th>\n",
              "      <td>QUITERIA</td>\n",
              "      <td>1000</td>\n",
              "    </tr>\n",
              "    <tr>\n",
              "      <th>4</th>\n",
              "      <td>RENATA</td>\n",
              "      <td>1000</td>\n",
              "    </tr>\n",
              "  </tbody>\n",
              "</table>\n",
              "</div>"
            ],
            "text/plain": [
              "       nome  salario\n",
              "0   ANTONIO     1000\n",
              "1   GUSTAVO     1000\n",
              "2     NORMA     1000\n",
              "3  QUITERIA     1000\n",
              "4    RENATA     1000"
            ]
          },
          "metadata": {
            "tags": []
          },
          "execution_count": 32
        }
      ]
    },
    {
      "cell_type": "code",
      "metadata": {
        "colab": {
          "base_uri": "https://localhost:8080/",
          "height": 204
        },
        "id": "G-Uh0MpaJgAF",
        "outputId": "7ee5b15d-5bab-4aae-d431-d3de261e41ad"
      },
      "source": [
        "# e o original df1\n",
        "df1"
      ],
      "execution_count": 33,
      "outputs": [
        {
          "output_type": "execute_result",
          "data": {
            "text/html": [
              "<div>\n",
              "<style scoped>\n",
              "    .dataframe tbody tr th:only-of-type {\n",
              "        vertical-align: middle;\n",
              "    }\n",
              "\n",
              "    .dataframe tbody tr th {\n",
              "        vertical-align: top;\n",
              "    }\n",
              "\n",
              "    .dataframe thead th {\n",
              "        text-align: right;\n",
              "    }\n",
              "</style>\n",
              "<table border=\"1\" class=\"dataframe\">\n",
              "  <thead>\n",
              "    <tr style=\"text-align: right;\">\n",
              "      <th></th>\n",
              "      <th>nome</th>\n",
              "      <th>salario</th>\n",
              "    </tr>\n",
              "  </thead>\n",
              "  <tbody>\n",
              "    <tr>\n",
              "      <th>0</th>\n",
              "      <td>ANTONIO</td>\n",
              "      <td>15000</td>\n",
              "    </tr>\n",
              "    <tr>\n",
              "      <th>1</th>\n",
              "      <td>GUSTAVO</td>\n",
              "      <td>3000</td>\n",
              "    </tr>\n",
              "    <tr>\n",
              "      <th>2</th>\n",
              "      <td>NORMA</td>\n",
              "      <td>3000</td>\n",
              "    </tr>\n",
              "    <tr>\n",
              "      <th>3</th>\n",
              "      <td>QUITERIA</td>\n",
              "      <td>6000</td>\n",
              "    </tr>\n",
              "    <tr>\n",
              "      <th>4</th>\n",
              "      <td>RENATA</td>\n",
              "      <td>5000</td>\n",
              "    </tr>\n",
              "  </tbody>\n",
              "</table>\n",
              "</div>"
            ],
            "text/plain": [
              "       nome  salario\n",
              "0   ANTONIO    15000\n",
              "1   GUSTAVO     3000\n",
              "2     NORMA     3000\n",
              "3  QUITERIA     6000\n",
              "4    RENATA     5000"
            ]
          },
          "metadata": {
            "tags": []
          },
          "execution_count": 33
        }
      ]
    },
    {
      "cell_type": "markdown",
      "metadata": {
        "id": "kEUAuGaMKe2Q"
      },
      "source": [
        "# **Alterar o layout do dataframe**"
      ]
    },
    {
      "cell_type": "markdown",
      "metadata": {
        "id": "5Bg6wHpILugI"
      },
      "source": [
        "Existem situações onde precisamos alterar o layout do nosso dataframe para um formato onde uma ou mais colunas se tornam identificadora enquanto as outras colunas se tornam as medidas (valores)."
      ]
    },
    {
      "cell_type": "markdown",
      "metadata": {
        "id": "-H_y9RcqCz6r"
      },
      "source": [
        "**.melt()**\n",
        "\n",
        "Quando queremos transformar as linhas do dataframe em coluna, utilizamos a função .melt() mas creio que com o exemplo facilitará mais o entendimento."
      ]
    },
    {
      "cell_type": "code",
      "metadata": {
        "colab": {
          "base_uri": "https://localhost:8080/",
          "height": 111
        },
        "id": "TTvjIZFNKeSx",
        "outputId": "17fa3f8a-2f77-4003-a2af-b0f6148932b0"
      },
      "source": [
        "# pra facilitar a visualização, criamos o dataframe df1 com uma cópia do df \n",
        "# contendo somente as 2 primeiras linhas e todas as suas colunas\n",
        "df1 = df.iloc[:2].copy() #\n",
        "df1"
      ],
      "execution_count": 34,
      "outputs": [
        {
          "output_type": "execute_result",
          "data": {
            "text/html": [
              "<div>\n",
              "<style scoped>\n",
              "    .dataframe tbody tr th:only-of-type {\n",
              "        vertical-align: middle;\n",
              "    }\n",
              "\n",
              "    .dataframe tbody tr th {\n",
              "        vertical-align: top;\n",
              "    }\n",
              "\n",
              "    .dataframe thead th {\n",
              "        text-align: right;\n",
              "    }\n",
              "</style>\n",
              "<table border=\"1\" class=\"dataframe\">\n",
              "  <thead>\n",
              "    <tr style=\"text-align: right;\">\n",
              "      <th></th>\n",
              "      <th>nome</th>\n",
              "      <th>sexo</th>\n",
              "      <th>setor</th>\n",
              "      <th>idade</th>\n",
              "      <th>funcao</th>\n",
              "      <th>salario</th>\n",
              "    </tr>\n",
              "  </thead>\n",
              "  <tbody>\n",
              "    <tr>\n",
              "      <th>0</th>\n",
              "      <td>ANTONIO</td>\n",
              "      <td>M</td>\n",
              "      <td>administrativo</td>\n",
              "      <td>26</td>\n",
              "      <td>Diretor</td>\n",
              "      <td>15000</td>\n",
              "    </tr>\n",
              "    <tr>\n",
              "      <th>1</th>\n",
              "      <td>GUSTAVO</td>\n",
              "      <td>M</td>\n",
              "      <td>administrativo</td>\n",
              "      <td>29</td>\n",
              "      <td>assistente</td>\n",
              "      <td>3000</td>\n",
              "    </tr>\n",
              "  </tbody>\n",
              "</table>\n",
              "</div>"
            ],
            "text/plain": [
              "      nome sexo           setor  idade      funcao  salario\n",
              "0  ANTONIO    M  administrativo     26     Diretor    15000\n",
              "1  GUSTAVO    M  administrativo     29  assistente     3000"
            ]
          },
          "metadata": {
            "tags": []
          },
          "execution_count": 34
        }
      ]
    },
    {
      "cell_type": "code",
      "metadata": {
        "colab": {
          "base_uri": "https://localhost:8080/"
        },
        "id": "KN42areDNVDF",
        "outputId": "eadc4c04-1b49-4f4f-9685-deb3b24923e7"
      },
      "source": [
        "df1.shape"
      ],
      "execution_count": 35,
      "outputs": [
        {
          "output_type": "execute_result",
          "data": {
            "text/plain": [
              "(2, 6)"
            ]
          },
          "metadata": {
            "tags": []
          },
          "execution_count": 35
        }
      ]
    },
    {
      "cell_type": "code",
      "metadata": {
        "colab": {
          "base_uri": "https://localhost:8080/",
          "height": 421
        },
        "id": "TqBR0-tYKvyR",
        "outputId": "70e671d1-746d-4689-a56c-7bbf8f23b28d"
      },
      "source": [
        "# agora imagine se o nosso desejo fosse o seguinte:\n",
        "# a partir do df1, gere um novo dataframe com 2 colunas, onde \n",
        "# a primeira coluna será a identificação do dado (variable)\n",
        "# e a segunda coluna será a media (value)\n",
        "df2 = df1.melt()\n",
        "df2"
      ],
      "execution_count": 36,
      "outputs": [
        {
          "output_type": "execute_result",
          "data": {
            "text/html": [
              "<div>\n",
              "<style scoped>\n",
              "    .dataframe tbody tr th:only-of-type {\n",
              "        vertical-align: middle;\n",
              "    }\n",
              "\n",
              "    .dataframe tbody tr th {\n",
              "        vertical-align: top;\n",
              "    }\n",
              "\n",
              "    .dataframe thead th {\n",
              "        text-align: right;\n",
              "    }\n",
              "</style>\n",
              "<table border=\"1\" class=\"dataframe\">\n",
              "  <thead>\n",
              "    <tr style=\"text-align: right;\">\n",
              "      <th></th>\n",
              "      <th>variable</th>\n",
              "      <th>value</th>\n",
              "    </tr>\n",
              "  </thead>\n",
              "  <tbody>\n",
              "    <tr>\n",
              "      <th>0</th>\n",
              "      <td>nome</td>\n",
              "      <td>ANTONIO</td>\n",
              "    </tr>\n",
              "    <tr>\n",
              "      <th>1</th>\n",
              "      <td>nome</td>\n",
              "      <td>GUSTAVO</td>\n",
              "    </tr>\n",
              "    <tr>\n",
              "      <th>2</th>\n",
              "      <td>sexo</td>\n",
              "      <td>M</td>\n",
              "    </tr>\n",
              "    <tr>\n",
              "      <th>3</th>\n",
              "      <td>sexo</td>\n",
              "      <td>M</td>\n",
              "    </tr>\n",
              "    <tr>\n",
              "      <th>4</th>\n",
              "      <td>setor</td>\n",
              "      <td>administrativo</td>\n",
              "    </tr>\n",
              "    <tr>\n",
              "      <th>5</th>\n",
              "      <td>setor</td>\n",
              "      <td>administrativo</td>\n",
              "    </tr>\n",
              "    <tr>\n",
              "      <th>6</th>\n",
              "      <td>idade</td>\n",
              "      <td>26</td>\n",
              "    </tr>\n",
              "    <tr>\n",
              "      <th>7</th>\n",
              "      <td>idade</td>\n",
              "      <td>29</td>\n",
              "    </tr>\n",
              "    <tr>\n",
              "      <th>8</th>\n",
              "      <td>funcao</td>\n",
              "      <td>Diretor</td>\n",
              "    </tr>\n",
              "    <tr>\n",
              "      <th>9</th>\n",
              "      <td>funcao</td>\n",
              "      <td>assistente</td>\n",
              "    </tr>\n",
              "    <tr>\n",
              "      <th>10</th>\n",
              "      <td>salario</td>\n",
              "      <td>15000</td>\n",
              "    </tr>\n",
              "    <tr>\n",
              "      <th>11</th>\n",
              "      <td>salario</td>\n",
              "      <td>3000</td>\n",
              "    </tr>\n",
              "  </tbody>\n",
              "</table>\n",
              "</div>"
            ],
            "text/plain": [
              "   variable           value\n",
              "0      nome         ANTONIO\n",
              "1      nome         GUSTAVO\n",
              "2      sexo               M\n",
              "3      sexo               M\n",
              "4     setor  administrativo\n",
              "5     setor  administrativo\n",
              "6     idade              26\n",
              "7     idade              29\n",
              "8    funcao         Diretor\n",
              "9    funcao      assistente\n",
              "10  salario           15000\n",
              "11  salario            3000"
            ]
          },
          "metadata": {
            "tags": []
          },
          "execution_count": 36
        }
      ]
    },
    {
      "cell_type": "code",
      "metadata": {
        "colab": {
          "base_uri": "https://localhost:8080/",
          "height": 421
        },
        "id": "rA_wcE9ZLLSx",
        "outputId": "5ee603f6-b1fc-4891-c1b8-2f22a3fa0baa"
      },
      "source": [
        "# uma dica: caso você deseja alterar o nome das colunas\n",
        "# segue o exemplo abaixo mas lembre-se: esse vetor tem que ter a quantidade de colunas\n",
        "# no nosso caso, como temos somente 2 colunas, nosso array tem somente 2 posições e seus valores\n",
        "df2.columns = [\"campo\", \"valor\"]\n",
        "df2"
      ],
      "execution_count": 37,
      "outputs": [
        {
          "output_type": "execute_result",
          "data": {
            "text/html": [
              "<div>\n",
              "<style scoped>\n",
              "    .dataframe tbody tr th:only-of-type {\n",
              "        vertical-align: middle;\n",
              "    }\n",
              "\n",
              "    .dataframe tbody tr th {\n",
              "        vertical-align: top;\n",
              "    }\n",
              "\n",
              "    .dataframe thead th {\n",
              "        text-align: right;\n",
              "    }\n",
              "</style>\n",
              "<table border=\"1\" class=\"dataframe\">\n",
              "  <thead>\n",
              "    <tr style=\"text-align: right;\">\n",
              "      <th></th>\n",
              "      <th>campo</th>\n",
              "      <th>valor</th>\n",
              "    </tr>\n",
              "  </thead>\n",
              "  <tbody>\n",
              "    <tr>\n",
              "      <th>0</th>\n",
              "      <td>nome</td>\n",
              "      <td>ANTONIO</td>\n",
              "    </tr>\n",
              "    <tr>\n",
              "      <th>1</th>\n",
              "      <td>nome</td>\n",
              "      <td>GUSTAVO</td>\n",
              "    </tr>\n",
              "    <tr>\n",
              "      <th>2</th>\n",
              "      <td>sexo</td>\n",
              "      <td>M</td>\n",
              "    </tr>\n",
              "    <tr>\n",
              "      <th>3</th>\n",
              "      <td>sexo</td>\n",
              "      <td>M</td>\n",
              "    </tr>\n",
              "    <tr>\n",
              "      <th>4</th>\n",
              "      <td>setor</td>\n",
              "      <td>administrativo</td>\n",
              "    </tr>\n",
              "    <tr>\n",
              "      <th>5</th>\n",
              "      <td>setor</td>\n",
              "      <td>administrativo</td>\n",
              "    </tr>\n",
              "    <tr>\n",
              "      <th>6</th>\n",
              "      <td>idade</td>\n",
              "      <td>26</td>\n",
              "    </tr>\n",
              "    <tr>\n",
              "      <th>7</th>\n",
              "      <td>idade</td>\n",
              "      <td>29</td>\n",
              "    </tr>\n",
              "    <tr>\n",
              "      <th>8</th>\n",
              "      <td>funcao</td>\n",
              "      <td>Diretor</td>\n",
              "    </tr>\n",
              "    <tr>\n",
              "      <th>9</th>\n",
              "      <td>funcao</td>\n",
              "      <td>assistente</td>\n",
              "    </tr>\n",
              "    <tr>\n",
              "      <th>10</th>\n",
              "      <td>salario</td>\n",
              "      <td>15000</td>\n",
              "    </tr>\n",
              "    <tr>\n",
              "      <th>11</th>\n",
              "      <td>salario</td>\n",
              "      <td>3000</td>\n",
              "    </tr>\n",
              "  </tbody>\n",
              "</table>\n",
              "</div>"
            ],
            "text/plain": [
              "      campo           valor\n",
              "0      nome         ANTONIO\n",
              "1      nome         GUSTAVO\n",
              "2      sexo               M\n",
              "3      sexo               M\n",
              "4     setor  administrativo\n",
              "5     setor  administrativo\n",
              "6     idade              26\n",
              "7     idade              29\n",
              "8    funcao         Diretor\n",
              "9    funcao      assistente\n",
              "10  salario           15000\n",
              "11  salario            3000"
            ]
          },
          "metadata": {
            "tags": []
          },
          "execution_count": 37
        }
      ]
    },
    {
      "cell_type": "markdown",
      "metadata": {
        "id": "aWbYnxbKOj-d"
      },
      "source": [
        "**.pivot()**\n",
        "\n",
        "A função pivot () é usada para remodelar o dataframe organizado por determinados valores de índice / coluna. \n",
        "Esta função não suporta agregação de dados, vários valores resultarão em um MultiIndex nas colunas.\n",
        "Vamos ao exemplo"
      ]
    },
    {
      "cell_type": "code",
      "metadata": {
        "colab": {
          "base_uri": "https://localhost:8080/",
          "height": 173
        },
        "id": "EpMC2A-oN0p5",
        "outputId": "10bce954-0e09-4ecb-a48a-052dd1d32e42"
      },
      "source": [
        "df2 = pd.DataFrame({\n",
        "    \"mes\": [1, 1, 2, 2],\n",
        "    \"nome\": [\"Joao\", \"Maria\", \"Joao\", \"Maria\"],\n",
        "    \"vendas\": [20000, 20000, 40000, 40000]\n",
        "})\n",
        "df2"
      ],
      "execution_count": 38,
      "outputs": [
        {
          "output_type": "execute_result",
          "data": {
            "text/html": [
              "<div>\n",
              "<style scoped>\n",
              "    .dataframe tbody tr th:only-of-type {\n",
              "        vertical-align: middle;\n",
              "    }\n",
              "\n",
              "    .dataframe tbody tr th {\n",
              "        vertical-align: top;\n",
              "    }\n",
              "\n",
              "    .dataframe thead th {\n",
              "        text-align: right;\n",
              "    }\n",
              "</style>\n",
              "<table border=\"1\" class=\"dataframe\">\n",
              "  <thead>\n",
              "    <tr style=\"text-align: right;\">\n",
              "      <th></th>\n",
              "      <th>mes</th>\n",
              "      <th>nome</th>\n",
              "      <th>vendas</th>\n",
              "    </tr>\n",
              "  </thead>\n",
              "  <tbody>\n",
              "    <tr>\n",
              "      <th>0</th>\n",
              "      <td>1</td>\n",
              "      <td>Joao</td>\n",
              "      <td>20000</td>\n",
              "    </tr>\n",
              "    <tr>\n",
              "      <th>1</th>\n",
              "      <td>1</td>\n",
              "      <td>Maria</td>\n",
              "      <td>20000</td>\n",
              "    </tr>\n",
              "    <tr>\n",
              "      <th>2</th>\n",
              "      <td>2</td>\n",
              "      <td>Joao</td>\n",
              "      <td>40000</td>\n",
              "    </tr>\n",
              "    <tr>\n",
              "      <th>3</th>\n",
              "      <td>2</td>\n",
              "      <td>Maria</td>\n",
              "      <td>40000</td>\n",
              "    </tr>\n",
              "  </tbody>\n",
              "</table>\n",
              "</div>"
            ],
            "text/plain": [
              "   mes   nome  vendas\n",
              "0    1   Joao   20000\n",
              "1    1  Maria   20000\n",
              "2    2   Joao   40000\n",
              "3    2  Maria   40000"
            ]
          },
          "metadata": {
            "tags": []
          },
          "execution_count": 38
        }
      ]
    },
    {
      "cell_type": "code",
      "metadata": {
        "colab": {
          "base_uri": "https://localhost:8080/",
          "height": 142
        },
        "id": "6Sl_-UmROued",
        "outputId": "5ed8c776-e571-4cc0-d52c-44c6c5bf8b39"
      },
      "source": [
        "df2.pivot(index='mes', columns='nome', values='vendas')"
      ],
      "execution_count": 39,
      "outputs": [
        {
          "output_type": "execute_result",
          "data": {
            "text/html": [
              "<div>\n",
              "<style scoped>\n",
              "    .dataframe tbody tr th:only-of-type {\n",
              "        vertical-align: middle;\n",
              "    }\n",
              "\n",
              "    .dataframe tbody tr th {\n",
              "        vertical-align: top;\n",
              "    }\n",
              "\n",
              "    .dataframe thead th {\n",
              "        text-align: right;\n",
              "    }\n",
              "</style>\n",
              "<table border=\"1\" class=\"dataframe\">\n",
              "  <thead>\n",
              "    <tr style=\"text-align: right;\">\n",
              "      <th>nome</th>\n",
              "      <th>Joao</th>\n",
              "      <th>Maria</th>\n",
              "    </tr>\n",
              "    <tr>\n",
              "      <th>mes</th>\n",
              "      <th></th>\n",
              "      <th></th>\n",
              "    </tr>\n",
              "  </thead>\n",
              "  <tbody>\n",
              "    <tr>\n",
              "      <th>1</th>\n",
              "      <td>20000</td>\n",
              "      <td>20000</td>\n",
              "    </tr>\n",
              "    <tr>\n",
              "      <th>2</th>\n",
              "      <td>40000</td>\n",
              "      <td>40000</td>\n",
              "    </tr>\n",
              "  </tbody>\n",
              "</table>\n",
              "</div>"
            ],
            "text/plain": [
              "nome   Joao  Maria\n",
              "mes               \n",
              "1     20000  20000\n",
              "2     40000  40000"
            ]
          },
          "metadata": {
            "tags": []
          },
          "execution_count": 39
        }
      ]
    },
    {
      "cell_type": "markdown",
      "metadata": {
        "id": "lHpoCf-XFcAL"
      },
      "source": [
        "**.pivot_table()**\n",
        "\n",
        "Temos também a função pivot_table() que é usada para criar uma tabela dinâmica no estilo planilha como um dataFrame. Os níveis da tabela dinâmica serão armazenados em objetos MultiIndex (índices hierárquicos) no índice e nas colunas do DataFrame de resultado."
      ]
    },
    {
      "cell_type": "code",
      "metadata": {
        "colab": {
          "base_uri": "https://localhost:8080/",
          "height": 328
        },
        "id": "RN_ijEw3F2y_",
        "outputId": "070cfc97-e7d6-4d0a-d769-5866437231ab"
      },
      "source": [
        "dfTeste = pd.DataFrame({\n",
        "    \"uf\": [\"SP\", \"SP\", \"SP\", \"SP\", \"MG\", \"MG\", \"MG\", \"MG\", \"MG\"],\n",
        "    \"cidade\": [\"A\", \"B\", \"B\", \"A\", \"C\", \"D\", \"D\", \"D\", \"d\"],\n",
        "    \"produto\": [\"P1\", \"P2\", \"P1\", \"P2\", \"P2\", \"P2\", \"P1\", \"P1\", \"P1\"],\n",
        "    \"quantidade\": [1, 1, 1, 1, 1, 1, 1, 1, 1]}\n",
        ")\n",
        "dfTeste"
      ],
      "execution_count": 40,
      "outputs": [
        {
          "output_type": "execute_result",
          "data": {
            "text/html": [
              "<div>\n",
              "<style scoped>\n",
              "    .dataframe tbody tr th:only-of-type {\n",
              "        vertical-align: middle;\n",
              "    }\n",
              "\n",
              "    .dataframe tbody tr th {\n",
              "        vertical-align: top;\n",
              "    }\n",
              "\n",
              "    .dataframe thead th {\n",
              "        text-align: right;\n",
              "    }\n",
              "</style>\n",
              "<table border=\"1\" class=\"dataframe\">\n",
              "  <thead>\n",
              "    <tr style=\"text-align: right;\">\n",
              "      <th></th>\n",
              "      <th>uf</th>\n",
              "      <th>cidade</th>\n",
              "      <th>produto</th>\n",
              "      <th>quantidade</th>\n",
              "    </tr>\n",
              "  </thead>\n",
              "  <tbody>\n",
              "    <tr>\n",
              "      <th>0</th>\n",
              "      <td>SP</td>\n",
              "      <td>A</td>\n",
              "      <td>P1</td>\n",
              "      <td>1</td>\n",
              "    </tr>\n",
              "    <tr>\n",
              "      <th>1</th>\n",
              "      <td>SP</td>\n",
              "      <td>B</td>\n",
              "      <td>P2</td>\n",
              "      <td>1</td>\n",
              "    </tr>\n",
              "    <tr>\n",
              "      <th>2</th>\n",
              "      <td>SP</td>\n",
              "      <td>B</td>\n",
              "      <td>P1</td>\n",
              "      <td>1</td>\n",
              "    </tr>\n",
              "    <tr>\n",
              "      <th>3</th>\n",
              "      <td>SP</td>\n",
              "      <td>A</td>\n",
              "      <td>P2</td>\n",
              "      <td>1</td>\n",
              "    </tr>\n",
              "    <tr>\n",
              "      <th>4</th>\n",
              "      <td>MG</td>\n",
              "      <td>C</td>\n",
              "      <td>P2</td>\n",
              "      <td>1</td>\n",
              "    </tr>\n",
              "    <tr>\n",
              "      <th>5</th>\n",
              "      <td>MG</td>\n",
              "      <td>D</td>\n",
              "      <td>P2</td>\n",
              "      <td>1</td>\n",
              "    </tr>\n",
              "    <tr>\n",
              "      <th>6</th>\n",
              "      <td>MG</td>\n",
              "      <td>D</td>\n",
              "      <td>P1</td>\n",
              "      <td>1</td>\n",
              "    </tr>\n",
              "    <tr>\n",
              "      <th>7</th>\n",
              "      <td>MG</td>\n",
              "      <td>D</td>\n",
              "      <td>P1</td>\n",
              "      <td>1</td>\n",
              "    </tr>\n",
              "    <tr>\n",
              "      <th>8</th>\n",
              "      <td>MG</td>\n",
              "      <td>d</td>\n",
              "      <td>P1</td>\n",
              "      <td>1</td>\n",
              "    </tr>\n",
              "  </tbody>\n",
              "</table>\n",
              "</div>"
            ],
            "text/plain": [
              "   uf cidade produto  quantidade\n",
              "0  SP      A      P1           1\n",
              "1  SP      B      P2           1\n",
              "2  SP      B      P1           1\n",
              "3  SP      A      P2           1\n",
              "4  MG      C      P2           1\n",
              "5  MG      D      P2           1\n",
              "6  MG      D      P1           1\n",
              "7  MG      D      P1           1\n",
              "8  MG      d      P1           1"
            ]
          },
          "metadata": {
            "tags": []
          },
          "execution_count": 40
        }
      ]
    },
    {
      "cell_type": "code",
      "metadata": {
        "colab": {
          "base_uri": "https://localhost:8080/",
          "height": 235
        },
        "id": "okFKfE2CHCZN",
        "outputId": "7e1f1879-38e5-4fde-bdd5-3fecaf8f04f4"
      },
      "source": [
        "dfTeste.pivot_table(values=\"quantidade\", index=[\"uf\", \"cidade\"], columns=\"produto\",\n",
        "                    aggfunc=\"sum\", fill_value=0)"
      ],
      "execution_count": 41,
      "outputs": [
        {
          "output_type": "execute_result",
          "data": {
            "text/html": [
              "<div>\n",
              "<style scoped>\n",
              "    .dataframe tbody tr th:only-of-type {\n",
              "        vertical-align: middle;\n",
              "    }\n",
              "\n",
              "    .dataframe tbody tr th {\n",
              "        vertical-align: top;\n",
              "    }\n",
              "\n",
              "    .dataframe thead th {\n",
              "        text-align: right;\n",
              "    }\n",
              "</style>\n",
              "<table border=\"1\" class=\"dataframe\">\n",
              "  <thead>\n",
              "    <tr style=\"text-align: right;\">\n",
              "      <th></th>\n",
              "      <th>produto</th>\n",
              "      <th>P1</th>\n",
              "      <th>P2</th>\n",
              "    </tr>\n",
              "    <tr>\n",
              "      <th>uf</th>\n",
              "      <th>cidade</th>\n",
              "      <th></th>\n",
              "      <th></th>\n",
              "    </tr>\n",
              "  </thead>\n",
              "  <tbody>\n",
              "    <tr>\n",
              "      <th rowspan=\"3\" valign=\"top\">MG</th>\n",
              "      <th>C</th>\n",
              "      <td>0</td>\n",
              "      <td>1</td>\n",
              "    </tr>\n",
              "    <tr>\n",
              "      <th>D</th>\n",
              "      <td>2</td>\n",
              "      <td>1</td>\n",
              "    </tr>\n",
              "    <tr>\n",
              "      <th>d</th>\n",
              "      <td>1</td>\n",
              "      <td>0</td>\n",
              "    </tr>\n",
              "    <tr>\n",
              "      <th rowspan=\"2\" valign=\"top\">SP</th>\n",
              "      <th>A</th>\n",
              "      <td>1</td>\n",
              "      <td>1</td>\n",
              "    </tr>\n",
              "    <tr>\n",
              "      <th>B</th>\n",
              "      <td>1</td>\n",
              "      <td>1</td>\n",
              "    </tr>\n",
              "  </tbody>\n",
              "</table>\n",
              "</div>"
            ],
            "text/plain": [
              "produto    P1  P2\n",
              "uf cidade        \n",
              "MG C        0   1\n",
              "   D        2   1\n",
              "   d        1   0\n",
              "SP A        1   1\n",
              "   B        1   1"
            ]
          },
          "metadata": {
            "tags": []
          },
          "execution_count": 41
        }
      ]
    },
    {
      "cell_type": "markdown",
      "metadata": {
        "id": "apEJXRTlDEtL"
      },
      "source": [
        "**.drop()**\n",
        "\n"
      ]
    },
    {
      "cell_type": "markdown",
      "metadata": {
        "id": "UH664vzvIy4d"
      },
      "source": [
        "# **Concatenar e combinar dataframes**"
      ]
    },
    {
      "cell_type": "markdown",
      "metadata": {
        "id": "tupxFkgjCXY6"
      },
      "source": [
        "**CONCAT([dataframe1, dataframe2]**"
      ]
    },
    {
      "cell_type": "markdown",
      "metadata": {
        "id": "EXoXAzdkjGwt"
      },
      "source": [
        "Outro recurso que utilizamos bastante é concatenar dois dataframes. A função que iremos utilizar é a **.concat()**. Vamos a alguns exemplos."
      ]
    },
    {
      "cell_type": "code",
      "metadata": {
        "colab": {
          "base_uri": "https://localhost:8080/",
          "height": 0
        },
        "id": "sBYNWv-TjGav",
        "outputId": "fa9a20c5-a7c9-4df3-da2f-3fe844b6da9f"
      },
      "source": [
        "# Vamos concatenar 2 dataframes, como exemplo, o df1 terá os registros com \n",
        "# índice de 0 a 4 e o df2 de 5 a 7\n",
        "df1 = df[:5][[\"nome\", \"salario\"]].copy()\n",
        "df2 = df[5:8][[\"nome\", \"salario\"]].copy()\n",
        "df1"
      ],
      "execution_count": 42,
      "outputs": [
        {
          "output_type": "execute_result",
          "data": {
            "text/html": [
              "<div>\n",
              "<style scoped>\n",
              "    .dataframe tbody tr th:only-of-type {\n",
              "        vertical-align: middle;\n",
              "    }\n",
              "\n",
              "    .dataframe tbody tr th {\n",
              "        vertical-align: top;\n",
              "    }\n",
              "\n",
              "    .dataframe thead th {\n",
              "        text-align: right;\n",
              "    }\n",
              "</style>\n",
              "<table border=\"1\" class=\"dataframe\">\n",
              "  <thead>\n",
              "    <tr style=\"text-align: right;\">\n",
              "      <th></th>\n",
              "      <th>nome</th>\n",
              "      <th>salario</th>\n",
              "    </tr>\n",
              "  </thead>\n",
              "  <tbody>\n",
              "    <tr>\n",
              "      <th>0</th>\n",
              "      <td>ANTONIO</td>\n",
              "      <td>15000</td>\n",
              "    </tr>\n",
              "    <tr>\n",
              "      <th>1</th>\n",
              "      <td>GUSTAVO</td>\n",
              "      <td>3000</td>\n",
              "    </tr>\n",
              "    <tr>\n",
              "      <th>2</th>\n",
              "      <td>NORMA</td>\n",
              "      <td>3000</td>\n",
              "    </tr>\n",
              "    <tr>\n",
              "      <th>3</th>\n",
              "      <td>QUITERIA</td>\n",
              "      <td>6000</td>\n",
              "    </tr>\n",
              "    <tr>\n",
              "      <th>4</th>\n",
              "      <td>RENATA</td>\n",
              "      <td>5000</td>\n",
              "    </tr>\n",
              "  </tbody>\n",
              "</table>\n",
              "</div>"
            ],
            "text/plain": [
              "       nome  salario\n",
              "0   ANTONIO    15000\n",
              "1   GUSTAVO     3000\n",
              "2     NORMA     3000\n",
              "3  QUITERIA     6000\n",
              "4    RENATA     5000"
            ]
          },
          "metadata": {
            "tags": []
          },
          "execution_count": 42
        }
      ]
    },
    {
      "cell_type": "code",
      "metadata": {
        "colab": {
          "base_uri": "https://localhost:8080/",
          "height": 0
        },
        "id": "rQgZBonvjxM9",
        "outputId": "08ee5aab-3078-4494-f4f2-e0faa4580002"
      },
      "source": [
        "df2"
      ],
      "execution_count": 43,
      "outputs": [
        {
          "output_type": "execute_result",
          "data": {
            "text/html": [
              "<div>\n",
              "<style scoped>\n",
              "    .dataframe tbody tr th:only-of-type {\n",
              "        vertical-align: middle;\n",
              "    }\n",
              "\n",
              "    .dataframe tbody tr th {\n",
              "        vertical-align: top;\n",
              "    }\n",
              "\n",
              "    .dataframe thead th {\n",
              "        text-align: right;\n",
              "    }\n",
              "</style>\n",
              "<table border=\"1\" class=\"dataframe\">\n",
              "  <thead>\n",
              "    <tr style=\"text-align: right;\">\n",
              "      <th></th>\n",
              "      <th>nome</th>\n",
              "      <th>salario</th>\n",
              "    </tr>\n",
              "  </thead>\n",
              "  <tbody>\n",
              "    <tr>\n",
              "      <th>5</th>\n",
              "      <td>SANDRO</td>\n",
              "      <td>4000</td>\n",
              "    </tr>\n",
              "    <tr>\n",
              "      <th>6</th>\n",
              "      <td>VANESSA</td>\n",
              "      <td>4000</td>\n",
              "    </tr>\n",
              "    <tr>\n",
              "      <th>7</th>\n",
              "      <td>MARCOS</td>\n",
              "      <td>3000</td>\n",
              "    </tr>\n",
              "  </tbody>\n",
              "</table>\n",
              "</div>"
            ],
            "text/plain": [
              "      nome  salario\n",
              "5   SANDRO     4000\n",
              "6  VANESSA     4000\n",
              "7   MARCOS     3000"
            ]
          },
          "metadata": {
            "tags": []
          },
          "execution_count": 43
        }
      ]
    },
    {
      "cell_type": "code",
      "metadata": {
        "colab": {
          "base_uri": "https://localhost:8080/",
          "height": 0
        },
        "id": "bDsh5jN4jzNF",
        "outputId": "bc25d3cf-ae51-479a-f08d-b38f28847881"
      },
      "source": [
        "# e aqui iremos exibir a concatenação utilizando o pd.concat([dataframes])\n",
        "pd.concat([df1, df2]) # lembrando que aqui o resultado poderia ser atribuido\n",
        "                      # a uma variável"
      ],
      "execution_count": 44,
      "outputs": [
        {
          "output_type": "execute_result",
          "data": {
            "text/html": [
              "<div>\n",
              "<style scoped>\n",
              "    .dataframe tbody tr th:only-of-type {\n",
              "        vertical-align: middle;\n",
              "    }\n",
              "\n",
              "    .dataframe tbody tr th {\n",
              "        vertical-align: top;\n",
              "    }\n",
              "\n",
              "    .dataframe thead th {\n",
              "        text-align: right;\n",
              "    }\n",
              "</style>\n",
              "<table border=\"1\" class=\"dataframe\">\n",
              "  <thead>\n",
              "    <tr style=\"text-align: right;\">\n",
              "      <th></th>\n",
              "      <th>nome</th>\n",
              "      <th>salario</th>\n",
              "    </tr>\n",
              "  </thead>\n",
              "  <tbody>\n",
              "    <tr>\n",
              "      <th>0</th>\n",
              "      <td>ANTONIO</td>\n",
              "      <td>15000</td>\n",
              "    </tr>\n",
              "    <tr>\n",
              "      <th>1</th>\n",
              "      <td>GUSTAVO</td>\n",
              "      <td>3000</td>\n",
              "    </tr>\n",
              "    <tr>\n",
              "      <th>2</th>\n",
              "      <td>NORMA</td>\n",
              "      <td>3000</td>\n",
              "    </tr>\n",
              "    <tr>\n",
              "      <th>3</th>\n",
              "      <td>QUITERIA</td>\n",
              "      <td>6000</td>\n",
              "    </tr>\n",
              "    <tr>\n",
              "      <th>4</th>\n",
              "      <td>RENATA</td>\n",
              "      <td>5000</td>\n",
              "    </tr>\n",
              "    <tr>\n",
              "      <th>5</th>\n",
              "      <td>SANDRO</td>\n",
              "      <td>4000</td>\n",
              "    </tr>\n",
              "    <tr>\n",
              "      <th>6</th>\n",
              "      <td>VANESSA</td>\n",
              "      <td>4000</td>\n",
              "    </tr>\n",
              "    <tr>\n",
              "      <th>7</th>\n",
              "      <td>MARCOS</td>\n",
              "      <td>3000</td>\n",
              "    </tr>\n",
              "  </tbody>\n",
              "</table>\n",
              "</div>"
            ],
            "text/plain": [
              "       nome  salario\n",
              "0   ANTONIO    15000\n",
              "1   GUSTAVO     3000\n",
              "2     NORMA     3000\n",
              "3  QUITERIA     6000\n",
              "4    RENATA     5000\n",
              "5    SANDRO     4000\n",
              "6   VANESSA     4000\n",
              "7    MARCOS     3000"
            ]
          },
          "metadata": {
            "tags": []
          },
          "execution_count": 44
        }
      ]
    },
    {
      "cell_type": "code",
      "metadata": {
        "colab": {
          "base_uri": "https://localhost:8080/",
          "height": 0
        },
        "id": "k3aVHifykgmZ",
        "outputId": "e25267ee-a587-4ce2-c824-d01d05e76331"
      },
      "source": [
        "# e mais um exemplo do concat, 2 dataframes sendo que o primeiro eu tenho somente as \n",
        "# colunas nome e salario e no segundo, eu tenho somente a coluna setor\n",
        "# assim concatenamos os dois dataframes, mas o segundo será adicionado como coluna\n",
        "df1 = df[:5][[\"nome\", \"salario\"]].copy()\n",
        "df2 = df[:5][[\"setor\"]].copy()\n",
        "pd.concat([df1, df2], axis=1)"
      ],
      "execution_count": 45,
      "outputs": [
        {
          "output_type": "execute_result",
          "data": {
            "text/html": [
              "<div>\n",
              "<style scoped>\n",
              "    .dataframe tbody tr th:only-of-type {\n",
              "        vertical-align: middle;\n",
              "    }\n",
              "\n",
              "    .dataframe tbody tr th {\n",
              "        vertical-align: top;\n",
              "    }\n",
              "\n",
              "    .dataframe thead th {\n",
              "        text-align: right;\n",
              "    }\n",
              "</style>\n",
              "<table border=\"1\" class=\"dataframe\">\n",
              "  <thead>\n",
              "    <tr style=\"text-align: right;\">\n",
              "      <th></th>\n",
              "      <th>nome</th>\n",
              "      <th>salario</th>\n",
              "      <th>setor</th>\n",
              "    </tr>\n",
              "  </thead>\n",
              "  <tbody>\n",
              "    <tr>\n",
              "      <th>0</th>\n",
              "      <td>ANTONIO</td>\n",
              "      <td>15000</td>\n",
              "      <td>administrativo</td>\n",
              "    </tr>\n",
              "    <tr>\n",
              "      <th>1</th>\n",
              "      <td>GUSTAVO</td>\n",
              "      <td>3000</td>\n",
              "      <td>administrativo</td>\n",
              "    </tr>\n",
              "    <tr>\n",
              "      <th>2</th>\n",
              "      <td>NORMA</td>\n",
              "      <td>3000</td>\n",
              "      <td>administrativo</td>\n",
              "    </tr>\n",
              "    <tr>\n",
              "      <th>3</th>\n",
              "      <td>QUITERIA</td>\n",
              "      <td>6000</td>\n",
              "      <td>artes</td>\n",
              "    </tr>\n",
              "    <tr>\n",
              "      <th>4</th>\n",
              "      <td>RENATA</td>\n",
              "      <td>5000</td>\n",
              "      <td>artes</td>\n",
              "    </tr>\n",
              "  </tbody>\n",
              "</table>\n",
              "</div>"
            ],
            "text/plain": [
              "       nome  salario           setor\n",
              "0   ANTONIO    15000  administrativo\n",
              "1   GUSTAVO     3000  administrativo\n",
              "2     NORMA     3000  administrativo\n",
              "3  QUITERIA     6000           artes\n",
              "4    RENATA     5000           artes"
            ]
          },
          "metadata": {
            "tags": []
          },
          "execution_count": 45
        }
      ]
    },
    {
      "cell_type": "markdown",
      "metadata": {
        "id": "fkAFwnFBD8Mf"
      },
      "source": [
        "**.MERGE**\n",
        "Esta função combina dataframes também mas baseada em dados comuns.\n",
        "Vamos ao exemplo"
      ]
    },
    {
      "cell_type": "code",
      "metadata": {
        "colab": {
          "base_uri": "https://localhost:8080/",
          "height": 0
        },
        "id": "95LYSOewCkvp",
        "outputId": "9156bd27-4aa3-464a-c107-342898479e2b"
      },
      "source": [
        "# vamos criar um dataframe com nome, setor e idade de pessoas assistentes\n",
        "assistentes = df.query(\"funcao == 'assistente'\")[['nome', 'setor', 'idade']].copy()\n",
        "assistentes"
      ],
      "execution_count": 46,
      "outputs": [
        {
          "output_type": "execute_result",
          "data": {
            "text/html": [
              "<div>\n",
              "<style scoped>\n",
              "    .dataframe tbody tr th:only-of-type {\n",
              "        vertical-align: middle;\n",
              "    }\n",
              "\n",
              "    .dataframe tbody tr th {\n",
              "        vertical-align: top;\n",
              "    }\n",
              "\n",
              "    .dataframe thead th {\n",
              "        text-align: right;\n",
              "    }\n",
              "</style>\n",
              "<table border=\"1\" class=\"dataframe\">\n",
              "  <thead>\n",
              "    <tr style=\"text-align: right;\">\n",
              "      <th></th>\n",
              "      <th>nome</th>\n",
              "      <th>setor</th>\n",
              "      <th>idade</th>\n",
              "    </tr>\n",
              "  </thead>\n",
              "  <tbody>\n",
              "    <tr>\n",
              "      <th>1</th>\n",
              "      <td>GUSTAVO</td>\n",
              "      <td>administrativo</td>\n",
              "      <td>29</td>\n",
              "    </tr>\n",
              "    <tr>\n",
              "      <th>2</th>\n",
              "      <td>NORMA</td>\n",
              "      <td>administrativo</td>\n",
              "      <td>49</td>\n",
              "    </tr>\n",
              "    <tr>\n",
              "      <th>3</th>\n",
              "      <td>QUITERIA</td>\n",
              "      <td>artes</td>\n",
              "      <td>39</td>\n",
              "    </tr>\n",
              "    <tr>\n",
              "      <th>4</th>\n",
              "      <td>RENATA</td>\n",
              "      <td>artes</td>\n",
              "      <td>39</td>\n",
              "    </tr>\n",
              "    <tr>\n",
              "      <th>6</th>\n",
              "      <td>VANESSA</td>\n",
              "      <td>artes</td>\n",
              "      <td>29</td>\n",
              "    </tr>\n",
              "    <tr>\n",
              "      <th>11</th>\n",
              "      <td>PETRO</td>\n",
              "      <td>contabilidade</td>\n",
              "      <td>18</td>\n",
              "    </tr>\n",
              "    <tr>\n",
              "      <th>12</th>\n",
              "      <td>OTAVIO</td>\n",
              "      <td>contabilidade</td>\n",
              "      <td>47</td>\n",
              "    </tr>\n",
              "    <tr>\n",
              "      <th>13</th>\n",
              "      <td>BEATRIZ</td>\n",
              "      <td>financeiro</td>\n",
              "      <td>33</td>\n",
              "    </tr>\n",
              "    <tr>\n",
              "      <th>14</th>\n",
              "      <td>TEODORO</td>\n",
              "      <td>financeiro</td>\n",
              "      <td>38</td>\n",
              "    </tr>\n",
              "    <tr>\n",
              "      <th>16</th>\n",
              "      <td>FABIA</td>\n",
              "      <td>marketing</td>\n",
              "      <td>49</td>\n",
              "    </tr>\n",
              "    <tr>\n",
              "      <th>17</th>\n",
              "      <td>UBALDO</td>\n",
              "      <td>marketing</td>\n",
              "      <td>47</td>\n",
              "    </tr>\n",
              "    <tr>\n",
              "      <th>19</th>\n",
              "      <td>YOLANDA</td>\n",
              "      <td>marketing</td>\n",
              "      <td>27</td>\n",
              "    </tr>\n",
              "  </tbody>\n",
              "</table>\n",
              "</div>"
            ],
            "text/plain": [
              "        nome           setor  idade\n",
              "1    GUSTAVO  administrativo     29\n",
              "2      NORMA  administrativo     49\n",
              "3   QUITERIA           artes     39\n",
              "4     RENATA           artes     39\n",
              "6    VANESSA           artes     29\n",
              "11     PETRO   contabilidade     18\n",
              "12    OTAVIO   contabilidade     47\n",
              "13   BEATRIZ      financeiro     33\n",
              "14   TEODORO      financeiro     38\n",
              "16     FABIA       marketing     49\n",
              "17    UBALDO       marketing     47\n",
              "19   YOLANDA       marketing     27"
            ]
          },
          "metadata": {
            "tags": []
          },
          "execution_count": 46
        }
      ]
    },
    {
      "cell_type": "code",
      "metadata": {
        "colab": {
          "base_uri": "https://localhost:8080/",
          "height": 0
        },
        "id": "bROugqTCEkzD",
        "outputId": "dfdc2b2a-160e-4499-89ce-6fc094603a08"
      },
      "source": [
        "# vamos imaginar que temos esse outro dataframe\n",
        "dfTeste = pd.DataFrame({\n",
        "    \"nome\": [\"RENATA\", \"VANESSA\", \"FABIA\", \"JOAO DA SILVA\"],\n",
        "    \"setor\": [\"artes\", \"artes\", \"marketing\", \"engenharia\"]\n",
        "})\n",
        "dfTeste"
      ],
      "execution_count": 47,
      "outputs": [
        {
          "output_type": "execute_result",
          "data": {
            "text/html": [
              "<div>\n",
              "<style scoped>\n",
              "    .dataframe tbody tr th:only-of-type {\n",
              "        vertical-align: middle;\n",
              "    }\n",
              "\n",
              "    .dataframe tbody tr th {\n",
              "        vertical-align: top;\n",
              "    }\n",
              "\n",
              "    .dataframe thead th {\n",
              "        text-align: right;\n",
              "    }\n",
              "</style>\n",
              "<table border=\"1\" class=\"dataframe\">\n",
              "  <thead>\n",
              "    <tr style=\"text-align: right;\">\n",
              "      <th></th>\n",
              "      <th>nome</th>\n",
              "      <th>setor</th>\n",
              "    </tr>\n",
              "  </thead>\n",
              "  <tbody>\n",
              "    <tr>\n",
              "      <th>0</th>\n",
              "      <td>RENATA</td>\n",
              "      <td>artes</td>\n",
              "    </tr>\n",
              "    <tr>\n",
              "      <th>1</th>\n",
              "      <td>VANESSA</td>\n",
              "      <td>artes</td>\n",
              "    </tr>\n",
              "    <tr>\n",
              "      <th>2</th>\n",
              "      <td>FABIA</td>\n",
              "      <td>marketing</td>\n",
              "    </tr>\n",
              "    <tr>\n",
              "      <th>3</th>\n",
              "      <td>JOAO DA SILVA</td>\n",
              "      <td>engenharia</td>\n",
              "    </tr>\n",
              "  </tbody>\n",
              "</table>\n",
              "</div>"
            ],
            "text/plain": [
              "            nome       setor\n",
              "0         RENATA       artes\n",
              "1        VANESSA       artes\n",
              "2          FABIA   marketing\n",
              "3  JOAO DA SILVA  engenharia"
            ]
          },
          "metadata": {
            "tags": []
          },
          "execution_count": 47
        }
      ]
    },
    {
      "cell_type": "code",
      "metadata": {
        "colab": {
          "base_uri": "https://localhost:8080/",
          "height": 0
        },
        "id": "LIcuCjkoFKxT",
        "outputId": "588c0942-47e8-4e4b-f4c8-6203375ca5ba"
      },
      "source": [
        "# agora vamos fazer o merge entre os 2 dataframes artes e dfTeste\n",
        "merge1 = pd.merge(assistentes, dfTeste)\n",
        "merge1\n",
        "# o pandas combina os 2 dataframes, mas como não definimos com qual coluna ele \n",
        "# irá fazer o merge, por default ele usou a coluna da esquerda, no caso NOME"
      ],
      "execution_count": 48,
      "outputs": [
        {
          "output_type": "execute_result",
          "data": {
            "text/html": [
              "<div>\n",
              "<style scoped>\n",
              "    .dataframe tbody tr th:only-of-type {\n",
              "        vertical-align: middle;\n",
              "    }\n",
              "\n",
              "    .dataframe tbody tr th {\n",
              "        vertical-align: top;\n",
              "    }\n",
              "\n",
              "    .dataframe thead th {\n",
              "        text-align: right;\n",
              "    }\n",
              "</style>\n",
              "<table border=\"1\" class=\"dataframe\">\n",
              "  <thead>\n",
              "    <tr style=\"text-align: right;\">\n",
              "      <th></th>\n",
              "      <th>nome</th>\n",
              "      <th>setor</th>\n",
              "      <th>idade</th>\n",
              "    </tr>\n",
              "  </thead>\n",
              "  <tbody>\n",
              "    <tr>\n",
              "      <th>0</th>\n",
              "      <td>RENATA</td>\n",
              "      <td>artes</td>\n",
              "      <td>39</td>\n",
              "    </tr>\n",
              "    <tr>\n",
              "      <th>1</th>\n",
              "      <td>VANESSA</td>\n",
              "      <td>artes</td>\n",
              "      <td>29</td>\n",
              "    </tr>\n",
              "    <tr>\n",
              "      <th>2</th>\n",
              "      <td>FABIA</td>\n",
              "      <td>marketing</td>\n",
              "      <td>49</td>\n",
              "    </tr>\n",
              "  </tbody>\n",
              "</table>\n",
              "</div>"
            ],
            "text/plain": [
              "      nome      setor  idade\n",
              "0   RENATA      artes     39\n",
              "1  VANESSA      artes     29\n",
              "2    FABIA  marketing     49"
            ]
          },
          "metadata": {
            "tags": []
          },
          "execution_count": 48
        }
      ]
    },
    {
      "cell_type": "code",
      "metadata": {
        "colab": {
          "base_uri": "https://localhost:8080/",
          "height": 0
        },
        "id": "EvOpXZ-cG56z",
        "outputId": "a5c2b41c-7522-4d6a-f14d-3a10c608ed76"
      },
      "source": [
        "# vamos então fazer o merge pela direita\n",
        "merge2 = pd.merge(assistentes, dfTeste, how='right')\n",
        "merge2\n",
        "# aqui vemos o JOAO DA SILVA apareceu pq fizemos pela coluna da direita (setor)\n",
        "# mas como JOAO DA SILVA não existe no dataframe assistentes, a idade dele é nua"
      ],
      "execution_count": 49,
      "outputs": [
        {
          "output_type": "execute_result",
          "data": {
            "text/html": [
              "<div>\n",
              "<style scoped>\n",
              "    .dataframe tbody tr th:only-of-type {\n",
              "        vertical-align: middle;\n",
              "    }\n",
              "\n",
              "    .dataframe tbody tr th {\n",
              "        vertical-align: top;\n",
              "    }\n",
              "\n",
              "    .dataframe thead th {\n",
              "        text-align: right;\n",
              "    }\n",
              "</style>\n",
              "<table border=\"1\" class=\"dataframe\">\n",
              "  <thead>\n",
              "    <tr style=\"text-align: right;\">\n",
              "      <th></th>\n",
              "      <th>nome</th>\n",
              "      <th>setor</th>\n",
              "      <th>idade</th>\n",
              "    </tr>\n",
              "  </thead>\n",
              "  <tbody>\n",
              "    <tr>\n",
              "      <th>0</th>\n",
              "      <td>RENATA</td>\n",
              "      <td>artes</td>\n",
              "      <td>39.0</td>\n",
              "    </tr>\n",
              "    <tr>\n",
              "      <th>1</th>\n",
              "      <td>VANESSA</td>\n",
              "      <td>artes</td>\n",
              "      <td>29.0</td>\n",
              "    </tr>\n",
              "    <tr>\n",
              "      <th>2</th>\n",
              "      <td>FABIA</td>\n",
              "      <td>marketing</td>\n",
              "      <td>49.0</td>\n",
              "    </tr>\n",
              "    <tr>\n",
              "      <th>3</th>\n",
              "      <td>JOAO DA SILVA</td>\n",
              "      <td>engenharia</td>\n",
              "      <td>NaN</td>\n",
              "    </tr>\n",
              "  </tbody>\n",
              "</table>\n",
              "</div>"
            ],
            "text/plain": [
              "            nome       setor  idade\n",
              "0         RENATA       artes   39.0\n",
              "1        VANESSA       artes   29.0\n",
              "2          FABIA   marketing   49.0\n",
              "3  JOAO DA SILVA  engenharia    NaN"
            ]
          },
          "metadata": {
            "tags": []
          },
          "execution_count": 49
        }
      ]
    },
    {
      "cell_type": "markdown",
      "metadata": {
        "id": "EczJ05_cSHkA"
      },
      "source": [
        "# **Selecionar dados do dataframe**\n",
        "\n",
        "Vamos agora utilizar algumas funções do Pandas que facilitam bastante na hora de filtrar. Usaremos o padrão pandas de consulta e também o formato query bem conhecido pelos usuários de banco de dados."
      ]
    },
    {
      "cell_type": "code",
      "metadata": {
        "colab": {
          "base_uri": "https://localhost:8080/",
          "height": 0
        },
        "id": "S7Py3sxgSMzi",
        "outputId": "532c06b5-d69b-4081-d800-f06284eba6ca"
      },
      "source": [
        "df"
      ],
      "execution_count": 50,
      "outputs": [
        {
          "output_type": "execute_result",
          "data": {
            "text/html": [
              "<div>\n",
              "<style scoped>\n",
              "    .dataframe tbody tr th:only-of-type {\n",
              "        vertical-align: middle;\n",
              "    }\n",
              "\n",
              "    .dataframe tbody tr th {\n",
              "        vertical-align: top;\n",
              "    }\n",
              "\n",
              "    .dataframe thead th {\n",
              "        text-align: right;\n",
              "    }\n",
              "</style>\n",
              "<table border=\"1\" class=\"dataframe\">\n",
              "  <thead>\n",
              "    <tr style=\"text-align: right;\">\n",
              "      <th></th>\n",
              "      <th>nome</th>\n",
              "      <th>sexo</th>\n",
              "      <th>setor</th>\n",
              "      <th>idade</th>\n",
              "      <th>funcao</th>\n",
              "      <th>salario</th>\n",
              "    </tr>\n",
              "  </thead>\n",
              "  <tbody>\n",
              "    <tr>\n",
              "      <th>0</th>\n",
              "      <td>ANTONIO</td>\n",
              "      <td>M</td>\n",
              "      <td>administrativo</td>\n",
              "      <td>26</td>\n",
              "      <td>Diretor</td>\n",
              "      <td>15000</td>\n",
              "    </tr>\n",
              "    <tr>\n",
              "      <th>1</th>\n",
              "      <td>GUSTAVO</td>\n",
              "      <td>M</td>\n",
              "      <td>administrativo</td>\n",
              "      <td>29</td>\n",
              "      <td>assistente</td>\n",
              "      <td>3000</td>\n",
              "    </tr>\n",
              "    <tr>\n",
              "      <th>2</th>\n",
              "      <td>NORMA</td>\n",
              "      <td>F</td>\n",
              "      <td>administrativo</td>\n",
              "      <td>49</td>\n",
              "      <td>assistente</td>\n",
              "      <td>3000</td>\n",
              "    </tr>\n",
              "    <tr>\n",
              "      <th>3</th>\n",
              "      <td>QUITERIA</td>\n",
              "      <td>F</td>\n",
              "      <td>artes</td>\n",
              "      <td>39</td>\n",
              "      <td>assistente</td>\n",
              "      <td>6000</td>\n",
              "    </tr>\n",
              "    <tr>\n",
              "      <th>4</th>\n",
              "      <td>RENATA</td>\n",
              "      <td>F</td>\n",
              "      <td>artes</td>\n",
              "      <td>39</td>\n",
              "      <td>assistente</td>\n",
              "      <td>5000</td>\n",
              "    </tr>\n",
              "    <tr>\n",
              "      <th>5</th>\n",
              "      <td>SANDRO</td>\n",
              "      <td>M</td>\n",
              "      <td>artes</td>\n",
              "      <td>48</td>\n",
              "      <td>NaN</td>\n",
              "      <td>4000</td>\n",
              "    </tr>\n",
              "    <tr>\n",
              "      <th>6</th>\n",
              "      <td>VANESSA</td>\n",
              "      <td>F</td>\n",
              "      <td>artes</td>\n",
              "      <td>29</td>\n",
              "      <td>assistente</td>\n",
              "      <td>4000</td>\n",
              "    </tr>\n",
              "    <tr>\n",
              "      <th>7</th>\n",
              "      <td>MARCOS</td>\n",
              "      <td>M</td>\n",
              "      <td>comercial</td>\n",
              "      <td>49</td>\n",
              "      <td>executivo de contas</td>\n",
              "      <td>3000</td>\n",
              "    </tr>\n",
              "    <tr>\n",
              "      <th>8</th>\n",
              "      <td>CARLA</td>\n",
              "      <td>F</td>\n",
              "      <td>comercial</td>\n",
              "      <td>22</td>\n",
              "      <td>Gerente</td>\n",
              "      <td>7000</td>\n",
              "    </tr>\n",
              "    <tr>\n",
              "      <th>9</th>\n",
              "      <td>DANIELA</td>\n",
              "      <td>F</td>\n",
              "      <td>comercial</td>\n",
              "      <td>50</td>\n",
              "      <td>executivo de contas</td>\n",
              "      <td>3000</td>\n",
              "    </tr>\n",
              "    <tr>\n",
              "      <th>10</th>\n",
              "      <td>EDUARDO</td>\n",
              "      <td>M</td>\n",
              "      <td>comercial</td>\n",
              "      <td>34</td>\n",
              "      <td>executivo de contas</td>\n",
              "      <td>3000</td>\n",
              "    </tr>\n",
              "    <tr>\n",
              "      <th>11</th>\n",
              "      <td>PETRO</td>\n",
              "      <td>M</td>\n",
              "      <td>contabilidade</td>\n",
              "      <td>18</td>\n",
              "      <td>assistente</td>\n",
              "      <td>3000</td>\n",
              "    </tr>\n",
              "    <tr>\n",
              "      <th>12</th>\n",
              "      <td>OTAVIO</td>\n",
              "      <td>M</td>\n",
              "      <td>contabilidade</td>\n",
              "      <td>47</td>\n",
              "      <td>assistente</td>\n",
              "      <td>3000</td>\n",
              "    </tr>\n",
              "    <tr>\n",
              "      <th>13</th>\n",
              "      <td>BEATRIZ</td>\n",
              "      <td>F</td>\n",
              "      <td>financeiro</td>\n",
              "      <td>33</td>\n",
              "      <td>assistente</td>\n",
              "      <td>2500</td>\n",
              "    </tr>\n",
              "    <tr>\n",
              "      <th>14</th>\n",
              "      <td>TEODORO</td>\n",
              "      <td>M</td>\n",
              "      <td>financeiro</td>\n",
              "      <td>38</td>\n",
              "      <td>assistente</td>\n",
              "      <td>2500</td>\n",
              "    </tr>\n",
              "    <tr>\n",
              "      <th>15</th>\n",
              "      <td>ZURIEL</td>\n",
              "      <td>M</td>\n",
              "      <td>financeiro</td>\n",
              "      <td>20</td>\n",
              "      <td>NaN</td>\n",
              "      <td>3000</td>\n",
              "    </tr>\n",
              "    <tr>\n",
              "      <th>16</th>\n",
              "      <td>FABIA</td>\n",
              "      <td>F</td>\n",
              "      <td>marketing</td>\n",
              "      <td>49</td>\n",
              "      <td>assistente</td>\n",
              "      <td>2500</td>\n",
              "    </tr>\n",
              "    <tr>\n",
              "      <th>17</th>\n",
              "      <td>UBALDO</td>\n",
              "      <td>M</td>\n",
              "      <td>marketing</td>\n",
              "      <td>47</td>\n",
              "      <td>assistente</td>\n",
              "      <td>2500</td>\n",
              "    </tr>\n",
              "    <tr>\n",
              "      <th>18</th>\n",
              "      <td>XAVIER</td>\n",
              "      <td>M</td>\n",
              "      <td>marketing</td>\n",
              "      <td>28</td>\n",
              "      <td>Coordenador</td>\n",
              "      <td>3500</td>\n",
              "    </tr>\n",
              "    <tr>\n",
              "      <th>19</th>\n",
              "      <td>YOLANDA</td>\n",
              "      <td>F</td>\n",
              "      <td>marketing</td>\n",
              "      <td>27</td>\n",
              "      <td>assistente</td>\n",
              "      <td>2500</td>\n",
              "    </tr>\n",
              "    <tr>\n",
              "      <th>20</th>\n",
              "      <td>HELOISA</td>\n",
              "      <td>F</td>\n",
              "      <td>tecnologia</td>\n",
              "      <td>43</td>\n",
              "      <td>Gerente</td>\n",
              "      <td>10000</td>\n",
              "    </tr>\n",
              "    <tr>\n",
              "      <th>21</th>\n",
              "      <td>ISABELLE</td>\n",
              "      <td>F</td>\n",
              "      <td>tecnologia</td>\n",
              "      <td>28</td>\n",
              "      <td>Coordenador</td>\n",
              "      <td>7500</td>\n",
              "    </tr>\n",
              "    <tr>\n",
              "      <th>22</th>\n",
              "      <td>JOANA</td>\n",
              "      <td>F</td>\n",
              "      <td>tecnologia</td>\n",
              "      <td>29</td>\n",
              "      <td>Engenheiro de Software</td>\n",
              "      <td>5000</td>\n",
              "    </tr>\n",
              "    <tr>\n",
              "      <th>23</th>\n",
              "      <td>KLAYTON</td>\n",
              "      <td>M</td>\n",
              "      <td>tecnologia</td>\n",
              "      <td>33</td>\n",
              "      <td>NaN</td>\n",
              "      <td>5000</td>\n",
              "    </tr>\n",
              "    <tr>\n",
              "      <th>24</th>\n",
              "      <td>LAURO</td>\n",
              "      <td>M</td>\n",
              "      <td>tecnologia</td>\n",
              "      <td>26</td>\n",
              "      <td>Engenheiro de Software</td>\n",
              "      <td>5000</td>\n",
              "    </tr>\n",
              "  </tbody>\n",
              "</table>\n",
              "</div>"
            ],
            "text/plain": [
              "        nome sexo           setor  idade                  funcao  salario\n",
              "0    ANTONIO    M  administrativo     26                 Diretor    15000\n",
              "1    GUSTAVO    M  administrativo     29              assistente     3000\n",
              "2      NORMA    F  administrativo     49              assistente     3000\n",
              "3   QUITERIA    F           artes     39              assistente     6000\n",
              "4     RENATA    F           artes     39              assistente     5000\n",
              "5     SANDRO    M           artes     48                     NaN     4000\n",
              "6    VANESSA    F           artes     29              assistente     4000\n",
              "7     MARCOS    M       comercial     49     executivo de contas     3000\n",
              "8      CARLA    F       comercial     22                Gerente      7000\n",
              "9    DANIELA    F       comercial     50     executivo de contas     3000\n",
              "10   EDUARDO    M       comercial     34     executivo de contas     3000\n",
              "11     PETRO    M   contabilidade     18              assistente     3000\n",
              "12    OTAVIO    M   contabilidade     47              assistente     3000\n",
              "13   BEATRIZ    F      financeiro     33              assistente     2500\n",
              "14   TEODORO    M      financeiro     38              assistente     2500\n",
              "15    ZURIEL    M      financeiro     20                     NaN     3000\n",
              "16     FABIA    F       marketing     49              assistente     2500\n",
              "17    UBALDO    M       marketing     47              assistente     2500\n",
              "18    XAVIER    M       marketing     28             Coordenador     3500\n",
              "19   YOLANDA    F       marketing     27              assistente     2500\n",
              "20   HELOISA    F      tecnologia     43                Gerente     10000\n",
              "21  ISABELLE    F      tecnologia     28             Coordenador     7500\n",
              "22     JOANA    F      tecnologia     29  Engenheiro de Software     5000\n",
              "23   KLAYTON    M      tecnologia     33                     NaN     5000\n",
              "24     LAURO    M      tecnologia     26  Engenheiro de Software     5000"
            ]
          },
          "metadata": {
            "tags": []
          },
          "execution_count": 50
        }
      ]
    },
    {
      "cell_type": "code",
      "metadata": {
        "colab": {
          "base_uri": "https://localhost:8080/",
          "height": 0
        },
        "id": "ENLpmwO9SQu0",
        "outputId": "42e1d4ae-2aec-4961-b81b-9405e2de2969"
      },
      "source": [
        "# listar somente pessoas que tenham a idade menor que 20\n",
        "df[df['idade'] < 20]"
      ],
      "execution_count": 51,
      "outputs": [
        {
          "output_type": "execute_result",
          "data": {
            "text/html": [
              "<div>\n",
              "<style scoped>\n",
              "    .dataframe tbody tr th:only-of-type {\n",
              "        vertical-align: middle;\n",
              "    }\n",
              "\n",
              "    .dataframe tbody tr th {\n",
              "        vertical-align: top;\n",
              "    }\n",
              "\n",
              "    .dataframe thead th {\n",
              "        text-align: right;\n",
              "    }\n",
              "</style>\n",
              "<table border=\"1\" class=\"dataframe\">\n",
              "  <thead>\n",
              "    <tr style=\"text-align: right;\">\n",
              "      <th></th>\n",
              "      <th>nome</th>\n",
              "      <th>sexo</th>\n",
              "      <th>setor</th>\n",
              "      <th>idade</th>\n",
              "      <th>funcao</th>\n",
              "      <th>salario</th>\n",
              "    </tr>\n",
              "  </thead>\n",
              "  <tbody>\n",
              "    <tr>\n",
              "      <th>11</th>\n",
              "      <td>PETRO</td>\n",
              "      <td>M</td>\n",
              "      <td>contabilidade</td>\n",
              "      <td>18</td>\n",
              "      <td>assistente</td>\n",
              "      <td>3000</td>\n",
              "    </tr>\n",
              "  </tbody>\n",
              "</table>\n",
              "</div>"
            ],
            "text/plain": [
              "     nome sexo          setor  idade      funcao  salario\n",
              "11  PETRO    M  contabilidade     18  assistente     3000"
            ]
          },
          "metadata": {
            "tags": []
          },
          "execution_count": 51
        }
      ]
    },
    {
      "cell_type": "code",
      "metadata": {
        "colab": {
          "base_uri": "https://localhost:8080/",
          "height": 0
        },
        "id": "nIXdUC2TS91u",
        "outputId": "2f85ca05-8263-459d-b9ab-115f0499c3ef"
      },
      "source": [
        "# ou no formato query\n",
        "df.query(\"idade < 20\")"
      ],
      "execution_count": 52,
      "outputs": [
        {
          "output_type": "execute_result",
          "data": {
            "text/html": [
              "<div>\n",
              "<style scoped>\n",
              "    .dataframe tbody tr th:only-of-type {\n",
              "        vertical-align: middle;\n",
              "    }\n",
              "\n",
              "    .dataframe tbody tr th {\n",
              "        vertical-align: top;\n",
              "    }\n",
              "\n",
              "    .dataframe thead th {\n",
              "        text-align: right;\n",
              "    }\n",
              "</style>\n",
              "<table border=\"1\" class=\"dataframe\">\n",
              "  <thead>\n",
              "    <tr style=\"text-align: right;\">\n",
              "      <th></th>\n",
              "      <th>nome</th>\n",
              "      <th>sexo</th>\n",
              "      <th>setor</th>\n",
              "      <th>idade</th>\n",
              "      <th>funcao</th>\n",
              "      <th>salario</th>\n",
              "    </tr>\n",
              "  </thead>\n",
              "  <tbody>\n",
              "    <tr>\n",
              "      <th>11</th>\n",
              "      <td>PETRO</td>\n",
              "      <td>M</td>\n",
              "      <td>contabilidade</td>\n",
              "      <td>18</td>\n",
              "      <td>assistente</td>\n",
              "      <td>3000</td>\n",
              "    </tr>\n",
              "  </tbody>\n",
              "</table>\n",
              "</div>"
            ],
            "text/plain": [
              "     nome sexo          setor  idade      funcao  salario\n",
              "11  PETRO    M  contabilidade     18  assistente     3000"
            ]
          },
          "metadata": {
            "tags": []
          },
          "execution_count": 52
        }
      ]
    },
    {
      "cell_type": "code",
      "metadata": {
        "colab": {
          "base_uri": "https://localhost:8080/",
          "height": 0
        },
        "id": "lJK24w2sTFrh",
        "outputId": "8fd58d34-2cd1-4def-ec44-2159df9bd5f1"
      },
      "source": [
        "# listar pessoas da tecnologia que tem o salário maior que 5000\n",
        "df[(df['setor'] == 'tecnologia') & (df['salario'] > 5000)]"
      ],
      "execution_count": 53,
      "outputs": [
        {
          "output_type": "execute_result",
          "data": {
            "text/html": [
              "<div>\n",
              "<style scoped>\n",
              "    .dataframe tbody tr th:only-of-type {\n",
              "        vertical-align: middle;\n",
              "    }\n",
              "\n",
              "    .dataframe tbody tr th {\n",
              "        vertical-align: top;\n",
              "    }\n",
              "\n",
              "    .dataframe thead th {\n",
              "        text-align: right;\n",
              "    }\n",
              "</style>\n",
              "<table border=\"1\" class=\"dataframe\">\n",
              "  <thead>\n",
              "    <tr style=\"text-align: right;\">\n",
              "      <th></th>\n",
              "      <th>nome</th>\n",
              "      <th>sexo</th>\n",
              "      <th>setor</th>\n",
              "      <th>idade</th>\n",
              "      <th>funcao</th>\n",
              "      <th>salario</th>\n",
              "    </tr>\n",
              "  </thead>\n",
              "  <tbody>\n",
              "    <tr>\n",
              "      <th>20</th>\n",
              "      <td>HELOISA</td>\n",
              "      <td>F</td>\n",
              "      <td>tecnologia</td>\n",
              "      <td>43</td>\n",
              "      <td>Gerente</td>\n",
              "      <td>10000</td>\n",
              "    </tr>\n",
              "    <tr>\n",
              "      <th>21</th>\n",
              "      <td>ISABELLE</td>\n",
              "      <td>F</td>\n",
              "      <td>tecnologia</td>\n",
              "      <td>28</td>\n",
              "      <td>Coordenador</td>\n",
              "      <td>7500</td>\n",
              "    </tr>\n",
              "  </tbody>\n",
              "</table>\n",
              "</div>"
            ],
            "text/plain": [
              "        nome sexo       setor  idade       funcao  salario\n",
              "20   HELOISA    F  tecnologia     43     Gerente     10000\n",
              "21  ISABELLE    F  tecnologia     28  Coordenador     7500"
            ]
          },
          "metadata": {
            "tags": []
          },
          "execution_count": 53
        }
      ]
    },
    {
      "cell_type": "code",
      "metadata": {
        "colab": {
          "base_uri": "https://localhost:8080/",
          "height": 0
        },
        "id": "ihaKcwl0TaVR",
        "outputId": "28897be1-2c3f-402b-d92b-a948bf31a244"
      },
      "source": [
        "df.query(\"setor == 'tecnologia' and salario > 5000\")"
      ],
      "execution_count": 54,
      "outputs": [
        {
          "output_type": "execute_result",
          "data": {
            "text/html": [
              "<div>\n",
              "<style scoped>\n",
              "    .dataframe tbody tr th:only-of-type {\n",
              "        vertical-align: middle;\n",
              "    }\n",
              "\n",
              "    .dataframe tbody tr th {\n",
              "        vertical-align: top;\n",
              "    }\n",
              "\n",
              "    .dataframe thead th {\n",
              "        text-align: right;\n",
              "    }\n",
              "</style>\n",
              "<table border=\"1\" class=\"dataframe\">\n",
              "  <thead>\n",
              "    <tr style=\"text-align: right;\">\n",
              "      <th></th>\n",
              "      <th>nome</th>\n",
              "      <th>sexo</th>\n",
              "      <th>setor</th>\n",
              "      <th>idade</th>\n",
              "      <th>funcao</th>\n",
              "      <th>salario</th>\n",
              "    </tr>\n",
              "  </thead>\n",
              "  <tbody>\n",
              "    <tr>\n",
              "      <th>20</th>\n",
              "      <td>HELOISA</td>\n",
              "      <td>F</td>\n",
              "      <td>tecnologia</td>\n",
              "      <td>43</td>\n",
              "      <td>Gerente</td>\n",
              "      <td>10000</td>\n",
              "    </tr>\n",
              "    <tr>\n",
              "      <th>21</th>\n",
              "      <td>ISABELLE</td>\n",
              "      <td>F</td>\n",
              "      <td>tecnologia</td>\n",
              "      <td>28</td>\n",
              "      <td>Coordenador</td>\n",
              "      <td>7500</td>\n",
              "    </tr>\n",
              "  </tbody>\n",
              "</table>\n",
              "</div>"
            ],
            "text/plain": [
              "        nome sexo       setor  idade       funcao  salario\n",
              "20   HELOISA    F  tecnologia     43     Gerente     10000\n",
              "21  ISABELLE    F  tecnologia     28  Coordenador     7500"
            ]
          },
          "metadata": {
            "tags": []
          },
          "execution_count": 54
        }
      ]
    },
    {
      "cell_type": "code",
      "metadata": {
        "colab": {
          "base_uri": "https://localhost:8080/",
          "height": 0
        },
        "id": "-RgIq0siTlUy",
        "outputId": "6a32a9ae-6e3c-44be-bfcf-22d0b0ad3391"
      },
      "source": [
        "# listar somente o nome e o salário das pessoas da tecnologia que tem o salário maior que 5000\n",
        "resultado = ['nome', 'salario']\n",
        "df[(df['setor'] == 'tecnologia') & (df['salario'] > 5000)][resultado]"
      ],
      "execution_count": 55,
      "outputs": [
        {
          "output_type": "execute_result",
          "data": {
            "text/html": [
              "<div>\n",
              "<style scoped>\n",
              "    .dataframe tbody tr th:only-of-type {\n",
              "        vertical-align: middle;\n",
              "    }\n",
              "\n",
              "    .dataframe tbody tr th {\n",
              "        vertical-align: top;\n",
              "    }\n",
              "\n",
              "    .dataframe thead th {\n",
              "        text-align: right;\n",
              "    }\n",
              "</style>\n",
              "<table border=\"1\" class=\"dataframe\">\n",
              "  <thead>\n",
              "    <tr style=\"text-align: right;\">\n",
              "      <th></th>\n",
              "      <th>nome</th>\n",
              "      <th>salario</th>\n",
              "    </tr>\n",
              "  </thead>\n",
              "  <tbody>\n",
              "    <tr>\n",
              "      <th>20</th>\n",
              "      <td>HELOISA</td>\n",
              "      <td>10000</td>\n",
              "    </tr>\n",
              "    <tr>\n",
              "      <th>21</th>\n",
              "      <td>ISABELLE</td>\n",
              "      <td>7500</td>\n",
              "    </tr>\n",
              "  </tbody>\n",
              "</table>\n",
              "</div>"
            ],
            "text/plain": [
              "        nome  salario\n",
              "20   HELOISA    10000\n",
              "21  ISABELLE     7500"
            ]
          },
          "metadata": {
            "tags": []
          },
          "execution_count": 55
        }
      ]
    },
    {
      "cell_type": "code",
      "metadata": {
        "colab": {
          "base_uri": "https://localhost:8080/",
          "height": 0
        },
        "id": "UHuGtH3OT1b2",
        "outputId": "1ccd78e8-190b-4ff2-d32e-6a84c3676766"
      },
      "source": [
        "df.query(\"setor == 'tecnologia' and salario > 5000\")[resultado]"
      ],
      "execution_count": 56,
      "outputs": [
        {
          "output_type": "execute_result",
          "data": {
            "text/html": [
              "<div>\n",
              "<style scoped>\n",
              "    .dataframe tbody tr th:only-of-type {\n",
              "        vertical-align: middle;\n",
              "    }\n",
              "\n",
              "    .dataframe tbody tr th {\n",
              "        vertical-align: top;\n",
              "    }\n",
              "\n",
              "    .dataframe thead th {\n",
              "        text-align: right;\n",
              "    }\n",
              "</style>\n",
              "<table border=\"1\" class=\"dataframe\">\n",
              "  <thead>\n",
              "    <tr style=\"text-align: right;\">\n",
              "      <th></th>\n",
              "      <th>nome</th>\n",
              "      <th>salario</th>\n",
              "    </tr>\n",
              "  </thead>\n",
              "  <tbody>\n",
              "    <tr>\n",
              "      <th>20</th>\n",
              "      <td>HELOISA</td>\n",
              "      <td>10000</td>\n",
              "    </tr>\n",
              "    <tr>\n",
              "      <th>21</th>\n",
              "      <td>ISABELLE</td>\n",
              "      <td>7500</td>\n",
              "    </tr>\n",
              "  </tbody>\n",
              "</table>\n",
              "</div>"
            ],
            "text/plain": [
              "        nome  salario\n",
              "20   HELOISA    10000\n",
              "21  ISABELLE     7500"
            ]
          },
          "metadata": {
            "tags": []
          },
          "execution_count": 56
        }
      ]
    },
    {
      "cell_type": "markdown",
      "metadata": {
        "id": "OYjklGTQKa2c"
      },
      "source": [
        "**UNIQUE()**"
      ]
    },
    {
      "cell_type": "code",
      "metadata": {
        "colab": {
          "base_uri": "https://localhost:8080/"
        },
        "id": "HkPVqqLIKZds",
        "outputId": "491516df-c931-40f2-c884-f389a4568354"
      },
      "source": [
        "# exibir todas as funções, de forma única, do dataframe df\n",
        "df['funcao'].unique()"
      ],
      "execution_count": 57,
      "outputs": [
        {
          "output_type": "execute_result",
          "data": {
            "text/plain": [
              "array(['Diretor', 'assistente', nan, 'executivo de contas', 'Gerente ',\n",
              "       'Coordenador', 'Engenheiro de Software'], dtype=object)"
            ]
          },
          "metadata": {
            "tags": []
          },
          "execution_count": 57
        }
      ]
    },
    {
      "cell_type": "code",
      "metadata": {
        "colab": {
          "base_uri": "https://localhost:8080/"
        },
        "id": "XyozvoaqLJVJ",
        "outputId": "c2ebfb8a-776e-4533-8aa8-01c1a9dbf68f"
      },
      "source": [
        "# caso o interesse seja o retorno em forma de lista, usamos o .tolist()\n",
        "unicasFuncoes = df['funcao'].unique().tolist()\n",
        "unicasFuncoes"
      ],
      "execution_count": 58,
      "outputs": [
        {
          "output_type": "execute_result",
          "data": {
            "text/plain": [
              "['Diretor',\n",
              " 'assistente',\n",
              " nan,\n",
              " 'executivo de contas',\n",
              " 'Gerente ',\n",
              " 'Coordenador',\n",
              " 'Engenheiro de Software']"
            ]
          },
          "metadata": {
            "tags": []
          },
          "execution_count": 58
        }
      ]
    },
    {
      "cell_type": "markdown",
      "metadata": {
        "id": "dUM9a1GwUlqd"
      },
      "source": [
        "# **Resumir e exibir dados estatísticos do dataframe**\n",
        "\n",
        "O Pandas oferece funções que realmente facilitam o nosso trabalho. Imagine situações onde precisamos somar todos os valores de uma coluna, ou simplesmente contar a quantidade.\n",
        "É isso que veremos agora..."
      ]
    },
    {
      "cell_type": "markdown",
      "metadata": {
        "id": "YnFupLQj1odl"
      },
      "source": [
        "**SUM()**"
      ]
    },
    {
      "cell_type": "code",
      "metadata": {
        "colab": {
          "base_uri": "https://localhost:8080/"
        },
        "id": "ed8mNlqtT5sr",
        "outputId": "b209d59c-34f2-496a-8d86-654a65a945f4"
      },
      "source": [
        "# Somar todos os valores da coluna saláriodo dataframe df\n",
        "df['salario'].sum()"
      ],
      "execution_count": 59,
      "outputs": [
        {
          "output_type": "execute_result",
          "data": {
            "text/plain": [
              "113500"
            ]
          },
          "metadata": {
            "tags": []
          },
          "execution_count": 59
        }
      ]
    },
    {
      "cell_type": "markdown",
      "metadata": {
        "id": "MxuW4vq01xTJ"
      },
      "source": [
        "**COUNT()**"
      ]
    },
    {
      "cell_type": "code",
      "metadata": {
        "colab": {
          "base_uri": "https://localhost:8080/"
        },
        "id": "zFxc-Rm42vzj",
        "outputId": "5d49db4a-0e41-40ca-ab5e-c73318276022"
      },
      "source": [
        "df['salario'].count()"
      ],
      "execution_count": 60,
      "outputs": [
        {
          "output_type": "execute_result",
          "data": {
            "text/plain": [
              "25"
            ]
          },
          "metadata": {
            "tags": []
          },
          "execution_count": 60
        }
      ]
    },
    {
      "cell_type": "code",
      "metadata": {
        "colab": {
          "base_uri": "https://localhost:8080/",
          "height": 35
        },
        "id": "IWihPoLbVj86",
        "outputId": "6fd743f6-f121-418d-9489-e920aeb9ad68"
      },
      "source": [
        "# ou poderíamos até utilizarmos recursos pra melhorar nossa resposta\n",
        "f\"O total de salários pago aos {df['salario'].count()} funcionários é de ${df['salario'].sum()}\""
      ],
      "execution_count": 61,
      "outputs": [
        {
          "output_type": "execute_result",
          "data": {
            "application/vnd.google.colaboratory.intrinsic+json": {
              "type": "string"
            },
            "text/plain": [
              "'O total de salários pago aos 25 funcionários é de $113500'"
            ]
          },
          "metadata": {
            "tags": []
          },
          "execution_count": 61
        }
      ]
    },
    {
      "cell_type": "markdown",
      "metadata": {
        "id": "_YgNP-be2mtu"
      },
      "source": [
        "**VALUE_COUNTS()**"
      ]
    },
    {
      "cell_type": "code",
      "metadata": {
        "colab": {
          "base_uri": "https://localhost:8080/"
        },
        "id": "rjEuRZL615yL",
        "outputId": "59de01e2-8a5e-4960-e3c6-81d44de66bb9"
      },
      "source": [
        "# Contar quantos registros tem cada setor do dataframe\n",
        "df['setor'].value_counts()"
      ],
      "execution_count": 62,
      "outputs": [
        {
          "output_type": "execute_result",
          "data": {
            "text/plain": [
              "tecnologia        5\n",
              "comercial         4\n",
              "marketing         4\n",
              "artes             4\n",
              "administrativo    3\n",
              "financeiro        3\n",
              "contabilidade     2\n",
              "Name: setor, dtype: int64"
            ]
          },
          "metadata": {
            "tags": []
          },
          "execution_count": 62
        }
      ]
    },
    {
      "cell_type": "markdown",
      "metadata": {
        "id": "Mo6NQcB53Lzp"
      },
      "source": [
        "**MIN() e MAX()**"
      ]
    },
    {
      "cell_type": "code",
      "metadata": {
        "colab": {
          "base_uri": "https://localhost:8080/"
        },
        "id": "pr88kzA93LD6",
        "outputId": "7fbe19b0-ad95-4957-c456-c8b61a7651c0"
      },
      "source": [
        "# Maior salário\n",
        "df['salario'].max()"
      ],
      "execution_count": 63,
      "outputs": [
        {
          "output_type": "execute_result",
          "data": {
            "text/plain": [
              "15000"
            ]
          },
          "metadata": {
            "tags": []
          },
          "execution_count": 63
        }
      ]
    },
    {
      "cell_type": "code",
      "metadata": {
        "colab": {
          "base_uri": "https://localhost:8080/"
        },
        "id": "pV8AXbHq3W3n",
        "outputId": "1b6f6645-b437-4cd2-b102-8d3a76a407c3"
      },
      "source": [
        "# idade do funcionário mais novo\n",
        "df['idade'].min()"
      ],
      "execution_count": 64,
      "outputs": [
        {
          "output_type": "execute_result",
          "data": {
            "text/plain": [
              "18"
            ]
          },
          "metadata": {
            "tags": []
          },
          "execution_count": 64
        }
      ]
    },
    {
      "cell_type": "markdown",
      "metadata": {
        "id": "Fd0IRqxy3m_N"
      },
      "source": [
        "**MEAN() e MEDIAN()**"
      ]
    },
    {
      "cell_type": "code",
      "metadata": {
        "colab": {
          "base_uri": "https://localhost:8080/",
          "height": 204
        },
        "id": "17nKo8Y2V4TV",
        "outputId": "33ba0810-7ae1-45b2-b043-1232320772f8"
      },
      "source": [
        "# Visualizando os dados do setor de tecnologia:\n",
        "df.query(f\"setor == 'tecnologia'\")"
      ],
      "execution_count": 65,
      "outputs": [
        {
          "output_type": "execute_result",
          "data": {
            "text/html": [
              "<div>\n",
              "<style scoped>\n",
              "    .dataframe tbody tr th:only-of-type {\n",
              "        vertical-align: middle;\n",
              "    }\n",
              "\n",
              "    .dataframe tbody tr th {\n",
              "        vertical-align: top;\n",
              "    }\n",
              "\n",
              "    .dataframe thead th {\n",
              "        text-align: right;\n",
              "    }\n",
              "</style>\n",
              "<table border=\"1\" class=\"dataframe\">\n",
              "  <thead>\n",
              "    <tr style=\"text-align: right;\">\n",
              "      <th></th>\n",
              "      <th>nome</th>\n",
              "      <th>sexo</th>\n",
              "      <th>setor</th>\n",
              "      <th>idade</th>\n",
              "      <th>funcao</th>\n",
              "      <th>salario</th>\n",
              "    </tr>\n",
              "  </thead>\n",
              "  <tbody>\n",
              "    <tr>\n",
              "      <th>20</th>\n",
              "      <td>HELOISA</td>\n",
              "      <td>F</td>\n",
              "      <td>tecnologia</td>\n",
              "      <td>43</td>\n",
              "      <td>Gerente</td>\n",
              "      <td>10000</td>\n",
              "    </tr>\n",
              "    <tr>\n",
              "      <th>21</th>\n",
              "      <td>ISABELLE</td>\n",
              "      <td>F</td>\n",
              "      <td>tecnologia</td>\n",
              "      <td>28</td>\n",
              "      <td>Coordenador</td>\n",
              "      <td>7500</td>\n",
              "    </tr>\n",
              "    <tr>\n",
              "      <th>22</th>\n",
              "      <td>JOANA</td>\n",
              "      <td>F</td>\n",
              "      <td>tecnologia</td>\n",
              "      <td>29</td>\n",
              "      <td>Engenheiro de Software</td>\n",
              "      <td>5000</td>\n",
              "    </tr>\n",
              "    <tr>\n",
              "      <th>23</th>\n",
              "      <td>KLAYTON</td>\n",
              "      <td>M</td>\n",
              "      <td>tecnologia</td>\n",
              "      <td>33</td>\n",
              "      <td>NaN</td>\n",
              "      <td>5000</td>\n",
              "    </tr>\n",
              "    <tr>\n",
              "      <th>24</th>\n",
              "      <td>LAURO</td>\n",
              "      <td>M</td>\n",
              "      <td>tecnologia</td>\n",
              "      <td>26</td>\n",
              "      <td>Engenheiro de Software</td>\n",
              "      <td>5000</td>\n",
              "    </tr>\n",
              "  </tbody>\n",
              "</table>\n",
              "</div>"
            ],
            "text/plain": [
              "        nome sexo       setor  idade                  funcao  salario\n",
              "20   HELOISA    F  tecnologia     43                Gerente     10000\n",
              "21  ISABELLE    F  tecnologia     28             Coordenador     7500\n",
              "22     JOANA    F  tecnologia     29  Engenheiro de Software     5000\n",
              "23   KLAYTON    M  tecnologia     33                     NaN     5000\n",
              "24     LAURO    M  tecnologia     26  Engenheiro de Software     5000"
            ]
          },
          "metadata": {
            "tags": []
          },
          "execution_count": 65
        }
      ]
    },
    {
      "cell_type": "code",
      "metadata": {
        "colab": {
          "base_uri": "https://localhost:8080/"
        },
        "id": "hdvKR1FS3rEZ",
        "outputId": "8dc9cbba-f233-4fb4-b696-ba5b46c552d7"
      },
      "source": [
        "# Média salarial da equipe de tecnologia\n",
        "df[df['setor']==\"tecnologia\"][\"salario\"].mean()"
      ],
      "execution_count": 66,
      "outputs": [
        {
          "output_type": "execute_result",
          "data": {
            "text/plain": [
              "6500.0"
            ]
          },
          "metadata": {
            "tags": []
          },
          "execution_count": 66
        }
      ]
    },
    {
      "cell_type": "code",
      "metadata": {
        "colab": {
          "base_uri": "https://localhost:8080/"
        },
        "id": "txQBBvtz4CcL",
        "outputId": "9ae1c2d2-d3b7-4143-f8f7-b643bd1aefe3"
      },
      "source": [
        "# Calcular a mediana salarial da equipe de tecnologia\n",
        "df[df['setor']==\"tecnologia\"][\"salario\"].median()"
      ],
      "execution_count": 67,
      "outputs": [
        {
          "output_type": "execute_result",
          "data": {
            "text/plain": [
              "5000.0"
            ]
          },
          "metadata": {
            "tags": []
          },
          "execution_count": 67
        }
      ]
    },
    {
      "cell_type": "markdown",
      "metadata": {
        "id": "z8bKe6ft5gDi"
      },
      "source": [
        "**DESCRIBE**"
      ]
    },
    {
      "cell_type": "code",
      "metadata": {
        "colab": {
          "base_uri": "https://localhost:8080/",
          "height": 297
        },
        "id": "YQIsisLf5mLv",
        "outputId": "30ad03e6-31a4-42af-d54b-49223462ffc2"
      },
      "source": [
        "df.describe()"
      ],
      "execution_count": 68,
      "outputs": [
        {
          "output_type": "execute_result",
          "data": {
            "text/html": [
              "<div>\n",
              "<style scoped>\n",
              "    .dataframe tbody tr th:only-of-type {\n",
              "        vertical-align: middle;\n",
              "    }\n",
              "\n",
              "    .dataframe tbody tr th {\n",
              "        vertical-align: top;\n",
              "    }\n",
              "\n",
              "    .dataframe thead th {\n",
              "        text-align: right;\n",
              "    }\n",
              "</style>\n",
              "<table border=\"1\" class=\"dataframe\">\n",
              "  <thead>\n",
              "    <tr style=\"text-align: right;\">\n",
              "      <th></th>\n",
              "      <th>idade</th>\n",
              "      <th>salario</th>\n",
              "    </tr>\n",
              "  </thead>\n",
              "  <tbody>\n",
              "    <tr>\n",
              "      <th>count</th>\n",
              "      <td>25.000000</td>\n",
              "      <td>25.000000</td>\n",
              "    </tr>\n",
              "    <tr>\n",
              "      <th>mean</th>\n",
              "      <td>35.200000</td>\n",
              "      <td>4540.000000</td>\n",
              "    </tr>\n",
              "    <tr>\n",
              "      <th>std</th>\n",
              "      <td>10.202124</td>\n",
              "      <td>2875.615876</td>\n",
              "    </tr>\n",
              "    <tr>\n",
              "      <th>min</th>\n",
              "      <td>18.000000</td>\n",
              "      <td>2500.000000</td>\n",
              "    </tr>\n",
              "    <tr>\n",
              "      <th>25%</th>\n",
              "      <td>28.000000</td>\n",
              "      <td>3000.000000</td>\n",
              "    </tr>\n",
              "    <tr>\n",
              "      <th>50%</th>\n",
              "      <td>33.000000</td>\n",
              "      <td>3000.000000</td>\n",
              "    </tr>\n",
              "    <tr>\n",
              "      <th>75%</th>\n",
              "      <td>47.000000</td>\n",
              "      <td>5000.000000</td>\n",
              "    </tr>\n",
              "    <tr>\n",
              "      <th>max</th>\n",
              "      <td>50.000000</td>\n",
              "      <td>15000.000000</td>\n",
              "    </tr>\n",
              "  </tbody>\n",
              "</table>\n",
              "</div>"
            ],
            "text/plain": [
              "           idade       salario\n",
              "count  25.000000     25.000000\n",
              "mean   35.200000   4540.000000\n",
              "std    10.202124   2875.615876\n",
              "min    18.000000   2500.000000\n",
              "25%    28.000000   3000.000000\n",
              "50%    33.000000   3000.000000\n",
              "75%    47.000000   5000.000000\n",
              "max    50.000000  15000.000000"
            ]
          },
          "metadata": {
            "tags": []
          },
          "execution_count": 68
        }
      ]
    },
    {
      "cell_type": "code",
      "metadata": {
        "colab": {
          "base_uri": "https://localhost:8080/"
        },
        "id": "Uuk4hamb7-ui",
        "outputId": "dcb1edf3-40b5-450e-cc67-4dba009b3c58"
      },
      "source": [
        "# ou somente de uma coluna\n",
        "df['funcao'].describe()\n",
        "# existem 22 itens, sendo 6 únicos, o valor mais frequente é \"assistente\" (12x)\n"
      ],
      "execution_count": 69,
      "outputs": [
        {
          "output_type": "execute_result",
          "data": {
            "text/plain": [
              "count             22\n",
              "unique             6\n",
              "top       assistente\n",
              "freq              12\n",
              "Name: funcao, dtype: object"
            ]
          },
          "metadata": {
            "tags": []
          },
          "execution_count": 69
        }
      ]
    },
    {
      "cell_type": "code",
      "metadata": {
        "colab": {
          "base_uri": "https://localhost:8080/",
          "height": 142
        },
        "id": "eDD7RITf-HUZ",
        "outputId": "1ae8a51c-06d5-4638-c202-76da3e7f7d11"
      },
      "source": [
        "# foi somente listadas 22 linhas pois 3 linhas contém valores nulos \"NaN\"\n",
        "df[df['funcao'].isnull()]"
      ],
      "execution_count": 70,
      "outputs": [
        {
          "output_type": "execute_result",
          "data": {
            "text/html": [
              "<div>\n",
              "<style scoped>\n",
              "    .dataframe tbody tr th:only-of-type {\n",
              "        vertical-align: middle;\n",
              "    }\n",
              "\n",
              "    .dataframe tbody tr th {\n",
              "        vertical-align: top;\n",
              "    }\n",
              "\n",
              "    .dataframe thead th {\n",
              "        text-align: right;\n",
              "    }\n",
              "</style>\n",
              "<table border=\"1\" class=\"dataframe\">\n",
              "  <thead>\n",
              "    <tr style=\"text-align: right;\">\n",
              "      <th></th>\n",
              "      <th>nome</th>\n",
              "      <th>sexo</th>\n",
              "      <th>setor</th>\n",
              "      <th>idade</th>\n",
              "      <th>funcao</th>\n",
              "      <th>salario</th>\n",
              "    </tr>\n",
              "  </thead>\n",
              "  <tbody>\n",
              "    <tr>\n",
              "      <th>5</th>\n",
              "      <td>SANDRO</td>\n",
              "      <td>M</td>\n",
              "      <td>artes</td>\n",
              "      <td>48</td>\n",
              "      <td>NaN</td>\n",
              "      <td>4000</td>\n",
              "    </tr>\n",
              "    <tr>\n",
              "      <th>15</th>\n",
              "      <td>ZURIEL</td>\n",
              "      <td>M</td>\n",
              "      <td>financeiro</td>\n",
              "      <td>20</td>\n",
              "      <td>NaN</td>\n",
              "      <td>3000</td>\n",
              "    </tr>\n",
              "    <tr>\n",
              "      <th>23</th>\n",
              "      <td>KLAYTON</td>\n",
              "      <td>M</td>\n",
              "      <td>tecnologia</td>\n",
              "      <td>33</td>\n",
              "      <td>NaN</td>\n",
              "      <td>5000</td>\n",
              "    </tr>\n",
              "  </tbody>\n",
              "</table>\n",
              "</div>"
            ],
            "text/plain": [
              "       nome sexo       setor  idade funcao  salario\n",
              "5    SANDRO    M       artes     48    NaN     4000\n",
              "15   ZURIEL    M  financeiro     20    NaN     3000\n",
              "23  KLAYTON    M  tecnologia     33    NaN     5000"
            ]
          },
          "metadata": {
            "tags": []
          },
          "execution_count": 70
        }
      ]
    },
    {
      "cell_type": "markdown",
      "metadata": {
        "id": "4rFIAoRN0yY7"
      },
      "source": [
        "# **Agrupar por colunas**"
      ]
    },
    {
      "cell_type": "code",
      "metadata": {
        "colab": {
          "base_uri": "https://localhost:8080/",
          "height": 297
        },
        "id": "ndVxG7ROZGJP",
        "outputId": "de1c03b8-21e2-4441-c6a0-72739cd5bd2d"
      },
      "source": [
        "# mas e se eu quero a somatória dos salários por setor?\n",
        "# novamente o pandas vai nos ajudar bastante. \n",
        "# A variavel grupo representa a coluna que será agrupada\n",
        "# A variavel resultado define quais colunas sofrerão o agrupamento\n",
        "grupo = 'setor'\n",
        "resultado = ['setor', 'salario']\n",
        "salario_setor = df[resultado].groupby(grupo).sum()\n",
        "salario_setor"
      ],
      "execution_count": 71,
      "outputs": [
        {
          "output_type": "execute_result",
          "data": {
            "text/html": [
              "<div>\n",
              "<style scoped>\n",
              "    .dataframe tbody tr th:only-of-type {\n",
              "        vertical-align: middle;\n",
              "    }\n",
              "\n",
              "    .dataframe tbody tr th {\n",
              "        vertical-align: top;\n",
              "    }\n",
              "\n",
              "    .dataframe thead th {\n",
              "        text-align: right;\n",
              "    }\n",
              "</style>\n",
              "<table border=\"1\" class=\"dataframe\">\n",
              "  <thead>\n",
              "    <tr style=\"text-align: right;\">\n",
              "      <th></th>\n",
              "      <th>salario</th>\n",
              "    </tr>\n",
              "    <tr>\n",
              "      <th>setor</th>\n",
              "      <th></th>\n",
              "    </tr>\n",
              "  </thead>\n",
              "  <tbody>\n",
              "    <tr>\n",
              "      <th>administrativo</th>\n",
              "      <td>21000</td>\n",
              "    </tr>\n",
              "    <tr>\n",
              "      <th>artes</th>\n",
              "      <td>19000</td>\n",
              "    </tr>\n",
              "    <tr>\n",
              "      <th>comercial</th>\n",
              "      <td>16000</td>\n",
              "    </tr>\n",
              "    <tr>\n",
              "      <th>contabilidade</th>\n",
              "      <td>6000</td>\n",
              "    </tr>\n",
              "    <tr>\n",
              "      <th>financeiro</th>\n",
              "      <td>8000</td>\n",
              "    </tr>\n",
              "    <tr>\n",
              "      <th>marketing</th>\n",
              "      <td>11000</td>\n",
              "    </tr>\n",
              "    <tr>\n",
              "      <th>tecnologia</th>\n",
              "      <td>32500</td>\n",
              "    </tr>\n",
              "  </tbody>\n",
              "</table>\n",
              "</div>"
            ],
            "text/plain": [
              "                salario\n",
              "setor                  \n",
              "administrativo    21000\n",
              "artes             19000\n",
              "comercial         16000\n",
              "contabilidade      6000\n",
              "financeiro         8000\n",
              "marketing         11000\n",
              "tecnologia        32500"
            ]
          },
          "metadata": {
            "tags": []
          },
          "execution_count": 71
        }
      ]
    },
    {
      "cell_type": "code",
      "metadata": {
        "colab": {
          "base_uri": "https://localhost:8080/",
          "height": 452
        },
        "id": "rEYsor5KAKgx",
        "outputId": "3fc54156-ffee-44a9-fb41-db3dd3362a47"
      },
      "source": [
        "# podemos inclusive agrupar com mais colunas. Vamos retornar o mesmo resultado\n",
        "# porém eu quero por setor e funcao\n",
        "grupo = ['setor', 'funcao']\n",
        "resultado = ['setor', 'funcao', 'salario']\n",
        "salarios_setor_funcao = df[resultado].groupby(grupo).sum()\n",
        "# somente como exemplo, adicionei .sort_values(by='salario', ascending=False) \n",
        "# abaixo, mas poderia ter sido feito na linha acima\n",
        "salarios_setor_funcao"
      ],
      "execution_count": 72,
      "outputs": [
        {
          "output_type": "execute_result",
          "data": {
            "text/html": [
              "<div>\n",
              "<style scoped>\n",
              "    .dataframe tbody tr th:only-of-type {\n",
              "        vertical-align: middle;\n",
              "    }\n",
              "\n",
              "    .dataframe tbody tr th {\n",
              "        vertical-align: top;\n",
              "    }\n",
              "\n",
              "    .dataframe thead th {\n",
              "        text-align: right;\n",
              "    }\n",
              "</style>\n",
              "<table border=\"1\" class=\"dataframe\">\n",
              "  <thead>\n",
              "    <tr style=\"text-align: right;\">\n",
              "      <th></th>\n",
              "      <th></th>\n",
              "      <th>salario</th>\n",
              "    </tr>\n",
              "    <tr>\n",
              "      <th>setor</th>\n",
              "      <th>funcao</th>\n",
              "      <th></th>\n",
              "    </tr>\n",
              "  </thead>\n",
              "  <tbody>\n",
              "    <tr>\n",
              "      <th rowspan=\"2\" valign=\"top\">administrativo</th>\n",
              "      <th>Diretor</th>\n",
              "      <td>15000</td>\n",
              "    </tr>\n",
              "    <tr>\n",
              "      <th>assistente</th>\n",
              "      <td>6000</td>\n",
              "    </tr>\n",
              "    <tr>\n",
              "      <th>artes</th>\n",
              "      <th>assistente</th>\n",
              "      <td>15000</td>\n",
              "    </tr>\n",
              "    <tr>\n",
              "      <th rowspan=\"2\" valign=\"top\">comercial</th>\n",
              "      <th>Gerente</th>\n",
              "      <td>7000</td>\n",
              "    </tr>\n",
              "    <tr>\n",
              "      <th>executivo de contas</th>\n",
              "      <td>9000</td>\n",
              "    </tr>\n",
              "    <tr>\n",
              "      <th>contabilidade</th>\n",
              "      <th>assistente</th>\n",
              "      <td>6000</td>\n",
              "    </tr>\n",
              "    <tr>\n",
              "      <th>financeiro</th>\n",
              "      <th>assistente</th>\n",
              "      <td>5000</td>\n",
              "    </tr>\n",
              "    <tr>\n",
              "      <th rowspan=\"2\" valign=\"top\">marketing</th>\n",
              "      <th>Coordenador</th>\n",
              "      <td>3500</td>\n",
              "    </tr>\n",
              "    <tr>\n",
              "      <th>assistente</th>\n",
              "      <td>7500</td>\n",
              "    </tr>\n",
              "    <tr>\n",
              "      <th rowspan=\"3\" valign=\"top\">tecnologia</th>\n",
              "      <th>Coordenador</th>\n",
              "      <td>7500</td>\n",
              "    </tr>\n",
              "    <tr>\n",
              "      <th>Engenheiro de Software</th>\n",
              "      <td>10000</td>\n",
              "    </tr>\n",
              "    <tr>\n",
              "      <th>Gerente</th>\n",
              "      <td>10000</td>\n",
              "    </tr>\n",
              "  </tbody>\n",
              "</table>\n",
              "</div>"
            ],
            "text/plain": [
              "                                       salario\n",
              "setor          funcao                         \n",
              "administrativo Diretor                   15000\n",
              "               assistente                 6000\n",
              "artes          assistente                15000\n",
              "comercial      Gerente                    7000\n",
              "               executivo de contas        9000\n",
              "contabilidade  assistente                 6000\n",
              "financeiro     assistente                 5000\n",
              "marketing      Coordenador                3500\n",
              "               assistente                 7500\n",
              "tecnologia     Coordenador                7500\n",
              "               Engenheiro de Software    10000\n",
              "               Gerente                   10000"
            ]
          },
          "metadata": {
            "tags": []
          },
          "execution_count": 72
        }
      ]
    },
    {
      "cell_type": "markdown",
      "metadata": {
        "id": "sBDqJoc-yBjd"
      },
      "source": [
        "# **Ordenar a seleção de dados**\n"
      ]
    },
    {
      "cell_type": "code",
      "metadata": {
        "colab": {
          "base_uri": "https://localhost:8080/",
          "height": 297
        },
        "id": "mQwAlHuuZpbK",
        "outputId": "7a213992-3335-4487-8136-497c1095984a"
      },
      "source": [
        "# para ordenar o salario de forma decrescente (do maior para o menor)\n",
        "# utilizaremos a função .sort_values()\n",
        "salario_setor.sort_values(by='salario', ascending=False)"
      ],
      "execution_count": 73,
      "outputs": [
        {
          "output_type": "execute_result",
          "data": {
            "text/html": [
              "<div>\n",
              "<style scoped>\n",
              "    .dataframe tbody tr th:only-of-type {\n",
              "        vertical-align: middle;\n",
              "    }\n",
              "\n",
              "    .dataframe tbody tr th {\n",
              "        vertical-align: top;\n",
              "    }\n",
              "\n",
              "    .dataframe thead th {\n",
              "        text-align: right;\n",
              "    }\n",
              "</style>\n",
              "<table border=\"1\" class=\"dataframe\">\n",
              "  <thead>\n",
              "    <tr style=\"text-align: right;\">\n",
              "      <th></th>\n",
              "      <th>salario</th>\n",
              "    </tr>\n",
              "    <tr>\n",
              "      <th>setor</th>\n",
              "      <th></th>\n",
              "    </tr>\n",
              "  </thead>\n",
              "  <tbody>\n",
              "    <tr>\n",
              "      <th>tecnologia</th>\n",
              "      <td>32500</td>\n",
              "    </tr>\n",
              "    <tr>\n",
              "      <th>administrativo</th>\n",
              "      <td>21000</td>\n",
              "    </tr>\n",
              "    <tr>\n",
              "      <th>artes</th>\n",
              "      <td>19000</td>\n",
              "    </tr>\n",
              "    <tr>\n",
              "      <th>comercial</th>\n",
              "      <td>16000</td>\n",
              "    </tr>\n",
              "    <tr>\n",
              "      <th>marketing</th>\n",
              "      <td>11000</td>\n",
              "    </tr>\n",
              "    <tr>\n",
              "      <th>financeiro</th>\n",
              "      <td>8000</td>\n",
              "    </tr>\n",
              "    <tr>\n",
              "      <th>contabilidade</th>\n",
              "      <td>6000</td>\n",
              "    </tr>\n",
              "  </tbody>\n",
              "</table>\n",
              "</div>"
            ],
            "text/plain": [
              "                salario\n",
              "setor                  \n",
              "tecnologia        32500\n",
              "administrativo    21000\n",
              "artes             19000\n",
              "comercial         16000\n",
              "marketing         11000\n",
              "financeiro         8000\n",
              "contabilidade      6000"
            ]
          },
          "metadata": {
            "tags": []
          },
          "execution_count": 73
        }
      ]
    },
    {
      "cell_type": "code",
      "metadata": {
        "colab": {
          "base_uri": "https://localhost:8080/",
          "height": 452
        },
        "id": "waA7XIpZaNIq",
        "outputId": "3bfb3e08-4ef1-4069-bce5-5316a505910a"
      },
      "source": [
        "salarios_setor_funcao.sort_values(by='salario', ascending=False)"
      ],
      "execution_count": 74,
      "outputs": [
        {
          "output_type": "execute_result",
          "data": {
            "text/html": [
              "<div>\n",
              "<style scoped>\n",
              "    .dataframe tbody tr th:only-of-type {\n",
              "        vertical-align: middle;\n",
              "    }\n",
              "\n",
              "    .dataframe tbody tr th {\n",
              "        vertical-align: top;\n",
              "    }\n",
              "\n",
              "    .dataframe thead th {\n",
              "        text-align: right;\n",
              "    }\n",
              "</style>\n",
              "<table border=\"1\" class=\"dataframe\">\n",
              "  <thead>\n",
              "    <tr style=\"text-align: right;\">\n",
              "      <th></th>\n",
              "      <th></th>\n",
              "      <th>salario</th>\n",
              "    </tr>\n",
              "    <tr>\n",
              "      <th>setor</th>\n",
              "      <th>funcao</th>\n",
              "      <th></th>\n",
              "    </tr>\n",
              "  </thead>\n",
              "  <tbody>\n",
              "    <tr>\n",
              "      <th>administrativo</th>\n",
              "      <th>Diretor</th>\n",
              "      <td>15000</td>\n",
              "    </tr>\n",
              "    <tr>\n",
              "      <th>artes</th>\n",
              "      <th>assistente</th>\n",
              "      <td>15000</td>\n",
              "    </tr>\n",
              "    <tr>\n",
              "      <th rowspan=\"2\" valign=\"top\">tecnologia</th>\n",
              "      <th>Engenheiro de Software</th>\n",
              "      <td>10000</td>\n",
              "    </tr>\n",
              "    <tr>\n",
              "      <th>Gerente</th>\n",
              "      <td>10000</td>\n",
              "    </tr>\n",
              "    <tr>\n",
              "      <th>comercial</th>\n",
              "      <th>executivo de contas</th>\n",
              "      <td>9000</td>\n",
              "    </tr>\n",
              "    <tr>\n",
              "      <th>marketing</th>\n",
              "      <th>assistente</th>\n",
              "      <td>7500</td>\n",
              "    </tr>\n",
              "    <tr>\n",
              "      <th>tecnologia</th>\n",
              "      <th>Coordenador</th>\n",
              "      <td>7500</td>\n",
              "    </tr>\n",
              "    <tr>\n",
              "      <th>comercial</th>\n",
              "      <th>Gerente</th>\n",
              "      <td>7000</td>\n",
              "    </tr>\n",
              "    <tr>\n",
              "      <th>administrativo</th>\n",
              "      <th>assistente</th>\n",
              "      <td>6000</td>\n",
              "    </tr>\n",
              "    <tr>\n",
              "      <th>contabilidade</th>\n",
              "      <th>assistente</th>\n",
              "      <td>6000</td>\n",
              "    </tr>\n",
              "    <tr>\n",
              "      <th>financeiro</th>\n",
              "      <th>assistente</th>\n",
              "      <td>5000</td>\n",
              "    </tr>\n",
              "    <tr>\n",
              "      <th>marketing</th>\n",
              "      <th>Coordenador</th>\n",
              "      <td>3500</td>\n",
              "    </tr>\n",
              "  </tbody>\n",
              "</table>\n",
              "</div>"
            ],
            "text/plain": [
              "                                       salario\n",
              "setor          funcao                         \n",
              "administrativo Diretor                   15000\n",
              "artes          assistente                15000\n",
              "tecnologia     Engenheiro de Software    10000\n",
              "               Gerente                   10000\n",
              "comercial      executivo de contas        9000\n",
              "marketing      assistente                 7500\n",
              "tecnologia     Coordenador                7500\n",
              "comercial      Gerente                    7000\n",
              "administrativo assistente                 6000\n",
              "contabilidade  assistente                 6000\n",
              "financeiro     assistente                 5000\n",
              "marketing      Coordenador                3500"
            ]
          },
          "metadata": {
            "tags": []
          },
          "execution_count": 74
        }
      ]
    },
    {
      "cell_type": "code",
      "metadata": {
        "colab": {
          "base_uri": "https://localhost:8080/",
          "height": 452
        },
        "id": "C1Icly3RyVVu",
        "outputId": "89d9a669-93ea-4eb3-dd7b-25d90cac6dd1"
      },
      "source": [
        "# abaixo, segue a função .nlargest(qtde-de-linhas, coluna) p/ ordenar de forma \n",
        "# descendente. Usei a funçao len(objeto) para pegar o total de linhas do dataframe\n",
        "salarios_setor_funcao.nlargest(len(salarios_setor_funcao), columns='salario')"
      ],
      "execution_count": 75,
      "outputs": [
        {
          "output_type": "execute_result",
          "data": {
            "text/html": [
              "<div>\n",
              "<style scoped>\n",
              "    .dataframe tbody tr th:only-of-type {\n",
              "        vertical-align: middle;\n",
              "    }\n",
              "\n",
              "    .dataframe tbody tr th {\n",
              "        vertical-align: top;\n",
              "    }\n",
              "\n",
              "    .dataframe thead th {\n",
              "        text-align: right;\n",
              "    }\n",
              "</style>\n",
              "<table border=\"1\" class=\"dataframe\">\n",
              "  <thead>\n",
              "    <tr style=\"text-align: right;\">\n",
              "      <th></th>\n",
              "      <th></th>\n",
              "      <th>salario</th>\n",
              "    </tr>\n",
              "    <tr>\n",
              "      <th>setor</th>\n",
              "      <th>funcao</th>\n",
              "      <th></th>\n",
              "    </tr>\n",
              "  </thead>\n",
              "  <tbody>\n",
              "    <tr>\n",
              "      <th>administrativo</th>\n",
              "      <th>Diretor</th>\n",
              "      <td>15000</td>\n",
              "    </tr>\n",
              "    <tr>\n",
              "      <th>artes</th>\n",
              "      <th>assistente</th>\n",
              "      <td>15000</td>\n",
              "    </tr>\n",
              "    <tr>\n",
              "      <th rowspan=\"2\" valign=\"top\">tecnologia</th>\n",
              "      <th>Engenheiro de Software</th>\n",
              "      <td>10000</td>\n",
              "    </tr>\n",
              "    <tr>\n",
              "      <th>Gerente</th>\n",
              "      <td>10000</td>\n",
              "    </tr>\n",
              "    <tr>\n",
              "      <th>comercial</th>\n",
              "      <th>executivo de contas</th>\n",
              "      <td>9000</td>\n",
              "    </tr>\n",
              "    <tr>\n",
              "      <th>marketing</th>\n",
              "      <th>assistente</th>\n",
              "      <td>7500</td>\n",
              "    </tr>\n",
              "    <tr>\n",
              "      <th>tecnologia</th>\n",
              "      <th>Coordenador</th>\n",
              "      <td>7500</td>\n",
              "    </tr>\n",
              "    <tr>\n",
              "      <th>comercial</th>\n",
              "      <th>Gerente</th>\n",
              "      <td>7000</td>\n",
              "    </tr>\n",
              "    <tr>\n",
              "      <th>administrativo</th>\n",
              "      <th>assistente</th>\n",
              "      <td>6000</td>\n",
              "    </tr>\n",
              "    <tr>\n",
              "      <th>contabilidade</th>\n",
              "      <th>assistente</th>\n",
              "      <td>6000</td>\n",
              "    </tr>\n",
              "    <tr>\n",
              "      <th>financeiro</th>\n",
              "      <th>assistente</th>\n",
              "      <td>5000</td>\n",
              "    </tr>\n",
              "    <tr>\n",
              "      <th>marketing</th>\n",
              "      <th>Coordenador</th>\n",
              "      <td>3500</td>\n",
              "    </tr>\n",
              "  </tbody>\n",
              "</table>\n",
              "</div>"
            ],
            "text/plain": [
              "                                       salario\n",
              "setor          funcao                         \n",
              "administrativo Diretor                   15000\n",
              "artes          assistente                15000\n",
              "tecnologia     Engenheiro de Software    10000\n",
              "               Gerente                   10000\n",
              "comercial      executivo de contas        9000\n",
              "marketing      assistente                 7500\n",
              "tecnologia     Coordenador                7500\n",
              "comercial      Gerente                    7000\n",
              "administrativo assistente                 6000\n",
              "contabilidade  assistente                 6000\n",
              "financeiro     assistente                 5000\n",
              "marketing      Coordenador                3500"
            ]
          },
          "metadata": {
            "tags": []
          },
          "execution_count": 75
        }
      ]
    },
    {
      "cell_type": "code",
      "metadata": {
        "colab": {
          "base_uri": "https://localhost:8080/",
          "height": 235
        },
        "id": "8cObVrHayVHl",
        "outputId": "dee87bf4-1fcf-4df0-b425-7b03762c0157"
      },
      "source": [
        "# abaixo, segue função .nsmallest p/ ordenar de forma ascendente\n",
        "# abaixo, estou retornando os 5 menores valores\n",
        "salarios_setor_funcao.nsmallest(5, columns='salario')"
      ],
      "execution_count": 76,
      "outputs": [
        {
          "output_type": "execute_result",
          "data": {
            "text/html": [
              "<div>\n",
              "<style scoped>\n",
              "    .dataframe tbody tr th:only-of-type {\n",
              "        vertical-align: middle;\n",
              "    }\n",
              "\n",
              "    .dataframe tbody tr th {\n",
              "        vertical-align: top;\n",
              "    }\n",
              "\n",
              "    .dataframe thead th {\n",
              "        text-align: right;\n",
              "    }\n",
              "</style>\n",
              "<table border=\"1\" class=\"dataframe\">\n",
              "  <thead>\n",
              "    <tr style=\"text-align: right;\">\n",
              "      <th></th>\n",
              "      <th></th>\n",
              "      <th>salario</th>\n",
              "    </tr>\n",
              "    <tr>\n",
              "      <th>setor</th>\n",
              "      <th>funcao</th>\n",
              "      <th></th>\n",
              "    </tr>\n",
              "  </thead>\n",
              "  <tbody>\n",
              "    <tr>\n",
              "      <th>marketing</th>\n",
              "      <th>Coordenador</th>\n",
              "      <td>3500</td>\n",
              "    </tr>\n",
              "    <tr>\n",
              "      <th>financeiro</th>\n",
              "      <th>assistente</th>\n",
              "      <td>5000</td>\n",
              "    </tr>\n",
              "    <tr>\n",
              "      <th>administrativo</th>\n",
              "      <th>assistente</th>\n",
              "      <td>6000</td>\n",
              "    </tr>\n",
              "    <tr>\n",
              "      <th>contabilidade</th>\n",
              "      <th>assistente</th>\n",
              "      <td>6000</td>\n",
              "    </tr>\n",
              "    <tr>\n",
              "      <th>comercial</th>\n",
              "      <th>Gerente</th>\n",
              "      <td>7000</td>\n",
              "    </tr>\n",
              "  </tbody>\n",
              "</table>\n",
              "</div>"
            ],
            "text/plain": [
              "                            salario\n",
              "setor          funcao              \n",
              "marketing      Coordenador     3500\n",
              "financeiro     assistente      5000\n",
              "administrativo assistente      6000\n",
              "contabilidade  assistente      6000\n",
              "comercial      Gerente         7000"
            ]
          },
          "metadata": {
            "tags": []
          },
          "execution_count": 76
        }
      ]
    },
    {
      "cell_type": "markdown",
      "metadata": {
        "id": "36eNQkN1LqJw"
      },
      "source": [
        "# **Manipular Valores**\n",
        "Na maioria das vezes é tarefa do analista melhorar o dado, de várias maneiras como remover valores nulos, padronizar valores, efetuar algumas limpezas nos dados. Então, vamos a alguns exemplos"
      ]
    },
    {
      "cell_type": "code",
      "metadata": {
        "id": "nkgr_exP0ZU9"
      },
      "source": [
        "# vamos fazer uma cópia do dataframe df original\n",
        "dfCopia = df.copy()"
      ],
      "execution_count": 77,
      "outputs": []
    },
    {
      "cell_type": "code",
      "metadata": {
        "colab": {
          "base_uri": "https://localhost:8080/",
          "height": 204
        },
        "id": "Z_IsKUtDfsI_",
        "outputId": "66556e11-9670-48b7-8343-fa71e8d5b185"
      },
      "source": [
        "dfCopia.head()"
      ],
      "execution_count": 78,
      "outputs": [
        {
          "output_type": "execute_result",
          "data": {
            "text/html": [
              "<div>\n",
              "<style scoped>\n",
              "    .dataframe tbody tr th:only-of-type {\n",
              "        vertical-align: middle;\n",
              "    }\n",
              "\n",
              "    .dataframe tbody tr th {\n",
              "        vertical-align: top;\n",
              "    }\n",
              "\n",
              "    .dataframe thead th {\n",
              "        text-align: right;\n",
              "    }\n",
              "</style>\n",
              "<table border=\"1\" class=\"dataframe\">\n",
              "  <thead>\n",
              "    <tr style=\"text-align: right;\">\n",
              "      <th></th>\n",
              "      <th>nome</th>\n",
              "      <th>sexo</th>\n",
              "      <th>setor</th>\n",
              "      <th>idade</th>\n",
              "      <th>funcao</th>\n",
              "      <th>salario</th>\n",
              "    </tr>\n",
              "  </thead>\n",
              "  <tbody>\n",
              "    <tr>\n",
              "      <th>0</th>\n",
              "      <td>ANTONIO</td>\n",
              "      <td>M</td>\n",
              "      <td>administrativo</td>\n",
              "      <td>26</td>\n",
              "      <td>Diretor</td>\n",
              "      <td>15000</td>\n",
              "    </tr>\n",
              "    <tr>\n",
              "      <th>1</th>\n",
              "      <td>GUSTAVO</td>\n",
              "      <td>M</td>\n",
              "      <td>administrativo</td>\n",
              "      <td>29</td>\n",
              "      <td>assistente</td>\n",
              "      <td>3000</td>\n",
              "    </tr>\n",
              "    <tr>\n",
              "      <th>2</th>\n",
              "      <td>NORMA</td>\n",
              "      <td>F</td>\n",
              "      <td>administrativo</td>\n",
              "      <td>49</td>\n",
              "      <td>assistente</td>\n",
              "      <td>3000</td>\n",
              "    </tr>\n",
              "    <tr>\n",
              "      <th>3</th>\n",
              "      <td>QUITERIA</td>\n",
              "      <td>F</td>\n",
              "      <td>artes</td>\n",
              "      <td>39</td>\n",
              "      <td>assistente</td>\n",
              "      <td>6000</td>\n",
              "    </tr>\n",
              "    <tr>\n",
              "      <th>4</th>\n",
              "      <td>RENATA</td>\n",
              "      <td>F</td>\n",
              "      <td>artes</td>\n",
              "      <td>39</td>\n",
              "      <td>assistente</td>\n",
              "      <td>5000</td>\n",
              "    </tr>\n",
              "  </tbody>\n",
              "</table>\n",
              "</div>"
            ],
            "text/plain": [
              "       nome sexo           setor  idade      funcao  salario\n",
              "0   ANTONIO    M  administrativo     26     Diretor    15000\n",
              "1   GUSTAVO    M  administrativo     29  assistente     3000\n",
              "2     NORMA    F  administrativo     49  assistente     3000\n",
              "3  QUITERIA    F           artes     39  assistente     6000\n",
              "4    RENATA    F           artes     39  assistente     5000"
            ]
          },
          "metadata": {
            "tags": []
          },
          "execution_count": 78
        }
      ]
    },
    {
      "cell_type": "markdown",
      "metadata": {
        "id": "EQdk8fBjhQ1u"
      },
      "source": [
        "**RENAME()**"
      ]
    },
    {
      "cell_type": "code",
      "metadata": {
        "colab": {
          "base_uri": "https://localhost:8080/",
          "height": 204
        },
        "id": "RphUgJO6fwfd",
        "outputId": "d0d06385-1f6f-4f37-8ac6-a901b89b7548"
      },
      "source": [
        "# vamos alterar o nome da coluna funcao para cargo\n",
        "dfCopia.rename(columns={\"funcao\": \"cargo\"}, inplace=True)\n",
        "dfCopia.head()"
      ],
      "execution_count": 79,
      "outputs": [
        {
          "output_type": "execute_result",
          "data": {
            "text/html": [
              "<div>\n",
              "<style scoped>\n",
              "    .dataframe tbody tr th:only-of-type {\n",
              "        vertical-align: middle;\n",
              "    }\n",
              "\n",
              "    .dataframe tbody tr th {\n",
              "        vertical-align: top;\n",
              "    }\n",
              "\n",
              "    .dataframe thead th {\n",
              "        text-align: right;\n",
              "    }\n",
              "</style>\n",
              "<table border=\"1\" class=\"dataframe\">\n",
              "  <thead>\n",
              "    <tr style=\"text-align: right;\">\n",
              "      <th></th>\n",
              "      <th>nome</th>\n",
              "      <th>sexo</th>\n",
              "      <th>setor</th>\n",
              "      <th>idade</th>\n",
              "      <th>cargo</th>\n",
              "      <th>salario</th>\n",
              "    </tr>\n",
              "  </thead>\n",
              "  <tbody>\n",
              "    <tr>\n",
              "      <th>0</th>\n",
              "      <td>ANTONIO</td>\n",
              "      <td>M</td>\n",
              "      <td>administrativo</td>\n",
              "      <td>26</td>\n",
              "      <td>Diretor</td>\n",
              "      <td>15000</td>\n",
              "    </tr>\n",
              "    <tr>\n",
              "      <th>1</th>\n",
              "      <td>GUSTAVO</td>\n",
              "      <td>M</td>\n",
              "      <td>administrativo</td>\n",
              "      <td>29</td>\n",
              "      <td>assistente</td>\n",
              "      <td>3000</td>\n",
              "    </tr>\n",
              "    <tr>\n",
              "      <th>2</th>\n",
              "      <td>NORMA</td>\n",
              "      <td>F</td>\n",
              "      <td>administrativo</td>\n",
              "      <td>49</td>\n",
              "      <td>assistente</td>\n",
              "      <td>3000</td>\n",
              "    </tr>\n",
              "    <tr>\n",
              "      <th>3</th>\n",
              "      <td>QUITERIA</td>\n",
              "      <td>F</td>\n",
              "      <td>artes</td>\n",
              "      <td>39</td>\n",
              "      <td>assistente</td>\n",
              "      <td>6000</td>\n",
              "    </tr>\n",
              "    <tr>\n",
              "      <th>4</th>\n",
              "      <td>RENATA</td>\n",
              "      <td>F</td>\n",
              "      <td>artes</td>\n",
              "      <td>39</td>\n",
              "      <td>assistente</td>\n",
              "      <td>5000</td>\n",
              "    </tr>\n",
              "  </tbody>\n",
              "</table>\n",
              "</div>"
            ],
            "text/plain": [
              "       nome sexo           setor  idade       cargo  salario\n",
              "0   ANTONIO    M  administrativo     26     Diretor    15000\n",
              "1   GUSTAVO    M  administrativo     29  assistente     3000\n",
              "2     NORMA    F  administrativo     49  assistente     3000\n",
              "3  QUITERIA    F           artes     39  assistente     6000\n",
              "4    RENATA    F           artes     39  assistente     5000"
            ]
          },
          "metadata": {
            "tags": []
          },
          "execution_count": 79
        }
      ]
    },
    {
      "cell_type": "code",
      "metadata": {
        "colab": {
          "base_uri": "https://localhost:8080/",
          "height": 35
        },
        "id": "QvkCXWF9MZwT",
        "outputId": "7e3a8cbd-3274-40ba-d59b-49a0589263e2"
      },
      "source": [
        "# vamos alterar a descrição dos cargos para maiúsculo, utilizando 2 funções:\n",
        "# a primeira é a função lambda que consiste em atribuir valor ao objeto\n",
        "# e nela usaremos função str().upper(), que converte uma string em maiúscula\n",
        "# exemplo básco da função str().upper()\n",
        "str('italo').upper()"
      ],
      "execution_count": 80,
      "outputs": [
        {
          "output_type": "execute_result",
          "data": {
            "application/vnd.google.colaboratory.intrinsic+json": {
              "type": "string"
            },
            "text/plain": [
              "'ITALO'"
            ]
          },
          "metadata": {
            "tags": []
          },
          "execution_count": 80
        }
      ]
    },
    {
      "cell_type": "code",
      "metadata": {
        "colab": {
          "base_uri": "https://localhost:8080/"
        },
        "id": "e0VHZf18fI02",
        "outputId": "c1457b84-6877-4de0-96b1-b1021ef36c35"
      },
      "source": [
        "# mas primeiro vamos ver todas as funções \n",
        "dfCopia['cargo'].unique().tolist()\n",
        "# veja abaixo não tem padrão"
      ],
      "execution_count": 81,
      "outputs": [
        {
          "output_type": "execute_result",
          "data": {
            "text/plain": [
              "['Diretor',\n",
              " 'assistente',\n",
              " nan,\n",
              " 'executivo de contas',\n",
              " 'Gerente ',\n",
              " 'Coordenador',\n",
              " 'Engenheiro de Software']"
            ]
          },
          "metadata": {
            "tags": []
          },
          "execution_count": 81
        }
      ]
    },
    {
      "cell_type": "markdown",
      "metadata": {
        "id": "Ia7Wz2zxhTR-"
      },
      "source": [
        "**VALORES NULOS - FILLNA() e DROPNA()**\n",
        "Aqui vai uma dica muito útil pois na maioria das vezes o dataframe que está sendo trabalhado vem com valores nulos (ausentes) e em algumas vezes precisamos remover os registros que contém dados nulos ou substituir esses valores nulos com valores pré-definidos pelo negócio ou ciência.\n",
        "Vamos aos exemplos."
      ]
    },
    {
      "cell_type": "code",
      "metadata": {
        "colab": {
          "base_uri": "https://localhost:8080/",
          "height": 824
        },
        "id": "WvISWnZ_p__d",
        "outputId": "4c3328c2-533a-4ee8-da19-813137faa5c7"
      },
      "source": [
        "# podemos visualizar onde temos valores nulos conforme exemplo abaixo\n",
        "dfCopia.isnull()\n",
        "# mas imagine um dataframe com milhares de linhas? Assim complica."
      ],
      "execution_count": 82,
      "outputs": [
        {
          "output_type": "execute_result",
          "data": {
            "text/html": [
              "<div>\n",
              "<style scoped>\n",
              "    .dataframe tbody tr th:only-of-type {\n",
              "        vertical-align: middle;\n",
              "    }\n",
              "\n",
              "    .dataframe tbody tr th {\n",
              "        vertical-align: top;\n",
              "    }\n",
              "\n",
              "    .dataframe thead th {\n",
              "        text-align: right;\n",
              "    }\n",
              "</style>\n",
              "<table border=\"1\" class=\"dataframe\">\n",
              "  <thead>\n",
              "    <tr style=\"text-align: right;\">\n",
              "      <th></th>\n",
              "      <th>nome</th>\n",
              "      <th>sexo</th>\n",
              "      <th>setor</th>\n",
              "      <th>idade</th>\n",
              "      <th>cargo</th>\n",
              "      <th>salario</th>\n",
              "    </tr>\n",
              "  </thead>\n",
              "  <tbody>\n",
              "    <tr>\n",
              "      <th>0</th>\n",
              "      <td>False</td>\n",
              "      <td>False</td>\n",
              "      <td>False</td>\n",
              "      <td>False</td>\n",
              "      <td>False</td>\n",
              "      <td>False</td>\n",
              "    </tr>\n",
              "    <tr>\n",
              "      <th>1</th>\n",
              "      <td>False</td>\n",
              "      <td>False</td>\n",
              "      <td>False</td>\n",
              "      <td>False</td>\n",
              "      <td>False</td>\n",
              "      <td>False</td>\n",
              "    </tr>\n",
              "    <tr>\n",
              "      <th>2</th>\n",
              "      <td>False</td>\n",
              "      <td>False</td>\n",
              "      <td>False</td>\n",
              "      <td>False</td>\n",
              "      <td>False</td>\n",
              "      <td>False</td>\n",
              "    </tr>\n",
              "    <tr>\n",
              "      <th>3</th>\n",
              "      <td>False</td>\n",
              "      <td>False</td>\n",
              "      <td>False</td>\n",
              "      <td>False</td>\n",
              "      <td>False</td>\n",
              "      <td>False</td>\n",
              "    </tr>\n",
              "    <tr>\n",
              "      <th>4</th>\n",
              "      <td>False</td>\n",
              "      <td>False</td>\n",
              "      <td>False</td>\n",
              "      <td>False</td>\n",
              "      <td>False</td>\n",
              "      <td>False</td>\n",
              "    </tr>\n",
              "    <tr>\n",
              "      <th>5</th>\n",
              "      <td>False</td>\n",
              "      <td>False</td>\n",
              "      <td>False</td>\n",
              "      <td>False</td>\n",
              "      <td>True</td>\n",
              "      <td>False</td>\n",
              "    </tr>\n",
              "    <tr>\n",
              "      <th>6</th>\n",
              "      <td>False</td>\n",
              "      <td>False</td>\n",
              "      <td>False</td>\n",
              "      <td>False</td>\n",
              "      <td>False</td>\n",
              "      <td>False</td>\n",
              "    </tr>\n",
              "    <tr>\n",
              "      <th>7</th>\n",
              "      <td>False</td>\n",
              "      <td>False</td>\n",
              "      <td>False</td>\n",
              "      <td>False</td>\n",
              "      <td>False</td>\n",
              "      <td>False</td>\n",
              "    </tr>\n",
              "    <tr>\n",
              "      <th>8</th>\n",
              "      <td>False</td>\n",
              "      <td>False</td>\n",
              "      <td>False</td>\n",
              "      <td>False</td>\n",
              "      <td>False</td>\n",
              "      <td>False</td>\n",
              "    </tr>\n",
              "    <tr>\n",
              "      <th>9</th>\n",
              "      <td>False</td>\n",
              "      <td>False</td>\n",
              "      <td>False</td>\n",
              "      <td>False</td>\n",
              "      <td>False</td>\n",
              "      <td>False</td>\n",
              "    </tr>\n",
              "    <tr>\n",
              "      <th>10</th>\n",
              "      <td>False</td>\n",
              "      <td>False</td>\n",
              "      <td>False</td>\n",
              "      <td>False</td>\n",
              "      <td>False</td>\n",
              "      <td>False</td>\n",
              "    </tr>\n",
              "    <tr>\n",
              "      <th>11</th>\n",
              "      <td>False</td>\n",
              "      <td>False</td>\n",
              "      <td>False</td>\n",
              "      <td>False</td>\n",
              "      <td>False</td>\n",
              "      <td>False</td>\n",
              "    </tr>\n",
              "    <tr>\n",
              "      <th>12</th>\n",
              "      <td>False</td>\n",
              "      <td>False</td>\n",
              "      <td>False</td>\n",
              "      <td>False</td>\n",
              "      <td>False</td>\n",
              "      <td>False</td>\n",
              "    </tr>\n",
              "    <tr>\n",
              "      <th>13</th>\n",
              "      <td>False</td>\n",
              "      <td>False</td>\n",
              "      <td>False</td>\n",
              "      <td>False</td>\n",
              "      <td>False</td>\n",
              "      <td>False</td>\n",
              "    </tr>\n",
              "    <tr>\n",
              "      <th>14</th>\n",
              "      <td>False</td>\n",
              "      <td>False</td>\n",
              "      <td>False</td>\n",
              "      <td>False</td>\n",
              "      <td>False</td>\n",
              "      <td>False</td>\n",
              "    </tr>\n",
              "    <tr>\n",
              "      <th>15</th>\n",
              "      <td>False</td>\n",
              "      <td>False</td>\n",
              "      <td>False</td>\n",
              "      <td>False</td>\n",
              "      <td>True</td>\n",
              "      <td>False</td>\n",
              "    </tr>\n",
              "    <tr>\n",
              "      <th>16</th>\n",
              "      <td>False</td>\n",
              "      <td>False</td>\n",
              "      <td>False</td>\n",
              "      <td>False</td>\n",
              "      <td>False</td>\n",
              "      <td>False</td>\n",
              "    </tr>\n",
              "    <tr>\n",
              "      <th>17</th>\n",
              "      <td>False</td>\n",
              "      <td>False</td>\n",
              "      <td>False</td>\n",
              "      <td>False</td>\n",
              "      <td>False</td>\n",
              "      <td>False</td>\n",
              "    </tr>\n",
              "    <tr>\n",
              "      <th>18</th>\n",
              "      <td>False</td>\n",
              "      <td>False</td>\n",
              "      <td>False</td>\n",
              "      <td>False</td>\n",
              "      <td>False</td>\n",
              "      <td>False</td>\n",
              "    </tr>\n",
              "    <tr>\n",
              "      <th>19</th>\n",
              "      <td>False</td>\n",
              "      <td>False</td>\n",
              "      <td>False</td>\n",
              "      <td>False</td>\n",
              "      <td>False</td>\n",
              "      <td>False</td>\n",
              "    </tr>\n",
              "    <tr>\n",
              "      <th>20</th>\n",
              "      <td>False</td>\n",
              "      <td>False</td>\n",
              "      <td>False</td>\n",
              "      <td>False</td>\n",
              "      <td>False</td>\n",
              "      <td>False</td>\n",
              "    </tr>\n",
              "    <tr>\n",
              "      <th>21</th>\n",
              "      <td>False</td>\n",
              "      <td>False</td>\n",
              "      <td>False</td>\n",
              "      <td>False</td>\n",
              "      <td>False</td>\n",
              "      <td>False</td>\n",
              "    </tr>\n",
              "    <tr>\n",
              "      <th>22</th>\n",
              "      <td>False</td>\n",
              "      <td>False</td>\n",
              "      <td>False</td>\n",
              "      <td>False</td>\n",
              "      <td>False</td>\n",
              "      <td>False</td>\n",
              "    </tr>\n",
              "    <tr>\n",
              "      <th>23</th>\n",
              "      <td>False</td>\n",
              "      <td>False</td>\n",
              "      <td>False</td>\n",
              "      <td>False</td>\n",
              "      <td>True</td>\n",
              "      <td>False</td>\n",
              "    </tr>\n",
              "    <tr>\n",
              "      <th>24</th>\n",
              "      <td>False</td>\n",
              "      <td>False</td>\n",
              "      <td>False</td>\n",
              "      <td>False</td>\n",
              "      <td>False</td>\n",
              "      <td>False</td>\n",
              "    </tr>\n",
              "  </tbody>\n",
              "</table>\n",
              "</div>"
            ],
            "text/plain": [
              "     nome   sexo  setor  idade  cargo  salario\n",
              "0   False  False  False  False  False    False\n",
              "1   False  False  False  False  False    False\n",
              "2   False  False  False  False  False    False\n",
              "3   False  False  False  False  False    False\n",
              "4   False  False  False  False  False    False\n",
              "5   False  False  False  False   True    False\n",
              "6   False  False  False  False  False    False\n",
              "7   False  False  False  False  False    False\n",
              "8   False  False  False  False  False    False\n",
              "9   False  False  False  False  False    False\n",
              "10  False  False  False  False  False    False\n",
              "11  False  False  False  False  False    False\n",
              "12  False  False  False  False  False    False\n",
              "13  False  False  False  False  False    False\n",
              "14  False  False  False  False  False    False\n",
              "15  False  False  False  False   True    False\n",
              "16  False  False  False  False  False    False\n",
              "17  False  False  False  False  False    False\n",
              "18  False  False  False  False  False    False\n",
              "19  False  False  False  False  False    False\n",
              "20  False  False  False  False  False    False\n",
              "21  False  False  False  False  False    False\n",
              "22  False  False  False  False  False    False\n",
              "23  False  False  False  False   True    False\n",
              "24  False  False  False  False  False    False"
            ]
          },
          "metadata": {
            "tags": []
          },
          "execution_count": 82
        }
      ]
    },
    {
      "cell_type": "code",
      "metadata": {
        "colab": {
          "base_uri": "https://localhost:8080/"
        },
        "id": "wSPHMUdfqddh",
        "outputId": "2c419f81-6da8-4f16-a43d-960fab21525c"
      },
      "source": [
        "# então podemos exibir quais campos possuem valores nulos usando a função\n",
        "# isnull() + .sum() e assim terá todas as colunas do dataframe que possuem \n",
        "# valores nulos. No nosso caso, a coluna cargo\n",
        "dfCopia.isnull().sum()"
      ],
      "execution_count": 83,
      "outputs": [
        {
          "output_type": "execute_result",
          "data": {
            "text/plain": [
              "nome       0\n",
              "sexo       0\n",
              "setor      0\n",
              "idade      0\n",
              "cargo      3\n",
              "salario    0\n",
              "dtype: int64"
            ]
          },
          "metadata": {
            "tags": []
          },
          "execution_count": 83
        }
      ]
    },
    {
      "cell_type": "code",
      "metadata": {
        "colab": {
          "base_uri": "https://localhost:8080/",
          "height": 142
        },
        "id": "47FimBGzrBWj",
        "outputId": "d3bafd5b-babf-4f28-fd22-99e4aa3d9b82"
      },
      "source": [
        "# vamos visualizar esses registros que possuem a coluna cargo com valores NaN\n",
        "dfCopia[dfCopia['cargo'].isnull()]"
      ],
      "execution_count": 84,
      "outputs": [
        {
          "output_type": "execute_result",
          "data": {
            "text/html": [
              "<div>\n",
              "<style scoped>\n",
              "    .dataframe tbody tr th:only-of-type {\n",
              "        vertical-align: middle;\n",
              "    }\n",
              "\n",
              "    .dataframe tbody tr th {\n",
              "        vertical-align: top;\n",
              "    }\n",
              "\n",
              "    .dataframe thead th {\n",
              "        text-align: right;\n",
              "    }\n",
              "</style>\n",
              "<table border=\"1\" class=\"dataframe\">\n",
              "  <thead>\n",
              "    <tr style=\"text-align: right;\">\n",
              "      <th></th>\n",
              "      <th>nome</th>\n",
              "      <th>sexo</th>\n",
              "      <th>setor</th>\n",
              "      <th>idade</th>\n",
              "      <th>cargo</th>\n",
              "      <th>salario</th>\n",
              "    </tr>\n",
              "  </thead>\n",
              "  <tbody>\n",
              "    <tr>\n",
              "      <th>5</th>\n",
              "      <td>SANDRO</td>\n",
              "      <td>M</td>\n",
              "      <td>artes</td>\n",
              "      <td>48</td>\n",
              "      <td>NaN</td>\n",
              "      <td>4000</td>\n",
              "    </tr>\n",
              "    <tr>\n",
              "      <th>15</th>\n",
              "      <td>ZURIEL</td>\n",
              "      <td>M</td>\n",
              "      <td>financeiro</td>\n",
              "      <td>20</td>\n",
              "      <td>NaN</td>\n",
              "      <td>3000</td>\n",
              "    </tr>\n",
              "    <tr>\n",
              "      <th>23</th>\n",
              "      <td>KLAYTON</td>\n",
              "      <td>M</td>\n",
              "      <td>tecnologia</td>\n",
              "      <td>33</td>\n",
              "      <td>NaN</td>\n",
              "      <td>5000</td>\n",
              "    </tr>\n",
              "  </tbody>\n",
              "</table>\n",
              "</div>"
            ],
            "text/plain": [
              "       nome sexo       setor  idade cargo  salario\n",
              "5    SANDRO    M       artes     48   NaN     4000\n",
              "15   ZURIEL    M  financeiro     20   NaN     3000\n",
              "23  KLAYTON    M  tecnologia     33   NaN     5000"
            ]
          },
          "metadata": {
            "tags": []
          },
          "execution_count": 84
        }
      ]
    },
    {
      "cell_type": "code",
      "metadata": {
        "colab": {
          "base_uri": "https://localhost:8080/",
          "height": 49
        },
        "id": "YixWnX8hq5sy",
        "outputId": "d33f3fad-3bc5-48b1-9130-59c5220e28f3"
      },
      "source": [
        "# em alguns casos, removemos os registros que possuem valores nulos\n",
        "# e para isso utilizamos a função dropna()\n",
        "# abaixo, não irei atribuir isso ao dfCopia, apenas simularemos a visão acima\n",
        "# removendo os valores nulos\n",
        "dfCopia[dfCopia['cargo'].isnull()].dropna()\n",
        "# ou seja, ele não exibiu as linhas acimas "
      ],
      "execution_count": 85,
      "outputs": [
        {
          "output_type": "execute_result",
          "data": {
            "text/html": [
              "<div>\n",
              "<style scoped>\n",
              "    .dataframe tbody tr th:only-of-type {\n",
              "        vertical-align: middle;\n",
              "    }\n",
              "\n",
              "    .dataframe tbody tr th {\n",
              "        vertical-align: top;\n",
              "    }\n",
              "\n",
              "    .dataframe thead th {\n",
              "        text-align: right;\n",
              "    }\n",
              "</style>\n",
              "<table border=\"1\" class=\"dataframe\">\n",
              "  <thead>\n",
              "    <tr style=\"text-align: right;\">\n",
              "      <th></th>\n",
              "      <th>nome</th>\n",
              "      <th>sexo</th>\n",
              "      <th>setor</th>\n",
              "      <th>idade</th>\n",
              "      <th>cargo</th>\n",
              "      <th>salario</th>\n",
              "    </tr>\n",
              "  </thead>\n",
              "  <tbody>\n",
              "  </tbody>\n",
              "</table>\n",
              "</div>"
            ],
            "text/plain": [
              "Empty DataFrame\n",
              "Columns: [nome, sexo, setor, idade, cargo, salario]\n",
              "Index: []"
            ]
          },
          "metadata": {
            "tags": []
          },
          "execution_count": 85
        }
      ]
    },
    {
      "cell_type": "code",
      "metadata": {
        "colab": {
          "base_uri": "https://localhost:8080/"
        },
        "id": "lppHCXKLrti6",
        "outputId": "91c2da4e-a269-4503-91eb-4f35b2baa0f9"
      },
      "source": [
        "# ou outra forma de exemplo seria\n",
        "dfCopia.dropna().isnull().sum()\n",
        "# aqui, primeiro removeu os registros Nan e depois verificou se há alguma \n",
        "# valor nulo."
      ],
      "execution_count": 86,
      "outputs": [
        {
          "output_type": "execute_result",
          "data": {
            "text/plain": [
              "nome       0\n",
              "sexo       0\n",
              "setor      0\n",
              "idade      0\n",
              "cargo      0\n",
              "salario    0\n",
              "dtype: int64"
            ]
          },
          "metadata": {
            "tags": []
          },
          "execution_count": 86
        }
      ]
    },
    {
      "cell_type": "code",
      "metadata": {
        "colab": {
          "base_uri": "https://localhost:8080/"
        },
        "id": "rJwuNIQyr2_j",
        "outputId": "43d34c9e-2730-4b38-948f-39a0fa2e881b"
      },
      "source": [
        "# caso a regra é remover os registros com valores nulos\n",
        "# é só atribuir o resultado a uma nova variável\n",
        "novoDF = dfCopia.copy().dropna() # removi os registros\n",
        "novoDF.isnull().sum() # verifiquei se realmente estão todos com valores"
      ],
      "execution_count": 87,
      "outputs": [
        {
          "output_type": "execute_result",
          "data": {
            "text/plain": [
              "nome       0\n",
              "sexo       0\n",
              "setor      0\n",
              "idade      0\n",
              "cargo      0\n",
              "salario    0\n",
              "dtype: int64"
            ]
          },
          "metadata": {
            "tags": []
          },
          "execution_count": 87
        }
      ]
    },
    {
      "cell_type": "code",
      "metadata": {
        "colab": {
          "base_uri": "https://localhost:8080/"
        },
        "id": "G8pEaACRhAQJ",
        "outputId": "f2f7ea3e-6b88-4f1b-f514-43905330c147"
      },
      "source": [
        "# temos um valor nulo acima então vou analisar essa coluna cargo\n",
        "dfCopia['cargo'].describe()"
      ],
      "execution_count": 88,
      "outputs": [
        {
          "output_type": "execute_result",
          "data": {
            "text/plain": [
              "count             22\n",
              "unique             6\n",
              "top       assistente\n",
              "freq              12\n",
              "Name: cargo, dtype: object"
            ]
          },
          "metadata": {
            "tags": []
          },
          "execution_count": 88
        }
      ]
    },
    {
      "cell_type": "code",
      "metadata": {
        "id": "5p1JH6ZZhnrt"
      },
      "source": [
        "# vou fazer o seguinte, para os valores nulos (nan), vou preencher com o valor \n",
        "# mais presente na tabela que é assistente\n",
        "# importante reforçar: essa opção abaixo é uma regra de negócio, podendo variar\n",
        "# de situação a situação\n",
        "dfCopia['cargo'] = dfCopia['cargo'].fillna('assistente')"
      ],
      "execution_count": 89,
      "outputs": []
    },
    {
      "cell_type": "code",
      "metadata": {
        "colab": {
          "base_uri": "https://localhost:8080/"
        },
        "id": "sznCHxBtiBFJ",
        "outputId": "4897b4a7-ded3-4ab7-bcdc-1804be38626e"
      },
      "source": [
        "# agora não temos mais valores nulos na coluna cargo\n",
        "dfCopia['cargo'].unique().tolist()"
      ],
      "execution_count": 90,
      "outputs": [
        {
          "output_type": "execute_result",
          "data": {
            "text/plain": [
              "['Diretor',\n",
              " 'assistente',\n",
              " 'executivo de contas',\n",
              " 'Gerente ',\n",
              " 'Coordenador',\n",
              " 'Engenheiro de Software']"
            ]
          },
          "metadata": {
            "tags": []
          },
          "execution_count": 90
        }
      ]
    },
    {
      "cell_type": "markdown",
      "metadata": {
        "id": "6UTIVBv8pGCF"
      },
      "source": [
        "**LAMBDA()**"
      ]
    },
    {
      "cell_type": "code",
      "metadata": {
        "id": "BN0MZLhvQXqv"
      },
      "source": [
        "# agora vamos deixar todos os cargos em letras maiúsculas\n",
        "# a primeira é a função lambda que consiste em atribuir valor ao objeto\n",
        "# e nela usaremos função str().upper(), que converte uma string em maiúscula\n",
        "dfCopia['cargo'] = dfCopia['cargo'].apply(lambda x: str(x).upper())"
      ],
      "execution_count": 91,
      "outputs": []
    },
    {
      "cell_type": "code",
      "metadata": {
        "colab": {
          "base_uri": "https://localhost:8080/"
        },
        "id": "KFm7sK9DiA6Z",
        "outputId": "ef20c01e-51b6-47b5-836c-2219182f0cc6"
      },
      "source": [
        "# agora todos os cargos estão em maiúsculo\n",
        "dfCopia['cargo'].unique().tolist()"
      ],
      "execution_count": 92,
      "outputs": [
        {
          "output_type": "execute_result",
          "data": {
            "text/plain": [
              "['DIRETOR',\n",
              " 'ASSISTENTE',\n",
              " 'EXECUTIVO DE CONTAS',\n",
              " 'GERENTE ',\n",
              " 'COORDENADOR',\n",
              " 'ENGENHEIRO DE SOFTWARE']"
            ]
          },
          "metadata": {
            "tags": []
          },
          "execution_count": 92
        }
      ]
    },
    {
      "cell_type": "code",
      "metadata": {
        "colab": {
          "base_uri": "https://localhost:8080/",
          "height": 359
        },
        "id": "YBYLF9TdjXhi",
        "outputId": "ceece027-cc74-4a4c-ede2-6fe2386d56d3"
      },
      "source": [
        "dfCopia.head(10)"
      ],
      "execution_count": 93,
      "outputs": [
        {
          "output_type": "execute_result",
          "data": {
            "text/html": [
              "<div>\n",
              "<style scoped>\n",
              "    .dataframe tbody tr th:only-of-type {\n",
              "        vertical-align: middle;\n",
              "    }\n",
              "\n",
              "    .dataframe tbody tr th {\n",
              "        vertical-align: top;\n",
              "    }\n",
              "\n",
              "    .dataframe thead th {\n",
              "        text-align: right;\n",
              "    }\n",
              "</style>\n",
              "<table border=\"1\" class=\"dataframe\">\n",
              "  <thead>\n",
              "    <tr style=\"text-align: right;\">\n",
              "      <th></th>\n",
              "      <th>nome</th>\n",
              "      <th>sexo</th>\n",
              "      <th>setor</th>\n",
              "      <th>idade</th>\n",
              "      <th>cargo</th>\n",
              "      <th>salario</th>\n",
              "    </tr>\n",
              "  </thead>\n",
              "  <tbody>\n",
              "    <tr>\n",
              "      <th>0</th>\n",
              "      <td>ANTONIO</td>\n",
              "      <td>M</td>\n",
              "      <td>administrativo</td>\n",
              "      <td>26</td>\n",
              "      <td>DIRETOR</td>\n",
              "      <td>15000</td>\n",
              "    </tr>\n",
              "    <tr>\n",
              "      <th>1</th>\n",
              "      <td>GUSTAVO</td>\n",
              "      <td>M</td>\n",
              "      <td>administrativo</td>\n",
              "      <td>29</td>\n",
              "      <td>ASSISTENTE</td>\n",
              "      <td>3000</td>\n",
              "    </tr>\n",
              "    <tr>\n",
              "      <th>2</th>\n",
              "      <td>NORMA</td>\n",
              "      <td>F</td>\n",
              "      <td>administrativo</td>\n",
              "      <td>49</td>\n",
              "      <td>ASSISTENTE</td>\n",
              "      <td>3000</td>\n",
              "    </tr>\n",
              "    <tr>\n",
              "      <th>3</th>\n",
              "      <td>QUITERIA</td>\n",
              "      <td>F</td>\n",
              "      <td>artes</td>\n",
              "      <td>39</td>\n",
              "      <td>ASSISTENTE</td>\n",
              "      <td>6000</td>\n",
              "    </tr>\n",
              "    <tr>\n",
              "      <th>4</th>\n",
              "      <td>RENATA</td>\n",
              "      <td>F</td>\n",
              "      <td>artes</td>\n",
              "      <td>39</td>\n",
              "      <td>ASSISTENTE</td>\n",
              "      <td>5000</td>\n",
              "    </tr>\n",
              "    <tr>\n",
              "      <th>5</th>\n",
              "      <td>SANDRO</td>\n",
              "      <td>M</td>\n",
              "      <td>artes</td>\n",
              "      <td>48</td>\n",
              "      <td>ASSISTENTE</td>\n",
              "      <td>4000</td>\n",
              "    </tr>\n",
              "    <tr>\n",
              "      <th>6</th>\n",
              "      <td>VANESSA</td>\n",
              "      <td>F</td>\n",
              "      <td>artes</td>\n",
              "      <td>29</td>\n",
              "      <td>ASSISTENTE</td>\n",
              "      <td>4000</td>\n",
              "    </tr>\n",
              "    <tr>\n",
              "      <th>7</th>\n",
              "      <td>MARCOS</td>\n",
              "      <td>M</td>\n",
              "      <td>comercial</td>\n",
              "      <td>49</td>\n",
              "      <td>EXECUTIVO DE CONTAS</td>\n",
              "      <td>3000</td>\n",
              "    </tr>\n",
              "    <tr>\n",
              "      <th>8</th>\n",
              "      <td>CARLA</td>\n",
              "      <td>F</td>\n",
              "      <td>comercial</td>\n",
              "      <td>22</td>\n",
              "      <td>GERENTE</td>\n",
              "      <td>7000</td>\n",
              "    </tr>\n",
              "    <tr>\n",
              "      <th>9</th>\n",
              "      <td>DANIELA</td>\n",
              "      <td>F</td>\n",
              "      <td>comercial</td>\n",
              "      <td>50</td>\n",
              "      <td>EXECUTIVO DE CONTAS</td>\n",
              "      <td>3000</td>\n",
              "    </tr>\n",
              "  </tbody>\n",
              "</table>\n",
              "</div>"
            ],
            "text/plain": [
              "       nome sexo           setor  idade                cargo  salario\n",
              "0   ANTONIO    M  administrativo     26              DIRETOR    15000\n",
              "1   GUSTAVO    M  administrativo     29           ASSISTENTE     3000\n",
              "2     NORMA    F  administrativo     49           ASSISTENTE     3000\n",
              "3  QUITERIA    F           artes     39           ASSISTENTE     6000\n",
              "4    RENATA    F           artes     39           ASSISTENTE     5000\n",
              "5    SANDRO    M           artes     48           ASSISTENTE     4000\n",
              "6   VANESSA    F           artes     29           ASSISTENTE     4000\n",
              "7    MARCOS    M       comercial     49  EXECUTIVO DE CONTAS     3000\n",
              "8     CARLA    F       comercial     22             GERENTE      7000\n",
              "9   DANIELA    F       comercial     50  EXECUTIVO DE CONTAS     3000"
            ]
          },
          "metadata": {
            "tags": []
          },
          "execution_count": 93
        }
      ]
    },
    {
      "cell_type": "code",
      "metadata": {
        "colab": {
          "base_uri": "https://localhost:8080/",
          "height": 204
        },
        "id": "uTulElTcjHhe",
        "outputId": "4eb0a416-ab7e-4651-8eb9-8ba0f96ae370"
      },
      "source": [
        "# vamos fazer outro exemplo usando lambda mas com uma função criada pelo dev\n",
        "dfCopia.query('salario < 3000')"
      ],
      "execution_count": 94,
      "outputs": [
        {
          "output_type": "execute_result",
          "data": {
            "text/html": [
              "<div>\n",
              "<style scoped>\n",
              "    .dataframe tbody tr th:only-of-type {\n",
              "        vertical-align: middle;\n",
              "    }\n",
              "\n",
              "    .dataframe tbody tr th {\n",
              "        vertical-align: top;\n",
              "    }\n",
              "\n",
              "    .dataframe thead th {\n",
              "        text-align: right;\n",
              "    }\n",
              "</style>\n",
              "<table border=\"1\" class=\"dataframe\">\n",
              "  <thead>\n",
              "    <tr style=\"text-align: right;\">\n",
              "      <th></th>\n",
              "      <th>nome</th>\n",
              "      <th>sexo</th>\n",
              "      <th>setor</th>\n",
              "      <th>idade</th>\n",
              "      <th>cargo</th>\n",
              "      <th>salario</th>\n",
              "    </tr>\n",
              "  </thead>\n",
              "  <tbody>\n",
              "    <tr>\n",
              "      <th>13</th>\n",
              "      <td>BEATRIZ</td>\n",
              "      <td>F</td>\n",
              "      <td>financeiro</td>\n",
              "      <td>33</td>\n",
              "      <td>ASSISTENTE</td>\n",
              "      <td>2500</td>\n",
              "    </tr>\n",
              "    <tr>\n",
              "      <th>14</th>\n",
              "      <td>TEODORO</td>\n",
              "      <td>M</td>\n",
              "      <td>financeiro</td>\n",
              "      <td>38</td>\n",
              "      <td>ASSISTENTE</td>\n",
              "      <td>2500</td>\n",
              "    </tr>\n",
              "    <tr>\n",
              "      <th>16</th>\n",
              "      <td>FABIA</td>\n",
              "      <td>F</td>\n",
              "      <td>marketing</td>\n",
              "      <td>49</td>\n",
              "      <td>ASSISTENTE</td>\n",
              "      <td>2500</td>\n",
              "    </tr>\n",
              "    <tr>\n",
              "      <th>17</th>\n",
              "      <td>UBALDO</td>\n",
              "      <td>M</td>\n",
              "      <td>marketing</td>\n",
              "      <td>47</td>\n",
              "      <td>ASSISTENTE</td>\n",
              "      <td>2500</td>\n",
              "    </tr>\n",
              "    <tr>\n",
              "      <th>19</th>\n",
              "      <td>YOLANDA</td>\n",
              "      <td>F</td>\n",
              "      <td>marketing</td>\n",
              "      <td>27</td>\n",
              "      <td>ASSISTENTE</td>\n",
              "      <td>2500</td>\n",
              "    </tr>\n",
              "  </tbody>\n",
              "</table>\n",
              "</div>"
            ],
            "text/plain": [
              "       nome sexo       setor  idade       cargo  salario\n",
              "13  BEATRIZ    F  financeiro     33  ASSISTENTE     2500\n",
              "14  TEODORO    M  financeiro     38  ASSISTENTE     2500\n",
              "16    FABIA    F   marketing     49  ASSISTENTE     2500\n",
              "17   UBALDO    M   marketing     47  ASSISTENTE     2500\n",
              "19  YOLANDA    F   marketing     27  ASSISTENTE     2500"
            ]
          },
          "metadata": {
            "tags": []
          },
          "execution_count": 94
        }
      ]
    },
    {
      "cell_type": "code",
      "metadata": {
        "id": "lTnqA7KLmKKH"
      },
      "source": [
        "# função simples para reajustar um valor, no caso será o salario\n",
        "def salario_reajuste(valor, reajuste):\n",
        "  \"\"\"\n",
        "  valor = float\n",
        "  reajuste = float, ex.: 10% será 0.1\n",
        "  \"\"\"\n",
        "  if valor < 3000:\n",
        "    valor += valor * reajuste\n",
        "  return valor"
      ],
      "execution_count": 95,
      "outputs": []
    },
    {
      "cell_type": "code",
      "metadata": {
        "colab": {
          "base_uri": "https://localhost:8080/"
        },
        "id": "xjNmSqiPmDQk",
        "outputId": "4059acfc-b50b-4e29-96b4-2bf917f58862"
      },
      "source": [
        "# testando a função\n",
        "salario_reajuste(valor=2000, reajuste=0.1) "
      ],
      "execution_count": 96,
      "outputs": [
        {
          "output_type": "execute_result",
          "data": {
            "text/plain": [
              "2200.0"
            ]
          },
          "metadata": {
            "tags": []
          },
          "execution_count": 96
        }
      ]
    },
    {
      "cell_type": "code",
      "metadata": {
        "colab": {
          "base_uri": "https://localhost:8080/",
          "height": 49
        },
        "id": "29wuLNrGmtdm",
        "outputId": "16f9727a-1a4e-4eea-bd88-ab490aefdbc4"
      },
      "source": [
        "# vamos reajustar o salário em 20% dos funcionários que recebem menos de 3000\n",
        "dfCopia['salario'] = dfCopia['salario'].apply(lambda x: salario_reajuste(x, 0.2))\n",
        "dfCopia.query('salario < 3000')\n",
        "# veja abaixo que não existe nenhum funcionário com salario menor que 3000"
      ],
      "execution_count": 97,
      "outputs": [
        {
          "output_type": "execute_result",
          "data": {
            "text/html": [
              "<div>\n",
              "<style scoped>\n",
              "    .dataframe tbody tr th:only-of-type {\n",
              "        vertical-align: middle;\n",
              "    }\n",
              "\n",
              "    .dataframe tbody tr th {\n",
              "        vertical-align: top;\n",
              "    }\n",
              "\n",
              "    .dataframe thead th {\n",
              "        text-align: right;\n",
              "    }\n",
              "</style>\n",
              "<table border=\"1\" class=\"dataframe\">\n",
              "  <thead>\n",
              "    <tr style=\"text-align: right;\">\n",
              "      <th></th>\n",
              "      <th>nome</th>\n",
              "      <th>sexo</th>\n",
              "      <th>setor</th>\n",
              "      <th>idade</th>\n",
              "      <th>cargo</th>\n",
              "      <th>salario</th>\n",
              "    </tr>\n",
              "  </thead>\n",
              "  <tbody>\n",
              "  </tbody>\n",
              "</table>\n",
              "</div>"
            ],
            "text/plain": [
              "Empty DataFrame\n",
              "Columns: [nome, sexo, setor, idade, cargo, salario]\n",
              "Index: []"
            ]
          },
          "metadata": {
            "tags": []
          },
          "execution_count": 97
        }
      ]
    },
    {
      "cell_type": "code",
      "metadata": {
        "colab": {
          "base_uri": "https://localhost:8080/",
          "height": 173
        },
        "id": "wS6RPuzQnVco",
        "outputId": "29372c55-bbae-46cf-fd51-6bf359116b78"
      },
      "source": [
        "# por último, só pra reforçar conhecimento, vamos dar um bonus de 2800 para\n",
        "# cada integrante do setor comercial\n",
        "dfCopia.query(\"setor == 'comercial'\")"
      ],
      "execution_count": 98,
      "outputs": [
        {
          "output_type": "execute_result",
          "data": {
            "text/html": [
              "<div>\n",
              "<style scoped>\n",
              "    .dataframe tbody tr th:only-of-type {\n",
              "        vertical-align: middle;\n",
              "    }\n",
              "\n",
              "    .dataframe tbody tr th {\n",
              "        vertical-align: top;\n",
              "    }\n",
              "\n",
              "    .dataframe thead th {\n",
              "        text-align: right;\n",
              "    }\n",
              "</style>\n",
              "<table border=\"1\" class=\"dataframe\">\n",
              "  <thead>\n",
              "    <tr style=\"text-align: right;\">\n",
              "      <th></th>\n",
              "      <th>nome</th>\n",
              "      <th>sexo</th>\n",
              "      <th>setor</th>\n",
              "      <th>idade</th>\n",
              "      <th>cargo</th>\n",
              "      <th>salario</th>\n",
              "    </tr>\n",
              "  </thead>\n",
              "  <tbody>\n",
              "    <tr>\n",
              "      <th>7</th>\n",
              "      <td>MARCOS</td>\n",
              "      <td>M</td>\n",
              "      <td>comercial</td>\n",
              "      <td>49</td>\n",
              "      <td>EXECUTIVO DE CONTAS</td>\n",
              "      <td>3000.0</td>\n",
              "    </tr>\n",
              "    <tr>\n",
              "      <th>8</th>\n",
              "      <td>CARLA</td>\n",
              "      <td>F</td>\n",
              "      <td>comercial</td>\n",
              "      <td>22</td>\n",
              "      <td>GERENTE</td>\n",
              "      <td>7000.0</td>\n",
              "    </tr>\n",
              "    <tr>\n",
              "      <th>9</th>\n",
              "      <td>DANIELA</td>\n",
              "      <td>F</td>\n",
              "      <td>comercial</td>\n",
              "      <td>50</td>\n",
              "      <td>EXECUTIVO DE CONTAS</td>\n",
              "      <td>3000.0</td>\n",
              "    </tr>\n",
              "    <tr>\n",
              "      <th>10</th>\n",
              "      <td>EDUARDO</td>\n",
              "      <td>M</td>\n",
              "      <td>comercial</td>\n",
              "      <td>34</td>\n",
              "      <td>EXECUTIVO DE CONTAS</td>\n",
              "      <td>3000.0</td>\n",
              "    </tr>\n",
              "  </tbody>\n",
              "</table>\n",
              "</div>"
            ],
            "text/plain": [
              "       nome sexo      setor  idade                cargo  salario\n",
              "7    MARCOS    M  comercial     49  EXECUTIVO DE CONTAS   3000.0\n",
              "8     CARLA    F  comercial     22             GERENTE    7000.0\n",
              "9   DANIELA    F  comercial     50  EXECUTIVO DE CONTAS   3000.0\n",
              "10  EDUARDO    M  comercial     34  EXECUTIVO DE CONTAS   3000.0"
            ]
          },
          "metadata": {
            "tags": []
          },
          "execution_count": 98
        }
      ]
    },
    {
      "cell_type": "code",
      "metadata": {
        "id": "Z6nNnf0skJ0X"
      },
      "source": [
        "# vamos utilizar o dataframe copia inteiro\n",
        "# vamos atribuir o valor no campo salario\n",
        "# e vamos colocar a condicional IF na função lambda\n",
        "dfCopia['salario'] = dfCopia.apply(lambda x: x['salario']+2800 if x['setor']==\"comercial\" else x['salario'], axis=1)"
      ],
      "execution_count": 99,
      "outputs": []
    },
    {
      "cell_type": "code",
      "metadata": {
        "colab": {
          "base_uri": "https://localhost:8080/",
          "height": 173
        },
        "id": "LMJ8HfvWg4mu",
        "outputId": "e0885a93-ec52-467b-a880-bc2e9cfc9308"
      },
      "source": [
        "dfCopia.query(\"setor == 'comercial'\")"
      ],
      "execution_count": 100,
      "outputs": [
        {
          "output_type": "execute_result",
          "data": {
            "text/html": [
              "<div>\n",
              "<style scoped>\n",
              "    .dataframe tbody tr th:only-of-type {\n",
              "        vertical-align: middle;\n",
              "    }\n",
              "\n",
              "    .dataframe tbody tr th {\n",
              "        vertical-align: top;\n",
              "    }\n",
              "\n",
              "    .dataframe thead th {\n",
              "        text-align: right;\n",
              "    }\n",
              "</style>\n",
              "<table border=\"1\" class=\"dataframe\">\n",
              "  <thead>\n",
              "    <tr style=\"text-align: right;\">\n",
              "      <th></th>\n",
              "      <th>nome</th>\n",
              "      <th>sexo</th>\n",
              "      <th>setor</th>\n",
              "      <th>idade</th>\n",
              "      <th>cargo</th>\n",
              "      <th>salario</th>\n",
              "    </tr>\n",
              "  </thead>\n",
              "  <tbody>\n",
              "    <tr>\n",
              "      <th>7</th>\n",
              "      <td>MARCOS</td>\n",
              "      <td>M</td>\n",
              "      <td>comercial</td>\n",
              "      <td>49</td>\n",
              "      <td>EXECUTIVO DE CONTAS</td>\n",
              "      <td>5800.0</td>\n",
              "    </tr>\n",
              "    <tr>\n",
              "      <th>8</th>\n",
              "      <td>CARLA</td>\n",
              "      <td>F</td>\n",
              "      <td>comercial</td>\n",
              "      <td>22</td>\n",
              "      <td>GERENTE</td>\n",
              "      <td>9800.0</td>\n",
              "    </tr>\n",
              "    <tr>\n",
              "      <th>9</th>\n",
              "      <td>DANIELA</td>\n",
              "      <td>F</td>\n",
              "      <td>comercial</td>\n",
              "      <td>50</td>\n",
              "      <td>EXECUTIVO DE CONTAS</td>\n",
              "      <td>5800.0</td>\n",
              "    </tr>\n",
              "    <tr>\n",
              "      <th>10</th>\n",
              "      <td>EDUARDO</td>\n",
              "      <td>M</td>\n",
              "      <td>comercial</td>\n",
              "      <td>34</td>\n",
              "      <td>EXECUTIVO DE CONTAS</td>\n",
              "      <td>5800.0</td>\n",
              "    </tr>\n",
              "  </tbody>\n",
              "</table>\n",
              "</div>"
            ],
            "text/plain": [
              "       nome sexo      setor  idade                cargo  salario\n",
              "7    MARCOS    M  comercial     49  EXECUTIVO DE CONTAS   5800.0\n",
              "8     CARLA    F  comercial     22             GERENTE    9800.0\n",
              "9   DANIELA    F  comercial     50  EXECUTIVO DE CONTAS   5800.0\n",
              "10  EDUARDO    M  comercial     34  EXECUTIVO DE CONTAS   5800.0"
            ]
          },
          "metadata": {
            "tags": []
          },
          "execution_count": 100
        }
      ]
    }
  ]
}