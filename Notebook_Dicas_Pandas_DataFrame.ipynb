{
  "nbformat": 4,
  "nbformat_minor": 0,
  "metadata": {
    "colab": {
      "name": "Notebook - Dicas  - Pandas DataFrame",
      "provenance": [],
      "collapsed_sections": [],
      "toc_visible": true,
      "authorship_tag": "ABX9TyPsOAEauonIMXWHVEGGa8Ej",
      "include_colab_link": true
    },
    "kernelspec": {
      "name": "python3",
      "display_name": "Python 3"
    },
    "language_info": {
      "name": "python"
    }
  },
  "cells": [
    {
      "cell_type": "markdown",
      "metadata": {
        "id": "view-in-github",
        "colab_type": "text"
      },
      "source": [
        "<a href=\"https://colab.research.google.com/github/italomarcelogit/python-dicas-pandas/blob/main/Notebook_Dicas_Pandas_DataFrame.ipynb\" target=\"_parent\"><img src=\"https://colab.research.google.com/assets/colab-badge.svg\" alt=\"Open In Colab\"/></a>"
      ]
    },
    {
      "cell_type": "markdown",
      "metadata": {
        "id": "IHGKyjkC6LGF"
      },
      "source": [
        "# **Comandos e dicas de Pandas para manipular dataframes em python**\n",
        "DataFrame é uma estrutura parecida com uma matriz, sendo que suas colunas ou linhas podem receber seus nomes e conter dados com tipos diferentes.\n",
        "Fazendo uma analogia bem simples, imagine uma planilha onde cada linha equivale a um registro e cada coluna, seus atributos. Mas acredite, um DataFrame pode ser muito mais do que somente um ***Tidy Data*** ou matriz de dados.\n",
        "\n",
        "O objetivo deste notebook é somente compartilhar com vocês, comandos muito úteis e populares no dia a dia de uma analista de dados.\n",
        "\n",
        "Aqui você encontrará tudo sobre o Pandas http://pandas.pydata.org**, não somente sobre DataFrame mas Series e outros ricos recursos que o Pandas pode nos proporcionar."
      ]
    },
    {
      "cell_type": "markdown",
      "metadata": {
        "id": "4-fpRXVZAHox"
      },
      "source": [
        "# **Importar o pandas**\n",
        "\n",
        "Para utilizar o pandas no python, primeiramente temos que importar a biblioteca no python"
      ]
    },
    {
      "cell_type": "code",
      "metadata": {
        "id": "aUVT0SAA53n0"
      },
      "source": [
        "# importando a lib do Pandas\n",
        "import pandas as pd"
      ],
      "execution_count": 1,
      "outputs": []
    },
    {
      "cell_type": "markdown",
      "metadata": {
        "id": "oLOxplBX698P"
      },
      "source": [
        "# **Criar um dataframe**\n",
        "\n",
        "Podemos criar um dataframe de várias maneiras, de acordo com a necessidade e criativade do desenvolvedor. De forma simples, vamos construí-lo manualmente conforme os exemplos abaixo:"
      ]
    },
    {
      "cell_type": "markdown",
      "metadata": {
        "id": "ZJRIsVuoJVAt"
      },
      "source": [
        "## .DataFrame()"
      ]
    },
    {
      "cell_type": "markdown",
      "metadata": {
        "id": "f9hvZq0mSzYG"
      },
      "source": [
        "**Manualmente**"
      ]
    },
    {
      "cell_type": "code",
      "metadata": {
        "colab": {
          "base_uri": "https://localhost:8080/",
          "height": 204
        },
        "id": "l2Oge4ey7-hb",
        "outputId": "4572044b-9eb6-42e5-daf2-65700170efb9"
      },
      "source": [
        "# diretamente\n",
        "df = pd.DataFrame(\n",
        "    {\n",
        "     \"Coluna 1\": [1, 2, 3, 4, 5], \n",
        "     \"Coluna 2\": ['A', 'B', 'C','D', 'E']\n",
        "    }\n",
        ")\n",
        "df"
      ],
      "execution_count": 2,
      "outputs": [
        {
          "output_type": "execute_result",
          "data": {
            "text/html": [
              "<div>\n",
              "<style scoped>\n",
              "    .dataframe tbody tr th:only-of-type {\n",
              "        vertical-align: middle;\n",
              "    }\n",
              "\n",
              "    .dataframe tbody tr th {\n",
              "        vertical-align: top;\n",
              "    }\n",
              "\n",
              "    .dataframe thead th {\n",
              "        text-align: right;\n",
              "    }\n",
              "</style>\n",
              "<table border=\"1\" class=\"dataframe\">\n",
              "  <thead>\n",
              "    <tr style=\"text-align: right;\">\n",
              "      <th></th>\n",
              "      <th>Coluna 1</th>\n",
              "      <th>Coluna 2</th>\n",
              "    </tr>\n",
              "  </thead>\n",
              "  <tbody>\n",
              "    <tr>\n",
              "      <th>0</th>\n",
              "      <td>1</td>\n",
              "      <td>A</td>\n",
              "    </tr>\n",
              "    <tr>\n",
              "      <th>1</th>\n",
              "      <td>2</td>\n",
              "      <td>B</td>\n",
              "    </tr>\n",
              "    <tr>\n",
              "      <th>2</th>\n",
              "      <td>3</td>\n",
              "      <td>C</td>\n",
              "    </tr>\n",
              "    <tr>\n",
              "      <th>3</th>\n",
              "      <td>4</td>\n",
              "      <td>D</td>\n",
              "    </tr>\n",
              "    <tr>\n",
              "      <th>4</th>\n",
              "      <td>5</td>\n",
              "      <td>E</td>\n",
              "    </tr>\n",
              "  </tbody>\n",
              "</table>\n",
              "</div>"
            ],
            "text/plain": [
              "   Coluna 1 Coluna 2\n",
              "0         1        A\n",
              "1         2        B\n",
              "2         3        C\n",
              "3         4        D\n",
              "4         5        E"
            ]
          },
          "metadata": {
            "tags": []
          },
          "execution_count": 2
        }
      ]
    },
    {
      "cell_type": "code",
      "metadata": {
        "colab": {
          "base_uri": "https://localhost:8080/",
          "height": 204
        },
        "id": "LVH5geY18FND",
        "outputId": "36c3a328-adec-4b7d-d470-1f7e821f703a"
      },
      "source": [
        "# primeiro foi criado um dicionario\n",
        "# depois na criação do dataframe, foi passado o dicionário como parâmetro\n",
        "dicionario = {\n",
        "     \"Coluna 1\": [1, 2, 3, 4, 5], \n",
        "     \"Coluna 2\": ['A', 'B', 'C','D', 'E']   \n",
        "}\n",
        "df = pd.DataFrame(dicionario)\n",
        "df"
      ],
      "execution_count": 3,
      "outputs": [
        {
          "output_type": "execute_result",
          "data": {
            "text/html": [
              "<div>\n",
              "<style scoped>\n",
              "    .dataframe tbody tr th:only-of-type {\n",
              "        vertical-align: middle;\n",
              "    }\n",
              "\n",
              "    .dataframe tbody tr th {\n",
              "        vertical-align: top;\n",
              "    }\n",
              "\n",
              "    .dataframe thead th {\n",
              "        text-align: right;\n",
              "    }\n",
              "</style>\n",
              "<table border=\"1\" class=\"dataframe\">\n",
              "  <thead>\n",
              "    <tr style=\"text-align: right;\">\n",
              "      <th></th>\n",
              "      <th>Coluna 1</th>\n",
              "      <th>Coluna 2</th>\n",
              "    </tr>\n",
              "  </thead>\n",
              "  <tbody>\n",
              "    <tr>\n",
              "      <th>0</th>\n",
              "      <td>1</td>\n",
              "      <td>A</td>\n",
              "    </tr>\n",
              "    <tr>\n",
              "      <th>1</th>\n",
              "      <td>2</td>\n",
              "      <td>B</td>\n",
              "    </tr>\n",
              "    <tr>\n",
              "      <th>2</th>\n",
              "      <td>3</td>\n",
              "      <td>C</td>\n",
              "    </tr>\n",
              "    <tr>\n",
              "      <th>3</th>\n",
              "      <td>4</td>\n",
              "      <td>D</td>\n",
              "    </tr>\n",
              "    <tr>\n",
              "      <th>4</th>\n",
              "      <td>5</td>\n",
              "      <td>E</td>\n",
              "    </tr>\n",
              "  </tbody>\n",
              "</table>\n",
              "</div>"
            ],
            "text/plain": [
              "   Coluna 1 Coluna 2\n",
              "0         1        A\n",
              "1         2        B\n",
              "2         3        C\n",
              "3         4        D\n",
              "4         5        E"
            ]
          },
          "metadata": {
            "tags": []
          },
          "execution_count": 3
        }
      ]
    },
    {
      "cell_type": "code",
      "metadata": {
        "colab": {
          "base_uri": "https://localhost:8080/",
          "height": 204
        },
        "id": "ITvcYZbw8_GC",
        "outputId": "d6b57b34-650b-4319-8f51-964080efe46f"
      },
      "source": [
        "# e uma outra maneira é criar o dataframe vazio\n",
        "# e ir adicionando colunas e seus valores\n",
        "df = pd.DataFrame()\n",
        "df['Coluna 1'] = range(1, 6) # array de 1 a 5\n",
        "df['Coluna 2'] = list('ABCDE') # array de A a E\n",
        "df"
      ],
      "execution_count": 4,
      "outputs": [
        {
          "output_type": "execute_result",
          "data": {
            "text/html": [
              "<div>\n",
              "<style scoped>\n",
              "    .dataframe tbody tr th:only-of-type {\n",
              "        vertical-align: middle;\n",
              "    }\n",
              "\n",
              "    .dataframe tbody tr th {\n",
              "        vertical-align: top;\n",
              "    }\n",
              "\n",
              "    .dataframe thead th {\n",
              "        text-align: right;\n",
              "    }\n",
              "</style>\n",
              "<table border=\"1\" class=\"dataframe\">\n",
              "  <thead>\n",
              "    <tr style=\"text-align: right;\">\n",
              "      <th></th>\n",
              "      <th>Coluna 1</th>\n",
              "      <th>Coluna 2</th>\n",
              "    </tr>\n",
              "  </thead>\n",
              "  <tbody>\n",
              "    <tr>\n",
              "      <th>0</th>\n",
              "      <td>1</td>\n",
              "      <td>A</td>\n",
              "    </tr>\n",
              "    <tr>\n",
              "      <th>1</th>\n",
              "      <td>2</td>\n",
              "      <td>B</td>\n",
              "    </tr>\n",
              "    <tr>\n",
              "      <th>2</th>\n",
              "      <td>3</td>\n",
              "      <td>C</td>\n",
              "    </tr>\n",
              "    <tr>\n",
              "      <th>3</th>\n",
              "      <td>4</td>\n",
              "      <td>D</td>\n",
              "    </tr>\n",
              "    <tr>\n",
              "      <th>4</th>\n",
              "      <td>5</td>\n",
              "      <td>E</td>\n",
              "    </tr>\n",
              "  </tbody>\n",
              "</table>\n",
              "</div>"
            ],
            "text/plain": [
              "   Coluna 1 Coluna 2\n",
              "0         1        A\n",
              "1         2        B\n",
              "2         3        C\n",
              "3         4        D\n",
              "4         5        E"
            ]
          },
          "metadata": {
            "tags": []
          },
          "execution_count": 4
        }
      ]
    },
    {
      "cell_type": "markdown",
      "metadata": {
        "id": "hiGXfQdITARy"
      },
      "source": [
        "**Inserir uma nova linha no dataframe**"
      ]
    },
    {
      "cell_type": "code",
      "metadata": {
        "colab": {
          "base_uri": "https://localhost:8080/",
          "height": 235
        },
        "id": "WcBivgEFS-ew",
        "outputId": "3c94cef1-a9e5-47c0-a702-4be8e887891e"
      },
      "source": [
        "df = df.append({'Coluna 1': 6, 'Coluna 2': \"f\"}, ignore_index=True)\n",
        "df"
      ],
      "execution_count": 5,
      "outputs": [
        {
          "output_type": "execute_result",
          "data": {
            "text/html": [
              "<div>\n",
              "<style scoped>\n",
              "    .dataframe tbody tr th:only-of-type {\n",
              "        vertical-align: middle;\n",
              "    }\n",
              "\n",
              "    .dataframe tbody tr th {\n",
              "        vertical-align: top;\n",
              "    }\n",
              "\n",
              "    .dataframe thead th {\n",
              "        text-align: right;\n",
              "    }\n",
              "</style>\n",
              "<table border=\"1\" class=\"dataframe\">\n",
              "  <thead>\n",
              "    <tr style=\"text-align: right;\">\n",
              "      <th></th>\n",
              "      <th>Coluna 1</th>\n",
              "      <th>Coluna 2</th>\n",
              "    </tr>\n",
              "  </thead>\n",
              "  <tbody>\n",
              "    <tr>\n",
              "      <th>0</th>\n",
              "      <td>1</td>\n",
              "      <td>A</td>\n",
              "    </tr>\n",
              "    <tr>\n",
              "      <th>1</th>\n",
              "      <td>2</td>\n",
              "      <td>B</td>\n",
              "    </tr>\n",
              "    <tr>\n",
              "      <th>2</th>\n",
              "      <td>3</td>\n",
              "      <td>C</td>\n",
              "    </tr>\n",
              "    <tr>\n",
              "      <th>3</th>\n",
              "      <td>4</td>\n",
              "      <td>D</td>\n",
              "    </tr>\n",
              "    <tr>\n",
              "      <th>4</th>\n",
              "      <td>5</td>\n",
              "      <td>E</td>\n",
              "    </tr>\n",
              "    <tr>\n",
              "      <th>5</th>\n",
              "      <td>6</td>\n",
              "      <td>f</td>\n",
              "    </tr>\n",
              "  </tbody>\n",
              "</table>\n",
              "</div>"
            ],
            "text/plain": [
              "   Coluna 1 Coluna 2\n",
              "0         1        A\n",
              "1         2        B\n",
              "2         3        C\n",
              "3         4        D\n",
              "4         5        E\n",
              "5         6        f"
            ]
          },
          "metadata": {
            "tags": []
          },
          "execution_count": 5
        }
      ]
    },
    {
      "cell_type": "markdown",
      "metadata": {
        "id": "EWp2idTiUPbI"
      },
      "source": [
        "**Alterar uma linha**"
      ]
    },
    {
      "cell_type": "code",
      "metadata": {
        "colab": {
          "base_uri": "https://localhost:8080/",
          "height": 235
        },
        "id": "UTxCvlUHUOgg",
        "outputId": "d753939d-c9cf-4a87-81e6-d5915b1f6c0a"
      },
      "source": [
        "# vamos alterar o valor da linha 5 e Coluna 2, de f para F\n",
        "df.loc[5, 'Coluna 2'] = 'F'\n",
        "df"
      ],
      "execution_count": 6,
      "outputs": [
        {
          "output_type": "execute_result",
          "data": {
            "text/html": [
              "<div>\n",
              "<style scoped>\n",
              "    .dataframe tbody tr th:only-of-type {\n",
              "        vertical-align: middle;\n",
              "    }\n",
              "\n",
              "    .dataframe tbody tr th {\n",
              "        vertical-align: top;\n",
              "    }\n",
              "\n",
              "    .dataframe thead th {\n",
              "        text-align: right;\n",
              "    }\n",
              "</style>\n",
              "<table border=\"1\" class=\"dataframe\">\n",
              "  <thead>\n",
              "    <tr style=\"text-align: right;\">\n",
              "      <th></th>\n",
              "      <th>Coluna 1</th>\n",
              "      <th>Coluna 2</th>\n",
              "    </tr>\n",
              "  </thead>\n",
              "  <tbody>\n",
              "    <tr>\n",
              "      <th>0</th>\n",
              "      <td>1</td>\n",
              "      <td>A</td>\n",
              "    </tr>\n",
              "    <tr>\n",
              "      <th>1</th>\n",
              "      <td>2</td>\n",
              "      <td>B</td>\n",
              "    </tr>\n",
              "    <tr>\n",
              "      <th>2</th>\n",
              "      <td>3</td>\n",
              "      <td>C</td>\n",
              "    </tr>\n",
              "    <tr>\n",
              "      <th>3</th>\n",
              "      <td>4</td>\n",
              "      <td>D</td>\n",
              "    </tr>\n",
              "    <tr>\n",
              "      <th>4</th>\n",
              "      <td>5</td>\n",
              "      <td>E</td>\n",
              "    </tr>\n",
              "    <tr>\n",
              "      <th>5</th>\n",
              "      <td>6</td>\n",
              "      <td>F</td>\n",
              "    </tr>\n",
              "  </tbody>\n",
              "</table>\n",
              "</div>"
            ],
            "text/plain": [
              "   Coluna 1 Coluna 2\n",
              "0         1        A\n",
              "1         2        B\n",
              "2         3        C\n",
              "3         4        D\n",
              "4         5        E\n",
              "5         6        F"
            ]
          },
          "metadata": {
            "tags": []
          },
          "execution_count": 6
        }
      ]
    },
    {
      "cell_type": "markdown",
      "metadata": {
        "id": "flrH6uTNXXoW"
      },
      "source": [
        "**Excluir linha ou coluna**"
      ]
    },
    {
      "cell_type": "code",
      "metadata": {
        "colab": {
          "base_uri": "https://localhost:8080/",
          "height": 235
        },
        "id": "KMHGr1f2UwuT",
        "outputId": "76d3f9b2-188c-4e22-a073-8de2b7a7a4e0"
      },
      "source": [
        "# exibindo o dataframe\n",
        "df "
      ],
      "execution_count": 7,
      "outputs": [
        {
          "output_type": "execute_result",
          "data": {
            "text/html": [
              "<div>\n",
              "<style scoped>\n",
              "    .dataframe tbody tr th:only-of-type {\n",
              "        vertical-align: middle;\n",
              "    }\n",
              "\n",
              "    .dataframe tbody tr th {\n",
              "        vertical-align: top;\n",
              "    }\n",
              "\n",
              "    .dataframe thead th {\n",
              "        text-align: right;\n",
              "    }\n",
              "</style>\n",
              "<table border=\"1\" class=\"dataframe\">\n",
              "  <thead>\n",
              "    <tr style=\"text-align: right;\">\n",
              "      <th></th>\n",
              "      <th>Coluna 1</th>\n",
              "      <th>Coluna 2</th>\n",
              "    </tr>\n",
              "  </thead>\n",
              "  <tbody>\n",
              "    <tr>\n",
              "      <th>0</th>\n",
              "      <td>1</td>\n",
              "      <td>A</td>\n",
              "    </tr>\n",
              "    <tr>\n",
              "      <th>1</th>\n",
              "      <td>2</td>\n",
              "      <td>B</td>\n",
              "    </tr>\n",
              "    <tr>\n",
              "      <th>2</th>\n",
              "      <td>3</td>\n",
              "      <td>C</td>\n",
              "    </tr>\n",
              "    <tr>\n",
              "      <th>3</th>\n",
              "      <td>4</td>\n",
              "      <td>D</td>\n",
              "    </tr>\n",
              "    <tr>\n",
              "      <th>4</th>\n",
              "      <td>5</td>\n",
              "      <td>E</td>\n",
              "    </tr>\n",
              "    <tr>\n",
              "      <th>5</th>\n",
              "      <td>6</td>\n",
              "      <td>F</td>\n",
              "    </tr>\n",
              "  </tbody>\n",
              "</table>\n",
              "</div>"
            ],
            "text/plain": [
              "   Coluna 1 Coluna 2\n",
              "0         1        A\n",
              "1         2        B\n",
              "2         3        C\n",
              "3         4        D\n",
              "4         5        E\n",
              "5         6        F"
            ]
          },
          "metadata": {
            "tags": []
          },
          "execution_count": 7
        }
      ]
    },
    {
      "cell_type": "code",
      "metadata": {
        "colab": {
          "base_uri": "https://localhost:8080/",
          "height": 204
        },
        "id": "fOdEzmlgXfvt",
        "outputId": "4c610ac4-00bf-4a44-e4e8-3796fd43d249"
      },
      "source": [
        "# excluir a linha com índice 4 [5, E]\n",
        "df = df.drop(df.index[4])\n",
        "df"
      ],
      "execution_count": 8,
      "outputs": [
        {
          "output_type": "execute_result",
          "data": {
            "text/html": [
              "<div>\n",
              "<style scoped>\n",
              "    .dataframe tbody tr th:only-of-type {\n",
              "        vertical-align: middle;\n",
              "    }\n",
              "\n",
              "    .dataframe tbody tr th {\n",
              "        vertical-align: top;\n",
              "    }\n",
              "\n",
              "    .dataframe thead th {\n",
              "        text-align: right;\n",
              "    }\n",
              "</style>\n",
              "<table border=\"1\" class=\"dataframe\">\n",
              "  <thead>\n",
              "    <tr style=\"text-align: right;\">\n",
              "      <th></th>\n",
              "      <th>Coluna 1</th>\n",
              "      <th>Coluna 2</th>\n",
              "    </tr>\n",
              "  </thead>\n",
              "  <tbody>\n",
              "    <tr>\n",
              "      <th>0</th>\n",
              "      <td>1</td>\n",
              "      <td>A</td>\n",
              "    </tr>\n",
              "    <tr>\n",
              "      <th>1</th>\n",
              "      <td>2</td>\n",
              "      <td>B</td>\n",
              "    </tr>\n",
              "    <tr>\n",
              "      <th>2</th>\n",
              "      <td>3</td>\n",
              "      <td>C</td>\n",
              "    </tr>\n",
              "    <tr>\n",
              "      <th>3</th>\n",
              "      <td>4</td>\n",
              "      <td>D</td>\n",
              "    </tr>\n",
              "    <tr>\n",
              "      <th>5</th>\n",
              "      <td>6</td>\n",
              "      <td>F</td>\n",
              "    </tr>\n",
              "  </tbody>\n",
              "</table>\n",
              "</div>"
            ],
            "text/plain": [
              "   Coluna 1 Coluna 2\n",
              "0         1        A\n",
              "1         2        B\n",
              "2         3        C\n",
              "3         4        D\n",
              "5         6        F"
            ]
          },
          "metadata": {
            "tags": []
          },
          "execution_count": 8
        }
      ]
    },
    {
      "cell_type": "code",
      "metadata": {
        "colab": {
          "base_uri": "https://localhost:8080/",
          "height": 204
        },
        "id": "qB-D0iwOYF0q",
        "outputId": "682e323c-05d1-4f2f-f8f3-b59252345f97"
      },
      "source": [
        "# excluir coluna\n",
        "df = df.drop(columns=\"Coluna 2\")\n",
        "df"
      ],
      "execution_count": 9,
      "outputs": [
        {
          "output_type": "execute_result",
          "data": {
            "text/html": [
              "<div>\n",
              "<style scoped>\n",
              "    .dataframe tbody tr th:only-of-type {\n",
              "        vertical-align: middle;\n",
              "    }\n",
              "\n",
              "    .dataframe tbody tr th {\n",
              "        vertical-align: top;\n",
              "    }\n",
              "\n",
              "    .dataframe thead th {\n",
              "        text-align: right;\n",
              "    }\n",
              "</style>\n",
              "<table border=\"1\" class=\"dataframe\">\n",
              "  <thead>\n",
              "    <tr style=\"text-align: right;\">\n",
              "      <th></th>\n",
              "      <th>Coluna 1</th>\n",
              "    </tr>\n",
              "  </thead>\n",
              "  <tbody>\n",
              "    <tr>\n",
              "      <th>0</th>\n",
              "      <td>1</td>\n",
              "    </tr>\n",
              "    <tr>\n",
              "      <th>1</th>\n",
              "      <td>2</td>\n",
              "    </tr>\n",
              "    <tr>\n",
              "      <th>2</th>\n",
              "      <td>3</td>\n",
              "    </tr>\n",
              "    <tr>\n",
              "      <th>3</th>\n",
              "      <td>4</td>\n",
              "    </tr>\n",
              "    <tr>\n",
              "      <th>5</th>\n",
              "      <td>6</td>\n",
              "    </tr>\n",
              "  </tbody>\n",
              "</table>\n",
              "</div>"
            ],
            "text/plain": [
              "   Coluna 1\n",
              "0         1\n",
              "1         2\n",
              "2         3\n",
              "3         4\n",
              "5         6"
            ]
          },
          "metadata": {
            "tags": []
          },
          "execution_count": 9
        }
      ]
    },
    {
      "cell_type": "markdown",
      "metadata": {
        "id": "qiEJrOQUYRw8"
      },
      "source": [
        "**Excluir definitivamente o dataframe**"
      ]
    },
    {
      "cell_type": "code",
      "metadata": {
        "id": "30dTiyRCYWwG"
      },
      "source": [
        "del(df)"
      ],
      "execution_count": 10,
      "outputs": []
    },
    {
      "cell_type": "markdown",
      "metadata": {
        "id": "uus2fzKnS3-5"
      },
      "source": [
        "## Funções de carga de dados - .read_csv() e outras\n",
        "\n",
        "Podemos também criá-lo a partir de uma fonte de dados. Existem diversas fontes podendo ser SQL Server, MongoDB, Azure Database, enfim, uma vasta lista de fonte de dados. \n",
        "\n",
        "Como exemplo, neste notebook, vou exemplificar usando cargas (load) através de uma fonte de dados de CSV utilizando a devida função.\n",
        "\n",
        "Mas veja abaixo que o pandas oferece uma lista com várias opções de carga .read_"
      ]
    },
    {
      "cell_type": "markdown",
      "metadata": {
        "id": "plZdqtp89n2L"
      },
      "source": [
        "![image.png](data:image/png;base64,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)\n",
        "\n"
      ]
    },
    {
      "cell_type": "code",
      "metadata": {
        "colab": {
          "base_uri": "https://localhost:8080/",
          "height": 824
        },
        "id": "g3RCt90Z9m4i",
        "outputId": "bd5eaa5a-be77-4288-d167-7ee268c7ba3e"
      },
      "source": [
        "arquivo = 'https://raw.githubusercontent.com/italomarcelogit/python-dicas-pandas/main/datasets/mini-dataset.csv'\n",
        "df = pd.read_csv(arquivo) # passamos por parametro somente o path do arquivo\n",
        "                          # que pode ser uma url ou um caminho local\n",
        "df"
      ],
      "execution_count": 11,
      "outputs": [
        {
          "output_type": "execute_result",
          "data": {
            "text/html": [
              "<div>\n",
              "<style scoped>\n",
              "    .dataframe tbody tr th:only-of-type {\n",
              "        vertical-align: middle;\n",
              "    }\n",
              "\n",
              "    .dataframe tbody tr th {\n",
              "        vertical-align: top;\n",
              "    }\n",
              "\n",
              "    .dataframe thead th {\n",
              "        text-align: right;\n",
              "    }\n",
              "</style>\n",
              "<table border=\"1\" class=\"dataframe\">\n",
              "  <thead>\n",
              "    <tr style=\"text-align: right;\">\n",
              "      <th></th>\n",
              "      <th>nome</th>\n",
              "      <th>sexo</th>\n",
              "      <th>setor</th>\n",
              "      <th>idade</th>\n",
              "      <th>funcao</th>\n",
              "      <th>salario</th>\n",
              "    </tr>\n",
              "  </thead>\n",
              "  <tbody>\n",
              "    <tr>\n",
              "      <th>0</th>\n",
              "      <td>ANTONIO</td>\n",
              "      <td>M</td>\n",
              "      <td>administrativo</td>\n",
              "      <td>26</td>\n",
              "      <td>Diretor</td>\n",
              "      <td>15000</td>\n",
              "    </tr>\n",
              "    <tr>\n",
              "      <th>1</th>\n",
              "      <td>GUSTAVO</td>\n",
              "      <td>M</td>\n",
              "      <td>administrativo</td>\n",
              "      <td>29</td>\n",
              "      <td>assistente</td>\n",
              "      <td>3000</td>\n",
              "    </tr>\n",
              "    <tr>\n",
              "      <th>2</th>\n",
              "      <td>NORMA</td>\n",
              "      <td>F</td>\n",
              "      <td>administrativo</td>\n",
              "      <td>49</td>\n",
              "      <td>assistente</td>\n",
              "      <td>3000</td>\n",
              "    </tr>\n",
              "    <tr>\n",
              "      <th>3</th>\n",
              "      <td>QUITERIA</td>\n",
              "      <td>F</td>\n",
              "      <td>artes</td>\n",
              "      <td>39</td>\n",
              "      <td>assistente</td>\n",
              "      <td>6000</td>\n",
              "    </tr>\n",
              "    <tr>\n",
              "      <th>4</th>\n",
              "      <td>RENATA</td>\n",
              "      <td>F</td>\n",
              "      <td>artes</td>\n",
              "      <td>39</td>\n",
              "      <td>assistente</td>\n",
              "      <td>5000</td>\n",
              "    </tr>\n",
              "    <tr>\n",
              "      <th>5</th>\n",
              "      <td>SANDRO</td>\n",
              "      <td>M</td>\n",
              "      <td>artes</td>\n",
              "      <td>48</td>\n",
              "      <td>NaN</td>\n",
              "      <td>4000</td>\n",
              "    </tr>\n",
              "    <tr>\n",
              "      <th>6</th>\n",
              "      <td>VANESSA</td>\n",
              "      <td>F</td>\n",
              "      <td>artes</td>\n",
              "      <td>29</td>\n",
              "      <td>assistente</td>\n",
              "      <td>4000</td>\n",
              "    </tr>\n",
              "    <tr>\n",
              "      <th>7</th>\n",
              "      <td>MARCOS</td>\n",
              "      <td>M</td>\n",
              "      <td>comercial</td>\n",
              "      <td>49</td>\n",
              "      <td>executivo de contas</td>\n",
              "      <td>3000</td>\n",
              "    </tr>\n",
              "    <tr>\n",
              "      <th>8</th>\n",
              "      <td>CARLA</td>\n",
              "      <td>F</td>\n",
              "      <td>comercial</td>\n",
              "      <td>22</td>\n",
              "      <td>Gerente</td>\n",
              "      <td>7000</td>\n",
              "    </tr>\n",
              "    <tr>\n",
              "      <th>9</th>\n",
              "      <td>DANIELA</td>\n",
              "      <td>F</td>\n",
              "      <td>comercial</td>\n",
              "      <td>50</td>\n",
              "      <td>executivo de contas</td>\n",
              "      <td>3000</td>\n",
              "    </tr>\n",
              "    <tr>\n",
              "      <th>10</th>\n",
              "      <td>EDUARDO</td>\n",
              "      <td>M</td>\n",
              "      <td>comercial</td>\n",
              "      <td>34</td>\n",
              "      <td>executivo de contas</td>\n",
              "      <td>3000</td>\n",
              "    </tr>\n",
              "    <tr>\n",
              "      <th>11</th>\n",
              "      <td>PETRO</td>\n",
              "      <td>M</td>\n",
              "      <td>contabilidade</td>\n",
              "      <td>18</td>\n",
              "      <td>assistente</td>\n",
              "      <td>3000</td>\n",
              "    </tr>\n",
              "    <tr>\n",
              "      <th>12</th>\n",
              "      <td>OTAVIO</td>\n",
              "      <td>M</td>\n",
              "      <td>contabilidade</td>\n",
              "      <td>47</td>\n",
              "      <td>assistente</td>\n",
              "      <td>3000</td>\n",
              "    </tr>\n",
              "    <tr>\n",
              "      <th>13</th>\n",
              "      <td>BEATRIZ</td>\n",
              "      <td>F</td>\n",
              "      <td>financeiro</td>\n",
              "      <td>33</td>\n",
              "      <td>assistente</td>\n",
              "      <td>2500</td>\n",
              "    </tr>\n",
              "    <tr>\n",
              "      <th>14</th>\n",
              "      <td>TEODORO</td>\n",
              "      <td>M</td>\n",
              "      <td>financeiro</td>\n",
              "      <td>38</td>\n",
              "      <td>assistente</td>\n",
              "      <td>2500</td>\n",
              "    </tr>\n",
              "    <tr>\n",
              "      <th>15</th>\n",
              "      <td>ZURIEL</td>\n",
              "      <td>M</td>\n",
              "      <td>financeiro</td>\n",
              "      <td>20</td>\n",
              "      <td>NaN</td>\n",
              "      <td>3000</td>\n",
              "    </tr>\n",
              "    <tr>\n",
              "      <th>16</th>\n",
              "      <td>FABIA</td>\n",
              "      <td>F</td>\n",
              "      <td>marketing</td>\n",
              "      <td>49</td>\n",
              "      <td>assistente</td>\n",
              "      <td>2500</td>\n",
              "    </tr>\n",
              "    <tr>\n",
              "      <th>17</th>\n",
              "      <td>UBALDO</td>\n",
              "      <td>M</td>\n",
              "      <td>marketing</td>\n",
              "      <td>47</td>\n",
              "      <td>assistente</td>\n",
              "      <td>2500</td>\n",
              "    </tr>\n",
              "    <tr>\n",
              "      <th>18</th>\n",
              "      <td>XAVIER</td>\n",
              "      <td>M</td>\n",
              "      <td>marketing</td>\n",
              "      <td>28</td>\n",
              "      <td>Coordenador</td>\n",
              "      <td>3500</td>\n",
              "    </tr>\n",
              "    <tr>\n",
              "      <th>19</th>\n",
              "      <td>YOLANDA</td>\n",
              "      <td>F</td>\n",
              "      <td>marketing</td>\n",
              "      <td>27</td>\n",
              "      <td>assistente</td>\n",
              "      <td>2500</td>\n",
              "    </tr>\n",
              "    <tr>\n",
              "      <th>20</th>\n",
              "      <td>HELOISA</td>\n",
              "      <td>F</td>\n",
              "      <td>tecnologia</td>\n",
              "      <td>43</td>\n",
              "      <td>Gerente</td>\n",
              "      <td>10000</td>\n",
              "    </tr>\n",
              "    <tr>\n",
              "      <th>21</th>\n",
              "      <td>ISABELLE</td>\n",
              "      <td>F</td>\n",
              "      <td>tecnologia</td>\n",
              "      <td>28</td>\n",
              "      <td>Coordenador</td>\n",
              "      <td>7500</td>\n",
              "    </tr>\n",
              "    <tr>\n",
              "      <th>22</th>\n",
              "      <td>JOANA</td>\n",
              "      <td>F</td>\n",
              "      <td>tecnologia</td>\n",
              "      <td>29</td>\n",
              "      <td>Engenheiro de Software</td>\n",
              "      <td>5000</td>\n",
              "    </tr>\n",
              "    <tr>\n",
              "      <th>23</th>\n",
              "      <td>KLAYTON</td>\n",
              "      <td>M</td>\n",
              "      <td>tecnologia</td>\n",
              "      <td>33</td>\n",
              "      <td>NaN</td>\n",
              "      <td>5000</td>\n",
              "    </tr>\n",
              "    <tr>\n",
              "      <th>24</th>\n",
              "      <td>LAURO</td>\n",
              "      <td>M</td>\n",
              "      <td>tecnologia</td>\n",
              "      <td>26</td>\n",
              "      <td>Engenheiro de Software</td>\n",
              "      <td>5000</td>\n",
              "    </tr>\n",
              "  </tbody>\n",
              "</table>\n",
              "</div>"
            ],
            "text/plain": [
              "        nome sexo           setor  idade                  funcao  salario\n",
              "0    ANTONIO    M  administrativo     26                 Diretor    15000\n",
              "1    GUSTAVO    M  administrativo     29              assistente     3000\n",
              "2      NORMA    F  administrativo     49              assistente     3000\n",
              "3   QUITERIA    F           artes     39              assistente     6000\n",
              "4     RENATA    F           artes     39              assistente     5000\n",
              "5     SANDRO    M           artes     48                     NaN     4000\n",
              "6    VANESSA    F           artes     29              assistente     4000\n",
              "7     MARCOS    M       comercial     49     executivo de contas     3000\n",
              "8      CARLA    F       comercial     22                Gerente      7000\n",
              "9    DANIELA    F       comercial     50     executivo de contas     3000\n",
              "10   EDUARDO    M       comercial     34     executivo de contas     3000\n",
              "11     PETRO    M   contabilidade     18              assistente     3000\n",
              "12    OTAVIO    M   contabilidade     47              assistente     3000\n",
              "13   BEATRIZ    F      financeiro     33              assistente     2500\n",
              "14   TEODORO    M      financeiro     38              assistente     2500\n",
              "15    ZURIEL    M      financeiro     20                     NaN     3000\n",
              "16     FABIA    F       marketing     49              assistente     2500\n",
              "17    UBALDO    M       marketing     47              assistente     2500\n",
              "18    XAVIER    M       marketing     28             Coordenador     3500\n",
              "19   YOLANDA    F       marketing     27              assistente     2500\n",
              "20   HELOISA    F      tecnologia     43                Gerente     10000\n",
              "21  ISABELLE    F      tecnologia     28             Coordenador     7500\n",
              "22     JOANA    F      tecnologia     29  Engenheiro de Software     5000\n",
              "23   KLAYTON    M      tecnologia     33                     NaN     5000\n",
              "24     LAURO    M      tecnologia     26  Engenheiro de Software     5000"
            ]
          },
          "metadata": {
            "tags": []
          },
          "execution_count": 11
        }
      ]
    },
    {
      "cell_type": "markdown",
      "metadata": {
        "id": "0LG46E5S_ovQ"
      },
      "source": [
        "# **Explorar a estrutura do DataFrame com Pandas**\n",
        "\n",
        "O nosso dataframe acima é um exemplo simples, possui poucas linhas e colunas mas imagine você analisando um log de autenticação de sua base de clientes que contém bilhões de linhas e até centenas de colunas?\n",
        "\n",
        "Então vamos olhar para o nosso simples dataframe e vamos descobrir o que podemos fazer com as funções úteis que o Pandas nos oferece para conhecermos melhor como está estruturado o nosso dado (dataframe)."
      ]
    },
    {
      "cell_type": "markdown",
      "metadata": {
        "id": "6lkKp64ZJvF2"
      },
      "source": [
        "## .shape"
      ]
    },
    {
      "cell_type": "code",
      "metadata": {
        "colab": {
          "base_uri": "https://localhost:8080/"
        },
        "id": "FmNh7Q07AbTP",
        "outputId": "496a48ea-f049-408a-fb9a-9d67dd2c21a2"
      },
      "source": [
        "# quantidade de linhas e colunas de um dataframe\n",
        "df.shape\n",
        "\n",
        "# como resultado iremos ver que nosso df tem 25 linhas e 6 colunas"
      ],
      "execution_count": 12,
      "outputs": [
        {
          "output_type": "execute_result",
          "data": {
            "text/plain": [
              "(25, 6)"
            ]
          },
          "metadata": {
            "tags": []
          },
          "execution_count": 12
        }
      ]
    },
    {
      "cell_type": "markdown",
      "metadata": {
        "id": "h02VcF9kJzmy"
      },
      "source": [
        "## .columns"
      ]
    },
    {
      "cell_type": "code",
      "metadata": {
        "colab": {
          "base_uri": "https://localhost:8080/"
        },
        "id": "AOiK3nEbAkcg",
        "outputId": "5fd52c0b-8b3b-43eb-da71-9f2ff90511af"
      },
      "source": [
        "# quais são as colunas?\n",
        "df.columns"
      ],
      "execution_count": 13,
      "outputs": [
        {
          "output_type": "execute_result",
          "data": {
            "text/plain": [
              "Index(['nome', 'sexo', 'setor', 'idade', 'funcao', 'salario'], dtype='object')"
            ]
          },
          "metadata": {
            "tags": []
          },
          "execution_count": 13
        }
      ]
    },
    {
      "cell_type": "code",
      "metadata": {
        "colab": {
          "base_uri": "https://localhost:8080/"
        },
        "id": "Gu0Xxj_YA-sj",
        "outputId": "db8574fa-580d-4a79-dabc-23790a1026e0"
      },
      "source": [
        "# ou retornando somente o vetor (array) com os nomes das colunas\n",
        "df.columns.to_list()"
      ],
      "execution_count": 14,
      "outputs": [
        {
          "output_type": "execute_result",
          "data": {
            "text/plain": [
              "['nome', 'sexo', 'setor', 'idade', 'funcao', 'salario']"
            ]
          },
          "metadata": {
            "tags": []
          },
          "execution_count": 14
        }
      ]
    },
    {
      "cell_type": "markdown",
      "metadata": {
        "id": "5-qtJ7ufJ2_g"
      },
      "source": [
        "## .info()"
      ]
    },
    {
      "cell_type": "code",
      "metadata": {
        "colab": {
          "base_uri": "https://localhost:8080/"
        },
        "id": "kysM1LJkBIR2",
        "outputId": "e21068c7-f581-44e1-92b4-fd9f61280466"
      },
      "source": [
        "# mas o que realmente fazemos é logo retornar mais informações sobre o dataframe\n",
        "# para isso, utilizamos a função info()\n",
        "df.info()\n",
        "# com ela eu sei quantas linhas, colunas e seus tipos (inteiro, datetime, object)\n",
        "#, se tem valores nulos, e outras informações"
      ],
      "execution_count": 15,
      "outputs": [
        {
          "output_type": "stream",
          "text": [
            "<class 'pandas.core.frame.DataFrame'>\n",
            "RangeIndex: 25 entries, 0 to 24\n",
            "Data columns (total 6 columns):\n",
            " #   Column   Non-Null Count  Dtype \n",
            "---  ------   --------------  ----- \n",
            " 0   nome     25 non-null     object\n",
            " 1   sexo     25 non-null     object\n",
            " 2   setor    25 non-null     object\n",
            " 3   idade    25 non-null     int64 \n",
            " 4   funcao   22 non-null     object\n",
            " 5   salario  25 non-null     int64 \n",
            "dtypes: int64(2), object(4)\n",
            "memory usage: 1.3+ KB\n"
          ],
          "name": "stdout"
        }
      ]
    },
    {
      "cell_type": "markdown",
      "metadata": {
        "id": "X3vLvHSLB7Ld"
      },
      "source": [
        "# **Explorar o dataframe através dos índices e colunas**\n",
        "\n",
        "Como disse anteriormente, na maioria das vezes, os dataframes possuem um grande volume de dados e manipular um volume grande não é interessante no momento que estamos analisando os dados contidos nele, seus tipos, seus erros, etc.\n",
        "\n",
        "Então para conhecermos um pouco sobre os dados, utilizaremos algunas funções de manipulaçao do Pandas bastante populares."
      ]
    },
    {
      "cell_type": "markdown",
      "metadata": {
        "id": "LHeagV2aGaZY"
      },
      "source": [
        "## .head()\n",
        "\n",
        "Para visualizar as primeiras linhas (rows) do dataframe, utilizamos a função **.head()** que, como padrão, retornará as primeiras 5 linhas. Mas podemos mudar isso passando o número de linhas como parâmetro."
      ]
    },
    {
      "cell_type": "code",
      "metadata": {
        "colab": {
          "base_uri": "https://localhost:8080/",
          "height": 142
        },
        "id": "9lnBLksVB6b1",
        "outputId": "70591567-ab74-4592-b0d8-e5684c555c74"
      },
      "source": [
        "df.head(3)"
      ],
      "execution_count": 16,
      "outputs": [
        {
          "output_type": "execute_result",
          "data": {
            "text/html": [
              "<div>\n",
              "<style scoped>\n",
              "    .dataframe tbody tr th:only-of-type {\n",
              "        vertical-align: middle;\n",
              "    }\n",
              "\n",
              "    .dataframe tbody tr th {\n",
              "        vertical-align: top;\n",
              "    }\n",
              "\n",
              "    .dataframe thead th {\n",
              "        text-align: right;\n",
              "    }\n",
              "</style>\n",
              "<table border=\"1\" class=\"dataframe\">\n",
              "  <thead>\n",
              "    <tr style=\"text-align: right;\">\n",
              "      <th></th>\n",
              "      <th>nome</th>\n",
              "      <th>sexo</th>\n",
              "      <th>setor</th>\n",
              "      <th>idade</th>\n",
              "      <th>funcao</th>\n",
              "      <th>salario</th>\n",
              "    </tr>\n",
              "  </thead>\n",
              "  <tbody>\n",
              "    <tr>\n",
              "      <th>0</th>\n",
              "      <td>ANTONIO</td>\n",
              "      <td>M</td>\n",
              "      <td>administrativo</td>\n",
              "      <td>26</td>\n",
              "      <td>Diretor</td>\n",
              "      <td>15000</td>\n",
              "    </tr>\n",
              "    <tr>\n",
              "      <th>1</th>\n",
              "      <td>GUSTAVO</td>\n",
              "      <td>M</td>\n",
              "      <td>administrativo</td>\n",
              "      <td>29</td>\n",
              "      <td>assistente</td>\n",
              "      <td>3000</td>\n",
              "    </tr>\n",
              "    <tr>\n",
              "      <th>2</th>\n",
              "      <td>NORMA</td>\n",
              "      <td>F</td>\n",
              "      <td>administrativo</td>\n",
              "      <td>49</td>\n",
              "      <td>assistente</td>\n",
              "      <td>3000</td>\n",
              "    </tr>\n",
              "  </tbody>\n",
              "</table>\n",
              "</div>"
            ],
            "text/plain": [
              "      nome sexo           setor  idade      funcao  salario\n",
              "0  ANTONIO    M  administrativo     26     Diretor    15000\n",
              "1  GUSTAVO    M  administrativo     29  assistente     3000\n",
              "2    NORMA    F  administrativo     49  assistente     3000"
            ]
          },
          "metadata": {
            "tags": []
          },
          "execution_count": 16
        }
      ]
    },
    {
      "cell_type": "markdown",
      "metadata": {
        "id": "HCXjDIdiHCzm"
      },
      "source": [
        "## .tail()\n",
        "\n",
        " Visualizar as últimas 5 linhas do dataframe, mas como o .head() também podemos alterar esse número de linhas passando o parâmetro desejado."
      ]
    },
    {
      "cell_type": "code",
      "metadata": {
        "colab": {
          "base_uri": "https://localhost:8080/",
          "height": 204
        },
        "id": "tAme_DKtCtGp",
        "outputId": "31cc6b9d-8ad1-4415-9ecc-721b6f2ade3a"
      },
      "source": [
        "df.tail() # neste caso, utilizamos o padrão"
      ],
      "execution_count": 17,
      "outputs": [
        {
          "output_type": "execute_result",
          "data": {
            "text/html": [
              "<div>\n",
              "<style scoped>\n",
              "    .dataframe tbody tr th:only-of-type {\n",
              "        vertical-align: middle;\n",
              "    }\n",
              "\n",
              "    .dataframe tbody tr th {\n",
              "        vertical-align: top;\n",
              "    }\n",
              "\n",
              "    .dataframe thead th {\n",
              "        text-align: right;\n",
              "    }\n",
              "</style>\n",
              "<table border=\"1\" class=\"dataframe\">\n",
              "  <thead>\n",
              "    <tr style=\"text-align: right;\">\n",
              "      <th></th>\n",
              "      <th>nome</th>\n",
              "      <th>sexo</th>\n",
              "      <th>setor</th>\n",
              "      <th>idade</th>\n",
              "      <th>funcao</th>\n",
              "      <th>salario</th>\n",
              "    </tr>\n",
              "  </thead>\n",
              "  <tbody>\n",
              "    <tr>\n",
              "      <th>20</th>\n",
              "      <td>HELOISA</td>\n",
              "      <td>F</td>\n",
              "      <td>tecnologia</td>\n",
              "      <td>43</td>\n",
              "      <td>Gerente</td>\n",
              "      <td>10000</td>\n",
              "    </tr>\n",
              "    <tr>\n",
              "      <th>21</th>\n",
              "      <td>ISABELLE</td>\n",
              "      <td>F</td>\n",
              "      <td>tecnologia</td>\n",
              "      <td>28</td>\n",
              "      <td>Coordenador</td>\n",
              "      <td>7500</td>\n",
              "    </tr>\n",
              "    <tr>\n",
              "      <th>22</th>\n",
              "      <td>JOANA</td>\n",
              "      <td>F</td>\n",
              "      <td>tecnologia</td>\n",
              "      <td>29</td>\n",
              "      <td>Engenheiro de Software</td>\n",
              "      <td>5000</td>\n",
              "    </tr>\n",
              "    <tr>\n",
              "      <th>23</th>\n",
              "      <td>KLAYTON</td>\n",
              "      <td>M</td>\n",
              "      <td>tecnologia</td>\n",
              "      <td>33</td>\n",
              "      <td>NaN</td>\n",
              "      <td>5000</td>\n",
              "    </tr>\n",
              "    <tr>\n",
              "      <th>24</th>\n",
              "      <td>LAURO</td>\n",
              "      <td>M</td>\n",
              "      <td>tecnologia</td>\n",
              "      <td>26</td>\n",
              "      <td>Engenheiro de Software</td>\n",
              "      <td>5000</td>\n",
              "    </tr>\n",
              "  </tbody>\n",
              "</table>\n",
              "</div>"
            ],
            "text/plain": [
              "        nome sexo       setor  idade                  funcao  salario\n",
              "20   HELOISA    F  tecnologia     43                Gerente     10000\n",
              "21  ISABELLE    F  tecnologia     28             Coordenador     7500\n",
              "22     JOANA    F  tecnologia     29  Engenheiro de Software     5000\n",
              "23   KLAYTON    M  tecnologia     33                     NaN     5000\n",
              "24     LAURO    M  tecnologia     26  Engenheiro de Software     5000"
            ]
          },
          "metadata": {
            "tags": []
          },
          "execution_count": 17
        }
      ]
    },
    {
      "cell_type": "markdown",
      "metadata": {
        "id": "NmaiGjM8Hii6"
      },
      "source": [
        "## .sample()\n",
        "\n",
        "Em alguns momentos queremos trazer linhas com posições aleatórias e para isso utilizaremos a função .sample(). Diferente das anteriores, o número padrão de linhas retornada é 1 mas também é possível alterar esse número."
      ]
    },
    {
      "cell_type": "code",
      "metadata": {
        "colab": {
          "base_uri": "https://localhost:8080/",
          "height": 111
        },
        "id": "BtkmV-KsDCna",
        "outputId": "35b754e3-2e89-4347-a77c-52de48810026"
      },
      "source": [
        "df.sample(2)"
      ],
      "execution_count": 18,
      "outputs": [
        {
          "output_type": "execute_result",
          "data": {
            "text/html": [
              "<div>\n",
              "<style scoped>\n",
              "    .dataframe tbody tr th:only-of-type {\n",
              "        vertical-align: middle;\n",
              "    }\n",
              "\n",
              "    .dataframe tbody tr th {\n",
              "        vertical-align: top;\n",
              "    }\n",
              "\n",
              "    .dataframe thead th {\n",
              "        text-align: right;\n",
              "    }\n",
              "</style>\n",
              "<table border=\"1\" class=\"dataframe\">\n",
              "  <thead>\n",
              "    <tr style=\"text-align: right;\">\n",
              "      <th></th>\n",
              "      <th>nome</th>\n",
              "      <th>sexo</th>\n",
              "      <th>setor</th>\n",
              "      <th>idade</th>\n",
              "      <th>funcao</th>\n",
              "      <th>salario</th>\n",
              "    </tr>\n",
              "  </thead>\n",
              "  <tbody>\n",
              "    <tr>\n",
              "      <th>14</th>\n",
              "      <td>TEODORO</td>\n",
              "      <td>M</td>\n",
              "      <td>financeiro</td>\n",
              "      <td>38</td>\n",
              "      <td>assistente</td>\n",
              "      <td>2500</td>\n",
              "    </tr>\n",
              "    <tr>\n",
              "      <th>11</th>\n",
              "      <td>PETRO</td>\n",
              "      <td>M</td>\n",
              "      <td>contabilidade</td>\n",
              "      <td>18</td>\n",
              "      <td>assistente</td>\n",
              "      <td>3000</td>\n",
              "    </tr>\n",
              "  </tbody>\n",
              "</table>\n",
              "</div>"
            ],
            "text/plain": [
              "       nome sexo          setor  idade      funcao  salario\n",
              "14  TEODORO    M     financeiro     38  assistente     2500\n",
              "11    PETRO    M  contabilidade     18  assistente     3000"
            ]
          },
          "metadata": {
            "tags": []
          },
          "execution_count": 18
        }
      ]
    },
    {
      "cell_type": "markdown",
      "metadata": {
        "id": "G_Jl8BnqDcpM"
      },
      "source": [
        "Acredito que ficou claro nos blocos acima retornados que cada linha possui a sua identificação, conhecida como índice (index). E podemos utilizá-lo para diversas situações. Darei alguns exemplos:"
      ]
    },
    {
      "cell_type": "markdown",
      "metadata": {
        "id": "pMloP9J8IFQF"
      },
      "source": [
        "## **Índices**\n",
        "\n",
        "Índices são valores que referênciam as linhas. Por exemplo, na figura abaixo as linhas possuem os índices com o valor 16 e 0"
      ]
    },
    {
      "cell_type": "markdown",
      "metadata": {
        "id": "TfqiqciFIT8Z"
      },
      "source": [
        "![image.png](data:image/png;base64,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)"
      ]
    },
    {
      "cell_type": "markdown",
      "metadata": {
        "id": "ACFHJ8ZsIVj1"
      },
      "source": [
        "Em se tratando do dataframe df, nosso índice tem um range de 0 a 25 exclusivamente."
      ]
    },
    {
      "cell_type": "markdown",
      "metadata": {
        "id": "BUMHgpQpKEu3"
      },
      "source": [
        "### .index"
      ]
    },
    {
      "cell_type": "code",
      "metadata": {
        "colab": {
          "base_uri": "https://localhost:8080/"
        },
        "id": "mis6D0BVDWg8",
        "outputId": "4e332d4a-3158-4b41-de1b-3b0dd3629c3c"
      },
      "source": [
        "# exibir o range do meu índice, inicia com o valor 0, para no 25, incrementando \n",
        "# de 1 em um\n",
        "df.index"
      ],
      "execution_count": 19,
      "outputs": [
        {
          "output_type": "execute_result",
          "data": {
            "text/plain": [
              "RangeIndex(start=0, stop=25, step=1)"
            ]
          },
          "metadata": {
            "tags": []
          },
          "execution_count": 19
        }
      ]
    },
    {
      "cell_type": "code",
      "metadata": {
        "colab": {
          "base_uri": "https://localhost:8080/"
        },
        "id": "n_9E2KpGD7QP",
        "outputId": "dc31fd32-94ce-43ff-dc11-9c30f4f2ef38"
      },
      "source": [
        "# ou eu poderia retornar um vetor com os seus valores\n",
        "df.index.values"
      ],
      "execution_count": 20,
      "outputs": [
        {
          "output_type": "execute_result",
          "data": {
            "text/plain": [
              "array([ 0,  1,  2,  3,  4,  5,  6,  7,  8,  9, 10, 11, 12, 13, 14, 15, 16,\n",
              "       17, 18, 19, 20, 21, 22, 23, 24])"
            ]
          },
          "metadata": {
            "tags": []
          },
          "execution_count": 20
        }
      ]
    },
    {
      "cell_type": "code",
      "metadata": {
        "colab": {
          "base_uri": "https://localhost:8080/",
          "height": 824
        },
        "id": "R-LmcicxEJfc",
        "outputId": "0b9bd293-ff42-4694-af27-b10dfd87022f"
      },
      "source": [
        "# mas vamos utilizá-lo para exibir linhas (rows) de nosso dataframe\n",
        "df"
      ],
      "execution_count": 21,
      "outputs": [
        {
          "output_type": "execute_result",
          "data": {
            "text/html": [
              "<div>\n",
              "<style scoped>\n",
              "    .dataframe tbody tr th:only-of-type {\n",
              "        vertical-align: middle;\n",
              "    }\n",
              "\n",
              "    .dataframe tbody tr th {\n",
              "        vertical-align: top;\n",
              "    }\n",
              "\n",
              "    .dataframe thead th {\n",
              "        text-align: right;\n",
              "    }\n",
              "</style>\n",
              "<table border=\"1\" class=\"dataframe\">\n",
              "  <thead>\n",
              "    <tr style=\"text-align: right;\">\n",
              "      <th></th>\n",
              "      <th>nome</th>\n",
              "      <th>sexo</th>\n",
              "      <th>setor</th>\n",
              "      <th>idade</th>\n",
              "      <th>funcao</th>\n",
              "      <th>salario</th>\n",
              "    </tr>\n",
              "  </thead>\n",
              "  <tbody>\n",
              "    <tr>\n",
              "      <th>0</th>\n",
              "      <td>ANTONIO</td>\n",
              "      <td>M</td>\n",
              "      <td>administrativo</td>\n",
              "      <td>26</td>\n",
              "      <td>Diretor</td>\n",
              "      <td>15000</td>\n",
              "    </tr>\n",
              "    <tr>\n",
              "      <th>1</th>\n",
              "      <td>GUSTAVO</td>\n",
              "      <td>M</td>\n",
              "      <td>administrativo</td>\n",
              "      <td>29</td>\n",
              "      <td>assistente</td>\n",
              "      <td>3000</td>\n",
              "    </tr>\n",
              "    <tr>\n",
              "      <th>2</th>\n",
              "      <td>NORMA</td>\n",
              "      <td>F</td>\n",
              "      <td>administrativo</td>\n",
              "      <td>49</td>\n",
              "      <td>assistente</td>\n",
              "      <td>3000</td>\n",
              "    </tr>\n",
              "    <tr>\n",
              "      <th>3</th>\n",
              "      <td>QUITERIA</td>\n",
              "      <td>F</td>\n",
              "      <td>artes</td>\n",
              "      <td>39</td>\n",
              "      <td>assistente</td>\n",
              "      <td>6000</td>\n",
              "    </tr>\n",
              "    <tr>\n",
              "      <th>4</th>\n",
              "      <td>RENATA</td>\n",
              "      <td>F</td>\n",
              "      <td>artes</td>\n",
              "      <td>39</td>\n",
              "      <td>assistente</td>\n",
              "      <td>5000</td>\n",
              "    </tr>\n",
              "    <tr>\n",
              "      <th>5</th>\n",
              "      <td>SANDRO</td>\n",
              "      <td>M</td>\n",
              "      <td>artes</td>\n",
              "      <td>48</td>\n",
              "      <td>NaN</td>\n",
              "      <td>4000</td>\n",
              "    </tr>\n",
              "    <tr>\n",
              "      <th>6</th>\n",
              "      <td>VANESSA</td>\n",
              "      <td>F</td>\n",
              "      <td>artes</td>\n",
              "      <td>29</td>\n",
              "      <td>assistente</td>\n",
              "      <td>4000</td>\n",
              "    </tr>\n",
              "    <tr>\n",
              "      <th>7</th>\n",
              "      <td>MARCOS</td>\n",
              "      <td>M</td>\n",
              "      <td>comercial</td>\n",
              "      <td>49</td>\n",
              "      <td>executivo de contas</td>\n",
              "      <td>3000</td>\n",
              "    </tr>\n",
              "    <tr>\n",
              "      <th>8</th>\n",
              "      <td>CARLA</td>\n",
              "      <td>F</td>\n",
              "      <td>comercial</td>\n",
              "      <td>22</td>\n",
              "      <td>Gerente</td>\n",
              "      <td>7000</td>\n",
              "    </tr>\n",
              "    <tr>\n",
              "      <th>9</th>\n",
              "      <td>DANIELA</td>\n",
              "      <td>F</td>\n",
              "      <td>comercial</td>\n",
              "      <td>50</td>\n",
              "      <td>executivo de contas</td>\n",
              "      <td>3000</td>\n",
              "    </tr>\n",
              "    <tr>\n",
              "      <th>10</th>\n",
              "      <td>EDUARDO</td>\n",
              "      <td>M</td>\n",
              "      <td>comercial</td>\n",
              "      <td>34</td>\n",
              "      <td>executivo de contas</td>\n",
              "      <td>3000</td>\n",
              "    </tr>\n",
              "    <tr>\n",
              "      <th>11</th>\n",
              "      <td>PETRO</td>\n",
              "      <td>M</td>\n",
              "      <td>contabilidade</td>\n",
              "      <td>18</td>\n",
              "      <td>assistente</td>\n",
              "      <td>3000</td>\n",
              "    </tr>\n",
              "    <tr>\n",
              "      <th>12</th>\n",
              "      <td>OTAVIO</td>\n",
              "      <td>M</td>\n",
              "      <td>contabilidade</td>\n",
              "      <td>47</td>\n",
              "      <td>assistente</td>\n",
              "      <td>3000</td>\n",
              "    </tr>\n",
              "    <tr>\n",
              "      <th>13</th>\n",
              "      <td>BEATRIZ</td>\n",
              "      <td>F</td>\n",
              "      <td>financeiro</td>\n",
              "      <td>33</td>\n",
              "      <td>assistente</td>\n",
              "      <td>2500</td>\n",
              "    </tr>\n",
              "    <tr>\n",
              "      <th>14</th>\n",
              "      <td>TEODORO</td>\n",
              "      <td>M</td>\n",
              "      <td>financeiro</td>\n",
              "      <td>38</td>\n",
              "      <td>assistente</td>\n",
              "      <td>2500</td>\n",
              "    </tr>\n",
              "    <tr>\n",
              "      <th>15</th>\n",
              "      <td>ZURIEL</td>\n",
              "      <td>M</td>\n",
              "      <td>financeiro</td>\n",
              "      <td>20</td>\n",
              "      <td>NaN</td>\n",
              "      <td>3000</td>\n",
              "    </tr>\n",
              "    <tr>\n",
              "      <th>16</th>\n",
              "      <td>FABIA</td>\n",
              "      <td>F</td>\n",
              "      <td>marketing</td>\n",
              "      <td>49</td>\n",
              "      <td>assistente</td>\n",
              "      <td>2500</td>\n",
              "    </tr>\n",
              "    <tr>\n",
              "      <th>17</th>\n",
              "      <td>UBALDO</td>\n",
              "      <td>M</td>\n",
              "      <td>marketing</td>\n",
              "      <td>47</td>\n",
              "      <td>assistente</td>\n",
              "      <td>2500</td>\n",
              "    </tr>\n",
              "    <tr>\n",
              "      <th>18</th>\n",
              "      <td>XAVIER</td>\n",
              "      <td>M</td>\n",
              "      <td>marketing</td>\n",
              "      <td>28</td>\n",
              "      <td>Coordenador</td>\n",
              "      <td>3500</td>\n",
              "    </tr>\n",
              "    <tr>\n",
              "      <th>19</th>\n",
              "      <td>YOLANDA</td>\n",
              "      <td>F</td>\n",
              "      <td>marketing</td>\n",
              "      <td>27</td>\n",
              "      <td>assistente</td>\n",
              "      <td>2500</td>\n",
              "    </tr>\n",
              "    <tr>\n",
              "      <th>20</th>\n",
              "      <td>HELOISA</td>\n",
              "      <td>F</td>\n",
              "      <td>tecnologia</td>\n",
              "      <td>43</td>\n",
              "      <td>Gerente</td>\n",
              "      <td>10000</td>\n",
              "    </tr>\n",
              "    <tr>\n",
              "      <th>21</th>\n",
              "      <td>ISABELLE</td>\n",
              "      <td>F</td>\n",
              "      <td>tecnologia</td>\n",
              "      <td>28</td>\n",
              "      <td>Coordenador</td>\n",
              "      <td>7500</td>\n",
              "    </tr>\n",
              "    <tr>\n",
              "      <th>22</th>\n",
              "      <td>JOANA</td>\n",
              "      <td>F</td>\n",
              "      <td>tecnologia</td>\n",
              "      <td>29</td>\n",
              "      <td>Engenheiro de Software</td>\n",
              "      <td>5000</td>\n",
              "    </tr>\n",
              "    <tr>\n",
              "      <th>23</th>\n",
              "      <td>KLAYTON</td>\n",
              "      <td>M</td>\n",
              "      <td>tecnologia</td>\n",
              "      <td>33</td>\n",
              "      <td>NaN</td>\n",
              "      <td>5000</td>\n",
              "    </tr>\n",
              "    <tr>\n",
              "      <th>24</th>\n",
              "      <td>LAURO</td>\n",
              "      <td>M</td>\n",
              "      <td>tecnologia</td>\n",
              "      <td>26</td>\n",
              "      <td>Engenheiro de Software</td>\n",
              "      <td>5000</td>\n",
              "    </tr>\n",
              "  </tbody>\n",
              "</table>\n",
              "</div>"
            ],
            "text/plain": [
              "        nome sexo           setor  idade                  funcao  salario\n",
              "0    ANTONIO    M  administrativo     26                 Diretor    15000\n",
              "1    GUSTAVO    M  administrativo     29              assistente     3000\n",
              "2      NORMA    F  administrativo     49              assistente     3000\n",
              "3   QUITERIA    F           artes     39              assistente     6000\n",
              "4     RENATA    F           artes     39              assistente     5000\n",
              "5     SANDRO    M           artes     48                     NaN     4000\n",
              "6    VANESSA    F           artes     29              assistente     4000\n",
              "7     MARCOS    M       comercial     49     executivo de contas     3000\n",
              "8      CARLA    F       comercial     22                Gerente      7000\n",
              "9    DANIELA    F       comercial     50     executivo de contas     3000\n",
              "10   EDUARDO    M       comercial     34     executivo de contas     3000\n",
              "11     PETRO    M   contabilidade     18              assistente     3000\n",
              "12    OTAVIO    M   contabilidade     47              assistente     3000\n",
              "13   BEATRIZ    F      financeiro     33              assistente     2500\n",
              "14   TEODORO    M      financeiro     38              assistente     2500\n",
              "15    ZURIEL    M      financeiro     20                     NaN     3000\n",
              "16     FABIA    F       marketing     49              assistente     2500\n",
              "17    UBALDO    M       marketing     47              assistente     2500\n",
              "18    XAVIER    M       marketing     28             Coordenador     3500\n",
              "19   YOLANDA    F       marketing     27              assistente     2500\n",
              "20   HELOISA    F      tecnologia     43                Gerente     10000\n",
              "21  ISABELLE    F      tecnologia     28             Coordenador     7500\n",
              "22     JOANA    F      tecnologia     29  Engenheiro de Software     5000\n",
              "23   KLAYTON    M      tecnologia     33                     NaN     5000\n",
              "24     LAURO    M      tecnologia     26  Engenheiro de Software     5000"
            ]
          },
          "metadata": {
            "tags": []
          },
          "execution_count": 21
        }
      ]
    },
    {
      "cell_type": "markdown",
      "metadata": {
        "id": "ArEEKF8NKHMD"
      },
      "source": [
        "### .iloc[]"
      ]
    },
    {
      "cell_type": "code",
      "metadata": {
        "colab": {
          "base_uri": "https://localhost:8080/",
          "height": 142
        },
        "id": "vX0uuEgAEThi",
        "outputId": "c0e0262a-c417-4f45-84fd-5a89919625a2"
      },
      "source": [
        "# retornar o bloco de registros do dataframe que vão do início 0 até a posição 2\n",
        "# utilizando a a função .iloc\n",
        "df.iloc[:3] # veja, o 3 é onde ele para mas não o exibe."
      ],
      "execution_count": 22,
      "outputs": [
        {
          "output_type": "execute_result",
          "data": {
            "text/html": [
              "<div>\n",
              "<style scoped>\n",
              "    .dataframe tbody tr th:only-of-type {\n",
              "        vertical-align: middle;\n",
              "    }\n",
              "\n",
              "    .dataframe tbody tr th {\n",
              "        vertical-align: top;\n",
              "    }\n",
              "\n",
              "    .dataframe thead th {\n",
              "        text-align: right;\n",
              "    }\n",
              "</style>\n",
              "<table border=\"1\" class=\"dataframe\">\n",
              "  <thead>\n",
              "    <tr style=\"text-align: right;\">\n",
              "      <th></th>\n",
              "      <th>nome</th>\n",
              "      <th>sexo</th>\n",
              "      <th>setor</th>\n",
              "      <th>idade</th>\n",
              "      <th>funcao</th>\n",
              "      <th>salario</th>\n",
              "    </tr>\n",
              "  </thead>\n",
              "  <tbody>\n",
              "    <tr>\n",
              "      <th>0</th>\n",
              "      <td>ANTONIO</td>\n",
              "      <td>M</td>\n",
              "      <td>administrativo</td>\n",
              "      <td>26</td>\n",
              "      <td>Diretor</td>\n",
              "      <td>15000</td>\n",
              "    </tr>\n",
              "    <tr>\n",
              "      <th>1</th>\n",
              "      <td>GUSTAVO</td>\n",
              "      <td>M</td>\n",
              "      <td>administrativo</td>\n",
              "      <td>29</td>\n",
              "      <td>assistente</td>\n",
              "      <td>3000</td>\n",
              "    </tr>\n",
              "    <tr>\n",
              "      <th>2</th>\n",
              "      <td>NORMA</td>\n",
              "      <td>F</td>\n",
              "      <td>administrativo</td>\n",
              "      <td>49</td>\n",
              "      <td>assistente</td>\n",
              "      <td>3000</td>\n",
              "    </tr>\n",
              "  </tbody>\n",
              "</table>\n",
              "</div>"
            ],
            "text/plain": [
              "      nome sexo           setor  idade      funcao  salario\n",
              "0  ANTONIO    M  administrativo     26     Diretor    15000\n",
              "1  GUSTAVO    M  administrativo     29  assistente     3000\n",
              "2    NORMA    F  administrativo     49  assistente     3000"
            ]
          },
          "metadata": {
            "tags": []
          },
          "execution_count": 22
        }
      ]
    },
    {
      "cell_type": "code",
      "metadata": {
        "colab": {
          "base_uri": "https://localhost:8080/",
          "height": 142
        },
        "id": "lLRuiulUEm0X",
        "outputId": "f7c97e6e-6014-4aa4-d54f-e4a006ba2d9b"
      },
      "source": [
        "# agora iremos retornar o bloco de registros da linha 22 em diante\n",
        "df.iloc[22:]"
      ],
      "execution_count": 23,
      "outputs": [
        {
          "output_type": "execute_result",
          "data": {
            "text/html": [
              "<div>\n",
              "<style scoped>\n",
              "    .dataframe tbody tr th:only-of-type {\n",
              "        vertical-align: middle;\n",
              "    }\n",
              "\n",
              "    .dataframe tbody tr th {\n",
              "        vertical-align: top;\n",
              "    }\n",
              "\n",
              "    .dataframe thead th {\n",
              "        text-align: right;\n",
              "    }\n",
              "</style>\n",
              "<table border=\"1\" class=\"dataframe\">\n",
              "  <thead>\n",
              "    <tr style=\"text-align: right;\">\n",
              "      <th></th>\n",
              "      <th>nome</th>\n",
              "      <th>sexo</th>\n",
              "      <th>setor</th>\n",
              "      <th>idade</th>\n",
              "      <th>funcao</th>\n",
              "      <th>salario</th>\n",
              "    </tr>\n",
              "  </thead>\n",
              "  <tbody>\n",
              "    <tr>\n",
              "      <th>22</th>\n",
              "      <td>JOANA</td>\n",
              "      <td>F</td>\n",
              "      <td>tecnologia</td>\n",
              "      <td>29</td>\n",
              "      <td>Engenheiro de Software</td>\n",
              "      <td>5000</td>\n",
              "    </tr>\n",
              "    <tr>\n",
              "      <th>23</th>\n",
              "      <td>KLAYTON</td>\n",
              "      <td>M</td>\n",
              "      <td>tecnologia</td>\n",
              "      <td>33</td>\n",
              "      <td>NaN</td>\n",
              "      <td>5000</td>\n",
              "    </tr>\n",
              "    <tr>\n",
              "      <th>24</th>\n",
              "      <td>LAURO</td>\n",
              "      <td>M</td>\n",
              "      <td>tecnologia</td>\n",
              "      <td>26</td>\n",
              "      <td>Engenheiro de Software</td>\n",
              "      <td>5000</td>\n",
              "    </tr>\n",
              "  </tbody>\n",
              "</table>\n",
              "</div>"
            ],
            "text/plain": [
              "       nome sexo       setor  idade                  funcao  salario\n",
              "22    JOANA    F  tecnologia     29  Engenheiro de Software     5000\n",
              "23  KLAYTON    M  tecnologia     33                     NaN     5000\n",
              "24    LAURO    M  tecnologia     26  Engenheiro de Software     5000"
            ]
          },
          "metadata": {
            "tags": []
          },
          "execution_count": 23
        }
      ]
    },
    {
      "cell_type": "code",
      "metadata": {
        "colab": {
          "base_uri": "https://localhost:8080/",
          "height": 204
        },
        "id": "v4XMfDilEw6m",
        "outputId": "b967643b-40e0-4618-eea1-3aca22f075c3"
      },
      "source": [
        "# ou somente os registros de 5 a 9\n",
        "df.iloc[5:10]"
      ],
      "execution_count": 24,
      "outputs": [
        {
          "output_type": "execute_result",
          "data": {
            "text/html": [
              "<div>\n",
              "<style scoped>\n",
              "    .dataframe tbody tr th:only-of-type {\n",
              "        vertical-align: middle;\n",
              "    }\n",
              "\n",
              "    .dataframe tbody tr th {\n",
              "        vertical-align: top;\n",
              "    }\n",
              "\n",
              "    .dataframe thead th {\n",
              "        text-align: right;\n",
              "    }\n",
              "</style>\n",
              "<table border=\"1\" class=\"dataframe\">\n",
              "  <thead>\n",
              "    <tr style=\"text-align: right;\">\n",
              "      <th></th>\n",
              "      <th>nome</th>\n",
              "      <th>sexo</th>\n",
              "      <th>setor</th>\n",
              "      <th>idade</th>\n",
              "      <th>funcao</th>\n",
              "      <th>salario</th>\n",
              "    </tr>\n",
              "  </thead>\n",
              "  <tbody>\n",
              "    <tr>\n",
              "      <th>5</th>\n",
              "      <td>SANDRO</td>\n",
              "      <td>M</td>\n",
              "      <td>artes</td>\n",
              "      <td>48</td>\n",
              "      <td>NaN</td>\n",
              "      <td>4000</td>\n",
              "    </tr>\n",
              "    <tr>\n",
              "      <th>6</th>\n",
              "      <td>VANESSA</td>\n",
              "      <td>F</td>\n",
              "      <td>artes</td>\n",
              "      <td>29</td>\n",
              "      <td>assistente</td>\n",
              "      <td>4000</td>\n",
              "    </tr>\n",
              "    <tr>\n",
              "      <th>7</th>\n",
              "      <td>MARCOS</td>\n",
              "      <td>M</td>\n",
              "      <td>comercial</td>\n",
              "      <td>49</td>\n",
              "      <td>executivo de contas</td>\n",
              "      <td>3000</td>\n",
              "    </tr>\n",
              "    <tr>\n",
              "      <th>8</th>\n",
              "      <td>CARLA</td>\n",
              "      <td>F</td>\n",
              "      <td>comercial</td>\n",
              "      <td>22</td>\n",
              "      <td>Gerente</td>\n",
              "      <td>7000</td>\n",
              "    </tr>\n",
              "    <tr>\n",
              "      <th>9</th>\n",
              "      <td>DANIELA</td>\n",
              "      <td>F</td>\n",
              "      <td>comercial</td>\n",
              "      <td>50</td>\n",
              "      <td>executivo de contas</td>\n",
              "      <td>3000</td>\n",
              "    </tr>\n",
              "  </tbody>\n",
              "</table>\n",
              "</div>"
            ],
            "text/plain": [
              "      nome sexo      setor  idade               funcao  salario\n",
              "5   SANDRO    M      artes     48                  NaN     4000\n",
              "6  VANESSA    F      artes     29           assistente     4000\n",
              "7   MARCOS    M  comercial     49  executivo de contas     3000\n",
              "8    CARLA    F  comercial     22             Gerente      7000\n",
              "9  DANIELA    F  comercial     50  executivo de contas     3000"
            ]
          },
          "metadata": {
            "tags": []
          },
          "execution_count": 24
        }
      ]
    },
    {
      "cell_type": "markdown",
      "metadata": {
        "id": "cNYOvYA6E51e"
      },
      "source": [
        "Assim como exibimos os valores pelas linhas, podemos também fazer a exibição pelas colunas. Vamos a alguns exemplos"
      ]
    },
    {
      "cell_type": "markdown",
      "metadata": {
        "id": "6MNYqgCHJDpy"
      },
      "source": [
        "## **Colunas**"
      ]
    },
    {
      "cell_type": "code",
      "metadata": {
        "colab": {
          "base_uri": "https://localhost:8080/"
        },
        "id": "nb_9qw-iFEBb",
        "outputId": "cb2e18f9-d5fd-46c7-e3c7-ff9b450b2647"
      },
      "source": [
        "# retornar somente a coluna nome\n",
        "df[\"nome\"]  \n",
        "# ou df.nome maaaass cuidado, é mais recomendado utilizar o primeiro formato\n",
        "# pois algumas vezes temos nome de colunas como [\"Nome Completo\"]"
      ],
      "execution_count": 25,
      "outputs": [
        {
          "output_type": "execute_result",
          "data": {
            "text/plain": [
              "0      ANTONIO\n",
              "1      GUSTAVO\n",
              "2        NORMA\n",
              "3     QUITERIA\n",
              "4       RENATA\n",
              "5       SANDRO\n",
              "6      VANESSA\n",
              "7       MARCOS\n",
              "8        CARLA\n",
              "9      DANIELA\n",
              "10     EDUARDO\n",
              "11       PETRO\n",
              "12      OTAVIO\n",
              "13     BEATRIZ\n",
              "14     TEODORO\n",
              "15      ZURIEL\n",
              "16       FABIA\n",
              "17      UBALDO\n",
              "18      XAVIER\n",
              "19     YOLANDA\n",
              "20     HELOISA\n",
              "21    ISABELLE\n",
              "22       JOANA\n",
              "23     KLAYTON\n",
              "24       LAURO\n",
              "Name: nome, dtype: object"
            ]
          },
          "metadata": {
            "tags": []
          },
          "execution_count": 25
        }
      ]
    },
    {
      "cell_type": "code",
      "metadata": {
        "colab": {
          "base_uri": "https://localhost:8080/",
          "height": 824
        },
        "id": "grJlg0vAFfjG",
        "outputId": "0586e978-45e5-4ff0-a55a-50053170a0cc"
      },
      "source": [
        "# para mais colunas, utilizamos a estrutura de vetor (array)\n",
        "colunas = [\"nome\", \"sexo\"]\n",
        "df[colunas] # ou df[[\"nome\", \"sexo\"]]"
      ],
      "execution_count": 26,
      "outputs": [
        {
          "output_type": "execute_result",
          "data": {
            "text/html": [
              "<div>\n",
              "<style scoped>\n",
              "    .dataframe tbody tr th:only-of-type {\n",
              "        vertical-align: middle;\n",
              "    }\n",
              "\n",
              "    .dataframe tbody tr th {\n",
              "        vertical-align: top;\n",
              "    }\n",
              "\n",
              "    .dataframe thead th {\n",
              "        text-align: right;\n",
              "    }\n",
              "</style>\n",
              "<table border=\"1\" class=\"dataframe\">\n",
              "  <thead>\n",
              "    <tr style=\"text-align: right;\">\n",
              "      <th></th>\n",
              "      <th>nome</th>\n",
              "      <th>sexo</th>\n",
              "    </tr>\n",
              "  </thead>\n",
              "  <tbody>\n",
              "    <tr>\n",
              "      <th>0</th>\n",
              "      <td>ANTONIO</td>\n",
              "      <td>M</td>\n",
              "    </tr>\n",
              "    <tr>\n",
              "      <th>1</th>\n",
              "      <td>GUSTAVO</td>\n",
              "      <td>M</td>\n",
              "    </tr>\n",
              "    <tr>\n",
              "      <th>2</th>\n",
              "      <td>NORMA</td>\n",
              "      <td>F</td>\n",
              "    </tr>\n",
              "    <tr>\n",
              "      <th>3</th>\n",
              "      <td>QUITERIA</td>\n",
              "      <td>F</td>\n",
              "    </tr>\n",
              "    <tr>\n",
              "      <th>4</th>\n",
              "      <td>RENATA</td>\n",
              "      <td>F</td>\n",
              "    </tr>\n",
              "    <tr>\n",
              "      <th>5</th>\n",
              "      <td>SANDRO</td>\n",
              "      <td>M</td>\n",
              "    </tr>\n",
              "    <tr>\n",
              "      <th>6</th>\n",
              "      <td>VANESSA</td>\n",
              "      <td>F</td>\n",
              "    </tr>\n",
              "    <tr>\n",
              "      <th>7</th>\n",
              "      <td>MARCOS</td>\n",
              "      <td>M</td>\n",
              "    </tr>\n",
              "    <tr>\n",
              "      <th>8</th>\n",
              "      <td>CARLA</td>\n",
              "      <td>F</td>\n",
              "    </tr>\n",
              "    <tr>\n",
              "      <th>9</th>\n",
              "      <td>DANIELA</td>\n",
              "      <td>F</td>\n",
              "    </tr>\n",
              "    <tr>\n",
              "      <th>10</th>\n",
              "      <td>EDUARDO</td>\n",
              "      <td>M</td>\n",
              "    </tr>\n",
              "    <tr>\n",
              "      <th>11</th>\n",
              "      <td>PETRO</td>\n",
              "      <td>M</td>\n",
              "    </tr>\n",
              "    <tr>\n",
              "      <th>12</th>\n",
              "      <td>OTAVIO</td>\n",
              "      <td>M</td>\n",
              "    </tr>\n",
              "    <tr>\n",
              "      <th>13</th>\n",
              "      <td>BEATRIZ</td>\n",
              "      <td>F</td>\n",
              "    </tr>\n",
              "    <tr>\n",
              "      <th>14</th>\n",
              "      <td>TEODORO</td>\n",
              "      <td>M</td>\n",
              "    </tr>\n",
              "    <tr>\n",
              "      <th>15</th>\n",
              "      <td>ZURIEL</td>\n",
              "      <td>M</td>\n",
              "    </tr>\n",
              "    <tr>\n",
              "      <th>16</th>\n",
              "      <td>FABIA</td>\n",
              "      <td>F</td>\n",
              "    </tr>\n",
              "    <tr>\n",
              "      <th>17</th>\n",
              "      <td>UBALDO</td>\n",
              "      <td>M</td>\n",
              "    </tr>\n",
              "    <tr>\n",
              "      <th>18</th>\n",
              "      <td>XAVIER</td>\n",
              "      <td>M</td>\n",
              "    </tr>\n",
              "    <tr>\n",
              "      <th>19</th>\n",
              "      <td>YOLANDA</td>\n",
              "      <td>F</td>\n",
              "    </tr>\n",
              "    <tr>\n",
              "      <th>20</th>\n",
              "      <td>HELOISA</td>\n",
              "      <td>F</td>\n",
              "    </tr>\n",
              "    <tr>\n",
              "      <th>21</th>\n",
              "      <td>ISABELLE</td>\n",
              "      <td>F</td>\n",
              "    </tr>\n",
              "    <tr>\n",
              "      <th>22</th>\n",
              "      <td>JOANA</td>\n",
              "      <td>F</td>\n",
              "    </tr>\n",
              "    <tr>\n",
              "      <th>23</th>\n",
              "      <td>KLAYTON</td>\n",
              "      <td>M</td>\n",
              "    </tr>\n",
              "    <tr>\n",
              "      <th>24</th>\n",
              "      <td>LAURO</td>\n",
              "      <td>M</td>\n",
              "    </tr>\n",
              "  </tbody>\n",
              "</table>\n",
              "</div>"
            ],
            "text/plain": [
              "        nome sexo\n",
              "0    ANTONIO    M\n",
              "1    GUSTAVO    M\n",
              "2      NORMA    F\n",
              "3   QUITERIA    F\n",
              "4     RENATA    F\n",
              "5     SANDRO    M\n",
              "6    VANESSA    F\n",
              "7     MARCOS    M\n",
              "8      CARLA    F\n",
              "9    DANIELA    F\n",
              "10   EDUARDO    M\n",
              "11     PETRO    M\n",
              "12    OTAVIO    M\n",
              "13   BEATRIZ    F\n",
              "14   TEODORO    M\n",
              "15    ZURIEL    M\n",
              "16     FABIA    F\n",
              "17    UBALDO    M\n",
              "18    XAVIER    M\n",
              "19   YOLANDA    F\n",
              "20   HELOISA    F\n",
              "21  ISABELLE    F\n",
              "22     JOANA    F\n",
              "23   KLAYTON    M\n",
              "24     LAURO    M"
            ]
          },
          "metadata": {
            "tags": []
          },
          "execution_count": 26
        }
      ]
    },
    {
      "cell_type": "markdown",
      "metadata": {
        "id": "SZgpy5biFzca"
      },
      "source": [
        "Como também já comentei, imagine um dataframe com milhões de linhas isso exigiria uma performance melhor da sua máquina ou aplicação mas como nosso dataframe é super pequeno (shape 25, 6) isso não está afetando nosso exemplo.\n",
        "\n",
        "Outra dica legal é você também utilizar o que já aprendemos anteriormente."
      ]
    },
    {
      "cell_type": "code",
      "metadata": {
        "colab": {
          "base_uri": "https://localhost:8080/",
          "height": 173
        },
        "id": "u-jDwuAgGT1R",
        "outputId": "3eee7504-dd93-4ff6-c561-db152c6d9a9d"
      },
      "source": [
        "# bloco com nome e sexo mas somente entre os registros de 5 a 9\n",
        "df.iloc[5:9][[\"nome\", \"sexo\"]]"
      ],
      "execution_count": 27,
      "outputs": [
        {
          "output_type": "execute_result",
          "data": {
            "text/html": [
              "<div>\n",
              "<style scoped>\n",
              "    .dataframe tbody tr th:only-of-type {\n",
              "        vertical-align: middle;\n",
              "    }\n",
              "\n",
              "    .dataframe tbody tr th {\n",
              "        vertical-align: top;\n",
              "    }\n",
              "\n",
              "    .dataframe thead th {\n",
              "        text-align: right;\n",
              "    }\n",
              "</style>\n",
              "<table border=\"1\" class=\"dataframe\">\n",
              "  <thead>\n",
              "    <tr style=\"text-align: right;\">\n",
              "      <th></th>\n",
              "      <th>nome</th>\n",
              "      <th>sexo</th>\n",
              "    </tr>\n",
              "  </thead>\n",
              "  <tbody>\n",
              "    <tr>\n",
              "      <th>5</th>\n",
              "      <td>SANDRO</td>\n",
              "      <td>M</td>\n",
              "    </tr>\n",
              "    <tr>\n",
              "      <th>6</th>\n",
              "      <td>VANESSA</td>\n",
              "      <td>F</td>\n",
              "    </tr>\n",
              "    <tr>\n",
              "      <th>7</th>\n",
              "      <td>MARCOS</td>\n",
              "      <td>M</td>\n",
              "    </tr>\n",
              "    <tr>\n",
              "      <th>8</th>\n",
              "      <td>CARLA</td>\n",
              "      <td>F</td>\n",
              "    </tr>\n",
              "  </tbody>\n",
              "</table>\n",
              "</div>"
            ],
            "text/plain": [
              "      nome sexo\n",
              "5   SANDRO    M\n",
              "6  VANESSA    F\n",
              "7   MARCOS    M\n",
              "8    CARLA    F"
            ]
          },
          "metadata": {
            "tags": []
          },
          "execution_count": 27
        }
      ]
    },
    {
      "cell_type": "markdown",
      "metadata": {
        "id": "Jupe-Q1xHFay"
      },
      "source": [
        "**Italo, posso fazer cópias de dataframe?**\n",
        "Sim pode e isso é muito comum pois algumas vezes preparamos nosso dataframe e a partir disso, podemos por executar várias tarefas e, como isso perder todo o nosso trabalho anterior. Então, antes disso fazemos uma cópia. Mas lembre-se, você fará CÓPIA, entendeu? Não? Sem problemas, eu também já perdi tempo por não me atentar a isso, então segue exemplos"
      ]
    },
    {
      "cell_type": "code",
      "metadata": {
        "colab": {
          "base_uri": "https://localhost:8080/",
          "height": 204
        },
        "id": "Ij1yY3RLHDwA",
        "outputId": "62b908b1-8b0e-41d2-f7d2-564aa0e5c64a"
      },
      "source": [
        "colunas = [\"nome\", \"salario\"]\n",
        "df1 = df.iloc[:5][colunas]\n",
        "df1"
      ],
      "execution_count": 28,
      "outputs": [
        {
          "output_type": "execute_result",
          "data": {
            "text/html": [
              "<div>\n",
              "<style scoped>\n",
              "    .dataframe tbody tr th:only-of-type {\n",
              "        vertical-align: middle;\n",
              "    }\n",
              "\n",
              "    .dataframe tbody tr th {\n",
              "        vertical-align: top;\n",
              "    }\n",
              "\n",
              "    .dataframe thead th {\n",
              "        text-align: right;\n",
              "    }\n",
              "</style>\n",
              "<table border=\"1\" class=\"dataframe\">\n",
              "  <thead>\n",
              "    <tr style=\"text-align: right;\">\n",
              "      <th></th>\n",
              "      <th>nome</th>\n",
              "      <th>salario</th>\n",
              "    </tr>\n",
              "  </thead>\n",
              "  <tbody>\n",
              "    <tr>\n",
              "      <th>0</th>\n",
              "      <td>ANTONIO</td>\n",
              "      <td>15000</td>\n",
              "    </tr>\n",
              "    <tr>\n",
              "      <th>1</th>\n",
              "      <td>GUSTAVO</td>\n",
              "      <td>3000</td>\n",
              "    </tr>\n",
              "    <tr>\n",
              "      <th>2</th>\n",
              "      <td>NORMA</td>\n",
              "      <td>3000</td>\n",
              "    </tr>\n",
              "    <tr>\n",
              "      <th>3</th>\n",
              "      <td>QUITERIA</td>\n",
              "      <td>6000</td>\n",
              "    </tr>\n",
              "    <tr>\n",
              "      <th>4</th>\n",
              "      <td>RENATA</td>\n",
              "      <td>5000</td>\n",
              "    </tr>\n",
              "  </tbody>\n",
              "</table>\n",
              "</div>"
            ],
            "text/plain": [
              "       nome  salario\n",
              "0   ANTONIO    15000\n",
              "1   GUSTAVO     3000\n",
              "2     NORMA     3000\n",
              "3  QUITERIA     6000\n",
              "4    RENATA     5000"
            ]
          },
          "metadata": {
            "tags": []
          },
          "execution_count": 28
        }
      ]
    },
    {
      "cell_type": "code",
      "metadata": {
        "colab": {
          "base_uri": "https://localhost:8080/",
          "height": 204
        },
        "id": "u_doSvR4H-mp",
        "outputId": "6d8ac73f-64a4-44c5-a369-cf36c63a842f"
      },
      "source": [
        "# vamos fazer de conta que nosso df1 é o dataframe original e queremos fazer uma \n",
        "# cópia dele\n",
        "df2 = df1\n",
        "df2"
      ],
      "execution_count": 29,
      "outputs": [
        {
          "output_type": "execute_result",
          "data": {
            "text/html": [
              "<div>\n",
              "<style scoped>\n",
              "    .dataframe tbody tr th:only-of-type {\n",
              "        vertical-align: middle;\n",
              "    }\n",
              "\n",
              "    .dataframe tbody tr th {\n",
              "        vertical-align: top;\n",
              "    }\n",
              "\n",
              "    .dataframe thead th {\n",
              "        text-align: right;\n",
              "    }\n",
              "</style>\n",
              "<table border=\"1\" class=\"dataframe\">\n",
              "  <thead>\n",
              "    <tr style=\"text-align: right;\">\n",
              "      <th></th>\n",
              "      <th>nome</th>\n",
              "      <th>salario</th>\n",
              "    </tr>\n",
              "  </thead>\n",
              "  <tbody>\n",
              "    <tr>\n",
              "      <th>0</th>\n",
              "      <td>ANTONIO</td>\n",
              "      <td>15000</td>\n",
              "    </tr>\n",
              "    <tr>\n",
              "      <th>1</th>\n",
              "      <td>GUSTAVO</td>\n",
              "      <td>3000</td>\n",
              "    </tr>\n",
              "    <tr>\n",
              "      <th>2</th>\n",
              "      <td>NORMA</td>\n",
              "      <td>3000</td>\n",
              "    </tr>\n",
              "    <tr>\n",
              "      <th>3</th>\n",
              "      <td>QUITERIA</td>\n",
              "      <td>6000</td>\n",
              "    </tr>\n",
              "    <tr>\n",
              "      <th>4</th>\n",
              "      <td>RENATA</td>\n",
              "      <td>5000</td>\n",
              "    </tr>\n",
              "  </tbody>\n",
              "</table>\n",
              "</div>"
            ],
            "text/plain": [
              "       nome  salario\n",
              "0   ANTONIO    15000\n",
              "1   GUSTAVO     3000\n",
              "2     NORMA     3000\n",
              "3  QUITERIA     6000\n",
              "4    RENATA     5000"
            ]
          },
          "metadata": {
            "tags": []
          },
          "execution_count": 29
        }
      ]
    },
    {
      "cell_type": "code",
      "metadata": {
        "colab": {
          "base_uri": "https://localhost:8080/",
          "height": 204
        },
        "id": "6ctkjCJgIUQ4",
        "outputId": "8ca0ab37-4fe2-487f-f3d4-97f123b7ea2f"
      },
      "source": [
        "# o df2 está igual ao df1, então vamos modificá-lo\n",
        "# vamos usar um dos primeiros exemplos para atribuir valor a uma coluna\n",
        "# então vou deixar todos os salários do df2 com o valor 1000\n",
        "df2[\"salario\"] = 1000\n",
        "df2"
      ],
      "execution_count": 30,
      "outputs": [
        {
          "output_type": "execute_result",
          "data": {
            "text/html": [
              "<div>\n",
              "<style scoped>\n",
              "    .dataframe tbody tr th:only-of-type {\n",
              "        vertical-align: middle;\n",
              "    }\n",
              "\n",
              "    .dataframe tbody tr th {\n",
              "        vertical-align: top;\n",
              "    }\n",
              "\n",
              "    .dataframe thead th {\n",
              "        text-align: right;\n",
              "    }\n",
              "</style>\n",
              "<table border=\"1\" class=\"dataframe\">\n",
              "  <thead>\n",
              "    <tr style=\"text-align: right;\">\n",
              "      <th></th>\n",
              "      <th>nome</th>\n",
              "      <th>salario</th>\n",
              "    </tr>\n",
              "  </thead>\n",
              "  <tbody>\n",
              "    <tr>\n",
              "      <th>0</th>\n",
              "      <td>ANTONIO</td>\n",
              "      <td>1000</td>\n",
              "    </tr>\n",
              "    <tr>\n",
              "      <th>1</th>\n",
              "      <td>GUSTAVO</td>\n",
              "      <td>1000</td>\n",
              "    </tr>\n",
              "    <tr>\n",
              "      <th>2</th>\n",
              "      <td>NORMA</td>\n",
              "      <td>1000</td>\n",
              "    </tr>\n",
              "    <tr>\n",
              "      <th>3</th>\n",
              "      <td>QUITERIA</td>\n",
              "      <td>1000</td>\n",
              "    </tr>\n",
              "    <tr>\n",
              "      <th>4</th>\n",
              "      <td>RENATA</td>\n",
              "      <td>1000</td>\n",
              "    </tr>\n",
              "  </tbody>\n",
              "</table>\n",
              "</div>"
            ],
            "text/plain": [
              "       nome  salario\n",
              "0   ANTONIO     1000\n",
              "1   GUSTAVO     1000\n",
              "2     NORMA     1000\n",
              "3  QUITERIA     1000\n",
              "4    RENATA     1000"
            ]
          },
          "metadata": {
            "tags": []
          },
          "execution_count": 30
        }
      ]
    },
    {
      "cell_type": "code",
      "metadata": {
        "colab": {
          "base_uri": "https://localhost:8080/",
          "height": 204
        },
        "id": "Hza0y0UlIrkn",
        "outputId": "0d7aaa26-c461-4300-970b-47734cb33f0d"
      },
      "source": [
        "# e vamos ver a diferença com o df1, exibindo-o novamente\n",
        "df1"
      ],
      "execution_count": 31,
      "outputs": [
        {
          "output_type": "execute_result",
          "data": {
            "text/html": [
              "<div>\n",
              "<style scoped>\n",
              "    .dataframe tbody tr th:only-of-type {\n",
              "        vertical-align: middle;\n",
              "    }\n",
              "\n",
              "    .dataframe tbody tr th {\n",
              "        vertical-align: top;\n",
              "    }\n",
              "\n",
              "    .dataframe thead th {\n",
              "        text-align: right;\n",
              "    }\n",
              "</style>\n",
              "<table border=\"1\" class=\"dataframe\">\n",
              "  <thead>\n",
              "    <tr style=\"text-align: right;\">\n",
              "      <th></th>\n",
              "      <th>nome</th>\n",
              "      <th>salario</th>\n",
              "    </tr>\n",
              "  </thead>\n",
              "  <tbody>\n",
              "    <tr>\n",
              "      <th>0</th>\n",
              "      <td>ANTONIO</td>\n",
              "      <td>1000</td>\n",
              "    </tr>\n",
              "    <tr>\n",
              "      <th>1</th>\n",
              "      <td>GUSTAVO</td>\n",
              "      <td>1000</td>\n",
              "    </tr>\n",
              "    <tr>\n",
              "      <th>2</th>\n",
              "      <td>NORMA</td>\n",
              "      <td>1000</td>\n",
              "    </tr>\n",
              "    <tr>\n",
              "      <th>3</th>\n",
              "      <td>QUITERIA</td>\n",
              "      <td>1000</td>\n",
              "    </tr>\n",
              "    <tr>\n",
              "      <th>4</th>\n",
              "      <td>RENATA</td>\n",
              "      <td>1000</td>\n",
              "    </tr>\n",
              "  </tbody>\n",
              "</table>\n",
              "</div>"
            ],
            "text/plain": [
              "       nome  salario\n",
              "0   ANTONIO     1000\n",
              "1   GUSTAVO     1000\n",
              "2     NORMA     1000\n",
              "3  QUITERIA     1000\n",
              "4    RENATA     1000"
            ]
          },
          "metadata": {
            "tags": []
          },
          "execution_count": 31
        }
      ]
    },
    {
      "cell_type": "markdown",
      "metadata": {
        "id": "0p3R6Bs3Jhou"
      },
      "source": [
        "Viram o problema?\n",
        "Nós alteramos o salário do df2 e acabou alterando também o salário do df1 e isso acontece pq quando utilizamos o = criamos apenas um ponteiro de referencia entre o df2 e o df1. Para não ter mais esse problema, o pandas oferece o **.copy**"
      ]
    },
    {
      "cell_type": "code",
      "metadata": {
        "colab": {
          "base_uri": "https://localhost:8080/",
          "height": 204
        },
        "id": "mc0y2FRCI5g_",
        "outputId": "29d9dc11-0475-483c-efb4-53e32205147d"
      },
      "source": [
        "# resumidamente, vamos a solução\n",
        "# parte 1\n",
        "colunas = [\"nome\", \"salario\"]\n",
        "df1 = df.iloc[:5][colunas].copy()\n",
        "# parte 2 - .copy é a solução\n",
        "df2 = df1.copy()\n",
        "# parte 3, alterando os valores do salario\n",
        "df2['salario'] = 1000\n",
        "df2"
      ],
      "execution_count": 32,
      "outputs": [
        {
          "output_type": "execute_result",
          "data": {
            "text/html": [
              "<div>\n",
              "<style scoped>\n",
              "    .dataframe tbody tr th:only-of-type {\n",
              "        vertical-align: middle;\n",
              "    }\n",
              "\n",
              "    .dataframe tbody tr th {\n",
              "        vertical-align: top;\n",
              "    }\n",
              "\n",
              "    .dataframe thead th {\n",
              "        text-align: right;\n",
              "    }\n",
              "</style>\n",
              "<table border=\"1\" class=\"dataframe\">\n",
              "  <thead>\n",
              "    <tr style=\"text-align: right;\">\n",
              "      <th></th>\n",
              "      <th>nome</th>\n",
              "      <th>salario</th>\n",
              "    </tr>\n",
              "  </thead>\n",
              "  <tbody>\n",
              "    <tr>\n",
              "      <th>0</th>\n",
              "      <td>ANTONIO</td>\n",
              "      <td>1000</td>\n",
              "    </tr>\n",
              "    <tr>\n",
              "      <th>1</th>\n",
              "      <td>GUSTAVO</td>\n",
              "      <td>1000</td>\n",
              "    </tr>\n",
              "    <tr>\n",
              "      <th>2</th>\n",
              "      <td>NORMA</td>\n",
              "      <td>1000</td>\n",
              "    </tr>\n",
              "    <tr>\n",
              "      <th>3</th>\n",
              "      <td>QUITERIA</td>\n",
              "      <td>1000</td>\n",
              "    </tr>\n",
              "    <tr>\n",
              "      <th>4</th>\n",
              "      <td>RENATA</td>\n",
              "      <td>1000</td>\n",
              "    </tr>\n",
              "  </tbody>\n",
              "</table>\n",
              "</div>"
            ],
            "text/plain": [
              "       nome  salario\n",
              "0   ANTONIO     1000\n",
              "1   GUSTAVO     1000\n",
              "2     NORMA     1000\n",
              "3  QUITERIA     1000\n",
              "4    RENATA     1000"
            ]
          },
          "metadata": {
            "tags": []
          },
          "execution_count": 32
        }
      ]
    },
    {
      "cell_type": "code",
      "metadata": {
        "colab": {
          "base_uri": "https://localhost:8080/",
          "height": 204
        },
        "id": "G-Uh0MpaJgAF",
        "outputId": "35c5bb80-a802-43a4-c9bc-40532e9e8ba0"
      },
      "source": [
        "# e o original df1\n",
        "df1"
      ],
      "execution_count": 33,
      "outputs": [
        {
          "output_type": "execute_result",
          "data": {
            "text/html": [
              "<div>\n",
              "<style scoped>\n",
              "    .dataframe tbody tr th:only-of-type {\n",
              "        vertical-align: middle;\n",
              "    }\n",
              "\n",
              "    .dataframe tbody tr th {\n",
              "        vertical-align: top;\n",
              "    }\n",
              "\n",
              "    .dataframe thead th {\n",
              "        text-align: right;\n",
              "    }\n",
              "</style>\n",
              "<table border=\"1\" class=\"dataframe\">\n",
              "  <thead>\n",
              "    <tr style=\"text-align: right;\">\n",
              "      <th></th>\n",
              "      <th>nome</th>\n",
              "      <th>salario</th>\n",
              "    </tr>\n",
              "  </thead>\n",
              "  <tbody>\n",
              "    <tr>\n",
              "      <th>0</th>\n",
              "      <td>ANTONIO</td>\n",
              "      <td>15000</td>\n",
              "    </tr>\n",
              "    <tr>\n",
              "      <th>1</th>\n",
              "      <td>GUSTAVO</td>\n",
              "      <td>3000</td>\n",
              "    </tr>\n",
              "    <tr>\n",
              "      <th>2</th>\n",
              "      <td>NORMA</td>\n",
              "      <td>3000</td>\n",
              "    </tr>\n",
              "    <tr>\n",
              "      <th>3</th>\n",
              "      <td>QUITERIA</td>\n",
              "      <td>6000</td>\n",
              "    </tr>\n",
              "    <tr>\n",
              "      <th>4</th>\n",
              "      <td>RENATA</td>\n",
              "      <td>5000</td>\n",
              "    </tr>\n",
              "  </tbody>\n",
              "</table>\n",
              "</div>"
            ],
            "text/plain": [
              "       nome  salario\n",
              "0   ANTONIO    15000\n",
              "1   GUSTAVO     3000\n",
              "2     NORMA     3000\n",
              "3  QUITERIA     6000\n",
              "4    RENATA     5000"
            ]
          },
          "metadata": {
            "tags": []
          },
          "execution_count": 33
        }
      ]
    },
    {
      "cell_type": "markdown",
      "metadata": {
        "id": "kEUAuGaMKe2Q"
      },
      "source": [
        "# **Alterar o layout do dataframe**"
      ]
    },
    {
      "cell_type": "markdown",
      "metadata": {
        "id": "5Bg6wHpILugI"
      },
      "source": [
        "Existem situações onde precisamos alterar o layout do nosso dataframe para um formato onde uma ou mais colunas se tornam identificadora enquanto as outras colunas se tornam as medidas (valores)."
      ]
    },
    {
      "cell_type": "markdown",
      "metadata": {
        "id": "-H_y9RcqCz6r"
      },
      "source": [
        "##**.melt()**\n",
        "\n",
        "Quando queremos transformar as linhas do dataframe em coluna, utilizamos a função .melt() mas creio que com o exemplo facilitará mais o entendimento."
      ]
    },
    {
      "cell_type": "code",
      "metadata": {
        "colab": {
          "base_uri": "https://localhost:8080/",
          "height": 111
        },
        "id": "TTvjIZFNKeSx",
        "outputId": "7c85b9e1-072f-4ef7-c1c4-70a9138457d0"
      },
      "source": [
        "# pra facilitar a visualização, criamos o dataframe df1 com uma cópia do df \n",
        "# contendo somente as 2 primeiras linhas e todas as suas colunas\n",
        "df1 = df.iloc[:2].copy() #\n",
        "df1"
      ],
      "execution_count": 34,
      "outputs": [
        {
          "output_type": "execute_result",
          "data": {
            "text/html": [
              "<div>\n",
              "<style scoped>\n",
              "    .dataframe tbody tr th:only-of-type {\n",
              "        vertical-align: middle;\n",
              "    }\n",
              "\n",
              "    .dataframe tbody tr th {\n",
              "        vertical-align: top;\n",
              "    }\n",
              "\n",
              "    .dataframe thead th {\n",
              "        text-align: right;\n",
              "    }\n",
              "</style>\n",
              "<table border=\"1\" class=\"dataframe\">\n",
              "  <thead>\n",
              "    <tr style=\"text-align: right;\">\n",
              "      <th></th>\n",
              "      <th>nome</th>\n",
              "      <th>sexo</th>\n",
              "      <th>setor</th>\n",
              "      <th>idade</th>\n",
              "      <th>funcao</th>\n",
              "      <th>salario</th>\n",
              "    </tr>\n",
              "  </thead>\n",
              "  <tbody>\n",
              "    <tr>\n",
              "      <th>0</th>\n",
              "      <td>ANTONIO</td>\n",
              "      <td>M</td>\n",
              "      <td>administrativo</td>\n",
              "      <td>26</td>\n",
              "      <td>Diretor</td>\n",
              "      <td>15000</td>\n",
              "    </tr>\n",
              "    <tr>\n",
              "      <th>1</th>\n",
              "      <td>GUSTAVO</td>\n",
              "      <td>M</td>\n",
              "      <td>administrativo</td>\n",
              "      <td>29</td>\n",
              "      <td>assistente</td>\n",
              "      <td>3000</td>\n",
              "    </tr>\n",
              "  </tbody>\n",
              "</table>\n",
              "</div>"
            ],
            "text/plain": [
              "      nome sexo           setor  idade      funcao  salario\n",
              "0  ANTONIO    M  administrativo     26     Diretor    15000\n",
              "1  GUSTAVO    M  administrativo     29  assistente     3000"
            ]
          },
          "metadata": {
            "tags": []
          },
          "execution_count": 34
        }
      ]
    },
    {
      "cell_type": "code",
      "metadata": {
        "colab": {
          "base_uri": "https://localhost:8080/"
        },
        "id": "KN42areDNVDF",
        "outputId": "df4e2363-5d0f-42c5-a17c-32bffde324d3"
      },
      "source": [
        "df1.shape"
      ],
      "execution_count": 35,
      "outputs": [
        {
          "output_type": "execute_result",
          "data": {
            "text/plain": [
              "(2, 6)"
            ]
          },
          "metadata": {
            "tags": []
          },
          "execution_count": 35
        }
      ]
    },
    {
      "cell_type": "code",
      "metadata": {
        "colab": {
          "base_uri": "https://localhost:8080/",
          "height": 421
        },
        "id": "TqBR0-tYKvyR",
        "outputId": "5013b08a-3dfa-4db7-f1fd-be4fc7809d01"
      },
      "source": [
        "# agora imagine se o nosso desejo fosse o seguinte:\n",
        "# a partir do df1, gere um novo dataframe com 2 colunas, onde \n",
        "# a primeira coluna será a identificação do dado (variable)\n",
        "# e a segunda coluna será a media (value)\n",
        "df2 = df1.melt()\n",
        "df2"
      ],
      "execution_count": 36,
      "outputs": [
        {
          "output_type": "execute_result",
          "data": {
            "text/html": [
              "<div>\n",
              "<style scoped>\n",
              "    .dataframe tbody tr th:only-of-type {\n",
              "        vertical-align: middle;\n",
              "    }\n",
              "\n",
              "    .dataframe tbody tr th {\n",
              "        vertical-align: top;\n",
              "    }\n",
              "\n",
              "    .dataframe thead th {\n",
              "        text-align: right;\n",
              "    }\n",
              "</style>\n",
              "<table border=\"1\" class=\"dataframe\">\n",
              "  <thead>\n",
              "    <tr style=\"text-align: right;\">\n",
              "      <th></th>\n",
              "      <th>variable</th>\n",
              "      <th>value</th>\n",
              "    </tr>\n",
              "  </thead>\n",
              "  <tbody>\n",
              "    <tr>\n",
              "      <th>0</th>\n",
              "      <td>nome</td>\n",
              "      <td>ANTONIO</td>\n",
              "    </tr>\n",
              "    <tr>\n",
              "      <th>1</th>\n",
              "      <td>nome</td>\n",
              "      <td>GUSTAVO</td>\n",
              "    </tr>\n",
              "    <tr>\n",
              "      <th>2</th>\n",
              "      <td>sexo</td>\n",
              "      <td>M</td>\n",
              "    </tr>\n",
              "    <tr>\n",
              "      <th>3</th>\n",
              "      <td>sexo</td>\n",
              "      <td>M</td>\n",
              "    </tr>\n",
              "    <tr>\n",
              "      <th>4</th>\n",
              "      <td>setor</td>\n",
              "      <td>administrativo</td>\n",
              "    </tr>\n",
              "    <tr>\n",
              "      <th>5</th>\n",
              "      <td>setor</td>\n",
              "      <td>administrativo</td>\n",
              "    </tr>\n",
              "    <tr>\n",
              "      <th>6</th>\n",
              "      <td>idade</td>\n",
              "      <td>26</td>\n",
              "    </tr>\n",
              "    <tr>\n",
              "      <th>7</th>\n",
              "      <td>idade</td>\n",
              "      <td>29</td>\n",
              "    </tr>\n",
              "    <tr>\n",
              "      <th>8</th>\n",
              "      <td>funcao</td>\n",
              "      <td>Diretor</td>\n",
              "    </tr>\n",
              "    <tr>\n",
              "      <th>9</th>\n",
              "      <td>funcao</td>\n",
              "      <td>assistente</td>\n",
              "    </tr>\n",
              "    <tr>\n",
              "      <th>10</th>\n",
              "      <td>salario</td>\n",
              "      <td>15000</td>\n",
              "    </tr>\n",
              "    <tr>\n",
              "      <th>11</th>\n",
              "      <td>salario</td>\n",
              "      <td>3000</td>\n",
              "    </tr>\n",
              "  </tbody>\n",
              "</table>\n",
              "</div>"
            ],
            "text/plain": [
              "   variable           value\n",
              "0      nome         ANTONIO\n",
              "1      nome         GUSTAVO\n",
              "2      sexo               M\n",
              "3      sexo               M\n",
              "4     setor  administrativo\n",
              "5     setor  administrativo\n",
              "6     idade              26\n",
              "7     idade              29\n",
              "8    funcao         Diretor\n",
              "9    funcao      assistente\n",
              "10  salario           15000\n",
              "11  salario            3000"
            ]
          },
          "metadata": {
            "tags": []
          },
          "execution_count": 36
        }
      ]
    },
    {
      "cell_type": "code",
      "metadata": {
        "colab": {
          "base_uri": "https://localhost:8080/",
          "height": 421
        },
        "id": "rA_wcE9ZLLSx",
        "outputId": "0df6cbf4-113a-4b64-e1ae-32a070b40438"
      },
      "source": [
        "# uma dica: caso você deseja alterar o nome das colunas\n",
        "# segue o exemplo abaixo mas lembre-se: esse vetor tem que ter a quantidade de colunas\n",
        "# no nosso caso, como temos somente 2 colunas, nosso array tem somente 2 posições e seus valores\n",
        "df2.columns = [\"campo\", \"valor\"]\n",
        "df2"
      ],
      "execution_count": 37,
      "outputs": [
        {
          "output_type": "execute_result",
          "data": {
            "text/html": [
              "<div>\n",
              "<style scoped>\n",
              "    .dataframe tbody tr th:only-of-type {\n",
              "        vertical-align: middle;\n",
              "    }\n",
              "\n",
              "    .dataframe tbody tr th {\n",
              "        vertical-align: top;\n",
              "    }\n",
              "\n",
              "    .dataframe thead th {\n",
              "        text-align: right;\n",
              "    }\n",
              "</style>\n",
              "<table border=\"1\" class=\"dataframe\">\n",
              "  <thead>\n",
              "    <tr style=\"text-align: right;\">\n",
              "      <th></th>\n",
              "      <th>campo</th>\n",
              "      <th>valor</th>\n",
              "    </tr>\n",
              "  </thead>\n",
              "  <tbody>\n",
              "    <tr>\n",
              "      <th>0</th>\n",
              "      <td>nome</td>\n",
              "      <td>ANTONIO</td>\n",
              "    </tr>\n",
              "    <tr>\n",
              "      <th>1</th>\n",
              "      <td>nome</td>\n",
              "      <td>GUSTAVO</td>\n",
              "    </tr>\n",
              "    <tr>\n",
              "      <th>2</th>\n",
              "      <td>sexo</td>\n",
              "      <td>M</td>\n",
              "    </tr>\n",
              "    <tr>\n",
              "      <th>3</th>\n",
              "      <td>sexo</td>\n",
              "      <td>M</td>\n",
              "    </tr>\n",
              "    <tr>\n",
              "      <th>4</th>\n",
              "      <td>setor</td>\n",
              "      <td>administrativo</td>\n",
              "    </tr>\n",
              "    <tr>\n",
              "      <th>5</th>\n",
              "      <td>setor</td>\n",
              "      <td>administrativo</td>\n",
              "    </tr>\n",
              "    <tr>\n",
              "      <th>6</th>\n",
              "      <td>idade</td>\n",
              "      <td>26</td>\n",
              "    </tr>\n",
              "    <tr>\n",
              "      <th>7</th>\n",
              "      <td>idade</td>\n",
              "      <td>29</td>\n",
              "    </tr>\n",
              "    <tr>\n",
              "      <th>8</th>\n",
              "      <td>funcao</td>\n",
              "      <td>Diretor</td>\n",
              "    </tr>\n",
              "    <tr>\n",
              "      <th>9</th>\n",
              "      <td>funcao</td>\n",
              "      <td>assistente</td>\n",
              "    </tr>\n",
              "    <tr>\n",
              "      <th>10</th>\n",
              "      <td>salario</td>\n",
              "      <td>15000</td>\n",
              "    </tr>\n",
              "    <tr>\n",
              "      <th>11</th>\n",
              "      <td>salario</td>\n",
              "      <td>3000</td>\n",
              "    </tr>\n",
              "  </tbody>\n",
              "</table>\n",
              "</div>"
            ],
            "text/plain": [
              "      campo           valor\n",
              "0      nome         ANTONIO\n",
              "1      nome         GUSTAVO\n",
              "2      sexo               M\n",
              "3      sexo               M\n",
              "4     setor  administrativo\n",
              "5     setor  administrativo\n",
              "6     idade              26\n",
              "7     idade              29\n",
              "8    funcao         Diretor\n",
              "9    funcao      assistente\n",
              "10  salario           15000\n",
              "11  salario            3000"
            ]
          },
          "metadata": {
            "tags": []
          },
          "execution_count": 37
        }
      ]
    },
    {
      "cell_type": "markdown",
      "metadata": {
        "id": "aWbYnxbKOj-d"
      },
      "source": [
        "## **.pivot()**\n",
        "\n",
        "A função pivot () é usada para remodelar o dataframe organizado por determinados valores de índice / coluna. \n",
        "Esta função não suporta agregação de dados, vários valores resultarão em um MultiIndex nas colunas.\n",
        "Vamos ao exemplo"
      ]
    },
    {
      "cell_type": "code",
      "metadata": {
        "colab": {
          "base_uri": "https://localhost:8080/",
          "height": 173
        },
        "id": "EpMC2A-oN0p5",
        "outputId": "dbd5e7f5-042a-4f99-95e9-800aecd4ee7b"
      },
      "source": [
        "df2 = pd.DataFrame({\n",
        "    \"mes\": [1, 1, 2, 2],\n",
        "    \"nome\": [\"Joao\", \"Maria\", \"Joao\", \"Maria\"],\n",
        "    \"vendas\": [20000, 20000, 40000, 40000]\n",
        "})\n",
        "df2"
      ],
      "execution_count": 38,
      "outputs": [
        {
          "output_type": "execute_result",
          "data": {
            "text/html": [
              "<div>\n",
              "<style scoped>\n",
              "    .dataframe tbody tr th:only-of-type {\n",
              "        vertical-align: middle;\n",
              "    }\n",
              "\n",
              "    .dataframe tbody tr th {\n",
              "        vertical-align: top;\n",
              "    }\n",
              "\n",
              "    .dataframe thead th {\n",
              "        text-align: right;\n",
              "    }\n",
              "</style>\n",
              "<table border=\"1\" class=\"dataframe\">\n",
              "  <thead>\n",
              "    <tr style=\"text-align: right;\">\n",
              "      <th></th>\n",
              "      <th>mes</th>\n",
              "      <th>nome</th>\n",
              "      <th>vendas</th>\n",
              "    </tr>\n",
              "  </thead>\n",
              "  <tbody>\n",
              "    <tr>\n",
              "      <th>0</th>\n",
              "      <td>1</td>\n",
              "      <td>Joao</td>\n",
              "      <td>20000</td>\n",
              "    </tr>\n",
              "    <tr>\n",
              "      <th>1</th>\n",
              "      <td>1</td>\n",
              "      <td>Maria</td>\n",
              "      <td>20000</td>\n",
              "    </tr>\n",
              "    <tr>\n",
              "      <th>2</th>\n",
              "      <td>2</td>\n",
              "      <td>Joao</td>\n",
              "      <td>40000</td>\n",
              "    </tr>\n",
              "    <tr>\n",
              "      <th>3</th>\n",
              "      <td>2</td>\n",
              "      <td>Maria</td>\n",
              "      <td>40000</td>\n",
              "    </tr>\n",
              "  </tbody>\n",
              "</table>\n",
              "</div>"
            ],
            "text/plain": [
              "   mes   nome  vendas\n",
              "0    1   Joao   20000\n",
              "1    1  Maria   20000\n",
              "2    2   Joao   40000\n",
              "3    2  Maria   40000"
            ]
          },
          "metadata": {
            "tags": []
          },
          "execution_count": 38
        }
      ]
    },
    {
      "cell_type": "code",
      "metadata": {
        "colab": {
          "base_uri": "https://localhost:8080/",
          "height": 142
        },
        "id": "6Sl_-UmROued",
        "outputId": "8f67b6d1-e197-461d-e067-84d54ea4308b"
      },
      "source": [
        "df2.pivot(index='mes', columns='nome', values='vendas')"
      ],
      "execution_count": 39,
      "outputs": [
        {
          "output_type": "execute_result",
          "data": {
            "text/html": [
              "<div>\n",
              "<style scoped>\n",
              "    .dataframe tbody tr th:only-of-type {\n",
              "        vertical-align: middle;\n",
              "    }\n",
              "\n",
              "    .dataframe tbody tr th {\n",
              "        vertical-align: top;\n",
              "    }\n",
              "\n",
              "    .dataframe thead th {\n",
              "        text-align: right;\n",
              "    }\n",
              "</style>\n",
              "<table border=\"1\" class=\"dataframe\">\n",
              "  <thead>\n",
              "    <tr style=\"text-align: right;\">\n",
              "      <th>nome</th>\n",
              "      <th>Joao</th>\n",
              "      <th>Maria</th>\n",
              "    </tr>\n",
              "    <tr>\n",
              "      <th>mes</th>\n",
              "      <th></th>\n",
              "      <th></th>\n",
              "    </tr>\n",
              "  </thead>\n",
              "  <tbody>\n",
              "    <tr>\n",
              "      <th>1</th>\n",
              "      <td>20000</td>\n",
              "      <td>20000</td>\n",
              "    </tr>\n",
              "    <tr>\n",
              "      <th>2</th>\n",
              "      <td>40000</td>\n",
              "      <td>40000</td>\n",
              "    </tr>\n",
              "  </tbody>\n",
              "</table>\n",
              "</div>"
            ],
            "text/plain": [
              "nome   Joao  Maria\n",
              "mes               \n",
              "1     20000  20000\n",
              "2     40000  40000"
            ]
          },
          "metadata": {
            "tags": []
          },
          "execution_count": 39
        }
      ]
    },
    {
      "cell_type": "markdown",
      "metadata": {
        "id": "lHpoCf-XFcAL"
      },
      "source": [
        "## **.pivot_table()**\n",
        "\n",
        "Temos também a função pivot_table() que é usada para criar uma tabela dinâmica no estilo planilha como um dataFrame. Os níveis da tabela dinâmica serão armazenados em objetos MultiIndex (índices hierárquicos) no índice e nas colunas do DataFrame de resultado."
      ]
    },
    {
      "cell_type": "code",
      "metadata": {
        "colab": {
          "base_uri": "https://localhost:8080/",
          "height": 328
        },
        "id": "RN_ijEw3F2y_",
        "outputId": "1e5e26ac-742a-4779-b288-5dcfd972a8be"
      },
      "source": [
        "dfTeste = pd.DataFrame({\n",
        "    \"uf\": [\"SP\", \"SP\", \"SP\", \"SP\", \"MG\", \"MG\", \"MG\", \"MG\", \"MG\"],\n",
        "    \"cidade\": [\"A\", \"B\", \"B\", \"A\", \"C\", \"D\", \"D\", \"D\", \"d\"],\n",
        "    \"produto\": [\"P1\", \"P2\", \"P1\", \"P2\", \"P2\", \"P2\", \"P1\", \"P1\", \"P1\"],\n",
        "    \"quantidade\": [1, 1, 1, 1, 1, 1, 1, 1, 1]}\n",
        ")\n",
        "dfTeste"
      ],
      "execution_count": 40,
      "outputs": [
        {
          "output_type": "execute_result",
          "data": {
            "text/html": [
              "<div>\n",
              "<style scoped>\n",
              "    .dataframe tbody tr th:only-of-type {\n",
              "        vertical-align: middle;\n",
              "    }\n",
              "\n",
              "    .dataframe tbody tr th {\n",
              "        vertical-align: top;\n",
              "    }\n",
              "\n",
              "    .dataframe thead th {\n",
              "        text-align: right;\n",
              "    }\n",
              "</style>\n",
              "<table border=\"1\" class=\"dataframe\">\n",
              "  <thead>\n",
              "    <tr style=\"text-align: right;\">\n",
              "      <th></th>\n",
              "      <th>uf</th>\n",
              "      <th>cidade</th>\n",
              "      <th>produto</th>\n",
              "      <th>quantidade</th>\n",
              "    </tr>\n",
              "  </thead>\n",
              "  <tbody>\n",
              "    <tr>\n",
              "      <th>0</th>\n",
              "      <td>SP</td>\n",
              "      <td>A</td>\n",
              "      <td>P1</td>\n",
              "      <td>1</td>\n",
              "    </tr>\n",
              "    <tr>\n",
              "      <th>1</th>\n",
              "      <td>SP</td>\n",
              "      <td>B</td>\n",
              "      <td>P2</td>\n",
              "      <td>1</td>\n",
              "    </tr>\n",
              "    <tr>\n",
              "      <th>2</th>\n",
              "      <td>SP</td>\n",
              "      <td>B</td>\n",
              "      <td>P1</td>\n",
              "      <td>1</td>\n",
              "    </tr>\n",
              "    <tr>\n",
              "      <th>3</th>\n",
              "      <td>SP</td>\n",
              "      <td>A</td>\n",
              "      <td>P2</td>\n",
              "      <td>1</td>\n",
              "    </tr>\n",
              "    <tr>\n",
              "      <th>4</th>\n",
              "      <td>MG</td>\n",
              "      <td>C</td>\n",
              "      <td>P2</td>\n",
              "      <td>1</td>\n",
              "    </tr>\n",
              "    <tr>\n",
              "      <th>5</th>\n",
              "      <td>MG</td>\n",
              "      <td>D</td>\n",
              "      <td>P2</td>\n",
              "      <td>1</td>\n",
              "    </tr>\n",
              "    <tr>\n",
              "      <th>6</th>\n",
              "      <td>MG</td>\n",
              "      <td>D</td>\n",
              "      <td>P1</td>\n",
              "      <td>1</td>\n",
              "    </tr>\n",
              "    <tr>\n",
              "      <th>7</th>\n",
              "      <td>MG</td>\n",
              "      <td>D</td>\n",
              "      <td>P1</td>\n",
              "      <td>1</td>\n",
              "    </tr>\n",
              "    <tr>\n",
              "      <th>8</th>\n",
              "      <td>MG</td>\n",
              "      <td>d</td>\n",
              "      <td>P1</td>\n",
              "      <td>1</td>\n",
              "    </tr>\n",
              "  </tbody>\n",
              "</table>\n",
              "</div>"
            ],
            "text/plain": [
              "   uf cidade produto  quantidade\n",
              "0  SP      A      P1           1\n",
              "1  SP      B      P2           1\n",
              "2  SP      B      P1           1\n",
              "3  SP      A      P2           1\n",
              "4  MG      C      P2           1\n",
              "5  MG      D      P2           1\n",
              "6  MG      D      P1           1\n",
              "7  MG      D      P1           1\n",
              "8  MG      d      P1           1"
            ]
          },
          "metadata": {
            "tags": []
          },
          "execution_count": 40
        }
      ]
    },
    {
      "cell_type": "code",
      "metadata": {
        "colab": {
          "base_uri": "https://localhost:8080/",
          "height": 235
        },
        "id": "okFKfE2CHCZN",
        "outputId": "a1b5568c-510d-4b24-e2c4-05a0c7c6bd26"
      },
      "source": [
        "dfTeste.pivot_table(values=\"quantidade\", index=[\"uf\", \"cidade\"], columns=\"produto\",\n",
        "                    aggfunc=\"sum\", fill_value=0)"
      ],
      "execution_count": 41,
      "outputs": [
        {
          "output_type": "execute_result",
          "data": {
            "text/html": [
              "<div>\n",
              "<style scoped>\n",
              "    .dataframe tbody tr th:only-of-type {\n",
              "        vertical-align: middle;\n",
              "    }\n",
              "\n",
              "    .dataframe tbody tr th {\n",
              "        vertical-align: top;\n",
              "    }\n",
              "\n",
              "    .dataframe thead th {\n",
              "        text-align: right;\n",
              "    }\n",
              "</style>\n",
              "<table border=\"1\" class=\"dataframe\">\n",
              "  <thead>\n",
              "    <tr style=\"text-align: right;\">\n",
              "      <th></th>\n",
              "      <th>produto</th>\n",
              "      <th>P1</th>\n",
              "      <th>P2</th>\n",
              "    </tr>\n",
              "    <tr>\n",
              "      <th>uf</th>\n",
              "      <th>cidade</th>\n",
              "      <th></th>\n",
              "      <th></th>\n",
              "    </tr>\n",
              "  </thead>\n",
              "  <tbody>\n",
              "    <tr>\n",
              "      <th rowspan=\"3\" valign=\"top\">MG</th>\n",
              "      <th>C</th>\n",
              "      <td>0</td>\n",
              "      <td>1</td>\n",
              "    </tr>\n",
              "    <tr>\n",
              "      <th>D</th>\n",
              "      <td>2</td>\n",
              "      <td>1</td>\n",
              "    </tr>\n",
              "    <tr>\n",
              "      <th>d</th>\n",
              "      <td>1</td>\n",
              "      <td>0</td>\n",
              "    </tr>\n",
              "    <tr>\n",
              "      <th rowspan=\"2\" valign=\"top\">SP</th>\n",
              "      <th>A</th>\n",
              "      <td>1</td>\n",
              "      <td>1</td>\n",
              "    </tr>\n",
              "    <tr>\n",
              "      <th>B</th>\n",
              "      <td>1</td>\n",
              "      <td>1</td>\n",
              "    </tr>\n",
              "  </tbody>\n",
              "</table>\n",
              "</div>"
            ],
            "text/plain": [
              "produto    P1  P2\n",
              "uf cidade        \n",
              "MG C        0   1\n",
              "   D        2   1\n",
              "   d        1   0\n",
              "SP A        1   1\n",
              "   B        1   1"
            ]
          },
          "metadata": {
            "tags": []
          },
          "execution_count": 41
        }
      ]
    },
    {
      "cell_type": "markdown",
      "metadata": {
        "id": "apEJXRTlDEtL"
      },
      "source": [
        "## **.drop()**\n",
        "\n"
      ]
    },
    {
      "cell_type": "markdown",
      "metadata": {
        "id": "UH664vzvIy4d"
      },
      "source": [
        "# **Concatenar e combinar dataframes**"
      ]
    },
    {
      "cell_type": "markdown",
      "metadata": {
        "id": "tupxFkgjCXY6"
      },
      "source": [
        "## **concat([df1, df2]**"
      ]
    },
    {
      "cell_type": "markdown",
      "metadata": {
        "id": "EXoXAzdkjGwt"
      },
      "source": [
        "Outro recurso que utilizamos bastante é concatenar dois dataframes. A função que iremos utilizar é a **.concat()**. Vamos a alguns exemplos."
      ]
    },
    {
      "cell_type": "code",
      "metadata": {
        "colab": {
          "base_uri": "https://localhost:8080/",
          "height": 204
        },
        "id": "sBYNWv-TjGav",
        "outputId": "a91381a9-f80f-450b-dabb-228e8f02c336"
      },
      "source": [
        "# Vamos concatenar 2 dataframes, como exemplo, o df1 terá os registros com \n",
        "# índice de 0 a 4 e o df2 de 5 a 7\n",
        "df1 = df[:5][[\"nome\", \"salario\"]].copy()\n",
        "df2 = df[5:8][[\"nome\", \"salario\"]].copy()\n",
        "df1"
      ],
      "execution_count": 42,
      "outputs": [
        {
          "output_type": "execute_result",
          "data": {
            "text/html": [
              "<div>\n",
              "<style scoped>\n",
              "    .dataframe tbody tr th:only-of-type {\n",
              "        vertical-align: middle;\n",
              "    }\n",
              "\n",
              "    .dataframe tbody tr th {\n",
              "        vertical-align: top;\n",
              "    }\n",
              "\n",
              "    .dataframe thead th {\n",
              "        text-align: right;\n",
              "    }\n",
              "</style>\n",
              "<table border=\"1\" class=\"dataframe\">\n",
              "  <thead>\n",
              "    <tr style=\"text-align: right;\">\n",
              "      <th></th>\n",
              "      <th>nome</th>\n",
              "      <th>salario</th>\n",
              "    </tr>\n",
              "  </thead>\n",
              "  <tbody>\n",
              "    <tr>\n",
              "      <th>0</th>\n",
              "      <td>ANTONIO</td>\n",
              "      <td>15000</td>\n",
              "    </tr>\n",
              "    <tr>\n",
              "      <th>1</th>\n",
              "      <td>GUSTAVO</td>\n",
              "      <td>3000</td>\n",
              "    </tr>\n",
              "    <tr>\n",
              "      <th>2</th>\n",
              "      <td>NORMA</td>\n",
              "      <td>3000</td>\n",
              "    </tr>\n",
              "    <tr>\n",
              "      <th>3</th>\n",
              "      <td>QUITERIA</td>\n",
              "      <td>6000</td>\n",
              "    </tr>\n",
              "    <tr>\n",
              "      <th>4</th>\n",
              "      <td>RENATA</td>\n",
              "      <td>5000</td>\n",
              "    </tr>\n",
              "  </tbody>\n",
              "</table>\n",
              "</div>"
            ],
            "text/plain": [
              "       nome  salario\n",
              "0   ANTONIO    15000\n",
              "1   GUSTAVO     3000\n",
              "2     NORMA     3000\n",
              "3  QUITERIA     6000\n",
              "4    RENATA     5000"
            ]
          },
          "metadata": {
            "tags": []
          },
          "execution_count": 42
        }
      ]
    },
    {
      "cell_type": "code",
      "metadata": {
        "colab": {
          "base_uri": "https://localhost:8080/",
          "height": 142
        },
        "id": "rQgZBonvjxM9",
        "outputId": "6adfe296-2e89-461d-8a13-7c51ea12f044"
      },
      "source": [
        "df2"
      ],
      "execution_count": 43,
      "outputs": [
        {
          "output_type": "execute_result",
          "data": {
            "text/html": [
              "<div>\n",
              "<style scoped>\n",
              "    .dataframe tbody tr th:only-of-type {\n",
              "        vertical-align: middle;\n",
              "    }\n",
              "\n",
              "    .dataframe tbody tr th {\n",
              "        vertical-align: top;\n",
              "    }\n",
              "\n",
              "    .dataframe thead th {\n",
              "        text-align: right;\n",
              "    }\n",
              "</style>\n",
              "<table border=\"1\" class=\"dataframe\">\n",
              "  <thead>\n",
              "    <tr style=\"text-align: right;\">\n",
              "      <th></th>\n",
              "      <th>nome</th>\n",
              "      <th>salario</th>\n",
              "    </tr>\n",
              "  </thead>\n",
              "  <tbody>\n",
              "    <tr>\n",
              "      <th>5</th>\n",
              "      <td>SANDRO</td>\n",
              "      <td>4000</td>\n",
              "    </tr>\n",
              "    <tr>\n",
              "      <th>6</th>\n",
              "      <td>VANESSA</td>\n",
              "      <td>4000</td>\n",
              "    </tr>\n",
              "    <tr>\n",
              "      <th>7</th>\n",
              "      <td>MARCOS</td>\n",
              "      <td>3000</td>\n",
              "    </tr>\n",
              "  </tbody>\n",
              "</table>\n",
              "</div>"
            ],
            "text/plain": [
              "      nome  salario\n",
              "5   SANDRO     4000\n",
              "6  VANESSA     4000\n",
              "7   MARCOS     3000"
            ]
          },
          "metadata": {
            "tags": []
          },
          "execution_count": 43
        }
      ]
    },
    {
      "cell_type": "code",
      "metadata": {
        "colab": {
          "base_uri": "https://localhost:8080/",
          "height": 297
        },
        "id": "bDsh5jN4jzNF",
        "outputId": "727a89a5-8b93-4b34-a9f6-4f955b400e61"
      },
      "source": [
        "# e aqui iremos exibir a concatenação utilizando o pd.concat([dataframes])\n",
        "pd.concat([df1, df2]) # lembrando que aqui o resultado poderia ser atribuido\n",
        "                      # a uma variável"
      ],
      "execution_count": 44,
      "outputs": [
        {
          "output_type": "execute_result",
          "data": {
            "text/html": [
              "<div>\n",
              "<style scoped>\n",
              "    .dataframe tbody tr th:only-of-type {\n",
              "        vertical-align: middle;\n",
              "    }\n",
              "\n",
              "    .dataframe tbody tr th {\n",
              "        vertical-align: top;\n",
              "    }\n",
              "\n",
              "    .dataframe thead th {\n",
              "        text-align: right;\n",
              "    }\n",
              "</style>\n",
              "<table border=\"1\" class=\"dataframe\">\n",
              "  <thead>\n",
              "    <tr style=\"text-align: right;\">\n",
              "      <th></th>\n",
              "      <th>nome</th>\n",
              "      <th>salario</th>\n",
              "    </tr>\n",
              "  </thead>\n",
              "  <tbody>\n",
              "    <tr>\n",
              "      <th>0</th>\n",
              "      <td>ANTONIO</td>\n",
              "      <td>15000</td>\n",
              "    </tr>\n",
              "    <tr>\n",
              "      <th>1</th>\n",
              "      <td>GUSTAVO</td>\n",
              "      <td>3000</td>\n",
              "    </tr>\n",
              "    <tr>\n",
              "      <th>2</th>\n",
              "      <td>NORMA</td>\n",
              "      <td>3000</td>\n",
              "    </tr>\n",
              "    <tr>\n",
              "      <th>3</th>\n",
              "      <td>QUITERIA</td>\n",
              "      <td>6000</td>\n",
              "    </tr>\n",
              "    <tr>\n",
              "      <th>4</th>\n",
              "      <td>RENATA</td>\n",
              "      <td>5000</td>\n",
              "    </tr>\n",
              "    <tr>\n",
              "      <th>5</th>\n",
              "      <td>SANDRO</td>\n",
              "      <td>4000</td>\n",
              "    </tr>\n",
              "    <tr>\n",
              "      <th>6</th>\n",
              "      <td>VANESSA</td>\n",
              "      <td>4000</td>\n",
              "    </tr>\n",
              "    <tr>\n",
              "      <th>7</th>\n",
              "      <td>MARCOS</td>\n",
              "      <td>3000</td>\n",
              "    </tr>\n",
              "  </tbody>\n",
              "</table>\n",
              "</div>"
            ],
            "text/plain": [
              "       nome  salario\n",
              "0   ANTONIO    15000\n",
              "1   GUSTAVO     3000\n",
              "2     NORMA     3000\n",
              "3  QUITERIA     6000\n",
              "4    RENATA     5000\n",
              "5    SANDRO     4000\n",
              "6   VANESSA     4000\n",
              "7    MARCOS     3000"
            ]
          },
          "metadata": {
            "tags": []
          },
          "execution_count": 44
        }
      ]
    },
    {
      "cell_type": "code",
      "metadata": {
        "colab": {
          "base_uri": "https://localhost:8080/",
          "height": 204
        },
        "id": "k3aVHifykgmZ",
        "outputId": "f4442ff3-3853-49dc-979e-fb4a70b8c0f7"
      },
      "source": [
        "# e mais um exemplo do concat, 2 dataframes sendo que o primeiro eu tenho somente as \n",
        "# colunas nome e salario e no segundo, eu tenho somente a coluna setor\n",
        "# assim concatenamos os dois dataframes, mas o segundo será adicionado como coluna\n",
        "df1 = df[:5][[\"nome\", \"salario\"]].copy()\n",
        "df2 = df[:5][[\"setor\"]].copy()\n",
        "pd.concat([df1, df2], axis=1)"
      ],
      "execution_count": 45,
      "outputs": [
        {
          "output_type": "execute_result",
          "data": {
            "text/html": [
              "<div>\n",
              "<style scoped>\n",
              "    .dataframe tbody tr th:only-of-type {\n",
              "        vertical-align: middle;\n",
              "    }\n",
              "\n",
              "    .dataframe tbody tr th {\n",
              "        vertical-align: top;\n",
              "    }\n",
              "\n",
              "    .dataframe thead th {\n",
              "        text-align: right;\n",
              "    }\n",
              "</style>\n",
              "<table border=\"1\" class=\"dataframe\">\n",
              "  <thead>\n",
              "    <tr style=\"text-align: right;\">\n",
              "      <th></th>\n",
              "      <th>nome</th>\n",
              "      <th>salario</th>\n",
              "      <th>setor</th>\n",
              "    </tr>\n",
              "  </thead>\n",
              "  <tbody>\n",
              "    <tr>\n",
              "      <th>0</th>\n",
              "      <td>ANTONIO</td>\n",
              "      <td>15000</td>\n",
              "      <td>administrativo</td>\n",
              "    </tr>\n",
              "    <tr>\n",
              "      <th>1</th>\n",
              "      <td>GUSTAVO</td>\n",
              "      <td>3000</td>\n",
              "      <td>administrativo</td>\n",
              "    </tr>\n",
              "    <tr>\n",
              "      <th>2</th>\n",
              "      <td>NORMA</td>\n",
              "      <td>3000</td>\n",
              "      <td>administrativo</td>\n",
              "    </tr>\n",
              "    <tr>\n",
              "      <th>3</th>\n",
              "      <td>QUITERIA</td>\n",
              "      <td>6000</td>\n",
              "      <td>artes</td>\n",
              "    </tr>\n",
              "    <tr>\n",
              "      <th>4</th>\n",
              "      <td>RENATA</td>\n",
              "      <td>5000</td>\n",
              "      <td>artes</td>\n",
              "    </tr>\n",
              "  </tbody>\n",
              "</table>\n",
              "</div>"
            ],
            "text/plain": [
              "       nome  salario           setor\n",
              "0   ANTONIO    15000  administrativo\n",
              "1   GUSTAVO     3000  administrativo\n",
              "2     NORMA     3000  administrativo\n",
              "3  QUITERIA     6000           artes\n",
              "4    RENATA     5000           artes"
            ]
          },
          "metadata": {
            "tags": []
          },
          "execution_count": 45
        }
      ]
    },
    {
      "cell_type": "markdown",
      "metadata": {
        "id": "fkAFwnFBD8Mf"
      },
      "source": [
        "## **.merge(df1, df2)**\n",
        "\n",
        "Esta função combina dataframes também mas baseada em dados comuns.\n",
        "Vamos ao exemplo"
      ]
    },
    {
      "cell_type": "code",
      "metadata": {
        "colab": {
          "base_uri": "https://localhost:8080/",
          "height": 421
        },
        "id": "95LYSOewCkvp",
        "outputId": "7258e6a6-8f00-4661-b49d-a832ca1d5f10"
      },
      "source": [
        "# vamos criar um dataframe com nome, setor e idade de pessoas assistentes\n",
        "assistentes = df.query(\"funcao == 'assistente'\")[['nome', 'setor', 'idade']].copy()\n",
        "assistentes"
      ],
      "execution_count": 46,
      "outputs": [
        {
          "output_type": "execute_result",
          "data": {
            "text/html": [
              "<div>\n",
              "<style scoped>\n",
              "    .dataframe tbody tr th:only-of-type {\n",
              "        vertical-align: middle;\n",
              "    }\n",
              "\n",
              "    .dataframe tbody tr th {\n",
              "        vertical-align: top;\n",
              "    }\n",
              "\n",
              "    .dataframe thead th {\n",
              "        text-align: right;\n",
              "    }\n",
              "</style>\n",
              "<table border=\"1\" class=\"dataframe\">\n",
              "  <thead>\n",
              "    <tr style=\"text-align: right;\">\n",
              "      <th></th>\n",
              "      <th>nome</th>\n",
              "      <th>setor</th>\n",
              "      <th>idade</th>\n",
              "    </tr>\n",
              "  </thead>\n",
              "  <tbody>\n",
              "    <tr>\n",
              "      <th>1</th>\n",
              "      <td>GUSTAVO</td>\n",
              "      <td>administrativo</td>\n",
              "      <td>29</td>\n",
              "    </tr>\n",
              "    <tr>\n",
              "      <th>2</th>\n",
              "      <td>NORMA</td>\n",
              "      <td>administrativo</td>\n",
              "      <td>49</td>\n",
              "    </tr>\n",
              "    <tr>\n",
              "      <th>3</th>\n",
              "      <td>QUITERIA</td>\n",
              "      <td>artes</td>\n",
              "      <td>39</td>\n",
              "    </tr>\n",
              "    <tr>\n",
              "      <th>4</th>\n",
              "      <td>RENATA</td>\n",
              "      <td>artes</td>\n",
              "      <td>39</td>\n",
              "    </tr>\n",
              "    <tr>\n",
              "      <th>6</th>\n",
              "      <td>VANESSA</td>\n",
              "      <td>artes</td>\n",
              "      <td>29</td>\n",
              "    </tr>\n",
              "    <tr>\n",
              "      <th>11</th>\n",
              "      <td>PETRO</td>\n",
              "      <td>contabilidade</td>\n",
              "      <td>18</td>\n",
              "    </tr>\n",
              "    <tr>\n",
              "      <th>12</th>\n",
              "      <td>OTAVIO</td>\n",
              "      <td>contabilidade</td>\n",
              "      <td>47</td>\n",
              "    </tr>\n",
              "    <tr>\n",
              "      <th>13</th>\n",
              "      <td>BEATRIZ</td>\n",
              "      <td>financeiro</td>\n",
              "      <td>33</td>\n",
              "    </tr>\n",
              "    <tr>\n",
              "      <th>14</th>\n",
              "      <td>TEODORO</td>\n",
              "      <td>financeiro</td>\n",
              "      <td>38</td>\n",
              "    </tr>\n",
              "    <tr>\n",
              "      <th>16</th>\n",
              "      <td>FABIA</td>\n",
              "      <td>marketing</td>\n",
              "      <td>49</td>\n",
              "    </tr>\n",
              "    <tr>\n",
              "      <th>17</th>\n",
              "      <td>UBALDO</td>\n",
              "      <td>marketing</td>\n",
              "      <td>47</td>\n",
              "    </tr>\n",
              "    <tr>\n",
              "      <th>19</th>\n",
              "      <td>YOLANDA</td>\n",
              "      <td>marketing</td>\n",
              "      <td>27</td>\n",
              "    </tr>\n",
              "  </tbody>\n",
              "</table>\n",
              "</div>"
            ],
            "text/plain": [
              "        nome           setor  idade\n",
              "1    GUSTAVO  administrativo     29\n",
              "2      NORMA  administrativo     49\n",
              "3   QUITERIA           artes     39\n",
              "4     RENATA           artes     39\n",
              "6    VANESSA           artes     29\n",
              "11     PETRO   contabilidade     18\n",
              "12    OTAVIO   contabilidade     47\n",
              "13   BEATRIZ      financeiro     33\n",
              "14   TEODORO      financeiro     38\n",
              "16     FABIA       marketing     49\n",
              "17    UBALDO       marketing     47\n",
              "19   YOLANDA       marketing     27"
            ]
          },
          "metadata": {
            "tags": []
          },
          "execution_count": 46
        }
      ]
    },
    {
      "cell_type": "code",
      "metadata": {
        "colab": {
          "base_uri": "https://localhost:8080/",
          "height": 173
        },
        "id": "bROugqTCEkzD",
        "outputId": "85d34de0-4cd4-4c9b-c8ed-3fee343d2ca3"
      },
      "source": [
        "# vamos imaginar que temos esse outro dataframe\n",
        "dfTeste = pd.DataFrame({\n",
        "    \"nome\": [\"RENATA\", \"VANESSA\", \"FABIA\", \"JOAO DA SILVA\"],\n",
        "    \"setor\": [\"artes\", \"artes\", \"marketing\", \"engenharia\"]\n",
        "})\n",
        "dfTeste"
      ],
      "execution_count": 47,
      "outputs": [
        {
          "output_type": "execute_result",
          "data": {
            "text/html": [
              "<div>\n",
              "<style scoped>\n",
              "    .dataframe tbody tr th:only-of-type {\n",
              "        vertical-align: middle;\n",
              "    }\n",
              "\n",
              "    .dataframe tbody tr th {\n",
              "        vertical-align: top;\n",
              "    }\n",
              "\n",
              "    .dataframe thead th {\n",
              "        text-align: right;\n",
              "    }\n",
              "</style>\n",
              "<table border=\"1\" class=\"dataframe\">\n",
              "  <thead>\n",
              "    <tr style=\"text-align: right;\">\n",
              "      <th></th>\n",
              "      <th>nome</th>\n",
              "      <th>setor</th>\n",
              "    </tr>\n",
              "  </thead>\n",
              "  <tbody>\n",
              "    <tr>\n",
              "      <th>0</th>\n",
              "      <td>RENATA</td>\n",
              "      <td>artes</td>\n",
              "    </tr>\n",
              "    <tr>\n",
              "      <th>1</th>\n",
              "      <td>VANESSA</td>\n",
              "      <td>artes</td>\n",
              "    </tr>\n",
              "    <tr>\n",
              "      <th>2</th>\n",
              "      <td>FABIA</td>\n",
              "      <td>marketing</td>\n",
              "    </tr>\n",
              "    <tr>\n",
              "      <th>3</th>\n",
              "      <td>JOAO DA SILVA</td>\n",
              "      <td>engenharia</td>\n",
              "    </tr>\n",
              "  </tbody>\n",
              "</table>\n",
              "</div>"
            ],
            "text/plain": [
              "            nome       setor\n",
              "0         RENATA       artes\n",
              "1        VANESSA       artes\n",
              "2          FABIA   marketing\n",
              "3  JOAO DA SILVA  engenharia"
            ]
          },
          "metadata": {
            "tags": []
          },
          "execution_count": 47
        }
      ]
    },
    {
      "cell_type": "code",
      "metadata": {
        "colab": {
          "base_uri": "https://localhost:8080/",
          "height": 142
        },
        "id": "LIcuCjkoFKxT",
        "outputId": "d2f7aa95-b1aa-4cd4-be46-d133fcd46a45"
      },
      "source": [
        "# agora vamos fazer o merge entre os 2 dataframes artes e dfTeste\n",
        "merge1 = pd.merge(assistentes, dfTeste)\n",
        "merge1\n",
        "# o pandas combina os 2 dataframes, mas como não definimos com qual coluna ele \n",
        "# irá fazer o merge, por default ele usou a coluna da esquerda, no caso NOME"
      ],
      "execution_count": 48,
      "outputs": [
        {
          "output_type": "execute_result",
          "data": {
            "text/html": [
              "<div>\n",
              "<style scoped>\n",
              "    .dataframe tbody tr th:only-of-type {\n",
              "        vertical-align: middle;\n",
              "    }\n",
              "\n",
              "    .dataframe tbody tr th {\n",
              "        vertical-align: top;\n",
              "    }\n",
              "\n",
              "    .dataframe thead th {\n",
              "        text-align: right;\n",
              "    }\n",
              "</style>\n",
              "<table border=\"1\" class=\"dataframe\">\n",
              "  <thead>\n",
              "    <tr style=\"text-align: right;\">\n",
              "      <th></th>\n",
              "      <th>nome</th>\n",
              "      <th>setor</th>\n",
              "      <th>idade</th>\n",
              "    </tr>\n",
              "  </thead>\n",
              "  <tbody>\n",
              "    <tr>\n",
              "      <th>0</th>\n",
              "      <td>RENATA</td>\n",
              "      <td>artes</td>\n",
              "      <td>39</td>\n",
              "    </tr>\n",
              "    <tr>\n",
              "      <th>1</th>\n",
              "      <td>VANESSA</td>\n",
              "      <td>artes</td>\n",
              "      <td>29</td>\n",
              "    </tr>\n",
              "    <tr>\n",
              "      <th>2</th>\n",
              "      <td>FABIA</td>\n",
              "      <td>marketing</td>\n",
              "      <td>49</td>\n",
              "    </tr>\n",
              "  </tbody>\n",
              "</table>\n",
              "</div>"
            ],
            "text/plain": [
              "      nome      setor  idade\n",
              "0   RENATA      artes     39\n",
              "1  VANESSA      artes     29\n",
              "2    FABIA  marketing     49"
            ]
          },
          "metadata": {
            "tags": []
          },
          "execution_count": 48
        }
      ]
    },
    {
      "cell_type": "code",
      "metadata": {
        "colab": {
          "base_uri": "https://localhost:8080/",
          "height": 173
        },
        "id": "EvOpXZ-cG56z",
        "outputId": "a12b176c-fe3e-4e4c-bad1-023a5becd499"
      },
      "source": [
        "# vamos então fazer o merge pela direita\n",
        "merge2 = pd.merge(assistentes, dfTeste, how='right')\n",
        "merge2\n",
        "# aqui vemos o JOAO DA SILVA apareceu pq fizemos pela coluna da direita (setor)\n",
        "# mas como JOAO DA SILVA não existe no dataframe assistentes, a idade dele é nua"
      ],
      "execution_count": 49,
      "outputs": [
        {
          "output_type": "execute_result",
          "data": {
            "text/html": [
              "<div>\n",
              "<style scoped>\n",
              "    .dataframe tbody tr th:only-of-type {\n",
              "        vertical-align: middle;\n",
              "    }\n",
              "\n",
              "    .dataframe tbody tr th {\n",
              "        vertical-align: top;\n",
              "    }\n",
              "\n",
              "    .dataframe thead th {\n",
              "        text-align: right;\n",
              "    }\n",
              "</style>\n",
              "<table border=\"1\" class=\"dataframe\">\n",
              "  <thead>\n",
              "    <tr style=\"text-align: right;\">\n",
              "      <th></th>\n",
              "      <th>nome</th>\n",
              "      <th>setor</th>\n",
              "      <th>idade</th>\n",
              "    </tr>\n",
              "  </thead>\n",
              "  <tbody>\n",
              "    <tr>\n",
              "      <th>0</th>\n",
              "      <td>RENATA</td>\n",
              "      <td>artes</td>\n",
              "      <td>39.0</td>\n",
              "    </tr>\n",
              "    <tr>\n",
              "      <th>1</th>\n",
              "      <td>VANESSA</td>\n",
              "      <td>artes</td>\n",
              "      <td>29.0</td>\n",
              "    </tr>\n",
              "    <tr>\n",
              "      <th>2</th>\n",
              "      <td>FABIA</td>\n",
              "      <td>marketing</td>\n",
              "      <td>49.0</td>\n",
              "    </tr>\n",
              "    <tr>\n",
              "      <th>3</th>\n",
              "      <td>JOAO DA SILVA</td>\n",
              "      <td>engenharia</td>\n",
              "      <td>NaN</td>\n",
              "    </tr>\n",
              "  </tbody>\n",
              "</table>\n",
              "</div>"
            ],
            "text/plain": [
              "            nome       setor  idade\n",
              "0         RENATA       artes   39.0\n",
              "1        VANESSA       artes   29.0\n",
              "2          FABIA   marketing   49.0\n",
              "3  JOAO DA SILVA  engenharia    NaN"
            ]
          },
          "metadata": {
            "tags": []
          },
          "execution_count": 49
        }
      ]
    },
    {
      "cell_type": "markdown",
      "metadata": {
        "id": "EczJ05_cSHkA"
      },
      "source": [
        "# **Selecionar dados do dataframe**\n",
        "\n",
        "Vamos agora utilizar algumas funções do Pandas que facilitam bastante na hora de filtrar. Usaremos o padrão pandas de consulta e também o formato query bem conhecido pelos usuários de banco de dados."
      ]
    },
    {
      "cell_type": "markdown",
      "metadata": {
        "id": "OsAZS17KLU-a"
      },
      "source": [
        "## exibir todo o dataframe"
      ]
    },
    {
      "cell_type": "code",
      "metadata": {
        "colab": {
          "base_uri": "https://localhost:8080/",
          "height": 824
        },
        "id": "S7Py3sxgSMzi",
        "outputId": "1143ae2a-80a1-4d77-e958-996de37ecc67"
      },
      "source": [
        "df"
      ],
      "execution_count": 50,
      "outputs": [
        {
          "output_type": "execute_result",
          "data": {
            "text/html": [
              "<div>\n",
              "<style scoped>\n",
              "    .dataframe tbody tr th:only-of-type {\n",
              "        vertical-align: middle;\n",
              "    }\n",
              "\n",
              "    .dataframe tbody tr th {\n",
              "        vertical-align: top;\n",
              "    }\n",
              "\n",
              "    .dataframe thead th {\n",
              "        text-align: right;\n",
              "    }\n",
              "</style>\n",
              "<table border=\"1\" class=\"dataframe\">\n",
              "  <thead>\n",
              "    <tr style=\"text-align: right;\">\n",
              "      <th></th>\n",
              "      <th>nome</th>\n",
              "      <th>sexo</th>\n",
              "      <th>setor</th>\n",
              "      <th>idade</th>\n",
              "      <th>funcao</th>\n",
              "      <th>salario</th>\n",
              "    </tr>\n",
              "  </thead>\n",
              "  <tbody>\n",
              "    <tr>\n",
              "      <th>0</th>\n",
              "      <td>ANTONIO</td>\n",
              "      <td>M</td>\n",
              "      <td>administrativo</td>\n",
              "      <td>26</td>\n",
              "      <td>Diretor</td>\n",
              "      <td>15000</td>\n",
              "    </tr>\n",
              "    <tr>\n",
              "      <th>1</th>\n",
              "      <td>GUSTAVO</td>\n",
              "      <td>M</td>\n",
              "      <td>administrativo</td>\n",
              "      <td>29</td>\n",
              "      <td>assistente</td>\n",
              "      <td>3000</td>\n",
              "    </tr>\n",
              "    <tr>\n",
              "      <th>2</th>\n",
              "      <td>NORMA</td>\n",
              "      <td>F</td>\n",
              "      <td>administrativo</td>\n",
              "      <td>49</td>\n",
              "      <td>assistente</td>\n",
              "      <td>3000</td>\n",
              "    </tr>\n",
              "    <tr>\n",
              "      <th>3</th>\n",
              "      <td>QUITERIA</td>\n",
              "      <td>F</td>\n",
              "      <td>artes</td>\n",
              "      <td>39</td>\n",
              "      <td>assistente</td>\n",
              "      <td>6000</td>\n",
              "    </tr>\n",
              "    <tr>\n",
              "      <th>4</th>\n",
              "      <td>RENATA</td>\n",
              "      <td>F</td>\n",
              "      <td>artes</td>\n",
              "      <td>39</td>\n",
              "      <td>assistente</td>\n",
              "      <td>5000</td>\n",
              "    </tr>\n",
              "    <tr>\n",
              "      <th>5</th>\n",
              "      <td>SANDRO</td>\n",
              "      <td>M</td>\n",
              "      <td>artes</td>\n",
              "      <td>48</td>\n",
              "      <td>NaN</td>\n",
              "      <td>4000</td>\n",
              "    </tr>\n",
              "    <tr>\n",
              "      <th>6</th>\n",
              "      <td>VANESSA</td>\n",
              "      <td>F</td>\n",
              "      <td>artes</td>\n",
              "      <td>29</td>\n",
              "      <td>assistente</td>\n",
              "      <td>4000</td>\n",
              "    </tr>\n",
              "    <tr>\n",
              "      <th>7</th>\n",
              "      <td>MARCOS</td>\n",
              "      <td>M</td>\n",
              "      <td>comercial</td>\n",
              "      <td>49</td>\n",
              "      <td>executivo de contas</td>\n",
              "      <td>3000</td>\n",
              "    </tr>\n",
              "    <tr>\n",
              "      <th>8</th>\n",
              "      <td>CARLA</td>\n",
              "      <td>F</td>\n",
              "      <td>comercial</td>\n",
              "      <td>22</td>\n",
              "      <td>Gerente</td>\n",
              "      <td>7000</td>\n",
              "    </tr>\n",
              "    <tr>\n",
              "      <th>9</th>\n",
              "      <td>DANIELA</td>\n",
              "      <td>F</td>\n",
              "      <td>comercial</td>\n",
              "      <td>50</td>\n",
              "      <td>executivo de contas</td>\n",
              "      <td>3000</td>\n",
              "    </tr>\n",
              "    <tr>\n",
              "      <th>10</th>\n",
              "      <td>EDUARDO</td>\n",
              "      <td>M</td>\n",
              "      <td>comercial</td>\n",
              "      <td>34</td>\n",
              "      <td>executivo de contas</td>\n",
              "      <td>3000</td>\n",
              "    </tr>\n",
              "    <tr>\n",
              "      <th>11</th>\n",
              "      <td>PETRO</td>\n",
              "      <td>M</td>\n",
              "      <td>contabilidade</td>\n",
              "      <td>18</td>\n",
              "      <td>assistente</td>\n",
              "      <td>3000</td>\n",
              "    </tr>\n",
              "    <tr>\n",
              "      <th>12</th>\n",
              "      <td>OTAVIO</td>\n",
              "      <td>M</td>\n",
              "      <td>contabilidade</td>\n",
              "      <td>47</td>\n",
              "      <td>assistente</td>\n",
              "      <td>3000</td>\n",
              "    </tr>\n",
              "    <tr>\n",
              "      <th>13</th>\n",
              "      <td>BEATRIZ</td>\n",
              "      <td>F</td>\n",
              "      <td>financeiro</td>\n",
              "      <td>33</td>\n",
              "      <td>assistente</td>\n",
              "      <td>2500</td>\n",
              "    </tr>\n",
              "    <tr>\n",
              "      <th>14</th>\n",
              "      <td>TEODORO</td>\n",
              "      <td>M</td>\n",
              "      <td>financeiro</td>\n",
              "      <td>38</td>\n",
              "      <td>assistente</td>\n",
              "      <td>2500</td>\n",
              "    </tr>\n",
              "    <tr>\n",
              "      <th>15</th>\n",
              "      <td>ZURIEL</td>\n",
              "      <td>M</td>\n",
              "      <td>financeiro</td>\n",
              "      <td>20</td>\n",
              "      <td>NaN</td>\n",
              "      <td>3000</td>\n",
              "    </tr>\n",
              "    <tr>\n",
              "      <th>16</th>\n",
              "      <td>FABIA</td>\n",
              "      <td>F</td>\n",
              "      <td>marketing</td>\n",
              "      <td>49</td>\n",
              "      <td>assistente</td>\n",
              "      <td>2500</td>\n",
              "    </tr>\n",
              "    <tr>\n",
              "      <th>17</th>\n",
              "      <td>UBALDO</td>\n",
              "      <td>M</td>\n",
              "      <td>marketing</td>\n",
              "      <td>47</td>\n",
              "      <td>assistente</td>\n",
              "      <td>2500</td>\n",
              "    </tr>\n",
              "    <tr>\n",
              "      <th>18</th>\n",
              "      <td>XAVIER</td>\n",
              "      <td>M</td>\n",
              "      <td>marketing</td>\n",
              "      <td>28</td>\n",
              "      <td>Coordenador</td>\n",
              "      <td>3500</td>\n",
              "    </tr>\n",
              "    <tr>\n",
              "      <th>19</th>\n",
              "      <td>YOLANDA</td>\n",
              "      <td>F</td>\n",
              "      <td>marketing</td>\n",
              "      <td>27</td>\n",
              "      <td>assistente</td>\n",
              "      <td>2500</td>\n",
              "    </tr>\n",
              "    <tr>\n",
              "      <th>20</th>\n",
              "      <td>HELOISA</td>\n",
              "      <td>F</td>\n",
              "      <td>tecnologia</td>\n",
              "      <td>43</td>\n",
              "      <td>Gerente</td>\n",
              "      <td>10000</td>\n",
              "    </tr>\n",
              "    <tr>\n",
              "      <th>21</th>\n",
              "      <td>ISABELLE</td>\n",
              "      <td>F</td>\n",
              "      <td>tecnologia</td>\n",
              "      <td>28</td>\n",
              "      <td>Coordenador</td>\n",
              "      <td>7500</td>\n",
              "    </tr>\n",
              "    <tr>\n",
              "      <th>22</th>\n",
              "      <td>JOANA</td>\n",
              "      <td>F</td>\n",
              "      <td>tecnologia</td>\n",
              "      <td>29</td>\n",
              "      <td>Engenheiro de Software</td>\n",
              "      <td>5000</td>\n",
              "    </tr>\n",
              "    <tr>\n",
              "      <th>23</th>\n",
              "      <td>KLAYTON</td>\n",
              "      <td>M</td>\n",
              "      <td>tecnologia</td>\n",
              "      <td>33</td>\n",
              "      <td>NaN</td>\n",
              "      <td>5000</td>\n",
              "    </tr>\n",
              "    <tr>\n",
              "      <th>24</th>\n",
              "      <td>LAURO</td>\n",
              "      <td>M</td>\n",
              "      <td>tecnologia</td>\n",
              "      <td>26</td>\n",
              "      <td>Engenheiro de Software</td>\n",
              "      <td>5000</td>\n",
              "    </tr>\n",
              "  </tbody>\n",
              "</table>\n",
              "</div>"
            ],
            "text/plain": [
              "        nome sexo           setor  idade                  funcao  salario\n",
              "0    ANTONIO    M  administrativo     26                 Diretor    15000\n",
              "1    GUSTAVO    M  administrativo     29              assistente     3000\n",
              "2      NORMA    F  administrativo     49              assistente     3000\n",
              "3   QUITERIA    F           artes     39              assistente     6000\n",
              "4     RENATA    F           artes     39              assistente     5000\n",
              "5     SANDRO    M           artes     48                     NaN     4000\n",
              "6    VANESSA    F           artes     29              assistente     4000\n",
              "7     MARCOS    M       comercial     49     executivo de contas     3000\n",
              "8      CARLA    F       comercial     22                Gerente      7000\n",
              "9    DANIELA    F       comercial     50     executivo de contas     3000\n",
              "10   EDUARDO    M       comercial     34     executivo de contas     3000\n",
              "11     PETRO    M   contabilidade     18              assistente     3000\n",
              "12    OTAVIO    M   contabilidade     47              assistente     3000\n",
              "13   BEATRIZ    F      financeiro     33              assistente     2500\n",
              "14   TEODORO    M      financeiro     38              assistente     2500\n",
              "15    ZURIEL    M      financeiro     20                     NaN     3000\n",
              "16     FABIA    F       marketing     49              assistente     2500\n",
              "17    UBALDO    M       marketing     47              assistente     2500\n",
              "18    XAVIER    M       marketing     28             Coordenador     3500\n",
              "19   YOLANDA    F       marketing     27              assistente     2500\n",
              "20   HELOISA    F      tecnologia     43                Gerente     10000\n",
              "21  ISABELLE    F      tecnologia     28             Coordenador     7500\n",
              "22     JOANA    F      tecnologia     29  Engenheiro de Software     5000\n",
              "23   KLAYTON    M      tecnologia     33                     NaN     5000\n",
              "24     LAURO    M      tecnologia     26  Engenheiro de Software     5000"
            ]
          },
          "metadata": {
            "tags": []
          },
          "execution_count": 50
        }
      ]
    },
    {
      "cell_type": "markdown",
      "metadata": {
        "id": "McIjN0LlLX2N"
      },
      "source": [
        "## filtrar dataframe"
      ]
    },
    {
      "cell_type": "markdown",
      "metadata": {
        "id": "dg4z5xftdmbT"
      },
      "source": [
        "### indexação booleana"
      ]
    },
    {
      "cell_type": "code",
      "metadata": {
        "colab": {
          "base_uri": "https://localhost:8080/",
          "height": 80
        },
        "id": "ENLpmwO9SQu0",
        "outputId": "ac1139e8-3afa-46b7-e954-cb3c6b1ad437"
      },
      "source": [
        "# listar somente pessoas que tenham a idade menor que 20\n",
        "df[df['idade'] < 20]"
      ],
      "execution_count": 51,
      "outputs": [
        {
          "output_type": "execute_result",
          "data": {
            "text/html": [
              "<div>\n",
              "<style scoped>\n",
              "    .dataframe tbody tr th:only-of-type {\n",
              "        vertical-align: middle;\n",
              "    }\n",
              "\n",
              "    .dataframe tbody tr th {\n",
              "        vertical-align: top;\n",
              "    }\n",
              "\n",
              "    .dataframe thead th {\n",
              "        text-align: right;\n",
              "    }\n",
              "</style>\n",
              "<table border=\"1\" class=\"dataframe\">\n",
              "  <thead>\n",
              "    <tr style=\"text-align: right;\">\n",
              "      <th></th>\n",
              "      <th>nome</th>\n",
              "      <th>sexo</th>\n",
              "      <th>setor</th>\n",
              "      <th>idade</th>\n",
              "      <th>funcao</th>\n",
              "      <th>salario</th>\n",
              "    </tr>\n",
              "  </thead>\n",
              "  <tbody>\n",
              "    <tr>\n",
              "      <th>11</th>\n",
              "      <td>PETRO</td>\n",
              "      <td>M</td>\n",
              "      <td>contabilidade</td>\n",
              "      <td>18</td>\n",
              "      <td>assistente</td>\n",
              "      <td>3000</td>\n",
              "    </tr>\n",
              "  </tbody>\n",
              "</table>\n",
              "</div>"
            ],
            "text/plain": [
              "     nome sexo          setor  idade      funcao  salario\n",
              "11  PETRO    M  contabilidade     18  assistente     3000"
            ]
          },
          "metadata": {
            "tags": []
          },
          "execution_count": 51
        }
      ]
    },
    {
      "cell_type": "code",
      "metadata": {
        "colab": {
          "base_uri": "https://localhost:8080/",
          "height": 111
        },
        "id": "lJK24w2sTFrh",
        "outputId": "bf280b0d-735c-4aad-e2fd-f5cd6480e888"
      },
      "source": [
        "# listar pessoas da tecnologia que tem o salário maior que 5000\n",
        "df[(df['setor'] == 'tecnologia') & (df['salario'] > 5000)]"
      ],
      "execution_count": 52,
      "outputs": [
        {
          "output_type": "execute_result",
          "data": {
            "text/html": [
              "<div>\n",
              "<style scoped>\n",
              "    .dataframe tbody tr th:only-of-type {\n",
              "        vertical-align: middle;\n",
              "    }\n",
              "\n",
              "    .dataframe tbody tr th {\n",
              "        vertical-align: top;\n",
              "    }\n",
              "\n",
              "    .dataframe thead th {\n",
              "        text-align: right;\n",
              "    }\n",
              "</style>\n",
              "<table border=\"1\" class=\"dataframe\">\n",
              "  <thead>\n",
              "    <tr style=\"text-align: right;\">\n",
              "      <th></th>\n",
              "      <th>nome</th>\n",
              "      <th>sexo</th>\n",
              "      <th>setor</th>\n",
              "      <th>idade</th>\n",
              "      <th>funcao</th>\n",
              "      <th>salario</th>\n",
              "    </tr>\n",
              "  </thead>\n",
              "  <tbody>\n",
              "    <tr>\n",
              "      <th>20</th>\n",
              "      <td>HELOISA</td>\n",
              "      <td>F</td>\n",
              "      <td>tecnologia</td>\n",
              "      <td>43</td>\n",
              "      <td>Gerente</td>\n",
              "      <td>10000</td>\n",
              "    </tr>\n",
              "    <tr>\n",
              "      <th>21</th>\n",
              "      <td>ISABELLE</td>\n",
              "      <td>F</td>\n",
              "      <td>tecnologia</td>\n",
              "      <td>28</td>\n",
              "      <td>Coordenador</td>\n",
              "      <td>7500</td>\n",
              "    </tr>\n",
              "  </tbody>\n",
              "</table>\n",
              "</div>"
            ],
            "text/plain": [
              "        nome sexo       setor  idade       funcao  salario\n",
              "20   HELOISA    F  tecnologia     43     Gerente     10000\n",
              "21  ISABELLE    F  tecnologia     28  Coordenador     7500"
            ]
          },
          "metadata": {
            "tags": []
          },
          "execution_count": 52
        }
      ]
    },
    {
      "cell_type": "code",
      "metadata": {
        "colab": {
          "base_uri": "https://localhost:8080/",
          "height": 111
        },
        "id": "-RgIq0siTlUy",
        "outputId": "583098d2-c96c-42b8-c245-e50882b9e12f"
      },
      "source": [
        "# listar somente o nome e o salário das pessoas da tecnologia que tem o salário maior que 5000\n",
        "resultado = ['nome', 'salario']\n",
        "df[(df['setor'] == 'tecnologia') & (df['salario'] > 5000)][resultado]"
      ],
      "execution_count": 53,
      "outputs": [
        {
          "output_type": "execute_result",
          "data": {
            "text/html": [
              "<div>\n",
              "<style scoped>\n",
              "    .dataframe tbody tr th:only-of-type {\n",
              "        vertical-align: middle;\n",
              "    }\n",
              "\n",
              "    .dataframe tbody tr th {\n",
              "        vertical-align: top;\n",
              "    }\n",
              "\n",
              "    .dataframe thead th {\n",
              "        text-align: right;\n",
              "    }\n",
              "</style>\n",
              "<table border=\"1\" class=\"dataframe\">\n",
              "  <thead>\n",
              "    <tr style=\"text-align: right;\">\n",
              "      <th></th>\n",
              "      <th>nome</th>\n",
              "      <th>salario</th>\n",
              "    </tr>\n",
              "  </thead>\n",
              "  <tbody>\n",
              "    <tr>\n",
              "      <th>20</th>\n",
              "      <td>HELOISA</td>\n",
              "      <td>10000</td>\n",
              "    </tr>\n",
              "    <tr>\n",
              "      <th>21</th>\n",
              "      <td>ISABELLE</td>\n",
              "      <td>7500</td>\n",
              "    </tr>\n",
              "  </tbody>\n",
              "</table>\n",
              "</div>"
            ],
            "text/plain": [
              "        nome  salario\n",
              "20   HELOISA    10000\n",
              "21  ISABELLE     7500"
            ]
          },
          "metadata": {
            "tags": []
          },
          "execution_count": 53
        }
      ]
    },
    {
      "cell_type": "markdown",
      "metadata": {
        "id": "xU-50849MPZa"
      },
      "source": [
        "### .query()"
      ]
    },
    {
      "cell_type": "code",
      "metadata": {
        "colab": {
          "base_uri": "https://localhost:8080/",
          "height": 80
        },
        "id": "nIXdUC2TS91u",
        "outputId": "ae9a0bdc-bc57-4272-e8fe-1b5b1a52c812"
      },
      "source": [
        "# ou no formato query\n",
        "df.query(\"idade < 20\")"
      ],
      "execution_count": 54,
      "outputs": [
        {
          "output_type": "execute_result",
          "data": {
            "text/html": [
              "<div>\n",
              "<style scoped>\n",
              "    .dataframe tbody tr th:only-of-type {\n",
              "        vertical-align: middle;\n",
              "    }\n",
              "\n",
              "    .dataframe tbody tr th {\n",
              "        vertical-align: top;\n",
              "    }\n",
              "\n",
              "    .dataframe thead th {\n",
              "        text-align: right;\n",
              "    }\n",
              "</style>\n",
              "<table border=\"1\" class=\"dataframe\">\n",
              "  <thead>\n",
              "    <tr style=\"text-align: right;\">\n",
              "      <th></th>\n",
              "      <th>nome</th>\n",
              "      <th>sexo</th>\n",
              "      <th>setor</th>\n",
              "      <th>idade</th>\n",
              "      <th>funcao</th>\n",
              "      <th>salario</th>\n",
              "    </tr>\n",
              "  </thead>\n",
              "  <tbody>\n",
              "    <tr>\n",
              "      <th>11</th>\n",
              "      <td>PETRO</td>\n",
              "      <td>M</td>\n",
              "      <td>contabilidade</td>\n",
              "      <td>18</td>\n",
              "      <td>assistente</td>\n",
              "      <td>3000</td>\n",
              "    </tr>\n",
              "  </tbody>\n",
              "</table>\n",
              "</div>"
            ],
            "text/plain": [
              "     nome sexo          setor  idade      funcao  salario\n",
              "11  PETRO    M  contabilidade     18  assistente     3000"
            ]
          },
          "metadata": {
            "tags": []
          },
          "execution_count": 54
        }
      ]
    },
    {
      "cell_type": "code",
      "metadata": {
        "colab": {
          "base_uri": "https://localhost:8080/",
          "height": 111
        },
        "id": "ihaKcwl0TaVR",
        "outputId": "22d922a4-7eac-4067-cbac-511707241ab2"
      },
      "source": [
        "df.query(\"setor == 'tecnologia' and salario > 5000\")"
      ],
      "execution_count": 55,
      "outputs": [
        {
          "output_type": "execute_result",
          "data": {
            "text/html": [
              "<div>\n",
              "<style scoped>\n",
              "    .dataframe tbody tr th:only-of-type {\n",
              "        vertical-align: middle;\n",
              "    }\n",
              "\n",
              "    .dataframe tbody tr th {\n",
              "        vertical-align: top;\n",
              "    }\n",
              "\n",
              "    .dataframe thead th {\n",
              "        text-align: right;\n",
              "    }\n",
              "</style>\n",
              "<table border=\"1\" class=\"dataframe\">\n",
              "  <thead>\n",
              "    <tr style=\"text-align: right;\">\n",
              "      <th></th>\n",
              "      <th>nome</th>\n",
              "      <th>sexo</th>\n",
              "      <th>setor</th>\n",
              "      <th>idade</th>\n",
              "      <th>funcao</th>\n",
              "      <th>salario</th>\n",
              "    </tr>\n",
              "  </thead>\n",
              "  <tbody>\n",
              "    <tr>\n",
              "      <th>20</th>\n",
              "      <td>HELOISA</td>\n",
              "      <td>F</td>\n",
              "      <td>tecnologia</td>\n",
              "      <td>43</td>\n",
              "      <td>Gerente</td>\n",
              "      <td>10000</td>\n",
              "    </tr>\n",
              "    <tr>\n",
              "      <th>21</th>\n",
              "      <td>ISABELLE</td>\n",
              "      <td>F</td>\n",
              "      <td>tecnologia</td>\n",
              "      <td>28</td>\n",
              "      <td>Coordenador</td>\n",
              "      <td>7500</td>\n",
              "    </tr>\n",
              "  </tbody>\n",
              "</table>\n",
              "</div>"
            ],
            "text/plain": [
              "        nome sexo       setor  idade       funcao  salario\n",
              "20   HELOISA    F  tecnologia     43     Gerente     10000\n",
              "21  ISABELLE    F  tecnologia     28  Coordenador     7500"
            ]
          },
          "metadata": {
            "tags": []
          },
          "execution_count": 55
        }
      ]
    },
    {
      "cell_type": "code",
      "metadata": {
        "colab": {
          "base_uri": "https://localhost:8080/",
          "height": 111
        },
        "id": "UHuGtH3OT1b2",
        "outputId": "f45093e6-84b0-4a36-f3c4-469a2a28a5b2"
      },
      "source": [
        "resultado = ['nome', 'salario']\n",
        "df.query(\"setor == 'tecnologia' and salario > 5000\")[resultado]"
      ],
      "execution_count": 56,
      "outputs": [
        {
          "output_type": "execute_result",
          "data": {
            "text/html": [
              "<div>\n",
              "<style scoped>\n",
              "    .dataframe tbody tr th:only-of-type {\n",
              "        vertical-align: middle;\n",
              "    }\n",
              "\n",
              "    .dataframe tbody tr th {\n",
              "        vertical-align: top;\n",
              "    }\n",
              "\n",
              "    .dataframe thead th {\n",
              "        text-align: right;\n",
              "    }\n",
              "</style>\n",
              "<table border=\"1\" class=\"dataframe\">\n",
              "  <thead>\n",
              "    <tr style=\"text-align: right;\">\n",
              "      <th></th>\n",
              "      <th>nome</th>\n",
              "      <th>salario</th>\n",
              "    </tr>\n",
              "  </thead>\n",
              "  <tbody>\n",
              "    <tr>\n",
              "      <th>20</th>\n",
              "      <td>HELOISA</td>\n",
              "      <td>10000</td>\n",
              "    </tr>\n",
              "    <tr>\n",
              "      <th>21</th>\n",
              "      <td>ISABELLE</td>\n",
              "      <td>7500</td>\n",
              "    </tr>\n",
              "  </tbody>\n",
              "</table>\n",
              "</div>"
            ],
            "text/plain": [
              "        nome  salario\n",
              "20   HELOISA    10000\n",
              "21  ISABELLE     7500"
            ]
          },
          "metadata": {
            "tags": []
          },
          "execution_count": 56
        }
      ]
    },
    {
      "cell_type": "markdown",
      "metadata": {
        "id": "OYjklGTQKa2c"
      },
      "source": [
        "## .unique()"
      ]
    },
    {
      "cell_type": "code",
      "metadata": {
        "colab": {
          "base_uri": "https://localhost:8080/"
        },
        "id": "HkPVqqLIKZds",
        "outputId": "4cf5d730-cec0-4bfa-8945-a196a19d11f5"
      },
      "source": [
        "# exibir todas as cargos (coluna funcao), de forma única, do dataframe df\n",
        "cargosUnicos = df['funcao'].unique()\n",
        "cargosUnicos"
      ],
      "execution_count": 57,
      "outputs": [
        {
          "output_type": "execute_result",
          "data": {
            "text/plain": [
              "array(['Diretor', 'assistente', nan, 'executivo de contas', 'Gerente ',\n",
              "       'Coordenador', 'Engenheiro de Software'], dtype=object)"
            ]
          },
          "metadata": {
            "tags": []
          },
          "execution_count": 57
        }
      ]
    },
    {
      "cell_type": "code",
      "metadata": {
        "colab": {
          "base_uri": "https://localhost:8080/"
        },
        "id": "XyozvoaqLJVJ",
        "outputId": "1ebf38c2-e1a9-41f4-e5e4-d8c5322f873e"
      },
      "source": [
        "# caso o interesse seja o retorno em forma de lista, usamos o .tolist()\n",
        "cargosUnicos.tolist()"
      ],
      "execution_count": 58,
      "outputs": [
        {
          "output_type": "execute_result",
          "data": {
            "text/plain": [
              "['Diretor',\n",
              " 'assistente',\n",
              " nan,\n",
              " 'executivo de contas',\n",
              " 'Gerente ',\n",
              " 'Coordenador',\n",
              " 'Engenheiro de Software']"
            ]
          },
          "metadata": {
            "tags": []
          },
          "execution_count": 58
        }
      ]
    },
    {
      "cell_type": "markdown",
      "metadata": {
        "id": "dUM9a1GwUlqd"
      },
      "source": [
        "## operações e estatísticas\n",
        "\n",
        "Não vamos explicar aqui detalhamente os operadores básicos como:\n",
        "\n",
        "*   soma, subtração, multiplicação e divisão\n",
        "*   +=, =, ==, >, <=, etc\n",
        "*   in, not in\n",
        "*   and, or, &, |, etc\n",
        "\n",
        "O Pandas oferece funções que realmente facilitam o nosso trabalho. Imagine situações onde precisamos somar todos os valores de uma coluna, ou simplesmente contar a quantidade, calcular a mediana, frequência.\n",
        "É isso que veremos agora..."
      ]
    },
    {
      "cell_type": "markdown",
      "metadata": {
        "id": "YnFupLQj1odl"
      },
      "source": [
        "### .sum()"
      ]
    },
    {
      "cell_type": "code",
      "metadata": {
        "colab": {
          "base_uri": "https://localhost:8080/"
        },
        "id": "ed8mNlqtT5sr",
        "outputId": "850921a7-d257-4305-928e-44a3e47d112a"
      },
      "source": [
        "# Somar todos os valores da coluna saláriodo dataframe df\n",
        "df['salario'].sum()"
      ],
      "execution_count": 59,
      "outputs": [
        {
          "output_type": "execute_result",
          "data": {
            "text/plain": [
              "113500"
            ]
          },
          "metadata": {
            "tags": []
          },
          "execution_count": 59
        }
      ]
    },
    {
      "cell_type": "markdown",
      "metadata": {
        "id": "MxuW4vq01xTJ"
      },
      "source": [
        "### .count()"
      ]
    },
    {
      "cell_type": "code",
      "metadata": {
        "colab": {
          "base_uri": "https://localhost:8080/"
        },
        "id": "zFxc-Rm42vzj",
        "outputId": "3a9f7775-b220-4fa7-8af2-07df3aa49cfb"
      },
      "source": [
        "# contar a quantidade de salários no dataframe\n",
        "df['salario'].count()"
      ],
      "execution_count": 60,
      "outputs": [
        {
          "output_type": "execute_result",
          "data": {
            "text/plain": [
              "25"
            ]
          },
          "metadata": {
            "tags": []
          },
          "execution_count": 60
        }
      ]
    },
    {
      "cell_type": "code",
      "metadata": {
        "colab": {
          "base_uri": "https://localhost:8080/",
          "height": 35
        },
        "id": "IWihPoLbVj86",
        "outputId": "ece2be2a-4a40-4bd1-e6a5-60010a5c3dc6"
      },
      "source": [
        "# ou poderíamos até utilizarmos recursos pra melhorar nossa resposta\n",
        "f\"O total de salários pago aos {df['salario'].count()} funcionários é de ${df['salario'].sum()}\""
      ],
      "execution_count": 61,
      "outputs": [
        {
          "output_type": "execute_result",
          "data": {
            "application/vnd.google.colaboratory.intrinsic+json": {
              "type": "string"
            },
            "text/plain": [
              "'O total de salários pago aos 25 funcionários é de $113500'"
            ]
          },
          "metadata": {
            "tags": []
          },
          "execution_count": 61
        }
      ]
    },
    {
      "cell_type": "markdown",
      "metadata": {
        "id": "_YgNP-be2mtu"
      },
      "source": [
        "### value_counts()"
      ]
    },
    {
      "cell_type": "code",
      "metadata": {
        "colab": {
          "base_uri": "https://localhost:8080/"
        },
        "id": "rjEuRZL615yL",
        "outputId": "b445acdc-4582-4ac9-9562-26bd7904dcbb"
      },
      "source": [
        "# Contar quantos registros tem cada setor do dataframe\n",
        "df['setor'].value_counts()"
      ],
      "execution_count": 62,
      "outputs": [
        {
          "output_type": "execute_result",
          "data": {
            "text/plain": [
              "tecnologia        5\n",
              "artes             4\n",
              "comercial         4\n",
              "marketing         4\n",
              "administrativo    3\n",
              "financeiro        3\n",
              "contabilidade     2\n",
              "Name: setor, dtype: int64"
            ]
          },
          "metadata": {
            "tags": []
          },
          "execution_count": 62
        }
      ]
    },
    {
      "cell_type": "markdown",
      "metadata": {
        "id": "Mo6NQcB53Lzp"
      },
      "source": [
        "### max() e min()"
      ]
    },
    {
      "cell_type": "code",
      "metadata": {
        "colab": {
          "base_uri": "https://localhost:8080/"
        },
        "id": "pr88kzA93LD6",
        "outputId": "76a8308c-cea2-442a-fdf5-4578630ce278"
      },
      "source": [
        "# Maior salário\n",
        "df['salario'].max()"
      ],
      "execution_count": 63,
      "outputs": [
        {
          "output_type": "execute_result",
          "data": {
            "text/plain": [
              "15000"
            ]
          },
          "metadata": {
            "tags": []
          },
          "execution_count": 63
        }
      ]
    },
    {
      "cell_type": "code",
      "metadata": {
        "colab": {
          "base_uri": "https://localhost:8080/"
        },
        "id": "pV8AXbHq3W3n",
        "outputId": "3a1327da-c4ca-4cd7-c383-effa2ce3f65d"
      },
      "source": [
        "# idade do funcionário mais novo\n",
        "df['idade'].min()"
      ],
      "execution_count": 64,
      "outputs": [
        {
          "output_type": "execute_result",
          "data": {
            "text/plain": [
              "18"
            ]
          },
          "metadata": {
            "tags": []
          },
          "execution_count": 64
        }
      ]
    },
    {
      "cell_type": "markdown",
      "metadata": {
        "id": "Fd0IRqxy3m_N"
      },
      "source": [
        "### mean() e median()"
      ]
    },
    {
      "cell_type": "code",
      "metadata": {
        "colab": {
          "base_uri": "https://localhost:8080/",
          "height": 204
        },
        "id": "17nKo8Y2V4TV",
        "outputId": "8e93f58c-136a-4647-c2ce-1aa5d3d16f11"
      },
      "source": [
        "# Visualizando os dados do setor de tecnologia:\n",
        "df.query(f\"setor == 'tecnologia'\")"
      ],
      "execution_count": 65,
      "outputs": [
        {
          "output_type": "execute_result",
          "data": {
            "text/html": [
              "<div>\n",
              "<style scoped>\n",
              "    .dataframe tbody tr th:only-of-type {\n",
              "        vertical-align: middle;\n",
              "    }\n",
              "\n",
              "    .dataframe tbody tr th {\n",
              "        vertical-align: top;\n",
              "    }\n",
              "\n",
              "    .dataframe thead th {\n",
              "        text-align: right;\n",
              "    }\n",
              "</style>\n",
              "<table border=\"1\" class=\"dataframe\">\n",
              "  <thead>\n",
              "    <tr style=\"text-align: right;\">\n",
              "      <th></th>\n",
              "      <th>nome</th>\n",
              "      <th>sexo</th>\n",
              "      <th>setor</th>\n",
              "      <th>idade</th>\n",
              "      <th>funcao</th>\n",
              "      <th>salario</th>\n",
              "    </tr>\n",
              "  </thead>\n",
              "  <tbody>\n",
              "    <tr>\n",
              "      <th>20</th>\n",
              "      <td>HELOISA</td>\n",
              "      <td>F</td>\n",
              "      <td>tecnologia</td>\n",
              "      <td>43</td>\n",
              "      <td>Gerente</td>\n",
              "      <td>10000</td>\n",
              "    </tr>\n",
              "    <tr>\n",
              "      <th>21</th>\n",
              "      <td>ISABELLE</td>\n",
              "      <td>F</td>\n",
              "      <td>tecnologia</td>\n",
              "      <td>28</td>\n",
              "      <td>Coordenador</td>\n",
              "      <td>7500</td>\n",
              "    </tr>\n",
              "    <tr>\n",
              "      <th>22</th>\n",
              "      <td>JOANA</td>\n",
              "      <td>F</td>\n",
              "      <td>tecnologia</td>\n",
              "      <td>29</td>\n",
              "      <td>Engenheiro de Software</td>\n",
              "      <td>5000</td>\n",
              "    </tr>\n",
              "    <tr>\n",
              "      <th>23</th>\n",
              "      <td>KLAYTON</td>\n",
              "      <td>M</td>\n",
              "      <td>tecnologia</td>\n",
              "      <td>33</td>\n",
              "      <td>NaN</td>\n",
              "      <td>5000</td>\n",
              "    </tr>\n",
              "    <tr>\n",
              "      <th>24</th>\n",
              "      <td>LAURO</td>\n",
              "      <td>M</td>\n",
              "      <td>tecnologia</td>\n",
              "      <td>26</td>\n",
              "      <td>Engenheiro de Software</td>\n",
              "      <td>5000</td>\n",
              "    </tr>\n",
              "  </tbody>\n",
              "</table>\n",
              "</div>"
            ],
            "text/plain": [
              "        nome sexo       setor  idade                  funcao  salario\n",
              "20   HELOISA    F  tecnologia     43                Gerente     10000\n",
              "21  ISABELLE    F  tecnologia     28             Coordenador     7500\n",
              "22     JOANA    F  tecnologia     29  Engenheiro de Software     5000\n",
              "23   KLAYTON    M  tecnologia     33                     NaN     5000\n",
              "24     LAURO    M  tecnologia     26  Engenheiro de Software     5000"
            ]
          },
          "metadata": {
            "tags": []
          },
          "execution_count": 65
        }
      ]
    },
    {
      "cell_type": "code",
      "metadata": {
        "colab": {
          "base_uri": "https://localhost:8080/"
        },
        "id": "hdvKR1FS3rEZ",
        "outputId": "6df4eb5e-f7c0-4899-f5ab-f91f624370d1"
      },
      "source": [
        "# Média salarial da equipe de tecnologia\n",
        "df[df['setor']==\"tecnologia\"][\"salario\"].mean()"
      ],
      "execution_count": 66,
      "outputs": [
        {
          "output_type": "execute_result",
          "data": {
            "text/plain": [
              "6500.0"
            ]
          },
          "metadata": {
            "tags": []
          },
          "execution_count": 66
        }
      ]
    },
    {
      "cell_type": "code",
      "metadata": {
        "colab": {
          "base_uri": "https://localhost:8080/"
        },
        "id": "txQBBvtz4CcL",
        "outputId": "629cc787-848d-43ce-d8f9-59598b3d484c"
      },
      "source": [
        "# Calcular a mediana salarial da equipe de tecnologia\n",
        "df[df['setor']==\"tecnologia\"][\"salario\"].median()"
      ],
      "execution_count": 67,
      "outputs": [
        {
          "output_type": "execute_result",
          "data": {
            "text/plain": [
              "5000.0"
            ]
          },
          "metadata": {
            "tags": []
          },
          "execution_count": 67
        }
      ]
    },
    {
      "cell_type": "markdown",
      "metadata": {
        "id": "z8bKe6ft5gDi"
      },
      "source": [
        "### describe()\n",
        "\n",
        "Esta função exibe, de forma simples, estatísticas descritivas das variáveis: a quantidade de valores, a média, o desvio padrão, o valor mínimo, os quartis da distribuição e o valor máximo. Quando o valor é categórico (não numérico), nem todas as informações acimas poderão ser exibidas por simplesmente não possuir valores numéricos."
      ]
    },
    {
      "cell_type": "code",
      "metadata": {
        "colab": {
          "base_uri": "https://localhost:8080/",
          "height": 297
        },
        "id": "YQIsisLf5mLv",
        "outputId": "7851ce1e-e688-41c7-9534-620ae12fdef6"
      },
      "source": [
        "df.describe()\n",
        "# veja abaixo que ele retornou somente de 2 colunas pois somente elas são numéricas"
      ],
      "execution_count": 68,
      "outputs": [
        {
          "output_type": "execute_result",
          "data": {
            "text/html": [
              "<div>\n",
              "<style scoped>\n",
              "    .dataframe tbody tr th:only-of-type {\n",
              "        vertical-align: middle;\n",
              "    }\n",
              "\n",
              "    .dataframe tbody tr th {\n",
              "        vertical-align: top;\n",
              "    }\n",
              "\n",
              "    .dataframe thead th {\n",
              "        text-align: right;\n",
              "    }\n",
              "</style>\n",
              "<table border=\"1\" class=\"dataframe\">\n",
              "  <thead>\n",
              "    <tr style=\"text-align: right;\">\n",
              "      <th></th>\n",
              "      <th>idade</th>\n",
              "      <th>salario</th>\n",
              "    </tr>\n",
              "  </thead>\n",
              "  <tbody>\n",
              "    <tr>\n",
              "      <th>count</th>\n",
              "      <td>25.000000</td>\n",
              "      <td>25.000000</td>\n",
              "    </tr>\n",
              "    <tr>\n",
              "      <th>mean</th>\n",
              "      <td>35.200000</td>\n",
              "      <td>4540.000000</td>\n",
              "    </tr>\n",
              "    <tr>\n",
              "      <th>std</th>\n",
              "      <td>10.202124</td>\n",
              "      <td>2875.615876</td>\n",
              "    </tr>\n",
              "    <tr>\n",
              "      <th>min</th>\n",
              "      <td>18.000000</td>\n",
              "      <td>2500.000000</td>\n",
              "    </tr>\n",
              "    <tr>\n",
              "      <th>25%</th>\n",
              "      <td>28.000000</td>\n",
              "      <td>3000.000000</td>\n",
              "    </tr>\n",
              "    <tr>\n",
              "      <th>50%</th>\n",
              "      <td>33.000000</td>\n",
              "      <td>3000.000000</td>\n",
              "    </tr>\n",
              "    <tr>\n",
              "      <th>75%</th>\n",
              "      <td>47.000000</td>\n",
              "      <td>5000.000000</td>\n",
              "    </tr>\n",
              "    <tr>\n",
              "      <th>max</th>\n",
              "      <td>50.000000</td>\n",
              "      <td>15000.000000</td>\n",
              "    </tr>\n",
              "  </tbody>\n",
              "</table>\n",
              "</div>"
            ],
            "text/plain": [
              "           idade       salario\n",
              "count  25.000000     25.000000\n",
              "mean   35.200000   4540.000000\n",
              "std    10.202124   2875.615876\n",
              "min    18.000000   2500.000000\n",
              "25%    28.000000   3000.000000\n",
              "50%    33.000000   3000.000000\n",
              "75%    47.000000   5000.000000\n",
              "max    50.000000  15000.000000"
            ]
          },
          "metadata": {
            "tags": []
          },
          "execution_count": 68
        }
      ]
    },
    {
      "cell_type": "code",
      "metadata": {
        "colab": {
          "base_uri": "https://localhost:8080/",
          "height": 173
        },
        "id": "QkGf0NtuNyBL",
        "outputId": "a0d75a71-ad22-4eb1-c855-82baf3aeef3e"
      },
      "source": [
        "# aqui eu forcei a função describe trazer dados estatísticos das colunas não numéricas\n",
        "df.describe(exclude='number')"
      ],
      "execution_count": 69,
      "outputs": [
        {
          "output_type": "execute_result",
          "data": {
            "text/html": [
              "<div>\n",
              "<style scoped>\n",
              "    .dataframe tbody tr th:only-of-type {\n",
              "        vertical-align: middle;\n",
              "    }\n",
              "\n",
              "    .dataframe tbody tr th {\n",
              "        vertical-align: top;\n",
              "    }\n",
              "\n",
              "    .dataframe thead th {\n",
              "        text-align: right;\n",
              "    }\n",
              "</style>\n",
              "<table border=\"1\" class=\"dataframe\">\n",
              "  <thead>\n",
              "    <tr style=\"text-align: right;\">\n",
              "      <th></th>\n",
              "      <th>nome</th>\n",
              "      <th>sexo</th>\n",
              "      <th>setor</th>\n",
              "      <th>funcao</th>\n",
              "    </tr>\n",
              "  </thead>\n",
              "  <tbody>\n",
              "    <tr>\n",
              "      <th>count</th>\n",
              "      <td>25</td>\n",
              "      <td>25</td>\n",
              "      <td>25</td>\n",
              "      <td>22</td>\n",
              "    </tr>\n",
              "    <tr>\n",
              "      <th>unique</th>\n",
              "      <td>25</td>\n",
              "      <td>2</td>\n",
              "      <td>7</td>\n",
              "      <td>6</td>\n",
              "    </tr>\n",
              "    <tr>\n",
              "      <th>top</th>\n",
              "      <td>UBALDO</td>\n",
              "      <td>M</td>\n",
              "      <td>tecnologia</td>\n",
              "      <td>assistente</td>\n",
              "    </tr>\n",
              "    <tr>\n",
              "      <th>freq</th>\n",
              "      <td>1</td>\n",
              "      <td>13</td>\n",
              "      <td>5</td>\n",
              "      <td>12</td>\n",
              "    </tr>\n",
              "  </tbody>\n",
              "</table>\n",
              "</div>"
            ],
            "text/plain": [
              "          nome sexo       setor      funcao\n",
              "count       25   25          25          22\n",
              "unique      25    2           7           6\n",
              "top     UBALDO    M  tecnologia  assistente\n",
              "freq         1   13           5          12"
            ]
          },
          "metadata": {
            "tags": []
          },
          "execution_count": 69
        }
      ]
    },
    {
      "cell_type": "code",
      "metadata": {
        "colab": {
          "base_uri": "https://localhost:8080/"
        },
        "id": "Uuk4hamb7-ui",
        "outputId": "ac78c7ac-6e18-402c-85bd-f0df0f2e123e"
      },
      "source": [
        "# ou somente de uma coluna\n",
        "df['funcao'].describe()\n",
        "# existem 22 itens, sendo 6 únicos, o valor mais frequente é \"assistente\" (12x)\n"
      ],
      "execution_count": 70,
      "outputs": [
        {
          "output_type": "execute_result",
          "data": {
            "text/plain": [
              "count             22\n",
              "unique             6\n",
              "top       assistente\n",
              "freq              12\n",
              "Name: funcao, dtype: object"
            ]
          },
          "metadata": {
            "tags": []
          },
          "execution_count": 70
        }
      ]
    },
    {
      "cell_type": "markdown",
      "metadata": {
        "id": "2fPaPoD4Offr"
      },
      "source": [
        "Acredito que vocês notaram que a coluna **função** retornou somente 22 linhas ao contrário das outras e o motivo é que ela contém valores nulos NaN e a função describe não retorna dados estatísticos quando há esse tipo de valor.\n"
      ]
    },
    {
      "cell_type": "markdown",
      "metadata": {
        "id": "g1eCd5KtOzC_"
      },
      "source": [
        "## .isnull()\n",
        "\n",
        "Para listar as linhas de um dataframe que possuem valores nulos é só utilizar a função .isnull()"
      ]
    },
    {
      "cell_type": "code",
      "metadata": {
        "colab": {
          "base_uri": "https://localhost:8080/",
          "height": 142
        },
        "id": "eDD7RITf-HUZ",
        "outputId": "78c6452a-98c1-4a38-db8e-97bcd94d6c45"
      },
      "source": [
        "df[df['funcao'].isnull()]"
      ],
      "execution_count": 71,
      "outputs": [
        {
          "output_type": "execute_result",
          "data": {
            "text/html": [
              "<div>\n",
              "<style scoped>\n",
              "    .dataframe tbody tr th:only-of-type {\n",
              "        vertical-align: middle;\n",
              "    }\n",
              "\n",
              "    .dataframe tbody tr th {\n",
              "        vertical-align: top;\n",
              "    }\n",
              "\n",
              "    .dataframe thead th {\n",
              "        text-align: right;\n",
              "    }\n",
              "</style>\n",
              "<table border=\"1\" class=\"dataframe\">\n",
              "  <thead>\n",
              "    <tr style=\"text-align: right;\">\n",
              "      <th></th>\n",
              "      <th>nome</th>\n",
              "      <th>sexo</th>\n",
              "      <th>setor</th>\n",
              "      <th>idade</th>\n",
              "      <th>funcao</th>\n",
              "      <th>salario</th>\n",
              "    </tr>\n",
              "  </thead>\n",
              "  <tbody>\n",
              "    <tr>\n",
              "      <th>5</th>\n",
              "      <td>SANDRO</td>\n",
              "      <td>M</td>\n",
              "      <td>artes</td>\n",
              "      <td>48</td>\n",
              "      <td>NaN</td>\n",
              "      <td>4000</td>\n",
              "    </tr>\n",
              "    <tr>\n",
              "      <th>15</th>\n",
              "      <td>ZURIEL</td>\n",
              "      <td>M</td>\n",
              "      <td>financeiro</td>\n",
              "      <td>20</td>\n",
              "      <td>NaN</td>\n",
              "      <td>3000</td>\n",
              "    </tr>\n",
              "    <tr>\n",
              "      <th>23</th>\n",
              "      <td>KLAYTON</td>\n",
              "      <td>M</td>\n",
              "      <td>tecnologia</td>\n",
              "      <td>33</td>\n",
              "      <td>NaN</td>\n",
              "      <td>5000</td>\n",
              "    </tr>\n",
              "  </tbody>\n",
              "</table>\n",
              "</div>"
            ],
            "text/plain": [
              "       nome sexo       setor  idade funcao  salario\n",
              "5    SANDRO    M       artes     48    NaN     4000\n",
              "15   ZURIEL    M  financeiro     20    NaN     3000\n",
              "23  KLAYTON    M  tecnologia     33    NaN     5000"
            ]
          },
          "metadata": {
            "tags": []
          },
          "execution_count": 71
        }
      ]
    },
    {
      "cell_type": "markdown",
      "metadata": {
        "id": "4rFIAoRN0yY7"
      },
      "source": [
        "## groupby() \n",
        "Agrupar por colunas"
      ]
    },
    {
      "cell_type": "code",
      "metadata": {
        "colab": {
          "base_uri": "https://localhost:8080/",
          "height": 297
        },
        "id": "ndVxG7ROZGJP",
        "outputId": "08b6b348-f7a1-4b61-d5b2-de038a48610b"
      },
      "source": [
        "# mas e se eu quero a somatória dos salários por setor?\n",
        "# novamente o pandas vai nos ajudar bastante. \n",
        "# A variavel grupo representa a coluna que será agrupada\n",
        "# A variavel resultado define quais colunas sofrerão o agrupamento\n",
        "grupo = 'setor'\n",
        "resultado = ['setor', 'salario']\n",
        "salario_setor = df[resultado].groupby(grupo).sum()\n",
        "salario_setor"
      ],
      "execution_count": 72,
      "outputs": [
        {
          "output_type": "execute_result",
          "data": {
            "text/html": [
              "<div>\n",
              "<style scoped>\n",
              "    .dataframe tbody tr th:only-of-type {\n",
              "        vertical-align: middle;\n",
              "    }\n",
              "\n",
              "    .dataframe tbody tr th {\n",
              "        vertical-align: top;\n",
              "    }\n",
              "\n",
              "    .dataframe thead th {\n",
              "        text-align: right;\n",
              "    }\n",
              "</style>\n",
              "<table border=\"1\" class=\"dataframe\">\n",
              "  <thead>\n",
              "    <tr style=\"text-align: right;\">\n",
              "      <th></th>\n",
              "      <th>salario</th>\n",
              "    </tr>\n",
              "    <tr>\n",
              "      <th>setor</th>\n",
              "      <th></th>\n",
              "    </tr>\n",
              "  </thead>\n",
              "  <tbody>\n",
              "    <tr>\n",
              "      <th>administrativo</th>\n",
              "      <td>21000</td>\n",
              "    </tr>\n",
              "    <tr>\n",
              "      <th>artes</th>\n",
              "      <td>19000</td>\n",
              "    </tr>\n",
              "    <tr>\n",
              "      <th>comercial</th>\n",
              "      <td>16000</td>\n",
              "    </tr>\n",
              "    <tr>\n",
              "      <th>contabilidade</th>\n",
              "      <td>6000</td>\n",
              "    </tr>\n",
              "    <tr>\n",
              "      <th>financeiro</th>\n",
              "      <td>8000</td>\n",
              "    </tr>\n",
              "    <tr>\n",
              "      <th>marketing</th>\n",
              "      <td>11000</td>\n",
              "    </tr>\n",
              "    <tr>\n",
              "      <th>tecnologia</th>\n",
              "      <td>32500</td>\n",
              "    </tr>\n",
              "  </tbody>\n",
              "</table>\n",
              "</div>"
            ],
            "text/plain": [
              "                salario\n",
              "setor                  \n",
              "administrativo    21000\n",
              "artes             19000\n",
              "comercial         16000\n",
              "contabilidade      6000\n",
              "financeiro         8000\n",
              "marketing         11000\n",
              "tecnologia        32500"
            ]
          },
          "metadata": {
            "tags": []
          },
          "execution_count": 72
        }
      ]
    },
    {
      "cell_type": "code",
      "metadata": {
        "colab": {
          "base_uri": "https://localhost:8080/",
          "height": 452
        },
        "id": "rEYsor5KAKgx",
        "outputId": "a763e1d8-e2a8-4ddb-e70c-a30ab3f46a6d"
      },
      "source": [
        "# podemos inclusive agrupar com mais colunas. Vamos retornar o mesmo resultado\n",
        "# porém eu quero por setor e funcao\n",
        "grupo = ['setor', 'funcao']\n",
        "resultado = ['setor', 'funcao', 'salario']\n",
        "salarios_setor_funcao = df[resultado].groupby(grupo).sum()\n",
        "# somente como exemplo, adicionei .sort_values(by='salario', ascending=False) \n",
        "# abaixo, mas poderia ter sido feito na linha acima\n",
        "salarios_setor_funcao"
      ],
      "execution_count": 73,
      "outputs": [
        {
          "output_type": "execute_result",
          "data": {
            "text/html": [
              "<div>\n",
              "<style scoped>\n",
              "    .dataframe tbody tr th:only-of-type {\n",
              "        vertical-align: middle;\n",
              "    }\n",
              "\n",
              "    .dataframe tbody tr th {\n",
              "        vertical-align: top;\n",
              "    }\n",
              "\n",
              "    .dataframe thead th {\n",
              "        text-align: right;\n",
              "    }\n",
              "</style>\n",
              "<table border=\"1\" class=\"dataframe\">\n",
              "  <thead>\n",
              "    <tr style=\"text-align: right;\">\n",
              "      <th></th>\n",
              "      <th></th>\n",
              "      <th>salario</th>\n",
              "    </tr>\n",
              "    <tr>\n",
              "      <th>setor</th>\n",
              "      <th>funcao</th>\n",
              "      <th></th>\n",
              "    </tr>\n",
              "  </thead>\n",
              "  <tbody>\n",
              "    <tr>\n",
              "      <th rowspan=\"2\" valign=\"top\">administrativo</th>\n",
              "      <th>Diretor</th>\n",
              "      <td>15000</td>\n",
              "    </tr>\n",
              "    <tr>\n",
              "      <th>assistente</th>\n",
              "      <td>6000</td>\n",
              "    </tr>\n",
              "    <tr>\n",
              "      <th>artes</th>\n",
              "      <th>assistente</th>\n",
              "      <td>15000</td>\n",
              "    </tr>\n",
              "    <tr>\n",
              "      <th rowspan=\"2\" valign=\"top\">comercial</th>\n",
              "      <th>Gerente</th>\n",
              "      <td>7000</td>\n",
              "    </tr>\n",
              "    <tr>\n",
              "      <th>executivo de contas</th>\n",
              "      <td>9000</td>\n",
              "    </tr>\n",
              "    <tr>\n",
              "      <th>contabilidade</th>\n",
              "      <th>assistente</th>\n",
              "      <td>6000</td>\n",
              "    </tr>\n",
              "    <tr>\n",
              "      <th>financeiro</th>\n",
              "      <th>assistente</th>\n",
              "      <td>5000</td>\n",
              "    </tr>\n",
              "    <tr>\n",
              "      <th rowspan=\"2\" valign=\"top\">marketing</th>\n",
              "      <th>Coordenador</th>\n",
              "      <td>3500</td>\n",
              "    </tr>\n",
              "    <tr>\n",
              "      <th>assistente</th>\n",
              "      <td>7500</td>\n",
              "    </tr>\n",
              "    <tr>\n",
              "      <th rowspan=\"3\" valign=\"top\">tecnologia</th>\n",
              "      <th>Coordenador</th>\n",
              "      <td>7500</td>\n",
              "    </tr>\n",
              "    <tr>\n",
              "      <th>Engenheiro de Software</th>\n",
              "      <td>10000</td>\n",
              "    </tr>\n",
              "    <tr>\n",
              "      <th>Gerente</th>\n",
              "      <td>10000</td>\n",
              "    </tr>\n",
              "  </tbody>\n",
              "</table>\n",
              "</div>"
            ],
            "text/plain": [
              "                                       salario\n",
              "setor          funcao                         \n",
              "administrativo Diretor                   15000\n",
              "               assistente                 6000\n",
              "artes          assistente                15000\n",
              "comercial      Gerente                    7000\n",
              "               executivo de contas        9000\n",
              "contabilidade  assistente                 6000\n",
              "financeiro     assistente                 5000\n",
              "marketing      Coordenador                3500\n",
              "               assistente                 7500\n",
              "tecnologia     Coordenador                7500\n",
              "               Engenheiro de Software    10000\n",
              "               Gerente                   10000"
            ]
          },
          "metadata": {
            "tags": []
          },
          "execution_count": 73
        }
      ]
    },
    {
      "cell_type": "markdown",
      "metadata": {
        "id": "sBDqJoc-yBjd"
      },
      "source": [
        "## ordenar dados"
      ]
    },
    {
      "cell_type": "markdown",
      "metadata": {
        "id": "aTrTTMi8SFB5"
      },
      "source": [
        "### sort_values() "
      ]
    },
    {
      "cell_type": "code",
      "metadata": {
        "colab": {
          "base_uri": "https://localhost:8080/",
          "height": 297
        },
        "id": "mQwAlHuuZpbK",
        "outputId": "5ef9dcdb-d7ea-43aa-d182-47b03311539c"
      },
      "source": [
        "# para ordenar o salario de forma decrescente (do maior para o menor)\n",
        "# utilizaremos a função .sort_values()\n",
        "salario_setor.sort_values(by='salario', ascending=False)"
      ],
      "execution_count": 74,
      "outputs": [
        {
          "output_type": "execute_result",
          "data": {
            "text/html": [
              "<div>\n",
              "<style scoped>\n",
              "    .dataframe tbody tr th:only-of-type {\n",
              "        vertical-align: middle;\n",
              "    }\n",
              "\n",
              "    .dataframe tbody tr th {\n",
              "        vertical-align: top;\n",
              "    }\n",
              "\n",
              "    .dataframe thead th {\n",
              "        text-align: right;\n",
              "    }\n",
              "</style>\n",
              "<table border=\"1\" class=\"dataframe\">\n",
              "  <thead>\n",
              "    <tr style=\"text-align: right;\">\n",
              "      <th></th>\n",
              "      <th>salario</th>\n",
              "    </tr>\n",
              "    <tr>\n",
              "      <th>setor</th>\n",
              "      <th></th>\n",
              "    </tr>\n",
              "  </thead>\n",
              "  <tbody>\n",
              "    <tr>\n",
              "      <th>tecnologia</th>\n",
              "      <td>32500</td>\n",
              "    </tr>\n",
              "    <tr>\n",
              "      <th>administrativo</th>\n",
              "      <td>21000</td>\n",
              "    </tr>\n",
              "    <tr>\n",
              "      <th>artes</th>\n",
              "      <td>19000</td>\n",
              "    </tr>\n",
              "    <tr>\n",
              "      <th>comercial</th>\n",
              "      <td>16000</td>\n",
              "    </tr>\n",
              "    <tr>\n",
              "      <th>marketing</th>\n",
              "      <td>11000</td>\n",
              "    </tr>\n",
              "    <tr>\n",
              "      <th>financeiro</th>\n",
              "      <td>8000</td>\n",
              "    </tr>\n",
              "    <tr>\n",
              "      <th>contabilidade</th>\n",
              "      <td>6000</td>\n",
              "    </tr>\n",
              "  </tbody>\n",
              "</table>\n",
              "</div>"
            ],
            "text/plain": [
              "                salario\n",
              "setor                  \n",
              "tecnologia        32500\n",
              "administrativo    21000\n",
              "artes             19000\n",
              "comercial         16000\n",
              "marketing         11000\n",
              "financeiro         8000\n",
              "contabilidade      6000"
            ]
          },
          "metadata": {
            "tags": []
          },
          "execution_count": 74
        }
      ]
    },
    {
      "cell_type": "code",
      "metadata": {
        "colab": {
          "base_uri": "https://localhost:8080/",
          "height": 452
        },
        "id": "waA7XIpZaNIq",
        "outputId": "4e0bd83c-6c10-4801-d0a9-d642fad9aa5f"
      },
      "source": [
        "salarios_setor_funcao.sort_values(by='salario', ascending=False)"
      ],
      "execution_count": 75,
      "outputs": [
        {
          "output_type": "execute_result",
          "data": {
            "text/html": [
              "<div>\n",
              "<style scoped>\n",
              "    .dataframe tbody tr th:only-of-type {\n",
              "        vertical-align: middle;\n",
              "    }\n",
              "\n",
              "    .dataframe tbody tr th {\n",
              "        vertical-align: top;\n",
              "    }\n",
              "\n",
              "    .dataframe thead th {\n",
              "        text-align: right;\n",
              "    }\n",
              "</style>\n",
              "<table border=\"1\" class=\"dataframe\">\n",
              "  <thead>\n",
              "    <tr style=\"text-align: right;\">\n",
              "      <th></th>\n",
              "      <th></th>\n",
              "      <th>salario</th>\n",
              "    </tr>\n",
              "    <tr>\n",
              "      <th>setor</th>\n",
              "      <th>funcao</th>\n",
              "      <th></th>\n",
              "    </tr>\n",
              "  </thead>\n",
              "  <tbody>\n",
              "    <tr>\n",
              "      <th>administrativo</th>\n",
              "      <th>Diretor</th>\n",
              "      <td>15000</td>\n",
              "    </tr>\n",
              "    <tr>\n",
              "      <th>artes</th>\n",
              "      <th>assistente</th>\n",
              "      <td>15000</td>\n",
              "    </tr>\n",
              "    <tr>\n",
              "      <th rowspan=\"2\" valign=\"top\">tecnologia</th>\n",
              "      <th>Engenheiro de Software</th>\n",
              "      <td>10000</td>\n",
              "    </tr>\n",
              "    <tr>\n",
              "      <th>Gerente</th>\n",
              "      <td>10000</td>\n",
              "    </tr>\n",
              "    <tr>\n",
              "      <th>comercial</th>\n",
              "      <th>executivo de contas</th>\n",
              "      <td>9000</td>\n",
              "    </tr>\n",
              "    <tr>\n",
              "      <th>marketing</th>\n",
              "      <th>assistente</th>\n",
              "      <td>7500</td>\n",
              "    </tr>\n",
              "    <tr>\n",
              "      <th>tecnologia</th>\n",
              "      <th>Coordenador</th>\n",
              "      <td>7500</td>\n",
              "    </tr>\n",
              "    <tr>\n",
              "      <th>comercial</th>\n",
              "      <th>Gerente</th>\n",
              "      <td>7000</td>\n",
              "    </tr>\n",
              "    <tr>\n",
              "      <th>administrativo</th>\n",
              "      <th>assistente</th>\n",
              "      <td>6000</td>\n",
              "    </tr>\n",
              "    <tr>\n",
              "      <th>contabilidade</th>\n",
              "      <th>assistente</th>\n",
              "      <td>6000</td>\n",
              "    </tr>\n",
              "    <tr>\n",
              "      <th>financeiro</th>\n",
              "      <th>assistente</th>\n",
              "      <td>5000</td>\n",
              "    </tr>\n",
              "    <tr>\n",
              "      <th>marketing</th>\n",
              "      <th>Coordenador</th>\n",
              "      <td>3500</td>\n",
              "    </tr>\n",
              "  </tbody>\n",
              "</table>\n",
              "</div>"
            ],
            "text/plain": [
              "                                       salario\n",
              "setor          funcao                         \n",
              "administrativo Diretor                   15000\n",
              "artes          assistente                15000\n",
              "tecnologia     Engenheiro de Software    10000\n",
              "               Gerente                   10000\n",
              "comercial      executivo de contas        9000\n",
              "marketing      assistente                 7500\n",
              "tecnologia     Coordenador                7500\n",
              "comercial      Gerente                    7000\n",
              "administrativo assistente                 6000\n",
              "contabilidade  assistente                 6000\n",
              "financeiro     assistente                 5000\n",
              "marketing      Coordenador                3500"
            ]
          },
          "metadata": {
            "tags": []
          },
          "execution_count": 75
        }
      ]
    },
    {
      "cell_type": "markdown",
      "metadata": {
        "id": "S-s3rbz2SIeT"
      },
      "source": [
        "### nlargest()"
      ]
    },
    {
      "cell_type": "code",
      "metadata": {
        "colab": {
          "base_uri": "https://localhost:8080/",
          "height": 452
        },
        "id": "C1Icly3RyVVu",
        "outputId": "0ede4f77-793f-475e-8c92-96c43b6e0d13"
      },
      "source": [
        "# abaixo, segue a função .nlargest(qtde-de-linhas, coluna) p/ ordenar de forma \n",
        "# descendente. Usei a funçao len(objeto) para pegar o total de linhas do dataframe\n",
        "salarios_setor_funcao.nlargest(len(salarios_setor_funcao), columns='salario')"
      ],
      "execution_count": 76,
      "outputs": [
        {
          "output_type": "execute_result",
          "data": {
            "text/html": [
              "<div>\n",
              "<style scoped>\n",
              "    .dataframe tbody tr th:only-of-type {\n",
              "        vertical-align: middle;\n",
              "    }\n",
              "\n",
              "    .dataframe tbody tr th {\n",
              "        vertical-align: top;\n",
              "    }\n",
              "\n",
              "    .dataframe thead th {\n",
              "        text-align: right;\n",
              "    }\n",
              "</style>\n",
              "<table border=\"1\" class=\"dataframe\">\n",
              "  <thead>\n",
              "    <tr style=\"text-align: right;\">\n",
              "      <th></th>\n",
              "      <th></th>\n",
              "      <th>salario</th>\n",
              "    </tr>\n",
              "    <tr>\n",
              "      <th>setor</th>\n",
              "      <th>funcao</th>\n",
              "      <th></th>\n",
              "    </tr>\n",
              "  </thead>\n",
              "  <tbody>\n",
              "    <tr>\n",
              "      <th>administrativo</th>\n",
              "      <th>Diretor</th>\n",
              "      <td>15000</td>\n",
              "    </tr>\n",
              "    <tr>\n",
              "      <th>artes</th>\n",
              "      <th>assistente</th>\n",
              "      <td>15000</td>\n",
              "    </tr>\n",
              "    <tr>\n",
              "      <th rowspan=\"2\" valign=\"top\">tecnologia</th>\n",
              "      <th>Engenheiro de Software</th>\n",
              "      <td>10000</td>\n",
              "    </tr>\n",
              "    <tr>\n",
              "      <th>Gerente</th>\n",
              "      <td>10000</td>\n",
              "    </tr>\n",
              "    <tr>\n",
              "      <th>comercial</th>\n",
              "      <th>executivo de contas</th>\n",
              "      <td>9000</td>\n",
              "    </tr>\n",
              "    <tr>\n",
              "      <th>marketing</th>\n",
              "      <th>assistente</th>\n",
              "      <td>7500</td>\n",
              "    </tr>\n",
              "    <tr>\n",
              "      <th>tecnologia</th>\n",
              "      <th>Coordenador</th>\n",
              "      <td>7500</td>\n",
              "    </tr>\n",
              "    <tr>\n",
              "      <th>comercial</th>\n",
              "      <th>Gerente</th>\n",
              "      <td>7000</td>\n",
              "    </tr>\n",
              "    <tr>\n",
              "      <th>administrativo</th>\n",
              "      <th>assistente</th>\n",
              "      <td>6000</td>\n",
              "    </tr>\n",
              "    <tr>\n",
              "      <th>contabilidade</th>\n",
              "      <th>assistente</th>\n",
              "      <td>6000</td>\n",
              "    </tr>\n",
              "    <tr>\n",
              "      <th>financeiro</th>\n",
              "      <th>assistente</th>\n",
              "      <td>5000</td>\n",
              "    </tr>\n",
              "    <tr>\n",
              "      <th>marketing</th>\n",
              "      <th>Coordenador</th>\n",
              "      <td>3500</td>\n",
              "    </tr>\n",
              "  </tbody>\n",
              "</table>\n",
              "</div>"
            ],
            "text/plain": [
              "                                       salario\n",
              "setor          funcao                         \n",
              "administrativo Diretor                   15000\n",
              "artes          assistente                15000\n",
              "tecnologia     Engenheiro de Software    10000\n",
              "               Gerente                   10000\n",
              "comercial      executivo de contas        9000\n",
              "marketing      assistente                 7500\n",
              "tecnologia     Coordenador                7500\n",
              "comercial      Gerente                    7000\n",
              "administrativo assistente                 6000\n",
              "contabilidade  assistente                 6000\n",
              "financeiro     assistente                 5000\n",
              "marketing      Coordenador                3500"
            ]
          },
          "metadata": {
            "tags": []
          },
          "execution_count": 76
        }
      ]
    },
    {
      "cell_type": "markdown",
      "metadata": {
        "id": "2u2q1aDaSO8z"
      },
      "source": [
        "### nsmallest()"
      ]
    },
    {
      "cell_type": "code",
      "metadata": {
        "colab": {
          "base_uri": "https://localhost:8080/",
          "height": 235
        },
        "id": "8cObVrHayVHl",
        "outputId": "958d23ca-2725-4955-a467-651484b49149"
      },
      "source": [
        "# abaixo, segue função .nsmallest p/ ordenar de forma ascendente\n",
        "# abaixo, estou retornando os 5 menores valores\n",
        "salarios_setor_funcao.nsmallest(5, columns='salario')"
      ],
      "execution_count": 77,
      "outputs": [
        {
          "output_type": "execute_result",
          "data": {
            "text/html": [
              "<div>\n",
              "<style scoped>\n",
              "    .dataframe tbody tr th:only-of-type {\n",
              "        vertical-align: middle;\n",
              "    }\n",
              "\n",
              "    .dataframe tbody tr th {\n",
              "        vertical-align: top;\n",
              "    }\n",
              "\n",
              "    .dataframe thead th {\n",
              "        text-align: right;\n",
              "    }\n",
              "</style>\n",
              "<table border=\"1\" class=\"dataframe\">\n",
              "  <thead>\n",
              "    <tr style=\"text-align: right;\">\n",
              "      <th></th>\n",
              "      <th></th>\n",
              "      <th>salario</th>\n",
              "    </tr>\n",
              "    <tr>\n",
              "      <th>setor</th>\n",
              "      <th>funcao</th>\n",
              "      <th></th>\n",
              "    </tr>\n",
              "  </thead>\n",
              "  <tbody>\n",
              "    <tr>\n",
              "      <th>marketing</th>\n",
              "      <th>Coordenador</th>\n",
              "      <td>3500</td>\n",
              "    </tr>\n",
              "    <tr>\n",
              "      <th>financeiro</th>\n",
              "      <th>assistente</th>\n",
              "      <td>5000</td>\n",
              "    </tr>\n",
              "    <tr>\n",
              "      <th>administrativo</th>\n",
              "      <th>assistente</th>\n",
              "      <td>6000</td>\n",
              "    </tr>\n",
              "    <tr>\n",
              "      <th>contabilidade</th>\n",
              "      <th>assistente</th>\n",
              "      <td>6000</td>\n",
              "    </tr>\n",
              "    <tr>\n",
              "      <th>comercial</th>\n",
              "      <th>Gerente</th>\n",
              "      <td>7000</td>\n",
              "    </tr>\n",
              "  </tbody>\n",
              "</table>\n",
              "</div>"
            ],
            "text/plain": [
              "                            salario\n",
              "setor          funcao              \n",
              "marketing      Coordenador     3500\n",
              "financeiro     assistente      5000\n",
              "administrativo assistente      6000\n",
              "contabilidade  assistente      6000\n",
              "comercial      Gerente         7000"
            ]
          },
          "metadata": {
            "tags": []
          },
          "execution_count": 77
        }
      ]
    },
    {
      "cell_type": "markdown",
      "metadata": {
        "id": "36eNQkN1LqJw"
      },
      "source": [
        "# **Editar valores**\n",
        "Na maioria das vezes é tarefa do analista melhorar o dado de várias maneiras como remover valores nulos, editar e padronizar valores, efetuar algumas limpezas nos dados. Então, vamos a alguns exemplos"
      ]
    },
    {
      "cell_type": "code",
      "metadata": {
        "id": "nkgr_exP0ZU9"
      },
      "source": [
        "# vamos fazer uma cópia do dataframe df original\n",
        "dfCopia = df.copy()"
      ],
      "execution_count": 78,
      "outputs": []
    },
    {
      "cell_type": "code",
      "metadata": {
        "colab": {
          "base_uri": "https://localhost:8080/",
          "height": 204
        },
        "id": "Z_IsKUtDfsI_",
        "outputId": "a8dfeb69-50e1-4a54-d987-17d2601470ee"
      },
      "source": [
        "dfCopia.head()"
      ],
      "execution_count": 79,
      "outputs": [
        {
          "output_type": "execute_result",
          "data": {
            "text/html": [
              "<div>\n",
              "<style scoped>\n",
              "    .dataframe tbody tr th:only-of-type {\n",
              "        vertical-align: middle;\n",
              "    }\n",
              "\n",
              "    .dataframe tbody tr th {\n",
              "        vertical-align: top;\n",
              "    }\n",
              "\n",
              "    .dataframe thead th {\n",
              "        text-align: right;\n",
              "    }\n",
              "</style>\n",
              "<table border=\"1\" class=\"dataframe\">\n",
              "  <thead>\n",
              "    <tr style=\"text-align: right;\">\n",
              "      <th></th>\n",
              "      <th>nome</th>\n",
              "      <th>sexo</th>\n",
              "      <th>setor</th>\n",
              "      <th>idade</th>\n",
              "      <th>funcao</th>\n",
              "      <th>salario</th>\n",
              "    </tr>\n",
              "  </thead>\n",
              "  <tbody>\n",
              "    <tr>\n",
              "      <th>0</th>\n",
              "      <td>ANTONIO</td>\n",
              "      <td>M</td>\n",
              "      <td>administrativo</td>\n",
              "      <td>26</td>\n",
              "      <td>Diretor</td>\n",
              "      <td>15000</td>\n",
              "    </tr>\n",
              "    <tr>\n",
              "      <th>1</th>\n",
              "      <td>GUSTAVO</td>\n",
              "      <td>M</td>\n",
              "      <td>administrativo</td>\n",
              "      <td>29</td>\n",
              "      <td>assistente</td>\n",
              "      <td>3000</td>\n",
              "    </tr>\n",
              "    <tr>\n",
              "      <th>2</th>\n",
              "      <td>NORMA</td>\n",
              "      <td>F</td>\n",
              "      <td>administrativo</td>\n",
              "      <td>49</td>\n",
              "      <td>assistente</td>\n",
              "      <td>3000</td>\n",
              "    </tr>\n",
              "    <tr>\n",
              "      <th>3</th>\n",
              "      <td>QUITERIA</td>\n",
              "      <td>F</td>\n",
              "      <td>artes</td>\n",
              "      <td>39</td>\n",
              "      <td>assistente</td>\n",
              "      <td>6000</td>\n",
              "    </tr>\n",
              "    <tr>\n",
              "      <th>4</th>\n",
              "      <td>RENATA</td>\n",
              "      <td>F</td>\n",
              "      <td>artes</td>\n",
              "      <td>39</td>\n",
              "      <td>assistente</td>\n",
              "      <td>5000</td>\n",
              "    </tr>\n",
              "  </tbody>\n",
              "</table>\n",
              "</div>"
            ],
            "text/plain": [
              "       nome sexo           setor  idade      funcao  salario\n",
              "0   ANTONIO    M  administrativo     26     Diretor    15000\n",
              "1   GUSTAVO    M  administrativo     29  assistente     3000\n",
              "2     NORMA    F  administrativo     49  assistente     3000\n",
              "3  QUITERIA    F           artes     39  assistente     6000\n",
              "4    RENATA    F           artes     39  assistente     5000"
            ]
          },
          "metadata": {
            "tags": []
          },
          "execution_count": 79
        }
      ]
    },
    {
      "cell_type": "markdown",
      "metadata": {
        "id": "EQdk8fBjhQ1u"
      },
      "source": [
        "### .rename()"
      ]
    },
    {
      "cell_type": "code",
      "metadata": {
        "colab": {
          "base_uri": "https://localhost:8080/",
          "height": 204
        },
        "id": "RphUgJO6fwfd",
        "outputId": "3a521c84-582b-476e-861a-8f7d8bd0769b"
      },
      "source": [
        "# vamos alterar o nome da coluna funcao para cargo\n",
        "dfCopia.rename(columns={\"funcao\": \"cargo\"}, inplace=True)\n",
        "dfCopia.head()"
      ],
      "execution_count": 80,
      "outputs": [
        {
          "output_type": "execute_result",
          "data": {
            "text/html": [
              "<div>\n",
              "<style scoped>\n",
              "    .dataframe tbody tr th:only-of-type {\n",
              "        vertical-align: middle;\n",
              "    }\n",
              "\n",
              "    .dataframe tbody tr th {\n",
              "        vertical-align: top;\n",
              "    }\n",
              "\n",
              "    .dataframe thead th {\n",
              "        text-align: right;\n",
              "    }\n",
              "</style>\n",
              "<table border=\"1\" class=\"dataframe\">\n",
              "  <thead>\n",
              "    <tr style=\"text-align: right;\">\n",
              "      <th></th>\n",
              "      <th>nome</th>\n",
              "      <th>sexo</th>\n",
              "      <th>setor</th>\n",
              "      <th>idade</th>\n",
              "      <th>cargo</th>\n",
              "      <th>salario</th>\n",
              "    </tr>\n",
              "  </thead>\n",
              "  <tbody>\n",
              "    <tr>\n",
              "      <th>0</th>\n",
              "      <td>ANTONIO</td>\n",
              "      <td>M</td>\n",
              "      <td>administrativo</td>\n",
              "      <td>26</td>\n",
              "      <td>Diretor</td>\n",
              "      <td>15000</td>\n",
              "    </tr>\n",
              "    <tr>\n",
              "      <th>1</th>\n",
              "      <td>GUSTAVO</td>\n",
              "      <td>M</td>\n",
              "      <td>administrativo</td>\n",
              "      <td>29</td>\n",
              "      <td>assistente</td>\n",
              "      <td>3000</td>\n",
              "    </tr>\n",
              "    <tr>\n",
              "      <th>2</th>\n",
              "      <td>NORMA</td>\n",
              "      <td>F</td>\n",
              "      <td>administrativo</td>\n",
              "      <td>49</td>\n",
              "      <td>assistente</td>\n",
              "      <td>3000</td>\n",
              "    </tr>\n",
              "    <tr>\n",
              "      <th>3</th>\n",
              "      <td>QUITERIA</td>\n",
              "      <td>F</td>\n",
              "      <td>artes</td>\n",
              "      <td>39</td>\n",
              "      <td>assistente</td>\n",
              "      <td>6000</td>\n",
              "    </tr>\n",
              "    <tr>\n",
              "      <th>4</th>\n",
              "      <td>RENATA</td>\n",
              "      <td>F</td>\n",
              "      <td>artes</td>\n",
              "      <td>39</td>\n",
              "      <td>assistente</td>\n",
              "      <td>5000</td>\n",
              "    </tr>\n",
              "  </tbody>\n",
              "</table>\n",
              "</div>"
            ],
            "text/plain": [
              "       nome sexo           setor  idade       cargo  salario\n",
              "0   ANTONIO    M  administrativo     26     Diretor    15000\n",
              "1   GUSTAVO    M  administrativo     29  assistente     3000\n",
              "2     NORMA    F  administrativo     49  assistente     3000\n",
              "3  QUITERIA    F           artes     39  assistente     6000\n",
              "4    RENATA    F           artes     39  assistente     5000"
            ]
          },
          "metadata": {
            "tags": []
          },
          "execution_count": 80
        }
      ]
    },
    {
      "cell_type": "markdown",
      "metadata": {
        "id": "LdrTzB-qS2_O"
      },
      "source": [
        "### .upper() ou .lower()"
      ]
    },
    {
      "cell_type": "code",
      "metadata": {
        "colab": {
          "base_uri": "https://localhost:8080/",
          "height": 35
        },
        "id": "QvkCXWF9MZwT",
        "outputId": "89ac3dfa-5597-4c91-f098-043ca15355b3"
      },
      "source": [
        "# vamos alterar a descrição dos cargos para maiúsculo, utilizando 2 funções:\n",
        "# a primeira é a função lambda que consiste em atribuir valor ao objeto\n",
        "# e nela usaremos função str().upper(), que converte uma string em maiúscula\n",
        "# exemplo básco da função str().upper()\n",
        "teste = str('Italo Costa').upper()\n",
        "teste"
      ],
      "execution_count": 81,
      "outputs": [
        {
          "output_type": "execute_result",
          "data": {
            "application/vnd.google.colaboratory.intrinsic+json": {
              "type": "string"
            },
            "text/plain": [
              "'ITALO COSTA'"
            ]
          },
          "metadata": {
            "tags": []
          },
          "execution_count": 81
        }
      ]
    },
    {
      "cell_type": "code",
      "metadata": {
        "colab": {
          "base_uri": "https://localhost:8080/",
          "height": 35
        },
        "id": "_UAPl8ABS8ns",
        "outputId": "4daf38d4-2bdd-4a02-b1c3-4c6ebf2ce1e9"
      },
      "source": [
        "teste.lower()"
      ],
      "execution_count": 82,
      "outputs": [
        {
          "output_type": "execute_result",
          "data": {
            "application/vnd.google.colaboratory.intrinsic+json": {
              "type": "string"
            },
            "text/plain": [
              "'italo costa'"
            ]
          },
          "metadata": {
            "tags": []
          },
          "execution_count": 82
        }
      ]
    },
    {
      "cell_type": "code",
      "metadata": {
        "colab": {
          "base_uri": "https://localhost:8080/"
        },
        "id": "e0VHZf18fI02",
        "outputId": "0e330319-66ff-470c-804a-22347884e03d"
      },
      "source": [
        "# mas primeiro vamos ver todas as funções \n",
        "dfCopia['cargo'].unique().tolist()\n",
        "# veja abaixo não tem padrão"
      ],
      "execution_count": 83,
      "outputs": [
        {
          "output_type": "execute_result",
          "data": {
            "text/plain": [
              "['Diretor',\n",
              " 'assistente',\n",
              " nan,\n",
              " 'executivo de contas',\n",
              " 'Gerente ',\n",
              " 'Coordenador',\n",
              " 'Engenheiro de Software']"
            ]
          },
          "metadata": {
            "tags": []
          },
          "execution_count": 83
        }
      ]
    },
    {
      "cell_type": "markdown",
      "metadata": {
        "id": "Ia7Wz2zxhTR-"
      },
      "source": [
        "### .fillna() e .dropna()\n",
        "\n",
        "Aqui vai uma dica muito útil pois na maioria das vezes o dataframe que está sendo trabalhado vem com valores nulos (ausentes) e em algumas vezes precisamos remover os registros que contém dados nulos ou substituir esses valores nulos com valores pré-definidos pelo negócio ou ciência.\n",
        "Vamos aos exemplos."
      ]
    },
    {
      "cell_type": "code",
      "metadata": {
        "colab": {
          "base_uri": "https://localhost:8080/",
          "height": 824
        },
        "id": "WvISWnZ_p__d",
        "outputId": "674d673a-3d85-4f22-b92b-9f1c02ea9a86"
      },
      "source": [
        "# podemos visualizar onde temos valores nulos conforme exemplo abaixo\n",
        "dfCopia.isnull()\n",
        "# mas imagine um dataframe com milhares de linhas? Assim complica."
      ],
      "execution_count": 84,
      "outputs": [
        {
          "output_type": "execute_result",
          "data": {
            "text/html": [
              "<div>\n",
              "<style scoped>\n",
              "    .dataframe tbody tr th:only-of-type {\n",
              "        vertical-align: middle;\n",
              "    }\n",
              "\n",
              "    .dataframe tbody tr th {\n",
              "        vertical-align: top;\n",
              "    }\n",
              "\n",
              "    .dataframe thead th {\n",
              "        text-align: right;\n",
              "    }\n",
              "</style>\n",
              "<table border=\"1\" class=\"dataframe\">\n",
              "  <thead>\n",
              "    <tr style=\"text-align: right;\">\n",
              "      <th></th>\n",
              "      <th>nome</th>\n",
              "      <th>sexo</th>\n",
              "      <th>setor</th>\n",
              "      <th>idade</th>\n",
              "      <th>cargo</th>\n",
              "      <th>salario</th>\n",
              "    </tr>\n",
              "  </thead>\n",
              "  <tbody>\n",
              "    <tr>\n",
              "      <th>0</th>\n",
              "      <td>False</td>\n",
              "      <td>False</td>\n",
              "      <td>False</td>\n",
              "      <td>False</td>\n",
              "      <td>False</td>\n",
              "      <td>False</td>\n",
              "    </tr>\n",
              "    <tr>\n",
              "      <th>1</th>\n",
              "      <td>False</td>\n",
              "      <td>False</td>\n",
              "      <td>False</td>\n",
              "      <td>False</td>\n",
              "      <td>False</td>\n",
              "      <td>False</td>\n",
              "    </tr>\n",
              "    <tr>\n",
              "      <th>2</th>\n",
              "      <td>False</td>\n",
              "      <td>False</td>\n",
              "      <td>False</td>\n",
              "      <td>False</td>\n",
              "      <td>False</td>\n",
              "      <td>False</td>\n",
              "    </tr>\n",
              "    <tr>\n",
              "      <th>3</th>\n",
              "      <td>False</td>\n",
              "      <td>False</td>\n",
              "      <td>False</td>\n",
              "      <td>False</td>\n",
              "      <td>False</td>\n",
              "      <td>False</td>\n",
              "    </tr>\n",
              "    <tr>\n",
              "      <th>4</th>\n",
              "      <td>False</td>\n",
              "      <td>False</td>\n",
              "      <td>False</td>\n",
              "      <td>False</td>\n",
              "      <td>False</td>\n",
              "      <td>False</td>\n",
              "    </tr>\n",
              "    <tr>\n",
              "      <th>5</th>\n",
              "      <td>False</td>\n",
              "      <td>False</td>\n",
              "      <td>False</td>\n",
              "      <td>False</td>\n",
              "      <td>True</td>\n",
              "      <td>False</td>\n",
              "    </tr>\n",
              "    <tr>\n",
              "      <th>6</th>\n",
              "      <td>False</td>\n",
              "      <td>False</td>\n",
              "      <td>False</td>\n",
              "      <td>False</td>\n",
              "      <td>False</td>\n",
              "      <td>False</td>\n",
              "    </tr>\n",
              "    <tr>\n",
              "      <th>7</th>\n",
              "      <td>False</td>\n",
              "      <td>False</td>\n",
              "      <td>False</td>\n",
              "      <td>False</td>\n",
              "      <td>False</td>\n",
              "      <td>False</td>\n",
              "    </tr>\n",
              "    <tr>\n",
              "      <th>8</th>\n",
              "      <td>False</td>\n",
              "      <td>False</td>\n",
              "      <td>False</td>\n",
              "      <td>False</td>\n",
              "      <td>False</td>\n",
              "      <td>False</td>\n",
              "    </tr>\n",
              "    <tr>\n",
              "      <th>9</th>\n",
              "      <td>False</td>\n",
              "      <td>False</td>\n",
              "      <td>False</td>\n",
              "      <td>False</td>\n",
              "      <td>False</td>\n",
              "      <td>False</td>\n",
              "    </tr>\n",
              "    <tr>\n",
              "      <th>10</th>\n",
              "      <td>False</td>\n",
              "      <td>False</td>\n",
              "      <td>False</td>\n",
              "      <td>False</td>\n",
              "      <td>False</td>\n",
              "      <td>False</td>\n",
              "    </tr>\n",
              "    <tr>\n",
              "      <th>11</th>\n",
              "      <td>False</td>\n",
              "      <td>False</td>\n",
              "      <td>False</td>\n",
              "      <td>False</td>\n",
              "      <td>False</td>\n",
              "      <td>False</td>\n",
              "    </tr>\n",
              "    <tr>\n",
              "      <th>12</th>\n",
              "      <td>False</td>\n",
              "      <td>False</td>\n",
              "      <td>False</td>\n",
              "      <td>False</td>\n",
              "      <td>False</td>\n",
              "      <td>False</td>\n",
              "    </tr>\n",
              "    <tr>\n",
              "      <th>13</th>\n",
              "      <td>False</td>\n",
              "      <td>False</td>\n",
              "      <td>False</td>\n",
              "      <td>False</td>\n",
              "      <td>False</td>\n",
              "      <td>False</td>\n",
              "    </tr>\n",
              "    <tr>\n",
              "      <th>14</th>\n",
              "      <td>False</td>\n",
              "      <td>False</td>\n",
              "      <td>False</td>\n",
              "      <td>False</td>\n",
              "      <td>False</td>\n",
              "      <td>False</td>\n",
              "    </tr>\n",
              "    <tr>\n",
              "      <th>15</th>\n",
              "      <td>False</td>\n",
              "      <td>False</td>\n",
              "      <td>False</td>\n",
              "      <td>False</td>\n",
              "      <td>True</td>\n",
              "      <td>False</td>\n",
              "    </tr>\n",
              "    <tr>\n",
              "      <th>16</th>\n",
              "      <td>False</td>\n",
              "      <td>False</td>\n",
              "      <td>False</td>\n",
              "      <td>False</td>\n",
              "      <td>False</td>\n",
              "      <td>False</td>\n",
              "    </tr>\n",
              "    <tr>\n",
              "      <th>17</th>\n",
              "      <td>False</td>\n",
              "      <td>False</td>\n",
              "      <td>False</td>\n",
              "      <td>False</td>\n",
              "      <td>False</td>\n",
              "      <td>False</td>\n",
              "    </tr>\n",
              "    <tr>\n",
              "      <th>18</th>\n",
              "      <td>False</td>\n",
              "      <td>False</td>\n",
              "      <td>False</td>\n",
              "      <td>False</td>\n",
              "      <td>False</td>\n",
              "      <td>False</td>\n",
              "    </tr>\n",
              "    <tr>\n",
              "      <th>19</th>\n",
              "      <td>False</td>\n",
              "      <td>False</td>\n",
              "      <td>False</td>\n",
              "      <td>False</td>\n",
              "      <td>False</td>\n",
              "      <td>False</td>\n",
              "    </tr>\n",
              "    <tr>\n",
              "      <th>20</th>\n",
              "      <td>False</td>\n",
              "      <td>False</td>\n",
              "      <td>False</td>\n",
              "      <td>False</td>\n",
              "      <td>False</td>\n",
              "      <td>False</td>\n",
              "    </tr>\n",
              "    <tr>\n",
              "      <th>21</th>\n",
              "      <td>False</td>\n",
              "      <td>False</td>\n",
              "      <td>False</td>\n",
              "      <td>False</td>\n",
              "      <td>False</td>\n",
              "      <td>False</td>\n",
              "    </tr>\n",
              "    <tr>\n",
              "      <th>22</th>\n",
              "      <td>False</td>\n",
              "      <td>False</td>\n",
              "      <td>False</td>\n",
              "      <td>False</td>\n",
              "      <td>False</td>\n",
              "      <td>False</td>\n",
              "    </tr>\n",
              "    <tr>\n",
              "      <th>23</th>\n",
              "      <td>False</td>\n",
              "      <td>False</td>\n",
              "      <td>False</td>\n",
              "      <td>False</td>\n",
              "      <td>True</td>\n",
              "      <td>False</td>\n",
              "    </tr>\n",
              "    <tr>\n",
              "      <th>24</th>\n",
              "      <td>False</td>\n",
              "      <td>False</td>\n",
              "      <td>False</td>\n",
              "      <td>False</td>\n",
              "      <td>False</td>\n",
              "      <td>False</td>\n",
              "    </tr>\n",
              "  </tbody>\n",
              "</table>\n",
              "</div>"
            ],
            "text/plain": [
              "     nome   sexo  setor  idade  cargo  salario\n",
              "0   False  False  False  False  False    False\n",
              "1   False  False  False  False  False    False\n",
              "2   False  False  False  False  False    False\n",
              "3   False  False  False  False  False    False\n",
              "4   False  False  False  False  False    False\n",
              "5   False  False  False  False   True    False\n",
              "6   False  False  False  False  False    False\n",
              "7   False  False  False  False  False    False\n",
              "8   False  False  False  False  False    False\n",
              "9   False  False  False  False  False    False\n",
              "10  False  False  False  False  False    False\n",
              "11  False  False  False  False  False    False\n",
              "12  False  False  False  False  False    False\n",
              "13  False  False  False  False  False    False\n",
              "14  False  False  False  False  False    False\n",
              "15  False  False  False  False   True    False\n",
              "16  False  False  False  False  False    False\n",
              "17  False  False  False  False  False    False\n",
              "18  False  False  False  False  False    False\n",
              "19  False  False  False  False  False    False\n",
              "20  False  False  False  False  False    False\n",
              "21  False  False  False  False  False    False\n",
              "22  False  False  False  False  False    False\n",
              "23  False  False  False  False   True    False\n",
              "24  False  False  False  False  False    False"
            ]
          },
          "metadata": {
            "tags": []
          },
          "execution_count": 84
        }
      ]
    },
    {
      "cell_type": "code",
      "metadata": {
        "colab": {
          "base_uri": "https://localhost:8080/"
        },
        "id": "wSPHMUdfqddh",
        "outputId": "6b8856eb-ce63-46ed-a720-90098b20aed8"
      },
      "source": [
        "# então podemos exibir quais campos possuem valores nulos usando a função\n",
        "# isnull() + .sum() e assim terá todas as colunas do dataframe que possuem \n",
        "# valores nulos. No nosso caso, a coluna cargo\n",
        "dfCopia.isnull().sum()"
      ],
      "execution_count": 85,
      "outputs": [
        {
          "output_type": "execute_result",
          "data": {
            "text/plain": [
              "nome       0\n",
              "sexo       0\n",
              "setor      0\n",
              "idade      0\n",
              "cargo      3\n",
              "salario    0\n",
              "dtype: int64"
            ]
          },
          "metadata": {
            "tags": []
          },
          "execution_count": 85
        }
      ]
    },
    {
      "cell_type": "code",
      "metadata": {
        "colab": {
          "base_uri": "https://localhost:8080/",
          "height": 142
        },
        "id": "47FimBGzrBWj",
        "outputId": "480249ed-6729-4a3b-e57b-4d234ac340d7"
      },
      "source": [
        "# vamos visualizar esses registros que possuem a coluna cargo com valores NaN\n",
        "dfCopia[dfCopia['cargo'].isnull()]"
      ],
      "execution_count": 86,
      "outputs": [
        {
          "output_type": "execute_result",
          "data": {
            "text/html": [
              "<div>\n",
              "<style scoped>\n",
              "    .dataframe tbody tr th:only-of-type {\n",
              "        vertical-align: middle;\n",
              "    }\n",
              "\n",
              "    .dataframe tbody tr th {\n",
              "        vertical-align: top;\n",
              "    }\n",
              "\n",
              "    .dataframe thead th {\n",
              "        text-align: right;\n",
              "    }\n",
              "</style>\n",
              "<table border=\"1\" class=\"dataframe\">\n",
              "  <thead>\n",
              "    <tr style=\"text-align: right;\">\n",
              "      <th></th>\n",
              "      <th>nome</th>\n",
              "      <th>sexo</th>\n",
              "      <th>setor</th>\n",
              "      <th>idade</th>\n",
              "      <th>cargo</th>\n",
              "      <th>salario</th>\n",
              "    </tr>\n",
              "  </thead>\n",
              "  <tbody>\n",
              "    <tr>\n",
              "      <th>5</th>\n",
              "      <td>SANDRO</td>\n",
              "      <td>M</td>\n",
              "      <td>artes</td>\n",
              "      <td>48</td>\n",
              "      <td>NaN</td>\n",
              "      <td>4000</td>\n",
              "    </tr>\n",
              "    <tr>\n",
              "      <th>15</th>\n",
              "      <td>ZURIEL</td>\n",
              "      <td>M</td>\n",
              "      <td>financeiro</td>\n",
              "      <td>20</td>\n",
              "      <td>NaN</td>\n",
              "      <td>3000</td>\n",
              "    </tr>\n",
              "    <tr>\n",
              "      <th>23</th>\n",
              "      <td>KLAYTON</td>\n",
              "      <td>M</td>\n",
              "      <td>tecnologia</td>\n",
              "      <td>33</td>\n",
              "      <td>NaN</td>\n",
              "      <td>5000</td>\n",
              "    </tr>\n",
              "  </tbody>\n",
              "</table>\n",
              "</div>"
            ],
            "text/plain": [
              "       nome sexo       setor  idade cargo  salario\n",
              "5    SANDRO    M       artes     48   NaN     4000\n",
              "15   ZURIEL    M  financeiro     20   NaN     3000\n",
              "23  KLAYTON    M  tecnologia     33   NaN     5000"
            ]
          },
          "metadata": {
            "tags": []
          },
          "execution_count": 86
        }
      ]
    },
    {
      "cell_type": "code",
      "metadata": {
        "colab": {
          "base_uri": "https://localhost:8080/",
          "height": 49
        },
        "id": "YixWnX8hq5sy",
        "outputId": "3c7154f0-7649-4e3b-a74b-8efc3525ca9f"
      },
      "source": [
        "# em alguns casos, removemos os registros que possuem valores nulos\n",
        "# e para isso utilizamos a função dropna()\n",
        "# abaixo, não irei atribuir isso ao dfCopia, apenas simularemos a visão acima\n",
        "# removendo os valores nulos\n",
        "dfCopia[dfCopia['cargo'].isnull()].dropna()\n",
        "# ou seja, ele não exibiu as linhas acimas "
      ],
      "execution_count": 87,
      "outputs": [
        {
          "output_type": "execute_result",
          "data": {
            "text/html": [
              "<div>\n",
              "<style scoped>\n",
              "    .dataframe tbody tr th:only-of-type {\n",
              "        vertical-align: middle;\n",
              "    }\n",
              "\n",
              "    .dataframe tbody tr th {\n",
              "        vertical-align: top;\n",
              "    }\n",
              "\n",
              "    .dataframe thead th {\n",
              "        text-align: right;\n",
              "    }\n",
              "</style>\n",
              "<table border=\"1\" class=\"dataframe\">\n",
              "  <thead>\n",
              "    <tr style=\"text-align: right;\">\n",
              "      <th></th>\n",
              "      <th>nome</th>\n",
              "      <th>sexo</th>\n",
              "      <th>setor</th>\n",
              "      <th>idade</th>\n",
              "      <th>cargo</th>\n",
              "      <th>salario</th>\n",
              "    </tr>\n",
              "  </thead>\n",
              "  <tbody>\n",
              "  </tbody>\n",
              "</table>\n",
              "</div>"
            ],
            "text/plain": [
              "Empty DataFrame\n",
              "Columns: [nome, sexo, setor, idade, cargo, salario]\n",
              "Index: []"
            ]
          },
          "metadata": {
            "tags": []
          },
          "execution_count": 87
        }
      ]
    },
    {
      "cell_type": "code",
      "metadata": {
        "colab": {
          "base_uri": "https://localhost:8080/"
        },
        "id": "lppHCXKLrti6",
        "outputId": "5f4a521e-3296-42e4-b4a5-e748a7669bc9"
      },
      "source": [
        "# ou outra forma de exemplo seria\n",
        "dfCopia.dropna().isnull().sum()\n",
        "# aqui, primeiro removeu os registros Nan e depois verificou se há alguma \n",
        "# valor nulo."
      ],
      "execution_count": 88,
      "outputs": [
        {
          "output_type": "execute_result",
          "data": {
            "text/plain": [
              "nome       0\n",
              "sexo       0\n",
              "setor      0\n",
              "idade      0\n",
              "cargo      0\n",
              "salario    0\n",
              "dtype: int64"
            ]
          },
          "metadata": {
            "tags": []
          },
          "execution_count": 88
        }
      ]
    },
    {
      "cell_type": "code",
      "metadata": {
        "colab": {
          "base_uri": "https://localhost:8080/"
        },
        "id": "rJwuNIQyr2_j",
        "outputId": "f0d19f05-70e7-47c8-a326-d139dfb18ba1"
      },
      "source": [
        "# caso a regra é remover os registros com valores nulos\n",
        "# é só atribuir o resultado a uma nova variável\n",
        "novoDF = dfCopia.copy().dropna() # removi os registros\n",
        "novoDF.isnull().sum() # verifiquei se realmente estão todos com valores"
      ],
      "execution_count": 89,
      "outputs": [
        {
          "output_type": "execute_result",
          "data": {
            "text/plain": [
              "nome       0\n",
              "sexo       0\n",
              "setor      0\n",
              "idade      0\n",
              "cargo      0\n",
              "salario    0\n",
              "dtype: int64"
            ]
          },
          "metadata": {
            "tags": []
          },
          "execution_count": 89
        }
      ]
    },
    {
      "cell_type": "code",
      "metadata": {
        "colab": {
          "base_uri": "https://localhost:8080/"
        },
        "id": "G8pEaACRhAQJ",
        "outputId": "b6e64fa7-a091-443d-cb18-4705dde89093"
      },
      "source": [
        "# temos um valor nulo acima então vou analisar essa coluna cargo\n",
        "dfCopia['cargo'].describe()"
      ],
      "execution_count": 90,
      "outputs": [
        {
          "output_type": "execute_result",
          "data": {
            "text/plain": [
              "count             22\n",
              "unique             6\n",
              "top       assistente\n",
              "freq              12\n",
              "Name: cargo, dtype: object"
            ]
          },
          "metadata": {
            "tags": []
          },
          "execution_count": 90
        }
      ]
    },
    {
      "cell_type": "code",
      "metadata": {
        "id": "5p1JH6ZZhnrt"
      },
      "source": [
        "# vou fazer o seguinte, para os valores nulos (nan), vou preencher com o valor \n",
        "# mais presente na tabela que é assistente\n",
        "# importante reforçar: essa opção abaixo é uma regra de negócio, podendo variar\n",
        "# de situação a situação\n",
        "dfCopia['cargo'] = dfCopia['cargo'].fillna('assistente')"
      ],
      "execution_count": 91,
      "outputs": []
    },
    {
      "cell_type": "code",
      "metadata": {
        "colab": {
          "base_uri": "https://localhost:8080/"
        },
        "id": "sznCHxBtiBFJ",
        "outputId": "edadfbd8-4f03-4b6a-a4dc-aa1cf0b028c5"
      },
      "source": [
        "# agora não temos mais valores nulos na coluna cargo\n",
        "dfCopia['cargo'].unique().tolist()"
      ],
      "execution_count": 92,
      "outputs": [
        {
          "output_type": "execute_result",
          "data": {
            "text/plain": [
              "['Diretor',\n",
              " 'assistente',\n",
              " 'executivo de contas',\n",
              " 'Gerente ',\n",
              " 'Coordenador',\n",
              " 'Engenheiro de Software']"
            ]
          },
          "metadata": {
            "tags": []
          },
          "execution_count": 92
        }
      ]
    },
    {
      "cell_type": "markdown",
      "metadata": {
        "id": "6UTIVBv8pGCF"
      },
      "source": [
        "### .apply() e lambda\n",
        "\n",
        "A função apply() é uma das funções mais usadas para manipular dados e criar novas variáveis (colunas). Vou mostrá-la utilizando também a funçao lambda. Abaixo seguem exemplos "
      ]
    },
    {
      "cell_type": "code",
      "metadata": {
        "id": "BN0MZLhvQXqv"
      },
      "source": [
        "# vamos deixar todos os cargos em letras maiúsculas\n",
        "# a primeira é a função .apply() junto com a lambda que consiste em atribuir valor ao objeto\n",
        "# e nela usaremos função str().upper(), que converte uma string em maiúscula\n",
        "dfCopia['cargo'] = dfCopia['cargo'].apply(lambda x: str(x).upper())"
      ],
      "execution_count": 93,
      "outputs": []
    },
    {
      "cell_type": "code",
      "metadata": {
        "colab": {
          "base_uri": "https://localhost:8080/"
        },
        "id": "KFm7sK9DiA6Z",
        "outputId": "fe992633-264a-43fa-a925-47a3fef2b777"
      },
      "source": [
        "# agora todos os cargos estão em maiúsculo\n",
        "dfCopia['cargo'].unique().tolist()"
      ],
      "execution_count": 94,
      "outputs": [
        {
          "output_type": "execute_result",
          "data": {
            "text/plain": [
              "['DIRETOR',\n",
              " 'ASSISTENTE',\n",
              " 'EXECUTIVO DE CONTAS',\n",
              " 'GERENTE ',\n",
              " 'COORDENADOR',\n",
              " 'ENGENHEIRO DE SOFTWARE']"
            ]
          },
          "metadata": {
            "tags": []
          },
          "execution_count": 94
        }
      ]
    },
    {
      "cell_type": "code",
      "metadata": {
        "colab": {
          "base_uri": "https://localhost:8080/",
          "height": 359
        },
        "id": "YBYLF9TdjXhi",
        "outputId": "f550a652-68ae-417b-edb5-9fc8ce810ab8"
      },
      "source": [
        "dfCopia.head(10)"
      ],
      "execution_count": 95,
      "outputs": [
        {
          "output_type": "execute_result",
          "data": {
            "text/html": [
              "<div>\n",
              "<style scoped>\n",
              "    .dataframe tbody tr th:only-of-type {\n",
              "        vertical-align: middle;\n",
              "    }\n",
              "\n",
              "    .dataframe tbody tr th {\n",
              "        vertical-align: top;\n",
              "    }\n",
              "\n",
              "    .dataframe thead th {\n",
              "        text-align: right;\n",
              "    }\n",
              "</style>\n",
              "<table border=\"1\" class=\"dataframe\">\n",
              "  <thead>\n",
              "    <tr style=\"text-align: right;\">\n",
              "      <th></th>\n",
              "      <th>nome</th>\n",
              "      <th>sexo</th>\n",
              "      <th>setor</th>\n",
              "      <th>idade</th>\n",
              "      <th>cargo</th>\n",
              "      <th>salario</th>\n",
              "    </tr>\n",
              "  </thead>\n",
              "  <tbody>\n",
              "    <tr>\n",
              "      <th>0</th>\n",
              "      <td>ANTONIO</td>\n",
              "      <td>M</td>\n",
              "      <td>administrativo</td>\n",
              "      <td>26</td>\n",
              "      <td>DIRETOR</td>\n",
              "      <td>15000</td>\n",
              "    </tr>\n",
              "    <tr>\n",
              "      <th>1</th>\n",
              "      <td>GUSTAVO</td>\n",
              "      <td>M</td>\n",
              "      <td>administrativo</td>\n",
              "      <td>29</td>\n",
              "      <td>ASSISTENTE</td>\n",
              "      <td>3000</td>\n",
              "    </tr>\n",
              "    <tr>\n",
              "      <th>2</th>\n",
              "      <td>NORMA</td>\n",
              "      <td>F</td>\n",
              "      <td>administrativo</td>\n",
              "      <td>49</td>\n",
              "      <td>ASSISTENTE</td>\n",
              "      <td>3000</td>\n",
              "    </tr>\n",
              "    <tr>\n",
              "      <th>3</th>\n",
              "      <td>QUITERIA</td>\n",
              "      <td>F</td>\n",
              "      <td>artes</td>\n",
              "      <td>39</td>\n",
              "      <td>ASSISTENTE</td>\n",
              "      <td>6000</td>\n",
              "    </tr>\n",
              "    <tr>\n",
              "      <th>4</th>\n",
              "      <td>RENATA</td>\n",
              "      <td>F</td>\n",
              "      <td>artes</td>\n",
              "      <td>39</td>\n",
              "      <td>ASSISTENTE</td>\n",
              "      <td>5000</td>\n",
              "    </tr>\n",
              "    <tr>\n",
              "      <th>5</th>\n",
              "      <td>SANDRO</td>\n",
              "      <td>M</td>\n",
              "      <td>artes</td>\n",
              "      <td>48</td>\n",
              "      <td>ASSISTENTE</td>\n",
              "      <td>4000</td>\n",
              "    </tr>\n",
              "    <tr>\n",
              "      <th>6</th>\n",
              "      <td>VANESSA</td>\n",
              "      <td>F</td>\n",
              "      <td>artes</td>\n",
              "      <td>29</td>\n",
              "      <td>ASSISTENTE</td>\n",
              "      <td>4000</td>\n",
              "    </tr>\n",
              "    <tr>\n",
              "      <th>7</th>\n",
              "      <td>MARCOS</td>\n",
              "      <td>M</td>\n",
              "      <td>comercial</td>\n",
              "      <td>49</td>\n",
              "      <td>EXECUTIVO DE CONTAS</td>\n",
              "      <td>3000</td>\n",
              "    </tr>\n",
              "    <tr>\n",
              "      <th>8</th>\n",
              "      <td>CARLA</td>\n",
              "      <td>F</td>\n",
              "      <td>comercial</td>\n",
              "      <td>22</td>\n",
              "      <td>GERENTE</td>\n",
              "      <td>7000</td>\n",
              "    </tr>\n",
              "    <tr>\n",
              "      <th>9</th>\n",
              "      <td>DANIELA</td>\n",
              "      <td>F</td>\n",
              "      <td>comercial</td>\n",
              "      <td>50</td>\n",
              "      <td>EXECUTIVO DE CONTAS</td>\n",
              "      <td>3000</td>\n",
              "    </tr>\n",
              "  </tbody>\n",
              "</table>\n",
              "</div>"
            ],
            "text/plain": [
              "       nome sexo           setor  idade                cargo  salario\n",
              "0   ANTONIO    M  administrativo     26              DIRETOR    15000\n",
              "1   GUSTAVO    M  administrativo     29           ASSISTENTE     3000\n",
              "2     NORMA    F  administrativo     49           ASSISTENTE     3000\n",
              "3  QUITERIA    F           artes     39           ASSISTENTE     6000\n",
              "4    RENATA    F           artes     39           ASSISTENTE     5000\n",
              "5    SANDRO    M           artes     48           ASSISTENTE     4000\n",
              "6   VANESSA    F           artes     29           ASSISTENTE     4000\n",
              "7    MARCOS    M       comercial     49  EXECUTIVO DE CONTAS     3000\n",
              "8     CARLA    F       comercial     22             GERENTE      7000\n",
              "9   DANIELA    F       comercial     50  EXECUTIVO DE CONTAS     3000"
            ]
          },
          "metadata": {
            "tags": []
          },
          "execution_count": 95
        }
      ]
    },
    {
      "cell_type": "code",
      "metadata": {
        "colab": {
          "base_uri": "https://localhost:8080/",
          "height": 204
        },
        "id": "uTulElTcjHhe",
        "outputId": "fbdbe576-bbdc-4f56-da23-1e381bf483da"
      },
      "source": [
        "# vamos fazer outro exemplo usando lambda mas com uma função criada pelo dev\n",
        "dfCopia.query('salario < 3000')"
      ],
      "execution_count": 96,
      "outputs": [
        {
          "output_type": "execute_result",
          "data": {
            "text/html": [
              "<div>\n",
              "<style scoped>\n",
              "    .dataframe tbody tr th:only-of-type {\n",
              "        vertical-align: middle;\n",
              "    }\n",
              "\n",
              "    .dataframe tbody tr th {\n",
              "        vertical-align: top;\n",
              "    }\n",
              "\n",
              "    .dataframe thead th {\n",
              "        text-align: right;\n",
              "    }\n",
              "</style>\n",
              "<table border=\"1\" class=\"dataframe\">\n",
              "  <thead>\n",
              "    <tr style=\"text-align: right;\">\n",
              "      <th></th>\n",
              "      <th>nome</th>\n",
              "      <th>sexo</th>\n",
              "      <th>setor</th>\n",
              "      <th>idade</th>\n",
              "      <th>cargo</th>\n",
              "      <th>salario</th>\n",
              "    </tr>\n",
              "  </thead>\n",
              "  <tbody>\n",
              "    <tr>\n",
              "      <th>13</th>\n",
              "      <td>BEATRIZ</td>\n",
              "      <td>F</td>\n",
              "      <td>financeiro</td>\n",
              "      <td>33</td>\n",
              "      <td>ASSISTENTE</td>\n",
              "      <td>2500</td>\n",
              "    </tr>\n",
              "    <tr>\n",
              "      <th>14</th>\n",
              "      <td>TEODORO</td>\n",
              "      <td>M</td>\n",
              "      <td>financeiro</td>\n",
              "      <td>38</td>\n",
              "      <td>ASSISTENTE</td>\n",
              "      <td>2500</td>\n",
              "    </tr>\n",
              "    <tr>\n",
              "      <th>16</th>\n",
              "      <td>FABIA</td>\n",
              "      <td>F</td>\n",
              "      <td>marketing</td>\n",
              "      <td>49</td>\n",
              "      <td>ASSISTENTE</td>\n",
              "      <td>2500</td>\n",
              "    </tr>\n",
              "    <tr>\n",
              "      <th>17</th>\n",
              "      <td>UBALDO</td>\n",
              "      <td>M</td>\n",
              "      <td>marketing</td>\n",
              "      <td>47</td>\n",
              "      <td>ASSISTENTE</td>\n",
              "      <td>2500</td>\n",
              "    </tr>\n",
              "    <tr>\n",
              "      <th>19</th>\n",
              "      <td>YOLANDA</td>\n",
              "      <td>F</td>\n",
              "      <td>marketing</td>\n",
              "      <td>27</td>\n",
              "      <td>ASSISTENTE</td>\n",
              "      <td>2500</td>\n",
              "    </tr>\n",
              "  </tbody>\n",
              "</table>\n",
              "</div>"
            ],
            "text/plain": [
              "       nome sexo       setor  idade       cargo  salario\n",
              "13  BEATRIZ    F  financeiro     33  ASSISTENTE     2500\n",
              "14  TEODORO    M  financeiro     38  ASSISTENTE     2500\n",
              "16    FABIA    F   marketing     49  ASSISTENTE     2500\n",
              "17   UBALDO    M   marketing     47  ASSISTENTE     2500\n",
              "19  YOLANDA    F   marketing     27  ASSISTENTE     2500"
            ]
          },
          "metadata": {
            "tags": []
          },
          "execution_count": 96
        }
      ]
    },
    {
      "cell_type": "code",
      "metadata": {
        "id": "lTnqA7KLmKKH"
      },
      "source": [
        "# função simples para reajustar um valor, no caso será o salario\n",
        "def salario_reajuste(valor, reajuste):\n",
        "  \"\"\"\n",
        "  valor = float\n",
        "  reajuste = float, ex.: 10% será 0.1\n",
        "  \"\"\"\n",
        "  if valor < 3000:\n",
        "    valor += valor * reajuste\n",
        "  return valor"
      ],
      "execution_count": 97,
      "outputs": []
    },
    {
      "cell_type": "code",
      "metadata": {
        "colab": {
          "base_uri": "https://localhost:8080/"
        },
        "id": "xjNmSqiPmDQk",
        "outputId": "78819315-db06-4203-871f-6ff16e155fdb"
      },
      "source": [
        "# testando a função\n",
        "salario_reajuste(valor=2000, reajuste=0.1) "
      ],
      "execution_count": 98,
      "outputs": [
        {
          "output_type": "execute_result",
          "data": {
            "text/plain": [
              "2200.0"
            ]
          },
          "metadata": {
            "tags": []
          },
          "execution_count": 98
        }
      ]
    },
    {
      "cell_type": "code",
      "metadata": {
        "colab": {
          "base_uri": "https://localhost:8080/",
          "height": 49
        },
        "id": "29wuLNrGmtdm",
        "outputId": "fd3d9fdc-71e0-4fa8-e5f4-380cfe6516a6"
      },
      "source": [
        "# vamos reajustar o salário em 20% dos funcionários que recebem menos de 3000\n",
        "dfCopia['salario'] = dfCopia['salario'].apply(lambda x: salario_reajuste(x, 0.2))\n",
        "dfCopia.query('salario < 3000')\n",
        "# veja abaixo que não existe nenhum funcionário com salario menor que 3000"
      ],
      "execution_count": 99,
      "outputs": [
        {
          "output_type": "execute_result",
          "data": {
            "text/html": [
              "<div>\n",
              "<style scoped>\n",
              "    .dataframe tbody tr th:only-of-type {\n",
              "        vertical-align: middle;\n",
              "    }\n",
              "\n",
              "    .dataframe tbody tr th {\n",
              "        vertical-align: top;\n",
              "    }\n",
              "\n",
              "    .dataframe thead th {\n",
              "        text-align: right;\n",
              "    }\n",
              "</style>\n",
              "<table border=\"1\" class=\"dataframe\">\n",
              "  <thead>\n",
              "    <tr style=\"text-align: right;\">\n",
              "      <th></th>\n",
              "      <th>nome</th>\n",
              "      <th>sexo</th>\n",
              "      <th>setor</th>\n",
              "      <th>idade</th>\n",
              "      <th>cargo</th>\n",
              "      <th>salario</th>\n",
              "    </tr>\n",
              "  </thead>\n",
              "  <tbody>\n",
              "  </tbody>\n",
              "</table>\n",
              "</div>"
            ],
            "text/plain": [
              "Empty DataFrame\n",
              "Columns: [nome, sexo, setor, idade, cargo, salario]\n",
              "Index: []"
            ]
          },
          "metadata": {
            "tags": []
          },
          "execution_count": 99
        }
      ]
    },
    {
      "cell_type": "code",
      "metadata": {
        "colab": {
          "base_uri": "https://localhost:8080/",
          "height": 173
        },
        "id": "wS6RPuzQnVco",
        "outputId": "047d2f34-7840-47f1-9c93-81f650078313"
      },
      "source": [
        "# por último, só pra reforçar conhecimento, vamos dar um bonus de 2800 para\n",
        "# cada integrante do setor comercial\n",
        "dfCopia.query(\"setor == 'comercial'\")"
      ],
      "execution_count": 100,
      "outputs": [
        {
          "output_type": "execute_result",
          "data": {
            "text/html": [
              "<div>\n",
              "<style scoped>\n",
              "    .dataframe tbody tr th:only-of-type {\n",
              "        vertical-align: middle;\n",
              "    }\n",
              "\n",
              "    .dataframe tbody tr th {\n",
              "        vertical-align: top;\n",
              "    }\n",
              "\n",
              "    .dataframe thead th {\n",
              "        text-align: right;\n",
              "    }\n",
              "</style>\n",
              "<table border=\"1\" class=\"dataframe\">\n",
              "  <thead>\n",
              "    <tr style=\"text-align: right;\">\n",
              "      <th></th>\n",
              "      <th>nome</th>\n",
              "      <th>sexo</th>\n",
              "      <th>setor</th>\n",
              "      <th>idade</th>\n",
              "      <th>cargo</th>\n",
              "      <th>salario</th>\n",
              "    </tr>\n",
              "  </thead>\n",
              "  <tbody>\n",
              "    <tr>\n",
              "      <th>7</th>\n",
              "      <td>MARCOS</td>\n",
              "      <td>M</td>\n",
              "      <td>comercial</td>\n",
              "      <td>49</td>\n",
              "      <td>EXECUTIVO DE CONTAS</td>\n",
              "      <td>3000.0</td>\n",
              "    </tr>\n",
              "    <tr>\n",
              "      <th>8</th>\n",
              "      <td>CARLA</td>\n",
              "      <td>F</td>\n",
              "      <td>comercial</td>\n",
              "      <td>22</td>\n",
              "      <td>GERENTE</td>\n",
              "      <td>7000.0</td>\n",
              "    </tr>\n",
              "    <tr>\n",
              "      <th>9</th>\n",
              "      <td>DANIELA</td>\n",
              "      <td>F</td>\n",
              "      <td>comercial</td>\n",
              "      <td>50</td>\n",
              "      <td>EXECUTIVO DE CONTAS</td>\n",
              "      <td>3000.0</td>\n",
              "    </tr>\n",
              "    <tr>\n",
              "      <th>10</th>\n",
              "      <td>EDUARDO</td>\n",
              "      <td>M</td>\n",
              "      <td>comercial</td>\n",
              "      <td>34</td>\n",
              "      <td>EXECUTIVO DE CONTAS</td>\n",
              "      <td>3000.0</td>\n",
              "    </tr>\n",
              "  </tbody>\n",
              "</table>\n",
              "</div>"
            ],
            "text/plain": [
              "       nome sexo      setor  idade                cargo  salario\n",
              "7    MARCOS    M  comercial     49  EXECUTIVO DE CONTAS   3000.0\n",
              "8     CARLA    F  comercial     22             GERENTE    7000.0\n",
              "9   DANIELA    F  comercial     50  EXECUTIVO DE CONTAS   3000.0\n",
              "10  EDUARDO    M  comercial     34  EXECUTIVO DE CONTAS   3000.0"
            ]
          },
          "metadata": {
            "tags": []
          },
          "execution_count": 100
        }
      ]
    },
    {
      "cell_type": "code",
      "metadata": {
        "id": "Z6nNnf0skJ0X"
      },
      "source": [
        "# vamos utilizar o dataframe copia inteiro\n",
        "# vamos atribuir o valor no campo salario\n",
        "# e vamos colocar a condicional IF na função lambda\n",
        "dfCopia['salario'] = dfCopia.apply(lambda x: x['salario']+2800 if x['setor']==\"comercial\" else x['salario'], axis=1)"
      ],
      "execution_count": 101,
      "outputs": []
    },
    {
      "cell_type": "code",
      "metadata": {
        "colab": {
          "base_uri": "https://localhost:8080/",
          "height": 173
        },
        "id": "LMJ8HfvWg4mu",
        "outputId": "f652116b-6e81-4b13-be16-a22f83c7f911"
      },
      "source": [
        "dfCopia.query(\"setor == 'comercial'\")"
      ],
      "execution_count": 102,
      "outputs": [
        {
          "output_type": "execute_result",
          "data": {
            "text/html": [
              "<div>\n",
              "<style scoped>\n",
              "    .dataframe tbody tr th:only-of-type {\n",
              "        vertical-align: middle;\n",
              "    }\n",
              "\n",
              "    .dataframe tbody tr th {\n",
              "        vertical-align: top;\n",
              "    }\n",
              "\n",
              "    .dataframe thead th {\n",
              "        text-align: right;\n",
              "    }\n",
              "</style>\n",
              "<table border=\"1\" class=\"dataframe\">\n",
              "  <thead>\n",
              "    <tr style=\"text-align: right;\">\n",
              "      <th></th>\n",
              "      <th>nome</th>\n",
              "      <th>sexo</th>\n",
              "      <th>setor</th>\n",
              "      <th>idade</th>\n",
              "      <th>cargo</th>\n",
              "      <th>salario</th>\n",
              "    </tr>\n",
              "  </thead>\n",
              "  <tbody>\n",
              "    <tr>\n",
              "      <th>7</th>\n",
              "      <td>MARCOS</td>\n",
              "      <td>M</td>\n",
              "      <td>comercial</td>\n",
              "      <td>49</td>\n",
              "      <td>EXECUTIVO DE CONTAS</td>\n",
              "      <td>5800.0</td>\n",
              "    </tr>\n",
              "    <tr>\n",
              "      <th>8</th>\n",
              "      <td>CARLA</td>\n",
              "      <td>F</td>\n",
              "      <td>comercial</td>\n",
              "      <td>22</td>\n",
              "      <td>GERENTE</td>\n",
              "      <td>9800.0</td>\n",
              "    </tr>\n",
              "    <tr>\n",
              "      <th>9</th>\n",
              "      <td>DANIELA</td>\n",
              "      <td>F</td>\n",
              "      <td>comercial</td>\n",
              "      <td>50</td>\n",
              "      <td>EXECUTIVO DE CONTAS</td>\n",
              "      <td>5800.0</td>\n",
              "    </tr>\n",
              "    <tr>\n",
              "      <th>10</th>\n",
              "      <td>EDUARDO</td>\n",
              "      <td>M</td>\n",
              "      <td>comercial</td>\n",
              "      <td>34</td>\n",
              "      <td>EXECUTIVO DE CONTAS</td>\n",
              "      <td>5800.0</td>\n",
              "    </tr>\n",
              "  </tbody>\n",
              "</table>\n",
              "</div>"
            ],
            "text/plain": [
              "       nome sexo      setor  idade                cargo  salario\n",
              "7    MARCOS    M  comercial     49  EXECUTIVO DE CONTAS   5800.0\n",
              "8     CARLA    F  comercial     22             GERENTE    9800.0\n",
              "9   DANIELA    F  comercial     50  EXECUTIVO DE CONTAS   5800.0\n",
              "10  EDUARDO    M  comercial     34  EXECUTIVO DE CONTAS   5800.0"
            ]
          },
          "metadata": {
            "tags": []
          },
          "execution_count": 102
        }
      ]
    },
    {
      "cell_type": "markdown",
      "metadata": {
        "id": "vY-2D8N-TXNs"
      },
      "source": [
        "# **Matriz de correlação**\n",
        "\n",
        "Correlação indica a interdependência entre duas ou mais variáveis, variando entre os valores 1 e -1, sendo 1 correlação positiva perfeita, 0 sem correlação e -1 negativa perfeita. \n",
        "Vamos ao exemplo abaixo onde queremos saber qual variável (coluna) se correlaciona melhor com o total de vendas."
      ]
    },
    {
      "cell_type": "code",
      "metadata": {
        "id": "ifSOYpY7TWvc"
      },
      "source": [
        "# vamos simular um dataframe de vendas de produtos de 1,99\n",
        "import random\n",
        "meses = range(1, 13)\n",
        "produtos = list('ABCDEFGHIJ') # 10 produtos A, B, C ...\n",
        "vendedores = ['JOAO', 'MARIA', 'PEDRO', 'ANA', 'BETO']\n",
        "vendas = pd.DataFrame(columns=['id_venda', 'mes', 'id_produto', 'id_vendedor', \n",
        "                               'qtd', 'valor', 'total'])\n",
        "idv = 1\n",
        "for mes in meses:\n",
        "  for i in range(1, random.randint(50, 300)):\n",
        "    produto = random.randint(0, len(produtos)-1)\n",
        "    vendedor = random.randint(0, len(vendedores)-1)\n",
        "    qtd = random.randint(1, 5)\n",
        "    vendas = vendas.append({'id_venda':idv, 'mes':mes, \n",
        "                            'id_produto':produto, 'id_vendedor':vendedor, \n",
        "                            'qtd':qtd, 'valor': 1.99, 'total':qtd*1.99},\n",
        "                           ignore_index=True)\n",
        "    idv+=1 # incrementando"
      ],
      "execution_count": 103,
      "outputs": []
    },
    {
      "cell_type": "code",
      "metadata": {
        "colab": {
          "base_uri": "https://localhost:8080/",
          "height": 35
        },
        "id": "1nKA6OJ0f2-x",
        "outputId": "c20615a4-97e2-422f-a258-7152b730893b"
      },
      "source": [
        "f\"O dataframe vendas tem {vendas.shape[0]} linhas e {vendas.shape[1]} colunas\""
      ],
      "execution_count": 104,
      "outputs": [
        {
          "output_type": "execute_result",
          "data": {
            "application/vnd.google.colaboratory.intrinsic+json": {
              "type": "string"
            },
            "text/plain": [
              "'O dataframe vendas tem 1881 linhas e 7 colunas'"
            ]
          },
          "metadata": {
            "tags": []
          },
          "execution_count": 104
        }
      ]
    },
    {
      "cell_type": "code",
      "metadata": {
        "colab": {
          "base_uri": "https://localhost:8080/",
          "height": 204
        },
        "id": "g-5o9kKegLuQ",
        "outputId": "92a7cc44-b6a6-482e-be2f-94c74dafb1c3"
      },
      "source": [
        "# vamos visualizar as 5 primeiras linhas\n",
        "vendas.head()"
      ],
      "execution_count": 105,
      "outputs": [
        {
          "output_type": "execute_result",
          "data": {
            "text/html": [
              "<div>\n",
              "<style scoped>\n",
              "    .dataframe tbody tr th:only-of-type {\n",
              "        vertical-align: middle;\n",
              "    }\n",
              "\n",
              "    .dataframe tbody tr th {\n",
              "        vertical-align: top;\n",
              "    }\n",
              "\n",
              "    .dataframe thead th {\n",
              "        text-align: right;\n",
              "    }\n",
              "</style>\n",
              "<table border=\"1\" class=\"dataframe\">\n",
              "  <thead>\n",
              "    <tr style=\"text-align: right;\">\n",
              "      <th></th>\n",
              "      <th>id_venda</th>\n",
              "      <th>mes</th>\n",
              "      <th>id_produto</th>\n",
              "      <th>id_vendedor</th>\n",
              "      <th>qtd</th>\n",
              "      <th>valor</th>\n",
              "      <th>total</th>\n",
              "    </tr>\n",
              "  </thead>\n",
              "  <tbody>\n",
              "    <tr>\n",
              "      <th>0</th>\n",
              "      <td>1.0</td>\n",
              "      <td>1.0</td>\n",
              "      <td>0.0</td>\n",
              "      <td>4.0</td>\n",
              "      <td>3.0</td>\n",
              "      <td>1.99</td>\n",
              "      <td>5.97</td>\n",
              "    </tr>\n",
              "    <tr>\n",
              "      <th>1</th>\n",
              "      <td>2.0</td>\n",
              "      <td>1.0</td>\n",
              "      <td>7.0</td>\n",
              "      <td>4.0</td>\n",
              "      <td>3.0</td>\n",
              "      <td>1.99</td>\n",
              "      <td>5.97</td>\n",
              "    </tr>\n",
              "    <tr>\n",
              "      <th>2</th>\n",
              "      <td>3.0</td>\n",
              "      <td>1.0</td>\n",
              "      <td>9.0</td>\n",
              "      <td>2.0</td>\n",
              "      <td>4.0</td>\n",
              "      <td>1.99</td>\n",
              "      <td>7.96</td>\n",
              "    </tr>\n",
              "    <tr>\n",
              "      <th>3</th>\n",
              "      <td>4.0</td>\n",
              "      <td>1.0</td>\n",
              "      <td>2.0</td>\n",
              "      <td>3.0</td>\n",
              "      <td>3.0</td>\n",
              "      <td>1.99</td>\n",
              "      <td>5.97</td>\n",
              "    </tr>\n",
              "    <tr>\n",
              "      <th>4</th>\n",
              "      <td>5.0</td>\n",
              "      <td>1.0</td>\n",
              "      <td>5.0</td>\n",
              "      <td>0.0</td>\n",
              "      <td>3.0</td>\n",
              "      <td>1.99</td>\n",
              "      <td>5.97</td>\n",
              "    </tr>\n",
              "  </tbody>\n",
              "</table>\n",
              "</div>"
            ],
            "text/plain": [
              "   id_venda  mes  id_produto  id_vendedor  qtd  valor  total\n",
              "0       1.0  1.0         0.0          4.0  3.0   1.99   5.97\n",
              "1       2.0  1.0         7.0          4.0  3.0   1.99   5.97\n",
              "2       3.0  1.0         9.0          2.0  4.0   1.99   7.96\n",
              "3       4.0  1.0         2.0          3.0  3.0   1.99   5.97\n",
              "4       5.0  1.0         5.0          0.0  3.0   1.99   5.97"
            ]
          },
          "metadata": {
            "tags": []
          },
          "execution_count": 105
        }
      ]
    },
    {
      "cell_type": "markdown",
      "metadata": {
        "id": "9UX13KmLUpNn"
      },
      "source": [
        "### .corr()"
      ]
    },
    {
      "cell_type": "code",
      "metadata": {
        "colab": {
          "base_uri": "https://localhost:8080/",
          "height": 266
        },
        "id": "GC4_fNrkgUrk",
        "outputId": "76f86157-a140-457e-d0aa-1ef26a727c9c"
      },
      "source": [
        "# agora vamos visualizar a correlacao entre as variaveis\n",
        "correlacao = vendas.corr().round(2)\n",
        "correlacao"
      ],
      "execution_count": 106,
      "outputs": [
        {
          "output_type": "execute_result",
          "data": {
            "text/html": [
              "<div>\n",
              "<style scoped>\n",
              "    .dataframe tbody tr th:only-of-type {\n",
              "        vertical-align: middle;\n",
              "    }\n",
              "\n",
              "    .dataframe tbody tr th {\n",
              "        vertical-align: top;\n",
              "    }\n",
              "\n",
              "    .dataframe thead th {\n",
              "        text-align: right;\n",
              "    }\n",
              "</style>\n",
              "<table border=\"1\" class=\"dataframe\">\n",
              "  <thead>\n",
              "    <tr style=\"text-align: right;\">\n",
              "      <th></th>\n",
              "      <th>id_venda</th>\n",
              "      <th>mes</th>\n",
              "      <th>id_produto</th>\n",
              "      <th>id_vendedor</th>\n",
              "      <th>qtd</th>\n",
              "      <th>valor</th>\n",
              "      <th>total</th>\n",
              "    </tr>\n",
              "  </thead>\n",
              "  <tbody>\n",
              "    <tr>\n",
              "      <th>id_venda</th>\n",
              "      <td>1.00</td>\n",
              "      <td>0.99</td>\n",
              "      <td>0.05</td>\n",
              "      <td>-0.01</td>\n",
              "      <td>-0.00</td>\n",
              "      <td>0.0</td>\n",
              "      <td>-0.00</td>\n",
              "    </tr>\n",
              "    <tr>\n",
              "      <th>mes</th>\n",
              "      <td>0.99</td>\n",
              "      <td>1.00</td>\n",
              "      <td>0.05</td>\n",
              "      <td>-0.01</td>\n",
              "      <td>-0.01</td>\n",
              "      <td>-0.0</td>\n",
              "      <td>-0.01</td>\n",
              "    </tr>\n",
              "    <tr>\n",
              "      <th>id_produto</th>\n",
              "      <td>0.05</td>\n",
              "      <td>0.05</td>\n",
              "      <td>1.00</td>\n",
              "      <td>0.01</td>\n",
              "      <td>0.04</td>\n",
              "      <td>-0.0</td>\n",
              "      <td>0.04</td>\n",
              "    </tr>\n",
              "    <tr>\n",
              "      <th>id_vendedor</th>\n",
              "      <td>-0.01</td>\n",
              "      <td>-0.01</td>\n",
              "      <td>0.01</td>\n",
              "      <td>1.00</td>\n",
              "      <td>-0.00</td>\n",
              "      <td>-0.0</td>\n",
              "      <td>-0.00</td>\n",
              "    </tr>\n",
              "    <tr>\n",
              "      <th>qtd</th>\n",
              "      <td>-0.00</td>\n",
              "      <td>-0.01</td>\n",
              "      <td>0.04</td>\n",
              "      <td>-0.00</td>\n",
              "      <td>1.00</td>\n",
              "      <td>0.0</td>\n",
              "      <td>1.00</td>\n",
              "    </tr>\n",
              "    <tr>\n",
              "      <th>valor</th>\n",
              "      <td>0.00</td>\n",
              "      <td>-0.00</td>\n",
              "      <td>-0.00</td>\n",
              "      <td>-0.00</td>\n",
              "      <td>0.00</td>\n",
              "      <td>1.0</td>\n",
              "      <td>0.00</td>\n",
              "    </tr>\n",
              "    <tr>\n",
              "      <th>total</th>\n",
              "      <td>-0.00</td>\n",
              "      <td>-0.01</td>\n",
              "      <td>0.04</td>\n",
              "      <td>-0.00</td>\n",
              "      <td>1.00</td>\n",
              "      <td>0.0</td>\n",
              "      <td>1.00</td>\n",
              "    </tr>\n",
              "  </tbody>\n",
              "</table>\n",
              "</div>"
            ],
            "text/plain": [
              "             id_venda   mes  id_produto  id_vendedor   qtd  valor  total\n",
              "id_venda         1.00  0.99        0.05        -0.01 -0.00    0.0  -0.00\n",
              "mes              0.99  1.00        0.05        -0.01 -0.01   -0.0  -0.01\n",
              "id_produto       0.05  0.05        1.00         0.01  0.04   -0.0   0.04\n",
              "id_vendedor     -0.01 -0.01        0.01         1.00 -0.00   -0.0  -0.00\n",
              "qtd             -0.00 -0.01        0.04        -0.00  1.00    0.0   1.00\n",
              "valor            0.00 -0.00       -0.00        -0.00  0.00    1.0   0.00\n",
              "total           -0.00 -0.01        0.04        -0.00  1.00    0.0   1.00"
            ]
          },
          "metadata": {
            "tags": []
          },
          "execution_count": 106
        }
      ]
    },
    {
      "cell_type": "markdown",
      "metadata": {
        "id": "fCj5isD7iDH4"
      },
      "source": [
        "### style\n",
        "\n",
        "Veja a correlação acima entre a variável total com a mesma variável total? O valor é 1, que . Agora veja quais as variáveis que melhor se correlacionam com a variável total, exceto a própria total?\n"
      ]
    },
    {
      "cell_type": "code",
      "metadata": {
        "colab": {
          "base_uri": "https://localhost:8080/",
          "height": 187
        },
        "id": "8Csig5B4iBaV",
        "outputId": "d71b8a08-b46b-4f5a-91f2-72495b9ea5f0"
      },
      "source": [
        "# podemos aplicar estilo de cor na visualizaçao da correlação\n",
        "correlacao.style.background_gradient(cmap='coolwarm').set_precision(2)"
      ],
      "execution_count": 107,
      "outputs": [
        {
          "output_type": "execute_result",
          "data": {
            "text/html": [
              "<style  type=\"text/css\" >\n",
              "#T_27a1389e_e0ba_11eb_95e5_0242ac1c0002row0_col0,#T_27a1389e_e0ba_11eb_95e5_0242ac1c0002row1_col1,#T_27a1389e_e0ba_11eb_95e5_0242ac1c0002row2_col2,#T_27a1389e_e0ba_11eb_95e5_0242ac1c0002row3_col3,#T_27a1389e_e0ba_11eb_95e5_0242ac1c0002row4_col4,#T_27a1389e_e0ba_11eb_95e5_0242ac1c0002row4_col6,#T_27a1389e_e0ba_11eb_95e5_0242ac1c0002row5_col5,#T_27a1389e_e0ba_11eb_95e5_0242ac1c0002row6_col4,#T_27a1389e_e0ba_11eb_95e5_0242ac1c0002row6_col6{\n",
              "            background-color:  #b40426;\n",
              "            color:  #f1f1f1;\n",
              "        }#T_27a1389e_e0ba_11eb_95e5_0242ac1c0002row0_col1,#T_27a1389e_e0ba_11eb_95e5_0242ac1c0002row1_col0{\n",
              "            background-color:  #b70d28;\n",
              "            color:  #f1f1f1;\n",
              "        }#T_27a1389e_e0ba_11eb_95e5_0242ac1c0002row0_col2,#T_27a1389e_e0ba_11eb_95e5_0242ac1c0002row1_col2,#T_27a1389e_e0ba_11eb_95e5_0242ac1c0002row2_col4,#T_27a1389e_e0ba_11eb_95e5_0242ac1c0002row2_col6{\n",
              "            background-color:  #4961d2;\n",
              "            color:  #f1f1f1;\n",
              "        }#T_27a1389e_e0ba_11eb_95e5_0242ac1c0002row0_col3,#T_27a1389e_e0ba_11eb_95e5_0242ac1c0002row0_col5,#T_27a1389e_e0ba_11eb_95e5_0242ac1c0002row1_col3,#T_27a1389e_e0ba_11eb_95e5_0242ac1c0002row1_col4,#T_27a1389e_e0ba_11eb_95e5_0242ac1c0002row1_col5,#T_27a1389e_e0ba_11eb_95e5_0242ac1c0002row1_col6,#T_27a1389e_e0ba_11eb_95e5_0242ac1c0002row2_col5,#T_27a1389e_e0ba_11eb_95e5_0242ac1c0002row3_col0,#T_27a1389e_e0ba_11eb_95e5_0242ac1c0002row3_col1,#T_27a1389e_e0ba_11eb_95e5_0242ac1c0002row3_col5,#T_27a1389e_e0ba_11eb_95e5_0242ac1c0002row4_col1,#T_27a1389e_e0ba_11eb_95e5_0242ac1c0002row4_col5,#T_27a1389e_e0ba_11eb_95e5_0242ac1c0002row5_col2,#T_27a1389e_e0ba_11eb_95e5_0242ac1c0002row6_col1,#T_27a1389e_e0ba_11eb_95e5_0242ac1c0002row6_col5{\n",
              "            background-color:  #3b4cc0;\n",
              "            color:  #f1f1f1;\n",
              "        }#T_27a1389e_e0ba_11eb_95e5_0242ac1c0002row0_col4,#T_27a1389e_e0ba_11eb_95e5_0242ac1c0002row0_col6,#T_27a1389e_e0ba_11eb_95e5_0242ac1c0002row3_col2,#T_27a1389e_e0ba_11eb_95e5_0242ac1c0002row3_col4,#T_27a1389e_e0ba_11eb_95e5_0242ac1c0002row3_col6,#T_27a1389e_e0ba_11eb_95e5_0242ac1c0002row4_col0,#T_27a1389e_e0ba_11eb_95e5_0242ac1c0002row4_col3,#T_27a1389e_e0ba_11eb_95e5_0242ac1c0002row5_col0,#T_27a1389e_e0ba_11eb_95e5_0242ac1c0002row5_col1,#T_27a1389e_e0ba_11eb_95e5_0242ac1c0002row5_col3,#T_27a1389e_e0ba_11eb_95e5_0242ac1c0002row5_col4,#T_27a1389e_e0ba_11eb_95e5_0242ac1c0002row5_col6,#T_27a1389e_e0ba_11eb_95e5_0242ac1c0002row6_col0,#T_27a1389e_e0ba_11eb_95e5_0242ac1c0002row6_col3{\n",
              "            background-color:  #3d50c3;\n",
              "            color:  #f1f1f1;\n",
              "        }#T_27a1389e_e0ba_11eb_95e5_0242ac1c0002row2_col0,#T_27a1389e_e0ba_11eb_95e5_0242ac1c0002row2_col1{\n",
              "            background-color:  #4c66d6;\n",
              "            color:  #000000;\n",
              "        }#T_27a1389e_e0ba_11eb_95e5_0242ac1c0002row2_col3{\n",
              "            background-color:  #4055c8;\n",
              "            color:  #f1f1f1;\n",
              "        }#T_27a1389e_e0ba_11eb_95e5_0242ac1c0002row4_col2,#T_27a1389e_e0ba_11eb_95e5_0242ac1c0002row6_col2{\n",
              "            background-color:  #465ecf;\n",
              "            color:  #f1f1f1;\n",
              "        }</style><table id=\"T_27a1389e_e0ba_11eb_95e5_0242ac1c0002\" ><thead>    <tr>        <th class=\"blank level0\" ></th>        <th class=\"col_heading level0 col0\" >id_venda</th>        <th class=\"col_heading level0 col1\" >mes</th>        <th class=\"col_heading level0 col2\" >id_produto</th>        <th class=\"col_heading level0 col3\" >id_vendedor</th>        <th class=\"col_heading level0 col4\" >qtd</th>        <th class=\"col_heading level0 col5\" >valor</th>        <th class=\"col_heading level0 col6\" >total</th>    </tr></thead><tbody>\n",
              "                <tr>\n",
              "                        <th id=\"T_27a1389e_e0ba_11eb_95e5_0242ac1c0002level0_row0\" class=\"row_heading level0 row0\" >id_venda</th>\n",
              "                        <td id=\"T_27a1389e_e0ba_11eb_95e5_0242ac1c0002row0_col0\" class=\"data row0 col0\" >1.00</td>\n",
              "                        <td id=\"T_27a1389e_e0ba_11eb_95e5_0242ac1c0002row0_col1\" class=\"data row0 col1\" >0.99</td>\n",
              "                        <td id=\"T_27a1389e_e0ba_11eb_95e5_0242ac1c0002row0_col2\" class=\"data row0 col2\" >0.05</td>\n",
              "                        <td id=\"T_27a1389e_e0ba_11eb_95e5_0242ac1c0002row0_col3\" class=\"data row0 col3\" >-0.01</td>\n",
              "                        <td id=\"T_27a1389e_e0ba_11eb_95e5_0242ac1c0002row0_col4\" class=\"data row0 col4\" >-0.00</td>\n",
              "                        <td id=\"T_27a1389e_e0ba_11eb_95e5_0242ac1c0002row0_col5\" class=\"data row0 col5\" >0.00</td>\n",
              "                        <td id=\"T_27a1389e_e0ba_11eb_95e5_0242ac1c0002row0_col6\" class=\"data row0 col6\" >-0.00</td>\n",
              "            </tr>\n",
              "            <tr>\n",
              "                        <th id=\"T_27a1389e_e0ba_11eb_95e5_0242ac1c0002level0_row1\" class=\"row_heading level0 row1\" >mes</th>\n",
              "                        <td id=\"T_27a1389e_e0ba_11eb_95e5_0242ac1c0002row1_col0\" class=\"data row1 col0\" >0.99</td>\n",
              "                        <td id=\"T_27a1389e_e0ba_11eb_95e5_0242ac1c0002row1_col1\" class=\"data row1 col1\" >1.00</td>\n",
              "                        <td id=\"T_27a1389e_e0ba_11eb_95e5_0242ac1c0002row1_col2\" class=\"data row1 col2\" >0.05</td>\n",
              "                        <td id=\"T_27a1389e_e0ba_11eb_95e5_0242ac1c0002row1_col3\" class=\"data row1 col3\" >-0.01</td>\n",
              "                        <td id=\"T_27a1389e_e0ba_11eb_95e5_0242ac1c0002row1_col4\" class=\"data row1 col4\" >-0.01</td>\n",
              "                        <td id=\"T_27a1389e_e0ba_11eb_95e5_0242ac1c0002row1_col5\" class=\"data row1 col5\" >-0.00</td>\n",
              "                        <td id=\"T_27a1389e_e0ba_11eb_95e5_0242ac1c0002row1_col6\" class=\"data row1 col6\" >-0.01</td>\n",
              "            </tr>\n",
              "            <tr>\n",
              "                        <th id=\"T_27a1389e_e0ba_11eb_95e5_0242ac1c0002level0_row2\" class=\"row_heading level0 row2\" >id_produto</th>\n",
              "                        <td id=\"T_27a1389e_e0ba_11eb_95e5_0242ac1c0002row2_col0\" class=\"data row2 col0\" >0.05</td>\n",
              "                        <td id=\"T_27a1389e_e0ba_11eb_95e5_0242ac1c0002row2_col1\" class=\"data row2 col1\" >0.05</td>\n",
              "                        <td id=\"T_27a1389e_e0ba_11eb_95e5_0242ac1c0002row2_col2\" class=\"data row2 col2\" >1.00</td>\n",
              "                        <td id=\"T_27a1389e_e0ba_11eb_95e5_0242ac1c0002row2_col3\" class=\"data row2 col3\" >0.01</td>\n",
              "                        <td id=\"T_27a1389e_e0ba_11eb_95e5_0242ac1c0002row2_col4\" class=\"data row2 col4\" >0.04</td>\n",
              "                        <td id=\"T_27a1389e_e0ba_11eb_95e5_0242ac1c0002row2_col5\" class=\"data row2 col5\" >-0.00</td>\n",
              "                        <td id=\"T_27a1389e_e0ba_11eb_95e5_0242ac1c0002row2_col6\" class=\"data row2 col6\" >0.04</td>\n",
              "            </tr>\n",
              "            <tr>\n",
              "                        <th id=\"T_27a1389e_e0ba_11eb_95e5_0242ac1c0002level0_row3\" class=\"row_heading level0 row3\" >id_vendedor</th>\n",
              "                        <td id=\"T_27a1389e_e0ba_11eb_95e5_0242ac1c0002row3_col0\" class=\"data row3 col0\" >-0.01</td>\n",
              "                        <td id=\"T_27a1389e_e0ba_11eb_95e5_0242ac1c0002row3_col1\" class=\"data row3 col1\" >-0.01</td>\n",
              "                        <td id=\"T_27a1389e_e0ba_11eb_95e5_0242ac1c0002row3_col2\" class=\"data row3 col2\" >0.01</td>\n",
              "                        <td id=\"T_27a1389e_e0ba_11eb_95e5_0242ac1c0002row3_col3\" class=\"data row3 col3\" >1.00</td>\n",
              "                        <td id=\"T_27a1389e_e0ba_11eb_95e5_0242ac1c0002row3_col4\" class=\"data row3 col4\" >-0.00</td>\n",
              "                        <td id=\"T_27a1389e_e0ba_11eb_95e5_0242ac1c0002row3_col5\" class=\"data row3 col5\" >-0.00</td>\n",
              "                        <td id=\"T_27a1389e_e0ba_11eb_95e5_0242ac1c0002row3_col6\" class=\"data row3 col6\" >-0.00</td>\n",
              "            </tr>\n",
              "            <tr>\n",
              "                        <th id=\"T_27a1389e_e0ba_11eb_95e5_0242ac1c0002level0_row4\" class=\"row_heading level0 row4\" >qtd</th>\n",
              "                        <td id=\"T_27a1389e_e0ba_11eb_95e5_0242ac1c0002row4_col0\" class=\"data row4 col0\" >-0.00</td>\n",
              "                        <td id=\"T_27a1389e_e0ba_11eb_95e5_0242ac1c0002row4_col1\" class=\"data row4 col1\" >-0.01</td>\n",
              "                        <td id=\"T_27a1389e_e0ba_11eb_95e5_0242ac1c0002row4_col2\" class=\"data row4 col2\" >0.04</td>\n",
              "                        <td id=\"T_27a1389e_e0ba_11eb_95e5_0242ac1c0002row4_col3\" class=\"data row4 col3\" >-0.00</td>\n",
              "                        <td id=\"T_27a1389e_e0ba_11eb_95e5_0242ac1c0002row4_col4\" class=\"data row4 col4\" >1.00</td>\n",
              "                        <td id=\"T_27a1389e_e0ba_11eb_95e5_0242ac1c0002row4_col5\" class=\"data row4 col5\" >0.00</td>\n",
              "                        <td id=\"T_27a1389e_e0ba_11eb_95e5_0242ac1c0002row4_col6\" class=\"data row4 col6\" >1.00</td>\n",
              "            </tr>\n",
              "            <tr>\n",
              "                        <th id=\"T_27a1389e_e0ba_11eb_95e5_0242ac1c0002level0_row5\" class=\"row_heading level0 row5\" >valor</th>\n",
              "                        <td id=\"T_27a1389e_e0ba_11eb_95e5_0242ac1c0002row5_col0\" class=\"data row5 col0\" >0.00</td>\n",
              "                        <td id=\"T_27a1389e_e0ba_11eb_95e5_0242ac1c0002row5_col1\" class=\"data row5 col1\" >-0.00</td>\n",
              "                        <td id=\"T_27a1389e_e0ba_11eb_95e5_0242ac1c0002row5_col2\" class=\"data row5 col2\" >-0.00</td>\n",
              "                        <td id=\"T_27a1389e_e0ba_11eb_95e5_0242ac1c0002row5_col3\" class=\"data row5 col3\" >-0.00</td>\n",
              "                        <td id=\"T_27a1389e_e0ba_11eb_95e5_0242ac1c0002row5_col4\" class=\"data row5 col4\" >0.00</td>\n",
              "                        <td id=\"T_27a1389e_e0ba_11eb_95e5_0242ac1c0002row5_col5\" class=\"data row5 col5\" >1.00</td>\n",
              "                        <td id=\"T_27a1389e_e0ba_11eb_95e5_0242ac1c0002row5_col6\" class=\"data row5 col6\" >0.00</td>\n",
              "            </tr>\n",
              "            <tr>\n",
              "                        <th id=\"T_27a1389e_e0ba_11eb_95e5_0242ac1c0002level0_row6\" class=\"row_heading level0 row6\" >total</th>\n",
              "                        <td id=\"T_27a1389e_e0ba_11eb_95e5_0242ac1c0002row6_col0\" class=\"data row6 col0\" >-0.00</td>\n",
              "                        <td id=\"T_27a1389e_e0ba_11eb_95e5_0242ac1c0002row6_col1\" class=\"data row6 col1\" >-0.01</td>\n",
              "                        <td id=\"T_27a1389e_e0ba_11eb_95e5_0242ac1c0002row6_col2\" class=\"data row6 col2\" >0.04</td>\n",
              "                        <td id=\"T_27a1389e_e0ba_11eb_95e5_0242ac1c0002row6_col3\" class=\"data row6 col3\" >-0.00</td>\n",
              "                        <td id=\"T_27a1389e_e0ba_11eb_95e5_0242ac1c0002row6_col4\" class=\"data row6 col4\" >1.00</td>\n",
              "                        <td id=\"T_27a1389e_e0ba_11eb_95e5_0242ac1c0002row6_col5\" class=\"data row6 col5\" >0.00</td>\n",
              "                        <td id=\"T_27a1389e_e0ba_11eb_95e5_0242ac1c0002row6_col6\" class=\"data row6 col6\" >1.00</td>\n",
              "            </tr>\n",
              "    </tbody></table>"
            ],
            "text/plain": [
              "<pandas.io.formats.style.Styler at 0x7f189ad0f6d0>"
            ]
          },
          "metadata": {
            "tags": []
          },
          "execution_count": 107
        }
      ]
    },
    {
      "cell_type": "markdown",
      "metadata": {
        "id": "5SrVK26ymmv-"
      },
      "source": [
        "# **Visualização gráfica dos dados**\n",
        "\n",
        "Na maioria das vezes, uma imagem ajuda explicar de forma mais fácil. Existem diversas bibliotecas no python que facilitam essa visualização mas o pandas também tem o seu recurso de plot."
      ]
    },
    {
      "cell_type": "markdown",
      "metadata": {
        "id": "Ww3KMZhXbFOv"
      },
      "source": [
        "## .plot()\n",
        "\n",
        "É possível plotar (exibir gráficos) diretamente  com o Pandas. Ele possui diversos tipos de gráficos como linhas (line), barras (bar e barh), histograma, boxplot, pizza (pie) entre outros (consulte o doc do pandas)\n",
        "\n",
        "Vou exemplificar alguns:"
      ]
    },
    {
      "cell_type": "code",
      "metadata": {
        "colab": {
          "base_uri": "https://localhost:8080/",
          "height": 337
        },
        "id": "oWQrqAkTZeN8",
        "outputId": "9b61c9ca-2051-478a-b6ea-25115ec8a6d7"
      },
      "source": [
        "nome_salario = df.sort_values(by='salario', ascending=False)\n",
        "nome_salario.plot.bar(x='nome', y='salario')"
      ],
      "execution_count": 108,
      "outputs": [
        {
          "output_type": "execute_result",
          "data": {
            "text/plain": [
              "<matplotlib.axes._subplots.AxesSubplot at 0x7f189a996bd0>"
            ]
          },
          "metadata": {
            "tags": []
          },
          "execution_count": 108
        },
        {
          "output_type": "display_data",
          "data": {
            "image/png": "[encoded data removed]",
            "text/plain": [
              "<Figure size 432x288 with 1 Axes>"
            ]
          },
          "metadata": {
            "tags": [],
            "needs_background": "light"
          }
        }
      ]
    },
    {
      "cell_type": "code",
      "metadata": {
        "colab": {
          "base_uri": "https://localhost:8080/",
          "height": 282
        },
        "id": "fSjXF95lcIEe",
        "outputId": "32d8eaab-7b7a-4dca-fa96-d3b486dbb4dc"
      },
      "source": [
        "# top 5 salários\n",
        "nome_salario[:5].sort_values(by='salario', ascending=True).plot.barh(x='nome', y='salario')"
      ],
      "execution_count": 109,
      "outputs": [
        {
          "output_type": "execute_result",
          "data": {
            "text/plain": [
              "<matplotlib.axes._subplots.AxesSubplot at 0x7f189a65a790>"
            ]
          },
          "metadata": {
            "tags": []
          },
          "execution_count": 109
        },
        {
          "output_type": "display_data",
          "data": {
            "image/png": "[encoded data removed]",
            "text/plain": [
              "<Figure size 432x288 with 1 Axes>"
            ]
          },
          "metadata": {
            "tags": [],
            "needs_background": "light"
          }
        }
      ]
    },
    {
      "cell_type": "code",
      "metadata": {
        "colab": {
          "base_uri": "https://localhost:8080/",
          "height": 281
        },
        "id": "xJEdbmFtZ72D",
        "outputId": "38c4dbce-9443-4ded-8892-99dee8774780"
      },
      "source": [
        "# representatividade das áreas no conjunto de pessoas \n",
        "df[['setor', 'nome']].groupby('setor').count().plot.pie(y='nome', \n",
        "                                                        legend=False,\n",
        "                                                        title='Pessoas por Setor')"
      ],
      "execution_count": 110,
      "outputs": [
        {
          "output_type": "execute_result",
          "data": {
            "text/plain": [
              "<matplotlib.axes._subplots.AxesSubplot at 0x7f189a0fe290>"
            ]
          },
          "metadata": {
            "tags": []
          },
          "execution_count": 110
        },
        {
          "output_type": "display_data",
          "data": {
            "image/png": "[encoded data removed]",
            "text/plain": [
              "<Figure size 432x288 with 1 Axes>"
            ]
          },
          "metadata": {
            "tags": []
          }
        }
      ]
    },
    {
      "cell_type": "markdown",
      "metadata": {
        "id": "5P7u36D7n73P"
      },
      "source": [
        "E para dar somente um gostinho de outras bibliotecas que otimisa o visual gráfico, vou exemplificar utilizando nossos dataframes com as bibliotecas **plotly** e **seaborn** para criar os gráficos. "
      ]
    },
    {
      "cell_type": "markdown",
      "metadata": {
        "id": "MUIDrwuyFwUX"
      },
      "source": [
        "## plotly"
      ]
    },
    {
      "cell_type": "code",
      "metadata": {
        "id": "cgEQjr_2m6OE"
      },
      "source": [
        "import plotly.graph_objects as go"
      ],
      "execution_count": 111,
      "outputs": []
    },
    {
      "cell_type": "code",
      "metadata": {
        "colab": {
          "base_uri": "https://localhost:8080/",
          "height": 390
        },
        "id": "7PlVRui5o4Ji",
        "outputId": "5f3d2863-0e77-4e18-b795-a96eb311e2e8"
      },
      "source": [
        "vg = vendas[['id_produto', 'total']].groupby('id_produto').sum()\n",
        "vg"
      ],
      "execution_count": 112,
      "outputs": [
        {
          "output_type": "execute_result",
          "data": {
            "text/html": [
              "<div>\n",
              "<style scoped>\n",
              "    .dataframe tbody tr th:only-of-type {\n",
              "        vertical-align: middle;\n",
              "    }\n",
              "\n",
              "    .dataframe tbody tr th {\n",
              "        vertical-align: top;\n",
              "    }\n",
              "\n",
              "    .dataframe thead th {\n",
              "        text-align: right;\n",
              "    }\n",
              "</style>\n",
              "<table border=\"1\" class=\"dataframe\">\n",
              "  <thead>\n",
              "    <tr style=\"text-align: right;\">\n",
              "      <th></th>\n",
              "      <th>total</th>\n",
              "    </tr>\n",
              "    <tr>\n",
              "      <th>id_produto</th>\n",
              "      <th></th>\n",
              "    </tr>\n",
              "  </thead>\n",
              "  <tbody>\n",
              "    <tr>\n",
              "      <th>0.0</th>\n",
              "      <td>1062.66</td>\n",
              "    </tr>\n",
              "    <tr>\n",
              "      <th>1.0</th>\n",
              "      <td>1048.73</td>\n",
              "    </tr>\n",
              "    <tr>\n",
              "      <th>2.0</th>\n",
              "      <td>1052.71</td>\n",
              "    </tr>\n",
              "    <tr>\n",
              "      <th>3.0</th>\n",
              "      <td>1012.91</td>\n",
              "    </tr>\n",
              "    <tr>\n",
              "      <th>4.0</th>\n",
              "      <td>1247.73</td>\n",
              "    </tr>\n",
              "    <tr>\n",
              "      <th>5.0</th>\n",
              "      <td>1188.03</td>\n",
              "    </tr>\n",
              "    <tr>\n",
              "      <th>6.0</th>\n",
              "      <td>991.02</td>\n",
              "    </tr>\n",
              "    <tr>\n",
              "      <th>7.0</th>\n",
              "      <td>1146.24</td>\n",
              "    </tr>\n",
              "    <tr>\n",
              "      <th>8.0</th>\n",
              "      <td>1154.20</td>\n",
              "    </tr>\n",
              "    <tr>\n",
              "      <th>9.0</th>\n",
              "      <td>1243.75</td>\n",
              "    </tr>\n",
              "  </tbody>\n",
              "</table>\n",
              "</div>"
            ],
            "text/plain": [
              "              total\n",
              "id_produto         \n",
              "0.0         1062.66\n",
              "1.0         1048.73\n",
              "2.0         1052.71\n",
              "3.0         1012.91\n",
              "4.0         1247.73\n",
              "5.0         1188.03\n",
              "6.0          991.02\n",
              "7.0         1146.24\n",
              "8.0         1154.20\n",
              "9.0         1243.75"
            ]
          },
          "metadata": {
            "tags": []
          },
          "execution_count": 112
        }
      ]
    },
    {
      "cell_type": "code",
      "metadata": {
        "colab": {
          "base_uri": "https://localhost:8080/",
          "height": 542
        },
        "id": "SKYtvjN0qbJJ",
        "outputId": "f927b7ab-454a-44ea-d0ee-cc32a90c6cf0"
      },
      "source": [
        "# acima vemos os id_produto no indice do groupby\n",
        "# como eles representam a descricao dos produtos, entao utilizarei o array produtos\n",
        "labels = produtos \n",
        "valores = vg['total']\n",
        "\n",
        "fig = go.Figure(data=[go.Pie(labels=labels, values=valores, hole=.3)])\n",
        "fig.update_layout(title_text=\"Produtos mais vendidos\")\n",
        "fig.show()"
      ],
      "execution_count": 113,
      "outputs": [
        {
          "output_type": "display_data",
          "data": {
            "text/html": [
              "<html>\n",
              "<head><meta charset=\"utf-8\" /></head>\n",
              "<body>\n",
              "    <div>\n",
              "            <script src=\"https://cdnjs.cloudflare.com/ajax/libs/mathjax/2.7.5/MathJax.js?config=TeX-AMS-MML_SVG\"></script><script type=\"text/javascript\">if (window.MathJax) {MathJax.Hub.Config({SVG: {font: \"STIX-Web\"}});}</script>\n",
              "                <script type=\"text/javascript\">window.PlotlyConfig = {MathJaxConfig: 'local'};</script>\n",
              "        <script src=\"https://cdn.plot.ly/plotly-latest.min.js\"></script>    \n",
              "            <div id=\"555b989d-7956-4177-b5ec-82a25d479b81\" class=\"plotly-graph-div\" style=\"height:525px; width:100%;\"></div>\n",
              "            <script type=\"text/javascript\">\n",
              "                \n",
              "                    window.PLOTLYENV=window.PLOTLYENV || {};\n",
              "                    \n",
              "                if (document.getElementById(\"555b989d-7956-4177-b5ec-82a25d479b81\")) {\n",
              "                    Plotly.newPlot(\n",
              "                        '555b989d-7956-4177-b5ec-82a25d479b81',\n",
              "                        [{\"hole\": 0.3, \"labels\": [\"A\", \"B\", \"C\", \"D\", \"E\", \"F\", \"G\", \"H\", \"I\", \"J\"], \"type\": \"pie\", \"values\": [1062.6600000000028, 1048.7300000000025, 1052.7100000000025, 1012.9100000000027, 1247.7300000000034, 1188.0300000000032, 991.0200000000024, 1146.240000000003, 1154.2000000000032, 1243.7500000000034]}],\n",
              "                        {\"template\": {\"data\": {\"bar\": [{\"error_x\": {\"color\": \"#2a3f5f\"}, \"error_y\": {\"color\": \"#2a3f5f\"}, \"marker\": {\"line\": {\"color\": \"#E5ECF6\", \"width\": 0.5}}, \"type\": \"bar\"}], \"barpolar\": [{\"marker\": {\"line\": {\"color\": \"#E5ECF6\", \"width\": 0.5}}, \"type\": \"barpolar\"}], \"carpet\": [{\"aaxis\": {\"endlinecolor\": \"#2a3f5f\", \"gridcolor\": \"white\", \"linecolor\": \"white\", \"minorgridcolor\": \"white\", \"startlinecolor\": \"#2a3f5f\"}, \"baxis\": {\"endlinecolor\": \"#2a3f5f\", \"gridcolor\": \"white\", \"linecolor\": \"white\", \"minorgridcolor\": \"white\", \"startlinecolor\": \"#2a3f5f\"}, \"type\": \"carpet\"}], \"choropleth\": [{\"colorbar\": {\"outlinewidth\": 0, \"ticks\": \"\"}, \"type\": \"choropleth\"}], \"contour\": [{\"colorbar\": {\"outlinewidth\": 0, \"ticks\": \"\"}, \"colorscale\": [[0.0, \"#0d0887\"], [0.1111111111111111, \"#46039f\"], [0.2222222222222222, \"#7201a8\"], [0.3333333333333333, \"#9c179e\"], [0.4444444444444444, \"#bd3786\"], [0.5555555555555556, \"#d8576b\"], [0.6666666666666666, \"#ed7953\"], [0.7777777777777778, \"#fb9f3a\"], [0.8888888888888888, \"#fdca26\"], [1.0, \"#f0f921\"]], \"type\": \"contour\"}], \"contourcarpet\": [{\"colorbar\": {\"outlinewidth\": 0, \"ticks\": \"\"}, \"type\": \"contourcarpet\"}], \"heatmap\": [{\"colorbar\": {\"outlinewidth\": 0, \"ticks\": \"\"}, \"colorscale\": [[0.0, \"#0d0887\"], [0.1111111111111111, \"#46039f\"], [0.2222222222222222, \"#7201a8\"], [0.3333333333333333, \"#9c179e\"], [0.4444444444444444, \"#bd3786\"], [0.5555555555555556, \"#d8576b\"], [0.6666666666666666, \"#ed7953\"], [0.7777777777777778, \"#fb9f3a\"], [0.8888888888888888, \"#fdca26\"], [1.0, \"#f0f921\"]], \"type\": \"heatmap\"}], \"heatmapgl\": [{\"colorbar\": {\"outlinewidth\": 0, \"ticks\": \"\"}, \"colorscale\": [[0.0, \"#0d0887\"], [0.1111111111111111, \"#46039f\"], [0.2222222222222222, \"#7201a8\"], [0.3333333333333333, \"#9c179e\"], [0.4444444444444444, \"#bd3786\"], [0.5555555555555556, \"#d8576b\"], [0.6666666666666666, \"#ed7953\"], [0.7777777777777778, \"#fb9f3a\"], [0.8888888888888888, \"#fdca26\"], [1.0, \"#f0f921\"]], \"type\": \"heatmapgl\"}], \"histogram\": [{\"marker\": {\"colorbar\": {\"outlinewidth\": 0, \"ticks\": \"\"}}, \"type\": \"histogram\"}], \"histogram2d\": [{\"colorbar\": {\"outlinewidth\": 0, \"ticks\": \"\"}, \"colorscale\": [[0.0, \"#0d0887\"], [0.1111111111111111, \"#46039f\"], [0.2222222222222222, \"#7201a8\"], [0.3333333333333333, \"#9c179e\"], [0.4444444444444444, \"#bd3786\"], [0.5555555555555556, \"#d8576b\"], [0.6666666666666666, \"#ed7953\"], [0.7777777777777778, \"#fb9f3a\"], [0.8888888888888888, \"#fdca26\"], [1.0, \"#f0f921\"]], \"type\": \"histogram2d\"}], \"histogram2dcontour\": [{\"colorbar\": {\"outlinewidth\": 0, \"ticks\": \"\"}, \"colorscale\": [[0.0, \"#0d0887\"], [0.1111111111111111, \"#46039f\"], [0.2222222222222222, \"#7201a8\"], [0.3333333333333333, \"#9c179e\"], [0.4444444444444444, \"#bd3786\"], [0.5555555555555556, \"#d8576b\"], [0.6666666666666666, \"#ed7953\"], [0.7777777777777778, \"#fb9f3a\"], [0.8888888888888888, \"#fdca26\"], [1.0, \"#f0f921\"]], \"type\": \"histogram2dcontour\"}], \"mesh3d\": [{\"colorbar\": {\"outlinewidth\": 0, \"ticks\": \"\"}, \"type\": \"mesh3d\"}], \"parcoords\": [{\"line\": {\"colorbar\": {\"outlinewidth\": 0, \"ticks\": \"\"}}, \"type\": \"parcoords\"}], \"pie\": [{\"automargin\": true, \"type\": \"pie\"}], \"scatter\": [{\"marker\": {\"colorbar\": {\"outlinewidth\": 0, \"ticks\": \"\"}}, \"type\": \"scatter\"}], \"scatter3d\": [{\"line\": {\"colorbar\": {\"outlinewidth\": 0, \"ticks\": \"\"}}, \"marker\": {\"colorbar\": {\"outlinewidth\": 0, \"ticks\": \"\"}}, \"type\": \"scatter3d\"}], \"scattercarpet\": [{\"marker\": {\"colorbar\": {\"outlinewidth\": 0, \"ticks\": \"\"}}, \"type\": \"scattercarpet\"}], \"scattergeo\": [{\"marker\": {\"colorbar\": {\"outlinewidth\": 0, \"ticks\": \"\"}}, \"type\": \"scattergeo\"}], \"scattergl\": [{\"marker\": {\"colorbar\": {\"outlinewidth\": 0, \"ticks\": \"\"}}, \"type\": \"scattergl\"}], \"scattermapbox\": [{\"marker\": {\"colorbar\": {\"outlinewidth\": 0, \"ticks\": \"\"}}, \"type\": \"scattermapbox\"}], \"scatterpolar\": [{\"marker\": {\"colorbar\": {\"outlinewidth\": 0, \"ticks\": \"\"}}, \"type\": \"scatterpolar\"}], \"scatterpolargl\": [{\"marker\": {\"colorbar\": {\"outlinewidth\": 0, \"ticks\": \"\"}}, \"type\": \"scatterpolargl\"}], \"scatterternary\": [{\"marker\": {\"colorbar\": {\"outlinewidth\": 0, \"ticks\": \"\"}}, \"type\": \"scatterternary\"}], \"surface\": [{\"colorbar\": {\"outlinewidth\": 0, \"ticks\": \"\"}, \"colorscale\": [[0.0, \"#0d0887\"], [0.1111111111111111, \"#46039f\"], [0.2222222222222222, \"#7201a8\"], [0.3333333333333333, \"#9c179e\"], [0.4444444444444444, \"#bd3786\"], [0.5555555555555556, \"#d8576b\"], [0.6666666666666666, \"#ed7953\"], [0.7777777777777778, \"#fb9f3a\"], [0.8888888888888888, \"#fdca26\"], [1.0, \"#f0f921\"]], \"type\": \"surface\"}], \"table\": [{\"cells\": {\"fill\": {\"color\": \"#EBF0F8\"}, \"line\": {\"color\": \"white\"}}, \"header\": {\"fill\": {\"color\": \"#C8D4E3\"}, \"line\": {\"color\": \"white\"}}, \"type\": \"table\"}]}, \"layout\": {\"annotationdefaults\": {\"arrowcolor\": \"#2a3f5f\", \"arrowhead\": 0, \"arrowwidth\": 1}, \"coloraxis\": {\"colorbar\": {\"outlinewidth\": 0, \"ticks\": \"\"}}, \"colorscale\": {\"diverging\": [[0, \"#8e0152\"], [0.1, \"#c51b7d\"], [0.2, \"#de77ae\"], [0.3, \"#f1b6da\"], [0.4, \"#fde0ef\"], [0.5, \"#f7f7f7\"], [0.6, \"#e6f5d0\"], [0.7, \"#b8e186\"], [0.8, \"#7fbc41\"], [0.9, \"#4d9221\"], [1, \"#276419\"]], \"sequential\": [[0.0, \"#0d0887\"], [0.1111111111111111, \"#46039f\"], [0.2222222222222222, \"#7201a8\"], [0.3333333333333333, \"#9c179e\"], [0.4444444444444444, \"#bd3786\"], [0.5555555555555556, \"#d8576b\"], [0.6666666666666666, \"#ed7953\"], [0.7777777777777778, \"#fb9f3a\"], [0.8888888888888888, \"#fdca26\"], [1.0, \"#f0f921\"]], \"sequentialminus\": [[0.0, \"#0d0887\"], [0.1111111111111111, \"#46039f\"], [0.2222222222222222, \"#7201a8\"], [0.3333333333333333, \"#9c179e\"], [0.4444444444444444, \"#bd3786\"], [0.5555555555555556, \"#d8576b\"], [0.6666666666666666, \"#ed7953\"], [0.7777777777777778, \"#fb9f3a\"], [0.8888888888888888, \"#fdca26\"], [1.0, \"#f0f921\"]]}, \"colorway\": [\"#636efa\", \"#EF553B\", \"#00cc96\", \"#ab63fa\", \"#FFA15A\", \"#19d3f3\", \"#FF6692\", \"#B6E880\", \"#FF97FF\", \"#FECB52\"], \"font\": {\"color\": \"#2a3f5f\"}, \"geo\": {\"bgcolor\": \"white\", \"lakecolor\": \"white\", \"landcolor\": \"#E5ECF6\", \"showlakes\": true, \"showland\": true, \"subunitcolor\": \"white\"}, \"hoverlabel\": {\"align\": \"left\"}, \"hovermode\": \"closest\", \"mapbox\": {\"style\": \"light\"}, \"paper_bgcolor\": \"white\", \"plot_bgcolor\": \"#E5ECF6\", \"polar\": {\"angularaxis\": {\"gridcolor\": \"white\", \"linecolor\": \"white\", \"ticks\": \"\"}, \"bgcolor\": \"#E5ECF6\", \"radialaxis\": {\"gridcolor\": \"white\", \"linecolor\": \"white\", \"ticks\": \"\"}}, \"scene\": {\"xaxis\": {\"backgroundcolor\": \"#E5ECF6\", \"gridcolor\": \"white\", \"gridwidth\": 2, \"linecolor\": \"white\", \"showbackground\": true, \"ticks\": \"\", \"zerolinecolor\": \"white\"}, \"yaxis\": {\"backgroundcolor\": \"#E5ECF6\", \"gridcolor\": \"white\", \"gridwidth\": 2, \"linecolor\": \"white\", \"showbackground\": true, \"ticks\": \"\", \"zerolinecolor\": \"white\"}, \"zaxis\": {\"backgroundcolor\": \"#E5ECF6\", \"gridcolor\": \"white\", \"gridwidth\": 2, \"linecolor\": \"white\", \"showbackground\": true, \"ticks\": \"\", \"zerolinecolor\": \"white\"}}, \"shapedefaults\": {\"line\": {\"color\": \"#2a3f5f\"}}, \"ternary\": {\"aaxis\": {\"gridcolor\": \"white\", \"linecolor\": \"white\", \"ticks\": \"\"}, \"baxis\": {\"gridcolor\": \"white\", \"linecolor\": \"white\", \"ticks\": \"\"}, \"bgcolor\": \"#E5ECF6\", \"caxis\": {\"gridcolor\": \"white\", \"linecolor\": \"white\", \"ticks\": \"\"}}, \"title\": {\"x\": 0.05}, \"xaxis\": {\"automargin\": true, \"gridcolor\": \"white\", \"linecolor\": \"white\", \"ticks\": \"\", \"title\": {\"standoff\": 15}, \"zerolinecolor\": \"white\", \"zerolinewidth\": 2}, \"yaxis\": {\"automargin\": true, \"gridcolor\": \"white\", \"linecolor\": \"white\", \"ticks\": \"\", \"title\": {\"standoff\": 15}, \"zerolinecolor\": \"white\", \"zerolinewidth\": 2}}}, \"title\": {\"text\": \"Produtos mais vendidos\"}},\n",
              "                        {\"responsive\": true}\n",
              "                    ).then(function(){\n",
              "                            \n",
              "var gd = document.getElementById('555b989d-7956-4177-b5ec-82a25d479b81');\n",
              "var x = new MutationObserver(function (mutations, observer) {{\n",
              "        var display = window.getComputedStyle(gd).display;\n",
              "        if (!display || display === 'none') {{\n",
              "            console.log([gd, 'removed!']);\n",
              "            Plotly.purge(gd);\n",
              "            observer.disconnect();\n",
              "        }}\n",
              "}});\n",
              "\n",
              "// Listen for the removal of the full notebook cells\n",
              "var notebookContainer = gd.closest('#notebook-container');\n",
              "if (notebookContainer) {{\n",
              "    x.observe(notebookContainer, {childList: true});\n",
              "}}\n",
              "\n",
              "// Listen for the clearing of the current output cell\n",
              "var outputEl = gd.closest('.output');\n",
              "if (outputEl) {{\n",
              "    x.observe(outputEl, {childList: true});\n",
              "}}\n",
              "\n",
              "                        })\n",
              "                };\n",
              "                \n",
              "            </script>\n",
              "        </div>\n",
              "</body>\n",
              "</html>"
            ]
          },
          "metadata": {
            "tags": []
          }
        }
      ]
    },
    {
      "cell_type": "code",
      "metadata": {
        "colab": {
          "base_uri": "https://localhost:8080/",
          "height": 542
        },
        "id": "aUNLjaNMrSjt",
        "outputId": "bd23c528-58f6-4ec0-ff79-5f91941351ac"
      },
      "source": [
        "# agora vamos ver o total vendido mes a mes\n",
        "vg = vendas[['mes', 'total']].groupby('mes').sum()\n",
        "labels = vg.index # meses \n",
        "valores = vg['total']\n",
        "\n",
        "fig = go.Figure(data=[go.Bar(x=labels, y=valores)])\n",
        "fig.update_layout(title_text=\"Vendas por mês\", template=\"plotly_white\")\n",
        "fig.show()"
      ],
      "execution_count": 114,
      "outputs": [
        {
          "output_type": "display_data",
          "data": {
            "text/html": [
              "<html>\n",
              "<head><meta charset=\"utf-8\" /></head>\n",
              "<body>\n",
              "    <div>\n",
              "            <script src=\"https://cdnjs.cloudflare.com/ajax/libs/mathjax/2.7.5/MathJax.js?config=TeX-AMS-MML_SVG\"></script><script type=\"text/javascript\">if (window.MathJax) {MathJax.Hub.Config({SVG: {font: \"STIX-Web\"}});}</script>\n",
              "                <script type=\"text/javascript\">window.PlotlyConfig = {MathJaxConfig: 'local'};</script>\n",
              "        <script src=\"https://cdn.plot.ly/plotly-latest.min.js\"></script>    \n",
              "            <div id=\"716a6c8d-b813-4fc9-8938-295d3d3a223d\" class=\"plotly-graph-div\" style=\"height:525px; width:100%;\"></div>\n",
              "            <script type=\"text/javascript\">\n",
              "                \n",
              "                    window.PLOTLYENV=window.PLOTLYENV || {};\n",
              "                    \n",
              "                if (document.getElementById(\"716a6c8d-b813-4fc9-8938-295d3d3a223d\")) {\n",
              "                    Plotly.newPlot(\n",
              "                        '716a6c8d-b813-4fc9-8938-295d3d3a223d',\n",
              "                        [{\"type\": \"bar\", \"x\": [1.0, 2.0, 3.0, 4.0, 5.0, 6.0, 7.0, 8.0, 9.0, 10.0, 11.0, 12.0], \"y\": [535.3100000000004, 610.9300000000006, 457.7, 1194.0000000000032, 1576.080000000005, 382.07999999999987, 1617.8700000000053, 1078.5800000000027, 1309.420000000004, 951.2200000000023, 909.430000000002, 525.3600000000002]}],\n",
              "                        {\"template\": {\"data\": {\"bar\": [{\"error_x\": {\"color\": \"#2a3f5f\"}, \"error_y\": {\"color\": \"#2a3f5f\"}, \"marker\": {\"line\": {\"color\": \"white\", \"width\": 0.5}}, \"type\": \"bar\"}], \"barpolar\": [{\"marker\": {\"line\": {\"color\": \"white\", \"width\": 0.5}}, \"type\": \"barpolar\"}], \"carpet\": [{\"aaxis\": {\"endlinecolor\": \"#2a3f5f\", \"gridcolor\": \"#C8D4E3\", \"linecolor\": \"#C8D4E3\", \"minorgridcolor\": \"#C8D4E3\", \"startlinecolor\": \"#2a3f5f\"}, \"baxis\": {\"endlinecolor\": \"#2a3f5f\", \"gridcolor\": \"#C8D4E3\", \"linecolor\": \"#C8D4E3\", \"minorgridcolor\": \"#C8D4E3\", \"startlinecolor\": \"#2a3f5f\"}, \"type\": \"carpet\"}], \"choropleth\": [{\"colorbar\": {\"outlinewidth\": 0, \"ticks\": \"\"}, \"type\": \"choropleth\"}], \"contour\": [{\"colorbar\": {\"outlinewidth\": 0, \"ticks\": \"\"}, \"colorscale\": [[0.0, \"#0d0887\"], [0.1111111111111111, \"#46039f\"], [0.2222222222222222, \"#7201a8\"], [0.3333333333333333, \"#9c179e\"], [0.4444444444444444, \"#bd3786\"], [0.5555555555555556, \"#d8576b\"], [0.6666666666666666, \"#ed7953\"], [0.7777777777777778, \"#fb9f3a\"], [0.8888888888888888, \"#fdca26\"], [1.0, \"#f0f921\"]], \"type\": \"contour\"}], \"contourcarpet\": [{\"colorbar\": {\"outlinewidth\": 0, \"ticks\": \"\"}, \"type\": \"contourcarpet\"}], \"heatmap\": [{\"colorbar\": {\"outlinewidth\": 0, \"ticks\": \"\"}, \"colorscale\": [[0.0, \"#0d0887\"], [0.1111111111111111, \"#46039f\"], [0.2222222222222222, \"#7201a8\"], [0.3333333333333333, \"#9c179e\"], [0.4444444444444444, \"#bd3786\"], [0.5555555555555556, \"#d8576b\"], [0.6666666666666666, \"#ed7953\"], [0.7777777777777778, \"#fb9f3a\"], [0.8888888888888888, \"#fdca26\"], [1.0, \"#f0f921\"]], \"type\": \"heatmap\"}], \"heatmapgl\": [{\"colorbar\": {\"outlinewidth\": 0, \"ticks\": \"\"}, \"colorscale\": [[0.0, \"#0d0887\"], [0.1111111111111111, \"#46039f\"], [0.2222222222222222, \"#7201a8\"], [0.3333333333333333, \"#9c179e\"], [0.4444444444444444, \"#bd3786\"], [0.5555555555555556, \"#d8576b\"], [0.6666666666666666, \"#ed7953\"], [0.7777777777777778, \"#fb9f3a\"], [0.8888888888888888, \"#fdca26\"], [1.0, \"#f0f921\"]], \"type\": \"heatmapgl\"}], \"histogram\": [{\"marker\": {\"colorbar\": {\"outlinewidth\": 0, \"ticks\": \"\"}}, \"type\": \"histogram\"}], \"histogram2d\": [{\"colorbar\": {\"outlinewidth\": 0, \"ticks\": \"\"}, \"colorscale\": [[0.0, \"#0d0887\"], [0.1111111111111111, \"#46039f\"], [0.2222222222222222, \"#7201a8\"], [0.3333333333333333, \"#9c179e\"], [0.4444444444444444, \"#bd3786\"], [0.5555555555555556, \"#d8576b\"], [0.6666666666666666, \"#ed7953\"], [0.7777777777777778, \"#fb9f3a\"], [0.8888888888888888, \"#fdca26\"], [1.0, \"#f0f921\"]], \"type\": \"histogram2d\"}], \"histogram2dcontour\": [{\"colorbar\": {\"outlinewidth\": 0, \"ticks\": \"\"}, \"colorscale\": [[0.0, \"#0d0887\"], [0.1111111111111111, \"#46039f\"], [0.2222222222222222, \"#7201a8\"], [0.3333333333333333, \"#9c179e\"], [0.4444444444444444, \"#bd3786\"], [0.5555555555555556, \"#d8576b\"], [0.6666666666666666, \"#ed7953\"], [0.7777777777777778, \"#fb9f3a\"], [0.8888888888888888, \"#fdca26\"], [1.0, \"#f0f921\"]], \"type\": \"histogram2dcontour\"}], \"mesh3d\": [{\"colorbar\": {\"outlinewidth\": 0, \"ticks\": \"\"}, \"type\": \"mesh3d\"}], \"parcoords\": [{\"line\": {\"colorbar\": {\"outlinewidth\": 0, \"ticks\": \"\"}}, \"type\": \"parcoords\"}], \"pie\": [{\"automargin\": true, \"type\": \"pie\"}], \"scatter\": [{\"marker\": {\"colorbar\": {\"outlinewidth\": 0, \"ticks\": \"\"}}, \"type\": \"scatter\"}], \"scatter3d\": [{\"line\": {\"colorbar\": {\"outlinewidth\": 0, \"ticks\": \"\"}}, \"marker\": {\"colorbar\": {\"outlinewidth\": 0, \"ticks\": \"\"}}, \"type\": \"scatter3d\"}], \"scattercarpet\": [{\"marker\": {\"colorbar\": {\"outlinewidth\": 0, \"ticks\": \"\"}}, \"type\": \"scattercarpet\"}], \"scattergeo\": [{\"marker\": {\"colorbar\": {\"outlinewidth\": 0, \"ticks\": \"\"}}, \"type\": \"scattergeo\"}], \"scattergl\": [{\"marker\": {\"colorbar\": {\"outlinewidth\": 0, \"ticks\": \"\"}}, \"type\": \"scattergl\"}], \"scattermapbox\": [{\"marker\": {\"colorbar\": {\"outlinewidth\": 0, \"ticks\": \"\"}}, \"type\": \"scattermapbox\"}], \"scatterpolar\": [{\"marker\": {\"colorbar\": {\"outlinewidth\": 0, \"ticks\": \"\"}}, \"type\": \"scatterpolar\"}], \"scatterpolargl\": [{\"marker\": {\"colorbar\": {\"outlinewidth\": 0, \"ticks\": \"\"}}, \"type\": \"scatterpolargl\"}], \"scatterternary\": [{\"marker\": {\"colorbar\": {\"outlinewidth\": 0, \"ticks\": \"\"}}, \"type\": \"scatterternary\"}], \"surface\": [{\"colorbar\": {\"outlinewidth\": 0, \"ticks\": \"\"}, \"colorscale\": [[0.0, \"#0d0887\"], [0.1111111111111111, \"#46039f\"], [0.2222222222222222, \"#7201a8\"], [0.3333333333333333, \"#9c179e\"], [0.4444444444444444, \"#bd3786\"], [0.5555555555555556, \"#d8576b\"], [0.6666666666666666, \"#ed7953\"], [0.7777777777777778, \"#fb9f3a\"], [0.8888888888888888, \"#fdca26\"], [1.0, \"#f0f921\"]], \"type\": \"surface\"}], \"table\": [{\"cells\": {\"fill\": {\"color\": \"#EBF0F8\"}, \"line\": {\"color\": \"white\"}}, \"header\": {\"fill\": {\"color\": \"#C8D4E3\"}, \"line\": {\"color\": \"white\"}}, \"type\": \"table\"}]}, \"layout\": {\"annotationdefaults\": {\"arrowcolor\": \"#2a3f5f\", \"arrowhead\": 0, \"arrowwidth\": 1}, \"coloraxis\": {\"colorbar\": {\"outlinewidth\": 0, \"ticks\": \"\"}}, \"colorscale\": {\"diverging\": [[0, \"#8e0152\"], [0.1, \"#c51b7d\"], [0.2, \"#de77ae\"], [0.3, \"#f1b6da\"], [0.4, \"#fde0ef\"], [0.5, \"#f7f7f7\"], [0.6, \"#e6f5d0\"], [0.7, \"#b8e186\"], [0.8, \"#7fbc41\"], [0.9, \"#4d9221\"], [1, \"#276419\"]], \"sequential\": [[0.0, \"#0d0887\"], [0.1111111111111111, \"#46039f\"], [0.2222222222222222, \"#7201a8\"], [0.3333333333333333, \"#9c179e\"], [0.4444444444444444, \"#bd3786\"], [0.5555555555555556, \"#d8576b\"], [0.6666666666666666, \"#ed7953\"], [0.7777777777777778, \"#fb9f3a\"], [0.8888888888888888, \"#fdca26\"], [1.0, \"#f0f921\"]], \"sequentialminus\": [[0.0, \"#0d0887\"], [0.1111111111111111, \"#46039f\"], [0.2222222222222222, \"#7201a8\"], [0.3333333333333333, \"#9c179e\"], [0.4444444444444444, \"#bd3786\"], [0.5555555555555556, \"#d8576b\"], [0.6666666666666666, \"#ed7953\"], [0.7777777777777778, \"#fb9f3a\"], [0.8888888888888888, \"#fdca26\"], [1.0, \"#f0f921\"]]}, \"colorway\": [\"#636efa\", \"#EF553B\", \"#00cc96\", \"#ab63fa\", \"#FFA15A\", \"#19d3f3\", \"#FF6692\", \"#B6E880\", \"#FF97FF\", \"#FECB52\"], \"font\": {\"color\": \"#2a3f5f\"}, \"geo\": {\"bgcolor\": \"white\", \"lakecolor\": \"white\", \"landcolor\": \"white\", \"showlakes\": true, \"showland\": true, \"subunitcolor\": \"#C8D4E3\"}, \"hoverlabel\": {\"align\": \"left\"}, \"hovermode\": \"closest\", \"mapbox\": {\"style\": \"light\"}, \"paper_bgcolor\": \"white\", \"plot_bgcolor\": \"white\", \"polar\": {\"angularaxis\": {\"gridcolor\": \"#EBF0F8\", \"linecolor\": \"#EBF0F8\", \"ticks\": \"\"}, \"bgcolor\": \"white\", \"radialaxis\": {\"gridcolor\": \"#EBF0F8\", \"linecolor\": \"#EBF0F8\", \"ticks\": \"\"}}, \"scene\": {\"xaxis\": {\"backgroundcolor\": \"white\", \"gridcolor\": \"#DFE8F3\", \"gridwidth\": 2, \"linecolor\": \"#EBF0F8\", \"showbackground\": true, \"ticks\": \"\", \"zerolinecolor\": \"#EBF0F8\"}, \"yaxis\": {\"backgroundcolor\": \"white\", \"gridcolor\": \"#DFE8F3\", \"gridwidth\": 2, \"linecolor\": \"#EBF0F8\", \"showbackground\": true, \"ticks\": \"\", \"zerolinecolor\": \"#EBF0F8\"}, \"zaxis\": {\"backgroundcolor\": \"white\", \"gridcolor\": \"#DFE8F3\", \"gridwidth\": 2, \"linecolor\": \"#EBF0F8\", \"showbackground\": true, \"ticks\": \"\", \"zerolinecolor\": \"#EBF0F8\"}}, \"shapedefaults\": {\"line\": {\"color\": \"#2a3f5f\"}}, \"ternary\": {\"aaxis\": {\"gridcolor\": \"#DFE8F3\", \"linecolor\": \"#A2B1C6\", \"ticks\": \"\"}, \"baxis\": {\"gridcolor\": \"#DFE8F3\", \"linecolor\": \"#A2B1C6\", \"ticks\": \"\"}, \"bgcolor\": \"white\", \"caxis\": {\"gridcolor\": \"#DFE8F3\", \"linecolor\": \"#A2B1C6\", \"ticks\": \"\"}}, \"title\": {\"x\": 0.05}, \"xaxis\": {\"automargin\": true, \"gridcolor\": \"#EBF0F8\", \"linecolor\": \"#EBF0F8\", \"ticks\": \"\", \"title\": {\"standoff\": 15}, \"zerolinecolor\": \"#EBF0F8\", \"zerolinewidth\": 2}, \"yaxis\": {\"automargin\": true, \"gridcolor\": \"#EBF0F8\", \"linecolor\": \"#EBF0F8\", \"ticks\": \"\", \"title\": {\"standoff\": 15}, \"zerolinecolor\": \"#EBF0F8\", \"zerolinewidth\": 2}}}, \"title\": {\"text\": \"Vendas por m\\u00eas\"}},\n",
              "                        {\"responsive\": true}\n",
              "                    ).then(function(){\n",
              "                            \n",
              "var gd = document.getElementById('716a6c8d-b813-4fc9-8938-295d3d3a223d');\n",
              "var x = new MutationObserver(function (mutations, observer) {{\n",
              "        var display = window.getComputedStyle(gd).display;\n",
              "        if (!display || display === 'none') {{\n",
              "            console.log([gd, 'removed!']);\n",
              "            Plotly.purge(gd);\n",
              "            observer.disconnect();\n",
              "        }}\n",
              "}});\n",
              "\n",
              "// Listen for the removal of the full notebook cells\n",
              "var notebookContainer = gd.closest('#notebook-container');\n",
              "if (notebookContainer) {{\n",
              "    x.observe(notebookContainer, {childList: true});\n",
              "}}\n",
              "\n",
              "// Listen for the clearing of the current output cell\n",
              "var outputEl = gd.closest('.output');\n",
              "if (outputEl) {{\n",
              "    x.observe(outputEl, {childList: true});\n",
              "}}\n",
              "\n",
              "                        })\n",
              "                };\n",
              "                \n",
              "            </script>\n",
              "        </div>\n",
              "</body>\n",
              "</html>"
            ]
          },
          "metadata": {
            "tags": []
          }
        }
      ]
    },
    {
      "cell_type": "markdown",
      "metadata": {
        "id": "2JfWe1mFFj2x"
      },
      "source": [
        "## seaborn"
      ]
    },
    {
      "cell_type": "code",
      "metadata": {
        "id": "GIYVgdkiF-cD"
      },
      "source": [
        "import seaborn as sns"
      ],
      "execution_count": 115,
      "outputs": []
    },
    {
      "cell_type": "code",
      "metadata": {
        "colab": {
          "base_uri": "https://localhost:8080/"
        },
        "id": "CSmMDfUBHl9z",
        "outputId": "9367670e-815a-4566-b772-754442ccdcdc"
      },
      "source": [
        "vg = vendas[['id_vendedor', 'total']].groupby('id_vendedor').sum()\n",
        "vendedores"
      ],
      "execution_count": 116,
      "outputs": [
        {
          "output_type": "execute_result",
          "data": {
            "text/plain": [
              "['JOAO', 'MARIA', 'PEDRO', 'ANA', 'BETO']"
            ]
          },
          "metadata": {
            "tags": []
          },
          "execution_count": 116
        }
      ]
    },
    {
      "cell_type": "code",
      "metadata": {
        "colab": {
          "base_uri": "https://localhost:8080/",
          "height": 296
        },
        "id": "vukHOArtF_13",
        "outputId": "59f89866-4e17-44f8-e3a3-388fba8c21a6"
      },
      "source": [
        "sns.barplot(data=pd.DataFrame({\"x\":vendedores, \"y\":vg.values.flatten()}), x=\"x\", y=\"y\")"
      ],
      "execution_count": 117,
      "outputs": [
        {
          "output_type": "execute_result",
          "data": {
            "text/plain": [
              "<matplotlib.axes._subplots.AxesSubplot at 0x7f1888734690>"
            ]
          },
          "metadata": {
            "tags": []
          },
          "execution_count": 117
        },
        {
          "output_type": "display_data",
          "data": {
            "image/png": "[encoded data removed]",
            "text/plain": [
              "<Figure size 432x288 with 1 Axes>"
            ]
          },
          "metadata": {
            "tags": [],
            "needs_background": "light"
          }
        }
      ]
    },
    {
      "cell_type": "code",
      "metadata": {
        "colab": {
          "base_uri": "https://localhost:8080/",
          "height": 338
        },
        "id": "0aVaB3hrDtjX",
        "outputId": "161d4d50-4add-43c1-b2c1-35034255b012"
      },
      "source": [
        "sns.heatmap(correlacao, annot=True, fmt='.2f', vmin=-1, vmax=1, \n",
        "            linewidth=0.01, linecolor='black', cmap='RdBu_r')"
      ],
      "execution_count": 118,
      "outputs": [
        {
          "output_type": "execute_result",
          "data": {
            "text/plain": [
              "<matplotlib.axes._subplots.AxesSubplot at 0x7f1888eeefd0>"
            ]
          },
          "metadata": {
            "tags": []
          },
          "execution_count": 118
        },
        {
          "output_type": "display_data",
          "data": {
            "image/png": "[encoded data removed]",
            "text/plain": [
              "<Figure size 432x288 with 2 Axes>"
            ]
          },
          "metadata": {
            "tags": [],
            "needs_background": "light"
          }
        }
      ]
    }
  ]
}