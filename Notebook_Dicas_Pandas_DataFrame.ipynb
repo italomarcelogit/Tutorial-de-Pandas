{
  "nbformat": 4,
  "nbformat_minor": 0,
  "metadata": {
    "colab": {
      "name": "Notebook - Dicas  - Pandas DataFrame",
      "provenance": [],
      "collapsed_sections": [],
      "toc_visible": true,
      "authorship_tag": "ABX9TyO0BBY18STSPTlZELubvKIn",
      "include_colab_link": true
    },
    "kernelspec": {
      "name": "python3",
      "display_name": "Python 3"
    },
    "language_info": {
      "name": "python"
    }
  },
  "cells": [
    {
      "cell_type": "markdown",
      "metadata": {
        "id": "view-in-github",
        "colab_type": "text"
      },
      "source": [
        "<a href=\"https://colab.research.google.com/github/italomarcelogit/python-dicas-pandas/blob/main/Notebook_Dicas_Pandas_DataFrame.ipynb\" target=\"_parent\"><img src=\"https://colab.research.google.com/assets/colab-badge.svg\" alt=\"Open In Colab\"/></a>"
      ]
    },
    {
      "cell_type": "markdown",
      "metadata": {
        "id": "IHGKyjkC6LGF"
      },
      "source": [
        "# **Comandos e dicas de Pandas para manipular dataframes em python**\n",
        "DataFrame é uma estrutura parecida com uma matriz, sendo que suas colunas ou linhas podem receber seus nomes e conter dados com tipos diferentes.\n",
        "Fazendo uma analogia bem simples, imagine uma planilha onde cada linha equivale a um registro e cada coluna, seus atributos. Mas acredite, um DataFrame pode ser muito mais do que somente um ***Tidy Data*** ou matriz de dados.\n",
        "\n",
        "O objetivo deste notebook é somente compartilhar com vocês, comandos muito úteis e populares no dia a dia de uma analista de dados.\n",
        "\n",
        "Aqui você encontrará tudo sobre o Pandas http://pandas.pydata.org**, não somente sobre DataFrame mas Series e outros ricos recursos que o Pandas pode nos proporcionar."
      ]
    },
    {
      "cell_type": "markdown",
      "metadata": {
        "id": "oLOxplBX698P"
      },
      "source": [
        "# **Criar um dataframe**\n",
        "\n",
        "Podemos criar um dataframe de várias maneiras, de acordo com a necessidade e criativade do desenvolvedor. De forma simples, vamos construí-lo manualmente conforme os exemplos abaixo:"
      ]
    },
    {
      "cell_type": "code",
      "metadata": {
        "id": "aUVT0SAA53n0"
      },
      "source": [
        "# importando a lib do Pandas\n",
        "import pandas as pd"
      ],
      "execution_count": 1,
      "outputs": []
    },
    {
      "cell_type": "markdown",
      "metadata": {
        "id": "f9hvZq0mSzYG"
      },
      "source": [
        "**Manualmente**"
      ]
    },
    {
      "cell_type": "code",
      "metadata": {
        "colab": {
          "base_uri": "https://localhost:8080/",
          "height": 204
        },
        "id": "l2Oge4ey7-hb",
        "outputId": "90752f87-5427-4603-ebf7-f8c191d10b57"
      },
      "source": [
        "# diretamente\n",
        "df = pd.DataFrame(\n",
        "    {\n",
        "     \"Coluna 1\": [1, 2, 3, 4, 5], \n",
        "     \"Coluna 2\": ['A', 'B', 'C','D', 'E']\n",
        "    }\n",
        ")\n",
        "df"
      ],
      "execution_count": 2,
      "outputs": [
        {
          "output_type": "execute_result",
          "data": {
            "text/html": [
              "<div>\n",
              "<style scoped>\n",
              "    .dataframe tbody tr th:only-of-type {\n",
              "        vertical-align: middle;\n",
              "    }\n",
              "\n",
              "    .dataframe tbody tr th {\n",
              "        vertical-align: top;\n",
              "    }\n",
              "\n",
              "    .dataframe thead th {\n",
              "        text-align: right;\n",
              "    }\n",
              "</style>\n",
              "<table border=\"1\" class=\"dataframe\">\n",
              "  <thead>\n",
              "    <tr style=\"text-align: right;\">\n",
              "      <th></th>\n",
              "      <th>Coluna 1</th>\n",
              "      <th>Coluna 2</th>\n",
              "    </tr>\n",
              "  </thead>\n",
              "  <tbody>\n",
              "    <tr>\n",
              "      <th>0</th>\n",
              "      <td>1</td>\n",
              "      <td>A</td>\n",
              "    </tr>\n",
              "    <tr>\n",
              "      <th>1</th>\n",
              "      <td>2</td>\n",
              "      <td>B</td>\n",
              "    </tr>\n",
              "    <tr>\n",
              "      <th>2</th>\n",
              "      <td>3</td>\n",
              "      <td>C</td>\n",
              "    </tr>\n",
              "    <tr>\n",
              "      <th>3</th>\n",
              "      <td>4</td>\n",
              "      <td>D</td>\n",
              "    </tr>\n",
              "    <tr>\n",
              "      <th>4</th>\n",
              "      <td>5</td>\n",
              "      <td>E</td>\n",
              "    </tr>\n",
              "  </tbody>\n",
              "</table>\n",
              "</div>"
            ],
            "text/plain": [
              "   Coluna 1 Coluna 2\n",
              "0         1        A\n",
              "1         2        B\n",
              "2         3        C\n",
              "3         4        D\n",
              "4         5        E"
            ]
          },
          "metadata": {
            "tags": []
          },
          "execution_count": 2
        }
      ]
    },
    {
      "cell_type": "code",
      "metadata": {
        "colab": {
          "base_uri": "https://localhost:8080/",
          "height": 204
        },
        "id": "LVH5geY18FND",
        "outputId": "6756601e-9d4d-47ab-bb2c-40317340afe7"
      },
      "source": [
        "# primeiro foi criado um dicionario\n",
        "# depois na criação do dataframe, foi passado o dicionário como parâmetro\n",
        "dicionario = {\n",
        "     \"Coluna 1\": [1, 2, 3, 4, 5], \n",
        "     \"Coluna 2\": ['A', 'B', 'C','D', 'E']   \n",
        "}\n",
        "df = pd.DataFrame(dicionario)\n",
        "df"
      ],
      "execution_count": 3,
      "outputs": [
        {
          "output_type": "execute_result",
          "data": {
            "text/html": [
              "<div>\n",
              "<style scoped>\n",
              "    .dataframe tbody tr th:only-of-type {\n",
              "        vertical-align: middle;\n",
              "    }\n",
              "\n",
              "    .dataframe tbody tr th {\n",
              "        vertical-align: top;\n",
              "    }\n",
              "\n",
              "    .dataframe thead th {\n",
              "        text-align: right;\n",
              "    }\n",
              "</style>\n",
              "<table border=\"1\" class=\"dataframe\">\n",
              "  <thead>\n",
              "    <tr style=\"text-align: right;\">\n",
              "      <th></th>\n",
              "      <th>Coluna 1</th>\n",
              "      <th>Coluna 2</th>\n",
              "    </tr>\n",
              "  </thead>\n",
              "  <tbody>\n",
              "    <tr>\n",
              "      <th>0</th>\n",
              "      <td>1</td>\n",
              "      <td>A</td>\n",
              "    </tr>\n",
              "    <tr>\n",
              "      <th>1</th>\n",
              "      <td>2</td>\n",
              "      <td>B</td>\n",
              "    </tr>\n",
              "    <tr>\n",
              "      <th>2</th>\n",
              "      <td>3</td>\n",
              "      <td>C</td>\n",
              "    </tr>\n",
              "    <tr>\n",
              "      <th>3</th>\n",
              "      <td>4</td>\n",
              "      <td>D</td>\n",
              "    </tr>\n",
              "    <tr>\n",
              "      <th>4</th>\n",
              "      <td>5</td>\n",
              "      <td>E</td>\n",
              "    </tr>\n",
              "  </tbody>\n",
              "</table>\n",
              "</div>"
            ],
            "text/plain": [
              "   Coluna 1 Coluna 2\n",
              "0         1        A\n",
              "1         2        B\n",
              "2         3        C\n",
              "3         4        D\n",
              "4         5        E"
            ]
          },
          "metadata": {
            "tags": []
          },
          "execution_count": 3
        }
      ]
    },
    {
      "cell_type": "code",
      "metadata": {
        "colab": {
          "base_uri": "https://localhost:8080/",
          "height": 204
        },
        "id": "ITvcYZbw8_GC",
        "outputId": "ea357676-7062-4a5f-8ed7-27bb2e5fb1ea"
      },
      "source": [
        "# e uma outra maneira é criar o dataframe vazio\n",
        "# e ir adicionando colunas e seus valores\n",
        "df = pd.DataFrame()\n",
        "df['Coluna 1'] = range(1, 6) # array de 1 a 5\n",
        "df['Coluna 2'] = list('ABCDE') # array de A a E\n",
        "df"
      ],
      "execution_count": 4,
      "outputs": [
        {
          "output_type": "execute_result",
          "data": {
            "text/html": [
              "<div>\n",
              "<style scoped>\n",
              "    .dataframe tbody tr th:only-of-type {\n",
              "        vertical-align: middle;\n",
              "    }\n",
              "\n",
              "    .dataframe tbody tr th {\n",
              "        vertical-align: top;\n",
              "    }\n",
              "\n",
              "    .dataframe thead th {\n",
              "        text-align: right;\n",
              "    }\n",
              "</style>\n",
              "<table border=\"1\" class=\"dataframe\">\n",
              "  <thead>\n",
              "    <tr style=\"text-align: right;\">\n",
              "      <th></th>\n",
              "      <th>Coluna 1</th>\n",
              "      <th>Coluna 2</th>\n",
              "    </tr>\n",
              "  </thead>\n",
              "  <tbody>\n",
              "    <tr>\n",
              "      <th>0</th>\n",
              "      <td>1</td>\n",
              "      <td>A</td>\n",
              "    </tr>\n",
              "    <tr>\n",
              "      <th>1</th>\n",
              "      <td>2</td>\n",
              "      <td>B</td>\n",
              "    </tr>\n",
              "    <tr>\n",
              "      <th>2</th>\n",
              "      <td>3</td>\n",
              "      <td>C</td>\n",
              "    </tr>\n",
              "    <tr>\n",
              "      <th>3</th>\n",
              "      <td>4</td>\n",
              "      <td>D</td>\n",
              "    </tr>\n",
              "    <tr>\n",
              "      <th>4</th>\n",
              "      <td>5</td>\n",
              "      <td>E</td>\n",
              "    </tr>\n",
              "  </tbody>\n",
              "</table>\n",
              "</div>"
            ],
            "text/plain": [
              "   Coluna 1 Coluna 2\n",
              "0         1        A\n",
              "1         2        B\n",
              "2         3        C\n",
              "3         4        D\n",
              "4         5        E"
            ]
          },
          "metadata": {
            "tags": []
          },
          "execution_count": 4
        }
      ]
    },
    {
      "cell_type": "markdown",
      "metadata": {
        "id": "hiGXfQdITARy"
      },
      "source": [
        "**Inserir uma nova linha no dataframe**"
      ]
    },
    {
      "cell_type": "code",
      "metadata": {
        "colab": {
          "base_uri": "https://localhost:8080/",
          "height": 235
        },
        "id": "WcBivgEFS-ew",
        "outputId": "9dde7f1d-0f6b-4e88-c6f7-2d745e6a96d2"
      },
      "source": [
        "df = df.append({'Coluna 1': 6, 'Coluna 2': \"f\"}, ignore_index=True)\n",
        "df"
      ],
      "execution_count": 5,
      "outputs": [
        {
          "output_type": "execute_result",
          "data": {
            "text/html": [
              "<div>\n",
              "<style scoped>\n",
              "    .dataframe tbody tr th:only-of-type {\n",
              "        vertical-align: middle;\n",
              "    }\n",
              "\n",
              "    .dataframe tbody tr th {\n",
              "        vertical-align: top;\n",
              "    }\n",
              "\n",
              "    .dataframe thead th {\n",
              "        text-align: right;\n",
              "    }\n",
              "</style>\n",
              "<table border=\"1\" class=\"dataframe\">\n",
              "  <thead>\n",
              "    <tr style=\"text-align: right;\">\n",
              "      <th></th>\n",
              "      <th>Coluna 1</th>\n",
              "      <th>Coluna 2</th>\n",
              "    </tr>\n",
              "  </thead>\n",
              "  <tbody>\n",
              "    <tr>\n",
              "      <th>0</th>\n",
              "      <td>1</td>\n",
              "      <td>A</td>\n",
              "    </tr>\n",
              "    <tr>\n",
              "      <th>1</th>\n",
              "      <td>2</td>\n",
              "      <td>B</td>\n",
              "    </tr>\n",
              "    <tr>\n",
              "      <th>2</th>\n",
              "      <td>3</td>\n",
              "      <td>C</td>\n",
              "    </tr>\n",
              "    <tr>\n",
              "      <th>3</th>\n",
              "      <td>4</td>\n",
              "      <td>D</td>\n",
              "    </tr>\n",
              "    <tr>\n",
              "      <th>4</th>\n",
              "      <td>5</td>\n",
              "      <td>E</td>\n",
              "    </tr>\n",
              "    <tr>\n",
              "      <th>5</th>\n",
              "      <td>6</td>\n",
              "      <td>f</td>\n",
              "    </tr>\n",
              "  </tbody>\n",
              "</table>\n",
              "</div>"
            ],
            "text/plain": [
              "   Coluna 1 Coluna 2\n",
              "0         1        A\n",
              "1         2        B\n",
              "2         3        C\n",
              "3         4        D\n",
              "4         5        E\n",
              "5         6        f"
            ]
          },
          "metadata": {
            "tags": []
          },
          "execution_count": 5
        }
      ]
    },
    {
      "cell_type": "markdown",
      "metadata": {
        "id": "EWp2idTiUPbI"
      },
      "source": [
        "**Alterar uma linha**"
      ]
    },
    {
      "cell_type": "code",
      "metadata": {
        "colab": {
          "base_uri": "https://localhost:8080/",
          "height": 235
        },
        "id": "UTxCvlUHUOgg",
        "outputId": "05ae88f8-9fb3-4e35-96e8-af98c532e617"
      },
      "source": [
        "# vamos alterar o valor da linha 5 e Coluna 2, de f para F\n",
        "df.loc[5, 'Coluna 2'] = 'F'\n",
        "df"
      ],
      "execution_count": 6,
      "outputs": [
        {
          "output_type": "execute_result",
          "data": {
            "text/html": [
              "<div>\n",
              "<style scoped>\n",
              "    .dataframe tbody tr th:only-of-type {\n",
              "        vertical-align: middle;\n",
              "    }\n",
              "\n",
              "    .dataframe tbody tr th {\n",
              "        vertical-align: top;\n",
              "    }\n",
              "\n",
              "    .dataframe thead th {\n",
              "        text-align: right;\n",
              "    }\n",
              "</style>\n",
              "<table border=\"1\" class=\"dataframe\">\n",
              "  <thead>\n",
              "    <tr style=\"text-align: right;\">\n",
              "      <th></th>\n",
              "      <th>Coluna 1</th>\n",
              "      <th>Coluna 2</th>\n",
              "    </tr>\n",
              "  </thead>\n",
              "  <tbody>\n",
              "    <tr>\n",
              "      <th>0</th>\n",
              "      <td>1</td>\n",
              "      <td>A</td>\n",
              "    </tr>\n",
              "    <tr>\n",
              "      <th>1</th>\n",
              "      <td>2</td>\n",
              "      <td>B</td>\n",
              "    </tr>\n",
              "    <tr>\n",
              "      <th>2</th>\n",
              "      <td>3</td>\n",
              "      <td>C</td>\n",
              "    </tr>\n",
              "    <tr>\n",
              "      <th>3</th>\n",
              "      <td>4</td>\n",
              "      <td>D</td>\n",
              "    </tr>\n",
              "    <tr>\n",
              "      <th>4</th>\n",
              "      <td>5</td>\n",
              "      <td>E</td>\n",
              "    </tr>\n",
              "    <tr>\n",
              "      <th>5</th>\n",
              "      <td>6</td>\n",
              "      <td>F</td>\n",
              "    </tr>\n",
              "  </tbody>\n",
              "</table>\n",
              "</div>"
            ],
            "text/plain": [
              "   Coluna 1 Coluna 2\n",
              "0         1        A\n",
              "1         2        B\n",
              "2         3        C\n",
              "3         4        D\n",
              "4         5        E\n",
              "5         6        F"
            ]
          },
          "metadata": {
            "tags": []
          },
          "execution_count": 6
        }
      ]
    },
    {
      "cell_type": "markdown",
      "metadata": {
        "id": "flrH6uTNXXoW"
      },
      "source": [
        "**Excluir linha ou coluna**"
      ]
    },
    {
      "cell_type": "code",
      "metadata": {
        "colab": {
          "base_uri": "https://localhost:8080/",
          "height": 235
        },
        "id": "KMHGr1f2UwuT",
        "outputId": "0384cd42-906d-4ecf-8eb4-a41ad0c56c47"
      },
      "source": [
        "# exibindo o dataframe\n",
        "df "
      ],
      "execution_count": 7,
      "outputs": [
        {
          "output_type": "execute_result",
          "data": {
            "text/html": [
              "<div>\n",
              "<style scoped>\n",
              "    .dataframe tbody tr th:only-of-type {\n",
              "        vertical-align: middle;\n",
              "    }\n",
              "\n",
              "    .dataframe tbody tr th {\n",
              "        vertical-align: top;\n",
              "    }\n",
              "\n",
              "    .dataframe thead th {\n",
              "        text-align: right;\n",
              "    }\n",
              "</style>\n",
              "<table border=\"1\" class=\"dataframe\">\n",
              "  <thead>\n",
              "    <tr style=\"text-align: right;\">\n",
              "      <th></th>\n",
              "      <th>Coluna 1</th>\n",
              "      <th>Coluna 2</th>\n",
              "    </tr>\n",
              "  </thead>\n",
              "  <tbody>\n",
              "    <tr>\n",
              "      <th>0</th>\n",
              "      <td>1</td>\n",
              "      <td>A</td>\n",
              "    </tr>\n",
              "    <tr>\n",
              "      <th>1</th>\n",
              "      <td>2</td>\n",
              "      <td>B</td>\n",
              "    </tr>\n",
              "    <tr>\n",
              "      <th>2</th>\n",
              "      <td>3</td>\n",
              "      <td>C</td>\n",
              "    </tr>\n",
              "    <tr>\n",
              "      <th>3</th>\n",
              "      <td>4</td>\n",
              "      <td>D</td>\n",
              "    </tr>\n",
              "    <tr>\n",
              "      <th>4</th>\n",
              "      <td>5</td>\n",
              "      <td>E</td>\n",
              "    </tr>\n",
              "    <tr>\n",
              "      <th>5</th>\n",
              "      <td>6</td>\n",
              "      <td>F</td>\n",
              "    </tr>\n",
              "  </tbody>\n",
              "</table>\n",
              "</div>"
            ],
            "text/plain": [
              "   Coluna 1 Coluna 2\n",
              "0         1        A\n",
              "1         2        B\n",
              "2         3        C\n",
              "3         4        D\n",
              "4         5        E\n",
              "5         6        F"
            ]
          },
          "metadata": {
            "tags": []
          },
          "execution_count": 7
        }
      ]
    },
    {
      "cell_type": "code",
      "metadata": {
        "colab": {
          "base_uri": "https://localhost:8080/",
          "height": 204
        },
        "id": "fOdEzmlgXfvt",
        "outputId": "0c5ba4da-b712-46c8-dd9a-9f2a2e1af02a"
      },
      "source": [
        "# excluir a linha com índice 4 [5, E]\n",
        "df = df.drop(df.index[4])\n",
        "df"
      ],
      "execution_count": 8,
      "outputs": [
        {
          "output_type": "execute_result",
          "data": {
            "text/html": [
              "<div>\n",
              "<style scoped>\n",
              "    .dataframe tbody tr th:only-of-type {\n",
              "        vertical-align: middle;\n",
              "    }\n",
              "\n",
              "    .dataframe tbody tr th {\n",
              "        vertical-align: top;\n",
              "    }\n",
              "\n",
              "    .dataframe thead th {\n",
              "        text-align: right;\n",
              "    }\n",
              "</style>\n",
              "<table border=\"1\" class=\"dataframe\">\n",
              "  <thead>\n",
              "    <tr style=\"text-align: right;\">\n",
              "      <th></th>\n",
              "      <th>Coluna 1</th>\n",
              "      <th>Coluna 2</th>\n",
              "    </tr>\n",
              "  </thead>\n",
              "  <tbody>\n",
              "    <tr>\n",
              "      <th>0</th>\n",
              "      <td>1</td>\n",
              "      <td>A</td>\n",
              "    </tr>\n",
              "    <tr>\n",
              "      <th>1</th>\n",
              "      <td>2</td>\n",
              "      <td>B</td>\n",
              "    </tr>\n",
              "    <tr>\n",
              "      <th>2</th>\n",
              "      <td>3</td>\n",
              "      <td>C</td>\n",
              "    </tr>\n",
              "    <tr>\n",
              "      <th>3</th>\n",
              "      <td>4</td>\n",
              "      <td>D</td>\n",
              "    </tr>\n",
              "    <tr>\n",
              "      <th>5</th>\n",
              "      <td>6</td>\n",
              "      <td>F</td>\n",
              "    </tr>\n",
              "  </tbody>\n",
              "</table>\n",
              "</div>"
            ],
            "text/plain": [
              "   Coluna 1 Coluna 2\n",
              "0         1        A\n",
              "1         2        B\n",
              "2         3        C\n",
              "3         4        D\n",
              "5         6        F"
            ]
          },
          "metadata": {
            "tags": []
          },
          "execution_count": 8
        }
      ]
    },
    {
      "cell_type": "code",
      "metadata": {
        "colab": {
          "base_uri": "https://localhost:8080/",
          "height": 204
        },
        "id": "qB-D0iwOYF0q",
        "outputId": "e4b9bee2-e846-44c0-d2e8-0e3307c7f643"
      },
      "source": [
        "# excluir coluna\n",
        "df = df.drop(columns=\"Coluna 2\")\n",
        "df"
      ],
      "execution_count": 9,
      "outputs": [
        {
          "output_type": "execute_result",
          "data": {
            "text/html": [
              "<div>\n",
              "<style scoped>\n",
              "    .dataframe tbody tr th:only-of-type {\n",
              "        vertical-align: middle;\n",
              "    }\n",
              "\n",
              "    .dataframe tbody tr th {\n",
              "        vertical-align: top;\n",
              "    }\n",
              "\n",
              "    .dataframe thead th {\n",
              "        text-align: right;\n",
              "    }\n",
              "</style>\n",
              "<table border=\"1\" class=\"dataframe\">\n",
              "  <thead>\n",
              "    <tr style=\"text-align: right;\">\n",
              "      <th></th>\n",
              "      <th>Coluna 1</th>\n",
              "    </tr>\n",
              "  </thead>\n",
              "  <tbody>\n",
              "    <tr>\n",
              "      <th>0</th>\n",
              "      <td>1</td>\n",
              "    </tr>\n",
              "    <tr>\n",
              "      <th>1</th>\n",
              "      <td>2</td>\n",
              "    </tr>\n",
              "    <tr>\n",
              "      <th>2</th>\n",
              "      <td>3</td>\n",
              "    </tr>\n",
              "    <tr>\n",
              "      <th>3</th>\n",
              "      <td>4</td>\n",
              "    </tr>\n",
              "    <tr>\n",
              "      <th>5</th>\n",
              "      <td>6</td>\n",
              "    </tr>\n",
              "  </tbody>\n",
              "</table>\n",
              "</div>"
            ],
            "text/plain": [
              "   Coluna 1\n",
              "0         1\n",
              "1         2\n",
              "2         3\n",
              "3         4\n",
              "5         6"
            ]
          },
          "metadata": {
            "tags": []
          },
          "execution_count": 9
        }
      ]
    },
    {
      "cell_type": "markdown",
      "metadata": {
        "id": "qiEJrOQUYRw8"
      },
      "source": [
        "**Excluir definitivamente o dataframe**"
      ]
    },
    {
      "cell_type": "code",
      "metadata": {
        "id": "30dTiyRCYWwG"
      },
      "source": [
        "del(df)"
      ],
      "execution_count": 10,
      "outputs": []
    },
    {
      "cell_type": "markdown",
      "metadata": {
        "id": "uus2fzKnS3-5"
      },
      "source": [
        "**Através de uma fonte de dados**"
      ]
    },
    {
      "cell_type": "markdown",
      "metadata": {
        "id": "plZdqtp89n2L"
      },
      "source": [
        "Agora podemos também criá-lo a partir de uma fonte de dados. Existem diversas fontes podendo ser SQL Server, MongoDB a até mesmo um simples log file (txt), arquivo CSV, JSON, excel, etc. Então, vamos fazer criar nosso dataframe através de um csv e para isso, o Pandas nos oferece uma rica lista funções para diversas tarefas que poderíamos executar e uma delas é read_csv(args). Não vou detalhar a função, somente exemplificá-la, mas lembre-se que é possível fazer várias configurações para executar as diversas funções existentes no pandas.\n",
        "Vamos ao fácil trabalho."
      ]
    },
    {
      "cell_type": "code",
      "metadata": {
        "colab": {
          "base_uri": "https://localhost:8080/",
          "height": 824
        },
        "id": "g3RCt90Z9m4i",
        "outputId": "d637c438-913e-4ee3-de04-aeade33db4e9"
      },
      "source": [
        "arquivo = 'https://raw.githubusercontent.com/italomarcelogit/python-dicas-pandas/main/datasets/mini-dataset.csv'\n",
        "df = pd.read_csv(arquivo)\n",
        "df"
      ],
      "execution_count": 11,
      "outputs": [
        {
          "output_type": "execute_result",
          "data": {
            "text/html": [
              "<div>\n",
              "<style scoped>\n",
              "    .dataframe tbody tr th:only-of-type {\n",
              "        vertical-align: middle;\n",
              "    }\n",
              "\n",
              "    .dataframe tbody tr th {\n",
              "        vertical-align: top;\n",
              "    }\n",
              "\n",
              "    .dataframe thead th {\n",
              "        text-align: right;\n",
              "    }\n",
              "</style>\n",
              "<table border=\"1\" class=\"dataframe\">\n",
              "  <thead>\n",
              "    <tr style=\"text-align: right;\">\n",
              "      <th></th>\n",
              "      <th>nome</th>\n",
              "      <th>sexo</th>\n",
              "      <th>setor</th>\n",
              "      <th>idade</th>\n",
              "      <th>funcao</th>\n",
              "      <th>salario</th>\n",
              "    </tr>\n",
              "  </thead>\n",
              "  <tbody>\n",
              "    <tr>\n",
              "      <th>0</th>\n",
              "      <td>ANTONIO</td>\n",
              "      <td>M</td>\n",
              "      <td>administrativo</td>\n",
              "      <td>26</td>\n",
              "      <td>Diretor</td>\n",
              "      <td>15000</td>\n",
              "    </tr>\n",
              "    <tr>\n",
              "      <th>1</th>\n",
              "      <td>GUSTAVO</td>\n",
              "      <td>M</td>\n",
              "      <td>administrativo</td>\n",
              "      <td>29</td>\n",
              "      <td>assistente</td>\n",
              "      <td>3000</td>\n",
              "    </tr>\n",
              "    <tr>\n",
              "      <th>2</th>\n",
              "      <td>NORMA</td>\n",
              "      <td>F</td>\n",
              "      <td>administrativo</td>\n",
              "      <td>49</td>\n",
              "      <td>assistente</td>\n",
              "      <td>3000</td>\n",
              "    </tr>\n",
              "    <tr>\n",
              "      <th>3</th>\n",
              "      <td>QUITERIA</td>\n",
              "      <td>F</td>\n",
              "      <td>artes</td>\n",
              "      <td>39</td>\n",
              "      <td>assistente</td>\n",
              "      <td>6000</td>\n",
              "    </tr>\n",
              "    <tr>\n",
              "      <th>4</th>\n",
              "      <td>RENATA</td>\n",
              "      <td>F</td>\n",
              "      <td>artes</td>\n",
              "      <td>39</td>\n",
              "      <td>assistente</td>\n",
              "      <td>5000</td>\n",
              "    </tr>\n",
              "    <tr>\n",
              "      <th>5</th>\n",
              "      <td>SANDRO</td>\n",
              "      <td>M</td>\n",
              "      <td>artes</td>\n",
              "      <td>48</td>\n",
              "      <td>NaN</td>\n",
              "      <td>4000</td>\n",
              "    </tr>\n",
              "    <tr>\n",
              "      <th>6</th>\n",
              "      <td>VANESSA</td>\n",
              "      <td>F</td>\n",
              "      <td>artes</td>\n",
              "      <td>29</td>\n",
              "      <td>assistente</td>\n",
              "      <td>4000</td>\n",
              "    </tr>\n",
              "    <tr>\n",
              "      <th>7</th>\n",
              "      <td>MARCOS</td>\n",
              "      <td>M</td>\n",
              "      <td>comercial</td>\n",
              "      <td>49</td>\n",
              "      <td>executivo de contas</td>\n",
              "      <td>3000</td>\n",
              "    </tr>\n",
              "    <tr>\n",
              "      <th>8</th>\n",
              "      <td>CARLA</td>\n",
              "      <td>F</td>\n",
              "      <td>comercial</td>\n",
              "      <td>22</td>\n",
              "      <td>Gerente</td>\n",
              "      <td>7000</td>\n",
              "    </tr>\n",
              "    <tr>\n",
              "      <th>9</th>\n",
              "      <td>DANIELA</td>\n",
              "      <td>F</td>\n",
              "      <td>comercial</td>\n",
              "      <td>50</td>\n",
              "      <td>executivo de contas</td>\n",
              "      <td>3000</td>\n",
              "    </tr>\n",
              "    <tr>\n",
              "      <th>10</th>\n",
              "      <td>EDUARDO</td>\n",
              "      <td>M</td>\n",
              "      <td>comercial</td>\n",
              "      <td>34</td>\n",
              "      <td>executivo de contas</td>\n",
              "      <td>3000</td>\n",
              "    </tr>\n",
              "    <tr>\n",
              "      <th>11</th>\n",
              "      <td>PETRO</td>\n",
              "      <td>M</td>\n",
              "      <td>contabilidade</td>\n",
              "      <td>18</td>\n",
              "      <td>assistente</td>\n",
              "      <td>3000</td>\n",
              "    </tr>\n",
              "    <tr>\n",
              "      <th>12</th>\n",
              "      <td>OTAVIO</td>\n",
              "      <td>M</td>\n",
              "      <td>contabilidade</td>\n",
              "      <td>47</td>\n",
              "      <td>assistente</td>\n",
              "      <td>3000</td>\n",
              "    </tr>\n",
              "    <tr>\n",
              "      <th>13</th>\n",
              "      <td>BEATRIZ</td>\n",
              "      <td>F</td>\n",
              "      <td>financeiro</td>\n",
              "      <td>33</td>\n",
              "      <td>assistente</td>\n",
              "      <td>2500</td>\n",
              "    </tr>\n",
              "    <tr>\n",
              "      <th>14</th>\n",
              "      <td>TEODORO</td>\n",
              "      <td>M</td>\n",
              "      <td>financeiro</td>\n",
              "      <td>38</td>\n",
              "      <td>assistente</td>\n",
              "      <td>2500</td>\n",
              "    </tr>\n",
              "    <tr>\n",
              "      <th>15</th>\n",
              "      <td>ZURIEL</td>\n",
              "      <td>M</td>\n",
              "      <td>financeiro</td>\n",
              "      <td>20</td>\n",
              "      <td>NaN</td>\n",
              "      <td>3000</td>\n",
              "    </tr>\n",
              "    <tr>\n",
              "      <th>16</th>\n",
              "      <td>FABIA</td>\n",
              "      <td>F</td>\n",
              "      <td>marketing</td>\n",
              "      <td>49</td>\n",
              "      <td>assistente</td>\n",
              "      <td>2500</td>\n",
              "    </tr>\n",
              "    <tr>\n",
              "      <th>17</th>\n",
              "      <td>UBALDO</td>\n",
              "      <td>M</td>\n",
              "      <td>marketing</td>\n",
              "      <td>47</td>\n",
              "      <td>assistente</td>\n",
              "      <td>2500</td>\n",
              "    </tr>\n",
              "    <tr>\n",
              "      <th>18</th>\n",
              "      <td>XAVIER</td>\n",
              "      <td>M</td>\n",
              "      <td>marketing</td>\n",
              "      <td>28</td>\n",
              "      <td>Coordenador</td>\n",
              "      <td>3500</td>\n",
              "    </tr>\n",
              "    <tr>\n",
              "      <th>19</th>\n",
              "      <td>YOLANDA</td>\n",
              "      <td>F</td>\n",
              "      <td>marketing</td>\n",
              "      <td>27</td>\n",
              "      <td>assistente</td>\n",
              "      <td>2500</td>\n",
              "    </tr>\n",
              "    <tr>\n",
              "      <th>20</th>\n",
              "      <td>HELOISA</td>\n",
              "      <td>F</td>\n",
              "      <td>tecnologia</td>\n",
              "      <td>43</td>\n",
              "      <td>Gerente</td>\n",
              "      <td>10000</td>\n",
              "    </tr>\n",
              "    <tr>\n",
              "      <th>21</th>\n",
              "      <td>ISABELLE</td>\n",
              "      <td>F</td>\n",
              "      <td>tecnologia</td>\n",
              "      <td>28</td>\n",
              "      <td>Coordenador</td>\n",
              "      <td>7500</td>\n",
              "    </tr>\n",
              "    <tr>\n",
              "      <th>22</th>\n",
              "      <td>JOANA</td>\n",
              "      <td>F</td>\n",
              "      <td>tecnologia</td>\n",
              "      <td>29</td>\n",
              "      <td>Engenheiro de Software</td>\n",
              "      <td>5000</td>\n",
              "    </tr>\n",
              "    <tr>\n",
              "      <th>23</th>\n",
              "      <td>KLAYTON</td>\n",
              "      <td>M</td>\n",
              "      <td>tecnologia</td>\n",
              "      <td>33</td>\n",
              "      <td>NaN</td>\n",
              "      <td>5000</td>\n",
              "    </tr>\n",
              "    <tr>\n",
              "      <th>24</th>\n",
              "      <td>LAURO</td>\n",
              "      <td>M</td>\n",
              "      <td>tecnologia</td>\n",
              "      <td>26</td>\n",
              "      <td>Engenheiro de Software</td>\n",
              "      <td>5000</td>\n",
              "    </tr>\n",
              "  </tbody>\n",
              "</table>\n",
              "</div>"
            ],
            "text/plain": [
              "        nome sexo           setor  idade                  funcao  salario\n",
              "0    ANTONIO    M  administrativo     26                 Diretor    15000\n",
              "1    GUSTAVO    M  administrativo     29              assistente     3000\n",
              "2      NORMA    F  administrativo     49              assistente     3000\n",
              "3   QUITERIA    F           artes     39              assistente     6000\n",
              "4     RENATA    F           artes     39              assistente     5000\n",
              "5     SANDRO    M           artes     48                     NaN     4000\n",
              "6    VANESSA    F           artes     29              assistente     4000\n",
              "7     MARCOS    M       comercial     49     executivo de contas     3000\n",
              "8      CARLA    F       comercial     22                Gerente      7000\n",
              "9    DANIELA    F       comercial     50     executivo de contas     3000\n",
              "10   EDUARDO    M       comercial     34     executivo de contas     3000\n",
              "11     PETRO    M   contabilidade     18              assistente     3000\n",
              "12    OTAVIO    M   contabilidade     47              assistente     3000\n",
              "13   BEATRIZ    F      financeiro     33              assistente     2500\n",
              "14   TEODORO    M      financeiro     38              assistente     2500\n",
              "15    ZURIEL    M      financeiro     20                     NaN     3000\n",
              "16     FABIA    F       marketing     49              assistente     2500\n",
              "17    UBALDO    M       marketing     47              assistente     2500\n",
              "18    XAVIER    M       marketing     28             Coordenador     3500\n",
              "19   YOLANDA    F       marketing     27              assistente     2500\n",
              "20   HELOISA    F      tecnologia     43                Gerente     10000\n",
              "21  ISABELLE    F      tecnologia     28             Coordenador     7500\n",
              "22     JOANA    F      tecnologia     29  Engenheiro de Software     5000\n",
              "23   KLAYTON    M      tecnologia     33                     NaN     5000\n",
              "24     LAURO    M      tecnologia     26  Engenheiro de Software     5000"
            ]
          },
          "metadata": {
            "tags": []
          },
          "execution_count": 11
        }
      ]
    },
    {
      "cell_type": "markdown",
      "metadata": {
        "id": "0LG46E5S_ovQ"
      },
      "source": [
        "# **Explorar a estrutura do DataFrame com Pandas**\n",
        "\n",
        "O nosso dataframe acima é um exemplo simples, possui poucas linhas e colunas mas imagine você analisando um log de autenticação de sua base de clientes que contém bilhões de linhas e até centenas de colunas?\n",
        "\n",
        "Então vamos olhar para o nosso simples dataframe e vamos descobrir o que podemos fazer com as funções úteis que o Pandas nos oferece para conhecermos melhor como está estruturado o nosso dado (dataframe)."
      ]
    },
    {
      "cell_type": "code",
      "metadata": {
        "colab": {
          "base_uri": "https://localhost:8080/"
        },
        "id": "FmNh7Q07AbTP",
        "outputId": "db9e0ef0-2f3d-46cb-eefa-8e71b51e6a89"
      },
      "source": [
        "# quantidade de linhas e colunas de um dataframe\n",
        "df.shape\n",
        "\n",
        "# como resultado iremos ver que nosso df tem 25 linhas e 6 colunas"
      ],
      "execution_count": 12,
      "outputs": [
        {
          "output_type": "execute_result",
          "data": {
            "text/plain": [
              "(25, 6)"
            ]
          },
          "metadata": {
            "tags": []
          },
          "execution_count": 12
        }
      ]
    },
    {
      "cell_type": "code",
      "metadata": {
        "colab": {
          "base_uri": "https://localhost:8080/"
        },
        "id": "AOiK3nEbAkcg",
        "outputId": "8fc1e436-bb4b-4c4b-e561-706251d81187"
      },
      "source": [
        "# quais são as colunas?\n",
        "df.columns"
      ],
      "execution_count": 13,
      "outputs": [
        {
          "output_type": "execute_result",
          "data": {
            "text/plain": [
              "Index(['nome', 'sexo', 'setor', 'idade', 'funcao', 'salario'], dtype='object')"
            ]
          },
          "metadata": {
            "tags": []
          },
          "execution_count": 13
        }
      ]
    },
    {
      "cell_type": "code",
      "metadata": {
        "colab": {
          "base_uri": "https://localhost:8080/"
        },
        "id": "Gu0Xxj_YA-sj",
        "outputId": "05bf9bd2-432a-48aa-af72-e186efcecffb"
      },
      "source": [
        "# ou retornando somente o vetor (array) com os nomes das colunas\n",
        "df.columns.to_list()"
      ],
      "execution_count": 14,
      "outputs": [
        {
          "output_type": "execute_result",
          "data": {
            "text/plain": [
              "['nome', 'sexo', 'setor', 'idade', 'funcao', 'salario']"
            ]
          },
          "metadata": {
            "tags": []
          },
          "execution_count": 14
        }
      ]
    },
    {
      "cell_type": "code",
      "metadata": {
        "colab": {
          "base_uri": "https://localhost:8080/"
        },
        "id": "kysM1LJkBIR2",
        "outputId": "6a6fcb82-2406-4e49-c72b-8952d9b7b2b9"
      },
      "source": [
        "# mas o que realmente fazemos é logo retornar mais informações sobre o dataframe\n",
        "# para isso, utilizamos a função info()\n",
        "df.info()\n",
        "# com ela eu sei quantas linhas, colunas e seus tipos (inteiro, datetime, object)\n",
        "#, se tem valores nulos, e outras informações"
      ],
      "execution_count": 15,
      "outputs": [
        {
          "output_type": "stream",
          "text": [
            "<class 'pandas.core.frame.DataFrame'>\n",
            "RangeIndex: 25 entries, 0 to 24\n",
            "Data columns (total 6 columns):\n",
            " #   Column   Non-Null Count  Dtype \n",
            "---  ------   --------------  ----- \n",
            " 0   nome     25 non-null     object\n",
            " 1   sexo     25 non-null     object\n",
            " 2   setor    25 non-null     object\n",
            " 3   idade    25 non-null     int64 \n",
            " 4   funcao   22 non-null     object\n",
            " 5   salario  25 non-null     int64 \n",
            "dtypes: int64(2), object(4)\n",
            "memory usage: 1.3+ KB\n"
          ],
          "name": "stdout"
        }
      ]
    },
    {
      "cell_type": "markdown",
      "metadata": {
        "id": "X3vLvHSLB7Ld"
      },
      "source": [
        "# **Explorar o dataframe através dos índices e colunas**\n",
        "\n",
        "Como disse anteriormente, na maioria das vezes, os dataframes possuem um grande volume de dados e manipular um volume grande não é interessante no momento que estamos analisando os dados contidos nele, seus tipos, seus erros, etc.\n",
        "\n",
        "Então para conhecermos um pouco sobre os dados, utilizaremos algunas funções de manipulaçao do Pandas bastante populares."
      ]
    },
    {
      "cell_type": "code",
      "metadata": {
        "colab": {
          "base_uri": "https://localhost:8080/",
          "height": 142
        },
        "id": "9lnBLksVB6b1",
        "outputId": "81010c01-0dab-4147-ebdf-a4a8688b133e"
      },
      "source": [
        "# para visualizar as primeiras linhas (rows) do dataframe, utilizamos a função\n",
        "# .head() que, como padrão, retornará as primeiras 5 linhas. Mas podemos mudar isso\n",
        "df.head(3)"
      ],
      "execution_count": 16,
      "outputs": [
        {
          "output_type": "execute_result",
          "data": {
            "text/html": [
              "<div>\n",
              "<style scoped>\n",
              "    .dataframe tbody tr th:only-of-type {\n",
              "        vertical-align: middle;\n",
              "    }\n",
              "\n",
              "    .dataframe tbody tr th {\n",
              "        vertical-align: top;\n",
              "    }\n",
              "\n",
              "    .dataframe thead th {\n",
              "        text-align: right;\n",
              "    }\n",
              "</style>\n",
              "<table border=\"1\" class=\"dataframe\">\n",
              "  <thead>\n",
              "    <tr style=\"text-align: right;\">\n",
              "      <th></th>\n",
              "      <th>nome</th>\n",
              "      <th>sexo</th>\n",
              "      <th>setor</th>\n",
              "      <th>idade</th>\n",
              "      <th>funcao</th>\n",
              "      <th>salario</th>\n",
              "    </tr>\n",
              "  </thead>\n",
              "  <tbody>\n",
              "    <tr>\n",
              "      <th>0</th>\n",
              "      <td>ANTONIO</td>\n",
              "      <td>M</td>\n",
              "      <td>administrativo</td>\n",
              "      <td>26</td>\n",
              "      <td>Diretor</td>\n",
              "      <td>15000</td>\n",
              "    </tr>\n",
              "    <tr>\n",
              "      <th>1</th>\n",
              "      <td>GUSTAVO</td>\n",
              "      <td>M</td>\n",
              "      <td>administrativo</td>\n",
              "      <td>29</td>\n",
              "      <td>assistente</td>\n",
              "      <td>3000</td>\n",
              "    </tr>\n",
              "    <tr>\n",
              "      <th>2</th>\n",
              "      <td>NORMA</td>\n",
              "      <td>F</td>\n",
              "      <td>administrativo</td>\n",
              "      <td>49</td>\n",
              "      <td>assistente</td>\n",
              "      <td>3000</td>\n",
              "    </tr>\n",
              "  </tbody>\n",
              "</table>\n",
              "</div>"
            ],
            "text/plain": [
              "      nome sexo           setor  idade      funcao  salario\n",
              "0  ANTONIO    M  administrativo     26     Diretor    15000\n",
              "1  GUSTAVO    M  administrativo     29  assistente     3000\n",
              "2    NORMA    F  administrativo     49  assistente     3000"
            ]
          },
          "metadata": {
            "tags": []
          },
          "execution_count": 16
        }
      ]
    },
    {
      "cell_type": "code",
      "metadata": {
        "colab": {
          "base_uri": "https://localhost:8080/",
          "height": 204
        },
        "id": "tAme_DKtCtGp",
        "outputId": "97f5fcd4-43cd-464a-f639-09b7a45dbef2"
      },
      "source": [
        "# ou visualizar somente as últimas 5 linhas. Para isso, usamos a função .tail()\n",
        "df.tail() # neste caso, utilizamos o padrão"
      ],
      "execution_count": 17,
      "outputs": [
        {
          "output_type": "execute_result",
          "data": {
            "text/html": [
              "<div>\n",
              "<style scoped>\n",
              "    .dataframe tbody tr th:only-of-type {\n",
              "        vertical-align: middle;\n",
              "    }\n",
              "\n",
              "    .dataframe tbody tr th {\n",
              "        vertical-align: top;\n",
              "    }\n",
              "\n",
              "    .dataframe thead th {\n",
              "        text-align: right;\n",
              "    }\n",
              "</style>\n",
              "<table border=\"1\" class=\"dataframe\">\n",
              "  <thead>\n",
              "    <tr style=\"text-align: right;\">\n",
              "      <th></th>\n",
              "      <th>nome</th>\n",
              "      <th>sexo</th>\n",
              "      <th>setor</th>\n",
              "      <th>idade</th>\n",
              "      <th>funcao</th>\n",
              "      <th>salario</th>\n",
              "    </tr>\n",
              "  </thead>\n",
              "  <tbody>\n",
              "    <tr>\n",
              "      <th>20</th>\n",
              "      <td>HELOISA</td>\n",
              "      <td>F</td>\n",
              "      <td>tecnologia</td>\n",
              "      <td>43</td>\n",
              "      <td>Gerente</td>\n",
              "      <td>10000</td>\n",
              "    </tr>\n",
              "    <tr>\n",
              "      <th>21</th>\n",
              "      <td>ISABELLE</td>\n",
              "      <td>F</td>\n",
              "      <td>tecnologia</td>\n",
              "      <td>28</td>\n",
              "      <td>Coordenador</td>\n",
              "      <td>7500</td>\n",
              "    </tr>\n",
              "    <tr>\n",
              "      <th>22</th>\n",
              "      <td>JOANA</td>\n",
              "      <td>F</td>\n",
              "      <td>tecnologia</td>\n",
              "      <td>29</td>\n",
              "      <td>Engenheiro de Software</td>\n",
              "      <td>5000</td>\n",
              "    </tr>\n",
              "    <tr>\n",
              "      <th>23</th>\n",
              "      <td>KLAYTON</td>\n",
              "      <td>M</td>\n",
              "      <td>tecnologia</td>\n",
              "      <td>33</td>\n",
              "      <td>NaN</td>\n",
              "      <td>5000</td>\n",
              "    </tr>\n",
              "    <tr>\n",
              "      <th>24</th>\n",
              "      <td>LAURO</td>\n",
              "      <td>M</td>\n",
              "      <td>tecnologia</td>\n",
              "      <td>26</td>\n",
              "      <td>Engenheiro de Software</td>\n",
              "      <td>5000</td>\n",
              "    </tr>\n",
              "  </tbody>\n",
              "</table>\n",
              "</div>"
            ],
            "text/plain": [
              "        nome sexo       setor  idade                  funcao  salario\n",
              "20   HELOISA    F  tecnologia     43                Gerente     10000\n",
              "21  ISABELLE    F  tecnologia     28             Coordenador     7500\n",
              "22     JOANA    F  tecnologia     29  Engenheiro de Software     5000\n",
              "23   KLAYTON    M  tecnologia     33                     NaN     5000\n",
              "24     LAURO    M  tecnologia     26  Engenheiro de Software     5000"
            ]
          },
          "metadata": {
            "tags": []
          },
          "execution_count": 17
        }
      ]
    },
    {
      "cell_type": "code",
      "metadata": {
        "colab": {
          "base_uri": "https://localhost:8080/",
          "height": 111
        },
        "id": "BtkmV-KsDCna",
        "outputId": "a3e7127d-48c3-4b6b-98d8-aa2e823294c1"
      },
      "source": [
        "# mas em alguns momentos queremos trazer informações linhas de exemplos, mas de \n",
        "# posições aleatórias. Para isso utilizaremos a função .sample() mas essa, por\n",
        "# padrão, ela retorna somente 1 linha mas também é possível passar a quantidade \n",
        "# desejada\n",
        "df.sample(2)"
      ],
      "execution_count": 18,
      "outputs": [
        {
          "output_type": "execute_result",
          "data": {
            "text/html": [
              "<div>\n",
              "<style scoped>\n",
              "    .dataframe tbody tr th:only-of-type {\n",
              "        vertical-align: middle;\n",
              "    }\n",
              "\n",
              "    .dataframe tbody tr th {\n",
              "        vertical-align: top;\n",
              "    }\n",
              "\n",
              "    .dataframe thead th {\n",
              "        text-align: right;\n",
              "    }\n",
              "</style>\n",
              "<table border=\"1\" class=\"dataframe\">\n",
              "  <thead>\n",
              "    <tr style=\"text-align: right;\">\n",
              "      <th></th>\n",
              "      <th>nome</th>\n",
              "      <th>sexo</th>\n",
              "      <th>setor</th>\n",
              "      <th>idade</th>\n",
              "      <th>funcao</th>\n",
              "      <th>salario</th>\n",
              "    </tr>\n",
              "  </thead>\n",
              "  <tbody>\n",
              "    <tr>\n",
              "      <th>20</th>\n",
              "      <td>HELOISA</td>\n",
              "      <td>F</td>\n",
              "      <td>tecnologia</td>\n",
              "      <td>43</td>\n",
              "      <td>Gerente</td>\n",
              "      <td>10000</td>\n",
              "    </tr>\n",
              "    <tr>\n",
              "      <th>3</th>\n",
              "      <td>QUITERIA</td>\n",
              "      <td>F</td>\n",
              "      <td>artes</td>\n",
              "      <td>39</td>\n",
              "      <td>assistente</td>\n",
              "      <td>6000</td>\n",
              "    </tr>\n",
              "  </tbody>\n",
              "</table>\n",
              "</div>"
            ],
            "text/plain": [
              "        nome sexo       setor  idade      funcao  salario\n",
              "20   HELOISA    F  tecnologia     43    Gerente     10000\n",
              "3   QUITERIA    F       artes     39  assistente     6000"
            ]
          },
          "metadata": {
            "tags": []
          },
          "execution_count": 18
        }
      ]
    },
    {
      "cell_type": "markdown",
      "metadata": {
        "id": "G_Jl8BnqDcpM"
      },
      "source": [
        "Acredito que ficou claro nos blocos acima retornados que cada linha possui a sua identificação, conhecida como índice (index). E podemos utilizá-lo para diversas situações. Darei alguns exemplos:"
      ]
    },
    {
      "cell_type": "code",
      "metadata": {
        "colab": {
          "base_uri": "https://localhost:8080/"
        },
        "id": "mis6D0BVDWg8",
        "outputId": "f1e46b42-84f0-4c71-8ca6-d5d4738bd694"
      },
      "source": [
        "# exibir o range do meu índice, inicia com o valor 0, para no 25, incrementando \n",
        "# de 1 em um\n",
        "df.index"
      ],
      "execution_count": 19,
      "outputs": [
        {
          "output_type": "execute_result",
          "data": {
            "text/plain": [
              "RangeIndex(start=0, stop=25, step=1)"
            ]
          },
          "metadata": {
            "tags": []
          },
          "execution_count": 19
        }
      ]
    },
    {
      "cell_type": "code",
      "metadata": {
        "colab": {
          "base_uri": "https://localhost:8080/"
        },
        "id": "n_9E2KpGD7QP",
        "outputId": "60074365-581f-468f-c929-f26492e060ab"
      },
      "source": [
        "# ou eu poderia retornar um vetor com os seus valores\n",
        "df.index.values"
      ],
      "execution_count": 20,
      "outputs": [
        {
          "output_type": "execute_result",
          "data": {
            "text/plain": [
              "array([ 0,  1,  2,  3,  4,  5,  6,  7,  8,  9, 10, 11, 12, 13, 14, 15, 16,\n",
              "       17, 18, 19, 20, 21, 22, 23, 24])"
            ]
          },
          "metadata": {
            "tags": []
          },
          "execution_count": 20
        }
      ]
    },
    {
      "cell_type": "code",
      "metadata": {
        "colab": {
          "base_uri": "https://localhost:8080/",
          "height": 824
        },
        "id": "R-LmcicxEJfc",
        "outputId": "63e37ca1-5dc9-416a-bef2-da75e94bea48"
      },
      "source": [
        "# mas vamos utilizá-lo para exibir linhas (rows) de nosso dataframe\n",
        "df"
      ],
      "execution_count": 21,
      "outputs": [
        {
          "output_type": "execute_result",
          "data": {
            "text/html": [
              "<div>\n",
              "<style scoped>\n",
              "    .dataframe tbody tr th:only-of-type {\n",
              "        vertical-align: middle;\n",
              "    }\n",
              "\n",
              "    .dataframe tbody tr th {\n",
              "        vertical-align: top;\n",
              "    }\n",
              "\n",
              "    .dataframe thead th {\n",
              "        text-align: right;\n",
              "    }\n",
              "</style>\n",
              "<table border=\"1\" class=\"dataframe\">\n",
              "  <thead>\n",
              "    <tr style=\"text-align: right;\">\n",
              "      <th></th>\n",
              "      <th>nome</th>\n",
              "      <th>sexo</th>\n",
              "      <th>setor</th>\n",
              "      <th>idade</th>\n",
              "      <th>funcao</th>\n",
              "      <th>salario</th>\n",
              "    </tr>\n",
              "  </thead>\n",
              "  <tbody>\n",
              "    <tr>\n",
              "      <th>0</th>\n",
              "      <td>ANTONIO</td>\n",
              "      <td>M</td>\n",
              "      <td>administrativo</td>\n",
              "      <td>26</td>\n",
              "      <td>Diretor</td>\n",
              "      <td>15000</td>\n",
              "    </tr>\n",
              "    <tr>\n",
              "      <th>1</th>\n",
              "      <td>GUSTAVO</td>\n",
              "      <td>M</td>\n",
              "      <td>administrativo</td>\n",
              "      <td>29</td>\n",
              "      <td>assistente</td>\n",
              "      <td>3000</td>\n",
              "    </tr>\n",
              "    <tr>\n",
              "      <th>2</th>\n",
              "      <td>NORMA</td>\n",
              "      <td>F</td>\n",
              "      <td>administrativo</td>\n",
              "      <td>49</td>\n",
              "      <td>assistente</td>\n",
              "      <td>3000</td>\n",
              "    </tr>\n",
              "    <tr>\n",
              "      <th>3</th>\n",
              "      <td>QUITERIA</td>\n",
              "      <td>F</td>\n",
              "      <td>artes</td>\n",
              "      <td>39</td>\n",
              "      <td>assistente</td>\n",
              "      <td>6000</td>\n",
              "    </tr>\n",
              "    <tr>\n",
              "      <th>4</th>\n",
              "      <td>RENATA</td>\n",
              "      <td>F</td>\n",
              "      <td>artes</td>\n",
              "      <td>39</td>\n",
              "      <td>assistente</td>\n",
              "      <td>5000</td>\n",
              "    </tr>\n",
              "    <tr>\n",
              "      <th>5</th>\n",
              "      <td>SANDRO</td>\n",
              "      <td>M</td>\n",
              "      <td>artes</td>\n",
              "      <td>48</td>\n",
              "      <td>NaN</td>\n",
              "      <td>4000</td>\n",
              "    </tr>\n",
              "    <tr>\n",
              "      <th>6</th>\n",
              "      <td>VANESSA</td>\n",
              "      <td>F</td>\n",
              "      <td>artes</td>\n",
              "      <td>29</td>\n",
              "      <td>assistente</td>\n",
              "      <td>4000</td>\n",
              "    </tr>\n",
              "    <tr>\n",
              "      <th>7</th>\n",
              "      <td>MARCOS</td>\n",
              "      <td>M</td>\n",
              "      <td>comercial</td>\n",
              "      <td>49</td>\n",
              "      <td>executivo de contas</td>\n",
              "      <td>3000</td>\n",
              "    </tr>\n",
              "    <tr>\n",
              "      <th>8</th>\n",
              "      <td>CARLA</td>\n",
              "      <td>F</td>\n",
              "      <td>comercial</td>\n",
              "      <td>22</td>\n",
              "      <td>Gerente</td>\n",
              "      <td>7000</td>\n",
              "    </tr>\n",
              "    <tr>\n",
              "      <th>9</th>\n",
              "      <td>DANIELA</td>\n",
              "      <td>F</td>\n",
              "      <td>comercial</td>\n",
              "      <td>50</td>\n",
              "      <td>executivo de contas</td>\n",
              "      <td>3000</td>\n",
              "    </tr>\n",
              "    <tr>\n",
              "      <th>10</th>\n",
              "      <td>EDUARDO</td>\n",
              "      <td>M</td>\n",
              "      <td>comercial</td>\n",
              "      <td>34</td>\n",
              "      <td>executivo de contas</td>\n",
              "      <td>3000</td>\n",
              "    </tr>\n",
              "    <tr>\n",
              "      <th>11</th>\n",
              "      <td>PETRO</td>\n",
              "      <td>M</td>\n",
              "      <td>contabilidade</td>\n",
              "      <td>18</td>\n",
              "      <td>assistente</td>\n",
              "      <td>3000</td>\n",
              "    </tr>\n",
              "    <tr>\n",
              "      <th>12</th>\n",
              "      <td>OTAVIO</td>\n",
              "      <td>M</td>\n",
              "      <td>contabilidade</td>\n",
              "      <td>47</td>\n",
              "      <td>assistente</td>\n",
              "      <td>3000</td>\n",
              "    </tr>\n",
              "    <tr>\n",
              "      <th>13</th>\n",
              "      <td>BEATRIZ</td>\n",
              "      <td>F</td>\n",
              "      <td>financeiro</td>\n",
              "      <td>33</td>\n",
              "      <td>assistente</td>\n",
              "      <td>2500</td>\n",
              "    </tr>\n",
              "    <tr>\n",
              "      <th>14</th>\n",
              "      <td>TEODORO</td>\n",
              "      <td>M</td>\n",
              "      <td>financeiro</td>\n",
              "      <td>38</td>\n",
              "      <td>assistente</td>\n",
              "      <td>2500</td>\n",
              "    </tr>\n",
              "    <tr>\n",
              "      <th>15</th>\n",
              "      <td>ZURIEL</td>\n",
              "      <td>M</td>\n",
              "      <td>financeiro</td>\n",
              "      <td>20</td>\n",
              "      <td>NaN</td>\n",
              "      <td>3000</td>\n",
              "    </tr>\n",
              "    <tr>\n",
              "      <th>16</th>\n",
              "      <td>FABIA</td>\n",
              "      <td>F</td>\n",
              "      <td>marketing</td>\n",
              "      <td>49</td>\n",
              "      <td>assistente</td>\n",
              "      <td>2500</td>\n",
              "    </tr>\n",
              "    <tr>\n",
              "      <th>17</th>\n",
              "      <td>UBALDO</td>\n",
              "      <td>M</td>\n",
              "      <td>marketing</td>\n",
              "      <td>47</td>\n",
              "      <td>assistente</td>\n",
              "      <td>2500</td>\n",
              "    </tr>\n",
              "    <tr>\n",
              "      <th>18</th>\n",
              "      <td>XAVIER</td>\n",
              "      <td>M</td>\n",
              "      <td>marketing</td>\n",
              "      <td>28</td>\n",
              "      <td>Coordenador</td>\n",
              "      <td>3500</td>\n",
              "    </tr>\n",
              "    <tr>\n",
              "      <th>19</th>\n",
              "      <td>YOLANDA</td>\n",
              "      <td>F</td>\n",
              "      <td>marketing</td>\n",
              "      <td>27</td>\n",
              "      <td>assistente</td>\n",
              "      <td>2500</td>\n",
              "    </tr>\n",
              "    <tr>\n",
              "      <th>20</th>\n",
              "      <td>HELOISA</td>\n",
              "      <td>F</td>\n",
              "      <td>tecnologia</td>\n",
              "      <td>43</td>\n",
              "      <td>Gerente</td>\n",
              "      <td>10000</td>\n",
              "    </tr>\n",
              "    <tr>\n",
              "      <th>21</th>\n",
              "      <td>ISABELLE</td>\n",
              "      <td>F</td>\n",
              "      <td>tecnologia</td>\n",
              "      <td>28</td>\n",
              "      <td>Coordenador</td>\n",
              "      <td>7500</td>\n",
              "    </tr>\n",
              "    <tr>\n",
              "      <th>22</th>\n",
              "      <td>JOANA</td>\n",
              "      <td>F</td>\n",
              "      <td>tecnologia</td>\n",
              "      <td>29</td>\n",
              "      <td>Engenheiro de Software</td>\n",
              "      <td>5000</td>\n",
              "    </tr>\n",
              "    <tr>\n",
              "      <th>23</th>\n",
              "      <td>KLAYTON</td>\n",
              "      <td>M</td>\n",
              "      <td>tecnologia</td>\n",
              "      <td>33</td>\n",
              "      <td>NaN</td>\n",
              "      <td>5000</td>\n",
              "    </tr>\n",
              "    <tr>\n",
              "      <th>24</th>\n",
              "      <td>LAURO</td>\n",
              "      <td>M</td>\n",
              "      <td>tecnologia</td>\n",
              "      <td>26</td>\n",
              "      <td>Engenheiro de Software</td>\n",
              "      <td>5000</td>\n",
              "    </tr>\n",
              "  </tbody>\n",
              "</table>\n",
              "</div>"
            ],
            "text/plain": [
              "        nome sexo           setor  idade                  funcao  salario\n",
              "0    ANTONIO    M  administrativo     26                 Diretor    15000\n",
              "1    GUSTAVO    M  administrativo     29              assistente     3000\n",
              "2      NORMA    F  administrativo     49              assistente     3000\n",
              "3   QUITERIA    F           artes     39              assistente     6000\n",
              "4     RENATA    F           artes     39              assistente     5000\n",
              "5     SANDRO    M           artes     48                     NaN     4000\n",
              "6    VANESSA    F           artes     29              assistente     4000\n",
              "7     MARCOS    M       comercial     49     executivo de contas     3000\n",
              "8      CARLA    F       comercial     22                Gerente      7000\n",
              "9    DANIELA    F       comercial     50     executivo de contas     3000\n",
              "10   EDUARDO    M       comercial     34     executivo de contas     3000\n",
              "11     PETRO    M   contabilidade     18              assistente     3000\n",
              "12    OTAVIO    M   contabilidade     47              assistente     3000\n",
              "13   BEATRIZ    F      financeiro     33              assistente     2500\n",
              "14   TEODORO    M      financeiro     38              assistente     2500\n",
              "15    ZURIEL    M      financeiro     20                     NaN     3000\n",
              "16     FABIA    F       marketing     49              assistente     2500\n",
              "17    UBALDO    M       marketing     47              assistente     2500\n",
              "18    XAVIER    M       marketing     28             Coordenador     3500\n",
              "19   YOLANDA    F       marketing     27              assistente     2500\n",
              "20   HELOISA    F      tecnologia     43                Gerente     10000\n",
              "21  ISABELLE    F      tecnologia     28             Coordenador     7500\n",
              "22     JOANA    F      tecnologia     29  Engenheiro de Software     5000\n",
              "23   KLAYTON    M      tecnologia     33                     NaN     5000\n",
              "24     LAURO    M      tecnologia     26  Engenheiro de Software     5000"
            ]
          },
          "metadata": {
            "tags": []
          },
          "execution_count": 21
        }
      ]
    },
    {
      "cell_type": "code",
      "metadata": {
        "colab": {
          "base_uri": "https://localhost:8080/",
          "height": 142
        },
        "id": "vX0uuEgAEThi",
        "outputId": "3a98c1ad-4b0c-4e26-93dd-026304107602"
      },
      "source": [
        "# retornar o bloco de registros do dataframe que vão do início 0 até a posição 2\n",
        "# utilizando a a função .iloc\n",
        "df.iloc[:3] # veja, o 3 é onde ele para mas não o exibe."
      ],
      "execution_count": 22,
      "outputs": [
        {
          "output_type": "execute_result",
          "data": {
            "text/html": [
              "<div>\n",
              "<style scoped>\n",
              "    .dataframe tbody tr th:only-of-type {\n",
              "        vertical-align: middle;\n",
              "    }\n",
              "\n",
              "    .dataframe tbody tr th {\n",
              "        vertical-align: top;\n",
              "    }\n",
              "\n",
              "    .dataframe thead th {\n",
              "        text-align: right;\n",
              "    }\n",
              "</style>\n",
              "<table border=\"1\" class=\"dataframe\">\n",
              "  <thead>\n",
              "    <tr style=\"text-align: right;\">\n",
              "      <th></th>\n",
              "      <th>nome</th>\n",
              "      <th>sexo</th>\n",
              "      <th>setor</th>\n",
              "      <th>idade</th>\n",
              "      <th>funcao</th>\n",
              "      <th>salario</th>\n",
              "    </tr>\n",
              "  </thead>\n",
              "  <tbody>\n",
              "    <tr>\n",
              "      <th>0</th>\n",
              "      <td>ANTONIO</td>\n",
              "      <td>M</td>\n",
              "      <td>administrativo</td>\n",
              "      <td>26</td>\n",
              "      <td>Diretor</td>\n",
              "      <td>15000</td>\n",
              "    </tr>\n",
              "    <tr>\n",
              "      <th>1</th>\n",
              "      <td>GUSTAVO</td>\n",
              "      <td>M</td>\n",
              "      <td>administrativo</td>\n",
              "      <td>29</td>\n",
              "      <td>assistente</td>\n",
              "      <td>3000</td>\n",
              "    </tr>\n",
              "    <tr>\n",
              "      <th>2</th>\n",
              "      <td>NORMA</td>\n",
              "      <td>F</td>\n",
              "      <td>administrativo</td>\n",
              "      <td>49</td>\n",
              "      <td>assistente</td>\n",
              "      <td>3000</td>\n",
              "    </tr>\n",
              "  </tbody>\n",
              "</table>\n",
              "</div>"
            ],
            "text/plain": [
              "      nome sexo           setor  idade      funcao  salario\n",
              "0  ANTONIO    M  administrativo     26     Diretor    15000\n",
              "1  GUSTAVO    M  administrativo     29  assistente     3000\n",
              "2    NORMA    F  administrativo     49  assistente     3000"
            ]
          },
          "metadata": {
            "tags": []
          },
          "execution_count": 22
        }
      ]
    },
    {
      "cell_type": "code",
      "metadata": {
        "colab": {
          "base_uri": "https://localhost:8080/",
          "height": 142
        },
        "id": "lLRuiulUEm0X",
        "outputId": "f8202a5c-f0cf-4bba-ccd8-4efd332cee5c"
      },
      "source": [
        "# agora iremos retornar o bloco de registros da linha 22 em diante\n",
        "df.iloc[22:]"
      ],
      "execution_count": 23,
      "outputs": [
        {
          "output_type": "execute_result",
          "data": {
            "text/html": [
              "<div>\n",
              "<style scoped>\n",
              "    .dataframe tbody tr th:only-of-type {\n",
              "        vertical-align: middle;\n",
              "    }\n",
              "\n",
              "    .dataframe tbody tr th {\n",
              "        vertical-align: top;\n",
              "    }\n",
              "\n",
              "    .dataframe thead th {\n",
              "        text-align: right;\n",
              "    }\n",
              "</style>\n",
              "<table border=\"1\" class=\"dataframe\">\n",
              "  <thead>\n",
              "    <tr style=\"text-align: right;\">\n",
              "      <th></th>\n",
              "      <th>nome</th>\n",
              "      <th>sexo</th>\n",
              "      <th>setor</th>\n",
              "      <th>idade</th>\n",
              "      <th>funcao</th>\n",
              "      <th>salario</th>\n",
              "    </tr>\n",
              "  </thead>\n",
              "  <tbody>\n",
              "    <tr>\n",
              "      <th>22</th>\n",
              "      <td>JOANA</td>\n",
              "      <td>F</td>\n",
              "      <td>tecnologia</td>\n",
              "      <td>29</td>\n",
              "      <td>Engenheiro de Software</td>\n",
              "      <td>5000</td>\n",
              "    </tr>\n",
              "    <tr>\n",
              "      <th>23</th>\n",
              "      <td>KLAYTON</td>\n",
              "      <td>M</td>\n",
              "      <td>tecnologia</td>\n",
              "      <td>33</td>\n",
              "      <td>NaN</td>\n",
              "      <td>5000</td>\n",
              "    </tr>\n",
              "    <tr>\n",
              "      <th>24</th>\n",
              "      <td>LAURO</td>\n",
              "      <td>M</td>\n",
              "      <td>tecnologia</td>\n",
              "      <td>26</td>\n",
              "      <td>Engenheiro de Software</td>\n",
              "      <td>5000</td>\n",
              "    </tr>\n",
              "  </tbody>\n",
              "</table>\n",
              "</div>"
            ],
            "text/plain": [
              "       nome sexo       setor  idade                  funcao  salario\n",
              "22    JOANA    F  tecnologia     29  Engenheiro de Software     5000\n",
              "23  KLAYTON    M  tecnologia     33                     NaN     5000\n",
              "24    LAURO    M  tecnologia     26  Engenheiro de Software     5000"
            ]
          },
          "metadata": {
            "tags": []
          },
          "execution_count": 23
        }
      ]
    },
    {
      "cell_type": "code",
      "metadata": {
        "colab": {
          "base_uri": "https://localhost:8080/",
          "height": 204
        },
        "id": "v4XMfDilEw6m",
        "outputId": "76f3e358-a3b8-4891-bc57-263330b0f960"
      },
      "source": [
        "# ou somente os registros de 5 a 9\n",
        "df.iloc[5:10]"
      ],
      "execution_count": 24,
      "outputs": [
        {
          "output_type": "execute_result",
          "data": {
            "text/html": [
              "<div>\n",
              "<style scoped>\n",
              "    .dataframe tbody tr th:only-of-type {\n",
              "        vertical-align: middle;\n",
              "    }\n",
              "\n",
              "    .dataframe tbody tr th {\n",
              "        vertical-align: top;\n",
              "    }\n",
              "\n",
              "    .dataframe thead th {\n",
              "        text-align: right;\n",
              "    }\n",
              "</style>\n",
              "<table border=\"1\" class=\"dataframe\">\n",
              "  <thead>\n",
              "    <tr style=\"text-align: right;\">\n",
              "      <th></th>\n",
              "      <th>nome</th>\n",
              "      <th>sexo</th>\n",
              "      <th>setor</th>\n",
              "      <th>idade</th>\n",
              "      <th>funcao</th>\n",
              "      <th>salario</th>\n",
              "    </tr>\n",
              "  </thead>\n",
              "  <tbody>\n",
              "    <tr>\n",
              "      <th>5</th>\n",
              "      <td>SANDRO</td>\n",
              "      <td>M</td>\n",
              "      <td>artes</td>\n",
              "      <td>48</td>\n",
              "      <td>NaN</td>\n",
              "      <td>4000</td>\n",
              "    </tr>\n",
              "    <tr>\n",
              "      <th>6</th>\n",
              "      <td>VANESSA</td>\n",
              "      <td>F</td>\n",
              "      <td>artes</td>\n",
              "      <td>29</td>\n",
              "      <td>assistente</td>\n",
              "      <td>4000</td>\n",
              "    </tr>\n",
              "    <tr>\n",
              "      <th>7</th>\n",
              "      <td>MARCOS</td>\n",
              "      <td>M</td>\n",
              "      <td>comercial</td>\n",
              "      <td>49</td>\n",
              "      <td>executivo de contas</td>\n",
              "      <td>3000</td>\n",
              "    </tr>\n",
              "    <tr>\n",
              "      <th>8</th>\n",
              "      <td>CARLA</td>\n",
              "      <td>F</td>\n",
              "      <td>comercial</td>\n",
              "      <td>22</td>\n",
              "      <td>Gerente</td>\n",
              "      <td>7000</td>\n",
              "    </tr>\n",
              "    <tr>\n",
              "      <th>9</th>\n",
              "      <td>DANIELA</td>\n",
              "      <td>F</td>\n",
              "      <td>comercial</td>\n",
              "      <td>50</td>\n",
              "      <td>executivo de contas</td>\n",
              "      <td>3000</td>\n",
              "    </tr>\n",
              "  </tbody>\n",
              "</table>\n",
              "</div>"
            ],
            "text/plain": [
              "      nome sexo      setor  idade               funcao  salario\n",
              "5   SANDRO    M      artes     48                  NaN     4000\n",
              "6  VANESSA    F      artes     29           assistente     4000\n",
              "7   MARCOS    M  comercial     49  executivo de contas     3000\n",
              "8    CARLA    F  comercial     22             Gerente      7000\n",
              "9  DANIELA    F  comercial     50  executivo de contas     3000"
            ]
          },
          "metadata": {
            "tags": []
          },
          "execution_count": 24
        }
      ]
    },
    {
      "cell_type": "markdown",
      "metadata": {
        "id": "cNYOvYA6E51e"
      },
      "source": [
        "Assim como exibimos os valores pelas linhas, podemos também fazer a exibição pelas colunas. Vamos a alguns exemplos"
      ]
    },
    {
      "cell_type": "code",
      "metadata": {
        "colab": {
          "base_uri": "https://localhost:8080/"
        },
        "id": "nb_9qw-iFEBb",
        "outputId": "4eaeaf68-dd82-4962-a902-9b4a26023d1b"
      },
      "source": [
        "# retornar somente a coluna nome\n",
        "df[\"nome\"]  \n",
        "# ou df.nome maaaass cuidado, é mais recomendado utilizar o primeiro formato\n",
        "# pois algumas vezes temos nome de colunas como [\"Nome Completo\"]"
      ],
      "execution_count": 25,
      "outputs": [
        {
          "output_type": "execute_result",
          "data": {
            "text/plain": [
              "0      ANTONIO\n",
              "1      GUSTAVO\n",
              "2        NORMA\n",
              "3     QUITERIA\n",
              "4       RENATA\n",
              "5       SANDRO\n",
              "6      VANESSA\n",
              "7       MARCOS\n",
              "8        CARLA\n",
              "9      DANIELA\n",
              "10     EDUARDO\n",
              "11       PETRO\n",
              "12      OTAVIO\n",
              "13     BEATRIZ\n",
              "14     TEODORO\n",
              "15      ZURIEL\n",
              "16       FABIA\n",
              "17      UBALDO\n",
              "18      XAVIER\n",
              "19     YOLANDA\n",
              "20     HELOISA\n",
              "21    ISABELLE\n",
              "22       JOANA\n",
              "23     KLAYTON\n",
              "24       LAURO\n",
              "Name: nome, dtype: object"
            ]
          },
          "metadata": {
            "tags": []
          },
          "execution_count": 25
        }
      ]
    },
    {
      "cell_type": "code",
      "metadata": {
        "colab": {
          "base_uri": "https://localhost:8080/",
          "height": 824
        },
        "id": "grJlg0vAFfjG",
        "outputId": "6bafd9c4-4b81-4286-e2c5-a420c8f33519"
      },
      "source": [
        "# para mais colunas, utilizamos a estrutura de vetor (array)\n",
        "colunas = [\"nome\", \"sexo\"]\n",
        "df[colunas] # ou df[[\"nome\", \"sexo\"]]"
      ],
      "execution_count": 26,
      "outputs": [
        {
          "output_type": "execute_result",
          "data": {
            "text/html": [
              "<div>\n",
              "<style scoped>\n",
              "    .dataframe tbody tr th:only-of-type {\n",
              "        vertical-align: middle;\n",
              "    }\n",
              "\n",
              "    .dataframe tbody tr th {\n",
              "        vertical-align: top;\n",
              "    }\n",
              "\n",
              "    .dataframe thead th {\n",
              "        text-align: right;\n",
              "    }\n",
              "</style>\n",
              "<table border=\"1\" class=\"dataframe\">\n",
              "  <thead>\n",
              "    <tr style=\"text-align: right;\">\n",
              "      <th></th>\n",
              "      <th>nome</th>\n",
              "      <th>sexo</th>\n",
              "    </tr>\n",
              "  </thead>\n",
              "  <tbody>\n",
              "    <tr>\n",
              "      <th>0</th>\n",
              "      <td>ANTONIO</td>\n",
              "      <td>M</td>\n",
              "    </tr>\n",
              "    <tr>\n",
              "      <th>1</th>\n",
              "      <td>GUSTAVO</td>\n",
              "      <td>M</td>\n",
              "    </tr>\n",
              "    <tr>\n",
              "      <th>2</th>\n",
              "      <td>NORMA</td>\n",
              "      <td>F</td>\n",
              "    </tr>\n",
              "    <tr>\n",
              "      <th>3</th>\n",
              "      <td>QUITERIA</td>\n",
              "      <td>F</td>\n",
              "    </tr>\n",
              "    <tr>\n",
              "      <th>4</th>\n",
              "      <td>RENATA</td>\n",
              "      <td>F</td>\n",
              "    </tr>\n",
              "    <tr>\n",
              "      <th>5</th>\n",
              "      <td>SANDRO</td>\n",
              "      <td>M</td>\n",
              "    </tr>\n",
              "    <tr>\n",
              "      <th>6</th>\n",
              "      <td>VANESSA</td>\n",
              "      <td>F</td>\n",
              "    </tr>\n",
              "    <tr>\n",
              "      <th>7</th>\n",
              "      <td>MARCOS</td>\n",
              "      <td>M</td>\n",
              "    </tr>\n",
              "    <tr>\n",
              "      <th>8</th>\n",
              "      <td>CARLA</td>\n",
              "      <td>F</td>\n",
              "    </tr>\n",
              "    <tr>\n",
              "      <th>9</th>\n",
              "      <td>DANIELA</td>\n",
              "      <td>F</td>\n",
              "    </tr>\n",
              "    <tr>\n",
              "      <th>10</th>\n",
              "      <td>EDUARDO</td>\n",
              "      <td>M</td>\n",
              "    </tr>\n",
              "    <tr>\n",
              "      <th>11</th>\n",
              "      <td>PETRO</td>\n",
              "      <td>M</td>\n",
              "    </tr>\n",
              "    <tr>\n",
              "      <th>12</th>\n",
              "      <td>OTAVIO</td>\n",
              "      <td>M</td>\n",
              "    </tr>\n",
              "    <tr>\n",
              "      <th>13</th>\n",
              "      <td>BEATRIZ</td>\n",
              "      <td>F</td>\n",
              "    </tr>\n",
              "    <tr>\n",
              "      <th>14</th>\n",
              "      <td>TEODORO</td>\n",
              "      <td>M</td>\n",
              "    </tr>\n",
              "    <tr>\n",
              "      <th>15</th>\n",
              "      <td>ZURIEL</td>\n",
              "      <td>M</td>\n",
              "    </tr>\n",
              "    <tr>\n",
              "      <th>16</th>\n",
              "      <td>FABIA</td>\n",
              "      <td>F</td>\n",
              "    </tr>\n",
              "    <tr>\n",
              "      <th>17</th>\n",
              "      <td>UBALDO</td>\n",
              "      <td>M</td>\n",
              "    </tr>\n",
              "    <tr>\n",
              "      <th>18</th>\n",
              "      <td>XAVIER</td>\n",
              "      <td>M</td>\n",
              "    </tr>\n",
              "    <tr>\n",
              "      <th>19</th>\n",
              "      <td>YOLANDA</td>\n",
              "      <td>F</td>\n",
              "    </tr>\n",
              "    <tr>\n",
              "      <th>20</th>\n",
              "      <td>HELOISA</td>\n",
              "      <td>F</td>\n",
              "    </tr>\n",
              "    <tr>\n",
              "      <th>21</th>\n",
              "      <td>ISABELLE</td>\n",
              "      <td>F</td>\n",
              "    </tr>\n",
              "    <tr>\n",
              "      <th>22</th>\n",
              "      <td>JOANA</td>\n",
              "      <td>F</td>\n",
              "    </tr>\n",
              "    <tr>\n",
              "      <th>23</th>\n",
              "      <td>KLAYTON</td>\n",
              "      <td>M</td>\n",
              "    </tr>\n",
              "    <tr>\n",
              "      <th>24</th>\n",
              "      <td>LAURO</td>\n",
              "      <td>M</td>\n",
              "    </tr>\n",
              "  </tbody>\n",
              "</table>\n",
              "</div>"
            ],
            "text/plain": [
              "        nome sexo\n",
              "0    ANTONIO    M\n",
              "1    GUSTAVO    M\n",
              "2      NORMA    F\n",
              "3   QUITERIA    F\n",
              "4     RENATA    F\n",
              "5     SANDRO    M\n",
              "6    VANESSA    F\n",
              "7     MARCOS    M\n",
              "8      CARLA    F\n",
              "9    DANIELA    F\n",
              "10   EDUARDO    M\n",
              "11     PETRO    M\n",
              "12    OTAVIO    M\n",
              "13   BEATRIZ    F\n",
              "14   TEODORO    M\n",
              "15    ZURIEL    M\n",
              "16     FABIA    F\n",
              "17    UBALDO    M\n",
              "18    XAVIER    M\n",
              "19   YOLANDA    F\n",
              "20   HELOISA    F\n",
              "21  ISABELLE    F\n",
              "22     JOANA    F\n",
              "23   KLAYTON    M\n",
              "24     LAURO    M"
            ]
          },
          "metadata": {
            "tags": []
          },
          "execution_count": 26
        }
      ]
    },
    {
      "cell_type": "markdown",
      "metadata": {
        "id": "SZgpy5biFzca"
      },
      "source": [
        "Como também já comentei, imagine um dataframe com milhões de linhas isso exigiria uma performance melhor da sua máquina ou aplicação mas como nosso dataframe é super pequeno (shape 25, 6) isso não está afetando nosso exemplo.\n",
        "\n",
        "Outra dica legal é você também utilizar o que já aprendemos anteriormente."
      ]
    },
    {
      "cell_type": "code",
      "metadata": {
        "colab": {
          "base_uri": "https://localhost:8080/",
          "height": 173
        },
        "id": "u-jDwuAgGT1R",
        "outputId": "003340c6-44f2-4e02-8afa-a7a597f5d1fe"
      },
      "source": [
        "# bloco com nome e sexo mas somente entre os registros de 5 a 9\n",
        "df.iloc[5:9][[\"nome\", \"sexo\"]]"
      ],
      "execution_count": 27,
      "outputs": [
        {
          "output_type": "execute_result",
          "data": {
            "text/html": [
              "<div>\n",
              "<style scoped>\n",
              "    .dataframe tbody tr th:only-of-type {\n",
              "        vertical-align: middle;\n",
              "    }\n",
              "\n",
              "    .dataframe tbody tr th {\n",
              "        vertical-align: top;\n",
              "    }\n",
              "\n",
              "    .dataframe thead th {\n",
              "        text-align: right;\n",
              "    }\n",
              "</style>\n",
              "<table border=\"1\" class=\"dataframe\">\n",
              "  <thead>\n",
              "    <tr style=\"text-align: right;\">\n",
              "      <th></th>\n",
              "      <th>nome</th>\n",
              "      <th>sexo</th>\n",
              "    </tr>\n",
              "  </thead>\n",
              "  <tbody>\n",
              "    <tr>\n",
              "      <th>5</th>\n",
              "      <td>SANDRO</td>\n",
              "      <td>M</td>\n",
              "    </tr>\n",
              "    <tr>\n",
              "      <th>6</th>\n",
              "      <td>VANESSA</td>\n",
              "      <td>F</td>\n",
              "    </tr>\n",
              "    <tr>\n",
              "      <th>7</th>\n",
              "      <td>MARCOS</td>\n",
              "      <td>M</td>\n",
              "    </tr>\n",
              "    <tr>\n",
              "      <th>8</th>\n",
              "      <td>CARLA</td>\n",
              "      <td>F</td>\n",
              "    </tr>\n",
              "  </tbody>\n",
              "</table>\n",
              "</div>"
            ],
            "text/plain": [
              "      nome sexo\n",
              "5   SANDRO    M\n",
              "6  VANESSA    F\n",
              "7   MARCOS    M\n",
              "8    CARLA    F"
            ]
          },
          "metadata": {
            "tags": []
          },
          "execution_count": 27
        }
      ]
    },
    {
      "cell_type": "markdown",
      "metadata": {
        "id": "Jupe-Q1xHFay"
      },
      "source": [
        "**Italo, posso fazer cópias de dataframe?**\n",
        "Sim pode e isso é muito comum pois algumas vezes preparamos nosso dataframe e a partir disso, podemos por executar várias tarefas e, como isso perder todo o nosso trabalho anterior. Então, antes disso fazemos uma cópia. Mas lembre-se, você fará CÓPIA, entendeu? Não? Sem problemas, eu também já perdi tempo por não me atentar a isso, então segue exemplos"
      ]
    },
    {
      "cell_type": "code",
      "metadata": {
        "colab": {
          "base_uri": "https://localhost:8080/",
          "height": 204
        },
        "id": "Ij1yY3RLHDwA",
        "outputId": "d062ef75-b3ce-4e16-cdae-3fae7fc4875f"
      },
      "source": [
        "colunas = [\"nome\", \"salario\"]\n",
        "df1 = df.iloc[:5][colunas]\n",
        "df1"
      ],
      "execution_count": 28,
      "outputs": [
        {
          "output_type": "execute_result",
          "data": {
            "text/html": [
              "<div>\n",
              "<style scoped>\n",
              "    .dataframe tbody tr th:only-of-type {\n",
              "        vertical-align: middle;\n",
              "    }\n",
              "\n",
              "    .dataframe tbody tr th {\n",
              "        vertical-align: top;\n",
              "    }\n",
              "\n",
              "    .dataframe thead th {\n",
              "        text-align: right;\n",
              "    }\n",
              "</style>\n",
              "<table border=\"1\" class=\"dataframe\">\n",
              "  <thead>\n",
              "    <tr style=\"text-align: right;\">\n",
              "      <th></th>\n",
              "      <th>nome</th>\n",
              "      <th>salario</th>\n",
              "    </tr>\n",
              "  </thead>\n",
              "  <tbody>\n",
              "    <tr>\n",
              "      <th>0</th>\n",
              "      <td>ANTONIO</td>\n",
              "      <td>15000</td>\n",
              "    </tr>\n",
              "    <tr>\n",
              "      <th>1</th>\n",
              "      <td>GUSTAVO</td>\n",
              "      <td>3000</td>\n",
              "    </tr>\n",
              "    <tr>\n",
              "      <th>2</th>\n",
              "      <td>NORMA</td>\n",
              "      <td>3000</td>\n",
              "    </tr>\n",
              "    <tr>\n",
              "      <th>3</th>\n",
              "      <td>QUITERIA</td>\n",
              "      <td>6000</td>\n",
              "    </tr>\n",
              "    <tr>\n",
              "      <th>4</th>\n",
              "      <td>RENATA</td>\n",
              "      <td>5000</td>\n",
              "    </tr>\n",
              "  </tbody>\n",
              "</table>\n",
              "</div>"
            ],
            "text/plain": [
              "       nome  salario\n",
              "0   ANTONIO    15000\n",
              "1   GUSTAVO     3000\n",
              "2     NORMA     3000\n",
              "3  QUITERIA     6000\n",
              "4    RENATA     5000"
            ]
          },
          "metadata": {
            "tags": []
          },
          "execution_count": 28
        }
      ]
    },
    {
      "cell_type": "code",
      "metadata": {
        "colab": {
          "base_uri": "https://localhost:8080/",
          "height": 204
        },
        "id": "u_doSvR4H-mp",
        "outputId": "6c2bca56-cd07-4a08-a097-94bbeb5c38ed"
      },
      "source": [
        "# vamos fazer de conta que nosso df1 é o dataframe original e queremos fazer uma \n",
        "# cópia dele\n",
        "df2 = df1\n",
        "df2"
      ],
      "execution_count": 29,
      "outputs": [
        {
          "output_type": "execute_result",
          "data": {
            "text/html": [
              "<div>\n",
              "<style scoped>\n",
              "    .dataframe tbody tr th:only-of-type {\n",
              "        vertical-align: middle;\n",
              "    }\n",
              "\n",
              "    .dataframe tbody tr th {\n",
              "        vertical-align: top;\n",
              "    }\n",
              "\n",
              "    .dataframe thead th {\n",
              "        text-align: right;\n",
              "    }\n",
              "</style>\n",
              "<table border=\"1\" class=\"dataframe\">\n",
              "  <thead>\n",
              "    <tr style=\"text-align: right;\">\n",
              "      <th></th>\n",
              "      <th>nome</th>\n",
              "      <th>salario</th>\n",
              "    </tr>\n",
              "  </thead>\n",
              "  <tbody>\n",
              "    <tr>\n",
              "      <th>0</th>\n",
              "      <td>ANTONIO</td>\n",
              "      <td>15000</td>\n",
              "    </tr>\n",
              "    <tr>\n",
              "      <th>1</th>\n",
              "      <td>GUSTAVO</td>\n",
              "      <td>3000</td>\n",
              "    </tr>\n",
              "    <tr>\n",
              "      <th>2</th>\n",
              "      <td>NORMA</td>\n",
              "      <td>3000</td>\n",
              "    </tr>\n",
              "    <tr>\n",
              "      <th>3</th>\n",
              "      <td>QUITERIA</td>\n",
              "      <td>6000</td>\n",
              "    </tr>\n",
              "    <tr>\n",
              "      <th>4</th>\n",
              "      <td>RENATA</td>\n",
              "      <td>5000</td>\n",
              "    </tr>\n",
              "  </tbody>\n",
              "</table>\n",
              "</div>"
            ],
            "text/plain": [
              "       nome  salario\n",
              "0   ANTONIO    15000\n",
              "1   GUSTAVO     3000\n",
              "2     NORMA     3000\n",
              "3  QUITERIA     6000\n",
              "4    RENATA     5000"
            ]
          },
          "metadata": {
            "tags": []
          },
          "execution_count": 29
        }
      ]
    },
    {
      "cell_type": "code",
      "metadata": {
        "colab": {
          "base_uri": "https://localhost:8080/",
          "height": 204
        },
        "id": "6ctkjCJgIUQ4",
        "outputId": "dc1add09-ccde-4f54-b357-6138807e384d"
      },
      "source": [
        "# o df2 está igual ao df1, então vamos modificá-lo\n",
        "# vamos usar um dos primeiros exemplos para atribuir valor a uma coluna\n",
        "# então vou deixar todos os salários do df2 com o valor 1000\n",
        "df2[\"salario\"] = 1000\n",
        "df2"
      ],
      "execution_count": 30,
      "outputs": [
        {
          "output_type": "execute_result",
          "data": {
            "text/html": [
              "<div>\n",
              "<style scoped>\n",
              "    .dataframe tbody tr th:only-of-type {\n",
              "        vertical-align: middle;\n",
              "    }\n",
              "\n",
              "    .dataframe tbody tr th {\n",
              "        vertical-align: top;\n",
              "    }\n",
              "\n",
              "    .dataframe thead th {\n",
              "        text-align: right;\n",
              "    }\n",
              "</style>\n",
              "<table border=\"1\" class=\"dataframe\">\n",
              "  <thead>\n",
              "    <tr style=\"text-align: right;\">\n",
              "      <th></th>\n",
              "      <th>nome</th>\n",
              "      <th>salario</th>\n",
              "    </tr>\n",
              "  </thead>\n",
              "  <tbody>\n",
              "    <tr>\n",
              "      <th>0</th>\n",
              "      <td>ANTONIO</td>\n",
              "      <td>1000</td>\n",
              "    </tr>\n",
              "    <tr>\n",
              "      <th>1</th>\n",
              "      <td>GUSTAVO</td>\n",
              "      <td>1000</td>\n",
              "    </tr>\n",
              "    <tr>\n",
              "      <th>2</th>\n",
              "      <td>NORMA</td>\n",
              "      <td>1000</td>\n",
              "    </tr>\n",
              "    <tr>\n",
              "      <th>3</th>\n",
              "      <td>QUITERIA</td>\n",
              "      <td>1000</td>\n",
              "    </tr>\n",
              "    <tr>\n",
              "      <th>4</th>\n",
              "      <td>RENATA</td>\n",
              "      <td>1000</td>\n",
              "    </tr>\n",
              "  </tbody>\n",
              "</table>\n",
              "</div>"
            ],
            "text/plain": [
              "       nome  salario\n",
              "0   ANTONIO     1000\n",
              "1   GUSTAVO     1000\n",
              "2     NORMA     1000\n",
              "3  QUITERIA     1000\n",
              "4    RENATA     1000"
            ]
          },
          "metadata": {
            "tags": []
          },
          "execution_count": 30
        }
      ]
    },
    {
      "cell_type": "code",
      "metadata": {
        "colab": {
          "base_uri": "https://localhost:8080/",
          "height": 204
        },
        "id": "Hza0y0UlIrkn",
        "outputId": "fc5fe26d-f4b6-42ce-d389-eba42c893d78"
      },
      "source": [
        "# e vamos ver a diferença com o df1, exibindo-o novamente\n",
        "df1"
      ],
      "execution_count": 31,
      "outputs": [
        {
          "output_type": "execute_result",
          "data": {
            "text/html": [
              "<div>\n",
              "<style scoped>\n",
              "    .dataframe tbody tr th:only-of-type {\n",
              "        vertical-align: middle;\n",
              "    }\n",
              "\n",
              "    .dataframe tbody tr th {\n",
              "        vertical-align: top;\n",
              "    }\n",
              "\n",
              "    .dataframe thead th {\n",
              "        text-align: right;\n",
              "    }\n",
              "</style>\n",
              "<table border=\"1\" class=\"dataframe\">\n",
              "  <thead>\n",
              "    <tr style=\"text-align: right;\">\n",
              "      <th></th>\n",
              "      <th>nome</th>\n",
              "      <th>salario</th>\n",
              "    </tr>\n",
              "  </thead>\n",
              "  <tbody>\n",
              "    <tr>\n",
              "      <th>0</th>\n",
              "      <td>ANTONIO</td>\n",
              "      <td>1000</td>\n",
              "    </tr>\n",
              "    <tr>\n",
              "      <th>1</th>\n",
              "      <td>GUSTAVO</td>\n",
              "      <td>1000</td>\n",
              "    </tr>\n",
              "    <tr>\n",
              "      <th>2</th>\n",
              "      <td>NORMA</td>\n",
              "      <td>1000</td>\n",
              "    </tr>\n",
              "    <tr>\n",
              "      <th>3</th>\n",
              "      <td>QUITERIA</td>\n",
              "      <td>1000</td>\n",
              "    </tr>\n",
              "    <tr>\n",
              "      <th>4</th>\n",
              "      <td>RENATA</td>\n",
              "      <td>1000</td>\n",
              "    </tr>\n",
              "  </tbody>\n",
              "</table>\n",
              "</div>"
            ],
            "text/plain": [
              "       nome  salario\n",
              "0   ANTONIO     1000\n",
              "1   GUSTAVO     1000\n",
              "2     NORMA     1000\n",
              "3  QUITERIA     1000\n",
              "4    RENATA     1000"
            ]
          },
          "metadata": {
            "tags": []
          },
          "execution_count": 31
        }
      ]
    },
    {
      "cell_type": "markdown",
      "metadata": {
        "id": "0p3R6Bs3Jhou"
      },
      "source": [
        "Viram o problema?\n",
        "Nós alteramos o salário do df2 e acabou alterando também o salário do df1 e isso acontece pq quando utilizamos o = criamos apenas um ponteiro de referencia entre o df2 e o df1. Para não ter mais esse problema, o pandas oferece o **.copy**"
      ]
    },
    {
      "cell_type": "code",
      "metadata": {
        "colab": {
          "base_uri": "https://localhost:8080/",
          "height": 204
        },
        "id": "mc0y2FRCI5g_",
        "outputId": "8ea2dffe-059f-4e5a-956d-32a70279deec"
      },
      "source": [
        "# resumidamente, vamos a solução\n",
        "# parte 1\n",
        "colunas = [\"nome\", \"salario\"]\n",
        "df1 = df.iloc[:5][colunas].copy()\n",
        "# parte 2 - .copy é a solução\n",
        "df2 = df1.copy()\n",
        "# parte 3, alterando os valores do salario\n",
        "df2['salario'] = 1000\n",
        "df2"
      ],
      "execution_count": 32,
      "outputs": [
        {
          "output_type": "execute_result",
          "data": {
            "text/html": [
              "<div>\n",
              "<style scoped>\n",
              "    .dataframe tbody tr th:only-of-type {\n",
              "        vertical-align: middle;\n",
              "    }\n",
              "\n",
              "    .dataframe tbody tr th {\n",
              "        vertical-align: top;\n",
              "    }\n",
              "\n",
              "    .dataframe thead th {\n",
              "        text-align: right;\n",
              "    }\n",
              "</style>\n",
              "<table border=\"1\" class=\"dataframe\">\n",
              "  <thead>\n",
              "    <tr style=\"text-align: right;\">\n",
              "      <th></th>\n",
              "      <th>nome</th>\n",
              "      <th>salario</th>\n",
              "    </tr>\n",
              "  </thead>\n",
              "  <tbody>\n",
              "    <tr>\n",
              "      <th>0</th>\n",
              "      <td>ANTONIO</td>\n",
              "      <td>1000</td>\n",
              "    </tr>\n",
              "    <tr>\n",
              "      <th>1</th>\n",
              "      <td>GUSTAVO</td>\n",
              "      <td>1000</td>\n",
              "    </tr>\n",
              "    <tr>\n",
              "      <th>2</th>\n",
              "      <td>NORMA</td>\n",
              "      <td>1000</td>\n",
              "    </tr>\n",
              "    <tr>\n",
              "      <th>3</th>\n",
              "      <td>QUITERIA</td>\n",
              "      <td>1000</td>\n",
              "    </tr>\n",
              "    <tr>\n",
              "      <th>4</th>\n",
              "      <td>RENATA</td>\n",
              "      <td>1000</td>\n",
              "    </tr>\n",
              "  </tbody>\n",
              "</table>\n",
              "</div>"
            ],
            "text/plain": [
              "       nome  salario\n",
              "0   ANTONIO     1000\n",
              "1   GUSTAVO     1000\n",
              "2     NORMA     1000\n",
              "3  QUITERIA     1000\n",
              "4    RENATA     1000"
            ]
          },
          "metadata": {
            "tags": []
          },
          "execution_count": 32
        }
      ]
    },
    {
      "cell_type": "code",
      "metadata": {
        "colab": {
          "base_uri": "https://localhost:8080/",
          "height": 204
        },
        "id": "G-Uh0MpaJgAF",
        "outputId": "33e7fd2b-3681-428b-fd03-f709aa5d7825"
      },
      "source": [
        "# e o original df1\n",
        "df1"
      ],
      "execution_count": 33,
      "outputs": [
        {
          "output_type": "execute_result",
          "data": {
            "text/html": [
              "<div>\n",
              "<style scoped>\n",
              "    .dataframe tbody tr th:only-of-type {\n",
              "        vertical-align: middle;\n",
              "    }\n",
              "\n",
              "    .dataframe tbody tr th {\n",
              "        vertical-align: top;\n",
              "    }\n",
              "\n",
              "    .dataframe thead th {\n",
              "        text-align: right;\n",
              "    }\n",
              "</style>\n",
              "<table border=\"1\" class=\"dataframe\">\n",
              "  <thead>\n",
              "    <tr style=\"text-align: right;\">\n",
              "      <th></th>\n",
              "      <th>nome</th>\n",
              "      <th>salario</th>\n",
              "    </tr>\n",
              "  </thead>\n",
              "  <tbody>\n",
              "    <tr>\n",
              "      <th>0</th>\n",
              "      <td>ANTONIO</td>\n",
              "      <td>15000</td>\n",
              "    </tr>\n",
              "    <tr>\n",
              "      <th>1</th>\n",
              "      <td>GUSTAVO</td>\n",
              "      <td>3000</td>\n",
              "    </tr>\n",
              "    <tr>\n",
              "      <th>2</th>\n",
              "      <td>NORMA</td>\n",
              "      <td>3000</td>\n",
              "    </tr>\n",
              "    <tr>\n",
              "      <th>3</th>\n",
              "      <td>QUITERIA</td>\n",
              "      <td>6000</td>\n",
              "    </tr>\n",
              "    <tr>\n",
              "      <th>4</th>\n",
              "      <td>RENATA</td>\n",
              "      <td>5000</td>\n",
              "    </tr>\n",
              "  </tbody>\n",
              "</table>\n",
              "</div>"
            ],
            "text/plain": [
              "       nome  salario\n",
              "0   ANTONIO    15000\n",
              "1   GUSTAVO     3000\n",
              "2     NORMA     3000\n",
              "3  QUITERIA     6000\n",
              "4    RENATA     5000"
            ]
          },
          "metadata": {
            "tags": []
          },
          "execution_count": 33
        }
      ]
    },
    {
      "cell_type": "markdown",
      "metadata": {
        "id": "kEUAuGaMKe2Q"
      },
      "source": [
        "# **Alterar o layout do dataframe**"
      ]
    },
    {
      "cell_type": "markdown",
      "metadata": {
        "id": "5Bg6wHpILugI"
      },
      "source": [
        "Existem situações onde precisamos alterar o layout do nosso dataframe para um formato onde uma ou mais colunas se tornam identificadora enquanto as outras colunas se tornam as medidas (valores)."
      ]
    },
    {
      "cell_type": "markdown",
      "metadata": {
        "id": "-H_y9RcqCz6r"
      },
      "source": [
        "**.melt()**\n",
        "\n",
        "Quando queremos transformar as linhas do dataframe em coluna, utilizamos a função .melt() mas creio que com o exemplo facilitará mais o entendimento."
      ]
    },
    {
      "cell_type": "code",
      "metadata": {
        "colab": {
          "base_uri": "https://localhost:8080/",
          "height": 111
        },
        "id": "TTvjIZFNKeSx",
        "outputId": "100770c0-c998-41e8-d8fb-f784e691011d"
      },
      "source": [
        "# pra facilitar a visualização, criamos o dataframe df1 com uma cópia do df \n",
        "# contendo somente as 2 primeiras linhas e todas as suas colunas\n",
        "df1 = df.iloc[:2].copy() #\n",
        "df1"
      ],
      "execution_count": 34,
      "outputs": [
        {
          "output_type": "execute_result",
          "data": {
            "text/html": [
              "<div>\n",
              "<style scoped>\n",
              "    .dataframe tbody tr th:only-of-type {\n",
              "        vertical-align: middle;\n",
              "    }\n",
              "\n",
              "    .dataframe tbody tr th {\n",
              "        vertical-align: top;\n",
              "    }\n",
              "\n",
              "    .dataframe thead th {\n",
              "        text-align: right;\n",
              "    }\n",
              "</style>\n",
              "<table border=\"1\" class=\"dataframe\">\n",
              "  <thead>\n",
              "    <tr style=\"text-align: right;\">\n",
              "      <th></th>\n",
              "      <th>nome</th>\n",
              "      <th>sexo</th>\n",
              "      <th>setor</th>\n",
              "      <th>idade</th>\n",
              "      <th>funcao</th>\n",
              "      <th>salario</th>\n",
              "    </tr>\n",
              "  </thead>\n",
              "  <tbody>\n",
              "    <tr>\n",
              "      <th>0</th>\n",
              "      <td>ANTONIO</td>\n",
              "      <td>M</td>\n",
              "      <td>administrativo</td>\n",
              "      <td>26</td>\n",
              "      <td>Diretor</td>\n",
              "      <td>15000</td>\n",
              "    </tr>\n",
              "    <tr>\n",
              "      <th>1</th>\n",
              "      <td>GUSTAVO</td>\n",
              "      <td>M</td>\n",
              "      <td>administrativo</td>\n",
              "      <td>29</td>\n",
              "      <td>assistente</td>\n",
              "      <td>3000</td>\n",
              "    </tr>\n",
              "  </tbody>\n",
              "</table>\n",
              "</div>"
            ],
            "text/plain": [
              "      nome sexo           setor  idade      funcao  salario\n",
              "0  ANTONIO    M  administrativo     26     Diretor    15000\n",
              "1  GUSTAVO    M  administrativo     29  assistente     3000"
            ]
          },
          "metadata": {
            "tags": []
          },
          "execution_count": 34
        }
      ]
    },
    {
      "cell_type": "code",
      "metadata": {
        "colab": {
          "base_uri": "https://localhost:8080/"
        },
        "id": "KN42areDNVDF",
        "outputId": "0e9e5e07-3269-42f8-b362-04f7d0ef8f15"
      },
      "source": [
        "df1.shape"
      ],
      "execution_count": 35,
      "outputs": [
        {
          "output_type": "execute_result",
          "data": {
            "text/plain": [
              "(2, 6)"
            ]
          },
          "metadata": {
            "tags": []
          },
          "execution_count": 35
        }
      ]
    },
    {
      "cell_type": "code",
      "metadata": {
        "colab": {
          "base_uri": "https://localhost:8080/",
          "height": 421
        },
        "id": "TqBR0-tYKvyR",
        "outputId": "5e2fe790-27b0-4da0-a93d-21a845343122"
      },
      "source": [
        "# agora imagine se o nosso desejo fosse o seguinte:\n",
        "# a partir do df1, gere um novo dataframe com 2 colunas, onde \n",
        "# a primeira coluna será a identificação do dado (variable)\n",
        "# e a segunda coluna será a media (value)\n",
        "df2 = df1.melt()\n",
        "df2"
      ],
      "execution_count": 36,
      "outputs": [
        {
          "output_type": "execute_result",
          "data": {
            "text/html": [
              "<div>\n",
              "<style scoped>\n",
              "    .dataframe tbody tr th:only-of-type {\n",
              "        vertical-align: middle;\n",
              "    }\n",
              "\n",
              "    .dataframe tbody tr th {\n",
              "        vertical-align: top;\n",
              "    }\n",
              "\n",
              "    .dataframe thead th {\n",
              "        text-align: right;\n",
              "    }\n",
              "</style>\n",
              "<table border=\"1\" class=\"dataframe\">\n",
              "  <thead>\n",
              "    <tr style=\"text-align: right;\">\n",
              "      <th></th>\n",
              "      <th>variable</th>\n",
              "      <th>value</th>\n",
              "    </tr>\n",
              "  </thead>\n",
              "  <tbody>\n",
              "    <tr>\n",
              "      <th>0</th>\n",
              "      <td>nome</td>\n",
              "      <td>ANTONIO</td>\n",
              "    </tr>\n",
              "    <tr>\n",
              "      <th>1</th>\n",
              "      <td>nome</td>\n",
              "      <td>GUSTAVO</td>\n",
              "    </tr>\n",
              "    <tr>\n",
              "      <th>2</th>\n",
              "      <td>sexo</td>\n",
              "      <td>M</td>\n",
              "    </tr>\n",
              "    <tr>\n",
              "      <th>3</th>\n",
              "      <td>sexo</td>\n",
              "      <td>M</td>\n",
              "    </tr>\n",
              "    <tr>\n",
              "      <th>4</th>\n",
              "      <td>setor</td>\n",
              "      <td>administrativo</td>\n",
              "    </tr>\n",
              "    <tr>\n",
              "      <th>5</th>\n",
              "      <td>setor</td>\n",
              "      <td>administrativo</td>\n",
              "    </tr>\n",
              "    <tr>\n",
              "      <th>6</th>\n",
              "      <td>idade</td>\n",
              "      <td>26</td>\n",
              "    </tr>\n",
              "    <tr>\n",
              "      <th>7</th>\n",
              "      <td>idade</td>\n",
              "      <td>29</td>\n",
              "    </tr>\n",
              "    <tr>\n",
              "      <th>8</th>\n",
              "      <td>funcao</td>\n",
              "      <td>Diretor</td>\n",
              "    </tr>\n",
              "    <tr>\n",
              "      <th>9</th>\n",
              "      <td>funcao</td>\n",
              "      <td>assistente</td>\n",
              "    </tr>\n",
              "    <tr>\n",
              "      <th>10</th>\n",
              "      <td>salario</td>\n",
              "      <td>15000</td>\n",
              "    </tr>\n",
              "    <tr>\n",
              "      <th>11</th>\n",
              "      <td>salario</td>\n",
              "      <td>3000</td>\n",
              "    </tr>\n",
              "  </tbody>\n",
              "</table>\n",
              "</div>"
            ],
            "text/plain": [
              "   variable           value\n",
              "0      nome         ANTONIO\n",
              "1      nome         GUSTAVO\n",
              "2      sexo               M\n",
              "3      sexo               M\n",
              "4     setor  administrativo\n",
              "5     setor  administrativo\n",
              "6     idade              26\n",
              "7     idade              29\n",
              "8    funcao         Diretor\n",
              "9    funcao      assistente\n",
              "10  salario           15000\n",
              "11  salario            3000"
            ]
          },
          "metadata": {
            "tags": []
          },
          "execution_count": 36
        }
      ]
    },
    {
      "cell_type": "code",
      "metadata": {
        "colab": {
          "base_uri": "https://localhost:8080/",
          "height": 421
        },
        "id": "rA_wcE9ZLLSx",
        "outputId": "18277e09-f307-4f9d-ee80-c4655b398fee"
      },
      "source": [
        "# uma dica: caso você deseja alterar o nome das colunas\n",
        "# segue o exemplo abaixo mas lembre-se: esse vetor tem que ter a quantidade de colunas\n",
        "# no nosso caso, como temos somente 2 colunas, nosso array tem somente 2 posições e seus valores\n",
        "df2.columns = [\"campo\", \"valor\"]\n",
        "df2"
      ],
      "execution_count": 37,
      "outputs": [
        {
          "output_type": "execute_result",
          "data": {
            "text/html": [
              "<div>\n",
              "<style scoped>\n",
              "    .dataframe tbody tr th:only-of-type {\n",
              "        vertical-align: middle;\n",
              "    }\n",
              "\n",
              "    .dataframe tbody tr th {\n",
              "        vertical-align: top;\n",
              "    }\n",
              "\n",
              "    .dataframe thead th {\n",
              "        text-align: right;\n",
              "    }\n",
              "</style>\n",
              "<table border=\"1\" class=\"dataframe\">\n",
              "  <thead>\n",
              "    <tr style=\"text-align: right;\">\n",
              "      <th></th>\n",
              "      <th>campo</th>\n",
              "      <th>valor</th>\n",
              "    </tr>\n",
              "  </thead>\n",
              "  <tbody>\n",
              "    <tr>\n",
              "      <th>0</th>\n",
              "      <td>nome</td>\n",
              "      <td>ANTONIO</td>\n",
              "    </tr>\n",
              "    <tr>\n",
              "      <th>1</th>\n",
              "      <td>nome</td>\n",
              "      <td>GUSTAVO</td>\n",
              "    </tr>\n",
              "    <tr>\n",
              "      <th>2</th>\n",
              "      <td>sexo</td>\n",
              "      <td>M</td>\n",
              "    </tr>\n",
              "    <tr>\n",
              "      <th>3</th>\n",
              "      <td>sexo</td>\n",
              "      <td>M</td>\n",
              "    </tr>\n",
              "    <tr>\n",
              "      <th>4</th>\n",
              "      <td>setor</td>\n",
              "      <td>administrativo</td>\n",
              "    </tr>\n",
              "    <tr>\n",
              "      <th>5</th>\n",
              "      <td>setor</td>\n",
              "      <td>administrativo</td>\n",
              "    </tr>\n",
              "    <tr>\n",
              "      <th>6</th>\n",
              "      <td>idade</td>\n",
              "      <td>26</td>\n",
              "    </tr>\n",
              "    <tr>\n",
              "      <th>7</th>\n",
              "      <td>idade</td>\n",
              "      <td>29</td>\n",
              "    </tr>\n",
              "    <tr>\n",
              "      <th>8</th>\n",
              "      <td>funcao</td>\n",
              "      <td>Diretor</td>\n",
              "    </tr>\n",
              "    <tr>\n",
              "      <th>9</th>\n",
              "      <td>funcao</td>\n",
              "      <td>assistente</td>\n",
              "    </tr>\n",
              "    <tr>\n",
              "      <th>10</th>\n",
              "      <td>salario</td>\n",
              "      <td>15000</td>\n",
              "    </tr>\n",
              "    <tr>\n",
              "      <th>11</th>\n",
              "      <td>salario</td>\n",
              "      <td>3000</td>\n",
              "    </tr>\n",
              "  </tbody>\n",
              "</table>\n",
              "</div>"
            ],
            "text/plain": [
              "      campo           valor\n",
              "0      nome         ANTONIO\n",
              "1      nome         GUSTAVO\n",
              "2      sexo               M\n",
              "3      sexo               M\n",
              "4     setor  administrativo\n",
              "5     setor  administrativo\n",
              "6     idade              26\n",
              "7     idade              29\n",
              "8    funcao         Diretor\n",
              "9    funcao      assistente\n",
              "10  salario           15000\n",
              "11  salario            3000"
            ]
          },
          "metadata": {
            "tags": []
          },
          "execution_count": 37
        }
      ]
    },
    {
      "cell_type": "markdown",
      "metadata": {
        "id": "aWbYnxbKOj-d"
      },
      "source": [
        "**.pivot()**\n",
        "\n",
        "A função pivot () é usada para remodelar o dataframe organizado por determinados valores de índice / coluna. \n",
        "Esta função não suporta agregação de dados, vários valores resultarão em um MultiIndex nas colunas.\n",
        "Vamos ao exemplo"
      ]
    },
    {
      "cell_type": "code",
      "metadata": {
        "colab": {
          "base_uri": "https://localhost:8080/",
          "height": 173
        },
        "id": "EpMC2A-oN0p5",
        "outputId": "79a4c0db-0f55-4a2a-f2c8-e22026886d6a"
      },
      "source": [
        "df2 = pd.DataFrame({\n",
        "    \"mes\": [1, 1, 2, 2],\n",
        "    \"nome\": [\"Joao\", \"Maria\", \"Joao\", \"Maria\"],\n",
        "    \"vendas\": [20000, 20000, 40000, 40000]\n",
        "})\n",
        "df2"
      ],
      "execution_count": 38,
      "outputs": [
        {
          "output_type": "execute_result",
          "data": {
            "text/html": [
              "<div>\n",
              "<style scoped>\n",
              "    .dataframe tbody tr th:only-of-type {\n",
              "        vertical-align: middle;\n",
              "    }\n",
              "\n",
              "    .dataframe tbody tr th {\n",
              "        vertical-align: top;\n",
              "    }\n",
              "\n",
              "    .dataframe thead th {\n",
              "        text-align: right;\n",
              "    }\n",
              "</style>\n",
              "<table border=\"1\" class=\"dataframe\">\n",
              "  <thead>\n",
              "    <tr style=\"text-align: right;\">\n",
              "      <th></th>\n",
              "      <th>mes</th>\n",
              "      <th>nome</th>\n",
              "      <th>vendas</th>\n",
              "    </tr>\n",
              "  </thead>\n",
              "  <tbody>\n",
              "    <tr>\n",
              "      <th>0</th>\n",
              "      <td>1</td>\n",
              "      <td>Joao</td>\n",
              "      <td>20000</td>\n",
              "    </tr>\n",
              "    <tr>\n",
              "      <th>1</th>\n",
              "      <td>1</td>\n",
              "      <td>Maria</td>\n",
              "      <td>20000</td>\n",
              "    </tr>\n",
              "    <tr>\n",
              "      <th>2</th>\n",
              "      <td>2</td>\n",
              "      <td>Joao</td>\n",
              "      <td>40000</td>\n",
              "    </tr>\n",
              "    <tr>\n",
              "      <th>3</th>\n",
              "      <td>2</td>\n",
              "      <td>Maria</td>\n",
              "      <td>40000</td>\n",
              "    </tr>\n",
              "  </tbody>\n",
              "</table>\n",
              "</div>"
            ],
            "text/plain": [
              "   mes   nome  vendas\n",
              "0    1   Joao   20000\n",
              "1    1  Maria   20000\n",
              "2    2   Joao   40000\n",
              "3    2  Maria   40000"
            ]
          },
          "metadata": {
            "tags": []
          },
          "execution_count": 38
        }
      ]
    },
    {
      "cell_type": "code",
      "metadata": {
        "colab": {
          "base_uri": "https://localhost:8080/",
          "height": 142
        },
        "id": "6Sl_-UmROued",
        "outputId": "32b50341-1e0a-4706-cefa-a5a7c7ff1293"
      },
      "source": [
        "df2.pivot(index='mes', columns='nome', values='vendas')"
      ],
      "execution_count": 39,
      "outputs": [
        {
          "output_type": "execute_result",
          "data": {
            "text/html": [
              "<div>\n",
              "<style scoped>\n",
              "    .dataframe tbody tr th:only-of-type {\n",
              "        vertical-align: middle;\n",
              "    }\n",
              "\n",
              "    .dataframe tbody tr th {\n",
              "        vertical-align: top;\n",
              "    }\n",
              "\n",
              "    .dataframe thead th {\n",
              "        text-align: right;\n",
              "    }\n",
              "</style>\n",
              "<table border=\"1\" class=\"dataframe\">\n",
              "  <thead>\n",
              "    <tr style=\"text-align: right;\">\n",
              "      <th>nome</th>\n",
              "      <th>Joao</th>\n",
              "      <th>Maria</th>\n",
              "    </tr>\n",
              "    <tr>\n",
              "      <th>mes</th>\n",
              "      <th></th>\n",
              "      <th></th>\n",
              "    </tr>\n",
              "  </thead>\n",
              "  <tbody>\n",
              "    <tr>\n",
              "      <th>1</th>\n",
              "      <td>20000</td>\n",
              "      <td>20000</td>\n",
              "    </tr>\n",
              "    <tr>\n",
              "      <th>2</th>\n",
              "      <td>40000</td>\n",
              "      <td>40000</td>\n",
              "    </tr>\n",
              "  </tbody>\n",
              "</table>\n",
              "</div>"
            ],
            "text/plain": [
              "nome   Joao  Maria\n",
              "mes               \n",
              "1     20000  20000\n",
              "2     40000  40000"
            ]
          },
          "metadata": {
            "tags": []
          },
          "execution_count": 39
        }
      ]
    },
    {
      "cell_type": "markdown",
      "metadata": {
        "id": "lHpoCf-XFcAL"
      },
      "source": [
        "**.pivot_table()**\n",
        "\n",
        "Temos também a função pivot_table() que é usada para criar uma tabela dinâmica no estilo planilha como um dataFrame. Os níveis da tabela dinâmica serão armazenados em objetos MultiIndex (índices hierárquicos) no índice e nas colunas do DataFrame de resultado."
      ]
    },
    {
      "cell_type": "code",
      "metadata": {
        "colab": {
          "base_uri": "https://localhost:8080/",
          "height": 328
        },
        "id": "RN_ijEw3F2y_",
        "outputId": "47d71300-04c6-4a5b-b92a-97d5f738f265"
      },
      "source": [
        "dfTeste = pd.DataFrame({\n",
        "    \"uf\": [\"SP\", \"SP\", \"SP\", \"SP\", \"MG\", \"MG\", \"MG\", \"MG\", \"MG\"],\n",
        "    \"cidade\": [\"A\", \"B\", \"B\", \"A\", \"C\", \"D\", \"D\", \"D\", \"d\"],\n",
        "    \"produto\": [\"P1\", \"P2\", \"P1\", \"P2\", \"P2\", \"P2\", \"P1\", \"P1\", \"P1\"],\n",
        "    \"quantidade\": [1, 1, 1, 1, 1, 1, 1, 1, 1]}\n",
        ")\n",
        "dfTeste"
      ],
      "execution_count": 40,
      "outputs": [
        {
          "output_type": "execute_result",
          "data": {
            "text/html": [
              "<div>\n",
              "<style scoped>\n",
              "    .dataframe tbody tr th:only-of-type {\n",
              "        vertical-align: middle;\n",
              "    }\n",
              "\n",
              "    .dataframe tbody tr th {\n",
              "        vertical-align: top;\n",
              "    }\n",
              "\n",
              "    .dataframe thead th {\n",
              "        text-align: right;\n",
              "    }\n",
              "</style>\n",
              "<table border=\"1\" class=\"dataframe\">\n",
              "  <thead>\n",
              "    <tr style=\"text-align: right;\">\n",
              "      <th></th>\n",
              "      <th>uf</th>\n",
              "      <th>cidade</th>\n",
              "      <th>produto</th>\n",
              "      <th>quantidade</th>\n",
              "    </tr>\n",
              "  </thead>\n",
              "  <tbody>\n",
              "    <tr>\n",
              "      <th>0</th>\n",
              "      <td>SP</td>\n",
              "      <td>A</td>\n",
              "      <td>P1</td>\n",
              "      <td>1</td>\n",
              "    </tr>\n",
              "    <tr>\n",
              "      <th>1</th>\n",
              "      <td>SP</td>\n",
              "      <td>B</td>\n",
              "      <td>P2</td>\n",
              "      <td>1</td>\n",
              "    </tr>\n",
              "    <tr>\n",
              "      <th>2</th>\n",
              "      <td>SP</td>\n",
              "      <td>B</td>\n",
              "      <td>P1</td>\n",
              "      <td>1</td>\n",
              "    </tr>\n",
              "    <tr>\n",
              "      <th>3</th>\n",
              "      <td>SP</td>\n",
              "      <td>A</td>\n",
              "      <td>P2</td>\n",
              "      <td>1</td>\n",
              "    </tr>\n",
              "    <tr>\n",
              "      <th>4</th>\n",
              "      <td>MG</td>\n",
              "      <td>C</td>\n",
              "      <td>P2</td>\n",
              "      <td>1</td>\n",
              "    </tr>\n",
              "    <tr>\n",
              "      <th>5</th>\n",
              "      <td>MG</td>\n",
              "      <td>D</td>\n",
              "      <td>P2</td>\n",
              "      <td>1</td>\n",
              "    </tr>\n",
              "    <tr>\n",
              "      <th>6</th>\n",
              "      <td>MG</td>\n",
              "      <td>D</td>\n",
              "      <td>P1</td>\n",
              "      <td>1</td>\n",
              "    </tr>\n",
              "    <tr>\n",
              "      <th>7</th>\n",
              "      <td>MG</td>\n",
              "      <td>D</td>\n",
              "      <td>P1</td>\n",
              "      <td>1</td>\n",
              "    </tr>\n",
              "    <tr>\n",
              "      <th>8</th>\n",
              "      <td>MG</td>\n",
              "      <td>d</td>\n",
              "      <td>P1</td>\n",
              "      <td>1</td>\n",
              "    </tr>\n",
              "  </tbody>\n",
              "</table>\n",
              "</div>"
            ],
            "text/plain": [
              "   uf cidade produto  quantidade\n",
              "0  SP      A      P1           1\n",
              "1  SP      B      P2           1\n",
              "2  SP      B      P1           1\n",
              "3  SP      A      P2           1\n",
              "4  MG      C      P2           1\n",
              "5  MG      D      P2           1\n",
              "6  MG      D      P1           1\n",
              "7  MG      D      P1           1\n",
              "8  MG      d      P1           1"
            ]
          },
          "metadata": {
            "tags": []
          },
          "execution_count": 40
        }
      ]
    },
    {
      "cell_type": "code",
      "metadata": {
        "colab": {
          "base_uri": "https://localhost:8080/",
          "height": 235
        },
        "id": "okFKfE2CHCZN",
        "outputId": "03206294-5839-4b60-e3f4-489196085a3e"
      },
      "source": [
        "dfTeste.pivot_table(values=\"quantidade\", index=[\"uf\", \"cidade\"], columns=\"produto\",\n",
        "                    aggfunc=\"sum\", fill_value=0)"
      ],
      "execution_count": 41,
      "outputs": [
        {
          "output_type": "execute_result",
          "data": {
            "text/html": [
              "<div>\n",
              "<style scoped>\n",
              "    .dataframe tbody tr th:only-of-type {\n",
              "        vertical-align: middle;\n",
              "    }\n",
              "\n",
              "    .dataframe tbody tr th {\n",
              "        vertical-align: top;\n",
              "    }\n",
              "\n",
              "    .dataframe thead th {\n",
              "        text-align: right;\n",
              "    }\n",
              "</style>\n",
              "<table border=\"1\" class=\"dataframe\">\n",
              "  <thead>\n",
              "    <tr style=\"text-align: right;\">\n",
              "      <th></th>\n",
              "      <th>produto</th>\n",
              "      <th>P1</th>\n",
              "      <th>P2</th>\n",
              "    </tr>\n",
              "    <tr>\n",
              "      <th>uf</th>\n",
              "      <th>cidade</th>\n",
              "      <th></th>\n",
              "      <th></th>\n",
              "    </tr>\n",
              "  </thead>\n",
              "  <tbody>\n",
              "    <tr>\n",
              "      <th rowspan=\"3\" valign=\"top\">MG</th>\n",
              "      <th>C</th>\n",
              "      <td>0</td>\n",
              "      <td>1</td>\n",
              "    </tr>\n",
              "    <tr>\n",
              "      <th>D</th>\n",
              "      <td>2</td>\n",
              "      <td>1</td>\n",
              "    </tr>\n",
              "    <tr>\n",
              "      <th>d</th>\n",
              "      <td>1</td>\n",
              "      <td>0</td>\n",
              "    </tr>\n",
              "    <tr>\n",
              "      <th rowspan=\"2\" valign=\"top\">SP</th>\n",
              "      <th>A</th>\n",
              "      <td>1</td>\n",
              "      <td>1</td>\n",
              "    </tr>\n",
              "    <tr>\n",
              "      <th>B</th>\n",
              "      <td>1</td>\n",
              "      <td>1</td>\n",
              "    </tr>\n",
              "  </tbody>\n",
              "</table>\n",
              "</div>"
            ],
            "text/plain": [
              "produto    P1  P2\n",
              "uf cidade        \n",
              "MG C        0   1\n",
              "   D        2   1\n",
              "   d        1   0\n",
              "SP A        1   1\n",
              "   B        1   1"
            ]
          },
          "metadata": {
            "tags": []
          },
          "execution_count": 41
        }
      ]
    },
    {
      "cell_type": "markdown",
      "metadata": {
        "id": "apEJXRTlDEtL"
      },
      "source": [
        "**.drop()**\n",
        "\n"
      ]
    },
    {
      "cell_type": "markdown",
      "metadata": {
        "id": "UH664vzvIy4d"
      },
      "source": [
        "# **Concatenar e combinar dataframes**"
      ]
    },
    {
      "cell_type": "markdown",
      "metadata": {
        "id": "tupxFkgjCXY6"
      },
      "source": [
        "**CONCAT([dataframe1, dataframe2]**"
      ]
    },
    {
      "cell_type": "markdown",
      "metadata": {
        "id": "EXoXAzdkjGwt"
      },
      "source": [
        "Outro recurso que utilizamos bastante é concatenar dois dataframes. A função que iremos utilizar é a **.concat()**. Vamos a alguns exemplos."
      ]
    },
    {
      "cell_type": "code",
      "metadata": {
        "colab": {
          "base_uri": "https://localhost:8080/",
          "height": 204
        },
        "id": "sBYNWv-TjGav",
        "outputId": "11ce2ee2-4a33-4bbd-9245-4305c7477cf4"
      },
      "source": [
        "# Vamos concatenar 2 dataframes, como exemplo, o df1 terá os registros com \n",
        "# índice de 0 a 4 e o df2 de 5 a 7\n",
        "df1 = df[:5][[\"nome\", \"salario\"]].copy()\n",
        "df2 = df[5:8][[\"nome\", \"salario\"]].copy()\n",
        "df1"
      ],
      "execution_count": 42,
      "outputs": [
        {
          "output_type": "execute_result",
          "data": {
            "text/html": [
              "<div>\n",
              "<style scoped>\n",
              "    .dataframe tbody tr th:only-of-type {\n",
              "        vertical-align: middle;\n",
              "    }\n",
              "\n",
              "    .dataframe tbody tr th {\n",
              "        vertical-align: top;\n",
              "    }\n",
              "\n",
              "    .dataframe thead th {\n",
              "        text-align: right;\n",
              "    }\n",
              "</style>\n",
              "<table border=\"1\" class=\"dataframe\">\n",
              "  <thead>\n",
              "    <tr style=\"text-align: right;\">\n",
              "      <th></th>\n",
              "      <th>nome</th>\n",
              "      <th>salario</th>\n",
              "    </tr>\n",
              "  </thead>\n",
              "  <tbody>\n",
              "    <tr>\n",
              "      <th>0</th>\n",
              "      <td>ANTONIO</td>\n",
              "      <td>15000</td>\n",
              "    </tr>\n",
              "    <tr>\n",
              "      <th>1</th>\n",
              "      <td>GUSTAVO</td>\n",
              "      <td>3000</td>\n",
              "    </tr>\n",
              "    <tr>\n",
              "      <th>2</th>\n",
              "      <td>NORMA</td>\n",
              "      <td>3000</td>\n",
              "    </tr>\n",
              "    <tr>\n",
              "      <th>3</th>\n",
              "      <td>QUITERIA</td>\n",
              "      <td>6000</td>\n",
              "    </tr>\n",
              "    <tr>\n",
              "      <th>4</th>\n",
              "      <td>RENATA</td>\n",
              "      <td>5000</td>\n",
              "    </tr>\n",
              "  </tbody>\n",
              "</table>\n",
              "</div>"
            ],
            "text/plain": [
              "       nome  salario\n",
              "0   ANTONIO    15000\n",
              "1   GUSTAVO     3000\n",
              "2     NORMA     3000\n",
              "3  QUITERIA     6000\n",
              "4    RENATA     5000"
            ]
          },
          "metadata": {
            "tags": []
          },
          "execution_count": 42
        }
      ]
    },
    {
      "cell_type": "code",
      "metadata": {
        "colab": {
          "base_uri": "https://localhost:8080/",
          "height": 142
        },
        "id": "rQgZBonvjxM9",
        "outputId": "4ddfdbc6-b991-4b14-b998-c060a62efdca"
      },
      "source": [
        "df2"
      ],
      "execution_count": 43,
      "outputs": [
        {
          "output_type": "execute_result",
          "data": {
            "text/html": [
              "<div>\n",
              "<style scoped>\n",
              "    .dataframe tbody tr th:only-of-type {\n",
              "        vertical-align: middle;\n",
              "    }\n",
              "\n",
              "    .dataframe tbody tr th {\n",
              "        vertical-align: top;\n",
              "    }\n",
              "\n",
              "    .dataframe thead th {\n",
              "        text-align: right;\n",
              "    }\n",
              "</style>\n",
              "<table border=\"1\" class=\"dataframe\">\n",
              "  <thead>\n",
              "    <tr style=\"text-align: right;\">\n",
              "      <th></th>\n",
              "      <th>nome</th>\n",
              "      <th>salario</th>\n",
              "    </tr>\n",
              "  </thead>\n",
              "  <tbody>\n",
              "    <tr>\n",
              "      <th>5</th>\n",
              "      <td>SANDRO</td>\n",
              "      <td>4000</td>\n",
              "    </tr>\n",
              "    <tr>\n",
              "      <th>6</th>\n",
              "      <td>VANESSA</td>\n",
              "      <td>4000</td>\n",
              "    </tr>\n",
              "    <tr>\n",
              "      <th>7</th>\n",
              "      <td>MARCOS</td>\n",
              "      <td>3000</td>\n",
              "    </tr>\n",
              "  </tbody>\n",
              "</table>\n",
              "</div>"
            ],
            "text/plain": [
              "      nome  salario\n",
              "5   SANDRO     4000\n",
              "6  VANESSA     4000\n",
              "7   MARCOS     3000"
            ]
          },
          "metadata": {
            "tags": []
          },
          "execution_count": 43
        }
      ]
    },
    {
      "cell_type": "code",
      "metadata": {
        "colab": {
          "base_uri": "https://localhost:8080/",
          "height": 297
        },
        "id": "bDsh5jN4jzNF",
        "outputId": "c215b69a-680c-4e28-85b1-9626f4698d56"
      },
      "source": [
        "# e aqui iremos exibir a concatenação utilizando o pd.concat([dataframes])\n",
        "pd.concat([df1, df2]) # lembrando que aqui o resultado poderia ser atribuido\n",
        "                      # a uma variável"
      ],
      "execution_count": 44,
      "outputs": [
        {
          "output_type": "execute_result",
          "data": {
            "text/html": [
              "<div>\n",
              "<style scoped>\n",
              "    .dataframe tbody tr th:only-of-type {\n",
              "        vertical-align: middle;\n",
              "    }\n",
              "\n",
              "    .dataframe tbody tr th {\n",
              "        vertical-align: top;\n",
              "    }\n",
              "\n",
              "    .dataframe thead th {\n",
              "        text-align: right;\n",
              "    }\n",
              "</style>\n",
              "<table border=\"1\" class=\"dataframe\">\n",
              "  <thead>\n",
              "    <tr style=\"text-align: right;\">\n",
              "      <th></th>\n",
              "      <th>nome</th>\n",
              "      <th>salario</th>\n",
              "    </tr>\n",
              "  </thead>\n",
              "  <tbody>\n",
              "    <tr>\n",
              "      <th>0</th>\n",
              "      <td>ANTONIO</td>\n",
              "      <td>15000</td>\n",
              "    </tr>\n",
              "    <tr>\n",
              "      <th>1</th>\n",
              "      <td>GUSTAVO</td>\n",
              "      <td>3000</td>\n",
              "    </tr>\n",
              "    <tr>\n",
              "      <th>2</th>\n",
              "      <td>NORMA</td>\n",
              "      <td>3000</td>\n",
              "    </tr>\n",
              "    <tr>\n",
              "      <th>3</th>\n",
              "      <td>QUITERIA</td>\n",
              "      <td>6000</td>\n",
              "    </tr>\n",
              "    <tr>\n",
              "      <th>4</th>\n",
              "      <td>RENATA</td>\n",
              "      <td>5000</td>\n",
              "    </tr>\n",
              "    <tr>\n",
              "      <th>5</th>\n",
              "      <td>SANDRO</td>\n",
              "      <td>4000</td>\n",
              "    </tr>\n",
              "    <tr>\n",
              "      <th>6</th>\n",
              "      <td>VANESSA</td>\n",
              "      <td>4000</td>\n",
              "    </tr>\n",
              "    <tr>\n",
              "      <th>7</th>\n",
              "      <td>MARCOS</td>\n",
              "      <td>3000</td>\n",
              "    </tr>\n",
              "  </tbody>\n",
              "</table>\n",
              "</div>"
            ],
            "text/plain": [
              "       nome  salario\n",
              "0   ANTONIO    15000\n",
              "1   GUSTAVO     3000\n",
              "2     NORMA     3000\n",
              "3  QUITERIA     6000\n",
              "4    RENATA     5000\n",
              "5    SANDRO     4000\n",
              "6   VANESSA     4000\n",
              "7    MARCOS     3000"
            ]
          },
          "metadata": {
            "tags": []
          },
          "execution_count": 44
        }
      ]
    },
    {
      "cell_type": "code",
      "metadata": {
        "colab": {
          "base_uri": "https://localhost:8080/",
          "height": 204
        },
        "id": "k3aVHifykgmZ",
        "outputId": "1a52a744-d34c-42ce-aaeb-5c43b1e29068"
      },
      "source": [
        "# e mais um exemplo do concat, 2 dataframes sendo que o primeiro eu tenho somente as \n",
        "# colunas nome e salario e no segundo, eu tenho somente a coluna setor\n",
        "# assim concatenamos os dois dataframes, mas o segundo será adicionado como coluna\n",
        "df1 = df[:5][[\"nome\", \"salario\"]].copy()\n",
        "df2 = df[:5][[\"setor\"]].copy()\n",
        "pd.concat([df1, df2], axis=1)"
      ],
      "execution_count": 45,
      "outputs": [
        {
          "output_type": "execute_result",
          "data": {
            "text/html": [
              "<div>\n",
              "<style scoped>\n",
              "    .dataframe tbody tr th:only-of-type {\n",
              "        vertical-align: middle;\n",
              "    }\n",
              "\n",
              "    .dataframe tbody tr th {\n",
              "        vertical-align: top;\n",
              "    }\n",
              "\n",
              "    .dataframe thead th {\n",
              "        text-align: right;\n",
              "    }\n",
              "</style>\n",
              "<table border=\"1\" class=\"dataframe\">\n",
              "  <thead>\n",
              "    <tr style=\"text-align: right;\">\n",
              "      <th></th>\n",
              "      <th>nome</th>\n",
              "      <th>salario</th>\n",
              "      <th>setor</th>\n",
              "    </tr>\n",
              "  </thead>\n",
              "  <tbody>\n",
              "    <tr>\n",
              "      <th>0</th>\n",
              "      <td>ANTONIO</td>\n",
              "      <td>15000</td>\n",
              "      <td>administrativo</td>\n",
              "    </tr>\n",
              "    <tr>\n",
              "      <th>1</th>\n",
              "      <td>GUSTAVO</td>\n",
              "      <td>3000</td>\n",
              "      <td>administrativo</td>\n",
              "    </tr>\n",
              "    <tr>\n",
              "      <th>2</th>\n",
              "      <td>NORMA</td>\n",
              "      <td>3000</td>\n",
              "      <td>administrativo</td>\n",
              "    </tr>\n",
              "    <tr>\n",
              "      <th>3</th>\n",
              "      <td>QUITERIA</td>\n",
              "      <td>6000</td>\n",
              "      <td>artes</td>\n",
              "    </tr>\n",
              "    <tr>\n",
              "      <th>4</th>\n",
              "      <td>RENATA</td>\n",
              "      <td>5000</td>\n",
              "      <td>artes</td>\n",
              "    </tr>\n",
              "  </tbody>\n",
              "</table>\n",
              "</div>"
            ],
            "text/plain": [
              "       nome  salario           setor\n",
              "0   ANTONIO    15000  administrativo\n",
              "1   GUSTAVO     3000  administrativo\n",
              "2     NORMA     3000  administrativo\n",
              "3  QUITERIA     6000           artes\n",
              "4    RENATA     5000           artes"
            ]
          },
          "metadata": {
            "tags": []
          },
          "execution_count": 45
        }
      ]
    },
    {
      "cell_type": "markdown",
      "metadata": {
        "id": "fkAFwnFBD8Mf"
      },
      "source": [
        "**.MERGE**\n",
        "Esta função combina dataframes também mas baseada em dados comuns.\n",
        "Vamos ao exemplo"
      ]
    },
    {
      "cell_type": "code",
      "metadata": {
        "colab": {
          "base_uri": "https://localhost:8080/",
          "height": 421
        },
        "id": "95LYSOewCkvp",
        "outputId": "034abf9a-b15c-4e62-c40b-12911636212c"
      },
      "source": [
        "# vamos criar um dataframe com nome, setor e idade de pessoas assistentes\n",
        "assistentes = df.query(\"funcao == 'assistente'\")[['nome', 'setor', 'idade']].copy()\n",
        "assistentes"
      ],
      "execution_count": 46,
      "outputs": [
        {
          "output_type": "execute_result",
          "data": {
            "text/html": [
              "<div>\n",
              "<style scoped>\n",
              "    .dataframe tbody tr th:only-of-type {\n",
              "        vertical-align: middle;\n",
              "    }\n",
              "\n",
              "    .dataframe tbody tr th {\n",
              "        vertical-align: top;\n",
              "    }\n",
              "\n",
              "    .dataframe thead th {\n",
              "        text-align: right;\n",
              "    }\n",
              "</style>\n",
              "<table border=\"1\" class=\"dataframe\">\n",
              "  <thead>\n",
              "    <tr style=\"text-align: right;\">\n",
              "      <th></th>\n",
              "      <th>nome</th>\n",
              "      <th>setor</th>\n",
              "      <th>idade</th>\n",
              "    </tr>\n",
              "  </thead>\n",
              "  <tbody>\n",
              "    <tr>\n",
              "      <th>1</th>\n",
              "      <td>GUSTAVO</td>\n",
              "      <td>administrativo</td>\n",
              "      <td>29</td>\n",
              "    </tr>\n",
              "    <tr>\n",
              "      <th>2</th>\n",
              "      <td>NORMA</td>\n",
              "      <td>administrativo</td>\n",
              "      <td>49</td>\n",
              "    </tr>\n",
              "    <tr>\n",
              "      <th>3</th>\n",
              "      <td>QUITERIA</td>\n",
              "      <td>artes</td>\n",
              "      <td>39</td>\n",
              "    </tr>\n",
              "    <tr>\n",
              "      <th>4</th>\n",
              "      <td>RENATA</td>\n",
              "      <td>artes</td>\n",
              "      <td>39</td>\n",
              "    </tr>\n",
              "    <tr>\n",
              "      <th>6</th>\n",
              "      <td>VANESSA</td>\n",
              "      <td>artes</td>\n",
              "      <td>29</td>\n",
              "    </tr>\n",
              "    <tr>\n",
              "      <th>11</th>\n",
              "      <td>PETRO</td>\n",
              "      <td>contabilidade</td>\n",
              "      <td>18</td>\n",
              "    </tr>\n",
              "    <tr>\n",
              "      <th>12</th>\n",
              "      <td>OTAVIO</td>\n",
              "      <td>contabilidade</td>\n",
              "      <td>47</td>\n",
              "    </tr>\n",
              "    <tr>\n",
              "      <th>13</th>\n",
              "      <td>BEATRIZ</td>\n",
              "      <td>financeiro</td>\n",
              "      <td>33</td>\n",
              "    </tr>\n",
              "    <tr>\n",
              "      <th>14</th>\n",
              "      <td>TEODORO</td>\n",
              "      <td>financeiro</td>\n",
              "      <td>38</td>\n",
              "    </tr>\n",
              "    <tr>\n",
              "      <th>16</th>\n",
              "      <td>FABIA</td>\n",
              "      <td>marketing</td>\n",
              "      <td>49</td>\n",
              "    </tr>\n",
              "    <tr>\n",
              "      <th>17</th>\n",
              "      <td>UBALDO</td>\n",
              "      <td>marketing</td>\n",
              "      <td>47</td>\n",
              "    </tr>\n",
              "    <tr>\n",
              "      <th>19</th>\n",
              "      <td>YOLANDA</td>\n",
              "      <td>marketing</td>\n",
              "      <td>27</td>\n",
              "    </tr>\n",
              "  </tbody>\n",
              "</table>\n",
              "</div>"
            ],
            "text/plain": [
              "        nome           setor  idade\n",
              "1    GUSTAVO  administrativo     29\n",
              "2      NORMA  administrativo     49\n",
              "3   QUITERIA           artes     39\n",
              "4     RENATA           artes     39\n",
              "6    VANESSA           artes     29\n",
              "11     PETRO   contabilidade     18\n",
              "12    OTAVIO   contabilidade     47\n",
              "13   BEATRIZ      financeiro     33\n",
              "14   TEODORO      financeiro     38\n",
              "16     FABIA       marketing     49\n",
              "17    UBALDO       marketing     47\n",
              "19   YOLANDA       marketing     27"
            ]
          },
          "metadata": {
            "tags": []
          },
          "execution_count": 46
        }
      ]
    },
    {
      "cell_type": "code",
      "metadata": {
        "colab": {
          "base_uri": "https://localhost:8080/",
          "height": 173
        },
        "id": "bROugqTCEkzD",
        "outputId": "ea986b9d-deae-43f1-89fc-32152cd10db9"
      },
      "source": [
        "# vamos imaginar que temos esse outro dataframe\n",
        "dfTeste = pd.DataFrame({\n",
        "    \"nome\": [\"RENATA\", \"VANESSA\", \"FABIA\", \"JOAO DA SILVA\"],\n",
        "    \"setor\": [\"artes\", \"artes\", \"marketing\", \"engenharia\"]\n",
        "})\n",
        "dfTeste"
      ],
      "execution_count": 47,
      "outputs": [
        {
          "output_type": "execute_result",
          "data": {
            "text/html": [
              "<div>\n",
              "<style scoped>\n",
              "    .dataframe tbody tr th:only-of-type {\n",
              "        vertical-align: middle;\n",
              "    }\n",
              "\n",
              "    .dataframe tbody tr th {\n",
              "        vertical-align: top;\n",
              "    }\n",
              "\n",
              "    .dataframe thead th {\n",
              "        text-align: right;\n",
              "    }\n",
              "</style>\n",
              "<table border=\"1\" class=\"dataframe\">\n",
              "  <thead>\n",
              "    <tr style=\"text-align: right;\">\n",
              "      <th></th>\n",
              "      <th>nome</th>\n",
              "      <th>setor</th>\n",
              "    </tr>\n",
              "  </thead>\n",
              "  <tbody>\n",
              "    <tr>\n",
              "      <th>0</th>\n",
              "      <td>RENATA</td>\n",
              "      <td>artes</td>\n",
              "    </tr>\n",
              "    <tr>\n",
              "      <th>1</th>\n",
              "      <td>VANESSA</td>\n",
              "      <td>artes</td>\n",
              "    </tr>\n",
              "    <tr>\n",
              "      <th>2</th>\n",
              "      <td>FABIA</td>\n",
              "      <td>marketing</td>\n",
              "    </tr>\n",
              "    <tr>\n",
              "      <th>3</th>\n",
              "      <td>JOAO DA SILVA</td>\n",
              "      <td>engenharia</td>\n",
              "    </tr>\n",
              "  </tbody>\n",
              "</table>\n",
              "</div>"
            ],
            "text/plain": [
              "            nome       setor\n",
              "0         RENATA       artes\n",
              "1        VANESSA       artes\n",
              "2          FABIA   marketing\n",
              "3  JOAO DA SILVA  engenharia"
            ]
          },
          "metadata": {
            "tags": []
          },
          "execution_count": 47
        }
      ]
    },
    {
      "cell_type": "code",
      "metadata": {
        "colab": {
          "base_uri": "https://localhost:8080/",
          "height": 142
        },
        "id": "LIcuCjkoFKxT",
        "outputId": "34726878-f9c4-410f-e4dd-c5d9018f2138"
      },
      "source": [
        "# agora vamos fazer o merge entre os 2 dataframes artes e dfTeste\n",
        "merge1 = pd.merge(assistentes, dfTeste)\n",
        "merge1\n",
        "# o pandas combina os 2 dataframes, mas como não definimos com qual coluna ele \n",
        "# irá fazer o merge, por default ele usou a coluna da esquerda, no caso NOME"
      ],
      "execution_count": 48,
      "outputs": [
        {
          "output_type": "execute_result",
          "data": {
            "text/html": [
              "<div>\n",
              "<style scoped>\n",
              "    .dataframe tbody tr th:only-of-type {\n",
              "        vertical-align: middle;\n",
              "    }\n",
              "\n",
              "    .dataframe tbody tr th {\n",
              "        vertical-align: top;\n",
              "    }\n",
              "\n",
              "    .dataframe thead th {\n",
              "        text-align: right;\n",
              "    }\n",
              "</style>\n",
              "<table border=\"1\" class=\"dataframe\">\n",
              "  <thead>\n",
              "    <tr style=\"text-align: right;\">\n",
              "      <th></th>\n",
              "      <th>nome</th>\n",
              "      <th>setor</th>\n",
              "      <th>idade</th>\n",
              "    </tr>\n",
              "  </thead>\n",
              "  <tbody>\n",
              "    <tr>\n",
              "      <th>0</th>\n",
              "      <td>RENATA</td>\n",
              "      <td>artes</td>\n",
              "      <td>39</td>\n",
              "    </tr>\n",
              "    <tr>\n",
              "      <th>1</th>\n",
              "      <td>VANESSA</td>\n",
              "      <td>artes</td>\n",
              "      <td>29</td>\n",
              "    </tr>\n",
              "    <tr>\n",
              "      <th>2</th>\n",
              "      <td>FABIA</td>\n",
              "      <td>marketing</td>\n",
              "      <td>49</td>\n",
              "    </tr>\n",
              "  </tbody>\n",
              "</table>\n",
              "</div>"
            ],
            "text/plain": [
              "      nome      setor  idade\n",
              "0   RENATA      artes     39\n",
              "1  VANESSA      artes     29\n",
              "2    FABIA  marketing     49"
            ]
          },
          "metadata": {
            "tags": []
          },
          "execution_count": 48
        }
      ]
    },
    {
      "cell_type": "code",
      "metadata": {
        "colab": {
          "base_uri": "https://localhost:8080/",
          "height": 173
        },
        "id": "EvOpXZ-cG56z",
        "outputId": "648ed033-d039-4359-8135-87bb5ffb3b27"
      },
      "source": [
        "# vamos então fazer o merge pela direita\n",
        "merge2 = pd.merge(assistentes, dfTeste, how='right')\n",
        "merge2\n",
        "# aqui vemos o JOAO DA SILVA apareceu pq fizemos pela coluna da direita (setor)\n",
        "# mas como JOAO DA SILVA não existe no dataframe assistentes, a idade dele é nua"
      ],
      "execution_count": 49,
      "outputs": [
        {
          "output_type": "execute_result",
          "data": {
            "text/html": [
              "<div>\n",
              "<style scoped>\n",
              "    .dataframe tbody tr th:only-of-type {\n",
              "        vertical-align: middle;\n",
              "    }\n",
              "\n",
              "    .dataframe tbody tr th {\n",
              "        vertical-align: top;\n",
              "    }\n",
              "\n",
              "    .dataframe thead th {\n",
              "        text-align: right;\n",
              "    }\n",
              "</style>\n",
              "<table border=\"1\" class=\"dataframe\">\n",
              "  <thead>\n",
              "    <tr style=\"text-align: right;\">\n",
              "      <th></th>\n",
              "      <th>nome</th>\n",
              "      <th>setor</th>\n",
              "      <th>idade</th>\n",
              "    </tr>\n",
              "  </thead>\n",
              "  <tbody>\n",
              "    <tr>\n",
              "      <th>0</th>\n",
              "      <td>RENATA</td>\n",
              "      <td>artes</td>\n",
              "      <td>39.0</td>\n",
              "    </tr>\n",
              "    <tr>\n",
              "      <th>1</th>\n",
              "      <td>VANESSA</td>\n",
              "      <td>artes</td>\n",
              "      <td>29.0</td>\n",
              "    </tr>\n",
              "    <tr>\n",
              "      <th>2</th>\n",
              "      <td>FABIA</td>\n",
              "      <td>marketing</td>\n",
              "      <td>49.0</td>\n",
              "    </tr>\n",
              "    <tr>\n",
              "      <th>3</th>\n",
              "      <td>JOAO DA SILVA</td>\n",
              "      <td>engenharia</td>\n",
              "      <td>NaN</td>\n",
              "    </tr>\n",
              "  </tbody>\n",
              "</table>\n",
              "</div>"
            ],
            "text/plain": [
              "            nome       setor  idade\n",
              "0         RENATA       artes   39.0\n",
              "1        VANESSA       artes   29.0\n",
              "2          FABIA   marketing   49.0\n",
              "3  JOAO DA SILVA  engenharia    NaN"
            ]
          },
          "metadata": {
            "tags": []
          },
          "execution_count": 49
        }
      ]
    },
    {
      "cell_type": "markdown",
      "metadata": {
        "id": "EczJ05_cSHkA"
      },
      "source": [
        "# **Selecionar dados do dataframe**\n",
        "\n",
        "Vamos agora utilizar algumas funções do Pandas que facilitam bastante na hora de filtrar. Usaremos o padrão pandas de consulta e também o formato query bem conhecido pelos usuários de banco de dados."
      ]
    },
    {
      "cell_type": "code",
      "metadata": {
        "colab": {
          "base_uri": "https://localhost:8080/",
          "height": 824
        },
        "id": "S7Py3sxgSMzi",
        "outputId": "6467e6b7-c89a-4905-f5a4-71abb547645c"
      },
      "source": [
        "df"
      ],
      "execution_count": 50,
      "outputs": [
        {
          "output_type": "execute_result",
          "data": {
            "text/html": [
              "<div>\n",
              "<style scoped>\n",
              "    .dataframe tbody tr th:only-of-type {\n",
              "        vertical-align: middle;\n",
              "    }\n",
              "\n",
              "    .dataframe tbody tr th {\n",
              "        vertical-align: top;\n",
              "    }\n",
              "\n",
              "    .dataframe thead th {\n",
              "        text-align: right;\n",
              "    }\n",
              "</style>\n",
              "<table border=\"1\" class=\"dataframe\">\n",
              "  <thead>\n",
              "    <tr style=\"text-align: right;\">\n",
              "      <th></th>\n",
              "      <th>nome</th>\n",
              "      <th>sexo</th>\n",
              "      <th>setor</th>\n",
              "      <th>idade</th>\n",
              "      <th>funcao</th>\n",
              "      <th>salario</th>\n",
              "    </tr>\n",
              "  </thead>\n",
              "  <tbody>\n",
              "    <tr>\n",
              "      <th>0</th>\n",
              "      <td>ANTONIO</td>\n",
              "      <td>M</td>\n",
              "      <td>administrativo</td>\n",
              "      <td>26</td>\n",
              "      <td>Diretor</td>\n",
              "      <td>15000</td>\n",
              "    </tr>\n",
              "    <tr>\n",
              "      <th>1</th>\n",
              "      <td>GUSTAVO</td>\n",
              "      <td>M</td>\n",
              "      <td>administrativo</td>\n",
              "      <td>29</td>\n",
              "      <td>assistente</td>\n",
              "      <td>3000</td>\n",
              "    </tr>\n",
              "    <tr>\n",
              "      <th>2</th>\n",
              "      <td>NORMA</td>\n",
              "      <td>F</td>\n",
              "      <td>administrativo</td>\n",
              "      <td>49</td>\n",
              "      <td>assistente</td>\n",
              "      <td>3000</td>\n",
              "    </tr>\n",
              "    <tr>\n",
              "      <th>3</th>\n",
              "      <td>QUITERIA</td>\n",
              "      <td>F</td>\n",
              "      <td>artes</td>\n",
              "      <td>39</td>\n",
              "      <td>assistente</td>\n",
              "      <td>6000</td>\n",
              "    </tr>\n",
              "    <tr>\n",
              "      <th>4</th>\n",
              "      <td>RENATA</td>\n",
              "      <td>F</td>\n",
              "      <td>artes</td>\n",
              "      <td>39</td>\n",
              "      <td>assistente</td>\n",
              "      <td>5000</td>\n",
              "    </tr>\n",
              "    <tr>\n",
              "      <th>5</th>\n",
              "      <td>SANDRO</td>\n",
              "      <td>M</td>\n",
              "      <td>artes</td>\n",
              "      <td>48</td>\n",
              "      <td>NaN</td>\n",
              "      <td>4000</td>\n",
              "    </tr>\n",
              "    <tr>\n",
              "      <th>6</th>\n",
              "      <td>VANESSA</td>\n",
              "      <td>F</td>\n",
              "      <td>artes</td>\n",
              "      <td>29</td>\n",
              "      <td>assistente</td>\n",
              "      <td>4000</td>\n",
              "    </tr>\n",
              "    <tr>\n",
              "      <th>7</th>\n",
              "      <td>MARCOS</td>\n",
              "      <td>M</td>\n",
              "      <td>comercial</td>\n",
              "      <td>49</td>\n",
              "      <td>executivo de contas</td>\n",
              "      <td>3000</td>\n",
              "    </tr>\n",
              "    <tr>\n",
              "      <th>8</th>\n",
              "      <td>CARLA</td>\n",
              "      <td>F</td>\n",
              "      <td>comercial</td>\n",
              "      <td>22</td>\n",
              "      <td>Gerente</td>\n",
              "      <td>7000</td>\n",
              "    </tr>\n",
              "    <tr>\n",
              "      <th>9</th>\n",
              "      <td>DANIELA</td>\n",
              "      <td>F</td>\n",
              "      <td>comercial</td>\n",
              "      <td>50</td>\n",
              "      <td>executivo de contas</td>\n",
              "      <td>3000</td>\n",
              "    </tr>\n",
              "    <tr>\n",
              "      <th>10</th>\n",
              "      <td>EDUARDO</td>\n",
              "      <td>M</td>\n",
              "      <td>comercial</td>\n",
              "      <td>34</td>\n",
              "      <td>executivo de contas</td>\n",
              "      <td>3000</td>\n",
              "    </tr>\n",
              "    <tr>\n",
              "      <th>11</th>\n",
              "      <td>PETRO</td>\n",
              "      <td>M</td>\n",
              "      <td>contabilidade</td>\n",
              "      <td>18</td>\n",
              "      <td>assistente</td>\n",
              "      <td>3000</td>\n",
              "    </tr>\n",
              "    <tr>\n",
              "      <th>12</th>\n",
              "      <td>OTAVIO</td>\n",
              "      <td>M</td>\n",
              "      <td>contabilidade</td>\n",
              "      <td>47</td>\n",
              "      <td>assistente</td>\n",
              "      <td>3000</td>\n",
              "    </tr>\n",
              "    <tr>\n",
              "      <th>13</th>\n",
              "      <td>BEATRIZ</td>\n",
              "      <td>F</td>\n",
              "      <td>financeiro</td>\n",
              "      <td>33</td>\n",
              "      <td>assistente</td>\n",
              "      <td>2500</td>\n",
              "    </tr>\n",
              "    <tr>\n",
              "      <th>14</th>\n",
              "      <td>TEODORO</td>\n",
              "      <td>M</td>\n",
              "      <td>financeiro</td>\n",
              "      <td>38</td>\n",
              "      <td>assistente</td>\n",
              "      <td>2500</td>\n",
              "    </tr>\n",
              "    <tr>\n",
              "      <th>15</th>\n",
              "      <td>ZURIEL</td>\n",
              "      <td>M</td>\n",
              "      <td>financeiro</td>\n",
              "      <td>20</td>\n",
              "      <td>NaN</td>\n",
              "      <td>3000</td>\n",
              "    </tr>\n",
              "    <tr>\n",
              "      <th>16</th>\n",
              "      <td>FABIA</td>\n",
              "      <td>F</td>\n",
              "      <td>marketing</td>\n",
              "      <td>49</td>\n",
              "      <td>assistente</td>\n",
              "      <td>2500</td>\n",
              "    </tr>\n",
              "    <tr>\n",
              "      <th>17</th>\n",
              "      <td>UBALDO</td>\n",
              "      <td>M</td>\n",
              "      <td>marketing</td>\n",
              "      <td>47</td>\n",
              "      <td>assistente</td>\n",
              "      <td>2500</td>\n",
              "    </tr>\n",
              "    <tr>\n",
              "      <th>18</th>\n",
              "      <td>XAVIER</td>\n",
              "      <td>M</td>\n",
              "      <td>marketing</td>\n",
              "      <td>28</td>\n",
              "      <td>Coordenador</td>\n",
              "      <td>3500</td>\n",
              "    </tr>\n",
              "    <tr>\n",
              "      <th>19</th>\n",
              "      <td>YOLANDA</td>\n",
              "      <td>F</td>\n",
              "      <td>marketing</td>\n",
              "      <td>27</td>\n",
              "      <td>assistente</td>\n",
              "      <td>2500</td>\n",
              "    </tr>\n",
              "    <tr>\n",
              "      <th>20</th>\n",
              "      <td>HELOISA</td>\n",
              "      <td>F</td>\n",
              "      <td>tecnologia</td>\n",
              "      <td>43</td>\n",
              "      <td>Gerente</td>\n",
              "      <td>10000</td>\n",
              "    </tr>\n",
              "    <tr>\n",
              "      <th>21</th>\n",
              "      <td>ISABELLE</td>\n",
              "      <td>F</td>\n",
              "      <td>tecnologia</td>\n",
              "      <td>28</td>\n",
              "      <td>Coordenador</td>\n",
              "      <td>7500</td>\n",
              "    </tr>\n",
              "    <tr>\n",
              "      <th>22</th>\n",
              "      <td>JOANA</td>\n",
              "      <td>F</td>\n",
              "      <td>tecnologia</td>\n",
              "      <td>29</td>\n",
              "      <td>Engenheiro de Software</td>\n",
              "      <td>5000</td>\n",
              "    </tr>\n",
              "    <tr>\n",
              "      <th>23</th>\n",
              "      <td>KLAYTON</td>\n",
              "      <td>M</td>\n",
              "      <td>tecnologia</td>\n",
              "      <td>33</td>\n",
              "      <td>NaN</td>\n",
              "      <td>5000</td>\n",
              "    </tr>\n",
              "    <tr>\n",
              "      <th>24</th>\n",
              "      <td>LAURO</td>\n",
              "      <td>M</td>\n",
              "      <td>tecnologia</td>\n",
              "      <td>26</td>\n",
              "      <td>Engenheiro de Software</td>\n",
              "      <td>5000</td>\n",
              "    </tr>\n",
              "  </tbody>\n",
              "</table>\n",
              "</div>"
            ],
            "text/plain": [
              "        nome sexo           setor  idade                  funcao  salario\n",
              "0    ANTONIO    M  administrativo     26                 Diretor    15000\n",
              "1    GUSTAVO    M  administrativo     29              assistente     3000\n",
              "2      NORMA    F  administrativo     49              assistente     3000\n",
              "3   QUITERIA    F           artes     39              assistente     6000\n",
              "4     RENATA    F           artes     39              assistente     5000\n",
              "5     SANDRO    M           artes     48                     NaN     4000\n",
              "6    VANESSA    F           artes     29              assistente     4000\n",
              "7     MARCOS    M       comercial     49     executivo de contas     3000\n",
              "8      CARLA    F       comercial     22                Gerente      7000\n",
              "9    DANIELA    F       comercial     50     executivo de contas     3000\n",
              "10   EDUARDO    M       comercial     34     executivo de contas     3000\n",
              "11     PETRO    M   contabilidade     18              assistente     3000\n",
              "12    OTAVIO    M   contabilidade     47              assistente     3000\n",
              "13   BEATRIZ    F      financeiro     33              assistente     2500\n",
              "14   TEODORO    M      financeiro     38              assistente     2500\n",
              "15    ZURIEL    M      financeiro     20                     NaN     3000\n",
              "16     FABIA    F       marketing     49              assistente     2500\n",
              "17    UBALDO    M       marketing     47              assistente     2500\n",
              "18    XAVIER    M       marketing     28             Coordenador     3500\n",
              "19   YOLANDA    F       marketing     27              assistente     2500\n",
              "20   HELOISA    F      tecnologia     43                Gerente     10000\n",
              "21  ISABELLE    F      tecnologia     28             Coordenador     7500\n",
              "22     JOANA    F      tecnologia     29  Engenheiro de Software     5000\n",
              "23   KLAYTON    M      tecnologia     33                     NaN     5000\n",
              "24     LAURO    M      tecnologia     26  Engenheiro de Software     5000"
            ]
          },
          "metadata": {
            "tags": []
          },
          "execution_count": 50
        }
      ]
    },
    {
      "cell_type": "code",
      "metadata": {
        "colab": {
          "base_uri": "https://localhost:8080/",
          "height": 80
        },
        "id": "ENLpmwO9SQu0",
        "outputId": "bef5c4c7-33c9-4414-8373-850080d39a80"
      },
      "source": [
        "# listar somente pessoas que tenham a idade menor que 20\n",
        "df[df['idade'] < 20]"
      ],
      "execution_count": 51,
      "outputs": [
        {
          "output_type": "execute_result",
          "data": {
            "text/html": [
              "<div>\n",
              "<style scoped>\n",
              "    .dataframe tbody tr th:only-of-type {\n",
              "        vertical-align: middle;\n",
              "    }\n",
              "\n",
              "    .dataframe tbody tr th {\n",
              "        vertical-align: top;\n",
              "    }\n",
              "\n",
              "    .dataframe thead th {\n",
              "        text-align: right;\n",
              "    }\n",
              "</style>\n",
              "<table border=\"1\" class=\"dataframe\">\n",
              "  <thead>\n",
              "    <tr style=\"text-align: right;\">\n",
              "      <th></th>\n",
              "      <th>nome</th>\n",
              "      <th>sexo</th>\n",
              "      <th>setor</th>\n",
              "      <th>idade</th>\n",
              "      <th>funcao</th>\n",
              "      <th>salario</th>\n",
              "    </tr>\n",
              "  </thead>\n",
              "  <tbody>\n",
              "    <tr>\n",
              "      <th>11</th>\n",
              "      <td>PETRO</td>\n",
              "      <td>M</td>\n",
              "      <td>contabilidade</td>\n",
              "      <td>18</td>\n",
              "      <td>assistente</td>\n",
              "      <td>3000</td>\n",
              "    </tr>\n",
              "  </tbody>\n",
              "</table>\n",
              "</div>"
            ],
            "text/plain": [
              "     nome sexo          setor  idade      funcao  salario\n",
              "11  PETRO    M  contabilidade     18  assistente     3000"
            ]
          },
          "metadata": {
            "tags": []
          },
          "execution_count": 51
        }
      ]
    },
    {
      "cell_type": "code",
      "metadata": {
        "colab": {
          "base_uri": "https://localhost:8080/",
          "height": 80
        },
        "id": "nIXdUC2TS91u",
        "outputId": "89ffd385-6d4d-47ad-b57f-b12fdc65627d"
      },
      "source": [
        "# ou no formato query\n",
        "df.query(\"idade < 20\")"
      ],
      "execution_count": 52,
      "outputs": [
        {
          "output_type": "execute_result",
          "data": {
            "text/html": [
              "<div>\n",
              "<style scoped>\n",
              "    .dataframe tbody tr th:only-of-type {\n",
              "        vertical-align: middle;\n",
              "    }\n",
              "\n",
              "    .dataframe tbody tr th {\n",
              "        vertical-align: top;\n",
              "    }\n",
              "\n",
              "    .dataframe thead th {\n",
              "        text-align: right;\n",
              "    }\n",
              "</style>\n",
              "<table border=\"1\" class=\"dataframe\">\n",
              "  <thead>\n",
              "    <tr style=\"text-align: right;\">\n",
              "      <th></th>\n",
              "      <th>nome</th>\n",
              "      <th>sexo</th>\n",
              "      <th>setor</th>\n",
              "      <th>idade</th>\n",
              "      <th>funcao</th>\n",
              "      <th>salario</th>\n",
              "    </tr>\n",
              "  </thead>\n",
              "  <tbody>\n",
              "    <tr>\n",
              "      <th>11</th>\n",
              "      <td>PETRO</td>\n",
              "      <td>M</td>\n",
              "      <td>contabilidade</td>\n",
              "      <td>18</td>\n",
              "      <td>assistente</td>\n",
              "      <td>3000</td>\n",
              "    </tr>\n",
              "  </tbody>\n",
              "</table>\n",
              "</div>"
            ],
            "text/plain": [
              "     nome sexo          setor  idade      funcao  salario\n",
              "11  PETRO    M  contabilidade     18  assistente     3000"
            ]
          },
          "metadata": {
            "tags": []
          },
          "execution_count": 52
        }
      ]
    },
    {
      "cell_type": "code",
      "metadata": {
        "colab": {
          "base_uri": "https://localhost:8080/",
          "height": 111
        },
        "id": "lJK24w2sTFrh",
        "outputId": "8a2e115e-afac-4492-a8a0-b40c733f02d4"
      },
      "source": [
        "# listar pessoas da tecnologia que tem o salário maior que 5000\n",
        "df[(df['setor'] == 'tecnologia') & (df['salario'] > 5000)]"
      ],
      "execution_count": 53,
      "outputs": [
        {
          "output_type": "execute_result",
          "data": {
            "text/html": [
              "<div>\n",
              "<style scoped>\n",
              "    .dataframe tbody tr th:only-of-type {\n",
              "        vertical-align: middle;\n",
              "    }\n",
              "\n",
              "    .dataframe tbody tr th {\n",
              "        vertical-align: top;\n",
              "    }\n",
              "\n",
              "    .dataframe thead th {\n",
              "        text-align: right;\n",
              "    }\n",
              "</style>\n",
              "<table border=\"1\" class=\"dataframe\">\n",
              "  <thead>\n",
              "    <tr style=\"text-align: right;\">\n",
              "      <th></th>\n",
              "      <th>nome</th>\n",
              "      <th>sexo</th>\n",
              "      <th>setor</th>\n",
              "      <th>idade</th>\n",
              "      <th>funcao</th>\n",
              "      <th>salario</th>\n",
              "    </tr>\n",
              "  </thead>\n",
              "  <tbody>\n",
              "    <tr>\n",
              "      <th>20</th>\n",
              "      <td>HELOISA</td>\n",
              "      <td>F</td>\n",
              "      <td>tecnologia</td>\n",
              "      <td>43</td>\n",
              "      <td>Gerente</td>\n",
              "      <td>10000</td>\n",
              "    </tr>\n",
              "    <tr>\n",
              "      <th>21</th>\n",
              "      <td>ISABELLE</td>\n",
              "      <td>F</td>\n",
              "      <td>tecnologia</td>\n",
              "      <td>28</td>\n",
              "      <td>Coordenador</td>\n",
              "      <td>7500</td>\n",
              "    </tr>\n",
              "  </tbody>\n",
              "</table>\n",
              "</div>"
            ],
            "text/plain": [
              "        nome sexo       setor  idade       funcao  salario\n",
              "20   HELOISA    F  tecnologia     43     Gerente     10000\n",
              "21  ISABELLE    F  tecnologia     28  Coordenador     7500"
            ]
          },
          "metadata": {
            "tags": []
          },
          "execution_count": 53
        }
      ]
    },
    {
      "cell_type": "code",
      "metadata": {
        "colab": {
          "base_uri": "https://localhost:8080/",
          "height": 111
        },
        "id": "ihaKcwl0TaVR",
        "outputId": "3932f8aa-879c-4a6b-fe30-67615b8050cb"
      },
      "source": [
        "df.query(\"setor == 'tecnologia' and salario > 5000\")"
      ],
      "execution_count": 54,
      "outputs": [
        {
          "output_type": "execute_result",
          "data": {
            "text/html": [
              "<div>\n",
              "<style scoped>\n",
              "    .dataframe tbody tr th:only-of-type {\n",
              "        vertical-align: middle;\n",
              "    }\n",
              "\n",
              "    .dataframe tbody tr th {\n",
              "        vertical-align: top;\n",
              "    }\n",
              "\n",
              "    .dataframe thead th {\n",
              "        text-align: right;\n",
              "    }\n",
              "</style>\n",
              "<table border=\"1\" class=\"dataframe\">\n",
              "  <thead>\n",
              "    <tr style=\"text-align: right;\">\n",
              "      <th></th>\n",
              "      <th>nome</th>\n",
              "      <th>sexo</th>\n",
              "      <th>setor</th>\n",
              "      <th>idade</th>\n",
              "      <th>funcao</th>\n",
              "      <th>salario</th>\n",
              "    </tr>\n",
              "  </thead>\n",
              "  <tbody>\n",
              "    <tr>\n",
              "      <th>20</th>\n",
              "      <td>HELOISA</td>\n",
              "      <td>F</td>\n",
              "      <td>tecnologia</td>\n",
              "      <td>43</td>\n",
              "      <td>Gerente</td>\n",
              "      <td>10000</td>\n",
              "    </tr>\n",
              "    <tr>\n",
              "      <th>21</th>\n",
              "      <td>ISABELLE</td>\n",
              "      <td>F</td>\n",
              "      <td>tecnologia</td>\n",
              "      <td>28</td>\n",
              "      <td>Coordenador</td>\n",
              "      <td>7500</td>\n",
              "    </tr>\n",
              "  </tbody>\n",
              "</table>\n",
              "</div>"
            ],
            "text/plain": [
              "        nome sexo       setor  idade       funcao  salario\n",
              "20   HELOISA    F  tecnologia     43     Gerente     10000\n",
              "21  ISABELLE    F  tecnologia     28  Coordenador     7500"
            ]
          },
          "metadata": {
            "tags": []
          },
          "execution_count": 54
        }
      ]
    },
    {
      "cell_type": "code",
      "metadata": {
        "colab": {
          "base_uri": "https://localhost:8080/",
          "height": 111
        },
        "id": "-RgIq0siTlUy",
        "outputId": "fb1547d7-e2b4-49bc-c5de-19485d3ae078"
      },
      "source": [
        "# listar somente o nome e o salário das pessoas da tecnologia que tem o salário maior que 5000\n",
        "resultado = ['nome', 'salario']\n",
        "df[(df['setor'] == 'tecnologia') & (df['salario'] > 5000)][resultado]"
      ],
      "execution_count": 55,
      "outputs": [
        {
          "output_type": "execute_result",
          "data": {
            "text/html": [
              "<div>\n",
              "<style scoped>\n",
              "    .dataframe tbody tr th:only-of-type {\n",
              "        vertical-align: middle;\n",
              "    }\n",
              "\n",
              "    .dataframe tbody tr th {\n",
              "        vertical-align: top;\n",
              "    }\n",
              "\n",
              "    .dataframe thead th {\n",
              "        text-align: right;\n",
              "    }\n",
              "</style>\n",
              "<table border=\"1\" class=\"dataframe\">\n",
              "  <thead>\n",
              "    <tr style=\"text-align: right;\">\n",
              "      <th></th>\n",
              "      <th>nome</th>\n",
              "      <th>salario</th>\n",
              "    </tr>\n",
              "  </thead>\n",
              "  <tbody>\n",
              "    <tr>\n",
              "      <th>20</th>\n",
              "      <td>HELOISA</td>\n",
              "      <td>10000</td>\n",
              "    </tr>\n",
              "    <tr>\n",
              "      <th>21</th>\n",
              "      <td>ISABELLE</td>\n",
              "      <td>7500</td>\n",
              "    </tr>\n",
              "  </tbody>\n",
              "</table>\n",
              "</div>"
            ],
            "text/plain": [
              "        nome  salario\n",
              "20   HELOISA    10000\n",
              "21  ISABELLE     7500"
            ]
          },
          "metadata": {
            "tags": []
          },
          "execution_count": 55
        }
      ]
    },
    {
      "cell_type": "code",
      "metadata": {
        "colab": {
          "base_uri": "https://localhost:8080/",
          "height": 111
        },
        "id": "UHuGtH3OT1b2",
        "outputId": "eb38dc3f-3bd3-47e9-d66e-162c4f75526c"
      },
      "source": [
        "df.query(\"setor == 'tecnologia' and salario > 5000\")[resultado]"
      ],
      "execution_count": 56,
      "outputs": [
        {
          "output_type": "execute_result",
          "data": {
            "text/html": [
              "<div>\n",
              "<style scoped>\n",
              "    .dataframe tbody tr th:only-of-type {\n",
              "        vertical-align: middle;\n",
              "    }\n",
              "\n",
              "    .dataframe tbody tr th {\n",
              "        vertical-align: top;\n",
              "    }\n",
              "\n",
              "    .dataframe thead th {\n",
              "        text-align: right;\n",
              "    }\n",
              "</style>\n",
              "<table border=\"1\" class=\"dataframe\">\n",
              "  <thead>\n",
              "    <tr style=\"text-align: right;\">\n",
              "      <th></th>\n",
              "      <th>nome</th>\n",
              "      <th>salario</th>\n",
              "    </tr>\n",
              "  </thead>\n",
              "  <tbody>\n",
              "    <tr>\n",
              "      <th>20</th>\n",
              "      <td>HELOISA</td>\n",
              "      <td>10000</td>\n",
              "    </tr>\n",
              "    <tr>\n",
              "      <th>21</th>\n",
              "      <td>ISABELLE</td>\n",
              "      <td>7500</td>\n",
              "    </tr>\n",
              "  </tbody>\n",
              "</table>\n",
              "</div>"
            ],
            "text/plain": [
              "        nome  salario\n",
              "20   HELOISA    10000\n",
              "21  ISABELLE     7500"
            ]
          },
          "metadata": {
            "tags": []
          },
          "execution_count": 56
        }
      ]
    },
    {
      "cell_type": "markdown",
      "metadata": {
        "id": "OYjklGTQKa2c"
      },
      "source": [
        "**UNIQUE()**"
      ]
    },
    {
      "cell_type": "code",
      "metadata": {
        "colab": {
          "base_uri": "https://localhost:8080/"
        },
        "id": "HkPVqqLIKZds",
        "outputId": "9973a478-957a-4ea8-dc57-7375b440661d"
      },
      "source": [
        "# exibir todas as funções, de forma única, do dataframe df\n",
        "df['funcao'].unique()"
      ],
      "execution_count": 57,
      "outputs": [
        {
          "output_type": "execute_result",
          "data": {
            "text/plain": [
              "array(['Diretor', 'assistente', nan, 'executivo de contas', 'Gerente ',\n",
              "       'Coordenador', 'Engenheiro de Software'], dtype=object)"
            ]
          },
          "metadata": {
            "tags": []
          },
          "execution_count": 57
        }
      ]
    },
    {
      "cell_type": "code",
      "metadata": {
        "colab": {
          "base_uri": "https://localhost:8080/"
        },
        "id": "XyozvoaqLJVJ",
        "outputId": "e0d1b84f-f170-4d90-ceb9-f8693643d7c6"
      },
      "source": [
        "# caso o interesse seja o retorno em forma de lista, usamos o .tolist()\n",
        "unicasFuncoes = df['funcao'].unique().tolist()\n",
        "unicasFuncoes"
      ],
      "execution_count": 58,
      "outputs": [
        {
          "output_type": "execute_result",
          "data": {
            "text/plain": [
              "['Diretor',\n",
              " 'assistente',\n",
              " nan,\n",
              " 'executivo de contas',\n",
              " 'Gerente ',\n",
              " 'Coordenador',\n",
              " 'Engenheiro de Software']"
            ]
          },
          "metadata": {
            "tags": []
          },
          "execution_count": 58
        }
      ]
    },
    {
      "cell_type": "markdown",
      "metadata": {
        "id": "dUM9a1GwUlqd"
      },
      "source": [
        "# **Resumir e exibir dados estatísticos do dataframe**\n",
        "\n",
        "O Pandas oferece funções que realmente facilitam o nosso trabalho. Imagine situações onde precisamos somar todos os valores de uma coluna, ou simplesmente contar a quantidade.\n",
        "É isso que veremos agora..."
      ]
    },
    {
      "cell_type": "markdown",
      "metadata": {
        "id": "YnFupLQj1odl"
      },
      "source": [
        "**SUM()**"
      ]
    },
    {
      "cell_type": "code",
      "metadata": {
        "colab": {
          "base_uri": "https://localhost:8080/"
        },
        "id": "ed8mNlqtT5sr",
        "outputId": "d1780881-9dae-4670-e6b5-42a9db92d03d"
      },
      "source": [
        "# Somar todos os valores da coluna saláriodo dataframe df\n",
        "df['salario'].sum()"
      ],
      "execution_count": 59,
      "outputs": [
        {
          "output_type": "execute_result",
          "data": {
            "text/plain": [
              "113500"
            ]
          },
          "metadata": {
            "tags": []
          },
          "execution_count": 59
        }
      ]
    },
    {
      "cell_type": "markdown",
      "metadata": {
        "id": "MxuW4vq01xTJ"
      },
      "source": [
        "**COUNT()**"
      ]
    },
    {
      "cell_type": "code",
      "metadata": {
        "colab": {
          "base_uri": "https://localhost:8080/"
        },
        "id": "zFxc-Rm42vzj",
        "outputId": "d452e825-0e70-4d5f-c154-9f3cb0188642"
      },
      "source": [
        "df['salario'].count()"
      ],
      "execution_count": 60,
      "outputs": [
        {
          "output_type": "execute_result",
          "data": {
            "text/plain": [
              "25"
            ]
          },
          "metadata": {
            "tags": []
          },
          "execution_count": 60
        }
      ]
    },
    {
      "cell_type": "code",
      "metadata": {
        "colab": {
          "base_uri": "https://localhost:8080/",
          "height": 35
        },
        "id": "IWihPoLbVj86",
        "outputId": "6a7d5fba-0c11-4a97-8ed2-72817f419e03"
      },
      "source": [
        "# ou poderíamos até utilizarmos recursos pra melhorar nossa resposta\n",
        "f\"O total de salários pago aos {df['salario'].count()} funcionários é de ${df['salario'].sum()}\""
      ],
      "execution_count": 61,
      "outputs": [
        {
          "output_type": "execute_result",
          "data": {
            "application/vnd.google.colaboratory.intrinsic+json": {
              "type": "string"
            },
            "text/plain": [
              "'O total de salários pago aos 25 funcionários é de $113500'"
            ]
          },
          "metadata": {
            "tags": []
          },
          "execution_count": 61
        }
      ]
    },
    {
      "cell_type": "markdown",
      "metadata": {
        "id": "_YgNP-be2mtu"
      },
      "source": [
        "**VALUE_COUNTS()**"
      ]
    },
    {
      "cell_type": "code",
      "metadata": {
        "colab": {
          "base_uri": "https://localhost:8080/"
        },
        "id": "rjEuRZL615yL",
        "outputId": "528e4a4e-87ac-4ee3-878b-d45285807307"
      },
      "source": [
        "# Contar quantos registros tem cada setor do dataframe\n",
        "df['setor'].value_counts()"
      ],
      "execution_count": 62,
      "outputs": [
        {
          "output_type": "execute_result",
          "data": {
            "text/plain": [
              "tecnologia        5\n",
              "artes             4\n",
              "comercial         4\n",
              "marketing         4\n",
              "administrativo    3\n",
              "financeiro        3\n",
              "contabilidade     2\n",
              "Name: setor, dtype: int64"
            ]
          },
          "metadata": {
            "tags": []
          },
          "execution_count": 62
        }
      ]
    },
    {
      "cell_type": "markdown",
      "metadata": {
        "id": "Mo6NQcB53Lzp"
      },
      "source": [
        "**MIN() e MAX()**"
      ]
    },
    {
      "cell_type": "code",
      "metadata": {
        "colab": {
          "base_uri": "https://localhost:8080/"
        },
        "id": "pr88kzA93LD6",
        "outputId": "512e64e9-a39d-4ffc-8993-48452b1b8ee2"
      },
      "source": [
        "# Maior salário\n",
        "df['salario'].max()"
      ],
      "execution_count": 63,
      "outputs": [
        {
          "output_type": "execute_result",
          "data": {
            "text/plain": [
              "15000"
            ]
          },
          "metadata": {
            "tags": []
          },
          "execution_count": 63
        }
      ]
    },
    {
      "cell_type": "code",
      "metadata": {
        "colab": {
          "base_uri": "https://localhost:8080/"
        },
        "id": "pV8AXbHq3W3n",
        "outputId": "92fb45c8-654e-4714-b168-459494063fe8"
      },
      "source": [
        "# idade do funcionário mais novo\n",
        "df['idade'].min()"
      ],
      "execution_count": 64,
      "outputs": [
        {
          "output_type": "execute_result",
          "data": {
            "text/plain": [
              "18"
            ]
          },
          "metadata": {
            "tags": []
          },
          "execution_count": 64
        }
      ]
    },
    {
      "cell_type": "markdown",
      "metadata": {
        "id": "Fd0IRqxy3m_N"
      },
      "source": [
        "**MEAN() e MEDIAN()**"
      ]
    },
    {
      "cell_type": "code",
      "metadata": {
        "colab": {
          "base_uri": "https://localhost:8080/",
          "height": 204
        },
        "id": "17nKo8Y2V4TV",
        "outputId": "2d044dc9-6f45-465b-adfc-02e9bcebb6d9"
      },
      "source": [
        "# Visualizando os dados do setor de tecnologia:\n",
        "df.query(f\"setor == 'tecnologia'\")"
      ],
      "execution_count": 65,
      "outputs": [
        {
          "output_type": "execute_result",
          "data": {
            "text/html": [
              "<div>\n",
              "<style scoped>\n",
              "    .dataframe tbody tr th:only-of-type {\n",
              "        vertical-align: middle;\n",
              "    }\n",
              "\n",
              "    .dataframe tbody tr th {\n",
              "        vertical-align: top;\n",
              "    }\n",
              "\n",
              "    .dataframe thead th {\n",
              "        text-align: right;\n",
              "    }\n",
              "</style>\n",
              "<table border=\"1\" class=\"dataframe\">\n",
              "  <thead>\n",
              "    <tr style=\"text-align: right;\">\n",
              "      <th></th>\n",
              "      <th>nome</th>\n",
              "      <th>sexo</th>\n",
              "      <th>setor</th>\n",
              "      <th>idade</th>\n",
              "      <th>funcao</th>\n",
              "      <th>salario</th>\n",
              "    </tr>\n",
              "  </thead>\n",
              "  <tbody>\n",
              "    <tr>\n",
              "      <th>20</th>\n",
              "      <td>HELOISA</td>\n",
              "      <td>F</td>\n",
              "      <td>tecnologia</td>\n",
              "      <td>43</td>\n",
              "      <td>Gerente</td>\n",
              "      <td>10000</td>\n",
              "    </tr>\n",
              "    <tr>\n",
              "      <th>21</th>\n",
              "      <td>ISABELLE</td>\n",
              "      <td>F</td>\n",
              "      <td>tecnologia</td>\n",
              "      <td>28</td>\n",
              "      <td>Coordenador</td>\n",
              "      <td>7500</td>\n",
              "    </tr>\n",
              "    <tr>\n",
              "      <th>22</th>\n",
              "      <td>JOANA</td>\n",
              "      <td>F</td>\n",
              "      <td>tecnologia</td>\n",
              "      <td>29</td>\n",
              "      <td>Engenheiro de Software</td>\n",
              "      <td>5000</td>\n",
              "    </tr>\n",
              "    <tr>\n",
              "      <th>23</th>\n",
              "      <td>KLAYTON</td>\n",
              "      <td>M</td>\n",
              "      <td>tecnologia</td>\n",
              "      <td>33</td>\n",
              "      <td>NaN</td>\n",
              "      <td>5000</td>\n",
              "    </tr>\n",
              "    <tr>\n",
              "      <th>24</th>\n",
              "      <td>LAURO</td>\n",
              "      <td>M</td>\n",
              "      <td>tecnologia</td>\n",
              "      <td>26</td>\n",
              "      <td>Engenheiro de Software</td>\n",
              "      <td>5000</td>\n",
              "    </tr>\n",
              "  </tbody>\n",
              "</table>\n",
              "</div>"
            ],
            "text/plain": [
              "        nome sexo       setor  idade                  funcao  salario\n",
              "20   HELOISA    F  tecnologia     43                Gerente     10000\n",
              "21  ISABELLE    F  tecnologia     28             Coordenador     7500\n",
              "22     JOANA    F  tecnologia     29  Engenheiro de Software     5000\n",
              "23   KLAYTON    M  tecnologia     33                     NaN     5000\n",
              "24     LAURO    M  tecnologia     26  Engenheiro de Software     5000"
            ]
          },
          "metadata": {
            "tags": []
          },
          "execution_count": 65
        }
      ]
    },
    {
      "cell_type": "code",
      "metadata": {
        "colab": {
          "base_uri": "https://localhost:8080/"
        },
        "id": "hdvKR1FS3rEZ",
        "outputId": "ebd6f281-c982-483e-e458-0de6e81b80fc"
      },
      "source": [
        "# Média salarial da equipe de tecnologia\n",
        "df[df['setor']==\"tecnologia\"][\"salario\"].mean()"
      ],
      "execution_count": 66,
      "outputs": [
        {
          "output_type": "execute_result",
          "data": {
            "text/plain": [
              "6500.0"
            ]
          },
          "metadata": {
            "tags": []
          },
          "execution_count": 66
        }
      ]
    },
    {
      "cell_type": "code",
      "metadata": {
        "colab": {
          "base_uri": "https://localhost:8080/"
        },
        "id": "txQBBvtz4CcL",
        "outputId": "7ebd8c54-3af6-4a97-cb82-ae58abcb2980"
      },
      "source": [
        "# Calcular a mediana salarial da equipe de tecnologia\n",
        "df[df['setor']==\"tecnologia\"][\"salario\"].median()"
      ],
      "execution_count": 67,
      "outputs": [
        {
          "output_type": "execute_result",
          "data": {
            "text/plain": [
              "5000.0"
            ]
          },
          "metadata": {
            "tags": []
          },
          "execution_count": 67
        }
      ]
    },
    {
      "cell_type": "markdown",
      "metadata": {
        "id": "z8bKe6ft5gDi"
      },
      "source": [
        "**DESCRIBE**"
      ]
    },
    {
      "cell_type": "code",
      "metadata": {
        "colab": {
          "base_uri": "https://localhost:8080/",
          "height": 297
        },
        "id": "YQIsisLf5mLv",
        "outputId": "0ce87f4e-6869-4474-fa02-6ac2701c21e7"
      },
      "source": [
        "df.describe()"
      ],
      "execution_count": 68,
      "outputs": [
        {
          "output_type": "execute_result",
          "data": {
            "text/html": [
              "<div>\n",
              "<style scoped>\n",
              "    .dataframe tbody tr th:only-of-type {\n",
              "        vertical-align: middle;\n",
              "    }\n",
              "\n",
              "    .dataframe tbody tr th {\n",
              "        vertical-align: top;\n",
              "    }\n",
              "\n",
              "    .dataframe thead th {\n",
              "        text-align: right;\n",
              "    }\n",
              "</style>\n",
              "<table border=\"1\" class=\"dataframe\">\n",
              "  <thead>\n",
              "    <tr style=\"text-align: right;\">\n",
              "      <th></th>\n",
              "      <th>idade</th>\n",
              "      <th>salario</th>\n",
              "    </tr>\n",
              "  </thead>\n",
              "  <tbody>\n",
              "    <tr>\n",
              "      <th>count</th>\n",
              "      <td>25.000000</td>\n",
              "      <td>25.000000</td>\n",
              "    </tr>\n",
              "    <tr>\n",
              "      <th>mean</th>\n",
              "      <td>35.200000</td>\n",
              "      <td>4540.000000</td>\n",
              "    </tr>\n",
              "    <tr>\n",
              "      <th>std</th>\n",
              "      <td>10.202124</td>\n",
              "      <td>2875.615876</td>\n",
              "    </tr>\n",
              "    <tr>\n",
              "      <th>min</th>\n",
              "      <td>18.000000</td>\n",
              "      <td>2500.000000</td>\n",
              "    </tr>\n",
              "    <tr>\n",
              "      <th>25%</th>\n",
              "      <td>28.000000</td>\n",
              "      <td>3000.000000</td>\n",
              "    </tr>\n",
              "    <tr>\n",
              "      <th>50%</th>\n",
              "      <td>33.000000</td>\n",
              "      <td>3000.000000</td>\n",
              "    </tr>\n",
              "    <tr>\n",
              "      <th>75%</th>\n",
              "      <td>47.000000</td>\n",
              "      <td>5000.000000</td>\n",
              "    </tr>\n",
              "    <tr>\n",
              "      <th>max</th>\n",
              "      <td>50.000000</td>\n",
              "      <td>15000.000000</td>\n",
              "    </tr>\n",
              "  </tbody>\n",
              "</table>\n",
              "</div>"
            ],
            "text/plain": [
              "           idade       salario\n",
              "count  25.000000     25.000000\n",
              "mean   35.200000   4540.000000\n",
              "std    10.202124   2875.615876\n",
              "min    18.000000   2500.000000\n",
              "25%    28.000000   3000.000000\n",
              "50%    33.000000   3000.000000\n",
              "75%    47.000000   5000.000000\n",
              "max    50.000000  15000.000000"
            ]
          },
          "metadata": {
            "tags": []
          },
          "execution_count": 68
        }
      ]
    },
    {
      "cell_type": "code",
      "metadata": {
        "colab": {
          "base_uri": "https://localhost:8080/"
        },
        "id": "Uuk4hamb7-ui",
        "outputId": "b91ed109-b729-4118-c26c-b5bfe17675c7"
      },
      "source": [
        "# ou somente de uma coluna\n",
        "df['funcao'].describe()\n",
        "# existem 22 itens, sendo 6 únicos, o valor mais frequente é \"assistente\" (12x)\n"
      ],
      "execution_count": 69,
      "outputs": [
        {
          "output_type": "execute_result",
          "data": {
            "text/plain": [
              "count             22\n",
              "unique             6\n",
              "top       assistente\n",
              "freq              12\n",
              "Name: funcao, dtype: object"
            ]
          },
          "metadata": {
            "tags": []
          },
          "execution_count": 69
        }
      ]
    },
    {
      "cell_type": "code",
      "metadata": {
        "colab": {
          "base_uri": "https://localhost:8080/",
          "height": 142
        },
        "id": "eDD7RITf-HUZ",
        "outputId": "19ca6b2b-07f3-4a86-afdb-27f2b60e44c9"
      },
      "source": [
        "# foi somente listadas 22 linhas pois 3 linhas contém valores nulos \"NaN\"\n",
        "df[df['funcao'].isnull()]"
      ],
      "execution_count": 70,
      "outputs": [
        {
          "output_type": "execute_result",
          "data": {
            "text/html": [
              "<div>\n",
              "<style scoped>\n",
              "    .dataframe tbody tr th:only-of-type {\n",
              "        vertical-align: middle;\n",
              "    }\n",
              "\n",
              "    .dataframe tbody tr th {\n",
              "        vertical-align: top;\n",
              "    }\n",
              "\n",
              "    .dataframe thead th {\n",
              "        text-align: right;\n",
              "    }\n",
              "</style>\n",
              "<table border=\"1\" class=\"dataframe\">\n",
              "  <thead>\n",
              "    <tr style=\"text-align: right;\">\n",
              "      <th></th>\n",
              "      <th>nome</th>\n",
              "      <th>sexo</th>\n",
              "      <th>setor</th>\n",
              "      <th>idade</th>\n",
              "      <th>funcao</th>\n",
              "      <th>salario</th>\n",
              "    </tr>\n",
              "  </thead>\n",
              "  <tbody>\n",
              "    <tr>\n",
              "      <th>5</th>\n",
              "      <td>SANDRO</td>\n",
              "      <td>M</td>\n",
              "      <td>artes</td>\n",
              "      <td>48</td>\n",
              "      <td>NaN</td>\n",
              "      <td>4000</td>\n",
              "    </tr>\n",
              "    <tr>\n",
              "      <th>15</th>\n",
              "      <td>ZURIEL</td>\n",
              "      <td>M</td>\n",
              "      <td>financeiro</td>\n",
              "      <td>20</td>\n",
              "      <td>NaN</td>\n",
              "      <td>3000</td>\n",
              "    </tr>\n",
              "    <tr>\n",
              "      <th>23</th>\n",
              "      <td>KLAYTON</td>\n",
              "      <td>M</td>\n",
              "      <td>tecnologia</td>\n",
              "      <td>33</td>\n",
              "      <td>NaN</td>\n",
              "      <td>5000</td>\n",
              "    </tr>\n",
              "  </tbody>\n",
              "</table>\n",
              "</div>"
            ],
            "text/plain": [
              "       nome sexo       setor  idade funcao  salario\n",
              "5    SANDRO    M       artes     48    NaN     4000\n",
              "15   ZURIEL    M  financeiro     20    NaN     3000\n",
              "23  KLAYTON    M  tecnologia     33    NaN     5000"
            ]
          },
          "metadata": {
            "tags": []
          },
          "execution_count": 70
        }
      ]
    },
    {
      "cell_type": "markdown",
      "metadata": {
        "id": "4rFIAoRN0yY7"
      },
      "source": [
        "# **Agrupar por colunas**"
      ]
    },
    {
      "cell_type": "code",
      "metadata": {
        "colab": {
          "base_uri": "https://localhost:8080/",
          "height": 297
        },
        "id": "ndVxG7ROZGJP",
        "outputId": "98c76977-16c8-47c9-a7e3-08b8a8381672"
      },
      "source": [
        "# mas e se eu quero a somatória dos salários por setor?\n",
        "# novamente o pandas vai nos ajudar bastante. \n",
        "# A variavel grupo representa a coluna que será agrupada\n",
        "# A variavel resultado define quais colunas sofrerão o agrupamento\n",
        "grupo = 'setor'\n",
        "resultado = ['setor', 'salario']\n",
        "salario_setor = df[resultado].groupby(grupo).sum()\n",
        "salario_setor"
      ],
      "execution_count": 71,
      "outputs": [
        {
          "output_type": "execute_result",
          "data": {
            "text/html": [
              "<div>\n",
              "<style scoped>\n",
              "    .dataframe tbody tr th:only-of-type {\n",
              "        vertical-align: middle;\n",
              "    }\n",
              "\n",
              "    .dataframe tbody tr th {\n",
              "        vertical-align: top;\n",
              "    }\n",
              "\n",
              "    .dataframe thead th {\n",
              "        text-align: right;\n",
              "    }\n",
              "</style>\n",
              "<table border=\"1\" class=\"dataframe\">\n",
              "  <thead>\n",
              "    <tr style=\"text-align: right;\">\n",
              "      <th></th>\n",
              "      <th>salario</th>\n",
              "    </tr>\n",
              "    <tr>\n",
              "      <th>setor</th>\n",
              "      <th></th>\n",
              "    </tr>\n",
              "  </thead>\n",
              "  <tbody>\n",
              "    <tr>\n",
              "      <th>administrativo</th>\n",
              "      <td>21000</td>\n",
              "    </tr>\n",
              "    <tr>\n",
              "      <th>artes</th>\n",
              "      <td>19000</td>\n",
              "    </tr>\n",
              "    <tr>\n",
              "      <th>comercial</th>\n",
              "      <td>16000</td>\n",
              "    </tr>\n",
              "    <tr>\n",
              "      <th>contabilidade</th>\n",
              "      <td>6000</td>\n",
              "    </tr>\n",
              "    <tr>\n",
              "      <th>financeiro</th>\n",
              "      <td>8000</td>\n",
              "    </tr>\n",
              "    <tr>\n",
              "      <th>marketing</th>\n",
              "      <td>11000</td>\n",
              "    </tr>\n",
              "    <tr>\n",
              "      <th>tecnologia</th>\n",
              "      <td>32500</td>\n",
              "    </tr>\n",
              "  </tbody>\n",
              "</table>\n",
              "</div>"
            ],
            "text/plain": [
              "                salario\n",
              "setor                  \n",
              "administrativo    21000\n",
              "artes             19000\n",
              "comercial         16000\n",
              "contabilidade      6000\n",
              "financeiro         8000\n",
              "marketing         11000\n",
              "tecnologia        32500"
            ]
          },
          "metadata": {
            "tags": []
          },
          "execution_count": 71
        }
      ]
    },
    {
      "cell_type": "code",
      "metadata": {
        "colab": {
          "base_uri": "https://localhost:8080/",
          "height": 452
        },
        "id": "rEYsor5KAKgx",
        "outputId": "c65fb16b-7615-4568-ade5-4ae418371e68"
      },
      "source": [
        "# podemos inclusive agrupar com mais colunas. Vamos retornar o mesmo resultado\n",
        "# porém eu quero por setor e funcao\n",
        "grupo = ['setor', 'funcao']\n",
        "resultado = ['setor', 'funcao', 'salario']\n",
        "salarios_setor_funcao = df[resultado].groupby(grupo).sum()\n",
        "# somente como exemplo, adicionei .sort_values(by='salario', ascending=False) \n",
        "# abaixo, mas poderia ter sido feito na linha acima\n",
        "salarios_setor_funcao"
      ],
      "execution_count": 72,
      "outputs": [
        {
          "output_type": "execute_result",
          "data": {
            "text/html": [
              "<div>\n",
              "<style scoped>\n",
              "    .dataframe tbody tr th:only-of-type {\n",
              "        vertical-align: middle;\n",
              "    }\n",
              "\n",
              "    .dataframe tbody tr th {\n",
              "        vertical-align: top;\n",
              "    }\n",
              "\n",
              "    .dataframe thead th {\n",
              "        text-align: right;\n",
              "    }\n",
              "</style>\n",
              "<table border=\"1\" class=\"dataframe\">\n",
              "  <thead>\n",
              "    <tr style=\"text-align: right;\">\n",
              "      <th></th>\n",
              "      <th></th>\n",
              "      <th>salario</th>\n",
              "    </tr>\n",
              "    <tr>\n",
              "      <th>setor</th>\n",
              "      <th>funcao</th>\n",
              "      <th></th>\n",
              "    </tr>\n",
              "  </thead>\n",
              "  <tbody>\n",
              "    <tr>\n",
              "      <th rowspan=\"2\" valign=\"top\">administrativo</th>\n",
              "      <th>Diretor</th>\n",
              "      <td>15000</td>\n",
              "    </tr>\n",
              "    <tr>\n",
              "      <th>assistente</th>\n",
              "      <td>6000</td>\n",
              "    </tr>\n",
              "    <tr>\n",
              "      <th>artes</th>\n",
              "      <th>assistente</th>\n",
              "      <td>15000</td>\n",
              "    </tr>\n",
              "    <tr>\n",
              "      <th rowspan=\"2\" valign=\"top\">comercial</th>\n",
              "      <th>Gerente</th>\n",
              "      <td>7000</td>\n",
              "    </tr>\n",
              "    <tr>\n",
              "      <th>executivo de contas</th>\n",
              "      <td>9000</td>\n",
              "    </tr>\n",
              "    <tr>\n",
              "      <th>contabilidade</th>\n",
              "      <th>assistente</th>\n",
              "      <td>6000</td>\n",
              "    </tr>\n",
              "    <tr>\n",
              "      <th>financeiro</th>\n",
              "      <th>assistente</th>\n",
              "      <td>5000</td>\n",
              "    </tr>\n",
              "    <tr>\n",
              "      <th rowspan=\"2\" valign=\"top\">marketing</th>\n",
              "      <th>Coordenador</th>\n",
              "      <td>3500</td>\n",
              "    </tr>\n",
              "    <tr>\n",
              "      <th>assistente</th>\n",
              "      <td>7500</td>\n",
              "    </tr>\n",
              "    <tr>\n",
              "      <th rowspan=\"3\" valign=\"top\">tecnologia</th>\n",
              "      <th>Coordenador</th>\n",
              "      <td>7500</td>\n",
              "    </tr>\n",
              "    <tr>\n",
              "      <th>Engenheiro de Software</th>\n",
              "      <td>10000</td>\n",
              "    </tr>\n",
              "    <tr>\n",
              "      <th>Gerente</th>\n",
              "      <td>10000</td>\n",
              "    </tr>\n",
              "  </tbody>\n",
              "</table>\n",
              "</div>"
            ],
            "text/plain": [
              "                                       salario\n",
              "setor          funcao                         \n",
              "administrativo Diretor                   15000\n",
              "               assistente                 6000\n",
              "artes          assistente                15000\n",
              "comercial      Gerente                    7000\n",
              "               executivo de contas        9000\n",
              "contabilidade  assistente                 6000\n",
              "financeiro     assistente                 5000\n",
              "marketing      Coordenador                3500\n",
              "               assistente                 7500\n",
              "tecnologia     Coordenador                7500\n",
              "               Engenheiro de Software    10000\n",
              "               Gerente                   10000"
            ]
          },
          "metadata": {
            "tags": []
          },
          "execution_count": 72
        }
      ]
    },
    {
      "cell_type": "markdown",
      "metadata": {
        "id": "sBDqJoc-yBjd"
      },
      "source": [
        "# **Ordenar a seleção de dados**\n"
      ]
    },
    {
      "cell_type": "code",
      "metadata": {
        "colab": {
          "base_uri": "https://localhost:8080/",
          "height": 297
        },
        "id": "mQwAlHuuZpbK",
        "outputId": "114c0dbf-f70c-4131-f652-5f42b65b66ed"
      },
      "source": [
        "# para ordenar o salario de forma decrescente (do maior para o menor)\n",
        "# utilizaremos a função .sort_values()\n",
        "salario_setor.sort_values(by='salario', ascending=False)"
      ],
      "execution_count": 73,
      "outputs": [
        {
          "output_type": "execute_result",
          "data": {
            "text/html": [
              "<div>\n",
              "<style scoped>\n",
              "    .dataframe tbody tr th:only-of-type {\n",
              "        vertical-align: middle;\n",
              "    }\n",
              "\n",
              "    .dataframe tbody tr th {\n",
              "        vertical-align: top;\n",
              "    }\n",
              "\n",
              "    .dataframe thead th {\n",
              "        text-align: right;\n",
              "    }\n",
              "</style>\n",
              "<table border=\"1\" class=\"dataframe\">\n",
              "  <thead>\n",
              "    <tr style=\"text-align: right;\">\n",
              "      <th></th>\n",
              "      <th>salario</th>\n",
              "    </tr>\n",
              "    <tr>\n",
              "      <th>setor</th>\n",
              "      <th></th>\n",
              "    </tr>\n",
              "  </thead>\n",
              "  <tbody>\n",
              "    <tr>\n",
              "      <th>tecnologia</th>\n",
              "      <td>32500</td>\n",
              "    </tr>\n",
              "    <tr>\n",
              "      <th>administrativo</th>\n",
              "      <td>21000</td>\n",
              "    </tr>\n",
              "    <tr>\n",
              "      <th>artes</th>\n",
              "      <td>19000</td>\n",
              "    </tr>\n",
              "    <tr>\n",
              "      <th>comercial</th>\n",
              "      <td>16000</td>\n",
              "    </tr>\n",
              "    <tr>\n",
              "      <th>marketing</th>\n",
              "      <td>11000</td>\n",
              "    </tr>\n",
              "    <tr>\n",
              "      <th>financeiro</th>\n",
              "      <td>8000</td>\n",
              "    </tr>\n",
              "    <tr>\n",
              "      <th>contabilidade</th>\n",
              "      <td>6000</td>\n",
              "    </tr>\n",
              "  </tbody>\n",
              "</table>\n",
              "</div>"
            ],
            "text/plain": [
              "                salario\n",
              "setor                  \n",
              "tecnologia        32500\n",
              "administrativo    21000\n",
              "artes             19000\n",
              "comercial         16000\n",
              "marketing         11000\n",
              "financeiro         8000\n",
              "contabilidade      6000"
            ]
          },
          "metadata": {
            "tags": []
          },
          "execution_count": 73
        }
      ]
    },
    {
      "cell_type": "code",
      "metadata": {
        "colab": {
          "base_uri": "https://localhost:8080/",
          "height": 452
        },
        "id": "waA7XIpZaNIq",
        "outputId": "0477e1ef-4dd4-4781-e1b1-de751e32fb85"
      },
      "source": [
        "salarios_setor_funcao.sort_values(by='salario', ascending=False)"
      ],
      "execution_count": 74,
      "outputs": [
        {
          "output_type": "execute_result",
          "data": {
            "text/html": [
              "<div>\n",
              "<style scoped>\n",
              "    .dataframe tbody tr th:only-of-type {\n",
              "        vertical-align: middle;\n",
              "    }\n",
              "\n",
              "    .dataframe tbody tr th {\n",
              "        vertical-align: top;\n",
              "    }\n",
              "\n",
              "    .dataframe thead th {\n",
              "        text-align: right;\n",
              "    }\n",
              "</style>\n",
              "<table border=\"1\" class=\"dataframe\">\n",
              "  <thead>\n",
              "    <tr style=\"text-align: right;\">\n",
              "      <th></th>\n",
              "      <th></th>\n",
              "      <th>salario</th>\n",
              "    </tr>\n",
              "    <tr>\n",
              "      <th>setor</th>\n",
              "      <th>funcao</th>\n",
              "      <th></th>\n",
              "    </tr>\n",
              "  </thead>\n",
              "  <tbody>\n",
              "    <tr>\n",
              "      <th>administrativo</th>\n",
              "      <th>Diretor</th>\n",
              "      <td>15000</td>\n",
              "    </tr>\n",
              "    <tr>\n",
              "      <th>artes</th>\n",
              "      <th>assistente</th>\n",
              "      <td>15000</td>\n",
              "    </tr>\n",
              "    <tr>\n",
              "      <th rowspan=\"2\" valign=\"top\">tecnologia</th>\n",
              "      <th>Engenheiro de Software</th>\n",
              "      <td>10000</td>\n",
              "    </tr>\n",
              "    <tr>\n",
              "      <th>Gerente</th>\n",
              "      <td>10000</td>\n",
              "    </tr>\n",
              "    <tr>\n",
              "      <th>comercial</th>\n",
              "      <th>executivo de contas</th>\n",
              "      <td>9000</td>\n",
              "    </tr>\n",
              "    <tr>\n",
              "      <th>marketing</th>\n",
              "      <th>assistente</th>\n",
              "      <td>7500</td>\n",
              "    </tr>\n",
              "    <tr>\n",
              "      <th>tecnologia</th>\n",
              "      <th>Coordenador</th>\n",
              "      <td>7500</td>\n",
              "    </tr>\n",
              "    <tr>\n",
              "      <th>comercial</th>\n",
              "      <th>Gerente</th>\n",
              "      <td>7000</td>\n",
              "    </tr>\n",
              "    <tr>\n",
              "      <th>administrativo</th>\n",
              "      <th>assistente</th>\n",
              "      <td>6000</td>\n",
              "    </tr>\n",
              "    <tr>\n",
              "      <th>contabilidade</th>\n",
              "      <th>assistente</th>\n",
              "      <td>6000</td>\n",
              "    </tr>\n",
              "    <tr>\n",
              "      <th>financeiro</th>\n",
              "      <th>assistente</th>\n",
              "      <td>5000</td>\n",
              "    </tr>\n",
              "    <tr>\n",
              "      <th>marketing</th>\n",
              "      <th>Coordenador</th>\n",
              "      <td>3500</td>\n",
              "    </tr>\n",
              "  </tbody>\n",
              "</table>\n",
              "</div>"
            ],
            "text/plain": [
              "                                       salario\n",
              "setor          funcao                         \n",
              "administrativo Diretor                   15000\n",
              "artes          assistente                15000\n",
              "tecnologia     Engenheiro de Software    10000\n",
              "               Gerente                   10000\n",
              "comercial      executivo de contas        9000\n",
              "marketing      assistente                 7500\n",
              "tecnologia     Coordenador                7500\n",
              "comercial      Gerente                    7000\n",
              "administrativo assistente                 6000\n",
              "contabilidade  assistente                 6000\n",
              "financeiro     assistente                 5000\n",
              "marketing      Coordenador                3500"
            ]
          },
          "metadata": {
            "tags": []
          },
          "execution_count": 74
        }
      ]
    },
    {
      "cell_type": "code",
      "metadata": {
        "colab": {
          "base_uri": "https://localhost:8080/",
          "height": 452
        },
        "id": "C1Icly3RyVVu",
        "outputId": "b14ed25d-4ae2-4cc7-be52-b171b4f45551"
      },
      "source": [
        "# abaixo, segue a função .nlargest(qtde-de-linhas, coluna) p/ ordenar de forma \n",
        "# descendente. Usei a funçao len(objeto) para pegar o total de linhas do dataframe\n",
        "salarios_setor_funcao.nlargest(len(salarios_setor_funcao), columns='salario')"
      ],
      "execution_count": 75,
      "outputs": [
        {
          "output_type": "execute_result",
          "data": {
            "text/html": [
              "<div>\n",
              "<style scoped>\n",
              "    .dataframe tbody tr th:only-of-type {\n",
              "        vertical-align: middle;\n",
              "    }\n",
              "\n",
              "    .dataframe tbody tr th {\n",
              "        vertical-align: top;\n",
              "    }\n",
              "\n",
              "    .dataframe thead th {\n",
              "        text-align: right;\n",
              "    }\n",
              "</style>\n",
              "<table border=\"1\" class=\"dataframe\">\n",
              "  <thead>\n",
              "    <tr style=\"text-align: right;\">\n",
              "      <th></th>\n",
              "      <th></th>\n",
              "      <th>salario</th>\n",
              "    </tr>\n",
              "    <tr>\n",
              "      <th>setor</th>\n",
              "      <th>funcao</th>\n",
              "      <th></th>\n",
              "    </tr>\n",
              "  </thead>\n",
              "  <tbody>\n",
              "    <tr>\n",
              "      <th>administrativo</th>\n",
              "      <th>Diretor</th>\n",
              "      <td>15000</td>\n",
              "    </tr>\n",
              "    <tr>\n",
              "      <th>artes</th>\n",
              "      <th>assistente</th>\n",
              "      <td>15000</td>\n",
              "    </tr>\n",
              "    <tr>\n",
              "      <th rowspan=\"2\" valign=\"top\">tecnologia</th>\n",
              "      <th>Engenheiro de Software</th>\n",
              "      <td>10000</td>\n",
              "    </tr>\n",
              "    <tr>\n",
              "      <th>Gerente</th>\n",
              "      <td>10000</td>\n",
              "    </tr>\n",
              "    <tr>\n",
              "      <th>comercial</th>\n",
              "      <th>executivo de contas</th>\n",
              "      <td>9000</td>\n",
              "    </tr>\n",
              "    <tr>\n",
              "      <th>marketing</th>\n",
              "      <th>assistente</th>\n",
              "      <td>7500</td>\n",
              "    </tr>\n",
              "    <tr>\n",
              "      <th>tecnologia</th>\n",
              "      <th>Coordenador</th>\n",
              "      <td>7500</td>\n",
              "    </tr>\n",
              "    <tr>\n",
              "      <th>comercial</th>\n",
              "      <th>Gerente</th>\n",
              "      <td>7000</td>\n",
              "    </tr>\n",
              "    <tr>\n",
              "      <th>administrativo</th>\n",
              "      <th>assistente</th>\n",
              "      <td>6000</td>\n",
              "    </tr>\n",
              "    <tr>\n",
              "      <th>contabilidade</th>\n",
              "      <th>assistente</th>\n",
              "      <td>6000</td>\n",
              "    </tr>\n",
              "    <tr>\n",
              "      <th>financeiro</th>\n",
              "      <th>assistente</th>\n",
              "      <td>5000</td>\n",
              "    </tr>\n",
              "    <tr>\n",
              "      <th>marketing</th>\n",
              "      <th>Coordenador</th>\n",
              "      <td>3500</td>\n",
              "    </tr>\n",
              "  </tbody>\n",
              "</table>\n",
              "</div>"
            ],
            "text/plain": [
              "                                       salario\n",
              "setor          funcao                         \n",
              "administrativo Diretor                   15000\n",
              "artes          assistente                15000\n",
              "tecnologia     Engenheiro de Software    10000\n",
              "               Gerente                   10000\n",
              "comercial      executivo de contas        9000\n",
              "marketing      assistente                 7500\n",
              "tecnologia     Coordenador                7500\n",
              "comercial      Gerente                    7000\n",
              "administrativo assistente                 6000\n",
              "contabilidade  assistente                 6000\n",
              "financeiro     assistente                 5000\n",
              "marketing      Coordenador                3500"
            ]
          },
          "metadata": {
            "tags": []
          },
          "execution_count": 75
        }
      ]
    },
    {
      "cell_type": "code",
      "metadata": {
        "colab": {
          "base_uri": "https://localhost:8080/",
          "height": 235
        },
        "id": "8cObVrHayVHl",
        "outputId": "ab99664c-ce00-4737-f5da-c34ccd3c2030"
      },
      "source": [
        "# abaixo, segue função .nsmallest p/ ordenar de forma ascendente\n",
        "# abaixo, estou retornando os 5 menores valores\n",
        "salarios_setor_funcao.nsmallest(5, columns='salario')"
      ],
      "execution_count": 76,
      "outputs": [
        {
          "output_type": "execute_result",
          "data": {
            "text/html": [
              "<div>\n",
              "<style scoped>\n",
              "    .dataframe tbody tr th:only-of-type {\n",
              "        vertical-align: middle;\n",
              "    }\n",
              "\n",
              "    .dataframe tbody tr th {\n",
              "        vertical-align: top;\n",
              "    }\n",
              "\n",
              "    .dataframe thead th {\n",
              "        text-align: right;\n",
              "    }\n",
              "</style>\n",
              "<table border=\"1\" class=\"dataframe\">\n",
              "  <thead>\n",
              "    <tr style=\"text-align: right;\">\n",
              "      <th></th>\n",
              "      <th></th>\n",
              "      <th>salario</th>\n",
              "    </tr>\n",
              "    <tr>\n",
              "      <th>setor</th>\n",
              "      <th>funcao</th>\n",
              "      <th></th>\n",
              "    </tr>\n",
              "  </thead>\n",
              "  <tbody>\n",
              "    <tr>\n",
              "      <th>marketing</th>\n",
              "      <th>Coordenador</th>\n",
              "      <td>3500</td>\n",
              "    </tr>\n",
              "    <tr>\n",
              "      <th>financeiro</th>\n",
              "      <th>assistente</th>\n",
              "      <td>5000</td>\n",
              "    </tr>\n",
              "    <tr>\n",
              "      <th>administrativo</th>\n",
              "      <th>assistente</th>\n",
              "      <td>6000</td>\n",
              "    </tr>\n",
              "    <tr>\n",
              "      <th>contabilidade</th>\n",
              "      <th>assistente</th>\n",
              "      <td>6000</td>\n",
              "    </tr>\n",
              "    <tr>\n",
              "      <th>comercial</th>\n",
              "      <th>Gerente</th>\n",
              "      <td>7000</td>\n",
              "    </tr>\n",
              "  </tbody>\n",
              "</table>\n",
              "</div>"
            ],
            "text/plain": [
              "                            salario\n",
              "setor          funcao              \n",
              "marketing      Coordenador     3500\n",
              "financeiro     assistente      5000\n",
              "administrativo assistente      6000\n",
              "contabilidade  assistente      6000\n",
              "comercial      Gerente         7000"
            ]
          },
          "metadata": {
            "tags": []
          },
          "execution_count": 76
        }
      ]
    },
    {
      "cell_type": "markdown",
      "metadata": {
        "id": "36eNQkN1LqJw"
      },
      "source": [
        "# **Manipular Valores**\n",
        "Na maioria das vezes é tarefa do analista melhorar o dado, de várias maneiras como remover valores nulos, padronizar valores, efetuar algumas limpezas nos dados. Então, vamos a alguns exemplos"
      ]
    },
    {
      "cell_type": "code",
      "metadata": {
        "id": "nkgr_exP0ZU9"
      },
      "source": [
        "# vamos fazer uma cópia do dataframe df original\n",
        "dfCopia = df.copy()"
      ],
      "execution_count": 77,
      "outputs": []
    },
    {
      "cell_type": "code",
      "metadata": {
        "colab": {
          "base_uri": "https://localhost:8080/",
          "height": 204
        },
        "id": "Z_IsKUtDfsI_",
        "outputId": "9d64b81b-4bf0-4a93-a707-da6d66295c92"
      },
      "source": [
        "dfCopia.head()"
      ],
      "execution_count": 78,
      "outputs": [
        {
          "output_type": "execute_result",
          "data": {
            "text/html": [
              "<div>\n",
              "<style scoped>\n",
              "    .dataframe tbody tr th:only-of-type {\n",
              "        vertical-align: middle;\n",
              "    }\n",
              "\n",
              "    .dataframe tbody tr th {\n",
              "        vertical-align: top;\n",
              "    }\n",
              "\n",
              "    .dataframe thead th {\n",
              "        text-align: right;\n",
              "    }\n",
              "</style>\n",
              "<table border=\"1\" class=\"dataframe\">\n",
              "  <thead>\n",
              "    <tr style=\"text-align: right;\">\n",
              "      <th></th>\n",
              "      <th>nome</th>\n",
              "      <th>sexo</th>\n",
              "      <th>setor</th>\n",
              "      <th>idade</th>\n",
              "      <th>funcao</th>\n",
              "      <th>salario</th>\n",
              "    </tr>\n",
              "  </thead>\n",
              "  <tbody>\n",
              "    <tr>\n",
              "      <th>0</th>\n",
              "      <td>ANTONIO</td>\n",
              "      <td>M</td>\n",
              "      <td>administrativo</td>\n",
              "      <td>26</td>\n",
              "      <td>Diretor</td>\n",
              "      <td>15000</td>\n",
              "    </tr>\n",
              "    <tr>\n",
              "      <th>1</th>\n",
              "      <td>GUSTAVO</td>\n",
              "      <td>M</td>\n",
              "      <td>administrativo</td>\n",
              "      <td>29</td>\n",
              "      <td>assistente</td>\n",
              "      <td>3000</td>\n",
              "    </tr>\n",
              "    <tr>\n",
              "      <th>2</th>\n",
              "      <td>NORMA</td>\n",
              "      <td>F</td>\n",
              "      <td>administrativo</td>\n",
              "      <td>49</td>\n",
              "      <td>assistente</td>\n",
              "      <td>3000</td>\n",
              "    </tr>\n",
              "    <tr>\n",
              "      <th>3</th>\n",
              "      <td>QUITERIA</td>\n",
              "      <td>F</td>\n",
              "      <td>artes</td>\n",
              "      <td>39</td>\n",
              "      <td>assistente</td>\n",
              "      <td>6000</td>\n",
              "    </tr>\n",
              "    <tr>\n",
              "      <th>4</th>\n",
              "      <td>RENATA</td>\n",
              "      <td>F</td>\n",
              "      <td>artes</td>\n",
              "      <td>39</td>\n",
              "      <td>assistente</td>\n",
              "      <td>5000</td>\n",
              "    </tr>\n",
              "  </tbody>\n",
              "</table>\n",
              "</div>"
            ],
            "text/plain": [
              "       nome sexo           setor  idade      funcao  salario\n",
              "0   ANTONIO    M  administrativo     26     Diretor    15000\n",
              "1   GUSTAVO    M  administrativo     29  assistente     3000\n",
              "2     NORMA    F  administrativo     49  assistente     3000\n",
              "3  QUITERIA    F           artes     39  assistente     6000\n",
              "4    RENATA    F           artes     39  assistente     5000"
            ]
          },
          "metadata": {
            "tags": []
          },
          "execution_count": 78
        }
      ]
    },
    {
      "cell_type": "markdown",
      "metadata": {
        "id": "EQdk8fBjhQ1u"
      },
      "source": [
        "**RENAME()**"
      ]
    },
    {
      "cell_type": "code",
      "metadata": {
        "colab": {
          "base_uri": "https://localhost:8080/",
          "height": 204
        },
        "id": "RphUgJO6fwfd",
        "outputId": "26f803cb-e8d3-42b3-c740-db97f2fa5e60"
      },
      "source": [
        "# vamos alterar o nome da coluna funcao para cargo\n",
        "dfCopia.rename(columns={\"funcao\": \"cargo\"}, inplace=True)\n",
        "dfCopia.head()"
      ],
      "execution_count": 79,
      "outputs": [
        {
          "output_type": "execute_result",
          "data": {
            "text/html": [
              "<div>\n",
              "<style scoped>\n",
              "    .dataframe tbody tr th:only-of-type {\n",
              "        vertical-align: middle;\n",
              "    }\n",
              "\n",
              "    .dataframe tbody tr th {\n",
              "        vertical-align: top;\n",
              "    }\n",
              "\n",
              "    .dataframe thead th {\n",
              "        text-align: right;\n",
              "    }\n",
              "</style>\n",
              "<table border=\"1\" class=\"dataframe\">\n",
              "  <thead>\n",
              "    <tr style=\"text-align: right;\">\n",
              "      <th></th>\n",
              "      <th>nome</th>\n",
              "      <th>sexo</th>\n",
              "      <th>setor</th>\n",
              "      <th>idade</th>\n",
              "      <th>cargo</th>\n",
              "      <th>salario</th>\n",
              "    </tr>\n",
              "  </thead>\n",
              "  <tbody>\n",
              "    <tr>\n",
              "      <th>0</th>\n",
              "      <td>ANTONIO</td>\n",
              "      <td>M</td>\n",
              "      <td>administrativo</td>\n",
              "      <td>26</td>\n",
              "      <td>Diretor</td>\n",
              "      <td>15000</td>\n",
              "    </tr>\n",
              "    <tr>\n",
              "      <th>1</th>\n",
              "      <td>GUSTAVO</td>\n",
              "      <td>M</td>\n",
              "      <td>administrativo</td>\n",
              "      <td>29</td>\n",
              "      <td>assistente</td>\n",
              "      <td>3000</td>\n",
              "    </tr>\n",
              "    <tr>\n",
              "      <th>2</th>\n",
              "      <td>NORMA</td>\n",
              "      <td>F</td>\n",
              "      <td>administrativo</td>\n",
              "      <td>49</td>\n",
              "      <td>assistente</td>\n",
              "      <td>3000</td>\n",
              "    </tr>\n",
              "    <tr>\n",
              "      <th>3</th>\n",
              "      <td>QUITERIA</td>\n",
              "      <td>F</td>\n",
              "      <td>artes</td>\n",
              "      <td>39</td>\n",
              "      <td>assistente</td>\n",
              "      <td>6000</td>\n",
              "    </tr>\n",
              "    <tr>\n",
              "      <th>4</th>\n",
              "      <td>RENATA</td>\n",
              "      <td>F</td>\n",
              "      <td>artes</td>\n",
              "      <td>39</td>\n",
              "      <td>assistente</td>\n",
              "      <td>5000</td>\n",
              "    </tr>\n",
              "  </tbody>\n",
              "</table>\n",
              "</div>"
            ],
            "text/plain": [
              "       nome sexo           setor  idade       cargo  salario\n",
              "0   ANTONIO    M  administrativo     26     Diretor    15000\n",
              "1   GUSTAVO    M  administrativo     29  assistente     3000\n",
              "2     NORMA    F  administrativo     49  assistente     3000\n",
              "3  QUITERIA    F           artes     39  assistente     6000\n",
              "4    RENATA    F           artes     39  assistente     5000"
            ]
          },
          "metadata": {
            "tags": []
          },
          "execution_count": 79
        }
      ]
    },
    {
      "cell_type": "code",
      "metadata": {
        "colab": {
          "base_uri": "https://localhost:8080/",
          "height": 35
        },
        "id": "QvkCXWF9MZwT",
        "outputId": "4d112a6e-f6a0-4a0b-befe-1a043bb42345"
      },
      "source": [
        "# vamos alterar a descrição dos cargos para maiúsculo, utilizando 2 funções:\n",
        "# a primeira é a função lambda que consiste em atribuir valor ao objeto\n",
        "# e nela usaremos função str().upper(), que converte uma string em maiúscula\n",
        "# exemplo básco da função str().upper()\n",
        "str('italo').upper()"
      ],
      "execution_count": 80,
      "outputs": [
        {
          "output_type": "execute_result",
          "data": {
            "application/vnd.google.colaboratory.intrinsic+json": {
              "type": "string"
            },
            "text/plain": [
              "'ITALO'"
            ]
          },
          "metadata": {
            "tags": []
          },
          "execution_count": 80
        }
      ]
    },
    {
      "cell_type": "code",
      "metadata": {
        "colab": {
          "base_uri": "https://localhost:8080/"
        },
        "id": "e0VHZf18fI02",
        "outputId": "a60df1ec-66e6-46d5-baf6-c618b2d122a7"
      },
      "source": [
        "# mas primeiro vamos ver todas as funções \n",
        "dfCopia['cargo'].unique().tolist()\n",
        "# veja abaixo não tem padrão"
      ],
      "execution_count": 81,
      "outputs": [
        {
          "output_type": "execute_result",
          "data": {
            "text/plain": [
              "['Diretor',\n",
              " 'assistente',\n",
              " nan,\n",
              " 'executivo de contas',\n",
              " 'Gerente ',\n",
              " 'Coordenador',\n",
              " 'Engenheiro de Software']"
            ]
          },
          "metadata": {
            "tags": []
          },
          "execution_count": 81
        }
      ]
    },
    {
      "cell_type": "markdown",
      "metadata": {
        "id": "Ia7Wz2zxhTR-"
      },
      "source": [
        "**VALORES NULOS - FILLNA() e DROPNA()**\n",
        "Aqui vai uma dica muito útil pois na maioria das vezes o dataframe que está sendo trabalhado vem com valores nulos (ausentes) e em algumas vezes precisamos remover os registros que contém dados nulos ou substituir esses valores nulos com valores pré-definidos pelo negócio ou ciência.\n",
        "Vamos aos exemplos."
      ]
    },
    {
      "cell_type": "code",
      "metadata": {
        "colab": {
          "base_uri": "https://localhost:8080/",
          "height": 824
        },
        "id": "WvISWnZ_p__d",
        "outputId": "f44b0dfb-0b47-419f-e37f-aa16b54d3ed7"
      },
      "source": [
        "# podemos visualizar onde temos valores nulos conforme exemplo abaixo\n",
        "dfCopia.isnull()\n",
        "# mas imagine um dataframe com milhares de linhas? Assim complica."
      ],
      "execution_count": 82,
      "outputs": [
        {
          "output_type": "execute_result",
          "data": {
            "text/html": [
              "<div>\n",
              "<style scoped>\n",
              "    .dataframe tbody tr th:only-of-type {\n",
              "        vertical-align: middle;\n",
              "    }\n",
              "\n",
              "    .dataframe tbody tr th {\n",
              "        vertical-align: top;\n",
              "    }\n",
              "\n",
              "    .dataframe thead th {\n",
              "        text-align: right;\n",
              "    }\n",
              "</style>\n",
              "<table border=\"1\" class=\"dataframe\">\n",
              "  <thead>\n",
              "    <tr style=\"text-align: right;\">\n",
              "      <th></th>\n",
              "      <th>nome</th>\n",
              "      <th>sexo</th>\n",
              "      <th>setor</th>\n",
              "      <th>idade</th>\n",
              "      <th>cargo</th>\n",
              "      <th>salario</th>\n",
              "    </tr>\n",
              "  </thead>\n",
              "  <tbody>\n",
              "    <tr>\n",
              "      <th>0</th>\n",
              "      <td>False</td>\n",
              "      <td>False</td>\n",
              "      <td>False</td>\n",
              "      <td>False</td>\n",
              "      <td>False</td>\n",
              "      <td>False</td>\n",
              "    </tr>\n",
              "    <tr>\n",
              "      <th>1</th>\n",
              "      <td>False</td>\n",
              "      <td>False</td>\n",
              "      <td>False</td>\n",
              "      <td>False</td>\n",
              "      <td>False</td>\n",
              "      <td>False</td>\n",
              "    </tr>\n",
              "    <tr>\n",
              "      <th>2</th>\n",
              "      <td>False</td>\n",
              "      <td>False</td>\n",
              "      <td>False</td>\n",
              "      <td>False</td>\n",
              "      <td>False</td>\n",
              "      <td>False</td>\n",
              "    </tr>\n",
              "    <tr>\n",
              "      <th>3</th>\n",
              "      <td>False</td>\n",
              "      <td>False</td>\n",
              "      <td>False</td>\n",
              "      <td>False</td>\n",
              "      <td>False</td>\n",
              "      <td>False</td>\n",
              "    </tr>\n",
              "    <tr>\n",
              "      <th>4</th>\n",
              "      <td>False</td>\n",
              "      <td>False</td>\n",
              "      <td>False</td>\n",
              "      <td>False</td>\n",
              "      <td>False</td>\n",
              "      <td>False</td>\n",
              "    </tr>\n",
              "    <tr>\n",
              "      <th>5</th>\n",
              "      <td>False</td>\n",
              "      <td>False</td>\n",
              "      <td>False</td>\n",
              "      <td>False</td>\n",
              "      <td>True</td>\n",
              "      <td>False</td>\n",
              "    </tr>\n",
              "    <tr>\n",
              "      <th>6</th>\n",
              "      <td>False</td>\n",
              "      <td>False</td>\n",
              "      <td>False</td>\n",
              "      <td>False</td>\n",
              "      <td>False</td>\n",
              "      <td>False</td>\n",
              "    </tr>\n",
              "    <tr>\n",
              "      <th>7</th>\n",
              "      <td>False</td>\n",
              "      <td>False</td>\n",
              "      <td>False</td>\n",
              "      <td>False</td>\n",
              "      <td>False</td>\n",
              "      <td>False</td>\n",
              "    </tr>\n",
              "    <tr>\n",
              "      <th>8</th>\n",
              "      <td>False</td>\n",
              "      <td>False</td>\n",
              "      <td>False</td>\n",
              "      <td>False</td>\n",
              "      <td>False</td>\n",
              "      <td>False</td>\n",
              "    </tr>\n",
              "    <tr>\n",
              "      <th>9</th>\n",
              "      <td>False</td>\n",
              "      <td>False</td>\n",
              "      <td>False</td>\n",
              "      <td>False</td>\n",
              "      <td>False</td>\n",
              "      <td>False</td>\n",
              "    </tr>\n",
              "    <tr>\n",
              "      <th>10</th>\n",
              "      <td>False</td>\n",
              "      <td>False</td>\n",
              "      <td>False</td>\n",
              "      <td>False</td>\n",
              "      <td>False</td>\n",
              "      <td>False</td>\n",
              "    </tr>\n",
              "    <tr>\n",
              "      <th>11</th>\n",
              "      <td>False</td>\n",
              "      <td>False</td>\n",
              "      <td>False</td>\n",
              "      <td>False</td>\n",
              "      <td>False</td>\n",
              "      <td>False</td>\n",
              "    </tr>\n",
              "    <tr>\n",
              "      <th>12</th>\n",
              "      <td>False</td>\n",
              "      <td>False</td>\n",
              "      <td>False</td>\n",
              "      <td>False</td>\n",
              "      <td>False</td>\n",
              "      <td>False</td>\n",
              "    </tr>\n",
              "    <tr>\n",
              "      <th>13</th>\n",
              "      <td>False</td>\n",
              "      <td>False</td>\n",
              "      <td>False</td>\n",
              "      <td>False</td>\n",
              "      <td>False</td>\n",
              "      <td>False</td>\n",
              "    </tr>\n",
              "    <tr>\n",
              "      <th>14</th>\n",
              "      <td>False</td>\n",
              "      <td>False</td>\n",
              "      <td>False</td>\n",
              "      <td>False</td>\n",
              "      <td>False</td>\n",
              "      <td>False</td>\n",
              "    </tr>\n",
              "    <tr>\n",
              "      <th>15</th>\n",
              "      <td>False</td>\n",
              "      <td>False</td>\n",
              "      <td>False</td>\n",
              "      <td>False</td>\n",
              "      <td>True</td>\n",
              "      <td>False</td>\n",
              "    </tr>\n",
              "    <tr>\n",
              "      <th>16</th>\n",
              "      <td>False</td>\n",
              "      <td>False</td>\n",
              "      <td>False</td>\n",
              "      <td>False</td>\n",
              "      <td>False</td>\n",
              "      <td>False</td>\n",
              "    </tr>\n",
              "    <tr>\n",
              "      <th>17</th>\n",
              "      <td>False</td>\n",
              "      <td>False</td>\n",
              "      <td>False</td>\n",
              "      <td>False</td>\n",
              "      <td>False</td>\n",
              "      <td>False</td>\n",
              "    </tr>\n",
              "    <tr>\n",
              "      <th>18</th>\n",
              "      <td>False</td>\n",
              "      <td>False</td>\n",
              "      <td>False</td>\n",
              "      <td>False</td>\n",
              "      <td>False</td>\n",
              "      <td>False</td>\n",
              "    </tr>\n",
              "    <tr>\n",
              "      <th>19</th>\n",
              "      <td>False</td>\n",
              "      <td>False</td>\n",
              "      <td>False</td>\n",
              "      <td>False</td>\n",
              "      <td>False</td>\n",
              "      <td>False</td>\n",
              "    </tr>\n",
              "    <tr>\n",
              "      <th>20</th>\n",
              "      <td>False</td>\n",
              "      <td>False</td>\n",
              "      <td>False</td>\n",
              "      <td>False</td>\n",
              "      <td>False</td>\n",
              "      <td>False</td>\n",
              "    </tr>\n",
              "    <tr>\n",
              "      <th>21</th>\n",
              "      <td>False</td>\n",
              "      <td>False</td>\n",
              "      <td>False</td>\n",
              "      <td>False</td>\n",
              "      <td>False</td>\n",
              "      <td>False</td>\n",
              "    </tr>\n",
              "    <tr>\n",
              "      <th>22</th>\n",
              "      <td>False</td>\n",
              "      <td>False</td>\n",
              "      <td>False</td>\n",
              "      <td>False</td>\n",
              "      <td>False</td>\n",
              "      <td>False</td>\n",
              "    </tr>\n",
              "    <tr>\n",
              "      <th>23</th>\n",
              "      <td>False</td>\n",
              "      <td>False</td>\n",
              "      <td>False</td>\n",
              "      <td>False</td>\n",
              "      <td>True</td>\n",
              "      <td>False</td>\n",
              "    </tr>\n",
              "    <tr>\n",
              "      <th>24</th>\n",
              "      <td>False</td>\n",
              "      <td>False</td>\n",
              "      <td>False</td>\n",
              "      <td>False</td>\n",
              "      <td>False</td>\n",
              "      <td>False</td>\n",
              "    </tr>\n",
              "  </tbody>\n",
              "</table>\n",
              "</div>"
            ],
            "text/plain": [
              "     nome   sexo  setor  idade  cargo  salario\n",
              "0   False  False  False  False  False    False\n",
              "1   False  False  False  False  False    False\n",
              "2   False  False  False  False  False    False\n",
              "3   False  False  False  False  False    False\n",
              "4   False  False  False  False  False    False\n",
              "5   False  False  False  False   True    False\n",
              "6   False  False  False  False  False    False\n",
              "7   False  False  False  False  False    False\n",
              "8   False  False  False  False  False    False\n",
              "9   False  False  False  False  False    False\n",
              "10  False  False  False  False  False    False\n",
              "11  False  False  False  False  False    False\n",
              "12  False  False  False  False  False    False\n",
              "13  False  False  False  False  False    False\n",
              "14  False  False  False  False  False    False\n",
              "15  False  False  False  False   True    False\n",
              "16  False  False  False  False  False    False\n",
              "17  False  False  False  False  False    False\n",
              "18  False  False  False  False  False    False\n",
              "19  False  False  False  False  False    False\n",
              "20  False  False  False  False  False    False\n",
              "21  False  False  False  False  False    False\n",
              "22  False  False  False  False  False    False\n",
              "23  False  False  False  False   True    False\n",
              "24  False  False  False  False  False    False"
            ]
          },
          "metadata": {
            "tags": []
          },
          "execution_count": 82
        }
      ]
    },
    {
      "cell_type": "code",
      "metadata": {
        "colab": {
          "base_uri": "https://localhost:8080/"
        },
        "id": "wSPHMUdfqddh",
        "outputId": "62fb7e89-1593-4b65-e6bc-88209f5c8b44"
      },
      "source": [
        "# então podemos exibir quais campos possuem valores nulos usando a função\n",
        "# isnull() + .sum() e assim terá todas as colunas do dataframe que possuem \n",
        "# valores nulos. No nosso caso, a coluna cargo\n",
        "dfCopia.isnull().sum()"
      ],
      "execution_count": 83,
      "outputs": [
        {
          "output_type": "execute_result",
          "data": {
            "text/plain": [
              "nome       0\n",
              "sexo       0\n",
              "setor      0\n",
              "idade      0\n",
              "cargo      3\n",
              "salario    0\n",
              "dtype: int64"
            ]
          },
          "metadata": {
            "tags": []
          },
          "execution_count": 83
        }
      ]
    },
    {
      "cell_type": "code",
      "metadata": {
        "colab": {
          "base_uri": "https://localhost:8080/",
          "height": 142
        },
        "id": "47FimBGzrBWj",
        "outputId": "b8aafbf1-6bd0-458b-a0da-c970801d0faf"
      },
      "source": [
        "# vamos visualizar esses registros que possuem a coluna cargo com valores NaN\n",
        "dfCopia[dfCopia['cargo'].isnull()]"
      ],
      "execution_count": 84,
      "outputs": [
        {
          "output_type": "execute_result",
          "data": {
            "text/html": [
              "<div>\n",
              "<style scoped>\n",
              "    .dataframe tbody tr th:only-of-type {\n",
              "        vertical-align: middle;\n",
              "    }\n",
              "\n",
              "    .dataframe tbody tr th {\n",
              "        vertical-align: top;\n",
              "    }\n",
              "\n",
              "    .dataframe thead th {\n",
              "        text-align: right;\n",
              "    }\n",
              "</style>\n",
              "<table border=\"1\" class=\"dataframe\">\n",
              "  <thead>\n",
              "    <tr style=\"text-align: right;\">\n",
              "      <th></th>\n",
              "      <th>nome</th>\n",
              "      <th>sexo</th>\n",
              "      <th>setor</th>\n",
              "      <th>idade</th>\n",
              "      <th>cargo</th>\n",
              "      <th>salario</th>\n",
              "    </tr>\n",
              "  </thead>\n",
              "  <tbody>\n",
              "    <tr>\n",
              "      <th>5</th>\n",
              "      <td>SANDRO</td>\n",
              "      <td>M</td>\n",
              "      <td>artes</td>\n",
              "      <td>48</td>\n",
              "      <td>NaN</td>\n",
              "      <td>4000</td>\n",
              "    </tr>\n",
              "    <tr>\n",
              "      <th>15</th>\n",
              "      <td>ZURIEL</td>\n",
              "      <td>M</td>\n",
              "      <td>financeiro</td>\n",
              "      <td>20</td>\n",
              "      <td>NaN</td>\n",
              "      <td>3000</td>\n",
              "    </tr>\n",
              "    <tr>\n",
              "      <th>23</th>\n",
              "      <td>KLAYTON</td>\n",
              "      <td>M</td>\n",
              "      <td>tecnologia</td>\n",
              "      <td>33</td>\n",
              "      <td>NaN</td>\n",
              "      <td>5000</td>\n",
              "    </tr>\n",
              "  </tbody>\n",
              "</table>\n",
              "</div>"
            ],
            "text/plain": [
              "       nome sexo       setor  idade cargo  salario\n",
              "5    SANDRO    M       artes     48   NaN     4000\n",
              "15   ZURIEL    M  financeiro     20   NaN     3000\n",
              "23  KLAYTON    M  tecnologia     33   NaN     5000"
            ]
          },
          "metadata": {
            "tags": []
          },
          "execution_count": 84
        }
      ]
    },
    {
      "cell_type": "code",
      "metadata": {
        "colab": {
          "base_uri": "https://localhost:8080/",
          "height": 49
        },
        "id": "YixWnX8hq5sy",
        "outputId": "524c3e41-dd98-4a8c-e9fa-44b2cdd6cc17"
      },
      "source": [
        "# em alguns casos, removemos os registros que possuem valores nulos\n",
        "# e para isso utilizamos a função dropna()\n",
        "# abaixo, não irei atribuir isso ao dfCopia, apenas simularemos a visão acima\n",
        "# removendo os valores nulos\n",
        "dfCopia[dfCopia['cargo'].isnull()].dropna()\n",
        "# ou seja, ele não exibiu as linhas acimas "
      ],
      "execution_count": 85,
      "outputs": [
        {
          "output_type": "execute_result",
          "data": {
            "text/html": [
              "<div>\n",
              "<style scoped>\n",
              "    .dataframe tbody tr th:only-of-type {\n",
              "        vertical-align: middle;\n",
              "    }\n",
              "\n",
              "    .dataframe tbody tr th {\n",
              "        vertical-align: top;\n",
              "    }\n",
              "\n",
              "    .dataframe thead th {\n",
              "        text-align: right;\n",
              "    }\n",
              "</style>\n",
              "<table border=\"1\" class=\"dataframe\">\n",
              "  <thead>\n",
              "    <tr style=\"text-align: right;\">\n",
              "      <th></th>\n",
              "      <th>nome</th>\n",
              "      <th>sexo</th>\n",
              "      <th>setor</th>\n",
              "      <th>idade</th>\n",
              "      <th>cargo</th>\n",
              "      <th>salario</th>\n",
              "    </tr>\n",
              "  </thead>\n",
              "  <tbody>\n",
              "  </tbody>\n",
              "</table>\n",
              "</div>"
            ],
            "text/plain": [
              "Empty DataFrame\n",
              "Columns: [nome, sexo, setor, idade, cargo, salario]\n",
              "Index: []"
            ]
          },
          "metadata": {
            "tags": []
          },
          "execution_count": 85
        }
      ]
    },
    {
      "cell_type": "code",
      "metadata": {
        "colab": {
          "base_uri": "https://localhost:8080/"
        },
        "id": "lppHCXKLrti6",
        "outputId": "e0989979-1da3-4b5e-e689-cab400fa2150"
      },
      "source": [
        "# ou outra forma de exemplo seria\n",
        "dfCopia.dropna().isnull().sum()\n",
        "# aqui, primeiro removeu os registros Nan e depois verificou se há alguma \n",
        "# valor nulo."
      ],
      "execution_count": 86,
      "outputs": [
        {
          "output_type": "execute_result",
          "data": {
            "text/plain": [
              "nome       0\n",
              "sexo       0\n",
              "setor      0\n",
              "idade      0\n",
              "cargo      0\n",
              "salario    0\n",
              "dtype: int64"
            ]
          },
          "metadata": {
            "tags": []
          },
          "execution_count": 86
        }
      ]
    },
    {
      "cell_type": "code",
      "metadata": {
        "colab": {
          "base_uri": "https://localhost:8080/"
        },
        "id": "rJwuNIQyr2_j",
        "outputId": "a94880c1-c551-4094-f4fc-e2523a54c7f5"
      },
      "source": [
        "# caso a regra é remover os registros com valores nulos\n",
        "# é só atribuir o resultado a uma nova variável\n",
        "novoDF = dfCopia.copy().dropna() # removi os registros\n",
        "novoDF.isnull().sum() # verifiquei se realmente estão todos com valores"
      ],
      "execution_count": 87,
      "outputs": [
        {
          "output_type": "execute_result",
          "data": {
            "text/plain": [
              "nome       0\n",
              "sexo       0\n",
              "setor      0\n",
              "idade      0\n",
              "cargo      0\n",
              "salario    0\n",
              "dtype: int64"
            ]
          },
          "metadata": {
            "tags": []
          },
          "execution_count": 87
        }
      ]
    },
    {
      "cell_type": "code",
      "metadata": {
        "colab": {
          "base_uri": "https://localhost:8080/"
        },
        "id": "G8pEaACRhAQJ",
        "outputId": "8eeab580-7f4b-4e6a-e0e8-097caa09d0cc"
      },
      "source": [
        "# temos um valor nulo acima então vou analisar essa coluna cargo\n",
        "dfCopia['cargo'].describe()"
      ],
      "execution_count": 88,
      "outputs": [
        {
          "output_type": "execute_result",
          "data": {
            "text/plain": [
              "count             22\n",
              "unique             6\n",
              "top       assistente\n",
              "freq              12\n",
              "Name: cargo, dtype: object"
            ]
          },
          "metadata": {
            "tags": []
          },
          "execution_count": 88
        }
      ]
    },
    {
      "cell_type": "code",
      "metadata": {
        "id": "5p1JH6ZZhnrt"
      },
      "source": [
        "# vou fazer o seguinte, para os valores nulos (nan), vou preencher com o valor \n",
        "# mais presente na tabela que é assistente\n",
        "# importante reforçar: essa opção abaixo é uma regra de negócio, podendo variar\n",
        "# de situação a situação\n",
        "dfCopia['cargo'] = dfCopia['cargo'].fillna('assistente')"
      ],
      "execution_count": 89,
      "outputs": []
    },
    {
      "cell_type": "code",
      "metadata": {
        "colab": {
          "base_uri": "https://localhost:8080/"
        },
        "id": "sznCHxBtiBFJ",
        "outputId": "5e69c4fd-0e4e-4666-bdc6-b69e13002913"
      },
      "source": [
        "# agora não temos mais valores nulos na coluna cargo\n",
        "dfCopia['cargo'].unique().tolist()"
      ],
      "execution_count": 90,
      "outputs": [
        {
          "output_type": "execute_result",
          "data": {
            "text/plain": [
              "['Diretor',\n",
              " 'assistente',\n",
              " 'executivo de contas',\n",
              " 'Gerente ',\n",
              " 'Coordenador',\n",
              " 'Engenheiro de Software']"
            ]
          },
          "metadata": {
            "tags": []
          },
          "execution_count": 90
        }
      ]
    },
    {
      "cell_type": "markdown",
      "metadata": {
        "id": "6UTIVBv8pGCF"
      },
      "source": [
        "**LAMBDA()**"
      ]
    },
    {
      "cell_type": "code",
      "metadata": {
        "id": "BN0MZLhvQXqv"
      },
      "source": [
        "# agora vamos deixar todos os cargos em letras maiúsculas\n",
        "# a primeira é a função lambda que consiste em atribuir valor ao objeto\n",
        "# e nela usaremos função str().upper(), que converte uma string em maiúscula\n",
        "dfCopia['cargo'] = dfCopia['cargo'].apply(lambda x: str(x).upper())"
      ],
      "execution_count": 91,
      "outputs": []
    },
    {
      "cell_type": "code",
      "metadata": {
        "colab": {
          "base_uri": "https://localhost:8080/"
        },
        "id": "KFm7sK9DiA6Z",
        "outputId": "afbf7a0a-391b-4e67-ab64-30c5feed87d3"
      },
      "source": [
        "# agora todos os cargos estão em maiúsculo\n",
        "dfCopia['cargo'].unique().tolist()"
      ],
      "execution_count": 92,
      "outputs": [
        {
          "output_type": "execute_result",
          "data": {
            "text/plain": [
              "['DIRETOR',\n",
              " 'ASSISTENTE',\n",
              " 'EXECUTIVO DE CONTAS',\n",
              " 'GERENTE ',\n",
              " 'COORDENADOR',\n",
              " 'ENGENHEIRO DE SOFTWARE']"
            ]
          },
          "metadata": {
            "tags": []
          },
          "execution_count": 92
        }
      ]
    },
    {
      "cell_type": "code",
      "metadata": {
        "colab": {
          "base_uri": "https://localhost:8080/",
          "height": 359
        },
        "id": "YBYLF9TdjXhi",
        "outputId": "4be98a67-dc6a-4402-97db-208167884790"
      },
      "source": [
        "dfCopia.head(10)"
      ],
      "execution_count": 93,
      "outputs": [
        {
          "output_type": "execute_result",
          "data": {
            "text/html": [
              "<div>\n",
              "<style scoped>\n",
              "    .dataframe tbody tr th:only-of-type {\n",
              "        vertical-align: middle;\n",
              "    }\n",
              "\n",
              "    .dataframe tbody tr th {\n",
              "        vertical-align: top;\n",
              "    }\n",
              "\n",
              "    .dataframe thead th {\n",
              "        text-align: right;\n",
              "    }\n",
              "</style>\n",
              "<table border=\"1\" class=\"dataframe\">\n",
              "  <thead>\n",
              "    <tr style=\"text-align: right;\">\n",
              "      <th></th>\n",
              "      <th>nome</th>\n",
              "      <th>sexo</th>\n",
              "      <th>setor</th>\n",
              "      <th>idade</th>\n",
              "      <th>cargo</th>\n",
              "      <th>salario</th>\n",
              "    </tr>\n",
              "  </thead>\n",
              "  <tbody>\n",
              "    <tr>\n",
              "      <th>0</th>\n",
              "      <td>ANTONIO</td>\n",
              "      <td>M</td>\n",
              "      <td>administrativo</td>\n",
              "      <td>26</td>\n",
              "      <td>DIRETOR</td>\n",
              "      <td>15000</td>\n",
              "    </tr>\n",
              "    <tr>\n",
              "      <th>1</th>\n",
              "      <td>GUSTAVO</td>\n",
              "      <td>M</td>\n",
              "      <td>administrativo</td>\n",
              "      <td>29</td>\n",
              "      <td>ASSISTENTE</td>\n",
              "      <td>3000</td>\n",
              "    </tr>\n",
              "    <tr>\n",
              "      <th>2</th>\n",
              "      <td>NORMA</td>\n",
              "      <td>F</td>\n",
              "      <td>administrativo</td>\n",
              "      <td>49</td>\n",
              "      <td>ASSISTENTE</td>\n",
              "      <td>3000</td>\n",
              "    </tr>\n",
              "    <tr>\n",
              "      <th>3</th>\n",
              "      <td>QUITERIA</td>\n",
              "      <td>F</td>\n",
              "      <td>artes</td>\n",
              "      <td>39</td>\n",
              "      <td>ASSISTENTE</td>\n",
              "      <td>6000</td>\n",
              "    </tr>\n",
              "    <tr>\n",
              "      <th>4</th>\n",
              "      <td>RENATA</td>\n",
              "      <td>F</td>\n",
              "      <td>artes</td>\n",
              "      <td>39</td>\n",
              "      <td>ASSISTENTE</td>\n",
              "      <td>5000</td>\n",
              "    </tr>\n",
              "    <tr>\n",
              "      <th>5</th>\n",
              "      <td>SANDRO</td>\n",
              "      <td>M</td>\n",
              "      <td>artes</td>\n",
              "      <td>48</td>\n",
              "      <td>ASSISTENTE</td>\n",
              "      <td>4000</td>\n",
              "    </tr>\n",
              "    <tr>\n",
              "      <th>6</th>\n",
              "      <td>VANESSA</td>\n",
              "      <td>F</td>\n",
              "      <td>artes</td>\n",
              "      <td>29</td>\n",
              "      <td>ASSISTENTE</td>\n",
              "      <td>4000</td>\n",
              "    </tr>\n",
              "    <tr>\n",
              "      <th>7</th>\n",
              "      <td>MARCOS</td>\n",
              "      <td>M</td>\n",
              "      <td>comercial</td>\n",
              "      <td>49</td>\n",
              "      <td>EXECUTIVO DE CONTAS</td>\n",
              "      <td>3000</td>\n",
              "    </tr>\n",
              "    <tr>\n",
              "      <th>8</th>\n",
              "      <td>CARLA</td>\n",
              "      <td>F</td>\n",
              "      <td>comercial</td>\n",
              "      <td>22</td>\n",
              "      <td>GERENTE</td>\n",
              "      <td>7000</td>\n",
              "    </tr>\n",
              "    <tr>\n",
              "      <th>9</th>\n",
              "      <td>DANIELA</td>\n",
              "      <td>F</td>\n",
              "      <td>comercial</td>\n",
              "      <td>50</td>\n",
              "      <td>EXECUTIVO DE CONTAS</td>\n",
              "      <td>3000</td>\n",
              "    </tr>\n",
              "  </tbody>\n",
              "</table>\n",
              "</div>"
            ],
            "text/plain": [
              "       nome sexo           setor  idade                cargo  salario\n",
              "0   ANTONIO    M  administrativo     26              DIRETOR    15000\n",
              "1   GUSTAVO    M  administrativo     29           ASSISTENTE     3000\n",
              "2     NORMA    F  administrativo     49           ASSISTENTE     3000\n",
              "3  QUITERIA    F           artes     39           ASSISTENTE     6000\n",
              "4    RENATA    F           artes     39           ASSISTENTE     5000\n",
              "5    SANDRO    M           artes     48           ASSISTENTE     4000\n",
              "6   VANESSA    F           artes     29           ASSISTENTE     4000\n",
              "7    MARCOS    M       comercial     49  EXECUTIVO DE CONTAS     3000\n",
              "8     CARLA    F       comercial     22             GERENTE      7000\n",
              "9   DANIELA    F       comercial     50  EXECUTIVO DE CONTAS     3000"
            ]
          },
          "metadata": {
            "tags": []
          },
          "execution_count": 93
        }
      ]
    },
    {
      "cell_type": "code",
      "metadata": {
        "colab": {
          "base_uri": "https://localhost:8080/",
          "height": 204
        },
        "id": "uTulElTcjHhe",
        "outputId": "e1d18c2a-f470-4335-ab8e-421dd22f03ed"
      },
      "source": [
        "# vamos fazer outro exemplo usando lambda mas com uma função criada pelo dev\n",
        "dfCopia.query('salario < 3000')"
      ],
      "execution_count": 94,
      "outputs": [
        {
          "output_type": "execute_result",
          "data": {
            "text/html": [
              "<div>\n",
              "<style scoped>\n",
              "    .dataframe tbody tr th:only-of-type {\n",
              "        vertical-align: middle;\n",
              "    }\n",
              "\n",
              "    .dataframe tbody tr th {\n",
              "        vertical-align: top;\n",
              "    }\n",
              "\n",
              "    .dataframe thead th {\n",
              "        text-align: right;\n",
              "    }\n",
              "</style>\n",
              "<table border=\"1\" class=\"dataframe\">\n",
              "  <thead>\n",
              "    <tr style=\"text-align: right;\">\n",
              "      <th></th>\n",
              "      <th>nome</th>\n",
              "      <th>sexo</th>\n",
              "      <th>setor</th>\n",
              "      <th>idade</th>\n",
              "      <th>cargo</th>\n",
              "      <th>salario</th>\n",
              "    </tr>\n",
              "  </thead>\n",
              "  <tbody>\n",
              "    <tr>\n",
              "      <th>13</th>\n",
              "      <td>BEATRIZ</td>\n",
              "      <td>F</td>\n",
              "      <td>financeiro</td>\n",
              "      <td>33</td>\n",
              "      <td>ASSISTENTE</td>\n",
              "      <td>2500</td>\n",
              "    </tr>\n",
              "    <tr>\n",
              "      <th>14</th>\n",
              "      <td>TEODORO</td>\n",
              "      <td>M</td>\n",
              "      <td>financeiro</td>\n",
              "      <td>38</td>\n",
              "      <td>ASSISTENTE</td>\n",
              "      <td>2500</td>\n",
              "    </tr>\n",
              "    <tr>\n",
              "      <th>16</th>\n",
              "      <td>FABIA</td>\n",
              "      <td>F</td>\n",
              "      <td>marketing</td>\n",
              "      <td>49</td>\n",
              "      <td>ASSISTENTE</td>\n",
              "      <td>2500</td>\n",
              "    </tr>\n",
              "    <tr>\n",
              "      <th>17</th>\n",
              "      <td>UBALDO</td>\n",
              "      <td>M</td>\n",
              "      <td>marketing</td>\n",
              "      <td>47</td>\n",
              "      <td>ASSISTENTE</td>\n",
              "      <td>2500</td>\n",
              "    </tr>\n",
              "    <tr>\n",
              "      <th>19</th>\n",
              "      <td>YOLANDA</td>\n",
              "      <td>F</td>\n",
              "      <td>marketing</td>\n",
              "      <td>27</td>\n",
              "      <td>ASSISTENTE</td>\n",
              "      <td>2500</td>\n",
              "    </tr>\n",
              "  </tbody>\n",
              "</table>\n",
              "</div>"
            ],
            "text/plain": [
              "       nome sexo       setor  idade       cargo  salario\n",
              "13  BEATRIZ    F  financeiro     33  ASSISTENTE     2500\n",
              "14  TEODORO    M  financeiro     38  ASSISTENTE     2500\n",
              "16    FABIA    F   marketing     49  ASSISTENTE     2500\n",
              "17   UBALDO    M   marketing     47  ASSISTENTE     2500\n",
              "19  YOLANDA    F   marketing     27  ASSISTENTE     2500"
            ]
          },
          "metadata": {
            "tags": []
          },
          "execution_count": 94
        }
      ]
    },
    {
      "cell_type": "code",
      "metadata": {
        "id": "lTnqA7KLmKKH"
      },
      "source": [
        "# função simples para reajustar um valor, no caso será o salario\n",
        "def salario_reajuste(valor, reajuste):\n",
        "  \"\"\"\n",
        "  valor = float\n",
        "  reajuste = float, ex.: 10% será 0.1\n",
        "  \"\"\"\n",
        "  if valor < 3000:\n",
        "    valor += valor * reajuste\n",
        "  return valor"
      ],
      "execution_count": 95,
      "outputs": []
    },
    {
      "cell_type": "code",
      "metadata": {
        "colab": {
          "base_uri": "https://localhost:8080/"
        },
        "id": "xjNmSqiPmDQk",
        "outputId": "88da2905-5d8e-41d9-9067-c578732f9b51"
      },
      "source": [
        "# testando a função\n",
        "salario_reajuste(valor=2000, reajuste=0.1) "
      ],
      "execution_count": 96,
      "outputs": [
        {
          "output_type": "execute_result",
          "data": {
            "text/plain": [
              "2200.0"
            ]
          },
          "metadata": {
            "tags": []
          },
          "execution_count": 96
        }
      ]
    },
    {
      "cell_type": "code",
      "metadata": {
        "colab": {
          "base_uri": "https://localhost:8080/",
          "height": 49
        },
        "id": "29wuLNrGmtdm",
        "outputId": "f65cdb44-4fc6-47be-8d5f-8ffaeb5a6462"
      },
      "source": [
        "# vamos reajustar o salário em 20% dos funcionários que recebem menos de 3000\n",
        "dfCopia['salario'] = dfCopia['salario'].apply(lambda x: salario_reajuste(x, 0.2))\n",
        "dfCopia.query('salario < 3000')\n",
        "# veja abaixo que não existe nenhum funcionário com salario menor que 3000"
      ],
      "execution_count": 97,
      "outputs": [
        {
          "output_type": "execute_result",
          "data": {
            "text/html": [
              "<div>\n",
              "<style scoped>\n",
              "    .dataframe tbody tr th:only-of-type {\n",
              "        vertical-align: middle;\n",
              "    }\n",
              "\n",
              "    .dataframe tbody tr th {\n",
              "        vertical-align: top;\n",
              "    }\n",
              "\n",
              "    .dataframe thead th {\n",
              "        text-align: right;\n",
              "    }\n",
              "</style>\n",
              "<table border=\"1\" class=\"dataframe\">\n",
              "  <thead>\n",
              "    <tr style=\"text-align: right;\">\n",
              "      <th></th>\n",
              "      <th>nome</th>\n",
              "      <th>sexo</th>\n",
              "      <th>setor</th>\n",
              "      <th>idade</th>\n",
              "      <th>cargo</th>\n",
              "      <th>salario</th>\n",
              "    </tr>\n",
              "  </thead>\n",
              "  <tbody>\n",
              "  </tbody>\n",
              "</table>\n",
              "</div>"
            ],
            "text/plain": [
              "Empty DataFrame\n",
              "Columns: [nome, sexo, setor, idade, cargo, salario]\n",
              "Index: []"
            ]
          },
          "metadata": {
            "tags": []
          },
          "execution_count": 97
        }
      ]
    },
    {
      "cell_type": "code",
      "metadata": {
        "colab": {
          "base_uri": "https://localhost:8080/",
          "height": 173
        },
        "id": "wS6RPuzQnVco",
        "outputId": "b79f1a21-27af-44d1-e544-baaeecdf9bef"
      },
      "source": [
        "# por último, só pra reforçar conhecimento, vamos dar um bonus de 2800 para\n",
        "# cada integrante do setor comercial\n",
        "dfCopia.query(\"setor == 'comercial'\")"
      ],
      "execution_count": 98,
      "outputs": [
        {
          "output_type": "execute_result",
          "data": {
            "text/html": [
              "<div>\n",
              "<style scoped>\n",
              "    .dataframe tbody tr th:only-of-type {\n",
              "        vertical-align: middle;\n",
              "    }\n",
              "\n",
              "    .dataframe tbody tr th {\n",
              "        vertical-align: top;\n",
              "    }\n",
              "\n",
              "    .dataframe thead th {\n",
              "        text-align: right;\n",
              "    }\n",
              "</style>\n",
              "<table border=\"1\" class=\"dataframe\">\n",
              "  <thead>\n",
              "    <tr style=\"text-align: right;\">\n",
              "      <th></th>\n",
              "      <th>nome</th>\n",
              "      <th>sexo</th>\n",
              "      <th>setor</th>\n",
              "      <th>idade</th>\n",
              "      <th>cargo</th>\n",
              "      <th>salario</th>\n",
              "    </tr>\n",
              "  </thead>\n",
              "  <tbody>\n",
              "    <tr>\n",
              "      <th>7</th>\n",
              "      <td>MARCOS</td>\n",
              "      <td>M</td>\n",
              "      <td>comercial</td>\n",
              "      <td>49</td>\n",
              "      <td>EXECUTIVO DE CONTAS</td>\n",
              "      <td>3000.0</td>\n",
              "    </tr>\n",
              "    <tr>\n",
              "      <th>8</th>\n",
              "      <td>CARLA</td>\n",
              "      <td>F</td>\n",
              "      <td>comercial</td>\n",
              "      <td>22</td>\n",
              "      <td>GERENTE</td>\n",
              "      <td>7000.0</td>\n",
              "    </tr>\n",
              "    <tr>\n",
              "      <th>9</th>\n",
              "      <td>DANIELA</td>\n",
              "      <td>F</td>\n",
              "      <td>comercial</td>\n",
              "      <td>50</td>\n",
              "      <td>EXECUTIVO DE CONTAS</td>\n",
              "      <td>3000.0</td>\n",
              "    </tr>\n",
              "    <tr>\n",
              "      <th>10</th>\n",
              "      <td>EDUARDO</td>\n",
              "      <td>M</td>\n",
              "      <td>comercial</td>\n",
              "      <td>34</td>\n",
              "      <td>EXECUTIVO DE CONTAS</td>\n",
              "      <td>3000.0</td>\n",
              "    </tr>\n",
              "  </tbody>\n",
              "</table>\n",
              "</div>"
            ],
            "text/plain": [
              "       nome sexo      setor  idade                cargo  salario\n",
              "7    MARCOS    M  comercial     49  EXECUTIVO DE CONTAS   3000.0\n",
              "8     CARLA    F  comercial     22             GERENTE    7000.0\n",
              "9   DANIELA    F  comercial     50  EXECUTIVO DE CONTAS   3000.0\n",
              "10  EDUARDO    M  comercial     34  EXECUTIVO DE CONTAS   3000.0"
            ]
          },
          "metadata": {
            "tags": []
          },
          "execution_count": 98
        }
      ]
    },
    {
      "cell_type": "code",
      "metadata": {
        "id": "Z6nNnf0skJ0X"
      },
      "source": [
        "# vamos utilizar o dataframe copia inteiro\n",
        "# vamos atribuir o valor no campo salario\n",
        "# e vamos colocar a condicional IF na função lambda\n",
        "dfCopia['salario'] = dfCopia.apply(lambda x: x['salario']+2800 if x['setor']==\"comercial\" else x['salario'], axis=1)"
      ],
      "execution_count": 99,
      "outputs": []
    },
    {
      "cell_type": "code",
      "metadata": {
        "colab": {
          "base_uri": "https://localhost:8080/",
          "height": 173
        },
        "id": "LMJ8HfvWg4mu",
        "outputId": "771a897b-541a-43ef-83b8-ffa6d07ec76a"
      },
      "source": [
        "dfCopia.query(\"setor == 'comercial'\")"
      ],
      "execution_count": 100,
      "outputs": [
        {
          "output_type": "execute_result",
          "data": {
            "text/html": [
              "<div>\n",
              "<style scoped>\n",
              "    .dataframe tbody tr th:only-of-type {\n",
              "        vertical-align: middle;\n",
              "    }\n",
              "\n",
              "    .dataframe tbody tr th {\n",
              "        vertical-align: top;\n",
              "    }\n",
              "\n",
              "    .dataframe thead th {\n",
              "        text-align: right;\n",
              "    }\n",
              "</style>\n",
              "<table border=\"1\" class=\"dataframe\">\n",
              "  <thead>\n",
              "    <tr style=\"text-align: right;\">\n",
              "      <th></th>\n",
              "      <th>nome</th>\n",
              "      <th>sexo</th>\n",
              "      <th>setor</th>\n",
              "      <th>idade</th>\n",
              "      <th>cargo</th>\n",
              "      <th>salario</th>\n",
              "    </tr>\n",
              "  </thead>\n",
              "  <tbody>\n",
              "    <tr>\n",
              "      <th>7</th>\n",
              "      <td>MARCOS</td>\n",
              "      <td>M</td>\n",
              "      <td>comercial</td>\n",
              "      <td>49</td>\n",
              "      <td>EXECUTIVO DE CONTAS</td>\n",
              "      <td>5800.0</td>\n",
              "    </tr>\n",
              "    <tr>\n",
              "      <th>8</th>\n",
              "      <td>CARLA</td>\n",
              "      <td>F</td>\n",
              "      <td>comercial</td>\n",
              "      <td>22</td>\n",
              "      <td>GERENTE</td>\n",
              "      <td>9800.0</td>\n",
              "    </tr>\n",
              "    <tr>\n",
              "      <th>9</th>\n",
              "      <td>DANIELA</td>\n",
              "      <td>F</td>\n",
              "      <td>comercial</td>\n",
              "      <td>50</td>\n",
              "      <td>EXECUTIVO DE CONTAS</td>\n",
              "      <td>5800.0</td>\n",
              "    </tr>\n",
              "    <tr>\n",
              "      <th>10</th>\n",
              "      <td>EDUARDO</td>\n",
              "      <td>M</td>\n",
              "      <td>comercial</td>\n",
              "      <td>34</td>\n",
              "      <td>EXECUTIVO DE CONTAS</td>\n",
              "      <td>5800.0</td>\n",
              "    </tr>\n",
              "  </tbody>\n",
              "</table>\n",
              "</div>"
            ],
            "text/plain": [
              "       nome sexo      setor  idade                cargo  salario\n",
              "7    MARCOS    M  comercial     49  EXECUTIVO DE CONTAS   5800.0\n",
              "8     CARLA    F  comercial     22             GERENTE    9800.0\n",
              "9   DANIELA    F  comercial     50  EXECUTIVO DE CONTAS   5800.0\n",
              "10  EDUARDO    M  comercial     34  EXECUTIVO DE CONTAS   5800.0"
            ]
          },
          "metadata": {
            "tags": []
          },
          "execution_count": 100
        }
      ]
    },
    {
      "cell_type": "markdown",
      "metadata": {
        "id": "vY-2D8N-TXNs"
      },
      "source": [
        "# **Correlação**\n",
        "\n",
        "Correlação indica a interdependência entre duas ou mais variáveis, variando entre os valores 1 e -1, sendo 1 correlação positiva perfeita, 0 sem correlação e -1 negativa perfeita. \n",
        "Vamos ao exemplo abaixo onde queremos saber qual variável (coluna) se correlaciona melhor com o total de vendas."
      ]
    },
    {
      "cell_type": "code",
      "metadata": {
        "id": "ifSOYpY7TWvc"
      },
      "source": [
        "# vamos simular um dataframe de vendas de produtos de 1,99\n",
        "import random\n",
        "meses = range(1, 13)\n",
        "produtos = list('ABCDEFGHIJ') # 10 produtos A, B, C ...\n",
        "vendedores = ['JOAO', 'MARIA', 'PEDRO', 'ANA', 'BETO']\n",
        "vendas = pd.DataFrame(columns=['id_venda', 'mes', 'id_produto', 'id_vendedor', \n",
        "                               'qtd', 'valor', 'total'])\n",
        "idv = 1\n",
        "for mes in meses:\n",
        "  for i in range(1, random.randint(50, 300)):\n",
        "    produto = random.randint(0, len(produtos)-1)\n",
        "    vendedor = random.randint(0, len(vendedores)-1)\n",
        "    qtd = random.randint(1, 5)\n",
        "    vendas = vendas.append({'id_venda':idv, 'mes':mes, \n",
        "                            'id_produto':produto, 'id_vendedor':vendedor, \n",
        "                            'qtd':qtd, 'valor': 1.99, 'total':qtd*1.99},\n",
        "                           ignore_index=True)\n",
        "    idv+=1 # incrementando"
      ],
      "execution_count": 101,
      "outputs": []
    },
    {
      "cell_type": "code",
      "metadata": {
        "colab": {
          "base_uri": "https://localhost:8080/",
          "height": 35
        },
        "id": "1nKA6OJ0f2-x",
        "outputId": "26b8e9d0-ad0b-4238-d882-315c8e47c4cb"
      },
      "source": [
        "f\"O dataframe vendas tem {vendas.shape[0]} linhas e {vendas.shape[1]} colunas\""
      ],
      "execution_count": 102,
      "outputs": [
        {
          "output_type": "execute_result",
          "data": {
            "application/vnd.google.colaboratory.intrinsic+json": {
              "type": "string"
            },
            "text/plain": [
              "'O dataframe vendas tem 2036 linhas e 7 colunas'"
            ]
          },
          "metadata": {
            "tags": []
          },
          "execution_count": 102
        }
      ]
    },
    {
      "cell_type": "code",
      "metadata": {
        "colab": {
          "base_uri": "https://localhost:8080/",
          "height": 204
        },
        "id": "g-5o9kKegLuQ",
        "outputId": "2891b47b-4fad-4738-9188-942115f7eab6"
      },
      "source": [
        "# vamos visualizar as 5 primeiras linhas\n",
        "vendas.head()"
      ],
      "execution_count": 103,
      "outputs": [
        {
          "output_type": "execute_result",
          "data": {
            "text/html": [
              "<div>\n",
              "<style scoped>\n",
              "    .dataframe tbody tr th:only-of-type {\n",
              "        vertical-align: middle;\n",
              "    }\n",
              "\n",
              "    .dataframe tbody tr th {\n",
              "        vertical-align: top;\n",
              "    }\n",
              "\n",
              "    .dataframe thead th {\n",
              "        text-align: right;\n",
              "    }\n",
              "</style>\n",
              "<table border=\"1\" class=\"dataframe\">\n",
              "  <thead>\n",
              "    <tr style=\"text-align: right;\">\n",
              "      <th></th>\n",
              "      <th>id_venda</th>\n",
              "      <th>mes</th>\n",
              "      <th>id_produto</th>\n",
              "      <th>id_vendedor</th>\n",
              "      <th>qtd</th>\n",
              "      <th>valor</th>\n",
              "      <th>total</th>\n",
              "    </tr>\n",
              "  </thead>\n",
              "  <tbody>\n",
              "    <tr>\n",
              "      <th>0</th>\n",
              "      <td>1.0</td>\n",
              "      <td>1.0</td>\n",
              "      <td>6.0</td>\n",
              "      <td>2.0</td>\n",
              "      <td>4.0</td>\n",
              "      <td>1.99</td>\n",
              "      <td>7.96</td>\n",
              "    </tr>\n",
              "    <tr>\n",
              "      <th>1</th>\n",
              "      <td>2.0</td>\n",
              "      <td>1.0</td>\n",
              "      <td>7.0</td>\n",
              "      <td>3.0</td>\n",
              "      <td>1.0</td>\n",
              "      <td>1.99</td>\n",
              "      <td>1.99</td>\n",
              "    </tr>\n",
              "    <tr>\n",
              "      <th>2</th>\n",
              "      <td>3.0</td>\n",
              "      <td>1.0</td>\n",
              "      <td>6.0</td>\n",
              "      <td>1.0</td>\n",
              "      <td>1.0</td>\n",
              "      <td>1.99</td>\n",
              "      <td>1.99</td>\n",
              "    </tr>\n",
              "    <tr>\n",
              "      <th>3</th>\n",
              "      <td>4.0</td>\n",
              "      <td>1.0</td>\n",
              "      <td>2.0</td>\n",
              "      <td>1.0</td>\n",
              "      <td>1.0</td>\n",
              "      <td>1.99</td>\n",
              "      <td>1.99</td>\n",
              "    </tr>\n",
              "    <tr>\n",
              "      <th>4</th>\n",
              "      <td>5.0</td>\n",
              "      <td>1.0</td>\n",
              "      <td>5.0</td>\n",
              "      <td>4.0</td>\n",
              "      <td>1.0</td>\n",
              "      <td>1.99</td>\n",
              "      <td>1.99</td>\n",
              "    </tr>\n",
              "  </tbody>\n",
              "</table>\n",
              "</div>"
            ],
            "text/plain": [
              "   id_venda  mes  id_produto  id_vendedor  qtd  valor  total\n",
              "0       1.0  1.0         6.0          2.0  4.0   1.99   7.96\n",
              "1       2.0  1.0         7.0          3.0  1.0   1.99   1.99\n",
              "2       3.0  1.0         6.0          1.0  1.0   1.99   1.99\n",
              "3       4.0  1.0         2.0          1.0  1.0   1.99   1.99\n",
              "4       5.0  1.0         5.0          4.0  1.0   1.99   1.99"
            ]
          },
          "metadata": {
            "tags": []
          },
          "execution_count": 103
        }
      ]
    },
    {
      "cell_type": "code",
      "metadata": {
        "colab": {
          "base_uri": "https://localhost:8080/",
          "height": 266
        },
        "id": "GC4_fNrkgUrk",
        "outputId": "53a5d441-67f8-4e3c-d347-3546a1e62f50"
      },
      "source": [
        "# agora vamos visualizar a correlacao entre as variaveis\n",
        "correlacao = vendas.corr().round(2)\n",
        "correlacao"
      ],
      "execution_count": 104,
      "outputs": [
        {
          "output_type": "execute_result",
          "data": {
            "text/html": [
              "<div>\n",
              "<style scoped>\n",
              "    .dataframe tbody tr th:only-of-type {\n",
              "        vertical-align: middle;\n",
              "    }\n",
              "\n",
              "    .dataframe tbody tr th {\n",
              "        vertical-align: top;\n",
              "    }\n",
              "\n",
              "    .dataframe thead th {\n",
              "        text-align: right;\n",
              "    }\n",
              "</style>\n",
              "<table border=\"1\" class=\"dataframe\">\n",
              "  <thead>\n",
              "    <tr style=\"text-align: right;\">\n",
              "      <th></th>\n",
              "      <th>id_venda</th>\n",
              "      <th>mes</th>\n",
              "      <th>id_produto</th>\n",
              "      <th>id_vendedor</th>\n",
              "      <th>qtd</th>\n",
              "      <th>valor</th>\n",
              "      <th>total</th>\n",
              "    </tr>\n",
              "  </thead>\n",
              "  <tbody>\n",
              "    <tr>\n",
              "      <th>id_venda</th>\n",
              "      <td>1.00</td>\n",
              "      <td>0.99</td>\n",
              "      <td>-0.02</td>\n",
              "      <td>-0.05</td>\n",
              "      <td>0.01</td>\n",
              "      <td>0.0</td>\n",
              "      <td>0.01</td>\n",
              "    </tr>\n",
              "    <tr>\n",
              "      <th>mes</th>\n",
              "      <td>0.99</td>\n",
              "      <td>1.00</td>\n",
              "      <td>-0.02</td>\n",
              "      <td>-0.05</td>\n",
              "      <td>0.01</td>\n",
              "      <td>0.0</td>\n",
              "      <td>0.01</td>\n",
              "    </tr>\n",
              "    <tr>\n",
              "      <th>id_produto</th>\n",
              "      <td>-0.02</td>\n",
              "      <td>-0.02</td>\n",
              "      <td>1.00</td>\n",
              "      <td>-0.04</td>\n",
              "      <td>0.06</td>\n",
              "      <td>-0.0</td>\n",
              "      <td>0.06</td>\n",
              "    </tr>\n",
              "    <tr>\n",
              "      <th>id_vendedor</th>\n",
              "      <td>-0.05</td>\n",
              "      <td>-0.05</td>\n",
              "      <td>-0.04</td>\n",
              "      <td>1.00</td>\n",
              "      <td>0.00</td>\n",
              "      <td>0.0</td>\n",
              "      <td>0.00</td>\n",
              "    </tr>\n",
              "    <tr>\n",
              "      <th>qtd</th>\n",
              "      <td>0.01</td>\n",
              "      <td>0.01</td>\n",
              "      <td>0.06</td>\n",
              "      <td>0.00</td>\n",
              "      <td>1.00</td>\n",
              "      <td>-0.0</td>\n",
              "      <td>1.00</td>\n",
              "    </tr>\n",
              "    <tr>\n",
              "      <th>valor</th>\n",
              "      <td>0.00</td>\n",
              "      <td>0.00</td>\n",
              "      <td>-0.00</td>\n",
              "      <td>0.00</td>\n",
              "      <td>-0.00</td>\n",
              "      <td>1.0</td>\n",
              "      <td>0.00</td>\n",
              "    </tr>\n",
              "    <tr>\n",
              "      <th>total</th>\n",
              "      <td>0.01</td>\n",
              "      <td>0.01</td>\n",
              "      <td>0.06</td>\n",
              "      <td>0.00</td>\n",
              "      <td>1.00</td>\n",
              "      <td>0.0</td>\n",
              "      <td>1.00</td>\n",
              "    </tr>\n",
              "  </tbody>\n",
              "</table>\n",
              "</div>"
            ],
            "text/plain": [
              "             id_venda   mes  id_produto  id_vendedor   qtd  valor  total\n",
              "id_venda         1.00  0.99       -0.02        -0.05  0.01    0.0   0.01\n",
              "mes              0.99  1.00       -0.02        -0.05  0.01    0.0   0.01\n",
              "id_produto      -0.02 -0.02        1.00        -0.04  0.06   -0.0   0.06\n",
              "id_vendedor     -0.05 -0.05       -0.04         1.00  0.00    0.0   0.00\n",
              "qtd              0.01  0.01        0.06         0.00  1.00   -0.0   1.00\n",
              "valor            0.00  0.00       -0.00         0.00 -0.00    1.0   0.00\n",
              "total            0.01  0.01        0.06         0.00  1.00    0.0   1.00"
            ]
          },
          "metadata": {
            "tags": []
          },
          "execution_count": 104
        }
      ]
    },
    {
      "cell_type": "markdown",
      "metadata": {
        "id": "fCj5isD7iDH4"
      },
      "source": [
        "**Analise**\n",
        "\n",
        "Veja a correlação acima entre a variável total com a mesma variável total? O valor é 1, que . Agora veja quais as variáveis que melhor se correlacionam com a variável total, exceto a própria total?\n"
      ]
    },
    {
      "cell_type": "code",
      "metadata": {
        "colab": {
          "base_uri": "https://localhost:8080/",
          "height": 187
        },
        "id": "8Csig5B4iBaV",
        "outputId": "7057696b-bb86-4d99-e15d-a84ebaa0e8c9"
      },
      "source": [
        "# podemos aplicar estilo de cor na visualizaçao da correlação\n",
        "correlacao.style.background_gradient(cmap='coolwarm').set_precision(2)"
      ],
      "execution_count": 105,
      "outputs": [
        {
          "output_type": "execute_result",
          "data": {
            "text/html": [
              "<style  type=\"text/css\" >\n",
              "#T_fc1734e2_e011_11eb_b57c_0242ac1c0002row0_col0,#T_fc1734e2_e011_11eb_b57c_0242ac1c0002row1_col1,#T_fc1734e2_e011_11eb_b57c_0242ac1c0002row2_col2,#T_fc1734e2_e011_11eb_b57c_0242ac1c0002row3_col3,#T_fc1734e2_e011_11eb_b57c_0242ac1c0002row4_col4,#T_fc1734e2_e011_11eb_b57c_0242ac1c0002row4_col6,#T_fc1734e2_e011_11eb_b57c_0242ac1c0002row5_col5,#T_fc1734e2_e011_11eb_b57c_0242ac1c0002row6_col4,#T_fc1734e2_e011_11eb_b57c_0242ac1c0002row6_col6{\n",
              "            background-color:  #b40426;\n",
              "            color:  #f1f1f1;\n",
              "        }#T_fc1734e2_e011_11eb_b57c_0242ac1c0002row0_col1,#T_fc1734e2_e011_11eb_b57c_0242ac1c0002row1_col0{\n",
              "            background-color:  #b70d28;\n",
              "            color:  #f1f1f1;\n",
              "        }#T_fc1734e2_e011_11eb_b57c_0242ac1c0002row0_col2,#T_fc1734e2_e011_11eb_b57c_0242ac1c0002row1_col2{\n",
              "            background-color:  #3f53c6;\n",
              "            color:  #f1f1f1;\n",
              "        }#T_fc1734e2_e011_11eb_b57c_0242ac1c0002row0_col3,#T_fc1734e2_e011_11eb_b57c_0242ac1c0002row0_col5,#T_fc1734e2_e011_11eb_b57c_0242ac1c0002row1_col3,#T_fc1734e2_e011_11eb_b57c_0242ac1c0002row1_col5,#T_fc1734e2_e011_11eb_b57c_0242ac1c0002row2_col5,#T_fc1734e2_e011_11eb_b57c_0242ac1c0002row3_col0,#T_fc1734e2_e011_11eb_b57c_0242ac1c0002row3_col1,#T_fc1734e2_e011_11eb_b57c_0242ac1c0002row3_col2,#T_fc1734e2_e011_11eb_b57c_0242ac1c0002row3_col4,#T_fc1734e2_e011_11eb_b57c_0242ac1c0002row3_col5,#T_fc1734e2_e011_11eb_b57c_0242ac1c0002row3_col6,#T_fc1734e2_e011_11eb_b57c_0242ac1c0002row4_col5,#T_fc1734e2_e011_11eb_b57c_0242ac1c0002row5_col4,#T_fc1734e2_e011_11eb_b57c_0242ac1c0002row5_col6,#T_fc1734e2_e011_11eb_b57c_0242ac1c0002row6_col5{\n",
              "            background-color:  #3b4cc0;\n",
              "            color:  #f1f1f1;\n",
              "        }#T_fc1734e2_e011_11eb_b57c_0242ac1c0002row0_col4,#T_fc1734e2_e011_11eb_b57c_0242ac1c0002row0_col6,#T_fc1734e2_e011_11eb_b57c_0242ac1c0002row1_col4,#T_fc1734e2_e011_11eb_b57c_0242ac1c0002row1_col6,#T_fc1734e2_e011_11eb_b57c_0242ac1c0002row2_col3{\n",
              "            background-color:  #3d50c3;\n",
              "            color:  #f1f1f1;\n",
              "        }#T_fc1734e2_e011_11eb_b57c_0242ac1c0002row2_col0,#T_fc1734e2_e011_11eb_b57c_0242ac1c0002row2_col1{\n",
              "            background-color:  #4358cb;\n",
              "            color:  #f1f1f1;\n",
              "        }#T_fc1734e2_e011_11eb_b57c_0242ac1c0002row2_col4,#T_fc1734e2_e011_11eb_b57c_0242ac1c0002row2_col6{\n",
              "            background-color:  #4c66d6;\n",
              "            color:  #000000;\n",
              "        }#T_fc1734e2_e011_11eb_b57c_0242ac1c0002row4_col0,#T_fc1734e2_e011_11eb_b57c_0242ac1c0002row4_col1,#T_fc1734e2_e011_11eb_b57c_0242ac1c0002row6_col0,#T_fc1734e2_e011_11eb_b57c_0242ac1c0002row6_col1{\n",
              "            background-color:  #4b64d5;\n",
              "            color:  #f1f1f1;\n",
              "        }#T_fc1734e2_e011_11eb_b57c_0242ac1c0002row4_col2,#T_fc1734e2_e011_11eb_b57c_0242ac1c0002row6_col2{\n",
              "            background-color:  #5875e1;\n",
              "            color:  #000000;\n",
              "        }#T_fc1734e2_e011_11eb_b57c_0242ac1c0002row4_col3,#T_fc1734e2_e011_11eb_b57c_0242ac1c0002row5_col0,#T_fc1734e2_e011_11eb_b57c_0242ac1c0002row5_col1,#T_fc1734e2_e011_11eb_b57c_0242ac1c0002row5_col3,#T_fc1734e2_e011_11eb_b57c_0242ac1c0002row6_col3{\n",
              "            background-color:  #4961d2;\n",
              "            color:  #f1f1f1;\n",
              "        }#T_fc1734e2_e011_11eb_b57c_0242ac1c0002row5_col2{\n",
              "            background-color:  #455cce;\n",
              "            color:  #f1f1f1;\n",
              "        }</style><table id=\"T_fc1734e2_e011_11eb_b57c_0242ac1c0002\" ><thead>    <tr>        <th class=\"blank level0\" ></th>        <th class=\"col_heading level0 col0\" >id_venda</th>        <th class=\"col_heading level0 col1\" >mes</th>        <th class=\"col_heading level0 col2\" >id_produto</th>        <th class=\"col_heading level0 col3\" >id_vendedor</th>        <th class=\"col_heading level0 col4\" >qtd</th>        <th class=\"col_heading level0 col5\" >valor</th>        <th class=\"col_heading level0 col6\" >total</th>    </tr></thead><tbody>\n",
              "                <tr>\n",
              "                        <th id=\"T_fc1734e2_e011_11eb_b57c_0242ac1c0002level0_row0\" class=\"row_heading level0 row0\" >id_venda</th>\n",
              "                        <td id=\"T_fc1734e2_e011_11eb_b57c_0242ac1c0002row0_col0\" class=\"data row0 col0\" >1.00</td>\n",
              "                        <td id=\"T_fc1734e2_e011_11eb_b57c_0242ac1c0002row0_col1\" class=\"data row0 col1\" >0.99</td>\n",
              "                        <td id=\"T_fc1734e2_e011_11eb_b57c_0242ac1c0002row0_col2\" class=\"data row0 col2\" >-0.02</td>\n",
              "                        <td id=\"T_fc1734e2_e011_11eb_b57c_0242ac1c0002row0_col3\" class=\"data row0 col3\" >-0.05</td>\n",
              "                        <td id=\"T_fc1734e2_e011_11eb_b57c_0242ac1c0002row0_col4\" class=\"data row0 col4\" >0.01</td>\n",
              "                        <td id=\"T_fc1734e2_e011_11eb_b57c_0242ac1c0002row0_col5\" class=\"data row0 col5\" >0.00</td>\n",
              "                        <td id=\"T_fc1734e2_e011_11eb_b57c_0242ac1c0002row0_col6\" class=\"data row0 col6\" >0.01</td>\n",
              "            </tr>\n",
              "            <tr>\n",
              "                        <th id=\"T_fc1734e2_e011_11eb_b57c_0242ac1c0002level0_row1\" class=\"row_heading level0 row1\" >mes</th>\n",
              "                        <td id=\"T_fc1734e2_e011_11eb_b57c_0242ac1c0002row1_col0\" class=\"data row1 col0\" >0.99</td>\n",
              "                        <td id=\"T_fc1734e2_e011_11eb_b57c_0242ac1c0002row1_col1\" class=\"data row1 col1\" >1.00</td>\n",
              "                        <td id=\"T_fc1734e2_e011_11eb_b57c_0242ac1c0002row1_col2\" class=\"data row1 col2\" >-0.02</td>\n",
              "                        <td id=\"T_fc1734e2_e011_11eb_b57c_0242ac1c0002row1_col3\" class=\"data row1 col3\" >-0.05</td>\n",
              "                        <td id=\"T_fc1734e2_e011_11eb_b57c_0242ac1c0002row1_col4\" class=\"data row1 col4\" >0.01</td>\n",
              "                        <td id=\"T_fc1734e2_e011_11eb_b57c_0242ac1c0002row1_col5\" class=\"data row1 col5\" >0.00</td>\n",
              "                        <td id=\"T_fc1734e2_e011_11eb_b57c_0242ac1c0002row1_col6\" class=\"data row1 col6\" >0.01</td>\n",
              "            </tr>\n",
              "            <tr>\n",
              "                        <th id=\"T_fc1734e2_e011_11eb_b57c_0242ac1c0002level0_row2\" class=\"row_heading level0 row2\" >id_produto</th>\n",
              "                        <td id=\"T_fc1734e2_e011_11eb_b57c_0242ac1c0002row2_col0\" class=\"data row2 col0\" >-0.02</td>\n",
              "                        <td id=\"T_fc1734e2_e011_11eb_b57c_0242ac1c0002row2_col1\" class=\"data row2 col1\" >-0.02</td>\n",
              "                        <td id=\"T_fc1734e2_e011_11eb_b57c_0242ac1c0002row2_col2\" class=\"data row2 col2\" >1.00</td>\n",
              "                        <td id=\"T_fc1734e2_e011_11eb_b57c_0242ac1c0002row2_col3\" class=\"data row2 col3\" >-0.04</td>\n",
              "                        <td id=\"T_fc1734e2_e011_11eb_b57c_0242ac1c0002row2_col4\" class=\"data row2 col4\" >0.06</td>\n",
              "                        <td id=\"T_fc1734e2_e011_11eb_b57c_0242ac1c0002row2_col5\" class=\"data row2 col5\" >-0.00</td>\n",
              "                        <td id=\"T_fc1734e2_e011_11eb_b57c_0242ac1c0002row2_col6\" class=\"data row2 col6\" >0.06</td>\n",
              "            </tr>\n",
              "            <tr>\n",
              "                        <th id=\"T_fc1734e2_e011_11eb_b57c_0242ac1c0002level0_row3\" class=\"row_heading level0 row3\" >id_vendedor</th>\n",
              "                        <td id=\"T_fc1734e2_e011_11eb_b57c_0242ac1c0002row3_col0\" class=\"data row3 col0\" >-0.05</td>\n",
              "                        <td id=\"T_fc1734e2_e011_11eb_b57c_0242ac1c0002row3_col1\" class=\"data row3 col1\" >-0.05</td>\n",
              "                        <td id=\"T_fc1734e2_e011_11eb_b57c_0242ac1c0002row3_col2\" class=\"data row3 col2\" >-0.04</td>\n",
              "                        <td id=\"T_fc1734e2_e011_11eb_b57c_0242ac1c0002row3_col3\" class=\"data row3 col3\" >1.00</td>\n",
              "                        <td id=\"T_fc1734e2_e011_11eb_b57c_0242ac1c0002row3_col4\" class=\"data row3 col4\" >0.00</td>\n",
              "                        <td id=\"T_fc1734e2_e011_11eb_b57c_0242ac1c0002row3_col5\" class=\"data row3 col5\" >0.00</td>\n",
              "                        <td id=\"T_fc1734e2_e011_11eb_b57c_0242ac1c0002row3_col6\" class=\"data row3 col6\" >0.00</td>\n",
              "            </tr>\n",
              "            <tr>\n",
              "                        <th id=\"T_fc1734e2_e011_11eb_b57c_0242ac1c0002level0_row4\" class=\"row_heading level0 row4\" >qtd</th>\n",
              "                        <td id=\"T_fc1734e2_e011_11eb_b57c_0242ac1c0002row4_col0\" class=\"data row4 col0\" >0.01</td>\n",
              "                        <td id=\"T_fc1734e2_e011_11eb_b57c_0242ac1c0002row4_col1\" class=\"data row4 col1\" >0.01</td>\n",
              "                        <td id=\"T_fc1734e2_e011_11eb_b57c_0242ac1c0002row4_col2\" class=\"data row4 col2\" >0.06</td>\n",
              "                        <td id=\"T_fc1734e2_e011_11eb_b57c_0242ac1c0002row4_col3\" class=\"data row4 col3\" >0.00</td>\n",
              "                        <td id=\"T_fc1734e2_e011_11eb_b57c_0242ac1c0002row4_col4\" class=\"data row4 col4\" >1.00</td>\n",
              "                        <td id=\"T_fc1734e2_e011_11eb_b57c_0242ac1c0002row4_col5\" class=\"data row4 col5\" >-0.00</td>\n",
              "                        <td id=\"T_fc1734e2_e011_11eb_b57c_0242ac1c0002row4_col6\" class=\"data row4 col6\" >1.00</td>\n",
              "            </tr>\n",
              "            <tr>\n",
              "                        <th id=\"T_fc1734e2_e011_11eb_b57c_0242ac1c0002level0_row5\" class=\"row_heading level0 row5\" >valor</th>\n",
              "                        <td id=\"T_fc1734e2_e011_11eb_b57c_0242ac1c0002row5_col0\" class=\"data row5 col0\" >0.00</td>\n",
              "                        <td id=\"T_fc1734e2_e011_11eb_b57c_0242ac1c0002row5_col1\" class=\"data row5 col1\" >0.00</td>\n",
              "                        <td id=\"T_fc1734e2_e011_11eb_b57c_0242ac1c0002row5_col2\" class=\"data row5 col2\" >-0.00</td>\n",
              "                        <td id=\"T_fc1734e2_e011_11eb_b57c_0242ac1c0002row5_col3\" class=\"data row5 col3\" >0.00</td>\n",
              "                        <td id=\"T_fc1734e2_e011_11eb_b57c_0242ac1c0002row5_col4\" class=\"data row5 col4\" >-0.00</td>\n",
              "                        <td id=\"T_fc1734e2_e011_11eb_b57c_0242ac1c0002row5_col5\" class=\"data row5 col5\" >1.00</td>\n",
              "                        <td id=\"T_fc1734e2_e011_11eb_b57c_0242ac1c0002row5_col6\" class=\"data row5 col6\" >0.00</td>\n",
              "            </tr>\n",
              "            <tr>\n",
              "                        <th id=\"T_fc1734e2_e011_11eb_b57c_0242ac1c0002level0_row6\" class=\"row_heading level0 row6\" >total</th>\n",
              "                        <td id=\"T_fc1734e2_e011_11eb_b57c_0242ac1c0002row6_col0\" class=\"data row6 col0\" >0.01</td>\n",
              "                        <td id=\"T_fc1734e2_e011_11eb_b57c_0242ac1c0002row6_col1\" class=\"data row6 col1\" >0.01</td>\n",
              "                        <td id=\"T_fc1734e2_e011_11eb_b57c_0242ac1c0002row6_col2\" class=\"data row6 col2\" >0.06</td>\n",
              "                        <td id=\"T_fc1734e2_e011_11eb_b57c_0242ac1c0002row6_col3\" class=\"data row6 col3\" >0.00</td>\n",
              "                        <td id=\"T_fc1734e2_e011_11eb_b57c_0242ac1c0002row6_col4\" class=\"data row6 col4\" >1.00</td>\n",
              "                        <td id=\"T_fc1734e2_e011_11eb_b57c_0242ac1c0002row6_col5\" class=\"data row6 col5\" >0.00</td>\n",
              "                        <td id=\"T_fc1734e2_e011_11eb_b57c_0242ac1c0002row6_col6\" class=\"data row6 col6\" >1.00</td>\n",
              "            </tr>\n",
              "    </tbody></table>"
            ],
            "text/plain": [
              "<pandas.io.formats.style.Styler at 0x7f343fbae090>"
            ]
          },
          "metadata": {
            "tags": []
          },
          "execution_count": 105
        }
      ]
    },
    {
      "cell_type": "markdown",
      "metadata": {
        "id": "5SrVK26ymmv-"
      },
      "source": [
        "# **Visualização gráfica dos dados**\n",
        "\n",
        "Na maioria das vezes, uma imagem ajuda explicar de forma mais fácil. Existem diversas bibliotecas no python que facilitam essa visualização mas o pandas também tem o seu recurso de plot."
      ]
    },
    {
      "cell_type": "markdown",
      "metadata": {
        "id": "5P7u36D7n73P"
      },
      "source": [
        "Vamos utilizar o dataframe vendas como exemplo e as bibliotecas plotly e seaborn para criar os gráficos. "
      ]
    },
    {
      "cell_type": "markdown",
      "metadata": {
        "id": "MUIDrwuyFwUX"
      },
      "source": [
        "**Plotly**"
      ]
    },
    {
      "cell_type": "code",
      "metadata": {
        "id": "cgEQjr_2m6OE"
      },
      "source": [
        "import plotly.graph_objects as go"
      ],
      "execution_count": 106,
      "outputs": []
    },
    {
      "cell_type": "code",
      "metadata": {
        "colab": {
          "base_uri": "https://localhost:8080/",
          "height": 390
        },
        "id": "7PlVRui5o4Ji",
        "outputId": "b72979f2-e429-4cf8-b48b-21a1a7cb7f77"
      },
      "source": [
        "vg = vendas[['id_produto', 'total']].groupby('id_produto').sum()\n",
        "vg"
      ],
      "execution_count": 107,
      "outputs": [
        {
          "output_type": "execute_result",
          "data": {
            "text/html": [
              "<div>\n",
              "<style scoped>\n",
              "    .dataframe tbody tr th:only-of-type {\n",
              "        vertical-align: middle;\n",
              "    }\n",
              "\n",
              "    .dataframe tbody tr th {\n",
              "        vertical-align: top;\n",
              "    }\n",
              "\n",
              "    .dataframe thead th {\n",
              "        text-align: right;\n",
              "    }\n",
              "</style>\n",
              "<table border=\"1\" class=\"dataframe\">\n",
              "  <thead>\n",
              "    <tr style=\"text-align: right;\">\n",
              "      <th></th>\n",
              "      <th>total</th>\n",
              "    </tr>\n",
              "    <tr>\n",
              "      <th>id_produto</th>\n",
              "      <th></th>\n",
              "    </tr>\n",
              "  </thead>\n",
              "  <tbody>\n",
              "    <tr>\n",
              "      <th>0.0</th>\n",
              "      <td>1247.73</td>\n",
              "    </tr>\n",
              "    <tr>\n",
              "      <th>1.0</th>\n",
              "      <td>1162.16</td>\n",
              "    </tr>\n",
              "    <tr>\n",
              "      <th>2.0</th>\n",
              "      <td>1180.07</td>\n",
              "    </tr>\n",
              "    <tr>\n",
              "      <th>3.0</th>\n",
              "      <td>1271.61</td>\n",
              "    </tr>\n",
              "    <tr>\n",
              "      <th>4.0</th>\n",
              "      <td>1154.20</td>\n",
              "    </tr>\n",
              "    <tr>\n",
              "      <th>5.0</th>\n",
              "      <td>1305.44</td>\n",
              "    </tr>\n",
              "    <tr>\n",
              "      <th>6.0</th>\n",
              "      <td>1160.17</td>\n",
              "    </tr>\n",
              "    <tr>\n",
              "      <th>7.0</th>\n",
              "      <td>1124.35</td>\n",
              "    </tr>\n",
              "    <tr>\n",
              "      <th>8.0</th>\n",
              "      <td>1194.00</td>\n",
              "    </tr>\n",
              "    <tr>\n",
              "      <th>9.0</th>\n",
              "      <td>1345.24</td>\n",
              "    </tr>\n",
              "  </tbody>\n",
              "</table>\n",
              "</div>"
            ],
            "text/plain": [
              "              total\n",
              "id_produto         \n",
              "0.0         1247.73\n",
              "1.0         1162.16\n",
              "2.0         1180.07\n",
              "3.0         1271.61\n",
              "4.0         1154.20\n",
              "5.0         1305.44\n",
              "6.0         1160.17\n",
              "7.0         1124.35\n",
              "8.0         1194.00\n",
              "9.0         1345.24"
            ]
          },
          "metadata": {
            "tags": []
          },
          "execution_count": 107
        }
      ]
    },
    {
      "cell_type": "code",
      "metadata": {
        "colab": {
          "base_uri": "https://localhost:8080/",
          "height": 542
        },
        "id": "SKYtvjN0qbJJ",
        "outputId": "8157e9d1-7ee9-4142-c1d9-f1648c9a4c2a"
      },
      "source": [
        "# acima vemos os id_produto no indice do groupby\n",
        "# como eles representam a descricao dos produtos, entao utilizarei o array produtos\n",
        "labels = produtos \n",
        "valores = vg['total']\n",
        "\n",
        "fig = go.Figure(data=[go.Pie(labels=labels, values=valores, hole=.3)])\n",
        "fig.update_layout(title_text=\"Produtos mais vendidos\")\n",
        "fig.show()"
      ],
      "execution_count": 108,
      "outputs": [
        {
          "output_type": "display_data",
          "data": {
            "text/html": [
              "<html>\n",
              "<head><meta charset=\"utf-8\" /></head>\n",
              "<body>\n",
              "    <div>\n",
              "            <script src=\"https://cdnjs.cloudflare.com/ajax/libs/mathjax/2.7.5/MathJax.js?config=TeX-AMS-MML_SVG\"></script><script type=\"text/javascript\">if (window.MathJax) {MathJax.Hub.Config({SVG: {font: \"STIX-Web\"}});}</script>\n",
              "                <script type=\"text/javascript\">window.PlotlyConfig = {MathJaxConfig: 'local'};</script>\n",
              "        <script src=\"https://cdn.plot.ly/plotly-latest.min.js\"></script>    \n",
              "            <div id=\"e06681fd-6b06-4469-bd4c-7e5c0fada0cd\" class=\"plotly-graph-div\" style=\"height:525px; width:100%;\"></div>\n",
              "            <script type=\"text/javascript\">\n",
              "                \n",
              "                    window.PLOTLYENV=window.PLOTLYENV || {};\n",
              "                    \n",
              "                if (document.getElementById(\"e06681fd-6b06-4469-bd4c-7e5c0fada0cd\")) {\n",
              "                    Plotly.newPlot(\n",
              "                        'e06681fd-6b06-4469-bd4c-7e5c0fada0cd',\n",
              "                        [{\"hole\": 0.3, \"labels\": [\"A\", \"B\", \"C\", \"D\", \"E\", \"F\", \"G\", \"H\", \"I\", \"J\"], \"type\": \"pie\", \"values\": [1247.7300000000037, 1162.160000000003, 1180.0700000000031, 1271.6100000000035, 1154.200000000003, 1305.4400000000037, 1160.170000000003, 1124.3500000000029, 1194.0000000000032, 1345.2400000000036]}],\n",
              "                        {\"template\": {\"data\": {\"bar\": [{\"error_x\": {\"color\": \"#2a3f5f\"}, \"error_y\": {\"color\": \"#2a3f5f\"}, \"marker\": {\"line\": {\"color\": \"#E5ECF6\", \"width\": 0.5}}, \"type\": \"bar\"}], \"barpolar\": [{\"marker\": {\"line\": {\"color\": \"#E5ECF6\", \"width\": 0.5}}, \"type\": \"barpolar\"}], \"carpet\": [{\"aaxis\": {\"endlinecolor\": \"#2a3f5f\", \"gridcolor\": \"white\", \"linecolor\": \"white\", \"minorgridcolor\": \"white\", \"startlinecolor\": \"#2a3f5f\"}, \"baxis\": {\"endlinecolor\": \"#2a3f5f\", \"gridcolor\": \"white\", \"linecolor\": \"white\", \"minorgridcolor\": \"white\", \"startlinecolor\": \"#2a3f5f\"}, \"type\": \"carpet\"}], \"choropleth\": [{\"colorbar\": {\"outlinewidth\": 0, \"ticks\": \"\"}, \"type\": \"choropleth\"}], \"contour\": [{\"colorbar\": {\"outlinewidth\": 0, \"ticks\": \"\"}, \"colorscale\": [[0.0, \"#0d0887\"], [0.1111111111111111, \"#46039f\"], [0.2222222222222222, \"#7201a8\"], [0.3333333333333333, \"#9c179e\"], [0.4444444444444444, \"#bd3786\"], [0.5555555555555556, \"#d8576b\"], [0.6666666666666666, \"#ed7953\"], [0.7777777777777778, \"#fb9f3a\"], [0.8888888888888888, \"#fdca26\"], [1.0, \"#f0f921\"]], \"type\": \"contour\"}], \"contourcarpet\": [{\"colorbar\": {\"outlinewidth\": 0, \"ticks\": \"\"}, \"type\": \"contourcarpet\"}], \"heatmap\": [{\"colorbar\": {\"outlinewidth\": 0, \"ticks\": \"\"}, \"colorscale\": [[0.0, \"#0d0887\"], [0.1111111111111111, \"#46039f\"], [0.2222222222222222, \"#7201a8\"], [0.3333333333333333, \"#9c179e\"], [0.4444444444444444, \"#bd3786\"], [0.5555555555555556, \"#d8576b\"], [0.6666666666666666, \"#ed7953\"], [0.7777777777777778, \"#fb9f3a\"], [0.8888888888888888, \"#fdca26\"], [1.0, \"#f0f921\"]], \"type\": \"heatmap\"}], \"heatmapgl\": [{\"colorbar\": {\"outlinewidth\": 0, \"ticks\": \"\"}, \"colorscale\": [[0.0, \"#0d0887\"], [0.1111111111111111, \"#46039f\"], [0.2222222222222222, \"#7201a8\"], [0.3333333333333333, \"#9c179e\"], [0.4444444444444444, \"#bd3786\"], [0.5555555555555556, \"#d8576b\"], [0.6666666666666666, \"#ed7953\"], [0.7777777777777778, \"#fb9f3a\"], [0.8888888888888888, \"#fdca26\"], [1.0, \"#f0f921\"]], \"type\": \"heatmapgl\"}], \"histogram\": [{\"marker\": {\"colorbar\": {\"outlinewidth\": 0, \"ticks\": \"\"}}, \"type\": \"histogram\"}], \"histogram2d\": [{\"colorbar\": {\"outlinewidth\": 0, \"ticks\": \"\"}, \"colorscale\": [[0.0, \"#0d0887\"], [0.1111111111111111, \"#46039f\"], [0.2222222222222222, \"#7201a8\"], [0.3333333333333333, \"#9c179e\"], [0.4444444444444444, \"#bd3786\"], [0.5555555555555556, \"#d8576b\"], [0.6666666666666666, \"#ed7953\"], [0.7777777777777778, \"#fb9f3a\"], [0.8888888888888888, \"#fdca26\"], [1.0, \"#f0f921\"]], \"type\": \"histogram2d\"}], \"histogram2dcontour\": [{\"colorbar\": {\"outlinewidth\": 0, \"ticks\": \"\"}, \"colorscale\": [[0.0, \"#0d0887\"], [0.1111111111111111, \"#46039f\"], [0.2222222222222222, \"#7201a8\"], [0.3333333333333333, \"#9c179e\"], [0.4444444444444444, \"#bd3786\"], [0.5555555555555556, \"#d8576b\"], [0.6666666666666666, \"#ed7953\"], [0.7777777777777778, \"#fb9f3a\"], [0.8888888888888888, \"#fdca26\"], [1.0, \"#f0f921\"]], \"type\": \"histogram2dcontour\"}], \"mesh3d\": [{\"colorbar\": {\"outlinewidth\": 0, \"ticks\": \"\"}, \"type\": \"mesh3d\"}], \"parcoords\": [{\"line\": {\"colorbar\": {\"outlinewidth\": 0, \"ticks\": \"\"}}, \"type\": \"parcoords\"}], \"pie\": [{\"automargin\": true, \"type\": \"pie\"}], \"scatter\": [{\"marker\": {\"colorbar\": {\"outlinewidth\": 0, \"ticks\": \"\"}}, \"type\": \"scatter\"}], \"scatter3d\": [{\"line\": {\"colorbar\": {\"outlinewidth\": 0, \"ticks\": \"\"}}, \"marker\": {\"colorbar\": {\"outlinewidth\": 0, \"ticks\": \"\"}}, \"type\": \"scatter3d\"}], \"scattercarpet\": [{\"marker\": {\"colorbar\": {\"outlinewidth\": 0, \"ticks\": \"\"}}, \"type\": \"scattercarpet\"}], \"scattergeo\": [{\"marker\": {\"colorbar\": {\"outlinewidth\": 0, \"ticks\": \"\"}}, \"type\": \"scattergeo\"}], \"scattergl\": [{\"marker\": {\"colorbar\": {\"outlinewidth\": 0, \"ticks\": \"\"}}, \"type\": \"scattergl\"}], \"scattermapbox\": [{\"marker\": {\"colorbar\": {\"outlinewidth\": 0, \"ticks\": \"\"}}, \"type\": \"scattermapbox\"}], \"scatterpolar\": [{\"marker\": {\"colorbar\": {\"outlinewidth\": 0, \"ticks\": \"\"}}, \"type\": \"scatterpolar\"}], \"scatterpolargl\": [{\"marker\": {\"colorbar\": {\"outlinewidth\": 0, \"ticks\": \"\"}}, \"type\": \"scatterpolargl\"}], \"scatterternary\": [{\"marker\": {\"colorbar\": {\"outlinewidth\": 0, \"ticks\": \"\"}}, \"type\": \"scatterternary\"}], \"surface\": [{\"colorbar\": {\"outlinewidth\": 0, \"ticks\": \"\"}, \"colorscale\": [[0.0, \"#0d0887\"], [0.1111111111111111, \"#46039f\"], [0.2222222222222222, \"#7201a8\"], [0.3333333333333333, \"#9c179e\"], [0.4444444444444444, \"#bd3786\"], [0.5555555555555556, \"#d8576b\"], [0.6666666666666666, \"#ed7953\"], [0.7777777777777778, \"#fb9f3a\"], [0.8888888888888888, \"#fdca26\"], [1.0, \"#f0f921\"]], \"type\": \"surface\"}], \"table\": [{\"cells\": {\"fill\": {\"color\": \"#EBF0F8\"}, \"line\": {\"color\": \"white\"}}, \"header\": {\"fill\": {\"color\": \"#C8D4E3\"}, \"line\": {\"color\": \"white\"}}, \"type\": \"table\"}]}, \"layout\": {\"annotationdefaults\": {\"arrowcolor\": \"#2a3f5f\", \"arrowhead\": 0, \"arrowwidth\": 1}, \"coloraxis\": {\"colorbar\": {\"outlinewidth\": 0, \"ticks\": \"\"}}, \"colorscale\": {\"diverging\": [[0, \"#8e0152\"], [0.1, \"#c51b7d\"], [0.2, \"#de77ae\"], [0.3, \"#f1b6da\"], [0.4, \"#fde0ef\"], [0.5, \"#f7f7f7\"], [0.6, \"#e6f5d0\"], [0.7, \"#b8e186\"], [0.8, \"#7fbc41\"], [0.9, \"#4d9221\"], [1, \"#276419\"]], \"sequential\": [[0.0, \"#0d0887\"], [0.1111111111111111, \"#46039f\"], [0.2222222222222222, \"#7201a8\"], [0.3333333333333333, \"#9c179e\"], [0.4444444444444444, \"#bd3786\"], [0.5555555555555556, \"#d8576b\"], [0.6666666666666666, \"#ed7953\"], [0.7777777777777778, \"#fb9f3a\"], [0.8888888888888888, \"#fdca26\"], [1.0, \"#f0f921\"]], \"sequentialminus\": [[0.0, \"#0d0887\"], [0.1111111111111111, \"#46039f\"], [0.2222222222222222, \"#7201a8\"], [0.3333333333333333, \"#9c179e\"], [0.4444444444444444, \"#bd3786\"], [0.5555555555555556, \"#d8576b\"], [0.6666666666666666, \"#ed7953\"], [0.7777777777777778, \"#fb9f3a\"], [0.8888888888888888, \"#fdca26\"], [1.0, \"#f0f921\"]]}, \"colorway\": [\"#636efa\", \"#EF553B\", \"#00cc96\", \"#ab63fa\", \"#FFA15A\", \"#19d3f3\", \"#FF6692\", \"#B6E880\", \"#FF97FF\", \"#FECB52\"], \"font\": {\"color\": \"#2a3f5f\"}, \"geo\": {\"bgcolor\": \"white\", \"lakecolor\": \"white\", \"landcolor\": \"#E5ECF6\", \"showlakes\": true, \"showland\": true, \"subunitcolor\": \"white\"}, \"hoverlabel\": {\"align\": \"left\"}, \"hovermode\": \"closest\", \"mapbox\": {\"style\": \"light\"}, \"paper_bgcolor\": \"white\", \"plot_bgcolor\": \"#E5ECF6\", \"polar\": {\"angularaxis\": {\"gridcolor\": \"white\", \"linecolor\": \"white\", \"ticks\": \"\"}, \"bgcolor\": \"#E5ECF6\", \"radialaxis\": {\"gridcolor\": \"white\", \"linecolor\": \"white\", \"ticks\": \"\"}}, \"scene\": {\"xaxis\": {\"backgroundcolor\": \"#E5ECF6\", \"gridcolor\": \"white\", \"gridwidth\": 2, \"linecolor\": \"white\", \"showbackground\": true, \"ticks\": \"\", \"zerolinecolor\": \"white\"}, \"yaxis\": {\"backgroundcolor\": \"#E5ECF6\", \"gridcolor\": \"white\", \"gridwidth\": 2, \"linecolor\": \"white\", \"showbackground\": true, \"ticks\": \"\", \"zerolinecolor\": \"white\"}, \"zaxis\": {\"backgroundcolor\": \"#E5ECF6\", \"gridcolor\": \"white\", \"gridwidth\": 2, \"linecolor\": \"white\", \"showbackground\": true, \"ticks\": \"\", \"zerolinecolor\": \"white\"}}, \"shapedefaults\": {\"line\": {\"color\": \"#2a3f5f\"}}, \"ternary\": {\"aaxis\": {\"gridcolor\": \"white\", \"linecolor\": \"white\", \"ticks\": \"\"}, \"baxis\": {\"gridcolor\": \"white\", \"linecolor\": \"white\", \"ticks\": \"\"}, \"bgcolor\": \"#E5ECF6\", \"caxis\": {\"gridcolor\": \"white\", \"linecolor\": \"white\", \"ticks\": \"\"}}, \"title\": {\"x\": 0.05}, \"xaxis\": {\"automargin\": true, \"gridcolor\": \"white\", \"linecolor\": \"white\", \"ticks\": \"\", \"title\": {\"standoff\": 15}, \"zerolinecolor\": \"white\", \"zerolinewidth\": 2}, \"yaxis\": {\"automargin\": true, \"gridcolor\": \"white\", \"linecolor\": \"white\", \"ticks\": \"\", \"title\": {\"standoff\": 15}, \"zerolinecolor\": \"white\", \"zerolinewidth\": 2}}}, \"title\": {\"text\": \"Produtos mais vendidos\"}},\n",
              "                        {\"responsive\": true}\n",
              "                    ).then(function(){\n",
              "                            \n",
              "var gd = document.getElementById('e06681fd-6b06-4469-bd4c-7e5c0fada0cd');\n",
              "var x = new MutationObserver(function (mutations, observer) {{\n",
              "        var display = window.getComputedStyle(gd).display;\n",
              "        if (!display || display === 'none') {{\n",
              "            console.log([gd, 'removed!']);\n",
              "            Plotly.purge(gd);\n",
              "            observer.disconnect();\n",
              "        }}\n",
              "}});\n",
              "\n",
              "// Listen for the removal of the full notebook cells\n",
              "var notebookContainer = gd.closest('#notebook-container');\n",
              "if (notebookContainer) {{\n",
              "    x.observe(notebookContainer, {childList: true});\n",
              "}}\n",
              "\n",
              "// Listen for the clearing of the current output cell\n",
              "var outputEl = gd.closest('.output');\n",
              "if (outputEl) {{\n",
              "    x.observe(outputEl, {childList: true});\n",
              "}}\n",
              "\n",
              "                        })\n",
              "                };\n",
              "                \n",
              "            </script>\n",
              "        </div>\n",
              "</body>\n",
              "</html>"
            ]
          },
          "metadata": {
            "tags": []
          }
        }
      ]
    },
    {
      "cell_type": "code",
      "metadata": {
        "colab": {
          "base_uri": "https://localhost:8080/",
          "height": 542
        },
        "id": "aUNLjaNMrSjt",
        "outputId": "0ef0d487-08da-49f1-df20-95c87e39a072"
      },
      "source": [
        "# agora vamos ver o total vendido mes a mes\n",
        "vg = vendas[['mes', 'total']].groupby('mes').sum()\n",
        "labels = vg.index # meses \n",
        "valores = vg['total']\n",
        "\n",
        "fig = go.Figure(data=[go.Bar(x=labels, y=valores)])\n",
        "fig.update_layout(title_text=\"Vendas por mês\", template=\"plotly_white\")\n",
        "fig.show()"
      ],
      "execution_count": 109,
      "outputs": [
        {
          "output_type": "display_data",
          "data": {
            "text/html": [
              "<html>\n",
              "<head><meta charset=\"utf-8\" /></head>\n",
              "<body>\n",
              "    <div>\n",
              "            <script src=\"https://cdnjs.cloudflare.com/ajax/libs/mathjax/2.7.5/MathJax.js?config=TeX-AMS-MML_SVG\"></script><script type=\"text/javascript\">if (window.MathJax) {MathJax.Hub.Config({SVG: {font: \"STIX-Web\"}});}</script>\n",
              "                <script type=\"text/javascript\">window.PlotlyConfig = {MathJaxConfig: 'local'};</script>\n",
              "        <script src=\"https://cdn.plot.ly/plotly-latest.min.js\"></script>    \n",
              "            <div id=\"f1ba7314-6abb-4643-9044-a870b7feb9ed\" class=\"plotly-graph-div\" style=\"height:525px; width:100%;\"></div>\n",
              "            <script type=\"text/javascript\">\n",
              "                \n",
              "                    window.PLOTLYENV=window.PLOTLYENV || {};\n",
              "                    \n",
              "                if (document.getElementById(\"f1ba7314-6abb-4643-9044-a870b7feb9ed\")) {\n",
              "                    Plotly.newPlot(\n",
              "                        'f1ba7314-6abb-4643-9044-a870b7feb9ed',\n",
              "                        [{\"type\": \"bar\", \"x\": [1.0, 2.0, 3.0, 4.0, 5.0, 6.0, 7.0, 8.0, 9.0, 10.0, 11.0, 12.0], \"y\": [624.8600000000006, 1470.6100000000042, 656.7000000000008, 772.1200000000011, 1667.6200000000053, 1426.8300000000042, 320.39, 1576.0800000000052, 1683.5400000000054, 1152.210000000003, 429.84, 364.16999999999996]}],\n",
              "                        {\"template\": {\"data\": {\"bar\": [{\"error_x\": {\"color\": \"#2a3f5f\"}, \"error_y\": {\"color\": \"#2a3f5f\"}, \"marker\": {\"line\": {\"color\": \"white\", \"width\": 0.5}}, \"type\": \"bar\"}], \"barpolar\": [{\"marker\": {\"line\": {\"color\": \"white\", \"width\": 0.5}}, \"type\": \"barpolar\"}], \"carpet\": [{\"aaxis\": {\"endlinecolor\": \"#2a3f5f\", \"gridcolor\": \"#C8D4E3\", \"linecolor\": \"#C8D4E3\", \"minorgridcolor\": \"#C8D4E3\", \"startlinecolor\": \"#2a3f5f\"}, \"baxis\": {\"endlinecolor\": \"#2a3f5f\", \"gridcolor\": \"#C8D4E3\", \"linecolor\": \"#C8D4E3\", \"minorgridcolor\": \"#C8D4E3\", \"startlinecolor\": \"#2a3f5f\"}, \"type\": \"carpet\"}], \"choropleth\": [{\"colorbar\": {\"outlinewidth\": 0, \"ticks\": \"\"}, \"type\": \"choropleth\"}], \"contour\": [{\"colorbar\": {\"outlinewidth\": 0, \"ticks\": \"\"}, \"colorscale\": [[0.0, \"#0d0887\"], [0.1111111111111111, \"#46039f\"], [0.2222222222222222, \"#7201a8\"], [0.3333333333333333, \"#9c179e\"], [0.4444444444444444, \"#bd3786\"], [0.5555555555555556, \"#d8576b\"], [0.6666666666666666, \"#ed7953\"], [0.7777777777777778, \"#fb9f3a\"], [0.8888888888888888, \"#fdca26\"], [1.0, \"#f0f921\"]], \"type\": \"contour\"}], \"contourcarpet\": [{\"colorbar\": {\"outlinewidth\": 0, \"ticks\": \"\"}, \"type\": \"contourcarpet\"}], \"heatmap\": [{\"colorbar\": {\"outlinewidth\": 0, \"ticks\": \"\"}, \"colorscale\": [[0.0, \"#0d0887\"], [0.1111111111111111, \"#46039f\"], [0.2222222222222222, \"#7201a8\"], [0.3333333333333333, \"#9c179e\"], [0.4444444444444444, \"#bd3786\"], [0.5555555555555556, \"#d8576b\"], [0.6666666666666666, \"#ed7953\"], [0.7777777777777778, \"#fb9f3a\"], [0.8888888888888888, \"#fdca26\"], [1.0, \"#f0f921\"]], \"type\": \"heatmap\"}], \"heatmapgl\": [{\"colorbar\": {\"outlinewidth\": 0, \"ticks\": \"\"}, \"colorscale\": [[0.0, \"#0d0887\"], [0.1111111111111111, \"#46039f\"], [0.2222222222222222, \"#7201a8\"], [0.3333333333333333, \"#9c179e\"], [0.4444444444444444, \"#bd3786\"], [0.5555555555555556, \"#d8576b\"], [0.6666666666666666, \"#ed7953\"], [0.7777777777777778, \"#fb9f3a\"], [0.8888888888888888, \"#fdca26\"], [1.0, \"#f0f921\"]], \"type\": \"heatmapgl\"}], \"histogram\": [{\"marker\": {\"colorbar\": {\"outlinewidth\": 0, \"ticks\": \"\"}}, \"type\": \"histogram\"}], \"histogram2d\": [{\"colorbar\": {\"outlinewidth\": 0, \"ticks\": \"\"}, \"colorscale\": [[0.0, \"#0d0887\"], [0.1111111111111111, \"#46039f\"], [0.2222222222222222, \"#7201a8\"], [0.3333333333333333, \"#9c179e\"], [0.4444444444444444, \"#bd3786\"], [0.5555555555555556, \"#d8576b\"], [0.6666666666666666, \"#ed7953\"], [0.7777777777777778, \"#fb9f3a\"], [0.8888888888888888, \"#fdca26\"], [1.0, \"#f0f921\"]], \"type\": \"histogram2d\"}], \"histogram2dcontour\": [{\"colorbar\": {\"outlinewidth\": 0, \"ticks\": \"\"}, \"colorscale\": [[0.0, \"#0d0887\"], [0.1111111111111111, \"#46039f\"], [0.2222222222222222, \"#7201a8\"], [0.3333333333333333, \"#9c179e\"], [0.4444444444444444, \"#bd3786\"], [0.5555555555555556, \"#d8576b\"], [0.6666666666666666, \"#ed7953\"], [0.7777777777777778, \"#fb9f3a\"], [0.8888888888888888, \"#fdca26\"], [1.0, \"#f0f921\"]], \"type\": \"histogram2dcontour\"}], \"mesh3d\": [{\"colorbar\": {\"outlinewidth\": 0, \"ticks\": \"\"}, \"type\": \"mesh3d\"}], \"parcoords\": [{\"line\": {\"colorbar\": {\"outlinewidth\": 0, \"ticks\": \"\"}}, \"type\": \"parcoords\"}], \"pie\": [{\"automargin\": true, \"type\": \"pie\"}], \"scatter\": [{\"marker\": {\"colorbar\": {\"outlinewidth\": 0, \"ticks\": \"\"}}, \"type\": \"scatter\"}], \"scatter3d\": [{\"line\": {\"colorbar\": {\"outlinewidth\": 0, \"ticks\": \"\"}}, \"marker\": {\"colorbar\": {\"outlinewidth\": 0, \"ticks\": \"\"}}, \"type\": \"scatter3d\"}], \"scattercarpet\": [{\"marker\": {\"colorbar\": {\"outlinewidth\": 0, \"ticks\": \"\"}}, \"type\": \"scattercarpet\"}], \"scattergeo\": [{\"marker\": {\"colorbar\": {\"outlinewidth\": 0, \"ticks\": \"\"}}, \"type\": \"scattergeo\"}], \"scattergl\": [{\"marker\": {\"colorbar\": {\"outlinewidth\": 0, \"ticks\": \"\"}}, \"type\": \"scattergl\"}], \"scattermapbox\": [{\"marker\": {\"colorbar\": {\"outlinewidth\": 0, \"ticks\": \"\"}}, \"type\": \"scattermapbox\"}], \"scatterpolar\": [{\"marker\": {\"colorbar\": {\"outlinewidth\": 0, \"ticks\": \"\"}}, \"type\": \"scatterpolar\"}], \"scatterpolargl\": [{\"marker\": {\"colorbar\": {\"outlinewidth\": 0, \"ticks\": \"\"}}, \"type\": \"scatterpolargl\"}], \"scatterternary\": [{\"marker\": {\"colorbar\": {\"outlinewidth\": 0, \"ticks\": \"\"}}, \"type\": \"scatterternary\"}], \"surface\": [{\"colorbar\": {\"outlinewidth\": 0, \"ticks\": \"\"}, \"colorscale\": [[0.0, \"#0d0887\"], [0.1111111111111111, \"#46039f\"], [0.2222222222222222, \"#7201a8\"], [0.3333333333333333, \"#9c179e\"], [0.4444444444444444, \"#bd3786\"], [0.5555555555555556, \"#d8576b\"], [0.6666666666666666, \"#ed7953\"], [0.7777777777777778, \"#fb9f3a\"], [0.8888888888888888, \"#fdca26\"], [1.0, \"#f0f921\"]], \"type\": \"surface\"}], \"table\": [{\"cells\": {\"fill\": {\"color\": \"#EBF0F8\"}, \"line\": {\"color\": \"white\"}}, \"header\": {\"fill\": {\"color\": \"#C8D4E3\"}, \"line\": {\"color\": \"white\"}}, \"type\": \"table\"}]}, \"layout\": {\"annotationdefaults\": {\"arrowcolor\": \"#2a3f5f\", \"arrowhead\": 0, \"arrowwidth\": 1}, \"coloraxis\": {\"colorbar\": {\"outlinewidth\": 0, \"ticks\": \"\"}}, \"colorscale\": {\"diverging\": [[0, \"#8e0152\"], [0.1, \"#c51b7d\"], [0.2, \"#de77ae\"], [0.3, \"#f1b6da\"], [0.4, \"#fde0ef\"], [0.5, \"#f7f7f7\"], [0.6, \"#e6f5d0\"], [0.7, \"#b8e186\"], [0.8, \"#7fbc41\"], [0.9, \"#4d9221\"], [1, \"#276419\"]], \"sequential\": [[0.0, \"#0d0887\"], [0.1111111111111111, \"#46039f\"], [0.2222222222222222, \"#7201a8\"], [0.3333333333333333, \"#9c179e\"], [0.4444444444444444, \"#bd3786\"], [0.5555555555555556, \"#d8576b\"], [0.6666666666666666, \"#ed7953\"], [0.7777777777777778, \"#fb9f3a\"], [0.8888888888888888, \"#fdca26\"], [1.0, \"#f0f921\"]], \"sequentialminus\": [[0.0, \"#0d0887\"], [0.1111111111111111, \"#46039f\"], [0.2222222222222222, \"#7201a8\"], [0.3333333333333333, \"#9c179e\"], [0.4444444444444444, \"#bd3786\"], [0.5555555555555556, \"#d8576b\"], [0.6666666666666666, \"#ed7953\"], [0.7777777777777778, \"#fb9f3a\"], [0.8888888888888888, \"#fdca26\"], [1.0, \"#f0f921\"]]}, \"colorway\": [\"#636efa\", \"#EF553B\", \"#00cc96\", \"#ab63fa\", \"#FFA15A\", \"#19d3f3\", \"#FF6692\", \"#B6E880\", \"#FF97FF\", \"#FECB52\"], \"font\": {\"color\": \"#2a3f5f\"}, \"geo\": {\"bgcolor\": \"white\", \"lakecolor\": \"white\", \"landcolor\": \"white\", \"showlakes\": true, \"showland\": true, \"subunitcolor\": \"#C8D4E3\"}, \"hoverlabel\": {\"align\": \"left\"}, \"hovermode\": \"closest\", \"mapbox\": {\"style\": \"light\"}, \"paper_bgcolor\": \"white\", \"plot_bgcolor\": \"white\", \"polar\": {\"angularaxis\": {\"gridcolor\": \"#EBF0F8\", \"linecolor\": \"#EBF0F8\", \"ticks\": \"\"}, \"bgcolor\": \"white\", \"radialaxis\": {\"gridcolor\": \"#EBF0F8\", \"linecolor\": \"#EBF0F8\", \"ticks\": \"\"}}, \"scene\": {\"xaxis\": {\"backgroundcolor\": \"white\", \"gridcolor\": \"#DFE8F3\", \"gridwidth\": 2, \"linecolor\": \"#EBF0F8\", \"showbackground\": true, \"ticks\": \"\", \"zerolinecolor\": \"#EBF0F8\"}, \"yaxis\": {\"backgroundcolor\": \"white\", \"gridcolor\": \"#DFE8F3\", \"gridwidth\": 2, \"linecolor\": \"#EBF0F8\", \"showbackground\": true, \"ticks\": \"\", \"zerolinecolor\": \"#EBF0F8\"}, \"zaxis\": {\"backgroundcolor\": \"white\", \"gridcolor\": \"#DFE8F3\", \"gridwidth\": 2, \"linecolor\": \"#EBF0F8\", \"showbackground\": true, \"ticks\": \"\", \"zerolinecolor\": \"#EBF0F8\"}}, \"shapedefaults\": {\"line\": {\"color\": \"#2a3f5f\"}}, \"ternary\": {\"aaxis\": {\"gridcolor\": \"#DFE8F3\", \"linecolor\": \"#A2B1C6\", \"ticks\": \"\"}, \"baxis\": {\"gridcolor\": \"#DFE8F3\", \"linecolor\": \"#A2B1C6\", \"ticks\": \"\"}, \"bgcolor\": \"white\", \"caxis\": {\"gridcolor\": \"#DFE8F3\", \"linecolor\": \"#A2B1C6\", \"ticks\": \"\"}}, \"title\": {\"x\": 0.05}, \"xaxis\": {\"automargin\": true, \"gridcolor\": \"#EBF0F8\", \"linecolor\": \"#EBF0F8\", \"ticks\": \"\", \"title\": {\"standoff\": 15}, \"zerolinecolor\": \"#EBF0F8\", \"zerolinewidth\": 2}, \"yaxis\": {\"automargin\": true, \"gridcolor\": \"#EBF0F8\", \"linecolor\": \"#EBF0F8\", \"ticks\": \"\", \"title\": {\"standoff\": 15}, \"zerolinecolor\": \"#EBF0F8\", \"zerolinewidth\": 2}}}, \"title\": {\"text\": \"Vendas por m\\u00eas\"}},\n",
              "                        {\"responsive\": true}\n",
              "                    ).then(function(){\n",
              "                            \n",
              "var gd = document.getElementById('f1ba7314-6abb-4643-9044-a870b7feb9ed');\n",
              "var x = new MutationObserver(function (mutations, observer) {{\n",
              "        var display = window.getComputedStyle(gd).display;\n",
              "        if (!display || display === 'none') {{\n",
              "            console.log([gd, 'removed!']);\n",
              "            Plotly.purge(gd);\n",
              "            observer.disconnect();\n",
              "        }}\n",
              "}});\n",
              "\n",
              "// Listen for the removal of the full notebook cells\n",
              "var notebookContainer = gd.closest('#notebook-container');\n",
              "if (notebookContainer) {{\n",
              "    x.observe(notebookContainer, {childList: true});\n",
              "}}\n",
              "\n",
              "// Listen for the clearing of the current output cell\n",
              "var outputEl = gd.closest('.output');\n",
              "if (outputEl) {{\n",
              "    x.observe(outputEl, {childList: true});\n",
              "}}\n",
              "\n",
              "                        })\n",
              "                };\n",
              "                \n",
              "            </script>\n",
              "        </div>\n",
              "</body>\n",
              "</html>"
            ]
          },
          "metadata": {
            "tags": []
          }
        }
      ]
    },
    {
      "cell_type": "markdown",
      "metadata": {
        "id": "2JfWe1mFFj2x"
      },
      "source": [
        "**Seaborn**"
      ]
    },
    {
      "cell_type": "code",
      "metadata": {
        "id": "GIYVgdkiF-cD"
      },
      "source": [
        "import seaborn as sns"
      ],
      "execution_count": 110,
      "outputs": []
    },
    {
      "cell_type": "code",
      "metadata": {
        "colab": {
          "base_uri": "https://localhost:8080/"
        },
        "id": "CSmMDfUBHl9z",
        "outputId": "c592d870-5455-4935-d0df-3e0eb1cd10b8"
      },
      "source": [
        "vg = vendas[['id_vendedor', 'total']].groupby('id_vendedor').sum()\n",
        "vendedores"
      ],
      "execution_count": 111,
      "outputs": [
        {
          "output_type": "execute_result",
          "data": {
            "text/plain": [
              "['JOAO', 'MARIA', 'PEDRO', 'ANA', 'BETO']"
            ]
          },
          "metadata": {
            "tags": []
          },
          "execution_count": 111
        }
      ]
    },
    {
      "cell_type": "code",
      "metadata": {
        "colab": {
          "base_uri": "https://localhost:8080/",
          "height": 296
        },
        "id": "vukHOArtF_13",
        "outputId": "1258b16f-7b08-4530-c740-e01350468b31"
      },
      "source": [
        "sns.barplot(data=pd.DataFrame({\"x\":vendedores, \"y\":vg.values.flatten()}), x=\"x\", y=\"y\")"
      ],
      "execution_count": 112,
      "outputs": [
        {
          "output_type": "execute_result",
          "data": {
            "text/plain": [
              "<matplotlib.axes._subplots.AxesSubplot at 0x7f342dfbf150>"
            ]
          },
          "metadata": {
            "tags": []
          },
          "execution_count": 112
        },
        {
          "output_type": "display_data",
          "data": {
            "image/png": "[encoded data removed]",
            "text/plain": [
              "<Figure size 432x288 with 1 Axes>"
            ]
          },
          "metadata": {
            "tags": [],
            "needs_background": "light"
          }
        }
      ]
    },
    {
      "cell_type": "code",
      "metadata": {
        "colab": {
          "base_uri": "https://localhost:8080/",
          "height": 338
        },
        "id": "0aVaB3hrDtjX",
        "outputId": "e217cfa1-4dd4-4426-f46e-5701a6332a20"
      },
      "source": [
        "sns.heatmap(correlacao, annot=True, fmt='.2f', vmin=-1, vmax=1, \n",
        "            linewidth=0.01, linecolor='black', cmap='RdBu_r')"
      ],
      "execution_count": 113,
      "outputs": [
        {
          "output_type": "execute_result",
          "data": {
            "text/plain": [
              "<matplotlib.axes._subplots.AxesSubplot at 0x7f342df17090>"
            ]
          },
          "metadata": {
            "tags": []
          },
          "execution_count": 113
        },
        {
          "output_type": "display_data",
          "data": {
            "image/png": "[encoded data removed]",
            "text/plain": [
              "<Figure size 432x288 with 2 Axes>"
            ]
          },
          "metadata": {
            "tags": [],
            "needs_background": "light"
          }
        }
      ]
    }
  ]
}